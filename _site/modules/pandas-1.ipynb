{
 "cells": [
  {
   "cell_type": "code",
   "execution_count": 1,
   "id": "e7fdde7f-ae01-4808-a473-cbf91631437a",
   "metadata": {},
   "outputs": [],
   "source": [
    "import pandas as pd"
   ]
  },
  {
   "cell_type": "code",
   "execution_count": 2,
   "id": "df5c9e15-3fe5-482b-ac7f-3113f400dfd2",
   "metadata": {},
   "outputs": [],
   "source": [
    "co_df=pd.read_csv(\"co-census-skinny.csv\")"
   ]
  },
  {
   "cell_type": "code",
   "execution_count": 3,
   "id": "62393409-1bb2-417b-8b08-1a418f123243",
   "metadata": {},
   "outputs": [
    {
     "data": {
      "text/html": [
       "<div>\n",
       "<style scoped>\n",
       "    .dataframe tbody tr th:only-of-type {\n",
       "        vertical-align: middle;\n",
       "    }\n",
       "\n",
       "    .dataframe tbody tr th {\n",
       "        vertical-align: top;\n",
       "    }\n",
       "\n",
       "    .dataframe thead th {\n",
       "        text-align: right;\n",
       "    }\n",
       "</style>\n",
       "<table border=\"1\" class=\"dataframe\">\n",
       "  <thead>\n",
       "    <tr style=\"text-align: right;\">\n",
       "      <th></th>\n",
       "      <th>county</th>\n",
       "      <th>fips</th>\n",
       "      <th>year</th>\n",
       "      <th>population</th>\n",
       "    </tr>\n",
       "  </thead>\n",
       "  <tbody>\n",
       "    <tr>\n",
       "      <th>0</th>\n",
       "      <td>Adams</td>\n",
       "      <td>8001</td>\n",
       "      <td>1900</td>\n",
       "      <td>NaN</td>\n",
       "    </tr>\n",
       "    <tr>\n",
       "      <th>1</th>\n",
       "      <td>Alamosa</td>\n",
       "      <td>8003</td>\n",
       "      <td>1900</td>\n",
       "      <td>NaN</td>\n",
       "    </tr>\n",
       "    <tr>\n",
       "      <th>2</th>\n",
       "      <td>Arapahoe</td>\n",
       "      <td>8005</td>\n",
       "      <td>1900</td>\n",
       "      <td>153017.0</td>\n",
       "    </tr>\n",
       "    <tr>\n",
       "      <th>3</th>\n",
       "      <td>Archuleta</td>\n",
       "      <td>8007</td>\n",
       "      <td>1900</td>\n",
       "      <td>2117.0</td>\n",
       "    </tr>\n",
       "    <tr>\n",
       "      <th>4</th>\n",
       "      <td>Baca</td>\n",
       "      <td>8009</td>\n",
       "      <td>1900</td>\n",
       "      <td>759.0</td>\n",
       "    </tr>\n",
       "    <tr>\n",
       "      <th>5</th>\n",
       "      <td>Bent</td>\n",
       "      <td>8011</td>\n",
       "      <td>1900</td>\n",
       "      <td>3049.0</td>\n",
       "    </tr>\n",
       "    <tr>\n",
       "      <th>6</th>\n",
       "      <td>Boulder</td>\n",
       "      <td>8013</td>\n",
       "      <td>1900</td>\n",
       "      <td>21544.0</td>\n",
       "    </tr>\n",
       "    <tr>\n",
       "      <th>7</th>\n",
       "      <td>Chaffee</td>\n",
       "      <td>8015</td>\n",
       "      <td>1900</td>\n",
       "      <td>7085.0</td>\n",
       "    </tr>\n",
       "    <tr>\n",
       "      <th>8</th>\n",
       "      <td>Cheyenne</td>\n",
       "      <td>8017</td>\n",
       "      <td>1900</td>\n",
       "      <td>501.0</td>\n",
       "    </tr>\n",
       "    <tr>\n",
       "      <th>9</th>\n",
       "      <td>Clear Creek</td>\n",
       "      <td>8019</td>\n",
       "      <td>1900</td>\n",
       "      <td>7082.0</td>\n",
       "    </tr>\n",
       "  </tbody>\n",
       "</table>\n",
       "</div>"
      ],
      "text/plain": [
       "        county  fips  year  population\n",
       "0        Adams  8001  1900         NaN\n",
       "1      Alamosa  8003  1900         NaN\n",
       "2     Arapahoe  8005  1900    153017.0\n",
       "3    Archuleta  8007  1900      2117.0\n",
       "4         Baca  8009  1900       759.0\n",
       "5         Bent  8011  1900      3049.0\n",
       "6      Boulder  8013  1900     21544.0\n",
       "7      Chaffee  8015  1900      7085.0\n",
       "8     Cheyenne  8017  1900       501.0\n",
       "9  Clear Creek  8019  1900      7082.0"
      ]
     },
     "execution_count": 3,
     "metadata": {},
     "output_type": "execute_result"
    }
   ],
   "source": [
    "co_df.head(10)"
   ]
  },
  {
   "cell_type": "code",
   "execution_count": 4,
   "id": "42fcfc0c-aedd-4a0f-b353-30c56fb0372c",
   "metadata": {},
   "outputs": [
    {
     "data": {
      "text/html": [
       "<div>\n",
       "<style scoped>\n",
       "    .dataframe tbody tr th:only-of-type {\n",
       "        vertical-align: middle;\n",
       "    }\n",
       "\n",
       "    .dataframe tbody tr th {\n",
       "        vertical-align: top;\n",
       "    }\n",
       "\n",
       "    .dataframe thead th {\n",
       "        text-align: right;\n",
       "    }\n",
       "</style>\n",
       "<table border=\"1\" class=\"dataframe\">\n",
       "  <thead>\n",
       "    <tr style=\"text-align: right;\">\n",
       "      <th></th>\n",
       "      <th>county</th>\n",
       "      <th>fips</th>\n",
       "      <th>year</th>\n",
       "      <th>population</th>\n",
       "    </tr>\n",
       "  </thead>\n",
       "  <tbody>\n",
       "    <tr>\n",
       "      <th>118</th>\n",
       "      <td>San Juan</td>\n",
       "      <td>8111</td>\n",
       "      <td>1910</td>\n",
       "      <td>3063.0</td>\n",
       "    </tr>\n",
       "    <tr>\n",
       "      <th>122</th>\n",
       "      <td>Teller</td>\n",
       "      <td>8119</td>\n",
       "      <td>1910</td>\n",
       "      <td>14351.0</td>\n",
       "    </tr>\n",
       "    <tr>\n",
       "      <th>288</th>\n",
       "      <td>Lincoln</td>\n",
       "      <td>8073</td>\n",
       "      <td>1940</td>\n",
       "      <td>5882.0</td>\n",
       "    </tr>\n",
       "    <tr>\n",
       "      <th>103</th>\n",
       "      <td>Moffat</td>\n",
       "      <td>8081</td>\n",
       "      <td>1910</td>\n",
       "      <td>NaN</td>\n",
       "    </tr>\n",
       "    <tr>\n",
       "      <th>230</th>\n",
       "      <td>Montezuma</td>\n",
       "      <td>8083</td>\n",
       "      <td>1930</td>\n",
       "      <td>7798.0</td>\n",
       "    </tr>\n",
       "    <tr>\n",
       "      <th>350</th>\n",
       "      <td>Las Animas</td>\n",
       "      <td>8071</td>\n",
       "      <td>1950</td>\n",
       "      <td>25902.0</td>\n",
       "    </tr>\n",
       "    <tr>\n",
       "      <th>24</th>\n",
       "      <td>Grand</td>\n",
       "      <td>8049</td>\n",
       "      <td>1900</td>\n",
       "      <td>741.0</td>\n",
       "    </tr>\n",
       "    <tr>\n",
       "      <th>86</th>\n",
       "      <td>Gilpin</td>\n",
       "      <td>8047</td>\n",
       "      <td>1910</td>\n",
       "      <td>4131.0</td>\n",
       "    </tr>\n",
       "    <tr>\n",
       "      <th>285</th>\n",
       "      <td>La Plata</td>\n",
       "      <td>8067</td>\n",
       "      <td>1940</td>\n",
       "      <td>15494.0</td>\n",
       "    </tr>\n",
       "    <tr>\n",
       "      <th>91</th>\n",
       "      <td>Jackson</td>\n",
       "      <td>8057</td>\n",
       "      <td>1910</td>\n",
       "      <td>1013.0</td>\n",
       "    </tr>\n",
       "  </tbody>\n",
       "</table>\n",
       "</div>"
      ],
      "text/plain": [
       "         county  fips  year  population\n",
       "118    San Juan  8111  1910      3063.0\n",
       "122      Teller  8119  1910     14351.0\n",
       "288     Lincoln  8073  1940      5882.0\n",
       "103      Moffat  8081  1910         NaN\n",
       "230   Montezuma  8083  1930      7798.0\n",
       "350  Las Animas  8071  1950     25902.0\n",
       "24        Grand  8049  1900       741.0\n",
       "86       Gilpin  8047  1910      4131.0\n",
       "285    La Plata  8067  1940     15494.0\n",
       "91      Jackson  8057  1910      1013.0"
      ]
     },
     "execution_count": 4,
     "metadata": {},
     "output_type": "execute_result"
    }
   ],
   "source": [
    "co_df.sample(10)"
   ]
  },
  {
   "cell_type": "code",
   "execution_count": null,
   "id": "d103282a-8b51-49b3-afd5-a02954f138eb",
   "metadata": {},
   "outputs": [],
   "source": []
  },
  {
   "cell_type": "code",
   "execution_count": 5,
   "id": "43385e7e-a2aa-4267-bab0-cc531540f7db",
   "metadata": {},
   "outputs": [],
   "source": [
    "co_df_1940=co_df[co_df['year']==1940]"
   ]
  },
  {
   "cell_type": "code",
   "execution_count": 6,
   "id": "9a3e3115-bb01-4685-97fd-088625f5765b",
   "metadata": {},
   "outputs": [
    {
     "data": {
      "text/plain": [
       "322412.0"
      ]
     },
     "execution_count": 6,
     "metadata": {},
     "output_type": "execute_result"
    }
   ],
   "source": [
    "max(co_df_1940['population'])"
   ]
  },
  {
   "cell_type": "code",
   "execution_count": 7,
   "id": "abbaca69-2e65-4bef-9c8f-a9e420ee6c1d",
   "metadata": {
    "tags": []
   },
   "outputs": [
    {
     "data": {
      "text/html": [
       "<div>\n",
       "<style scoped>\n",
       "    .dataframe tbody tr th:only-of-type {\n",
       "        vertical-align: middle;\n",
       "    }\n",
       "\n",
       "    .dataframe tbody tr th {\n",
       "        vertical-align: top;\n",
       "    }\n",
       "\n",
       "    .dataframe thead th {\n",
       "        text-align: right;\n",
       "    }\n",
       "</style>\n",
       "<table border=\"1\" class=\"dataframe\">\n",
       "  <thead>\n",
       "    <tr style=\"text-align: right;\">\n",
       "      <th></th>\n",
       "      <th>county</th>\n",
       "      <th>fips</th>\n",
       "      <th>year</th>\n",
       "      <th>population</th>\n",
       "    </tr>\n",
       "  </thead>\n",
       "  <tbody>\n",
       "    <tr>\n",
       "      <th>267</th>\n",
       "      <td>Denver</td>\n",
       "      <td>8031</td>\n",
       "      <td>1940</td>\n",
       "      <td>322412.0</td>\n",
       "    </tr>\n",
       "  </tbody>\n",
       "</table>\n",
       "</div>"
      ],
      "text/plain": [
       "     county  fips  year  population\n",
       "267  Denver  8031  1940    322412.0"
      ]
     },
     "execution_count": 7,
     "metadata": {},
     "output_type": "execute_result"
    }
   ],
   "source": [
    "co_df_1940[co_df_1940['population']==max(co_df_1940['population'])]"
   ]
  },
  {
   "cell_type": "code",
   "execution_count": 8,
   "id": "15db8958-aa72-467e-a727-261764d6267e",
   "metadata": {},
   "outputs": [
    {
     "data": {
      "text/html": [
       "<div>\n",
       "<style scoped>\n",
       "    .dataframe tbody tr th:only-of-type {\n",
       "        vertical-align: middle;\n",
       "    }\n",
       "\n",
       "    .dataframe tbody tr th {\n",
       "        vertical-align: top;\n",
       "    }\n",
       "\n",
       "    .dataframe thead th {\n",
       "        text-align: right;\n",
       "    }\n",
       "</style>\n",
       "<table border=\"1\" class=\"dataframe\">\n",
       "  <thead>\n",
       "    <tr style=\"text-align: right;\">\n",
       "      <th></th>\n",
       "      <th>county</th>\n",
       "      <th>fips</th>\n",
       "      <th>year</th>\n",
       "      <th>population</th>\n",
       "    </tr>\n",
       "  </thead>\n",
       "  <tbody>\n",
       "    <tr>\n",
       "      <th>267</th>\n",
       "      <td>Denver</td>\n",
       "      <td>8031</td>\n",
       "      <td>1940</td>\n",
       "      <td>322412.0</td>\n",
       "    </tr>\n",
       "  </tbody>\n",
       "</table>\n",
       "</div>"
      ],
      "text/plain": [
       "     county  fips  year  population\n",
       "267  Denver  8031  1940    322412.0"
      ]
     },
     "execution_count": 8,
     "metadata": {},
     "output_type": "execute_result"
    }
   ],
   "source": [
    "co_df_1940[co_df_1940['population']==322412]"
   ]
  },
  {
   "cell_type": "code",
   "execution_count": 9,
   "id": "6d198023-fa79-41be-b6c7-12ba608c4d00",
   "metadata": {},
   "outputs": [],
   "source": [
    "denver_df=co_df[co_df['county']=='Denver']"
   ]
  },
  {
   "cell_type": "code",
   "execution_count": 10,
   "id": "b16ab1e2-739c-43e9-9b11-33cd1073e895",
   "metadata": {},
   "outputs": [
    {
     "data": {
      "text/plain": [
       "<AxesSubplot:xlabel='year'>"
      ]
     },
     "execution_count": 10,
     "metadata": {},
     "output_type": "execute_result"
    },
    {
     "data": {
      "image/png": "[encoded data removed]",
      "text/plain": [
       "<Figure size 432x288 with 1 Axes>"
      ]
     },
     "metadata": {
      "needs_background": "light"
     },
     "output_type": "display_data"
    }
   ],
   "source": [
    "denver_df.plot(x='year', y='population')"
   ]
  },
  {
   "cell_type": "code",
   "execution_count": 12,
   "id": "3c0939ca-0039-48c8-80a7-a24798ac5519",
   "metadata": {},
   "outputs": [],
   "source": [
    "denver_df.to_csv(\"denver_1940.csv\", encoding='utf-8', index=False)"
   ]
  },
  {
   "cell_type": "code",
   "execution_count": null,
   "id": "ef454910-323f-49a5-8546-7c01da5412de",
   "metadata": {},
   "outputs": [],
   "source": []
  }
 ],
 "metadata": {
  "kernelspec": {
   "display_name": "Python 3",
   "language": "python",
   "name": "python3"
  },
  "language_info": {
   "codemirror_mode": {
    "name": "ipython",
    "version": 3
   },
   "file_extension": ".py",
   "mimetype": "text/x-python",
   "name": "python",
   "nbconvert_exporter": "python",
   "pygments_lexer": "ipython3",
   "version": "3.8.8"
  }
 },
 "nbformat": 4,
 "nbformat_minor": 5
}
