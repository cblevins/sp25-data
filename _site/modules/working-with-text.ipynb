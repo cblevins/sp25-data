{
 "cells": [
  {
   "cell_type": "markdown",
   "id": "d56f9a35-c44a-4590-afdc-02167deeffa4",
   "metadata": {
    "tags": []
   },
   "source": [
    "Opening up a file"
   ]
  },
  {
   "cell_type": "code",
   "execution_count": 2,
   "id": "786f7dc9-e68c-4078-93cc-0d7f2657bf7a",
   "metadata": {},
   "outputs": [],
   "source": [
    "smith=open(\"venture-smith.txt\", mode='r', encoding='utf-8')\n",
    "smith=smith.read()"
   ]
  },
  {
   "cell_type": "code",
   "execution_count": 3,
   "id": "87871d8a-6a71-47a6-9ce8-59225a8b8764",
   "metadata": {},
   "outputs": [
    {
     "data": {
      "text/plain": [
       "'A'"
      ]
     },
     "execution_count": 3,
     "metadata": {},
     "output_type": "execute_result"
    }
   ],
   "source": [
    "smith[0]"
   ]
  },
  {
   "cell_type": "code",
   "execution_count": 10,
   "id": "e9a089fa-e145-4f00-b184-f518e88c1bdd",
   "metadata": {},
   "outputs": [
    {
     "data": {
      "text/plain": [
       "'A NARRATIVE OF THE LIFE AND ADVENTURES\\n\\nOF VENTURE, A NATIVE OF AFRICA,\\n\\nBut resident above sixty ye'"
      ]
     },
     "execution_count": 10,
     "metadata": {},
     "output_type": "execute_result"
    }
   ],
   "source": [
    "smith[:100]"
   ]
  },
  {
   "cell_type": "code",
   "execution_count": 16,
   "id": "eaf1f793-0428-4617-b7ca-d288724bfaad",
   "metadata": {},
   "outputs": [],
   "source": [
    "smith_title=smith[:157]"
   ]
  },
  {
   "cell_type": "code",
   "execution_count": 15,
   "id": "5fc61410-9097-43a7-9e9e-974a63c86c2e",
   "metadata": {},
   "outputs": [
    {
     "ename": "NameError",
     "evalue": "name 'smith_title' is not defined",
     "output_type": "error",
     "traceback": [
      "\u001b[0;31m---------------------------------------------------------------------------\u001b[0m",
      "\u001b[0;31mNameError\u001b[0m                                 Traceback (most recent call last)",
      "\u001b[0;32m<ipython-input-15-1baeb9eb58e3>\u001b[0m in \u001b[0;36m<module>\u001b[0;34m\u001b[0m\n\u001b[0;32m----> 1\u001b[0;31m \u001b[0msmith_title\u001b[0m\u001b[0;34m\u001b[0m\u001b[0;34m\u001b[0m\u001b[0m\n\u001b[0m",
      "\u001b[0;31mNameError\u001b[0m: name 'smith_title' is not defined"
     ]
    }
   ],
   "source": [
    "smith_title"
   ]
  },
  {
   "cell_type": "code",
   "execution_count": 17,
   "id": "c11f2ecf-c507-49bc-8a36-a1740d4fb71b",
   "metadata": {},
   "outputs": [
    {
     "data": {
      "text/plain": [
       "'A Narrative Of The Life And Adventures\\n\\nOf Venture, A Native Of Africa,\\n\\nBut Resident Above Sixty Years In The United States Of America.\\n\\nRelated By Himself.'"
      ]
     },
     "execution_count": 17,
     "metadata": {},
     "output_type": "execute_result"
    }
   ],
   "source": [
    "smith_title.title()"
   ]
  },
  {
   "cell_type": "code",
   "execution_count": 14,
   "id": "c769892a-99e6-4357-a5a0-5f25c82aa885",
   "metadata": {},
   "outputs": [
    {
     "name": "stdout",
     "output_type": "stream",
     "text": [
      "A Narrative Of The Life And Adventures\n",
      "\n",
      "Of Venture, A Native Of Africa,\n",
      "\n",
      "But Resident Above Sixty Years In The United States Of America.\n",
      "\n",
      "Related By Himself.\n"
     ]
    }
   ],
   "source": [
    "print(title.title())"
   ]
  },
  {
   "cell_type": "code",
   "execution_count": 37,
   "id": "c3e10086-5931-4aed-b71f-7a26fbfbe48e",
   "metadata": {},
   "outputs": [
    {
     "data": {
      "text/plain": [
       "60"
      ]
     },
     "execution_count": 37,
     "metadata": {},
     "output_type": "execute_result"
    }
   ],
   "source": [
    "len(smith.split('CHAPTER')[0].split('\\n'))"
   ]
  },
  {
   "cell_type": "code",
   "execution_count": 23,
   "id": "b4799f9d-ed05-4160-b51c-55a6e8cbfdb3",
   "metadata": {},
   "outputs": [
    {
     "data": {
      "text/plain": [
       "5"
      ]
     },
     "execution_count": 23,
     "metadata": {},
     "output_type": "execute_result"
    }
   ],
   "source": [
    "len(smith.split()[200])"
   ]
  },
  {
   "cell_type": "code",
   "execution_count": 24,
   "id": "4fb2edb9-bd2d-4bf3-87e1-103411db31b4",
   "metadata": {},
   "outputs": [
    {
     "data": {
      "text/plain": [
       "9952"
      ]
     },
     "execution_count": 24,
     "metadata": {},
     "output_type": "execute_result"
    }
   ],
   "source": [
    "len(smith.split())"
   ]
  },
  {
   "cell_type": "code",
   "execution_count": 25,
   "id": "e3d09734-ba85-4a98-8c4b-24885177cf47",
   "metadata": {},
   "outputs": [
    {
     "data": {
      "text/plain": [
       "903"
      ]
     },
     "execution_count": 25,
     "metadata": {},
     "output_type": "execute_result"
    }
   ],
   "source": [
    "len(smith.split('\\n'))"
   ]
  },
  {
   "cell_type": "code",
   "execution_count": null,
   "id": "2ab55004-fc6b-41a0-8d25-1ccc1b9589b3",
   "metadata": {},
   "outputs": [],
   "source": []
  }
 ],
 "metadata": {
  "kernelspec": {
   "display_name": "Python 3",
   "language": "python",
   "name": "python3"
  },
  "language_info": {
   "codemirror_mode": {
    "name": "ipython",
    "version": 3
   },
   "file_extension": ".py",
   "mimetype": "text/x-python",
   "name": "python",
   "nbconvert_exporter": "python",
   "pygments_lexer": "ipython3",
   "version": "3.8.8"
  }
 },
 "nbformat": 4,
 "nbformat_minor": 5
}
