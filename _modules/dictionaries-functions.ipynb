{
 "cells": [
  {
   "cell_type": "markdown",
   "id": "c0c6d1cf-af38-44b4-b7d4-aadb551dfa86",
   "metadata": {},
   "source": [
    "## Dictionaries and Functions"
   ]
  },
  {
   "cell_type": "markdown",
   "id": "1a592b58-e2b0-4bdd-832f-881f04033b6a",
   "metadata": {},
   "source": [
    "Today's exercise is going to give you practice with understanding and working with lists, for loops, dictionaries, and functions. Our end goal is to take in a `list` of history faculty members at CU Denver and use their name to automatically generate their email address, then create `dictionary` that stores their name and email address."
   ]
  },
  {
   "cell_type": "markdown",
   "id": "895d5ada-7d23-42e7-bc8d-ef7638ec57cf",
   "metadata": {},
   "source": [
    "Here is our starting list:"
   ]
  },
  {
   "cell_type": "code",
   "execution_count": 1,
   "id": "3fff1457-ee02-4219-9cdf-feb6cdba4f58",
   "metadata": {},
   "outputs": [],
   "source": [
    "history_faculty=[\n",
    "    'Christopher Agee',\n",
    "    'Cameron Blevins',\n",
    "    'Ryan D. Crewe',\n",
    "    'Gabriel Finkelstein',\n",
    "    'Xiaofei Gao',\n",
    "    'Rachel Gross',\n",
    "    'Peter A. Kopp',\n",
    "    'Marjorie Levine-Clark',\n",
    "    'Brandon Mills',\n",
    "    'Dale J. Stahl',\n",
    "    'William Wagner',\n",
    "    'Greg Whitesides',\n",
    "    'Kariann Akemi Yokota',\n",
    "]"
   ]
  },
  {
   "cell_type": "markdown",
   "id": "9138412b-9d2d-4fbb-a5fd-f52efd1947ba",
   "metadata": {},
   "source": [
    "To check that you've loaded the list correctly, use len() to see how many faculty members are stored in this list. You should\n",
    "get 13."
   ]
  },
  {
   "cell_type": "code",
   "execution_count": 14,
   "id": "b89099d0-5424-4482-ab90-905b0f8caf9d",
   "metadata": {},
   "outputs": [],
   "source": [
    "#Your Code Here\n"
   ]
  },
  {
   "cell_type": "markdown",
   "id": "9fd193bf-eadd-453f-9b02-275921112c76",
   "metadata": {
    "tags": []
   },
   "source": [
    "If we want to automatically generate email addresses for each person, we can use the fact that the basic format of a CU Denver email address is: `firstname.lastname@ucdenver.edu`. Notice, however that some people have middle names in the list. Our first step, then, is going to be to remove these middle names and have a new list of names consisting of just first and last names.\n",
    "\n",
    "To start, let's get familiar with the list. Use a `for loop` to iterate through the list of names and create a new variable inside your loop called `name_split` that uses string.split() to split up the full name based on white spaces."
   ]
  },
  {
   "cell_type": "code",
   "execution_count": 15,
   "id": "48fb3429-a76f-4abb-aa5c-826efb9e642b",
   "metadata": {},
   "outputs": [],
   "source": [
    "#Your Code Here\n"
   ]
  },
  {
   "cell_type": "markdown",
   "id": "13ded364-204e-4164-a088-df597891a892",
   "metadata": {},
   "source": [
    "Define a function called `remove_middle_name` that:\n",
    "\n",
    "- Takes in a string of a full name\n",
    "- Splits the string on white space\n",
    "- Isolates the first name\n",
    "- Isolates the last name\n",
    "- Creates a new varible `no_middle_name` that combines the first name and last name into a new string (with no middle name).\n",
    "- Return `no_middle_name`"
   ]
  },
  {
   "cell_type": "code",
   "execution_count": 16,
   "id": "c2179625-0838-4db1-8b38-d0048f4a4c99",
   "metadata": {},
   "outputs": [],
   "source": [
    "#Your Code Here\n",
    "\n"
   ]
  },
  {
   "cell_type": "markdown",
   "id": "c27700b5-f66f-4bcd-b2bb-005c67270ef2",
   "metadata": {},
   "source": [
    "Test out your function by calling it by giving it the parameter \"Cameron B. Blevins\"."
   ]
  },
  {
   "cell_type": "code",
   "execution_count": 17,
   "id": "de0e9957-22a5-4bc5-87c1-a045f09b013f",
   "metadata": {},
   "outputs": [],
   "source": [
    "#Your Code Here\n"
   ]
  },
  {
   "cell_type": "markdown",
   "id": "07a91300-36f8-4b79-902c-58f5515c3670",
   "metadata": {},
   "source": [
    "Create a new empty list called `history_faculty_new` and then loop through your original `history_faculty` list, calling your function `remove_middle_name` within each iteration that sends the parameter of the person's full name. Append the new full name into `history_faculty_new`."
   ]
  },
  {
   "cell_type": "code",
   "execution_count": 18,
   "id": "2749e157-6781-4344-adf3-1b66299704ad",
   "metadata": {},
   "outputs": [],
   "source": [
    "#Your Code Here\n",
    "\n"
   ]
  },
  {
   "cell_type": "markdown",
   "id": "c8081d8b-88ff-418e-b452-c29a4a9b147b",
   "metadata": {},
   "source": [
    "Define a function to build a CU Denver email address based on a person's first and last name. The basic format for a CU Denver email address is: \n",
    "firstname.lastname@ucdenver.edu"
   ]
  },
  {
   "cell_type": "code",
   "execution_count": 19,
   "id": "aca8a228-3950-492b-a17f-62d60e662161",
   "metadata": {},
   "outputs": [],
   "source": [
    "#Your Code Here\n",
    "\n"
   ]
  },
  {
   "cell_type": "markdown",
   "id": "2cf05c49-a2c1-425e-877f-0e6772704d92",
   "metadata": {},
   "source": [
    "Test our function on \"Cameron Blevins\""
   ]
  },
  {
   "cell_type": "code",
   "execution_count": 20,
   "id": "d30b67c3-568b-4e46-835a-ce7f2200d1f5",
   "metadata": {},
   "outputs": [],
   "source": [
    "#Your Code Here\n",
    "\n"
   ]
  },
  {
   "cell_type": "markdown",
   "id": "08eec303-121b-4a7f-b9c1-0de70b481858",
   "metadata": {},
   "source": [
    "Loop through your list of cleaned up history faculty names, call your function to generate an email address for each of them, and append that email address to an empty list called `email_list`. Remember: you need to create an empty list called `email_list` before your for loop."
   ]
  },
  {
   "cell_type": "code",
   "execution_count": 21,
   "id": "652b9ebf-baef-47d6-9f70-1645dc5a140d",
   "metadata": {},
   "outputs": [],
   "source": [
    "#Your Code Here\n",
    "\n"
   ]
  },
  {
   "cell_type": "markdown",
   "id": "e6a5e185-c40c-4807-ba18-3dd832fbbbd1",
   "metadata": {},
   "source": [
    "Create a **dictionary** named `email_dict` where: \n",
    "\n",
    "- The `key` is the name of a faculty member\n",
    "- The `value` is the faculty member's email address\n",
    "\n",
    "Remember to create an emtpy dictionary first."
   ]
  },
  {
   "cell_type": "code",
   "execution_count": 22,
   "id": "10f7cca3-410a-45f5-b210-395934aac74f",
   "metadata": {},
   "outputs": [],
   "source": [
    "#Your Code Here\n",
    "\n"
   ]
  },
  {
   "cell_type": "markdown",
   "id": "5b9aea73-f01d-4653-abdb-4e2e27064382",
   "metadata": {},
   "source": [
    "Check to see if the dictionary is created."
   ]
  },
  {
   "cell_type": "code",
   "execution_count": 23,
   "id": "3acffe72-1d88-415f-ae12-9d167f7d1847",
   "metadata": {},
   "outputs": [],
   "source": [
    "#Your Code Here\n",
    "\n"
   ]
  },
  {
   "cell_type": "markdown",
   "id": "66d56d22-8e64-4468-a254-be31885ebb54",
   "metadata": {},
   "source": [
    "What is Professor Rachel Gross's email? Pull up her \"entry\" in the `email_dict`."
   ]
  },
  {
   "cell_type": "code",
   "execution_count": 24,
   "id": "a0c8b489-49c6-4f58-a7ba-6db376dbde72",
   "metadata": {},
   "outputs": [],
   "source": [
    "#Your Code Here\n"
   ]
  },
  {
   "cell_type": "markdown",
   "id": "7fc01a74-220e-4be8-8ab3-44d156f8372e",
   "metadata": {},
   "source": [
    "Professor Brandon Mills's email doesn't quite fit the usual pattern. In our original email_dict, we assumed it was `Brandon.Mills@ucdenver.edu`, but he has an additional initial in his email adderess. Update his `value` in `email_dict` with: `'Brandon.S.Mills@ucdenver.edu'` then check to see if it is updated by calling his entry in the dictionary."
   ]
  },
  {
   "cell_type": "code",
   "execution_count": 25,
   "id": "b9197e3b-0874-4909-8419-40e3e62e3ae2",
   "metadata": {},
   "outputs": [],
   "source": [
    "#Your Code Here\n"
   ]
  }
 ],
 "metadata": {
  "kernelspec": {
   "display_name": "Python 3",
   "language": "python",
   "name": "python3"
  },
  "language_info": {
   "codemirror_mode": {
    "name": "ipython",
    "version": 3
   },
   "file_extension": ".py",
   "mimetype": "text/x-python",
   "name": "python",
   "nbconvert_exporter": "python",
   "pygments_lexer": "ipython3",
   "version": "3.8.8"
  }
 },
 "nbformat": 4,
 "nbformat_minor": 5
}
