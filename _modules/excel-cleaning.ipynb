{
 "cells": [
  {
   "cell_type": "code",
   "execution_count": 69,
   "metadata": {},
   "outputs": [
    {
     "name": "stdout",
     "output_type": "stream",
     "text": [
      "(6, 5)\n",
      "(5, 4)\n",
      "            University  total_students  undergrad_percent  grad_percent  \\\n",
      "0  Stanford University           16937               65.2          34.8   \n",
      "1   harvard university           20050               62.8          37.2   \n",
      "2                MIT             11376               54.5          45.5   \n",
      "3                 Yale           12060               58.3          41.7   \n",
      "4   harvard university           20050               62.8          37.2   \n",
      "\n",
      "   International students  \n",
      "0                    3984  \n",
      "1                    5726  \n",
      "2                    3787  \n",
      "3                    2841  \n",
      "4                    5726  \n",
      "            university  undergrad_tuition  grad_tuition  Average_financial_aid\n",
      "0  Stanford University              56169         54315                  52030\n",
      "1   harvard university              54002         51654                  53604\n",
      "2                MIT                55878         58240                  48264\n",
      "3                 Yale              59950         45700                  55879\n",
      "4          UC Berkeley              14226         14226                  23736\n"
     ]
    }
   ],
   "source": [
    "import pandas as pd\n",
    "\n",
    "# Load both sheets\n",
    "enrollment_df = pd.read_excel('university_data.xlsx', sheet_name='Enrollment')\n",
    "tuition_df = pd.read_excel('university_data.xlsx', sheet_name='Tuition')\n",
    "\n",
    "# View basic information\n",
    "print(enrollment_df.shape)  # Check number of rows and columns\n",
    "print(tuition_df.shape)\n",
    "\n",
    "# Preview the data\n",
    "print(enrollment_df.head())\n",
    "print(tuition_df.head())\n"
   ]
  },
  {
   "cell_type": "code",
   "execution_count": 70,
   "metadata": {},
   "outputs": [
    {
     "name": "stdout",
     "output_type": "stream",
     "text": [
      "Index(['University', 'total_students', 'undergrad_percent', 'grad_percent',\n",
      "       'International students'],\n",
      "      dtype='object')\n",
      "Index(['university', 'undergrad_tuition', 'grad_tuition',\n",
      "       'Average_financial_aid'],\n",
      "      dtype='object')\n",
      "University                 object\n",
      "total_students              int64\n",
      "undergrad_percent         float64\n",
      "grad_percent              float64\n",
      "International students      int64\n",
      "dtype: object\n",
      "university               object\n",
      "undergrad_tuition         int64\n",
      "grad_tuition              int64\n",
      "Average_financial_aid     int64\n",
      "dtype: object\n"
     ]
    }
   ],
   "source": [
    "# Examine column names\n",
    "print(enrollment_df.columns)\n",
    "print(tuition_df.columns)\n",
    "\n",
    "# Check data types\n",
    "print(enrollment_df.dtypes)\n",
    "print(tuition_df.dtypes)\n"
   ]
  },
  {
   "cell_type": "code",
   "execution_count": 71,
   "metadata": {},
   "outputs": [
    {
     "name": "stdout",
     "output_type": "stream",
     "text": [
      "0    False\n",
      "1    False\n",
      "2    False\n",
      "3    False\n",
      "4     True\n",
      "5    False\n",
      "dtype: bool\n",
      "Duplicate rows in enrollment data:\n",
      "           University  total_students  undergrad_percent  grad_percent  \\\n",
      "4  harvard university           20050               62.8          37.2   \n",
      "\n",
      "   International students  \n",
      "4                    5726  \n",
      "0    False\n",
      "1    False\n",
      "2    False\n",
      "3    False\n",
      "4    False\n",
      "dtype: bool\n",
      "Duplicate rows in tuition data:\n",
      "Empty DataFrame\n",
      "Columns: [university, undergrad_tuition, grad_tuition, Average_financial_aid]\n",
      "Index: []\n"
     ]
    }
   ],
   "source": [
    "# Check for duplicate rows in the enrollment dataframe\n",
    "print(enrollment_df.duplicated())\n",
    "print(\"Duplicate rows in enrollment data:\")\n",
    "print(enrollment_df[enrollment_df.duplicated()])\n",
    "\n",
    "\n",
    "# Check for duplicate rows in the tuition dataframe\n",
    "print(tuition_df.duplicated())\n",
    "print(\"Duplicate rows in tuition data:\")\n",
    "print(tuition_df[tuition_df.duplicated()])\n"
   ]
  },
  {
   "cell_type": "code",
   "execution_count": 72,
   "metadata": {},
   "outputs": [
    {
     "name": "stdout",
     "output_type": "stream",
     "text": [
      "Column: University\n",
      "['Stanford University' 'harvard university' 'MIT  ' '  Yale' 'UC Berkeley']\n",
      "---\n",
      "Column: total_students\n",
      "[16937 20050 11376 12060 42501]\n",
      "---\n",
      "Column: undergrad_percent\n",
      "[65.2 62.8 54.5 58.3 71.5]\n",
      "---\n",
      "Column: grad_percent\n",
      "[34.8 37.2 45.5 41.7 28.5]\n",
      "---\n",
      "Column: International students\n",
      "[3984 5726 3787 2841 6763]\n",
      "---\n",
      "Column: university\n",
      "['Stanford University' 'harvard university' 'MIT  ' '  Yale' 'UC Berkeley']\n",
      "---\n",
      "Column: undergrad_tuition\n",
      "[56169 54002 55878 59950 14226]\n",
      "---\n",
      "Column: grad_tuition\n",
      "[54315 51654 58240 45700 14226]\n",
      "---\n",
      "Column: Average_financial_aid\n",
      "[52030 53604 48264 55879 23736]\n",
      "---\n"
     ]
    }
   ],
   "source": [
    "# Check unique values in all columns\n",
    "for column in enrollment_df.columns:\n",
    "    print(f\"Column: {column}\")\n",
    "    print(enrollment_df[column].unique())\n",
    "    print(\"---\")\n",
    "\n",
    "for column in tuition_df.columns:\n",
    "    print(f\"Column: {column}\")\n",
    "    print(tuition_df[column].unique())\n",
    "    print(\"---\")\n"
   ]
  },
  {
   "cell_type": "code",
   "execution_count": 73,
   "metadata": {},
   "outputs": [
    {
     "name": "stdout",
     "output_type": "stream",
     "text": [
      "Original enrollment columns: ['University', 'total_students', 'undergrad_percent', 'grad_percent', 'International students']\n",
      "Original tuition columns: ['university', 'undergrad_tuition', 'grad_tuition', 'Average_financial_aid']\n",
      "Cleaned enrollment columns: ['university', 'total_students', 'undergrad_percent', 'grad_percent', 'international_students']\n",
      "Cleaned tuition columns: ['university', 'undergrad_tuition', 'grad_tuition', 'average_financial_aid']\n"
     ]
    }
   ],
   "source": [
    "# Original column names\n",
    "print(\"Original enrollment columns:\", enrollment_df.columns.tolist())\n",
    "print(\"Original tuition columns:\", tuition_df.columns.tolist())\n",
    "\n",
    "# Clean column names - convert to lowercase, strip whitespace, and replace spaces with underscores\n",
    "enrollment_df.columns = [col.lower().strip().replace(' ', '_') for col in enrollment_df.columns]\n",
    "tuition_df.columns = [col.lower().strip().replace(' ', '_') for col in tuition_df.columns]\n",
    "\n",
    "# Print the cleaned column names\n",
    "print(\"Cleaned enrollment columns:\", enrollment_df.columns.tolist())\n",
    "print(\"Cleaned tuition columns:\", tuition_df.columns.tolist())"
   ]
  },
  {
   "cell_type": "code",
   "execution_count": 77,
   "metadata": {},
   "outputs": [
    {
     "name": "stdout",
     "output_type": "stream",
     "text": [
      "0    stanford university\n",
      "1     harvard university\n",
      "2                    mit\n",
      "3                   yale\n",
      "5            uc berkeley\n",
      "Name: university, dtype: object\n",
      "0    stanford university\n",
      "1     harvard university\n",
      "2                    mit\n",
      "3                   yale\n",
      "4            uc berkeley\n",
      "Name: university, dtype: object\n"
     ]
    }
   ],
   "source": [
    "# Strip whitespace and standardize case for univeresity names\n",
    "enrollment_df['university'] = enrollment_df['university'].str.strip().str.lower()\n",
    "tuition_df['university'] = tuition_df['university'].str.strip().str.lower()\n",
    "\n",
    "# note what happens to UC Berkeley...\n",
    "\n",
    "print(enrollment_df['university'])\n",
    "print(tuition_df['university'])"
   ]
  },
  {
   "cell_type": "code",
   "execution_count": 78,
   "metadata": {},
   "outputs": [
    {
     "name": "stdout",
     "output_type": "stream",
     "text": [
      "0    stanford university\n",
      "1     harvard university\n",
      "2                    mit\n",
      "3                   yale\n",
      "5            uc berkeley\n",
      "Name: university, dtype: object\n"
     ]
    }
   ],
   "source": [
    "# Remove duplicate rows based on a column\n",
    "enrollment_df = enrollment_df.drop_duplicates(subset=['university'])\n",
    "\n",
    "print(enrollment_df['university'])"
   ]
  },
  {
   "cell_type": "code",
   "execution_count": 79,
   "metadata": {},
   "outputs": [
    {
     "name": "stdout",
     "output_type": "stream",
     "text": [
      "            university  total_students  undergrad_percent  grad_percent  \\\n",
      "0   harvard university           20050               62.8          37.2   \n",
      "1                  mit           11376               54.5          45.5   \n",
      "2  stanford university           16937               65.2          34.8   \n",
      "3          uc berkeley           42501               71.5          28.5   \n",
      "4                 yale           12060               58.3          41.7   \n",
      "\n",
      "   international_students  undergrad_tuition  grad_tuition  \\\n",
      "0                    5726              54002         51654   \n",
      "1                    3787              55878         58240   \n",
      "2                    3984              56169         54315   \n",
      "3                    6763              14226         14226   \n",
      "4                    2841              59950         45700   \n",
      "\n",
      "   average_financial_aid  \n",
      "0                  53604  \n",
      "1                  48264  \n",
      "2                  52030  \n",
      "3                  23736  \n",
      "4                  55879  \n"
     ]
    }
   ],
   "source": [
    "# Merge the enrollment and tuition data on the cleaned university name\n",
    "merged_df = pd.merge(\n",
    "    enrollment_df,\n",
    "    tuition_df,\n",
    "    on='university',\n",
    "    how='outer'  # Use outer join to keep all universities from both sheets\n",
    ")\n",
    "\n",
    "print(merged_df.head())"
   ]
  },
  {
   "cell_type": "code",
   "execution_count": null,
   "metadata": {},
   "outputs": [],
   "source": [
    "# Save the data to CSV file\n",
    "merged_df.to_csv('university_data_merged.csv', index=False)"
   ]
  },
  {
   "cell_type": "code",
   "execution_count": null,
   "metadata": {},
   "outputs": [],
   "source": []
  }
 ],
 "metadata": {
  "kernelspec": {
   "display_name": "base",
   "language": "python",
   "name": "python3"
  },
  "language_info": {
   "codemirror_mode": {
    "name": "ipython",
    "version": 3
   },
   "file_extension": ".py",
   "mimetype": "text/x-python",
   "name": "python",
   "nbconvert_exporter": "python",
   "pygments_lexer": "ipython3",
   "version": "3.12.7"
  }
 },
 "nbformat": 4,
 "nbformat_minor": 2
}
