{
 "cells": [
  {
   "cell_type": "markdown",
   "metadata": {},
   "source": [
    "# Plotly Basics — Introduction to Data Visualization\n",
    "\n",
    "In this lesson, we'll learn how to create interactive visualizations using the Plotly library, which is one of the most powerful and flexible visualization tools for Python. We'll be working with the 1880 Utah Census dataset to visualize historical demographic information.\n"
   ]
  },
  {
   "cell_type": "markdown",
   "metadata": {},
   "source": [
    "## Setting up Plotly\n",
    "\n",
    "First, we need to import the necessary libraries. We'll use Pandas for data manipulation and Plotly Express, which provides a simplified API for creating Plotly visualizations.\n"
   ]
  },
  {
   "cell_type": "code",
   "execution_count": 28,
   "metadata": {},
   "outputs": [],
   "source": [
    "# Import libraries\n",
    "import pandas as pd\n",
    "import plotly.express as px\n",
    "#import plotly.graph_objects as go\n",
    "#from plotly.subplots import make_subplots\n",
    "\n",
    "# Set pandas display options\n",
    "pd.options.display.max_rows = 10"
   ]
  },
  {
   "cell_type": "markdown",
   "metadata": {},
   "source": [
    "## Loading the Utah Census Data\n",
    "\n",
    "Now, let's load the 1880 Utah Census dataset. This historical dataset contains demographic information about Utah residents from the 1880 census.\n"
   ]
  },
  {
   "cell_type": "code",
   "execution_count": 29,
   "metadata": {},
   "outputs": [
    {
     "data": {
      "text/html": [
       "<div>\n",
       "<style scoped>\n",
       "    .dataframe tbody tr th:only-of-type {\n",
       "        vertical-align: middle;\n",
       "    }\n",
       "\n",
       "    .dataframe tbody tr th {\n",
       "        vertical-align: top;\n",
       "    }\n",
       "\n",
       "    .dataframe thead th {\n",
       "        text-align: right;\n",
       "    }\n",
       "</style>\n",
       "<table border=\"1\" class=\"dataframe\">\n",
       "  <thead>\n",
       "    <tr style=\"text-align: right;\">\n",
       "      <th></th>\n",
       "      <th>key</th>\n",
       "      <th>page</th>\n",
       "      <th>line</th>\n",
       "      <th>district</th>\n",
       "      <th>location</th>\n",
       "      <th>county</th>\n",
       "      <th>household</th>\n",
       "      <th>family</th>\n",
       "      <th>lastname</th>\n",
       "      <th>firstname</th>\n",
       "      <th>...</th>\n",
       "      <th>deaf</th>\n",
       "      <th>idiotic</th>\n",
       "      <th>insane</th>\n",
       "      <th>maimed</th>\n",
       "      <th>attendschool</th>\n",
       "      <th>notread</th>\n",
       "      <th>notwrite</th>\n",
       "      <th>birthstate</th>\n",
       "      <th>fbirthplace</th>\n",
       "      <th>mbirthplace</th>\n",
       "    </tr>\n",
       "  </thead>\n",
       "  <tbody>\n",
       "    <tr>\n",
       "      <th>0</th>\n",
       "      <td>0212A_2_NEWBOLD_29</td>\n",
       "      <td>0212A</td>\n",
       "      <td>2</td>\n",
       "      <td>3072</td>\n",
       "      <td>Smithfield</td>\n",
       "      <td>CACHE</td>\n",
       "      <td>9157</td>\n",
       "      <td>158</td>\n",
       "      <td>NEWBOLD</td>\n",
       "      <td>SAMUEL</td>\n",
       "      <td>...</td>\n",
       "      <td>n</td>\n",
       "      <td>n</td>\n",
       "      <td>n</td>\n",
       "      <td>n</td>\n",
       "      <td>n</td>\n",
       "      <td>n</td>\n",
       "      <td>n</td>\n",
       "      <td>ENGLAND</td>\n",
       "      <td>ENGLAND</td>\n",
       "      <td>ENGLAND</td>\n",
       "    </tr>\n",
       "    <tr>\n",
       "      <th>1</th>\n",
       "      <td>0163A_45_CHRISTIANSEN_37</td>\n",
       "      <td>0163A</td>\n",
       "      <td>45</td>\n",
       "      <td>2560</td>\n",
       "      <td>Hyrum</td>\n",
       "      <td>CACHE</td>\n",
       "      <td>150</td>\n",
       "      <td>151</td>\n",
       "      <td>CHRISTIANSEN</td>\n",
       "      <td>MARIAH</td>\n",
       "      <td>...</td>\n",
       "      <td>n</td>\n",
       "      <td>n</td>\n",
       "      <td>n</td>\n",
       "      <td>n</td>\n",
       "      <td>n</td>\n",
       "      <td>n</td>\n",
       "      <td>n</td>\n",
       "      <td>DENMARK</td>\n",
       "      <td>DENMARK</td>\n",
       "      <td>DENMARK</td>\n",
       "    </tr>\n",
       "    <tr>\n",
       "      <th>2</th>\n",
       "      <td>0120A_1_JENSEN_71</td>\n",
       "      <td>0120A</td>\n",
       "      <td>1</td>\n",
       "      <td>2048</td>\n",
       "      <td>Logan City</td>\n",
       "      <td>CACHE</td>\n",
       "      <td>1</td>\n",
       "      <td>1</td>\n",
       "      <td>JENSEN</td>\n",
       "      <td>OLEY</td>\n",
       "      <td>...</td>\n",
       "      <td>n</td>\n",
       "      <td>n</td>\n",
       "      <td>n</td>\n",
       "      <td>n</td>\n",
       "      <td>n</td>\n",
       "      <td>n</td>\n",
       "      <td>n</td>\n",
       "      <td>SWEDEN</td>\n",
       "      <td>SWEDEN</td>\n",
       "      <td>SWEDEN</td>\n",
       "    </tr>\n",
       "    <tr>\n",
       "      <th>3</th>\n",
       "      <td>0120A_2_JENSEN_69</td>\n",
       "      <td>0120A</td>\n",
       "      <td>2</td>\n",
       "      <td>2048</td>\n",
       "      <td>Logan City</td>\n",
       "      <td>CACHE</td>\n",
       "      <td>1</td>\n",
       "      <td>1</td>\n",
       "      <td>JENSEN</td>\n",
       "      <td>INGER</td>\n",
       "      <td>...</td>\n",
       "      <td>n</td>\n",
       "      <td>n</td>\n",
       "      <td>n</td>\n",
       "      <td>n</td>\n",
       "      <td>n</td>\n",
       "      <td>n</td>\n",
       "      <td>y</td>\n",
       "      <td>SWEDEN</td>\n",
       "      <td>SWEDEN</td>\n",
       "      <td>SWEDEN</td>\n",
       "    </tr>\n",
       "    <tr>\n",
       "      <th>4</th>\n",
       "      <td>0120A_3_ENGBER_6</td>\n",
       "      <td>0120A</td>\n",
       "      <td>3</td>\n",
       "      <td>2048</td>\n",
       "      <td>Logan City</td>\n",
       "      <td>CACHE</td>\n",
       "      <td>1</td>\n",
       "      <td>1</td>\n",
       "      <td>ENGBER</td>\n",
       "      <td>JOSEPH</td>\n",
       "      <td>...</td>\n",
       "      <td>n</td>\n",
       "      <td>n</td>\n",
       "      <td>n</td>\n",
       "      <td>n</td>\n",
       "      <td>n</td>\n",
       "      <td>n</td>\n",
       "      <td>n</td>\n",
       "      <td>UTAH</td>\n",
       "      <td>SWEDEN</td>\n",
       "      <td>SWEDEN</td>\n",
       "    </tr>\n",
       "  </tbody>\n",
       "</table>\n",
       "<p>5 rows × 32 columns</p>\n",
       "</div>"
      ],
      "text/plain": [
       "                        key   page  line  district    location county  \\\n",
       "0        0212A_2_NEWBOLD_29  0212A     2      3072  Smithfield  CACHE   \n",
       "1  0163A_45_CHRISTIANSEN_37  0163A    45      2560       Hyrum  CACHE   \n",
       "2         0120A_1_JENSEN_71  0120A     1      2048  Logan City  CACHE   \n",
       "3         0120A_2_JENSEN_69  0120A     2      2048  Logan City  CACHE   \n",
       "4          0120A_3_ENGBER_6  0120A     3      2048  Logan City  CACHE   \n",
       "\n",
       "   household  family      lastname firstname  ... deaf  idiotic insane  \\\n",
       "0       9157     158       NEWBOLD    SAMUEL  ...    n        n      n   \n",
       "1        150     151  CHRISTIANSEN    MARIAH  ...    n        n      n   \n",
       "2          1       1        JENSEN      OLEY  ...    n        n      n   \n",
       "3          1       1        JENSEN     INGER  ...    n        n      n   \n",
       "4          1       1        ENGBER    JOSEPH  ...    n        n      n   \n",
       "\n",
       "   maimed  attendschool notread notwrite birthstate fbirthplace  mbirthplace  \n",
       "0       n             n       n        n    ENGLAND     ENGLAND      ENGLAND  \n",
       "1       n             n       n        n    DENMARK     DENMARK      DENMARK  \n",
       "2       n             n       n        n     SWEDEN      SWEDEN       SWEDEN  \n",
       "3       n             n       n        y     SWEDEN      SWEDEN       SWEDEN  \n",
       "4       n             n       n        n       UTAH      SWEDEN       SWEDEN  \n",
       "\n",
       "[5 rows x 32 columns]"
      ]
     },
     "execution_count": 29,
     "metadata": {},
     "output_type": "execute_result"
    }
   ],
   "source": [
    "# Load the census data\n",
    "utah_df = pd.read_csv('utah-census-1880.csv')\n",
    "\n",
    "# Take a quick look at the data\n",
    "utah_df.head()"
   ]
  },
  {
   "cell_type": "markdown",
   "metadata": {},
   "source": [
    "The dataset should contain information like names, ages, occupations, birthplaces, and other demographic details from the 1880 census.\n"
   ]
  },
  {
   "cell_type": "code",
   "execution_count": 30,
   "metadata": {},
   "outputs": [
    {
     "data": {
      "text/plain": [
       "county\n",
       "SALT LAKE    31989\n",
       "UTAH         17967\n",
       "CACHE        12562\n",
       "WEBER        12358\n",
       "SANPETE      11538\n",
       "             ...  \n",
       "PIUTE         1616\n",
       "UINTAH         799\n",
       "EMERY          556\n",
       "RICH           281\n",
       "SAN JUAN       204\n",
       "Name: count, Length: 23, dtype: int64"
      ]
     },
     "execution_count": 30,
     "metadata": {},
     "output_type": "execute_result"
    }
   ],
   "source": [
    "# Count the number of people in each county\n",
    "county_counts = utah_df['county'].value_counts()\n",
    "\n",
    "# Display the counts\n",
    "county_counts\n"
   ]
  },
  {
   "cell_type": "code",
   "execution_count": 31,
   "metadata": {},
   "outputs": [
    {
     "data": {
      "text/html": [
       "<div>\n",
       "<style scoped>\n",
       "    .dataframe tbody tr th:only-of-type {\n",
       "        vertical-align: middle;\n",
       "    }\n",
       "\n",
       "    .dataframe tbody tr th {\n",
       "        vertical-align: top;\n",
       "    }\n",
       "\n",
       "    .dataframe thead th {\n",
       "        text-align: right;\n",
       "    }\n",
       "</style>\n",
       "<table border=\"1\" class=\"dataframe\">\n",
       "  <thead>\n",
       "    <tr style=\"text-align: right;\">\n",
       "      <th></th>\n",
       "      <th>county</th>\n",
       "      <th>count</th>\n",
       "    </tr>\n",
       "  </thead>\n",
       "  <tbody>\n",
       "    <tr>\n",
       "      <th>0</th>\n",
       "      <td>SALT LAKE</td>\n",
       "      <td>31989</td>\n",
       "    </tr>\n",
       "    <tr>\n",
       "      <th>1</th>\n",
       "      <td>UTAH</td>\n",
       "      <td>17967</td>\n",
       "    </tr>\n",
       "    <tr>\n",
       "      <th>2</th>\n",
       "      <td>CACHE</td>\n",
       "      <td>12562</td>\n",
       "    </tr>\n",
       "    <tr>\n",
       "      <th>3</th>\n",
       "      <td>WEBER</td>\n",
       "      <td>12358</td>\n",
       "    </tr>\n",
       "    <tr>\n",
       "      <th>4</th>\n",
       "      <td>SANPETE</td>\n",
       "      <td>11538</td>\n",
       "    </tr>\n",
       "    <tr>\n",
       "      <th>...</th>\n",
       "      <td>...</td>\n",
       "      <td>...</td>\n",
       "    </tr>\n",
       "    <tr>\n",
       "      <th>18</th>\n",
       "      <td>PIUTE</td>\n",
       "      <td>1616</td>\n",
       "    </tr>\n",
       "    <tr>\n",
       "      <th>19</th>\n",
       "      <td>UINTAH</td>\n",
       "      <td>799</td>\n",
       "    </tr>\n",
       "    <tr>\n",
       "      <th>20</th>\n",
       "      <td>EMERY</td>\n",
       "      <td>556</td>\n",
       "    </tr>\n",
       "    <tr>\n",
       "      <th>21</th>\n",
       "      <td>RICH</td>\n",
       "      <td>281</td>\n",
       "    </tr>\n",
       "    <tr>\n",
       "      <th>22</th>\n",
       "      <td>SAN JUAN</td>\n",
       "      <td>204</td>\n",
       "    </tr>\n",
       "  </tbody>\n",
       "</table>\n",
       "<p>23 rows × 2 columns</p>\n",
       "</div>"
      ],
      "text/plain": [
       "       county  count\n",
       "0   SALT LAKE  31989\n",
       "1        UTAH  17967\n",
       "2       CACHE  12562\n",
       "3       WEBER  12358\n",
       "4     SANPETE  11538\n",
       "..        ...    ...\n",
       "18      PIUTE   1616\n",
       "19     UINTAH    799\n",
       "20      EMERY    556\n",
       "21       RICH    281\n",
       "22   SAN JUAN    204\n",
       "\n",
       "[23 rows x 2 columns]"
      ]
     },
     "execution_count": 31,
     "metadata": {},
     "output_type": "execute_result"
    }
   ],
   "source": [
    "# Apply reset_index() to convert the index (county names) into a regular column\n",
    "county_counts = county_counts.reset_index()\n",
    "county_counts.columns = ['county', 'count']\n",
    "\n",
    "# Display the counts after reset_index\n",
    "county_counts"
   ]
  },
  {
   "cell_type": "code",
   "execution_count": 32,
   "metadata": {},
   "outputs": [
    {
     "data": {
      "application/vnd.plotly.v1+json": {
       "config": {
        "plotlyServerURL": "https://plot.ly"
       },
       "data": [
        {
         "alignmentgroup": "True",
         "hovertemplate": "county=%{x}<br>count=%{y}<extra></extra>",
         "legendgroup": "",
         "marker": {
          "color": "#636efa",
          "pattern": {
           "shape": ""
          }
         },
         "name": "",
         "offsetgroup": "",
         "orientation": "v",
         "showlegend": false,
         "textposition": "auto",
         "type": "bar",
         "x": [
          "SALT LAKE",
          "UTAH",
          "CACHE",
          "WEBER",
          "SANPETE",
          "BOX ELDER",
          "DAVIS",
          "SUMMIT",
          "TOOELE",
          "SEVIER",
          "WASHINGTON",
          "IRON",
          "BEAVER",
          "MILLARD",
          "JUAB",
          "KANE",
          "WASATCH",
          "MORGAN",
          "PIUTE",
          "UINTAH",
          "EMERY",
          "RICH",
          "SAN JUAN"
         ],
         "xaxis": "x",
         "y": [
          31989,
          17967,
          12562,
          12358,
          11538,
          6766,
          5166,
          4921,
          4496,
          4457,
          4140,
          4034,
          3864,
          3719,
          3477,
          3090,
          2928,
          1783,
          1616,
          799,
          556,
          281,
          204
         ],
         "yaxis": "y"
        }
       ],
       "layout": {
        "barmode": "relative",
        "legend": {
         "tracegroupgap": 0
        },
        "margin": {
         "t": 60
        },
        "template": {
         "data": {
          "bar": [
           {
            "error_x": {
             "color": "#2a3f5f"
            },
            "error_y": {
             "color": "#2a3f5f"
            },
            "marker": {
             "line": {
              "color": "#E5ECF6",
              "width": 0.5
             },
             "pattern": {
              "fillmode": "overlay",
              "size": 10,
              "solidity": 0.2
             }
            },
            "type": "bar"
           }
          ],
          "barpolar": [
           {
            "marker": {
             "line": {
              "color": "#E5ECF6",
              "width": 0.5
             },
             "pattern": {
              "fillmode": "overlay",
              "size": 10,
              "solidity": 0.2
             }
            },
            "type": "barpolar"
           }
          ],
          "carpet": [
           {
            "aaxis": {
             "endlinecolor": "#2a3f5f",
             "gridcolor": "white",
             "linecolor": "white",
             "minorgridcolor": "white",
             "startlinecolor": "#2a3f5f"
            },
            "baxis": {
             "endlinecolor": "#2a3f5f",
             "gridcolor": "white",
             "linecolor": "white",
             "minorgridcolor": "white",
             "startlinecolor": "#2a3f5f"
            },
            "type": "carpet"
           }
          ],
          "choropleth": [
           {
            "colorbar": {
             "outlinewidth": 0,
             "ticks": ""
            },
            "type": "choropleth"
           }
          ],
          "contour": [
           {
            "colorbar": {
             "outlinewidth": 0,
             "ticks": ""
            },
            "colorscale": [
             [
              0,
              "#0d0887"
             ],
             [
              0.1111111111111111,
              "#46039f"
             ],
             [
              0.2222222222222222,
              "#7201a8"
             ],
             [
              0.3333333333333333,
              "#9c179e"
             ],
             [
              0.4444444444444444,
              "#bd3786"
             ],
             [
              0.5555555555555556,
              "#d8576b"
             ],
             [
              0.6666666666666666,
              "#ed7953"
             ],
             [
              0.7777777777777778,
              "#fb9f3a"
             ],
             [
              0.8888888888888888,
              "#fdca26"
             ],
             [
              1,
              "#f0f921"
             ]
            ],
            "type": "contour"
           }
          ],
          "contourcarpet": [
           {
            "colorbar": {
             "outlinewidth": 0,
             "ticks": ""
            },
            "type": "contourcarpet"
           }
          ],
          "heatmap": [
           {
            "colorbar": {
             "outlinewidth": 0,
             "ticks": ""
            },
            "colorscale": [
             [
              0,
              "#0d0887"
             ],
             [
              0.1111111111111111,
              "#46039f"
             ],
             [
              0.2222222222222222,
              "#7201a8"
             ],
             [
              0.3333333333333333,
              "#9c179e"
             ],
             [
              0.4444444444444444,
              "#bd3786"
             ],
             [
              0.5555555555555556,
              "#d8576b"
             ],
             [
              0.6666666666666666,
              "#ed7953"
             ],
             [
              0.7777777777777778,
              "#fb9f3a"
             ],
             [
              0.8888888888888888,
              "#fdca26"
             ],
             [
              1,
              "#f0f921"
             ]
            ],
            "type": "heatmap"
           }
          ],
          "heatmapgl": [
           {
            "colorbar": {
             "outlinewidth": 0,
             "ticks": ""
            },
            "colorscale": [
             [
              0,
              "#0d0887"
             ],
             [
              0.1111111111111111,
              "#46039f"
             ],
             [
              0.2222222222222222,
              "#7201a8"
             ],
             [
              0.3333333333333333,
              "#9c179e"
             ],
             [
              0.4444444444444444,
              "#bd3786"
             ],
             [
              0.5555555555555556,
              "#d8576b"
             ],
             [
              0.6666666666666666,
              "#ed7953"
             ],
             [
              0.7777777777777778,
              "#fb9f3a"
             ],
             [
              0.8888888888888888,
              "#fdca26"
             ],
             [
              1,
              "#f0f921"
             ]
            ],
            "type": "heatmapgl"
           }
          ],
          "histogram": [
           {
            "marker": {
             "pattern": {
              "fillmode": "overlay",
              "size": 10,
              "solidity": 0.2
             }
            },
            "type": "histogram"
           }
          ],
          "histogram2d": [
           {
            "colorbar": {
             "outlinewidth": 0,
             "ticks": ""
            },
            "colorscale": [
             [
              0,
              "#0d0887"
             ],
             [
              0.1111111111111111,
              "#46039f"
             ],
             [
              0.2222222222222222,
              "#7201a8"
             ],
             [
              0.3333333333333333,
              "#9c179e"
             ],
             [
              0.4444444444444444,
              "#bd3786"
             ],
             [
              0.5555555555555556,
              "#d8576b"
             ],
             [
              0.6666666666666666,
              "#ed7953"
             ],
             [
              0.7777777777777778,
              "#fb9f3a"
             ],
             [
              0.8888888888888888,
              "#fdca26"
             ],
             [
              1,
              "#f0f921"
             ]
            ],
            "type": "histogram2d"
           }
          ],
          "histogram2dcontour": [
           {
            "colorbar": {
             "outlinewidth": 0,
             "ticks": ""
            },
            "colorscale": [
             [
              0,
              "#0d0887"
             ],
             [
              0.1111111111111111,
              "#46039f"
             ],
             [
              0.2222222222222222,
              "#7201a8"
             ],
             [
              0.3333333333333333,
              "#9c179e"
             ],
             [
              0.4444444444444444,
              "#bd3786"
             ],
             [
              0.5555555555555556,
              "#d8576b"
             ],
             [
              0.6666666666666666,
              "#ed7953"
             ],
             [
              0.7777777777777778,
              "#fb9f3a"
             ],
             [
              0.8888888888888888,
              "#fdca26"
             ],
             [
              1,
              "#f0f921"
             ]
            ],
            "type": "histogram2dcontour"
           }
          ],
          "mesh3d": [
           {
            "colorbar": {
             "outlinewidth": 0,
             "ticks": ""
            },
            "type": "mesh3d"
           }
          ],
          "parcoords": [
           {
            "line": {
             "colorbar": {
              "outlinewidth": 0,
              "ticks": ""
             }
            },
            "type": "parcoords"
           }
          ],
          "pie": [
           {
            "automargin": true,
            "type": "pie"
           }
          ],
          "scatter": [
           {
            "fillpattern": {
             "fillmode": "overlay",
             "size": 10,
             "solidity": 0.2
            },
            "type": "scatter"
           }
          ],
          "scatter3d": [
           {
            "line": {
             "colorbar": {
              "outlinewidth": 0,
              "ticks": ""
             }
            },
            "marker": {
             "colorbar": {
              "outlinewidth": 0,
              "ticks": ""
             }
            },
            "type": "scatter3d"
           }
          ],
          "scattercarpet": [
           {
            "marker": {
             "colorbar": {
              "outlinewidth": 0,
              "ticks": ""
             }
            },
            "type": "scattercarpet"
           }
          ],
          "scattergeo": [
           {
            "marker": {
             "colorbar": {
              "outlinewidth": 0,
              "ticks": ""
             }
            },
            "type": "scattergeo"
           }
          ],
          "scattergl": [
           {
            "marker": {
             "colorbar": {
              "outlinewidth": 0,
              "ticks": ""
             }
            },
            "type": "scattergl"
           }
          ],
          "scattermapbox": [
           {
            "marker": {
             "colorbar": {
              "outlinewidth": 0,
              "ticks": ""
             }
            },
            "type": "scattermapbox"
           }
          ],
          "scatterpolar": [
           {
            "marker": {
             "colorbar": {
              "outlinewidth": 0,
              "ticks": ""
             }
            },
            "type": "scatterpolar"
           }
          ],
          "scatterpolargl": [
           {
            "marker": {
             "colorbar": {
              "outlinewidth": 0,
              "ticks": ""
             }
            },
            "type": "scatterpolargl"
           }
          ],
          "scatterternary": [
           {
            "marker": {
             "colorbar": {
              "outlinewidth": 0,
              "ticks": ""
             }
            },
            "type": "scatterternary"
           }
          ],
          "surface": [
           {
            "colorbar": {
             "outlinewidth": 0,
             "ticks": ""
            },
            "colorscale": [
             [
              0,
              "#0d0887"
             ],
             [
              0.1111111111111111,
              "#46039f"
             ],
             [
              0.2222222222222222,
              "#7201a8"
             ],
             [
              0.3333333333333333,
              "#9c179e"
             ],
             [
              0.4444444444444444,
              "#bd3786"
             ],
             [
              0.5555555555555556,
              "#d8576b"
             ],
             [
              0.6666666666666666,
              "#ed7953"
             ],
             [
              0.7777777777777778,
              "#fb9f3a"
             ],
             [
              0.8888888888888888,
              "#fdca26"
             ],
             [
              1,
              "#f0f921"
             ]
            ],
            "type": "surface"
           }
          ],
          "table": [
           {
            "cells": {
             "fill": {
              "color": "#EBF0F8"
             },
             "line": {
              "color": "white"
             }
            },
            "header": {
             "fill": {
              "color": "#C8D4E3"
             },
             "line": {
              "color": "white"
             }
            },
            "type": "table"
           }
          ]
         },
         "layout": {
          "annotationdefaults": {
           "arrowcolor": "#2a3f5f",
           "arrowhead": 0,
           "arrowwidth": 1
          },
          "autotypenumbers": "strict",
          "coloraxis": {
           "colorbar": {
            "outlinewidth": 0,
            "ticks": ""
           }
          },
          "colorscale": {
           "diverging": [
            [
             0,
             "#8e0152"
            ],
            [
             0.1,
             "#c51b7d"
            ],
            [
             0.2,
             "#de77ae"
            ],
            [
             0.3,
             "#f1b6da"
            ],
            [
             0.4,
             "#fde0ef"
            ],
            [
             0.5,
             "#f7f7f7"
            ],
            [
             0.6,
             "#e6f5d0"
            ],
            [
             0.7,
             "#b8e186"
            ],
            [
             0.8,
             "#7fbc41"
            ],
            [
             0.9,
             "#4d9221"
            ],
            [
             1,
             "#276419"
            ]
           ],
           "sequential": [
            [
             0,
             "#0d0887"
            ],
            [
             0.1111111111111111,
             "#46039f"
            ],
            [
             0.2222222222222222,
             "#7201a8"
            ],
            [
             0.3333333333333333,
             "#9c179e"
            ],
            [
             0.4444444444444444,
             "#bd3786"
            ],
            [
             0.5555555555555556,
             "#d8576b"
            ],
            [
             0.6666666666666666,
             "#ed7953"
            ],
            [
             0.7777777777777778,
             "#fb9f3a"
            ],
            [
             0.8888888888888888,
             "#fdca26"
            ],
            [
             1,
             "#f0f921"
            ]
           ],
           "sequentialminus": [
            [
             0,
             "#0d0887"
            ],
            [
             0.1111111111111111,
             "#46039f"
            ],
            [
             0.2222222222222222,
             "#7201a8"
            ],
            [
             0.3333333333333333,
             "#9c179e"
            ],
            [
             0.4444444444444444,
             "#bd3786"
            ],
            [
             0.5555555555555556,
             "#d8576b"
            ],
            [
             0.6666666666666666,
             "#ed7953"
            ],
            [
             0.7777777777777778,
             "#fb9f3a"
            ],
            [
             0.8888888888888888,
             "#fdca26"
            ],
            [
             1,
             "#f0f921"
            ]
           ]
          },
          "colorway": [
           "#636efa",
           "#EF553B",
           "#00cc96",
           "#ab63fa",
           "#FFA15A",
           "#19d3f3",
           "#FF6692",
           "#B6E880",
           "#FF97FF",
           "#FECB52"
          ],
          "font": {
           "color": "#2a3f5f"
          },
          "geo": {
           "bgcolor": "white",
           "lakecolor": "white",
           "landcolor": "#E5ECF6",
           "showlakes": true,
           "showland": true,
           "subunitcolor": "white"
          },
          "hoverlabel": {
           "align": "left"
          },
          "hovermode": "closest",
          "mapbox": {
           "style": "light"
          },
          "paper_bgcolor": "white",
          "plot_bgcolor": "#E5ECF6",
          "polar": {
           "angularaxis": {
            "gridcolor": "white",
            "linecolor": "white",
            "ticks": ""
           },
           "bgcolor": "#E5ECF6",
           "radialaxis": {
            "gridcolor": "white",
            "linecolor": "white",
            "ticks": ""
           }
          },
          "scene": {
           "xaxis": {
            "backgroundcolor": "#E5ECF6",
            "gridcolor": "white",
            "gridwidth": 2,
            "linecolor": "white",
            "showbackground": true,
            "ticks": "",
            "zerolinecolor": "white"
           },
           "yaxis": {
            "backgroundcolor": "#E5ECF6",
            "gridcolor": "white",
            "gridwidth": 2,
            "linecolor": "white",
            "showbackground": true,
            "ticks": "",
            "zerolinecolor": "white"
           },
           "zaxis": {
            "backgroundcolor": "#E5ECF6",
            "gridcolor": "white",
            "gridwidth": 2,
            "linecolor": "white",
            "showbackground": true,
            "ticks": "",
            "zerolinecolor": "white"
           }
          },
          "shapedefaults": {
           "line": {
            "color": "#2a3f5f"
           }
          },
          "ternary": {
           "aaxis": {
            "gridcolor": "white",
            "linecolor": "white",
            "ticks": ""
           },
           "baxis": {
            "gridcolor": "white",
            "linecolor": "white",
            "ticks": ""
           },
           "bgcolor": "#E5ECF6",
           "caxis": {
            "gridcolor": "white",
            "linecolor": "white",
            "ticks": ""
           }
          },
          "title": {
           "x": 0.05
          },
          "xaxis": {
           "automargin": true,
           "gridcolor": "white",
           "linecolor": "white",
           "ticks": "",
           "title": {
            "standoff": 15
           },
           "zerolinecolor": "white",
           "zerolinewidth": 2
          },
          "yaxis": {
           "automargin": true,
           "gridcolor": "white",
           "linecolor": "white",
           "ticks": "",
           "title": {
            "standoff": 15
           },
           "zerolinecolor": "white",
           "zerolinewidth": 2
          }
         }
        },
        "xaxis": {
         "anchor": "y",
         "domain": [
          0,
          1
         ],
         "title": {
          "text": "county"
         }
        },
        "yaxis": {
         "anchor": "x",
         "domain": [
          0,
          1
         ],
         "title": {
          "text": "count"
         }
        }
       }
      }
     },
     "metadata": {},
     "output_type": "display_data"
    }
   ],
   "source": [
    "# Create a simple bar chart\n",
    "fig = px.bar(county_counts, x='county', y='count')\n",
    "\n",
    "# Show the figure\n",
    "fig.show()\n"
   ]
  },
  {
   "cell_type": "code",
   "execution_count": 33,
   "metadata": {},
   "outputs": [
    {
     "data": {
      "application/vnd.plotly.v1+json": {
       "config": {
        "plotlyServerURL": "https://plot.ly"
       },
       "data": [
        {
         "alignmentgroup": "True",
         "hovertemplate": "County=%{x}<br>Population=%{y}<extra></extra>",
         "legendgroup": "",
         "marker": {
          "color": "#636efa",
          "pattern": {
           "shape": ""
          }
         },
         "name": "",
         "offsetgroup": "",
         "orientation": "v",
         "showlegend": false,
         "textposition": "auto",
         "type": "bar",
         "x": [
          "SALT LAKE",
          "UTAH",
          "CACHE",
          "WEBER",
          "SANPETE",
          "BOX ELDER",
          "DAVIS",
          "SUMMIT",
          "TOOELE",
          "SEVIER",
          "WASHINGTON",
          "IRON",
          "BEAVER",
          "MILLARD",
          "JUAB",
          "KANE",
          "WASATCH",
          "MORGAN",
          "PIUTE",
          "UINTAH",
          "EMERY",
          "RICH",
          "SAN JUAN"
         ],
         "xaxis": "x",
         "y": [
          31989,
          17967,
          12562,
          12358,
          11538,
          6766,
          5166,
          4921,
          4496,
          4457,
          4140,
          4034,
          3864,
          3719,
          3477,
          3090,
          2928,
          1783,
          1616,
          799,
          556,
          281,
          204
         ],
         "yaxis": "y"
        }
       ],
       "layout": {
        "barmode": "relative",
        "legend": {
         "tracegroupgap": 0
        },
        "template": {
         "data": {
          "bar": [
           {
            "error_x": {
             "color": "#2a3f5f"
            },
            "error_y": {
             "color": "#2a3f5f"
            },
            "marker": {
             "line": {
              "color": "#E5ECF6",
              "width": 0.5
             },
             "pattern": {
              "fillmode": "overlay",
              "size": 10,
              "solidity": 0.2
             }
            },
            "type": "bar"
           }
          ],
          "barpolar": [
           {
            "marker": {
             "line": {
              "color": "#E5ECF6",
              "width": 0.5
             },
             "pattern": {
              "fillmode": "overlay",
              "size": 10,
              "solidity": 0.2
             }
            },
            "type": "barpolar"
           }
          ],
          "carpet": [
           {
            "aaxis": {
             "endlinecolor": "#2a3f5f",
             "gridcolor": "white",
             "linecolor": "white",
             "minorgridcolor": "white",
             "startlinecolor": "#2a3f5f"
            },
            "baxis": {
             "endlinecolor": "#2a3f5f",
             "gridcolor": "white",
             "linecolor": "white",
             "minorgridcolor": "white",
             "startlinecolor": "#2a3f5f"
            },
            "type": "carpet"
           }
          ],
          "choropleth": [
           {
            "colorbar": {
             "outlinewidth": 0,
             "ticks": ""
            },
            "type": "choropleth"
           }
          ],
          "contour": [
           {
            "colorbar": {
             "outlinewidth": 0,
             "ticks": ""
            },
            "colorscale": [
             [
              0,
              "#0d0887"
             ],
             [
              0.1111111111111111,
              "#46039f"
             ],
             [
              0.2222222222222222,
              "#7201a8"
             ],
             [
              0.3333333333333333,
              "#9c179e"
             ],
             [
              0.4444444444444444,
              "#bd3786"
             ],
             [
              0.5555555555555556,
              "#d8576b"
             ],
             [
              0.6666666666666666,
              "#ed7953"
             ],
             [
              0.7777777777777778,
              "#fb9f3a"
             ],
             [
              0.8888888888888888,
              "#fdca26"
             ],
             [
              1,
              "#f0f921"
             ]
            ],
            "type": "contour"
           }
          ],
          "contourcarpet": [
           {
            "colorbar": {
             "outlinewidth": 0,
             "ticks": ""
            },
            "type": "contourcarpet"
           }
          ],
          "heatmap": [
           {
            "colorbar": {
             "outlinewidth": 0,
             "ticks": ""
            },
            "colorscale": [
             [
              0,
              "#0d0887"
             ],
             [
              0.1111111111111111,
              "#46039f"
             ],
             [
              0.2222222222222222,
              "#7201a8"
             ],
             [
              0.3333333333333333,
              "#9c179e"
             ],
             [
              0.4444444444444444,
              "#bd3786"
             ],
             [
              0.5555555555555556,
              "#d8576b"
             ],
             [
              0.6666666666666666,
              "#ed7953"
             ],
             [
              0.7777777777777778,
              "#fb9f3a"
             ],
             [
              0.8888888888888888,
              "#fdca26"
             ],
             [
              1,
              "#f0f921"
             ]
            ],
            "type": "heatmap"
           }
          ],
          "heatmapgl": [
           {
            "colorbar": {
             "outlinewidth": 0,
             "ticks": ""
            },
            "colorscale": [
             [
              0,
              "#0d0887"
             ],
             [
              0.1111111111111111,
              "#46039f"
             ],
             [
              0.2222222222222222,
              "#7201a8"
             ],
             [
              0.3333333333333333,
              "#9c179e"
             ],
             [
              0.4444444444444444,
              "#bd3786"
             ],
             [
              0.5555555555555556,
              "#d8576b"
             ],
             [
              0.6666666666666666,
              "#ed7953"
             ],
             [
              0.7777777777777778,
              "#fb9f3a"
             ],
             [
              0.8888888888888888,
              "#fdca26"
             ],
             [
              1,
              "#f0f921"
             ]
            ],
            "type": "heatmapgl"
           }
          ],
          "histogram": [
           {
            "marker": {
             "pattern": {
              "fillmode": "overlay",
              "size": 10,
              "solidity": 0.2
             }
            },
            "type": "histogram"
           }
          ],
          "histogram2d": [
           {
            "colorbar": {
             "outlinewidth": 0,
             "ticks": ""
            },
            "colorscale": [
             [
              0,
              "#0d0887"
             ],
             [
              0.1111111111111111,
              "#46039f"
             ],
             [
              0.2222222222222222,
              "#7201a8"
             ],
             [
              0.3333333333333333,
              "#9c179e"
             ],
             [
              0.4444444444444444,
              "#bd3786"
             ],
             [
              0.5555555555555556,
              "#d8576b"
             ],
             [
              0.6666666666666666,
              "#ed7953"
             ],
             [
              0.7777777777777778,
              "#fb9f3a"
             ],
             [
              0.8888888888888888,
              "#fdca26"
             ],
             [
              1,
              "#f0f921"
             ]
            ],
            "type": "histogram2d"
           }
          ],
          "histogram2dcontour": [
           {
            "colorbar": {
             "outlinewidth": 0,
             "ticks": ""
            },
            "colorscale": [
             [
              0,
              "#0d0887"
             ],
             [
              0.1111111111111111,
              "#46039f"
             ],
             [
              0.2222222222222222,
              "#7201a8"
             ],
             [
              0.3333333333333333,
              "#9c179e"
             ],
             [
              0.4444444444444444,
              "#bd3786"
             ],
             [
              0.5555555555555556,
              "#d8576b"
             ],
             [
              0.6666666666666666,
              "#ed7953"
             ],
             [
              0.7777777777777778,
              "#fb9f3a"
             ],
             [
              0.8888888888888888,
              "#fdca26"
             ],
             [
              1,
              "#f0f921"
             ]
            ],
            "type": "histogram2dcontour"
           }
          ],
          "mesh3d": [
           {
            "colorbar": {
             "outlinewidth": 0,
             "ticks": ""
            },
            "type": "mesh3d"
           }
          ],
          "parcoords": [
           {
            "line": {
             "colorbar": {
              "outlinewidth": 0,
              "ticks": ""
             }
            },
            "type": "parcoords"
           }
          ],
          "pie": [
           {
            "automargin": true,
            "type": "pie"
           }
          ],
          "scatter": [
           {
            "fillpattern": {
             "fillmode": "overlay",
             "size": 10,
             "solidity": 0.2
            },
            "type": "scatter"
           }
          ],
          "scatter3d": [
           {
            "line": {
             "colorbar": {
              "outlinewidth": 0,
              "ticks": ""
             }
            },
            "marker": {
             "colorbar": {
              "outlinewidth": 0,
              "ticks": ""
             }
            },
            "type": "scatter3d"
           }
          ],
          "scattercarpet": [
           {
            "marker": {
             "colorbar": {
              "outlinewidth": 0,
              "ticks": ""
             }
            },
            "type": "scattercarpet"
           }
          ],
          "scattergeo": [
           {
            "marker": {
             "colorbar": {
              "outlinewidth": 0,
              "ticks": ""
             }
            },
            "type": "scattergeo"
           }
          ],
          "scattergl": [
           {
            "marker": {
             "colorbar": {
              "outlinewidth": 0,
              "ticks": ""
             }
            },
            "type": "scattergl"
           }
          ],
          "scattermapbox": [
           {
            "marker": {
             "colorbar": {
              "outlinewidth": 0,
              "ticks": ""
             }
            },
            "type": "scattermapbox"
           }
          ],
          "scatterpolar": [
           {
            "marker": {
             "colorbar": {
              "outlinewidth": 0,
              "ticks": ""
             }
            },
            "type": "scatterpolar"
           }
          ],
          "scatterpolargl": [
           {
            "marker": {
             "colorbar": {
              "outlinewidth": 0,
              "ticks": ""
             }
            },
            "type": "scatterpolargl"
           }
          ],
          "scatterternary": [
           {
            "marker": {
             "colorbar": {
              "outlinewidth": 0,
              "ticks": ""
             }
            },
            "type": "scatterternary"
           }
          ],
          "surface": [
           {
            "colorbar": {
             "outlinewidth": 0,
             "ticks": ""
            },
            "colorscale": [
             [
              0,
              "#0d0887"
             ],
             [
              0.1111111111111111,
              "#46039f"
             ],
             [
              0.2222222222222222,
              "#7201a8"
             ],
             [
              0.3333333333333333,
              "#9c179e"
             ],
             [
              0.4444444444444444,
              "#bd3786"
             ],
             [
              0.5555555555555556,
              "#d8576b"
             ],
             [
              0.6666666666666666,
              "#ed7953"
             ],
             [
              0.7777777777777778,
              "#fb9f3a"
             ],
             [
              0.8888888888888888,
              "#fdca26"
             ],
             [
              1,
              "#f0f921"
             ]
            ],
            "type": "surface"
           }
          ],
          "table": [
           {
            "cells": {
             "fill": {
              "color": "#EBF0F8"
             },
             "line": {
              "color": "white"
             }
            },
            "header": {
             "fill": {
              "color": "#C8D4E3"
             },
             "line": {
              "color": "white"
             }
            },
            "type": "table"
           }
          ]
         },
         "layout": {
          "annotationdefaults": {
           "arrowcolor": "#2a3f5f",
           "arrowhead": 0,
           "arrowwidth": 1
          },
          "autotypenumbers": "strict",
          "coloraxis": {
           "colorbar": {
            "outlinewidth": 0,
            "ticks": ""
           }
          },
          "colorscale": {
           "diverging": [
            [
             0,
             "#8e0152"
            ],
            [
             0.1,
             "#c51b7d"
            ],
            [
             0.2,
             "#de77ae"
            ],
            [
             0.3,
             "#f1b6da"
            ],
            [
             0.4,
             "#fde0ef"
            ],
            [
             0.5,
             "#f7f7f7"
            ],
            [
             0.6,
             "#e6f5d0"
            ],
            [
             0.7,
             "#b8e186"
            ],
            [
             0.8,
             "#7fbc41"
            ],
            [
             0.9,
             "#4d9221"
            ],
            [
             1,
             "#276419"
            ]
           ],
           "sequential": [
            [
             0,
             "#0d0887"
            ],
            [
             0.1111111111111111,
             "#46039f"
            ],
            [
             0.2222222222222222,
             "#7201a8"
            ],
            [
             0.3333333333333333,
             "#9c179e"
            ],
            [
             0.4444444444444444,
             "#bd3786"
            ],
            [
             0.5555555555555556,
             "#d8576b"
            ],
            [
             0.6666666666666666,
             "#ed7953"
            ],
            [
             0.7777777777777778,
             "#fb9f3a"
            ],
            [
             0.8888888888888888,
             "#fdca26"
            ],
            [
             1,
             "#f0f921"
            ]
           ],
           "sequentialminus": [
            [
             0,
             "#0d0887"
            ],
            [
             0.1111111111111111,
             "#46039f"
            ],
            [
             0.2222222222222222,
             "#7201a8"
            ],
            [
             0.3333333333333333,
             "#9c179e"
            ],
            [
             0.4444444444444444,
             "#bd3786"
            ],
            [
             0.5555555555555556,
             "#d8576b"
            ],
            [
             0.6666666666666666,
             "#ed7953"
            ],
            [
             0.7777777777777778,
             "#fb9f3a"
            ],
            [
             0.8888888888888888,
             "#fdca26"
            ],
            [
             1,
             "#f0f921"
            ]
           ]
          },
          "colorway": [
           "#636efa",
           "#EF553B",
           "#00cc96",
           "#ab63fa",
           "#FFA15A",
           "#19d3f3",
           "#FF6692",
           "#B6E880",
           "#FF97FF",
           "#FECB52"
          ],
          "font": {
           "color": "#2a3f5f"
          },
          "geo": {
           "bgcolor": "white",
           "lakecolor": "white",
           "landcolor": "#E5ECF6",
           "showlakes": true,
           "showland": true,
           "subunitcolor": "white"
          },
          "hoverlabel": {
           "align": "left"
          },
          "hovermode": "closest",
          "mapbox": {
           "style": "light"
          },
          "paper_bgcolor": "white",
          "plot_bgcolor": "#E5ECF6",
          "polar": {
           "angularaxis": {
            "gridcolor": "white",
            "linecolor": "white",
            "ticks": ""
           },
           "bgcolor": "#E5ECF6",
           "radialaxis": {
            "gridcolor": "white",
            "linecolor": "white",
            "ticks": ""
           }
          },
          "scene": {
           "xaxis": {
            "backgroundcolor": "#E5ECF6",
            "gridcolor": "white",
            "gridwidth": 2,
            "linecolor": "white",
            "showbackground": true,
            "ticks": "",
            "zerolinecolor": "white"
           },
           "yaxis": {
            "backgroundcolor": "#E5ECF6",
            "gridcolor": "white",
            "gridwidth": 2,
            "linecolor": "white",
            "showbackground": true,
            "ticks": "",
            "zerolinecolor": "white"
           },
           "zaxis": {
            "backgroundcolor": "#E5ECF6",
            "gridcolor": "white",
            "gridwidth": 2,
            "linecolor": "white",
            "showbackground": true,
            "ticks": "",
            "zerolinecolor": "white"
           }
          },
          "shapedefaults": {
           "line": {
            "color": "#2a3f5f"
           }
          },
          "ternary": {
           "aaxis": {
            "gridcolor": "white",
            "linecolor": "white",
            "ticks": ""
           },
           "baxis": {
            "gridcolor": "white",
            "linecolor": "white",
            "ticks": ""
           },
           "bgcolor": "#E5ECF6",
           "caxis": {
            "gridcolor": "white",
            "linecolor": "white",
            "ticks": ""
           }
          },
          "title": {
           "x": 0.05
          },
          "xaxis": {
           "automargin": true,
           "gridcolor": "white",
           "linecolor": "white",
           "ticks": "",
           "title": {
            "standoff": 15
           },
           "zerolinecolor": "white",
           "zerolinewidth": 2
          },
          "yaxis": {
           "automargin": true,
           "gridcolor": "white",
           "linecolor": "white",
           "ticks": "",
           "title": {
            "standoff": 15
           },
           "zerolinecolor": "white",
           "zerolinewidth": 2
          }
         }
        },
        "title": {
         "text": "Population by County in Utah (1880)"
        },
        "xaxis": {
         "anchor": "y",
         "domain": [
          0,
          1
         ],
         "title": {
          "text": "County"
         }
        },
        "yaxis": {
         "anchor": "x",
         "domain": [
          0,
          1
         ],
         "title": {
          "text": "Population"
         }
        }
       }
      }
     },
     "metadata": {},
     "output_type": "display_data"
    }
   ],
   "source": [
    "# Add title and customize axis labels\n",
    "fig = px.bar(\n",
    "    county_counts,\n",
    "    x='county',\n",
    "    y='count',\n",
    "    title='Population by County in Utah (1880)',  # Add a title\n",
    "    labels={'county': 'County', 'count': 'Population'}  # Rename axis labels\n",
    ")\n",
    "\n",
    "# Display the chart\n",
    "fig.show()"
   ]
  },
  {
   "cell_type": "code",
   "execution_count": 34,
   "metadata": {},
   "outputs": [
    {
     "data": {
      "application/vnd.plotly.v1+json": {
       "config": {
        "plotlyServerURL": "https://plot.ly"
       },
       "data": [
        {
         "alignmentgroup": "True",
         "hovertemplate": "County=%{x}<br>Population=%{marker.color}<extra></extra>",
         "legendgroup": "",
         "marker": {
          "color": [
           31989,
           17967,
           12562,
           12358,
           11538,
           6766,
           5166,
           4921,
           4496,
           4457,
           4140,
           4034,
           3864,
           3719,
           3477,
           3090,
           2928,
           1783,
           1616,
           799,
           556,
           281,
           204
          ],
          "coloraxis": "coloraxis",
          "pattern": {
           "shape": ""
          }
         },
         "name": "",
         "offsetgroup": "",
         "orientation": "v",
         "showlegend": false,
         "textposition": "auto",
         "type": "bar",
         "x": [
          "SALT LAKE",
          "UTAH",
          "CACHE",
          "WEBER",
          "SANPETE",
          "BOX ELDER",
          "DAVIS",
          "SUMMIT",
          "TOOELE",
          "SEVIER",
          "WASHINGTON",
          "IRON",
          "BEAVER",
          "MILLARD",
          "JUAB",
          "KANE",
          "WASATCH",
          "MORGAN",
          "PIUTE",
          "UINTAH",
          "EMERY",
          "RICH",
          "SAN JUAN"
         ],
         "xaxis": "x",
         "y": [
          31989,
          17967,
          12562,
          12358,
          11538,
          6766,
          5166,
          4921,
          4496,
          4457,
          4140,
          4034,
          3864,
          3719,
          3477,
          3090,
          2928,
          1783,
          1616,
          799,
          556,
          281,
          204
         ],
         "yaxis": "y"
        }
       ],
       "layout": {
        "barmode": "relative",
        "coloraxis": {
         "colorbar": {
          "title": {
           "text": "Population"
          }
         },
         "colorscale": [
          [
           0,
           "#fcffa4"
          ],
          [
           0.1111111111111111,
           "#f7d13d"
          ],
          [
           0.2222222222222222,
           "#fb9b06"
          ],
          [
           0.3333333333333333,
           "#ed6925"
          ],
          [
           0.4444444444444444,
           "#cf4446"
          ],
          [
           0.5555555555555556,
           "#a52c60"
          ],
          [
           0.6666666666666666,
           "#781c6d"
          ],
          [
           0.7777777777777778,
           "#4a0c6b"
          ],
          [
           0.8888888888888888,
           "#1b0c41"
          ],
          [
           1,
           "#000004"
          ]
         ]
        },
        "legend": {
         "tracegroupgap": 0
        },
        "template": {
         "data": {
          "bar": [
           {
            "error_x": {
             "color": "#2a3f5f"
            },
            "error_y": {
             "color": "#2a3f5f"
            },
            "marker": {
             "line": {
              "color": "white",
              "width": 0.5
             },
             "pattern": {
              "fillmode": "overlay",
              "size": 10,
              "solidity": 0.2
             }
            },
            "type": "bar"
           }
          ],
          "barpolar": [
           {
            "marker": {
             "line": {
              "color": "white",
              "width": 0.5
             },
             "pattern": {
              "fillmode": "overlay",
              "size": 10,
              "solidity": 0.2
             }
            },
            "type": "barpolar"
           }
          ],
          "carpet": [
           {
            "aaxis": {
             "endlinecolor": "#2a3f5f",
             "gridcolor": "#C8D4E3",
             "linecolor": "#C8D4E3",
             "minorgridcolor": "#C8D4E3",
             "startlinecolor": "#2a3f5f"
            },
            "baxis": {
             "endlinecolor": "#2a3f5f",
             "gridcolor": "#C8D4E3",
             "linecolor": "#C8D4E3",
             "minorgridcolor": "#C8D4E3",
             "startlinecolor": "#2a3f5f"
            },
            "type": "carpet"
           }
          ],
          "choropleth": [
           {
            "colorbar": {
             "outlinewidth": 0,
             "ticks": ""
            },
            "type": "choropleth"
           }
          ],
          "contour": [
           {
            "colorbar": {
             "outlinewidth": 0,
             "ticks": ""
            },
            "colorscale": [
             [
              0,
              "#0d0887"
             ],
             [
              0.1111111111111111,
              "#46039f"
             ],
             [
              0.2222222222222222,
              "#7201a8"
             ],
             [
              0.3333333333333333,
              "#9c179e"
             ],
             [
              0.4444444444444444,
              "#bd3786"
             ],
             [
              0.5555555555555556,
              "#d8576b"
             ],
             [
              0.6666666666666666,
              "#ed7953"
             ],
             [
              0.7777777777777778,
              "#fb9f3a"
             ],
             [
              0.8888888888888888,
              "#fdca26"
             ],
             [
              1,
              "#f0f921"
             ]
            ],
            "type": "contour"
           }
          ],
          "contourcarpet": [
           {
            "colorbar": {
             "outlinewidth": 0,
             "ticks": ""
            },
            "type": "contourcarpet"
           }
          ],
          "heatmap": [
           {
            "colorbar": {
             "outlinewidth": 0,
             "ticks": ""
            },
            "colorscale": [
             [
              0,
              "#0d0887"
             ],
             [
              0.1111111111111111,
              "#46039f"
             ],
             [
              0.2222222222222222,
              "#7201a8"
             ],
             [
              0.3333333333333333,
              "#9c179e"
             ],
             [
              0.4444444444444444,
              "#bd3786"
             ],
             [
              0.5555555555555556,
              "#d8576b"
             ],
             [
              0.6666666666666666,
              "#ed7953"
             ],
             [
              0.7777777777777778,
              "#fb9f3a"
             ],
             [
              0.8888888888888888,
              "#fdca26"
             ],
             [
              1,
              "#f0f921"
             ]
            ],
            "type": "heatmap"
           }
          ],
          "heatmapgl": [
           {
            "colorbar": {
             "outlinewidth": 0,
             "ticks": ""
            },
            "colorscale": [
             [
              0,
              "#0d0887"
             ],
             [
              0.1111111111111111,
              "#46039f"
             ],
             [
              0.2222222222222222,
              "#7201a8"
             ],
             [
              0.3333333333333333,
              "#9c179e"
             ],
             [
              0.4444444444444444,
              "#bd3786"
             ],
             [
              0.5555555555555556,
              "#d8576b"
             ],
             [
              0.6666666666666666,
              "#ed7953"
             ],
             [
              0.7777777777777778,
              "#fb9f3a"
             ],
             [
              0.8888888888888888,
              "#fdca26"
             ],
             [
              1,
              "#f0f921"
             ]
            ],
            "type": "heatmapgl"
           }
          ],
          "histogram": [
           {
            "marker": {
             "pattern": {
              "fillmode": "overlay",
              "size": 10,
              "solidity": 0.2
             }
            },
            "type": "histogram"
           }
          ],
          "histogram2d": [
           {
            "colorbar": {
             "outlinewidth": 0,
             "ticks": ""
            },
            "colorscale": [
             [
              0,
              "#0d0887"
             ],
             [
              0.1111111111111111,
              "#46039f"
             ],
             [
              0.2222222222222222,
              "#7201a8"
             ],
             [
              0.3333333333333333,
              "#9c179e"
             ],
             [
              0.4444444444444444,
              "#bd3786"
             ],
             [
              0.5555555555555556,
              "#d8576b"
             ],
             [
              0.6666666666666666,
              "#ed7953"
             ],
             [
              0.7777777777777778,
              "#fb9f3a"
             ],
             [
              0.8888888888888888,
              "#fdca26"
             ],
             [
              1,
              "#f0f921"
             ]
            ],
            "type": "histogram2d"
           }
          ],
          "histogram2dcontour": [
           {
            "colorbar": {
             "outlinewidth": 0,
             "ticks": ""
            },
            "colorscale": [
             [
              0,
              "#0d0887"
             ],
             [
              0.1111111111111111,
              "#46039f"
             ],
             [
              0.2222222222222222,
              "#7201a8"
             ],
             [
              0.3333333333333333,
              "#9c179e"
             ],
             [
              0.4444444444444444,
              "#bd3786"
             ],
             [
              0.5555555555555556,
              "#d8576b"
             ],
             [
              0.6666666666666666,
              "#ed7953"
             ],
             [
              0.7777777777777778,
              "#fb9f3a"
             ],
             [
              0.8888888888888888,
              "#fdca26"
             ],
             [
              1,
              "#f0f921"
             ]
            ],
            "type": "histogram2dcontour"
           }
          ],
          "mesh3d": [
           {
            "colorbar": {
             "outlinewidth": 0,
             "ticks": ""
            },
            "type": "mesh3d"
           }
          ],
          "parcoords": [
           {
            "line": {
             "colorbar": {
              "outlinewidth": 0,
              "ticks": ""
             }
            },
            "type": "parcoords"
           }
          ],
          "pie": [
           {
            "automargin": true,
            "type": "pie"
           }
          ],
          "scatter": [
           {
            "fillpattern": {
             "fillmode": "overlay",
             "size": 10,
             "solidity": 0.2
            },
            "type": "scatter"
           }
          ],
          "scatter3d": [
           {
            "line": {
             "colorbar": {
              "outlinewidth": 0,
              "ticks": ""
             }
            },
            "marker": {
             "colorbar": {
              "outlinewidth": 0,
              "ticks": ""
             }
            },
            "type": "scatter3d"
           }
          ],
          "scattercarpet": [
           {
            "marker": {
             "colorbar": {
              "outlinewidth": 0,
              "ticks": ""
             }
            },
            "type": "scattercarpet"
           }
          ],
          "scattergeo": [
           {
            "marker": {
             "colorbar": {
              "outlinewidth": 0,
              "ticks": ""
             }
            },
            "type": "scattergeo"
           }
          ],
          "scattergl": [
           {
            "marker": {
             "colorbar": {
              "outlinewidth": 0,
              "ticks": ""
             }
            },
            "type": "scattergl"
           }
          ],
          "scattermapbox": [
           {
            "marker": {
             "colorbar": {
              "outlinewidth": 0,
              "ticks": ""
             }
            },
            "type": "scattermapbox"
           }
          ],
          "scatterpolar": [
           {
            "marker": {
             "colorbar": {
              "outlinewidth": 0,
              "ticks": ""
             }
            },
            "type": "scatterpolar"
           }
          ],
          "scatterpolargl": [
           {
            "marker": {
             "colorbar": {
              "outlinewidth": 0,
              "ticks": ""
             }
            },
            "type": "scatterpolargl"
           }
          ],
          "scatterternary": [
           {
            "marker": {
             "colorbar": {
              "outlinewidth": 0,
              "ticks": ""
             }
            },
            "type": "scatterternary"
           }
          ],
          "surface": [
           {
            "colorbar": {
             "outlinewidth": 0,
             "ticks": ""
            },
            "colorscale": [
             [
              0,
              "#0d0887"
             ],
             [
              0.1111111111111111,
              "#46039f"
             ],
             [
              0.2222222222222222,
              "#7201a8"
             ],
             [
              0.3333333333333333,
              "#9c179e"
             ],
             [
              0.4444444444444444,
              "#bd3786"
             ],
             [
              0.5555555555555556,
              "#d8576b"
             ],
             [
              0.6666666666666666,
              "#ed7953"
             ],
             [
              0.7777777777777778,
              "#fb9f3a"
             ],
             [
              0.8888888888888888,
              "#fdca26"
             ],
             [
              1,
              "#f0f921"
             ]
            ],
            "type": "surface"
           }
          ],
          "table": [
           {
            "cells": {
             "fill": {
              "color": "#EBF0F8"
             },
             "line": {
              "color": "white"
             }
            },
            "header": {
             "fill": {
              "color": "#C8D4E3"
             },
             "line": {
              "color": "white"
             }
            },
            "type": "table"
           }
          ]
         },
         "layout": {
          "annotationdefaults": {
           "arrowcolor": "#2a3f5f",
           "arrowhead": 0,
           "arrowwidth": 1
          },
          "autotypenumbers": "strict",
          "coloraxis": {
           "colorbar": {
            "outlinewidth": 0,
            "ticks": ""
           }
          },
          "colorscale": {
           "diverging": [
            [
             0,
             "#8e0152"
            ],
            [
             0.1,
             "#c51b7d"
            ],
            [
             0.2,
             "#de77ae"
            ],
            [
             0.3,
             "#f1b6da"
            ],
            [
             0.4,
             "#fde0ef"
            ],
            [
             0.5,
             "#f7f7f7"
            ],
            [
             0.6,
             "#e6f5d0"
            ],
            [
             0.7,
             "#b8e186"
            ],
            [
             0.8,
             "#7fbc41"
            ],
            [
             0.9,
             "#4d9221"
            ],
            [
             1,
             "#276419"
            ]
           ],
           "sequential": [
            [
             0,
             "#0d0887"
            ],
            [
             0.1111111111111111,
             "#46039f"
            ],
            [
             0.2222222222222222,
             "#7201a8"
            ],
            [
             0.3333333333333333,
             "#9c179e"
            ],
            [
             0.4444444444444444,
             "#bd3786"
            ],
            [
             0.5555555555555556,
             "#d8576b"
            ],
            [
             0.6666666666666666,
             "#ed7953"
            ],
            [
             0.7777777777777778,
             "#fb9f3a"
            ],
            [
             0.8888888888888888,
             "#fdca26"
            ],
            [
             1,
             "#f0f921"
            ]
           ],
           "sequentialminus": [
            [
             0,
             "#0d0887"
            ],
            [
             0.1111111111111111,
             "#46039f"
            ],
            [
             0.2222222222222222,
             "#7201a8"
            ],
            [
             0.3333333333333333,
             "#9c179e"
            ],
            [
             0.4444444444444444,
             "#bd3786"
            ],
            [
             0.5555555555555556,
             "#d8576b"
            ],
            [
             0.6666666666666666,
             "#ed7953"
            ],
            [
             0.7777777777777778,
             "#fb9f3a"
            ],
            [
             0.8888888888888888,
             "#fdca26"
            ],
            [
             1,
             "#f0f921"
            ]
           ]
          },
          "colorway": [
           "#636efa",
           "#EF553B",
           "#00cc96",
           "#ab63fa",
           "#FFA15A",
           "#19d3f3",
           "#FF6692",
           "#B6E880",
           "#FF97FF",
           "#FECB52"
          ],
          "font": {
           "color": "#2a3f5f"
          },
          "geo": {
           "bgcolor": "white",
           "lakecolor": "white",
           "landcolor": "white",
           "showlakes": true,
           "showland": true,
           "subunitcolor": "#C8D4E3"
          },
          "hoverlabel": {
           "align": "left"
          },
          "hovermode": "closest",
          "mapbox": {
           "style": "light"
          },
          "paper_bgcolor": "white",
          "plot_bgcolor": "white",
          "polar": {
           "angularaxis": {
            "gridcolor": "#EBF0F8",
            "linecolor": "#EBF0F8",
            "ticks": ""
           },
           "bgcolor": "white",
           "radialaxis": {
            "gridcolor": "#EBF0F8",
            "linecolor": "#EBF0F8",
            "ticks": ""
           }
          },
          "scene": {
           "xaxis": {
            "backgroundcolor": "white",
            "gridcolor": "#DFE8F3",
            "gridwidth": 2,
            "linecolor": "#EBF0F8",
            "showbackground": true,
            "ticks": "",
            "zerolinecolor": "#EBF0F8"
           },
           "yaxis": {
            "backgroundcolor": "white",
            "gridcolor": "#DFE8F3",
            "gridwidth": 2,
            "linecolor": "#EBF0F8",
            "showbackground": true,
            "ticks": "",
            "zerolinecolor": "#EBF0F8"
           },
           "zaxis": {
            "backgroundcolor": "white",
            "gridcolor": "#DFE8F3",
            "gridwidth": 2,
            "linecolor": "#EBF0F8",
            "showbackground": true,
            "ticks": "",
            "zerolinecolor": "#EBF0F8"
           }
          },
          "shapedefaults": {
           "line": {
            "color": "#2a3f5f"
           }
          },
          "ternary": {
           "aaxis": {
            "gridcolor": "#DFE8F3",
            "linecolor": "#A2B1C6",
            "ticks": ""
           },
           "baxis": {
            "gridcolor": "#DFE8F3",
            "linecolor": "#A2B1C6",
            "ticks": ""
           },
           "bgcolor": "white",
           "caxis": {
            "gridcolor": "#DFE8F3",
            "linecolor": "#A2B1C6",
            "ticks": ""
           }
          },
          "title": {
           "x": 0.05
          },
          "xaxis": {
           "automargin": true,
           "gridcolor": "#EBF0F8",
           "linecolor": "#EBF0F8",
           "ticks": "",
           "title": {
            "standoff": 15
           },
           "zerolinecolor": "#EBF0F8",
           "zerolinewidth": 2
          },
          "yaxis": {
           "automargin": true,
           "gridcolor": "#EBF0F8",
           "linecolor": "#EBF0F8",
           "ticks": "",
           "title": {
            "standoff": 15
           },
           "zerolinecolor": "#EBF0F8",
           "zerolinewidth": 2
          }
         }
        },
        "title": {
         "text": "Population by County in Utah (1880)"
        },
        "xaxis": {
         "anchor": "y",
         "domain": [
          0,
          1
         ],
         "title": {
          "text": "County"
         }
        },
        "yaxis": {
         "anchor": "x",
         "domain": [
          0,
          1
         ],
         "title": {
          "text": "Population"
         }
        }
       }
      }
     },
     "metadata": {},
     "output_type": "display_data"
    }
   ],
   "source": [
    "# Add color and use a cleaner template\n",
    "fig = px.bar(\n",
    "    county_counts,\n",
    "    x='county',\n",
    "    y='count',\n",
    "    title='Population by County in Utah (1880)',\n",
    "    labels={'county': 'County', 'count': 'Population'},\n",
    "    color='count',                     # Color bars by population\n",
    "    color_continuous_scale='Inferno_r',  # Use a reversed color scale\n",
    "    template='plotly_white'            # Use a clean white template\n",
    ")\n",
    "\n",
    "# Display the chart\n",
    "fig.show()"
   ]
  },
  {
   "cell_type": "code",
   "execution_count": 35,
   "metadata": {},
   "outputs": [
    {
     "data": {
      "application/vnd.plotly.v1+json": {
       "config": {
        "plotlyServerURL": "https://plot.ly"
       },
       "data": [
        {
         "alignmentgroup": "True",
         "hovertemplate": "County=%{x}<br>Population=%{marker.color}<extra></extra>",
         "legendgroup": "",
         "marker": {
          "color": [
           31989,
           17967,
           12562,
           12358,
           11538,
           6766,
           5166,
           4921,
           4496,
           4457,
           4140,
           4034,
           3864,
           3719,
           3477,
           3090,
           2928,
           1783,
           1616,
           799,
           556,
           281,
           204
          ],
          "coloraxis": "coloraxis",
          "pattern": {
           "shape": ""
          }
         },
         "name": "",
         "offsetgroup": "",
         "orientation": "v",
         "showlegend": false,
         "textposition": "auto",
         "type": "bar",
         "x": [
          "SALT LAKE",
          "UTAH",
          "CACHE",
          "WEBER",
          "SANPETE",
          "BOX ELDER",
          "DAVIS",
          "SUMMIT",
          "TOOELE",
          "SEVIER",
          "WASHINGTON",
          "IRON",
          "BEAVER",
          "MILLARD",
          "JUAB",
          "KANE",
          "WASATCH",
          "MORGAN",
          "PIUTE",
          "UINTAH",
          "EMERY",
          "RICH",
          "SAN JUAN"
         ],
         "xaxis": "x",
         "y": [
          31989,
          17967,
          12562,
          12358,
          11538,
          6766,
          5166,
          4921,
          4496,
          4457,
          4140,
          4034,
          3864,
          3719,
          3477,
          3090,
          2928,
          1783,
          1616,
          799,
          556,
          281,
          204
         ],
         "yaxis": "y"
        }
       ],
       "layout": {
        "barmode": "relative",
        "coloraxis": {
         "colorbar": {
          "title": {
           "text": "Population"
          }
         },
         "colorscale": [
          [
           0,
           "#fcffa4"
          ],
          [
           0.1111111111111111,
           "#f7d13d"
          ],
          [
           0.2222222222222222,
           "#fb9b06"
          ],
          [
           0.3333333333333333,
           "#ed6925"
          ],
          [
           0.4444444444444444,
           "#cf4446"
          ],
          [
           0.5555555555555556,
           "#a52c60"
          ],
          [
           0.6666666666666666,
           "#781c6d"
          ],
          [
           0.7777777777777778,
           "#4a0c6b"
          ],
          [
           0.8888888888888888,
           "#1b0c41"
          ],
          [
           1,
           "#000004"
          ]
         ]
        },
        "height": 500,
        "hoverlabel": {
         "bgcolor": "white",
         "font": {
          "family": "Arial",
          "size": 12
         }
        },
        "legend": {
         "title": {
          "text": "Population"
         },
         "tracegroupgap": 0
        },
        "margin": {
         "b": 80,
         "l": 40,
         "r": 40,
         "t": 80
        },
        "plot_bgcolor": "white",
        "showlegend": true,
        "template": {
         "data": {
          "bar": [
           {
            "error_x": {
             "color": "#2a3f5f"
            },
            "error_y": {
             "color": "#2a3f5f"
            },
            "marker": {
             "line": {
              "color": "white",
              "width": 0.5
             },
             "pattern": {
              "fillmode": "overlay",
              "size": 10,
              "solidity": 0.2
             }
            },
            "type": "bar"
           }
          ],
          "barpolar": [
           {
            "marker": {
             "line": {
              "color": "white",
              "width": 0.5
             },
             "pattern": {
              "fillmode": "overlay",
              "size": 10,
              "solidity": 0.2
             }
            },
            "type": "barpolar"
           }
          ],
          "carpet": [
           {
            "aaxis": {
             "endlinecolor": "#2a3f5f",
             "gridcolor": "#C8D4E3",
             "linecolor": "#C8D4E3",
             "minorgridcolor": "#C8D4E3",
             "startlinecolor": "#2a3f5f"
            },
            "baxis": {
             "endlinecolor": "#2a3f5f",
             "gridcolor": "#C8D4E3",
             "linecolor": "#C8D4E3",
             "minorgridcolor": "#C8D4E3",
             "startlinecolor": "#2a3f5f"
            },
            "type": "carpet"
           }
          ],
          "choropleth": [
           {
            "colorbar": {
             "outlinewidth": 0,
             "ticks": ""
            },
            "type": "choropleth"
           }
          ],
          "contour": [
           {
            "colorbar": {
             "outlinewidth": 0,
             "ticks": ""
            },
            "colorscale": [
             [
              0,
              "#0d0887"
             ],
             [
              0.1111111111111111,
              "#46039f"
             ],
             [
              0.2222222222222222,
              "#7201a8"
             ],
             [
              0.3333333333333333,
              "#9c179e"
             ],
             [
              0.4444444444444444,
              "#bd3786"
             ],
             [
              0.5555555555555556,
              "#d8576b"
             ],
             [
              0.6666666666666666,
              "#ed7953"
             ],
             [
              0.7777777777777778,
              "#fb9f3a"
             ],
             [
              0.8888888888888888,
              "#fdca26"
             ],
             [
              1,
              "#f0f921"
             ]
            ],
            "type": "contour"
           }
          ],
          "contourcarpet": [
           {
            "colorbar": {
             "outlinewidth": 0,
             "ticks": ""
            },
            "type": "contourcarpet"
           }
          ],
          "heatmap": [
           {
            "colorbar": {
             "outlinewidth": 0,
             "ticks": ""
            },
            "colorscale": [
             [
              0,
              "#0d0887"
             ],
             [
              0.1111111111111111,
              "#46039f"
             ],
             [
              0.2222222222222222,
              "#7201a8"
             ],
             [
              0.3333333333333333,
              "#9c179e"
             ],
             [
              0.4444444444444444,
              "#bd3786"
             ],
             [
              0.5555555555555556,
              "#d8576b"
             ],
             [
              0.6666666666666666,
              "#ed7953"
             ],
             [
              0.7777777777777778,
              "#fb9f3a"
             ],
             [
              0.8888888888888888,
              "#fdca26"
             ],
             [
              1,
              "#f0f921"
             ]
            ],
            "type": "heatmap"
           }
          ],
          "heatmapgl": [
           {
            "colorbar": {
             "outlinewidth": 0,
             "ticks": ""
            },
            "colorscale": [
             [
              0,
              "#0d0887"
             ],
             [
              0.1111111111111111,
              "#46039f"
             ],
             [
              0.2222222222222222,
              "#7201a8"
             ],
             [
              0.3333333333333333,
              "#9c179e"
             ],
             [
              0.4444444444444444,
              "#bd3786"
             ],
             [
              0.5555555555555556,
              "#d8576b"
             ],
             [
              0.6666666666666666,
              "#ed7953"
             ],
             [
              0.7777777777777778,
              "#fb9f3a"
             ],
             [
              0.8888888888888888,
              "#fdca26"
             ],
             [
              1,
              "#f0f921"
             ]
            ],
            "type": "heatmapgl"
           }
          ],
          "histogram": [
           {
            "marker": {
             "pattern": {
              "fillmode": "overlay",
              "size": 10,
              "solidity": 0.2
             }
            },
            "type": "histogram"
           }
          ],
          "histogram2d": [
           {
            "colorbar": {
             "outlinewidth": 0,
             "ticks": ""
            },
            "colorscale": [
             [
              0,
              "#0d0887"
             ],
             [
              0.1111111111111111,
              "#46039f"
             ],
             [
              0.2222222222222222,
              "#7201a8"
             ],
             [
              0.3333333333333333,
              "#9c179e"
             ],
             [
              0.4444444444444444,
              "#bd3786"
             ],
             [
              0.5555555555555556,
              "#d8576b"
             ],
             [
              0.6666666666666666,
              "#ed7953"
             ],
             [
              0.7777777777777778,
              "#fb9f3a"
             ],
             [
              0.8888888888888888,
              "#fdca26"
             ],
             [
              1,
              "#f0f921"
             ]
            ],
            "type": "histogram2d"
           }
          ],
          "histogram2dcontour": [
           {
            "colorbar": {
             "outlinewidth": 0,
             "ticks": ""
            },
            "colorscale": [
             [
              0,
              "#0d0887"
             ],
             [
              0.1111111111111111,
              "#46039f"
             ],
             [
              0.2222222222222222,
              "#7201a8"
             ],
             [
              0.3333333333333333,
              "#9c179e"
             ],
             [
              0.4444444444444444,
              "#bd3786"
             ],
             [
              0.5555555555555556,
              "#d8576b"
             ],
             [
              0.6666666666666666,
              "#ed7953"
             ],
             [
              0.7777777777777778,
              "#fb9f3a"
             ],
             [
              0.8888888888888888,
              "#fdca26"
             ],
             [
              1,
              "#f0f921"
             ]
            ],
            "type": "histogram2dcontour"
           }
          ],
          "mesh3d": [
           {
            "colorbar": {
             "outlinewidth": 0,
             "ticks": ""
            },
            "type": "mesh3d"
           }
          ],
          "parcoords": [
           {
            "line": {
             "colorbar": {
              "outlinewidth": 0,
              "ticks": ""
             }
            },
            "type": "parcoords"
           }
          ],
          "pie": [
           {
            "automargin": true,
            "type": "pie"
           }
          ],
          "scatter": [
           {
            "fillpattern": {
             "fillmode": "overlay",
             "size": 10,
             "solidity": 0.2
            },
            "type": "scatter"
           }
          ],
          "scatter3d": [
           {
            "line": {
             "colorbar": {
              "outlinewidth": 0,
              "ticks": ""
             }
            },
            "marker": {
             "colorbar": {
              "outlinewidth": 0,
              "ticks": ""
             }
            },
            "type": "scatter3d"
           }
          ],
          "scattercarpet": [
           {
            "marker": {
             "colorbar": {
              "outlinewidth": 0,
              "ticks": ""
             }
            },
            "type": "scattercarpet"
           }
          ],
          "scattergeo": [
           {
            "marker": {
             "colorbar": {
              "outlinewidth": 0,
              "ticks": ""
             }
            },
            "type": "scattergeo"
           }
          ],
          "scattergl": [
           {
            "marker": {
             "colorbar": {
              "outlinewidth": 0,
              "ticks": ""
             }
            },
            "type": "scattergl"
           }
          ],
          "scattermapbox": [
           {
            "marker": {
             "colorbar": {
              "outlinewidth": 0,
              "ticks": ""
             }
            },
            "type": "scattermapbox"
           }
          ],
          "scatterpolar": [
           {
            "marker": {
             "colorbar": {
              "outlinewidth": 0,
              "ticks": ""
             }
            },
            "type": "scatterpolar"
           }
          ],
          "scatterpolargl": [
           {
            "marker": {
             "colorbar": {
              "outlinewidth": 0,
              "ticks": ""
             }
            },
            "type": "scatterpolargl"
           }
          ],
          "scatterternary": [
           {
            "marker": {
             "colorbar": {
              "outlinewidth": 0,
              "ticks": ""
             }
            },
            "type": "scatterternary"
           }
          ],
          "surface": [
           {
            "colorbar": {
             "outlinewidth": 0,
             "ticks": ""
            },
            "colorscale": [
             [
              0,
              "#0d0887"
             ],
             [
              0.1111111111111111,
              "#46039f"
             ],
             [
              0.2222222222222222,
              "#7201a8"
             ],
             [
              0.3333333333333333,
              "#9c179e"
             ],
             [
              0.4444444444444444,
              "#bd3786"
             ],
             [
              0.5555555555555556,
              "#d8576b"
             ],
             [
              0.6666666666666666,
              "#ed7953"
             ],
             [
              0.7777777777777778,
              "#fb9f3a"
             ],
             [
              0.8888888888888888,
              "#fdca26"
             ],
             [
              1,
              "#f0f921"
             ]
            ],
            "type": "surface"
           }
          ],
          "table": [
           {
            "cells": {
             "fill": {
              "color": "#EBF0F8"
             },
             "line": {
              "color": "white"
             }
            },
            "header": {
             "fill": {
              "color": "#C8D4E3"
             },
             "line": {
              "color": "white"
             }
            },
            "type": "table"
           }
          ]
         },
         "layout": {
          "annotationdefaults": {
           "arrowcolor": "#2a3f5f",
           "arrowhead": 0,
           "arrowwidth": 1
          },
          "autotypenumbers": "strict",
          "coloraxis": {
           "colorbar": {
            "outlinewidth": 0,
            "ticks": ""
           }
          },
          "colorscale": {
           "diverging": [
            [
             0,
             "#8e0152"
            ],
            [
             0.1,
             "#c51b7d"
            ],
            [
             0.2,
             "#de77ae"
            ],
            [
             0.3,
             "#f1b6da"
            ],
            [
             0.4,
             "#fde0ef"
            ],
            [
             0.5,
             "#f7f7f7"
            ],
            [
             0.6,
             "#e6f5d0"
            ],
            [
             0.7,
             "#b8e186"
            ],
            [
             0.8,
             "#7fbc41"
            ],
            [
             0.9,
             "#4d9221"
            ],
            [
             1,
             "#276419"
            ]
           ],
           "sequential": [
            [
             0,
             "#0d0887"
            ],
            [
             0.1111111111111111,
             "#46039f"
            ],
            [
             0.2222222222222222,
             "#7201a8"
            ],
            [
             0.3333333333333333,
             "#9c179e"
            ],
            [
             0.4444444444444444,
             "#bd3786"
            ],
            [
             0.5555555555555556,
             "#d8576b"
            ],
            [
             0.6666666666666666,
             "#ed7953"
            ],
            [
             0.7777777777777778,
             "#fb9f3a"
            ],
            [
             0.8888888888888888,
             "#fdca26"
            ],
            [
             1,
             "#f0f921"
            ]
           ],
           "sequentialminus": [
            [
             0,
             "#0d0887"
            ],
            [
             0.1111111111111111,
             "#46039f"
            ],
            [
             0.2222222222222222,
             "#7201a8"
            ],
            [
             0.3333333333333333,
             "#9c179e"
            ],
            [
             0.4444444444444444,
             "#bd3786"
            ],
            [
             0.5555555555555556,
             "#d8576b"
            ],
            [
             0.6666666666666666,
             "#ed7953"
            ],
            [
             0.7777777777777778,
             "#fb9f3a"
            ],
            [
             0.8888888888888888,
             "#fdca26"
            ],
            [
             1,
             "#f0f921"
            ]
           ]
          },
          "colorway": [
           "#636efa",
           "#EF553B",
           "#00cc96",
           "#ab63fa",
           "#FFA15A",
           "#19d3f3",
           "#FF6692",
           "#B6E880",
           "#FF97FF",
           "#FECB52"
          ],
          "font": {
           "color": "#2a3f5f"
          },
          "geo": {
           "bgcolor": "white",
           "lakecolor": "white",
           "landcolor": "white",
           "showlakes": true,
           "showland": true,
           "subunitcolor": "#C8D4E3"
          },
          "hoverlabel": {
           "align": "left"
          },
          "hovermode": "closest",
          "mapbox": {
           "style": "light"
          },
          "paper_bgcolor": "white",
          "plot_bgcolor": "white",
          "polar": {
           "angularaxis": {
            "gridcolor": "#EBF0F8",
            "linecolor": "#EBF0F8",
            "ticks": ""
           },
           "bgcolor": "white",
           "radialaxis": {
            "gridcolor": "#EBF0F8",
            "linecolor": "#EBF0F8",
            "ticks": ""
           }
          },
          "scene": {
           "xaxis": {
            "backgroundcolor": "white",
            "gridcolor": "#DFE8F3",
            "gridwidth": 2,
            "linecolor": "#EBF0F8",
            "showbackground": true,
            "ticks": "",
            "zerolinecolor": "#EBF0F8"
           },
           "yaxis": {
            "backgroundcolor": "white",
            "gridcolor": "#DFE8F3",
            "gridwidth": 2,
            "linecolor": "#EBF0F8",
            "showbackground": true,
            "ticks": "",
            "zerolinecolor": "#EBF0F8"
           },
           "zaxis": {
            "backgroundcolor": "white",
            "gridcolor": "#DFE8F3",
            "gridwidth": 2,
            "linecolor": "#EBF0F8",
            "showbackground": true,
            "ticks": "",
            "zerolinecolor": "#EBF0F8"
           }
          },
          "shapedefaults": {
           "line": {
            "color": "#2a3f5f"
           }
          },
          "ternary": {
           "aaxis": {
            "gridcolor": "#DFE8F3",
            "linecolor": "#A2B1C6",
            "ticks": ""
           },
           "baxis": {
            "gridcolor": "#DFE8F3",
            "linecolor": "#A2B1C6",
            "ticks": ""
           },
           "bgcolor": "white",
           "caxis": {
            "gridcolor": "#DFE8F3",
            "linecolor": "#A2B1C6",
            "ticks": ""
           }
          },
          "title": {
           "x": 0.05
          },
          "xaxis": {
           "automargin": true,
           "gridcolor": "#EBF0F8",
           "linecolor": "#EBF0F8",
           "ticks": "",
           "title": {
            "standoff": 15
           },
           "zerolinecolor": "#EBF0F8",
           "zerolinewidth": 2
          },
          "yaxis": {
           "automargin": true,
           "gridcolor": "#EBF0F8",
           "linecolor": "#EBF0F8",
           "ticks": "",
           "title": {
            "standoff": 15
           },
           "zerolinecolor": "#EBF0F8",
           "zerolinewidth": 2
          }
         }
        },
        "title": {
         "font": {
          "size": 22
         },
         "text": "Population by County in Utah (1880)"
        },
        "width": 800,
        "xaxis": {
         "anchor": "y",
         "domain": [
          0,
          1
         ],
         "tickangle": -45,
         "title": {
          "text": "County"
         }
        },
        "yaxis": {
         "anchor": "x",
         "domain": [
          0,
          1
         ],
         "title": {
          "text": "Number of People"
         }
        }
       }
      }
     },
     "metadata": {},
     "output_type": "display_data"
    }
   ],
   "source": [
    "# Update layout with additional customizations\n",
    "fig.update_layout(\n",
    "    xaxis_title='County',                  # Customize x-axis title\n",
    "    yaxis_title='Number of People',        # Customize y-axis title\n",
    "    xaxis_tickangle=-45,                   # Rotate x-axis labels 45 degrees\n",
    "    height=500,                            # Set chart height in pixels\n",
    "    width=800,                             # Set chart width in pixels\n",
    "    title_font=dict(size=22),              # Change title font size\n",
    "    plot_bgcolor='white',  # Set plot background color\n",
    "    margin=dict(l=40, r=40, t=80, b=80),   # Adjust margins (left, right, top, bottom)\n",
    "    showlegend=True,                       # Show the color scale legend\n",
    "    legend_title_text='Population',        # Set legend title\n",
    "    hoverlabel=dict(                       # Customize hover label appearance\n",
    "        bgcolor=\"white\",\n",
    "        font_size=12,\n",
    "        font_family=\"Arial\")\n",
    ")\n",
    "\n",
    "# Display the chart\n",
    "fig.show()"
   ]
  },
  {
   "cell_type": "code",
   "execution_count": 36,
   "metadata": {},
   "outputs": [
    {
     "data": {
      "text/html": [
       "<div>\n",
       "<style scoped>\n",
       "    .dataframe tbody tr th:only-of-type {\n",
       "        vertical-align: middle;\n",
       "    }\n",
       "\n",
       "    .dataframe tbody tr th {\n",
       "        vertical-align: top;\n",
       "    }\n",
       "\n",
       "    .dataframe thead th {\n",
       "        text-align: right;\n",
       "    }\n",
       "</style>\n",
       "<table border=\"1\" class=\"dataframe\">\n",
       "  <thead>\n",
       "    <tr style=\"text-align: right;\">\n",
       "      <th></th>\n",
       "      <th>occupation</th>\n",
       "      <th>count</th>\n",
       "    </tr>\n",
       "  </thead>\n",
       "  <tbody>\n",
       "    <tr>\n",
       "      <th>0</th>\n",
       "      <td>KEEPING HOUSE</td>\n",
       "      <td>23031</td>\n",
       "    </tr>\n",
       "    <tr>\n",
       "      <th>1</th>\n",
       "      <td>AT HOME</td>\n",
       "      <td>13743</td>\n",
       "    </tr>\n",
       "    <tr>\n",
       "      <th>2</th>\n",
       "      <td>FARMER</td>\n",
       "      <td>9535</td>\n",
       "    </tr>\n",
       "    <tr>\n",
       "      <th>3</th>\n",
       "      <td>LABORER</td>\n",
       "      <td>6846</td>\n",
       "    </tr>\n",
       "    <tr>\n",
       "      <th>4</th>\n",
       "      <td>AT SCHOOL</td>\n",
       "      <td>6549</td>\n",
       "    </tr>\n",
       "    <tr>\n",
       "      <th>5</th>\n",
       "      <td>MINER</td>\n",
       "      <td>2596</td>\n",
       "    </tr>\n",
       "    <tr>\n",
       "      <th>6</th>\n",
       "      <td>WORKS ON FARM</td>\n",
       "      <td>2026</td>\n",
       "    </tr>\n",
       "    <tr>\n",
       "      <th>7</th>\n",
       "      <td>CARPENTER</td>\n",
       "      <td>1225</td>\n",
       "    </tr>\n",
       "    <tr>\n",
       "      <th>8</th>\n",
       "      <td>SERVANT</td>\n",
       "      <td>1219</td>\n",
       "    </tr>\n",
       "    <tr>\n",
       "      <th>9</th>\n",
       "      <td>FARM LABORER</td>\n",
       "      <td>1065</td>\n",
       "    </tr>\n",
       "  </tbody>\n",
       "</table>\n",
       "</div>"
      ],
      "text/plain": [
       "      occupation  count\n",
       "0  KEEPING HOUSE  23031\n",
       "1        AT HOME  13743\n",
       "2         FARMER   9535\n",
       "3        LABORER   6846\n",
       "4      AT SCHOOL   6549\n",
       "5          MINER   2596\n",
       "6  WORKS ON FARM   2026\n",
       "7      CARPENTER   1225\n",
       "8        SERVANT   1219\n",
       "9   FARM LABORER   1065"
      ]
     },
     "execution_count": 36,
     "metadata": {},
     "output_type": "execute_result"
    }
   ],
   "source": [
    "# First, let's prepare our data\n",
    "# Count the frequency of each occupation, take the top 10, and reset the index\n",
    "top_occupations = utah_df['occupation'].value_counts().reset_index()\n",
    "top_occupations.columns = ['occupation', 'count']\n",
    "top_occupations = top_occupations.head(10)\n",
    "\n",
    "# Display the prepared data\n",
    "top_occupations"
   ]
  },
  {
   "cell_type": "code",
   "execution_count": 37,
   "metadata": {},
   "outputs": [
    {
     "data": {
      "application/vnd.plotly.v1+json": {
       "config": {
        "plotlyServerURL": "https://plot.ly"
       },
       "data": [
        {
         "alignmentgroup": "True",
         "hovertemplate": "Occupation=%{x}<br>Number of People=%{marker.color}<extra></extra>",
         "legendgroup": "",
         "marker": {
          "color": [
           23031,
           13743,
           9535,
           6846,
           6549,
           2596,
           2026,
           1225,
           1219,
           1065
          ],
          "coloraxis": "coloraxis",
          "pattern": {
           "shape": ""
          }
         },
         "name": "",
         "offsetgroup": "",
         "orientation": "v",
         "showlegend": false,
         "textposition": "auto",
         "type": "bar",
         "x": [
          "KEEPING HOUSE",
          "AT HOME",
          "FARMER",
          "LABORER",
          "AT SCHOOL",
          "MINER",
          "WORKS ON FARM",
          "CARPENTER",
          "SERVANT",
          "FARM LABORER"
         ],
         "xaxis": "x",
         "y": [
          23031,
          13743,
          9535,
          6846,
          6549,
          2596,
          2026,
          1225,
          1219,
          1065
         ],
         "yaxis": "y"
        }
       ],
       "layout": {
        "barmode": "relative",
        "coloraxis": {
         "colorbar": {
          "title": {
           "text": "Number of People"
          }
         },
         "colorscale": [
          [
           0,
           "#440154"
          ],
          [
           0.1111111111111111,
           "#482878"
          ],
          [
           0.2222222222222222,
           "#3e4989"
          ],
          [
           0.3333333333333333,
           "#31688e"
          ],
          [
           0.4444444444444444,
           "#26828e"
          ],
          [
           0.5555555555555556,
           "#1f9e89"
          ],
          [
           0.6666666666666666,
           "#35b779"
          ],
          [
           0.7777777777777778,
           "#6ece58"
          ],
          [
           0.8888888888888888,
           "#b5de2b"
          ],
          [
           1,
           "#fde725"
          ]
         ]
        },
        "height": 400,
        "hoverlabel": {
         "bgcolor": "black",
         "font": {
          "family": "Courier New",
          "size": 14
         }
        },
        "legend": {
         "tracegroupgap": 0
        },
        "margin": {
         "b": 100,
         "l": 80,
         "r": 80,
         "t": 100
        },
        "template": {
         "data": {
          "bar": [
           {
            "error_x": {
             "color": "#f2f5fa"
            },
            "error_y": {
             "color": "#f2f5fa"
            },
            "marker": {
             "line": {
              "color": "rgb(17,17,17)",
              "width": 0.5
             },
             "pattern": {
              "fillmode": "overlay",
              "size": 10,
              "solidity": 0.2
             }
            },
            "type": "bar"
           }
          ],
          "barpolar": [
           {
            "marker": {
             "line": {
              "color": "rgb(17,17,17)",
              "width": 0.5
             },
             "pattern": {
              "fillmode": "overlay",
              "size": 10,
              "solidity": 0.2
             }
            },
            "type": "barpolar"
           }
          ],
          "carpet": [
           {
            "aaxis": {
             "endlinecolor": "#A2B1C6",
             "gridcolor": "#506784",
             "linecolor": "#506784",
             "minorgridcolor": "#506784",
             "startlinecolor": "#A2B1C6"
            },
            "baxis": {
             "endlinecolor": "#A2B1C6",
             "gridcolor": "#506784",
             "linecolor": "#506784",
             "minorgridcolor": "#506784",
             "startlinecolor": "#A2B1C6"
            },
            "type": "carpet"
           }
          ],
          "choropleth": [
           {
            "colorbar": {
             "outlinewidth": 0,
             "ticks": ""
            },
            "type": "choropleth"
           }
          ],
          "contour": [
           {
            "colorbar": {
             "outlinewidth": 0,
             "ticks": ""
            },
            "colorscale": [
             [
              0,
              "#0d0887"
             ],
             [
              0.1111111111111111,
              "#46039f"
             ],
             [
              0.2222222222222222,
              "#7201a8"
             ],
             [
              0.3333333333333333,
              "#9c179e"
             ],
             [
              0.4444444444444444,
              "#bd3786"
             ],
             [
              0.5555555555555556,
              "#d8576b"
             ],
             [
              0.6666666666666666,
              "#ed7953"
             ],
             [
              0.7777777777777778,
              "#fb9f3a"
             ],
             [
              0.8888888888888888,
              "#fdca26"
             ],
             [
              1,
              "#f0f921"
             ]
            ],
            "type": "contour"
           }
          ],
          "contourcarpet": [
           {
            "colorbar": {
             "outlinewidth": 0,
             "ticks": ""
            },
            "type": "contourcarpet"
           }
          ],
          "heatmap": [
           {
            "colorbar": {
             "outlinewidth": 0,
             "ticks": ""
            },
            "colorscale": [
             [
              0,
              "#0d0887"
             ],
             [
              0.1111111111111111,
              "#46039f"
             ],
             [
              0.2222222222222222,
              "#7201a8"
             ],
             [
              0.3333333333333333,
              "#9c179e"
             ],
             [
              0.4444444444444444,
              "#bd3786"
             ],
             [
              0.5555555555555556,
              "#d8576b"
             ],
             [
              0.6666666666666666,
              "#ed7953"
             ],
             [
              0.7777777777777778,
              "#fb9f3a"
             ],
             [
              0.8888888888888888,
              "#fdca26"
             ],
             [
              1,
              "#f0f921"
             ]
            ],
            "type": "heatmap"
           }
          ],
          "heatmapgl": [
           {
            "colorbar": {
             "outlinewidth": 0,
             "ticks": ""
            },
            "colorscale": [
             [
              0,
              "#0d0887"
             ],
             [
              0.1111111111111111,
              "#46039f"
             ],
             [
              0.2222222222222222,
              "#7201a8"
             ],
             [
              0.3333333333333333,
              "#9c179e"
             ],
             [
              0.4444444444444444,
              "#bd3786"
             ],
             [
              0.5555555555555556,
              "#d8576b"
             ],
             [
              0.6666666666666666,
              "#ed7953"
             ],
             [
              0.7777777777777778,
              "#fb9f3a"
             ],
             [
              0.8888888888888888,
              "#fdca26"
             ],
             [
              1,
              "#f0f921"
             ]
            ],
            "type": "heatmapgl"
           }
          ],
          "histogram": [
           {
            "marker": {
             "pattern": {
              "fillmode": "overlay",
              "size": 10,
              "solidity": 0.2
             }
            },
            "type": "histogram"
           }
          ],
          "histogram2d": [
           {
            "colorbar": {
             "outlinewidth": 0,
             "ticks": ""
            },
            "colorscale": [
             [
              0,
              "#0d0887"
             ],
             [
              0.1111111111111111,
              "#46039f"
             ],
             [
              0.2222222222222222,
              "#7201a8"
             ],
             [
              0.3333333333333333,
              "#9c179e"
             ],
             [
              0.4444444444444444,
              "#bd3786"
             ],
             [
              0.5555555555555556,
              "#d8576b"
             ],
             [
              0.6666666666666666,
              "#ed7953"
             ],
             [
              0.7777777777777778,
              "#fb9f3a"
             ],
             [
              0.8888888888888888,
              "#fdca26"
             ],
             [
              1,
              "#f0f921"
             ]
            ],
            "type": "histogram2d"
           }
          ],
          "histogram2dcontour": [
           {
            "colorbar": {
             "outlinewidth": 0,
             "ticks": ""
            },
            "colorscale": [
             [
              0,
              "#0d0887"
             ],
             [
              0.1111111111111111,
              "#46039f"
             ],
             [
              0.2222222222222222,
              "#7201a8"
             ],
             [
              0.3333333333333333,
              "#9c179e"
             ],
             [
              0.4444444444444444,
              "#bd3786"
             ],
             [
              0.5555555555555556,
              "#d8576b"
             ],
             [
              0.6666666666666666,
              "#ed7953"
             ],
             [
              0.7777777777777778,
              "#fb9f3a"
             ],
             [
              0.8888888888888888,
              "#fdca26"
             ],
             [
              1,
              "#f0f921"
             ]
            ],
            "type": "histogram2dcontour"
           }
          ],
          "mesh3d": [
           {
            "colorbar": {
             "outlinewidth": 0,
             "ticks": ""
            },
            "type": "mesh3d"
           }
          ],
          "parcoords": [
           {
            "line": {
             "colorbar": {
              "outlinewidth": 0,
              "ticks": ""
             }
            },
            "type": "parcoords"
           }
          ],
          "pie": [
           {
            "automargin": true,
            "type": "pie"
           }
          ],
          "scatter": [
           {
            "marker": {
             "line": {
              "color": "#283442"
             }
            },
            "type": "scatter"
           }
          ],
          "scatter3d": [
           {
            "line": {
             "colorbar": {
              "outlinewidth": 0,
              "ticks": ""
             }
            },
            "marker": {
             "colorbar": {
              "outlinewidth": 0,
              "ticks": ""
             }
            },
            "type": "scatter3d"
           }
          ],
          "scattercarpet": [
           {
            "marker": {
             "colorbar": {
              "outlinewidth": 0,
              "ticks": ""
             }
            },
            "type": "scattercarpet"
           }
          ],
          "scattergeo": [
           {
            "marker": {
             "colorbar": {
              "outlinewidth": 0,
              "ticks": ""
             }
            },
            "type": "scattergeo"
           }
          ],
          "scattergl": [
           {
            "marker": {
             "line": {
              "color": "#283442"
             }
            },
            "type": "scattergl"
           }
          ],
          "scattermapbox": [
           {
            "marker": {
             "colorbar": {
              "outlinewidth": 0,
              "ticks": ""
             }
            },
            "type": "scattermapbox"
           }
          ],
          "scatterpolar": [
           {
            "marker": {
             "colorbar": {
              "outlinewidth": 0,
              "ticks": ""
             }
            },
            "type": "scatterpolar"
           }
          ],
          "scatterpolargl": [
           {
            "marker": {
             "colorbar": {
              "outlinewidth": 0,
              "ticks": ""
             }
            },
            "type": "scatterpolargl"
           }
          ],
          "scatterternary": [
           {
            "marker": {
             "colorbar": {
              "outlinewidth": 0,
              "ticks": ""
             }
            },
            "type": "scatterternary"
           }
          ],
          "surface": [
           {
            "colorbar": {
             "outlinewidth": 0,
             "ticks": ""
            },
            "colorscale": [
             [
              0,
              "#0d0887"
             ],
             [
              0.1111111111111111,
              "#46039f"
             ],
             [
              0.2222222222222222,
              "#7201a8"
             ],
             [
              0.3333333333333333,
              "#9c179e"
             ],
             [
              0.4444444444444444,
              "#bd3786"
             ],
             [
              0.5555555555555556,
              "#d8576b"
             ],
             [
              0.6666666666666666,
              "#ed7953"
             ],
             [
              0.7777777777777778,
              "#fb9f3a"
             ],
             [
              0.8888888888888888,
              "#fdca26"
             ],
             [
              1,
              "#f0f921"
             ]
            ],
            "type": "surface"
           }
          ],
          "table": [
           {
            "cells": {
             "fill": {
              "color": "#506784"
             },
             "line": {
              "color": "rgb(17,17,17)"
             }
            },
            "header": {
             "fill": {
              "color": "#2a3f5f"
             },
             "line": {
              "color": "rgb(17,17,17)"
             }
            },
            "type": "table"
           }
          ]
         },
         "layout": {
          "annotationdefaults": {
           "arrowcolor": "#f2f5fa",
           "arrowhead": 0,
           "arrowwidth": 1
          },
          "autotypenumbers": "strict",
          "coloraxis": {
           "colorbar": {
            "outlinewidth": 0,
            "ticks": ""
           }
          },
          "colorscale": {
           "diverging": [
            [
             0,
             "#8e0152"
            ],
            [
             0.1,
             "#c51b7d"
            ],
            [
             0.2,
             "#de77ae"
            ],
            [
             0.3,
             "#f1b6da"
            ],
            [
             0.4,
             "#fde0ef"
            ],
            [
             0.5,
             "#f7f7f7"
            ],
            [
             0.6,
             "#e6f5d0"
            ],
            [
             0.7,
             "#b8e186"
            ],
            [
             0.8,
             "#7fbc41"
            ],
            [
             0.9,
             "#4d9221"
            ],
            [
             1,
             "#276419"
            ]
           ],
           "sequential": [
            [
             0,
             "#0d0887"
            ],
            [
             0.1111111111111111,
             "#46039f"
            ],
            [
             0.2222222222222222,
             "#7201a8"
            ],
            [
             0.3333333333333333,
             "#9c179e"
            ],
            [
             0.4444444444444444,
             "#bd3786"
            ],
            [
             0.5555555555555556,
             "#d8576b"
            ],
            [
             0.6666666666666666,
             "#ed7953"
            ],
            [
             0.7777777777777778,
             "#fb9f3a"
            ],
            [
             0.8888888888888888,
             "#fdca26"
            ],
            [
             1,
             "#f0f921"
            ]
           ],
           "sequentialminus": [
            [
             0,
             "#0d0887"
            ],
            [
             0.1111111111111111,
             "#46039f"
            ],
            [
             0.2222222222222222,
             "#7201a8"
            ],
            [
             0.3333333333333333,
             "#9c179e"
            ],
            [
             0.4444444444444444,
             "#bd3786"
            ],
            [
             0.5555555555555556,
             "#d8576b"
            ],
            [
             0.6666666666666666,
             "#ed7953"
            ],
            [
             0.7777777777777778,
             "#fb9f3a"
            ],
            [
             0.8888888888888888,
             "#fdca26"
            ],
            [
             1,
             "#f0f921"
            ]
           ]
          },
          "colorway": [
           "#636efa",
           "#EF553B",
           "#00cc96",
           "#ab63fa",
           "#FFA15A",
           "#19d3f3",
           "#FF6692",
           "#B6E880",
           "#FF97FF",
           "#FECB52"
          ],
          "font": {
           "color": "#f2f5fa"
          },
          "geo": {
           "bgcolor": "rgb(17,17,17)",
           "lakecolor": "rgb(17,17,17)",
           "landcolor": "rgb(17,17,17)",
           "showlakes": true,
           "showland": true,
           "subunitcolor": "#506784"
          },
          "hoverlabel": {
           "align": "left"
          },
          "hovermode": "closest",
          "mapbox": {
           "style": "dark"
          },
          "paper_bgcolor": "rgb(17,17,17)",
          "plot_bgcolor": "rgb(17,17,17)",
          "polar": {
           "angularaxis": {
            "gridcolor": "#506784",
            "linecolor": "#506784",
            "ticks": ""
           },
           "bgcolor": "rgb(17,17,17)",
           "radialaxis": {
            "gridcolor": "#506784",
            "linecolor": "#506784",
            "ticks": ""
           }
          },
          "scene": {
           "xaxis": {
            "backgroundcolor": "rgb(17,17,17)",
            "gridcolor": "#506784",
            "gridwidth": 2,
            "linecolor": "#506784",
            "showbackground": true,
            "ticks": "",
            "zerolinecolor": "#C8D4E3"
           },
           "yaxis": {
            "backgroundcolor": "rgb(17,17,17)",
            "gridcolor": "#506784",
            "gridwidth": 2,
            "linecolor": "#506784",
            "showbackground": true,
            "ticks": "",
            "zerolinecolor": "#C8D4E3"
           },
           "zaxis": {
            "backgroundcolor": "rgb(17,17,17)",
            "gridcolor": "#506784",
            "gridwidth": 2,
            "linecolor": "#506784",
            "showbackground": true,
            "ticks": "",
            "zerolinecolor": "#C8D4E3"
           }
          },
          "shapedefaults": {
           "line": {
            "color": "#f2f5fa"
           }
          },
          "sliderdefaults": {
           "bgcolor": "#C8D4E3",
           "bordercolor": "rgb(17,17,17)",
           "borderwidth": 1,
           "tickwidth": 0
          },
          "ternary": {
           "aaxis": {
            "gridcolor": "#506784",
            "linecolor": "#506784",
            "ticks": ""
           },
           "baxis": {
            "gridcolor": "#506784",
            "linecolor": "#506784",
            "ticks": ""
           },
           "bgcolor": "rgb(17,17,17)",
           "caxis": {
            "gridcolor": "#506784",
            "linecolor": "#506784",
            "ticks": ""
           }
          },
          "title": {
           "x": 0.05
          },
          "updatemenudefaults": {
           "bgcolor": "#506784",
           "borderwidth": 0
          },
          "xaxis": {
           "automargin": true,
           "gridcolor": "#283442",
           "linecolor": "#506784",
           "ticks": "",
           "title": {
            "standoff": 15
           },
           "zerolinecolor": "#283442",
           "zerolinewidth": 2
          },
          "yaxis": {
           "automargin": true,
           "gridcolor": "#283442",
           "linecolor": "#506784",
           "ticks": "",
           "title": {
            "standoff": 15
           },
           "zerolinecolor": "#283442",
           "zerolinewidth": 2
          }
         }
        },
        "title": {
         "font": {
          "size": 30
         },
         "text": "Top 10 Occupations in Utah (1880)"
        },
        "width": 800,
        "xaxis": {
         "anchor": "y",
         "domain": [
          0,
          1
         ],
         "tickangle": -45,
         "title": {
          "text": "Occupation"
         }
        },
        "yaxis": {
         "anchor": "x",
         "domain": [
          0,
          1
         ],
         "title": {
          "text": "Number of People"
         }
        }
       }
      }
     },
     "metadata": {},
     "output_type": "display_data"
    }
   ],
   "source": [
    "# 3. Enhance appearance with update_layout()\n",
    "fig = px.bar(\n",
    "    top_occupations,\n",
    "    x='occupation',\n",
    "    y='count',\n",
    "    color='count',  # Color bars by count\n",
    "    title='Top 10 Occupations in Utah (1880)',\n",
    "    labels={'occupation': 'Occupation', 'count': 'Number of People'},\n",
    "    color_continuous_scale='Viridis',\n",
    "    template='plotly_dark'\n",
    ")\n",
    "\n",
    "# Update layout with additional customizations\n",
    "fig.update_layout(\n",
    "    xaxis_tickangle=-45,  # Rotate x-axis labels 45 degrees\n",
    "    height=400,  # Set chart height in pixels\n",
    "    width=800,  # Set chart width in pixels\n",
    "    title_font=dict(size=30),  # Change title font size to 30\n",
    "    margin=dict(l=80, r=80, t=100, b=100),  # Different margins\n",
    "    coloraxis_colorbar=dict(title='Number of People'),  # Add a legend title\n",
    "    hoverlabel=dict(  # Customize hover label appearance\n",
    "        bgcolor=\"black\",\n",
    "        font_size=14,\n",
    "        font_family=\"Courier New\"\n",
    "    )\n",
    ")\n",
    "\n",
    "# Display the chart\n",
    "fig.show()"
   ]
  },
  {
   "cell_type": "code",
   "execution_count": 67,
   "metadata": {},
   "outputs": [
    {
     "data": {
      "text/plain": [
       "occupation\n",
       "KEEPING HOUSE           23031\n",
       "AT HOME                 13743\n",
       "FARMER                   9535\n",
       "LABORER                  6846\n",
       "AT SCHOOL                6549\n",
       "                        ...  \n",
       "CLERK IN SURVEYOR           1\n",
       "NIGHTWATCHMAN               1\n",
       "\"ARCHITECT, BUILDER\"        1\n",
       "ACTRESS                     1\n",
       "R.R. FIREMAN                1\n",
       "Name: count, Length: 3320, dtype: int64"
      ]
     },
     "execution_count": 67,
     "metadata": {},
     "output_type": "execute_result"
    }
   ],
   "source": [
    "# Create a subset with employment information and age\n",
    "# First, let's see what occupations are available\n",
    "utah_df['occupation'].value_counts()"
   ]
  },
  {
   "cell_type": "markdown",
   "metadata": {},
   "source": [
    "This pie chart shows the proportion of males (M) and females (F) recorded in the 1880 Utah census.\n"
   ]
  },
  {
   "cell_type": "markdown",
   "metadata": {},
   "source": [
    "## Occupational Distribution\n",
    "\n",
    "Now, let's explore the most common occupations in the 1880 Utah census:\n"
   ]
  },
  {
   "cell_type": "code",
   "execution_count": 43,
   "metadata": {},
   "outputs": [
    {
     "data": {
      "application/vnd.plotly.v1+json": {
       "config": {
        "plotlyServerURL": "https://plot.ly"
       },
       "data": [
        {
         "alignmentgroup": "True",
         "hovertemplate": "Count=%{marker.color}<br>Occupation=%{y}<extra></extra>",
         "legendgroup": "",
         "marker": {
          "color": [
           23031,
           13743,
           9535,
           6846,
           6549,
           2596,
           2026,
           1225,
           1219,
           1065
          ],
          "coloraxis": "coloraxis",
          "pattern": {
           "shape": ""
          }
         },
         "name": "",
         "offsetgroup": "",
         "orientation": "h",
         "showlegend": false,
         "textposition": "auto",
         "type": "bar",
         "x": [
          23031,
          13743,
          9535,
          6846,
          6549,
          2596,
          2026,
          1225,
          1219,
          1065
         ],
         "xaxis": "x",
         "y": [
          "KEEPING HOUSE",
          "AT HOME",
          "FARMER",
          "LABORER",
          "AT SCHOOL",
          "MINER",
          "WORKS ON FARM",
          "CARPENTER",
          "SERVANT",
          "FARM LABORER"
         ],
         "yaxis": "y"
        }
       ],
       "layout": {
        "barmode": "relative",
        "coloraxis": {
         "colorbar": {
          "title": {
           "text": "Count"
          }
         },
         "colorscale": [
          [
           0,
           "#440154"
          ],
          [
           0.1111111111111111,
           "#482878"
          ],
          [
           0.2222222222222222,
           "#3e4989"
          ],
          [
           0.3333333333333333,
           "#31688e"
          ],
          [
           0.4444444444444444,
           "#26828e"
          ],
          [
           0.5555555555555556,
           "#1f9e89"
          ],
          [
           0.6666666666666666,
           "#35b779"
          ],
          [
           0.7777777777777778,
           "#6ece58"
          ],
          [
           0.8888888888888888,
           "#b5de2b"
          ],
          [
           1,
           "#fde725"
          ]
         ]
        },
        "height": 500,
        "legend": {
         "tracegroupgap": 0
        },
        "template": {
         "data": {
          "bar": [
           {
            "error_x": {
             "color": "#2a3f5f"
            },
            "error_y": {
             "color": "#2a3f5f"
            },
            "marker": {
             "line": {
              "color": "#E5ECF6",
              "width": 0.5
             },
             "pattern": {
              "fillmode": "overlay",
              "size": 10,
              "solidity": 0.2
             }
            },
            "type": "bar"
           }
          ],
          "barpolar": [
           {
            "marker": {
             "line": {
              "color": "#E5ECF6",
              "width": 0.5
             },
             "pattern": {
              "fillmode": "overlay",
              "size": 10,
              "solidity": 0.2
             }
            },
            "type": "barpolar"
           }
          ],
          "carpet": [
           {
            "aaxis": {
             "endlinecolor": "#2a3f5f",
             "gridcolor": "white",
             "linecolor": "white",
             "minorgridcolor": "white",
             "startlinecolor": "#2a3f5f"
            },
            "baxis": {
             "endlinecolor": "#2a3f5f",
             "gridcolor": "white",
             "linecolor": "white",
             "minorgridcolor": "white",
             "startlinecolor": "#2a3f5f"
            },
            "type": "carpet"
           }
          ],
          "choropleth": [
           {
            "colorbar": {
             "outlinewidth": 0,
             "ticks": ""
            },
            "type": "choropleth"
           }
          ],
          "contour": [
           {
            "colorbar": {
             "outlinewidth": 0,
             "ticks": ""
            },
            "colorscale": [
             [
              0,
              "#0d0887"
             ],
             [
              0.1111111111111111,
              "#46039f"
             ],
             [
              0.2222222222222222,
              "#7201a8"
             ],
             [
              0.3333333333333333,
              "#9c179e"
             ],
             [
              0.4444444444444444,
              "#bd3786"
             ],
             [
              0.5555555555555556,
              "#d8576b"
             ],
             [
              0.6666666666666666,
              "#ed7953"
             ],
             [
              0.7777777777777778,
              "#fb9f3a"
             ],
             [
              0.8888888888888888,
              "#fdca26"
             ],
             [
              1,
              "#f0f921"
             ]
            ],
            "type": "contour"
           }
          ],
          "contourcarpet": [
           {
            "colorbar": {
             "outlinewidth": 0,
             "ticks": ""
            },
            "type": "contourcarpet"
           }
          ],
          "heatmap": [
           {
            "colorbar": {
             "outlinewidth": 0,
             "ticks": ""
            },
            "colorscale": [
             [
              0,
              "#0d0887"
             ],
             [
              0.1111111111111111,
              "#46039f"
             ],
             [
              0.2222222222222222,
              "#7201a8"
             ],
             [
              0.3333333333333333,
              "#9c179e"
             ],
             [
              0.4444444444444444,
              "#bd3786"
             ],
             [
              0.5555555555555556,
              "#d8576b"
             ],
             [
              0.6666666666666666,
              "#ed7953"
             ],
             [
              0.7777777777777778,
              "#fb9f3a"
             ],
             [
              0.8888888888888888,
              "#fdca26"
             ],
             [
              1,
              "#f0f921"
             ]
            ],
            "type": "heatmap"
           }
          ],
          "heatmapgl": [
           {
            "colorbar": {
             "outlinewidth": 0,
             "ticks": ""
            },
            "colorscale": [
             [
              0,
              "#0d0887"
             ],
             [
              0.1111111111111111,
              "#46039f"
             ],
             [
              0.2222222222222222,
              "#7201a8"
             ],
             [
              0.3333333333333333,
              "#9c179e"
             ],
             [
              0.4444444444444444,
              "#bd3786"
             ],
             [
              0.5555555555555556,
              "#d8576b"
             ],
             [
              0.6666666666666666,
              "#ed7953"
             ],
             [
              0.7777777777777778,
              "#fb9f3a"
             ],
             [
              0.8888888888888888,
              "#fdca26"
             ],
             [
              1,
              "#f0f921"
             ]
            ],
            "type": "heatmapgl"
           }
          ],
          "histogram": [
           {
            "marker": {
             "pattern": {
              "fillmode": "overlay",
              "size": 10,
              "solidity": 0.2
             }
            },
            "type": "histogram"
           }
          ],
          "histogram2d": [
           {
            "colorbar": {
             "outlinewidth": 0,
             "ticks": ""
            },
            "colorscale": [
             [
              0,
              "#0d0887"
             ],
             [
              0.1111111111111111,
              "#46039f"
             ],
             [
              0.2222222222222222,
              "#7201a8"
             ],
             [
              0.3333333333333333,
              "#9c179e"
             ],
             [
              0.4444444444444444,
              "#bd3786"
             ],
             [
              0.5555555555555556,
              "#d8576b"
             ],
             [
              0.6666666666666666,
              "#ed7953"
             ],
             [
              0.7777777777777778,
              "#fb9f3a"
             ],
             [
              0.8888888888888888,
              "#fdca26"
             ],
             [
              1,
              "#f0f921"
             ]
            ],
            "type": "histogram2d"
           }
          ],
          "histogram2dcontour": [
           {
            "colorbar": {
             "outlinewidth": 0,
             "ticks": ""
            },
            "colorscale": [
             [
              0,
              "#0d0887"
             ],
             [
              0.1111111111111111,
              "#46039f"
             ],
             [
              0.2222222222222222,
              "#7201a8"
             ],
             [
              0.3333333333333333,
              "#9c179e"
             ],
             [
              0.4444444444444444,
              "#bd3786"
             ],
             [
              0.5555555555555556,
              "#d8576b"
             ],
             [
              0.6666666666666666,
              "#ed7953"
             ],
             [
              0.7777777777777778,
              "#fb9f3a"
             ],
             [
              0.8888888888888888,
              "#fdca26"
             ],
             [
              1,
              "#f0f921"
             ]
            ],
            "type": "histogram2dcontour"
           }
          ],
          "mesh3d": [
           {
            "colorbar": {
             "outlinewidth": 0,
             "ticks": ""
            },
            "type": "mesh3d"
           }
          ],
          "parcoords": [
           {
            "line": {
             "colorbar": {
              "outlinewidth": 0,
              "ticks": ""
             }
            },
            "type": "parcoords"
           }
          ],
          "pie": [
           {
            "automargin": true,
            "type": "pie"
           }
          ],
          "scatter": [
           {
            "fillpattern": {
             "fillmode": "overlay",
             "size": 10,
             "solidity": 0.2
            },
            "type": "scatter"
           }
          ],
          "scatter3d": [
           {
            "line": {
             "colorbar": {
              "outlinewidth": 0,
              "ticks": ""
             }
            },
            "marker": {
             "colorbar": {
              "outlinewidth": 0,
              "ticks": ""
             }
            },
            "type": "scatter3d"
           }
          ],
          "scattercarpet": [
           {
            "marker": {
             "colorbar": {
              "outlinewidth": 0,
              "ticks": ""
             }
            },
            "type": "scattercarpet"
           }
          ],
          "scattergeo": [
           {
            "marker": {
             "colorbar": {
              "outlinewidth": 0,
              "ticks": ""
             }
            },
            "type": "scattergeo"
           }
          ],
          "scattergl": [
           {
            "marker": {
             "colorbar": {
              "outlinewidth": 0,
              "ticks": ""
             }
            },
            "type": "scattergl"
           }
          ],
          "scattermapbox": [
           {
            "marker": {
             "colorbar": {
              "outlinewidth": 0,
              "ticks": ""
             }
            },
            "type": "scattermapbox"
           }
          ],
          "scatterpolar": [
           {
            "marker": {
             "colorbar": {
              "outlinewidth": 0,
              "ticks": ""
             }
            },
            "type": "scatterpolar"
           }
          ],
          "scatterpolargl": [
           {
            "marker": {
             "colorbar": {
              "outlinewidth": 0,
              "ticks": ""
             }
            },
            "type": "scatterpolargl"
           }
          ],
          "scatterternary": [
           {
            "marker": {
             "colorbar": {
              "outlinewidth": 0,
              "ticks": ""
             }
            },
            "type": "scatterternary"
           }
          ],
          "surface": [
           {
            "colorbar": {
             "outlinewidth": 0,
             "ticks": ""
            },
            "colorscale": [
             [
              0,
              "#0d0887"
             ],
             [
              0.1111111111111111,
              "#46039f"
             ],
             [
              0.2222222222222222,
              "#7201a8"
             ],
             [
              0.3333333333333333,
              "#9c179e"
             ],
             [
              0.4444444444444444,
              "#bd3786"
             ],
             [
              0.5555555555555556,
              "#d8576b"
             ],
             [
              0.6666666666666666,
              "#ed7953"
             ],
             [
              0.7777777777777778,
              "#fb9f3a"
             ],
             [
              0.8888888888888888,
              "#fdca26"
             ],
             [
              1,
              "#f0f921"
             ]
            ],
            "type": "surface"
           }
          ],
          "table": [
           {
            "cells": {
             "fill": {
              "color": "#EBF0F8"
             },
             "line": {
              "color": "white"
             }
            },
            "header": {
             "fill": {
              "color": "#C8D4E3"
             },
             "line": {
              "color": "white"
             }
            },
            "type": "table"
           }
          ]
         },
         "layout": {
          "annotationdefaults": {
           "arrowcolor": "#2a3f5f",
           "arrowhead": 0,
           "arrowwidth": 1
          },
          "autotypenumbers": "strict",
          "coloraxis": {
           "colorbar": {
            "outlinewidth": 0,
            "ticks": ""
           }
          },
          "colorscale": {
           "diverging": [
            [
             0,
             "#8e0152"
            ],
            [
             0.1,
             "#c51b7d"
            ],
            [
             0.2,
             "#de77ae"
            ],
            [
             0.3,
             "#f1b6da"
            ],
            [
             0.4,
             "#fde0ef"
            ],
            [
             0.5,
             "#f7f7f7"
            ],
            [
             0.6,
             "#e6f5d0"
            ],
            [
             0.7,
             "#b8e186"
            ],
            [
             0.8,
             "#7fbc41"
            ],
            [
             0.9,
             "#4d9221"
            ],
            [
             1,
             "#276419"
            ]
           ],
           "sequential": [
            [
             0,
             "#0d0887"
            ],
            [
             0.1111111111111111,
             "#46039f"
            ],
            [
             0.2222222222222222,
             "#7201a8"
            ],
            [
             0.3333333333333333,
             "#9c179e"
            ],
            [
             0.4444444444444444,
             "#bd3786"
            ],
            [
             0.5555555555555556,
             "#d8576b"
            ],
            [
             0.6666666666666666,
             "#ed7953"
            ],
            [
             0.7777777777777778,
             "#fb9f3a"
            ],
            [
             0.8888888888888888,
             "#fdca26"
            ],
            [
             1,
             "#f0f921"
            ]
           ],
           "sequentialminus": [
            [
             0,
             "#0d0887"
            ],
            [
             0.1111111111111111,
             "#46039f"
            ],
            [
             0.2222222222222222,
             "#7201a8"
            ],
            [
             0.3333333333333333,
             "#9c179e"
            ],
            [
             0.4444444444444444,
             "#bd3786"
            ],
            [
             0.5555555555555556,
             "#d8576b"
            ],
            [
             0.6666666666666666,
             "#ed7953"
            ],
            [
             0.7777777777777778,
             "#fb9f3a"
            ],
            [
             0.8888888888888888,
             "#fdca26"
            ],
            [
             1,
             "#f0f921"
            ]
           ]
          },
          "colorway": [
           "#636efa",
           "#EF553B",
           "#00cc96",
           "#ab63fa",
           "#FFA15A",
           "#19d3f3",
           "#FF6692",
           "#B6E880",
           "#FF97FF",
           "#FECB52"
          ],
          "font": {
           "color": "#2a3f5f"
          },
          "geo": {
           "bgcolor": "white",
           "lakecolor": "white",
           "landcolor": "#E5ECF6",
           "showlakes": true,
           "showland": true,
           "subunitcolor": "white"
          },
          "hoverlabel": {
           "align": "left"
          },
          "hovermode": "closest",
          "mapbox": {
           "style": "light"
          },
          "paper_bgcolor": "white",
          "plot_bgcolor": "#E5ECF6",
          "polar": {
           "angularaxis": {
            "gridcolor": "white",
            "linecolor": "white",
            "ticks": ""
           },
           "bgcolor": "#E5ECF6",
           "radialaxis": {
            "gridcolor": "white",
            "linecolor": "white",
            "ticks": ""
           }
          },
          "scene": {
           "xaxis": {
            "backgroundcolor": "#E5ECF6",
            "gridcolor": "white",
            "gridwidth": 2,
            "linecolor": "white",
            "showbackground": true,
            "ticks": "",
            "zerolinecolor": "white"
           },
           "yaxis": {
            "backgroundcolor": "#E5ECF6",
            "gridcolor": "white",
            "gridwidth": 2,
            "linecolor": "white",
            "showbackground": true,
            "ticks": "",
            "zerolinecolor": "white"
           },
           "zaxis": {
            "backgroundcolor": "#E5ECF6",
            "gridcolor": "white",
            "gridwidth": 2,
            "linecolor": "white",
            "showbackground": true,
            "ticks": "",
            "zerolinecolor": "white"
           }
          },
          "shapedefaults": {
           "line": {
            "color": "#2a3f5f"
           }
          },
          "ternary": {
           "aaxis": {
            "gridcolor": "white",
            "linecolor": "white",
            "ticks": ""
           },
           "baxis": {
            "gridcolor": "white",
            "linecolor": "white",
            "ticks": ""
           },
           "bgcolor": "#E5ECF6",
           "caxis": {
            "gridcolor": "white",
            "linecolor": "white",
            "ticks": ""
           }
          },
          "title": {
           "x": 0.05
          },
          "xaxis": {
           "automargin": true,
           "gridcolor": "white",
           "linecolor": "white",
           "ticks": "",
           "title": {
            "standoff": 15
           },
           "zerolinecolor": "white",
           "zerolinewidth": 2
          },
          "yaxis": {
           "automargin": true,
           "gridcolor": "white",
           "linecolor": "white",
           "ticks": "",
           "title": {
            "standoff": 15
           },
           "zerolinecolor": "white",
           "zerolinewidth": 2
          }
         }
        },
        "title": {
         "text": "Top 10 Occupations in 1880 Utah Census"
        },
        "width": 700,
        "xaxis": {
         "anchor": "y",
         "domain": [
          0,
          1
         ],
         "title": {
          "text": "Count"
         }
        },
        "yaxis": {
         "anchor": "x",
         "autorange": "reversed",
         "domain": [
          0,
          1
         ],
         "title": {
          "text": "Occupation"
         }
        }
       }
      }
     },
     "metadata": {},
     "output_type": "display_data"
    }
   ],
   "source": [
    "# Get the top 10 most common occupations (excluding blank entries)\n",
    "occupation_counts = census_df['occupation'].value_counts().reset_index()\n",
    "occupation_counts.columns = ['Occupation', 'Count']\n",
    "occupation_counts = occupation_counts[occupation_counts['Occupation'] != ''].head(10)\n",
    "\n",
    "# Create a horizontal bar chart\n",
    "fig = px.bar(occupation_counts, y='Occupation', x='Count', \n",
    "            title='Top 10 Occupations in 1880 Utah Census',\n",
    "            color='Count',\n",
    "            color_continuous_scale='Viridis',\n",
    "            orientation='h')\n",
    "\n",
    "# Update the layout\n",
    "fig.update_layout(\n",
    "    yaxis=dict(autorange=\"reversed\"),  # This puts the largest value at the top\n",
    "    height=500,\n",
    "    width=700\n",
    ")\n",
    "\n",
    "# Display the plot\n",
    "fig.show()"
   ]
  },
  {
   "cell_type": "markdown",
   "metadata": {},
   "source": [
    "This horizontal bar chart displays the 10 most common occupations in the 1880 Utah census. The bars are sorted with the most common occupation at the top, and the color intensity indicates the count as well.\n"
   ]
  },
  {
   "cell_type": "markdown",
   "metadata": {},
   "source": [
    "## Birthplace Analysis\n",
    "\n",
    "Let's visualize where people in Utah were born:\n"
   ]
  },
  {
   "cell_type": "code",
   "execution_count": null,
   "metadata": {},
   "outputs": [
    {
     "data": {
      "application/vnd.plotly.v1+json": {
       "config": {
        "plotlyServerURL": "https://plot.ly"
       },
       "data": [
        {
         "alignmentgroup": "True",
         "hovertemplate": "Birthplace=%{x}<br>Count=%{marker.color}<extra></extra>",
         "legendgroup": "",
         "marker": {
          "color": [
           79480,
           19468,
           7822,
           3779,
           3174,
           2747,
           2284,
           2272,
           1638,
           1527
          ],
          "coloraxis": "coloraxis",
          "pattern": {
           "shape": ""
          }
         },
         "name": "",
         "offsetgroup": "",
         "orientation": "v",
         "showlegend": false,
         "text": [
          79480,
          19468,
          7822,
          3779,
          3174,
          2747,
          2284,
          2272,
          1638,
          1527
         ],
         "textposition": "auto",
         "type": "bar",
         "x": [
          "UTAH",
          "ENGLAND",
          "DENMARK",
          "SWEDEN",
          "SCOTLAND",
          "NEW YORK",
          "ILLINOIS",
          "WALES",
          "IOWA",
          "PENNSYLVANIA"
         ],
         "xaxis": "x",
         "y": [
          79480,
          19468,
          7822,
          3779,
          3174,
          2747,
          2284,
          2272,
          1638,
          1527
         ],
         "yaxis": "y"
        }
       ],
       "layout": {
        "barmode": "relative",
        "coloraxis": {
         "colorbar": {
          "title": {
           "text": "Count"
          }
         },
         "colorscale": [
          [
           0,
           "rgb(209, 238, 234)"
          ],
          [
           0.16666666666666666,
           "rgb(168, 219, 217)"
          ],
          [
           0.3333333333333333,
           "rgb(133, 196, 201)"
          ],
          [
           0.5,
           "rgb(104, 171, 184)"
          ],
          [
           0.6666666666666666,
           "rgb(79, 144, 166)"
          ],
          [
           0.8333333333333334,
           "rgb(59, 115, 143)"
          ],
          [
           1,
           "rgb(42, 86, 116)"
          ]
         ]
        },
        "legend": {
         "tracegroupgap": 0
        },
        "template": {
         "data": {
          "bar": [
           {
            "error_x": {
             "color": "#2a3f5f"
            },
            "error_y": {
             "color": "#2a3f5f"
            },
            "marker": {
             "line": {
              "color": "#E5ECF6",
              "width": 0.5
             },
             "pattern": {
              "fillmode": "overlay",
              "size": 10,
              "solidity": 0.2
             }
            },
            "type": "bar"
           }
          ],
          "barpolar": [
           {
            "marker": {
             "line": {
              "color": "#E5ECF6",
              "width": 0.5
             },
             "pattern": {
              "fillmode": "overlay",
              "size": 10,
              "solidity": 0.2
             }
            },
            "type": "barpolar"
           }
          ],
          "carpet": [
           {
            "aaxis": {
             "endlinecolor": "#2a3f5f",
             "gridcolor": "white",
             "linecolor": "white",
             "minorgridcolor": "white",
             "startlinecolor": "#2a3f5f"
            },
            "baxis": {
             "endlinecolor": "#2a3f5f",
             "gridcolor": "white",
             "linecolor": "white",
             "minorgridcolor": "white",
             "startlinecolor": "#2a3f5f"
            },
            "type": "carpet"
           }
          ],
          "choropleth": [
           {
            "colorbar": {
             "outlinewidth": 0,
             "ticks": ""
            },
            "type": "choropleth"
           }
          ],
          "contour": [
           {
            "colorbar": {
             "outlinewidth": 0,
             "ticks": ""
            },
            "colorscale": [
             [
              0,
              "#0d0887"
             ],
             [
              0.1111111111111111,
              "#46039f"
             ],
             [
              0.2222222222222222,
              "#7201a8"
             ],
             [
              0.3333333333333333,
              "#9c179e"
             ],
             [
              0.4444444444444444,
              "#bd3786"
             ],
             [
              0.5555555555555556,
              "#d8576b"
             ],
             [
              0.6666666666666666,
              "#ed7953"
             ],
             [
              0.7777777777777778,
              "#fb9f3a"
             ],
             [
              0.8888888888888888,
              "#fdca26"
             ],
             [
              1,
              "#f0f921"
             ]
            ],
            "type": "contour"
           }
          ],
          "contourcarpet": [
           {
            "colorbar": {
             "outlinewidth": 0,
             "ticks": ""
            },
            "type": "contourcarpet"
           }
          ],
          "heatmap": [
           {
            "colorbar": {
             "outlinewidth": 0,
             "ticks": ""
            },
            "colorscale": [
             [
              0,
              "#0d0887"
             ],
             [
              0.1111111111111111,
              "#46039f"
             ],
             [
              0.2222222222222222,
              "#7201a8"
             ],
             [
              0.3333333333333333,
              "#9c179e"
             ],
             [
              0.4444444444444444,
              "#bd3786"
             ],
             [
              0.5555555555555556,
              "#d8576b"
             ],
             [
              0.6666666666666666,
              "#ed7953"
             ],
             [
              0.7777777777777778,
              "#fb9f3a"
             ],
             [
              0.8888888888888888,
              "#fdca26"
             ],
             [
              1,
              "#f0f921"
             ]
            ],
            "type": "heatmap"
           }
          ],
          "heatmapgl": [
           {
            "colorbar": {
             "outlinewidth": 0,
             "ticks": ""
            },
            "colorscale": [
             [
              0,
              "#0d0887"
             ],
             [
              0.1111111111111111,
              "#46039f"
             ],
             [
              0.2222222222222222,
              "#7201a8"
             ],
             [
              0.3333333333333333,
              "#9c179e"
             ],
             [
              0.4444444444444444,
              "#bd3786"
             ],
             [
              0.5555555555555556,
              "#d8576b"
             ],
             [
              0.6666666666666666,
              "#ed7953"
             ],
             [
              0.7777777777777778,
              "#fb9f3a"
             ],
             [
              0.8888888888888888,
              "#fdca26"
             ],
             [
              1,
              "#f0f921"
             ]
            ],
            "type": "heatmapgl"
           }
          ],
          "histogram": [
           {
            "marker": {
             "pattern": {
              "fillmode": "overlay",
              "size": 10,
              "solidity": 0.2
             }
            },
            "type": "histogram"
           }
          ],
          "histogram2d": [
           {
            "colorbar": {
             "outlinewidth": 0,
             "ticks": ""
            },
            "colorscale": [
             [
              0,
              "#0d0887"
             ],
             [
              0.1111111111111111,
              "#46039f"
             ],
             [
              0.2222222222222222,
              "#7201a8"
             ],
             [
              0.3333333333333333,
              "#9c179e"
             ],
             [
              0.4444444444444444,
              "#bd3786"
             ],
             [
              0.5555555555555556,
              "#d8576b"
             ],
             [
              0.6666666666666666,
              "#ed7953"
             ],
             [
              0.7777777777777778,
              "#fb9f3a"
             ],
             [
              0.8888888888888888,
              "#fdca26"
             ],
             [
              1,
              "#f0f921"
             ]
            ],
            "type": "histogram2d"
           }
          ],
          "histogram2dcontour": [
           {
            "colorbar": {
             "outlinewidth": 0,
             "ticks": ""
            },
            "colorscale": [
             [
              0,
              "#0d0887"
             ],
             [
              0.1111111111111111,
              "#46039f"
             ],
             [
              0.2222222222222222,
              "#7201a8"
             ],
             [
              0.3333333333333333,
              "#9c179e"
             ],
             [
              0.4444444444444444,
              "#bd3786"
             ],
             [
              0.5555555555555556,
              "#d8576b"
             ],
             [
              0.6666666666666666,
              "#ed7953"
             ],
             [
              0.7777777777777778,
              "#fb9f3a"
             ],
             [
              0.8888888888888888,
              "#fdca26"
             ],
             [
              1,
              "#f0f921"
             ]
            ],
            "type": "histogram2dcontour"
           }
          ],
          "mesh3d": [
           {
            "colorbar": {
             "outlinewidth": 0,
             "ticks": ""
            },
            "type": "mesh3d"
           }
          ],
          "parcoords": [
           {
            "line": {
             "colorbar": {
              "outlinewidth": 0,
              "ticks": ""
             }
            },
            "type": "parcoords"
           }
          ],
          "pie": [
           {
            "automargin": true,
            "type": "pie"
           }
          ],
          "scatter": [
           {
            "fillpattern": {
             "fillmode": "overlay",
             "size": 10,
             "solidity": 0.2
            },
            "type": "scatter"
           }
          ],
          "scatter3d": [
           {
            "line": {
             "colorbar": {
              "outlinewidth": 0,
              "ticks": ""
             }
            },
            "marker": {
             "colorbar": {
              "outlinewidth": 0,
              "ticks": ""
             }
            },
            "type": "scatter3d"
           }
          ],
          "scattercarpet": [
           {
            "marker": {
             "colorbar": {
              "outlinewidth": 0,
              "ticks": ""
             }
            },
            "type": "scattercarpet"
           }
          ],
          "scattergeo": [
           {
            "marker": {
             "colorbar": {
              "outlinewidth": 0,
              "ticks": ""
             }
            },
            "type": "scattergeo"
           }
          ],
          "scattergl": [
           {
            "marker": {
             "colorbar": {
              "outlinewidth": 0,
              "ticks": ""
             }
            },
            "type": "scattergl"
           }
          ],
          "scattermapbox": [
           {
            "marker": {
             "colorbar": {
              "outlinewidth": 0,
              "ticks": ""
             }
            },
            "type": "scattermapbox"
           }
          ],
          "scatterpolar": [
           {
            "marker": {
             "colorbar": {
              "outlinewidth": 0,
              "ticks": ""
             }
            },
            "type": "scatterpolar"
           }
          ],
          "scatterpolargl": [
           {
            "marker": {
             "colorbar": {
              "outlinewidth": 0,
              "ticks": ""
             }
            },
            "type": "scatterpolargl"
           }
          ],
          "scatterternary": [
           {
            "marker": {
             "colorbar": {
              "outlinewidth": 0,
              "ticks": ""
             }
            },
            "type": "scatterternary"
           }
          ],
          "surface": [
           {
            "colorbar": {
             "outlinewidth": 0,
             "ticks": ""
            },
            "colorscale": [
             [
              0,
              "#0d0887"
             ],
             [
              0.1111111111111111,
              "#46039f"
             ],
             [
              0.2222222222222222,
              "#7201a8"
             ],
             [
              0.3333333333333333,
              "#9c179e"
             ],
             [
              0.4444444444444444,
              "#bd3786"
             ],
             [
              0.5555555555555556,
              "#d8576b"
             ],
             [
              0.6666666666666666,
              "#ed7953"
             ],
             [
              0.7777777777777778,
              "#fb9f3a"
             ],
             [
              0.8888888888888888,
              "#fdca26"
             ],
             [
              1,
              "#f0f921"
             ]
            ],
            "type": "surface"
           }
          ],
          "table": [
           {
            "cells": {
             "fill": {
              "color": "#EBF0F8"
             },
             "line": {
              "color": "white"
             }
            },
            "header": {
             "fill": {
              "color": "#C8D4E3"
             },
             "line": {
              "color": "white"
             }
            },
            "type": "table"
           }
          ]
         },
         "layout": {
          "annotationdefaults": {
           "arrowcolor": "#2a3f5f",
           "arrowhead": 0,
           "arrowwidth": 1
          },
          "autotypenumbers": "strict",
          "coloraxis": {
           "colorbar": {
            "outlinewidth": 0,
            "ticks": ""
           }
          },
          "colorscale": {
           "diverging": [
            [
             0,
             "#8e0152"
            ],
            [
             0.1,
             "#c51b7d"
            ],
            [
             0.2,
             "#de77ae"
            ],
            [
             0.3,
             "#f1b6da"
            ],
            [
             0.4,
             "#fde0ef"
            ],
            [
             0.5,
             "#f7f7f7"
            ],
            [
             0.6,
             "#e6f5d0"
            ],
            [
             0.7,
             "#b8e186"
            ],
            [
             0.8,
             "#7fbc41"
            ],
            [
             0.9,
             "#4d9221"
            ],
            [
             1,
             "#276419"
            ]
           ],
           "sequential": [
            [
             0,
             "#0d0887"
            ],
            [
             0.1111111111111111,
             "#46039f"
            ],
            [
             0.2222222222222222,
             "#7201a8"
            ],
            [
             0.3333333333333333,
             "#9c179e"
            ],
            [
             0.4444444444444444,
             "#bd3786"
            ],
            [
             0.5555555555555556,
             "#d8576b"
            ],
            [
             0.6666666666666666,
             "#ed7953"
            ],
            [
             0.7777777777777778,
             "#fb9f3a"
            ],
            [
             0.8888888888888888,
             "#fdca26"
            ],
            [
             1,
             "#f0f921"
            ]
           ],
           "sequentialminus": [
            [
             0,
             "#0d0887"
            ],
            [
             0.1111111111111111,
             "#46039f"
            ],
            [
             0.2222222222222222,
             "#7201a8"
            ],
            [
             0.3333333333333333,
             "#9c179e"
            ],
            [
             0.4444444444444444,
             "#bd3786"
            ],
            [
             0.5555555555555556,
             "#d8576b"
            ],
            [
             0.6666666666666666,
             "#ed7953"
            ],
            [
             0.7777777777777778,
             "#fb9f3a"
            ],
            [
             0.8888888888888888,
             "#fdca26"
            ],
            [
             1,
             "#f0f921"
            ]
           ]
          },
          "colorway": [
           "#636efa",
           "#EF553B",
           "#00cc96",
           "#ab63fa",
           "#FFA15A",
           "#19d3f3",
           "#FF6692",
           "#B6E880",
           "#FF97FF",
           "#FECB52"
          ],
          "font": {
           "color": "#2a3f5f"
          },
          "geo": {
           "bgcolor": "white",
           "lakecolor": "white",
           "landcolor": "#E5ECF6",
           "showlakes": true,
           "showland": true,
           "subunitcolor": "white"
          },
          "hoverlabel": {
           "align": "left"
          },
          "hovermode": "closest",
          "mapbox": {
           "style": "light"
          },
          "paper_bgcolor": "white",
          "plot_bgcolor": "#E5ECF6",
          "polar": {
           "angularaxis": {
            "gridcolor": "white",
            "linecolor": "white",
            "ticks": ""
           },
           "bgcolor": "#E5ECF6",
           "radialaxis": {
            "gridcolor": "white",
            "linecolor": "white",
            "ticks": ""
           }
          },
          "scene": {
           "xaxis": {
            "backgroundcolor": "#E5ECF6",
            "gridcolor": "white",
            "gridwidth": 2,
            "linecolor": "white",
            "showbackground": true,
            "ticks": "",
            "zerolinecolor": "white"
           },
           "yaxis": {
            "backgroundcolor": "#E5ECF6",
            "gridcolor": "white",
            "gridwidth": 2,
            "linecolor": "white",
            "showbackground": true,
            "ticks": "",
            "zerolinecolor": "white"
           },
           "zaxis": {
            "backgroundcolor": "#E5ECF6",
            "gridcolor": "white",
            "gridwidth": 2,
            "linecolor": "white",
            "showbackground": true,
            "ticks": "",
            "zerolinecolor": "white"
           }
          },
          "shapedefaults": {
           "line": {
            "color": "#2a3f5f"
           }
          },
          "ternary": {
           "aaxis": {
            "gridcolor": "white",
            "linecolor": "white",
            "ticks": ""
           },
           "baxis": {
            "gridcolor": "white",
            "linecolor": "white",
            "ticks": ""
           },
           "bgcolor": "#E5ECF6",
           "caxis": {
            "gridcolor": "white",
            "linecolor": "white",
            "ticks": ""
           }
          },
          "title": {
           "x": 0.05
          },
          "xaxis": {
           "automargin": true,
           "gridcolor": "white",
           "linecolor": "white",
           "ticks": "",
           "title": {
            "standoff": 15
           },
           "zerolinecolor": "white",
           "zerolinewidth": 2
          },
          "yaxis": {
           "automargin": true,
           "gridcolor": "white",
           "linecolor": "white",
           "ticks": "",
           "title": {
            "standoff": 15
           },
           "zerolinecolor": "white",
           "zerolinewidth": 2
          }
         }
        },
        "title": {
         "text": "Top 10 Birth Places in 1880 Utah Census"
        },
        "xaxis": {
         "anchor": "y",
         "domain": [
          0,
          1
         ],
         "tickangle": -45,
         "title": {
          "text": "Birthplace"
         }
        },
        "yaxis": {
         "anchor": "x",
         "domain": [
          0,
          1
         ],
         "title": {
          "text": "Number of People"
         }
        }
       }
      }
     },
     "metadata": {},
     "output_type": "display_data"
    }
   ],
   "source": [
    "# Get the top birthplaces (excluding blank entries)\n",
    "birthplace_counts = census_df.groupby('birthstate').size().reset_index(name='Count')\n",
    "birthplace_counts.columns = ['Birthplace', 'Count']\n",
    "birthplace_counts = birthplace_counts[birthplace_counts['Birthplace'] != ''].head(10)\n",
    "\n",
    "# Create a bar chart\n",
    "fig = px.bar(birthplace_counts, x='Birthplace', y='Count',\n",
    "            title='Top 10 Birth Places in 1880 Utah Census',\n",
    "            color='Count',\n",
    "            text='Count',\n",
    "            color_continuous_scale='Teal')\n",
    "\n",
    "# Update the layout\n",
    "fig.update_layout(\n",
    "    xaxis_title=\"Birthplace\",\n",
    "    yaxis_title=\"Number of People\",\n",
    "    xaxis_tickangle=-45\n",
    ")\n",
    "\n",
    "# Display the plot\n",
    "fig.show()"
   ]
  },
  {
   "cell_type": "markdown",
   "metadata": {},
   "source": [
    "This bar chart shows the 10 most common birthplaces of Utah residents in 1880. The exact count values are displayed on top of each bar.\n"
   ]
  },
  {
   "cell_type": "markdown",
   "metadata": {},
   "source": [
    "## Creating a Scatter Plot\n",
    "\n",
    "Now, let's create a scatter plot to explore if there's a relationship between age and the month they were born:\n"
   ]
  },
  {
   "cell_type": "code",
   "execution_count": 11,
   "metadata": {},
   "outputs": [
    {
     "data": {
      "application/vnd.plotly.v1+json": {
       "config": {
        "plotlyServerURL": "https://plot.ly"
       },
       "data": [
        {
         "customdata": [
          [
           "S",
           null
          ],
          [
           "ANDERSON",
           null
          ],
          [
           "CHRISTIANSEN",
           null
          ],
          [
           "ELMER",
           null
          ],
          [
           "WILLIAMS",
           null
          ],
          [
           "LARSEN",
           null
          ],
          [
           "POULSEN",
           null
          ],
          [
           "HEPWORTH",
           null
          ],
          [
           "BURLEIN",
           null
          ],
          [
           "WETTI",
           null
          ],
          [
           "PACKHAM",
           null
          ],
          [
           "BLANCHARD",
           null
          ],
          [
           "REESE",
           null
          ],
          [
           "KENNETT",
           null
          ],
          [
           "ROUNDS",
           null
          ],
          [
           "JEPPSEN",
           null
          ],
          [
           "JOHNSON",
           null
          ],
          [
           "HARRIS",
           null
          ],
          [
           "SIMPER",
           null
          ],
          [
           "KING",
           null
          ],
          [
           "WASHBURN",
           null
          ],
          [
           "ROBERTS",
           "AT HOME"
          ],
          [
           "NIBLEY",
           null
          ],
          [
           "YOUNG",
           null
          ],
          [
           "SNOW",
           null
          ],
          [
           "MORTENSEN",
           null
          ],
          [
           "ALLRED",
           null
          ],
          [
           "CLARK",
           null
          ],
          [
           "DYCHES",
           null
          ],
          [
           "WILSON",
           null
          ],
          [
           "YOUNG",
           null
          ],
          [
           "ROBERTSON",
           null
          ],
          [
           "ROBINSON",
           null
          ],
          [
           "KNIGHT",
           null
          ],
          [
           "ALLRED",
           null
          ],
          [
           "PETERSEN",
           null
          ],
          [
           "SMITH",
           null
          ],
          [
           "SOUTH",
           "AT HOME"
          ],
          [
           "BOYACK",
           null
          ],
          [
           "CHRISTIANSON",
           null
          ],
          [
           "EDMUNDS",
           null
          ],
          [
           "KNOTT",
           null
          ],
          [
           "GAGAN",
           null
          ],
          [
           "MERRILL",
           null
          ],
          [
           "KERR",
           null
          ],
          [
           "NELSON",
           null
          ],
          [
           "SWENSEN",
           null
          ],
          [
           "WOODHOUSE",
           null
          ],
          [
           "OLSEN",
           null
          ],
          [
           "SLAGOWSKI",
           null
          ],
          [
           "CHIP",
           null
          ],
          [
           "HUBBS",
           null
          ],
          [
           "TEW",
           null
          ],
          [
           "WRIGHT",
           null
          ],
          [
           "COWAN",
           null
          ],
          [
           "RIDDLE",
           null
          ],
          [
           "FULLMER",
           null
          ],
          [
           "DAYNES",
           null
          ],
          [
           "ROUNDY",
           null
          ],
          [
           "KING",
           null
          ],
          [
           "HOWELL",
           null
          ],
          [
           "CURTIS",
           null
          ],
          [
           "UDY",
           null
          ],
          [
           "CHRISTENSEN",
           null
          ],
          [
           "HUDSON",
           null
          ],
          [
           "BOHANAN",
           null
          ],
          [
           "RIDING",
           null
          ],
          [
           "BARNEY",
           null
          ],
          [
           "MCFARLAND",
           null
          ],
          [
           "TRANE",
           null
          ],
          [
           "DELLEMORE",
           null
          ],
          [
           "PATTERSON",
           null
          ],
          [
           "EAMES",
           null
          ],
          [
           "WAGNER",
           "AT HOME"
          ],
          [
           "STONE",
           null
          ],
          [
           "PHEBE",
           null
          ],
          [
           "KEYES",
           null
          ],
          [
           "OLSEN",
           "AT HOME"
          ],
          [
           "EVANS",
           null
          ],
          [
           "KAY",
           null
          ],
          [
           "REESE",
           null
          ],
          [
           "WINMILL",
           null
          ],
          [
           "HANSEN",
           null
          ],
          [
           "WELCH",
           null
          ],
          [
           "HERBERT",
           null
          ],
          [
           "DONLEY",
           null
          ],
          [
           "NELSON",
           null
          ],
          [
           "NOSTRUM",
           null
          ],
          [
           "HESS",
           null
          ],
          [
           "WHITE",
           null
          ],
          [
           "DOUGLAS",
           null
          ],
          [
           "THOMPSON",
           null
          ],
          [
           "ANDREWS",
           "AT HOME"
          ],
          [
           "SPAULDING",
           null
          ],
          [
           "RASMUSSEN",
           null
          ],
          [
           "CHRISTENSEN",
           null
          ],
          [
           "HENCELEY",
           null
          ],
          [
           "MCFARLAND",
           null
          ],
          [
           "ABBOTT",
           null
          ],
          [
           "MARROTT",
           null
          ],
          [
           "TAIT",
           null
          ],
          [
           "MILWARD",
           null
          ],
          [
           "HILL",
           null
          ],
          [
           "BUTLER",
           null
          ],
          [
           "CRANE",
           null
          ],
          [
           "GIBSON",
           null
          ],
          [
           "PACE",
           null
          ],
          [
           "ALLRED",
           null
          ],
          [
           "MANWILL",
           null
          ],
          [
           "FERGUSON",
           null
          ],
          [
           "PROCTOR",
           null
          ],
          [
           "CRANOR",
           null
          ],
          [
           "RUSSELL",
           null
          ],
          [
           "CREED",
           null
          ],
          [
           "PARSONS",
           null
          ],
          [
           "GALE",
           null
          ],
          [
           "CARLSEN",
           null
          ],
          [
           "WEBB",
           null
          ],
          [
           "SHURTLIFF",
           null
          ],
          [
           "NOYCE",
           null
          ],
          [
           "DAMGAURD",
           null
          ],
          [
           "PIERCE",
           null
          ],
          [
           "MULHALL",
           null
          ],
          [
           "PERKINS",
           null
          ],
          [
           "WINGAT",
           null
          ],
          [
           "SIMS",
           null
          ],
          [
           "GLOBER",
           null
          ],
          [
           "WILD",
           "AT HOME"
          ],
          [
           "POULSEN",
           null
          ],
          [
           "ROBERTS",
           null
          ],
          [
           "WALTER",
           null
          ],
          [
           "STRONG",
           "AT HOME"
          ],
          [
           "HANSON",
           "AT HOME"
          ],
          [
           "GROO",
           "AT HOME"
          ],
          [
           "TEEPLES",
           null
          ],
          [
           "ADAMSEN",
           null
          ],
          [
           "HINKLEY",
           null
          ],
          [
           "LITTLE",
           null
          ],
          [
           "JONES",
           null
          ],
          [
           "BOSSHARDT",
           "AT HOME"
          ],
          [
           "BURGENER",
           null
          ],
          [
           "JONES",
           null
          ],
          [
           "HENDRICKSEN",
           null
          ],
          [
           "LARSON",
           null
          ],
          [
           "JONES",
           null
          ],
          [
           "FOX",
           null
          ],
          [
           "JOHNSON",
           null
          ],
          [
           "COLLINS",
           null
          ],
          [
           "SPENCER",
           null
          ],
          [
           "JONES",
           null
          ],
          [
           "HARDMAN",
           null
          ],
          [
           "LARSEN",
           null
          ],
          [
           "KNIGHT",
           null
          ],
          [
           "BURGESS",
           null
          ],
          [
           "MORTON",
           null
          ],
          [
           "MACBETH",
           null
          ],
          [
           "THOMPSON",
           null
          ],
          [
           "LEWIS",
           null
          ],
          [
           "CANNON",
           null
          ],
          [
           "HOLT",
           null
          ],
          [
           "SPEIRS",
           null
          ],
          [
           "ROBERTS",
           null
          ],
          [
           "BURT",
           null
          ],
          [
           "THURMAN",
           null
          ],
          [
           "OSBORNE",
           null
          ],
          [
           "TAYLOR",
           null
          ],
          [
           "BEVENS",
           null
          ],
          [
           "WILLIAMS",
           null
          ],
          [
           "EPPERSON",
           null
          ],
          [
           "CALLISTER",
           null
          ],
          [
           "ROWLEY",
           null
          ],
          [
           "CLEGG",
           null
          ],
          [
           "FERRIS",
           null
          ],
          [
           "SALTER",
           "AT HOME"
          ],
          [
           "HARMER",
           null
          ],
          [
           "TOOMBS",
           null
          ],
          [
           "LEAKER",
           null
          ],
          [
           "POTTER",
           null
          ],
          [
           "LARKIN",
           null
          ],
          [
           "SMITH",
           null
          ],
          [
           "TANNER",
           null
          ],
          [
           "WHITE",
           null
          ],
          [
           "HURST",
           null
          ],
          [
           "THURGOOD",
           null
          ],
          [
           "BLACK",
           null
          ],
          [
           "TUCKETT",
           null
          ],
          [
           "LEE",
           null
          ],
          [
           "CRAGUN",
           null
          ],
          [
           "LAKE",
           null
          ],
          [
           "STEVENS",
           null
          ],
          [
           "HARVEY",
           null
          ],
          [
           "BARTON",
           null
          ],
          [
           "JOHNSON",
           null
          ],
          [
           "DUNCAN",
           null
          ],
          [
           "BARTON",
           null
          ],
          [
           "MULLETT",
           "AT HOME"
          ],
          [
           "BURNS",
           null
          ],
          [
           "BECK",
           null
          ],
          [
           "BRENCHLEY",
           null
          ],
          [
           "MAUGHAN",
           null
          ],
          [
           "SPAINHOWER",
           null
          ],
          [
           "HOLMES",
           "AT HOME"
          ],
          [
           "BYBEE",
           null
          ],
          [
           "LARSEN",
           null
          ],
          [
           "TAYLOR",
           null
          ],
          [
           "IRVINE",
           null
          ],
          [
           "ROBISON",
           null
          ],
          [
           "MCLEAN",
           null
          ],
          [
           "JOHNSON",
           null
          ],
          [
           "GIBSON",
           "AT HOME"
          ],
          [
           "SWELL",
           null
          ],
          [
           "STARK",
           null
          ],
          [
           "ERRICKSON",
           null
          ],
          [
           "CRAIG",
           null
          ],
          [
           "HEYMORE",
           null
          ],
          [
           "JACOBSEN",
           null
          ],
          [
           "BENNETT",
           null
          ],
          [
           "CHRISTIANSEN",
           null
          ],
          [
           "EDGAR",
           null
          ],
          [
           "BENNETT",
           null
          ],
          [
           "NESS",
           null
          ],
          [
           "CRAPO",
           null
          ],
          [
           "KENNER",
           null
          ],
          [
           "MCKNIGHT",
           null
          ],
          [
           "VANDERHOOF",
           null
          ],
          [
           "JORGENSEN",
           null
          ],
          [
           "GIBBS",
           null
          ],
          [
           "BALDWIN",
           null
          ],
          [
           "DAVIS",
           null
          ],
          [
           "DURRANT",
           null
          ],
          [
           "CROSBY",
           null
          ],
          [
           "GROESBECK",
           null
          ],
          [
           "BOWMAN",
           "AT HOME"
          ],
          [
           "CHRISTIANSEN",
           null
          ],
          [
           "ALLRED",
           null
          ],
          [
           "TAYLOR",
           null
          ],
          [
           "HOGG",
           null
          ],
          [
           "SUTHERLAND",
           null
          ],
          [
           "FARBANKS",
           null
          ],
          [
           "MARTIN",
           null
          ],
          [
           "HOUSTON",
           null
          ],
          [
           "FARLEY",
           null
          ],
          [
           "DAYBELL",
           null
          ],
          [
           "WILLIAMS",
           "AT HOME"
          ],
          [
           "SMITH",
           null
          ],
          [
           "FOSTER",
           null
          ],
          [
           "NIELSEN",
           null
          ],
          [
           "ADAMS",
           null
          ],
          [
           "STONEBREAKER",
           null
          ],
          [
           "WOOD",
           null
          ],
          [
           "ELSWORTH",
           null
          ],
          [
           "BOWEN",
           null
          ],
          [
           "BALARD",
           null
          ],
          [
           "HANSON",
           null
          ],
          [
           "THORLEY",
           null
          ],
          [
           "HALL",
           null
          ],
          [
           "PORTER",
           null
          ],
          [
           "WATTS",
           null
          ],
          [
           "BAER",
           null
          ],
          [
           "EVANS",
           "AT HOME"
          ],
          [
           "MCDONALD",
           null
          ],
          [
           "KIMBALL",
           null
          ],
          [
           "PALMER",
           null
          ],
          [
           "ANDREWS",
           null
          ],
          [
           "GEARY",
           null
          ],
          [
           "BURNS",
           null
          ],
          [
           "OREM",
           null
          ],
          [
           "BROWN",
           null
          ],
          [
           "SWAPP",
           null
          ],
          [
           "MATHEWS",
           null
          ],
          [
           "STAUFFER",
           null
          ],
          [
           "STEWART",
           null
          ],
          [
           "DANIELS",
           null
          ],
          [
           "JAMES",
           null
          ],
          [
           "BROWN",
           null
          ],
          [
           "DOLL",
           null
          ],
          [
           "WILLIAMS",
           null
          ],
          [
           "MOFFETT",
           "AT HOME"
          ],
          [
           "MCNEIL",
           null
          ],
          [
           "BEUS",
           null
          ],
          [
           "SHADE",
           null
          ],
          [
           "WAKEFIELD",
           null
          ],
          [
           "WILLIAMSEN",
           null
          ],
          [
           "STRINGHAM",
           null
          ],
          [
           "DRAPER",
           "AT HOME"
          ],
          [
           "STOUT",
           null
          ],
          [
           "SCHOPPE",
           null
          ],
          [
           "GODDARD",
           null
          ],
          [
           "STOCK",
           null
          ],
          [
           "SOUTHWELL",
           null
          ],
          [
           "COX",
           null
          ],
          [
           "JENSEN",
           null
          ],
          [
           "GEE",
           null
          ],
          [
           "ROCKWELL",
           null
          ],
          [
           "GATES",
           null
          ],
          [
           "FIELDS",
           null
          ],
          [
           "JENSEN",
           null
          ],
          [
           "JONES",
           null
          ],
          [
           "PALMER",
           null
          ],
          [
           "OLSON",
           null
          ],
          [
           "WILBER",
           null
          ],
          [
           "SALVERSEN",
           null
          ],
          [
           "SMOOT",
           "AT HOME"
          ],
          [
           "HOWLAND",
           null
          ],
          [
           "WADDUPS",
           null
          ],
          [
           "DICKINSON",
           null
          ],
          [
           "PARK",
           null
          ],
          [
           "KIDD",
           null
          ],
          [
           "NEWMAN",
           null
          ],
          [
           "MUHLSTIEN",
           "AT HOME"
          ],
          [
           "RICHARDS",
           null
          ],
          [
           "CHRISTIANSON",
           null
          ],
          [
           "JOHNSON",
           null
          ],
          [
           "KING",
           null
          ],
          [
           "GARDNER",
           null
          ],
          [
           "MORTINSEN",
           null
          ],
          [
           "PETERSEN",
           null
          ],
          [
           "RUGG",
           null
          ],
          [
           "HILL",
           null
          ],
          [
           "MARTIN",
           null
          ],
          [
           "SCOTT",
           null
          ],
          [
           "HIND",
           null
          ],
          [
           "MCBRIDE",
           null
          ],
          [
           "HANSEN",
           null
          ],
          [
           "MILLER",
           null
          ],
          [
           "BRYAN",
           null
          ],
          [
           "SCHIEL",
           null
          ],
          [
           "NIELSON",
           null
          ],
          [
           "FARLEY",
           null
          ],
          [
           "REEVES",
           null
          ],
          [
           "MCQUARRIE",
           null
          ],
          [
           "LAYTON",
           null
          ],
          [
           "HAMILTON",
           null
          ],
          [
           "DICKSON",
           null
          ],
          [
           "VANDYKE",
           null
          ],
          [
           "ORGANNE",
           null
          ],
          [
           "HAGERTY",
           null
          ],
          [
           "HADDEN",
           null
          ],
          [
           "LUNDBERG",
           null
          ],
          [
           "MCDONALD",
           null
          ],
          [
           "BABCOCK",
           null
          ],
          [
           "GOODSELL",
           null
          ],
          [
           "CHENEY",
           null
          ],
          [
           "SARGENT",
           null
          ],
          [
           "WOLTZ",
           null
          ],
          [
           "JOB",
           null
          ],
          [
           "WELCH",
           null
          ],
          [
           "MUMFORD",
           null
          ],
          [
           "NIELSON",
           null
          ],
          [
           "TIMMES",
           null
          ],
          [
           "CHADBURN",
           null
          ],
          [
           "CARR",
           null
          ],
          [
           "IVIE",
           null
          ],
          [
           "HARRIS",
           null
          ],
          [
           "HATCH",
           null
          ],
          [
           "CHRYSTAL",
           null
          ],
          [
           "HURBET",
           null
          ],
          [
           "RASH",
           null
          ],
          [
           "WILLIAMSON",
           null
          ],
          [
           "TOLMAN",
           null
          ],
          [
           "QUINN",
           null
          ],
          [
           "BUSH",
           null
          ],
          [
           "HALVERSON",
           null
          ],
          [
           "RUMELL",
           null
          ],
          [
           "LARSEN",
           null
          ],
          [
           "WOOD",
           null
          ],
          [
           "SNARR",
           null
          ],
          [
           "GILES",
           null
          ],
          [
           "CASPER",
           null
          ],
          [
           "MATHIAS",
           null
          ],
          [
           "BROWN",
           null
          ],
          [
           "DALTON",
           null
          ],
          [
           "SCOTT",
           "AT HOME"
          ],
          [
           "DUNCAN",
           null
          ],
          [
           "LATHAM",
           null
          ],
          [
           "WASDEN",
           null
          ],
          [
           "PHILLIPS",
           null
          ],
          [
           "POLLOCK",
           null
          ],
          [
           "SPERRY",
           null
          ],
          [
           "ADAMS",
           null
          ],
          [
           "MESSENGER",
           null
          ],
          [
           "BRUNYER",
           "AT HOME"
          ],
          [
           "JOHNSTONE",
           null
          ],
          [
           "DUNDLE",
           null
          ],
          [
           "LEIGH",
           null
          ],
          [
           "WHEATTLY",
           null
          ],
          [
           "PINCOCK",
           null
          ],
          [
           "ECKERSELL",
           null
          ],
          [
           "ANDERSEN",
           null
          ],
          [
           "CUNNINGHAM",
           null
          ],
          [
           "BALDWIN",
           null
          ],
          [
           "BAILEY",
           null
          ],
          [
           "RAVER",
           null
          ],
          [
           "BOOTH",
           null
          ],
          [
           "GROO",
           "AT HOME"
          ],
          [
           "CHRISTIANSEN",
           null
          ],
          [
           "PARRISH",
           null
          ],
          [
           "STRATFORD",
           null
          ],
          [
           "DAVIS",
           null
          ],
          [
           "WILSON",
           null
          ],
          [
           "BLAIR",
           null
          ],
          [
           "WOODBURY",
           null
          ],
          [
           "ROBERTS",
           null
          ],
          [
           "BENSON",
           "AT HOME"
          ],
          [
           "PECK",
           null
          ],
          [
           "HUNT",
           null
          ],
          [
           "HOGAN",
           null
          ],
          [
           "BEEMAN",
           "AT HOME"
          ],
          [
           "WALTER",
           null
          ],
          [
           "HOWARTH",
           null
          ],
          [
           "BRINKERHOFF",
           null
          ],
          [
           "RASMUSSEN",
           null
          ],
          [
           "WARD",
           null
          ],
          [
           "HERBERT",
           null
          ],
          [
           "EVERILL",
           null
          ],
          [
           "FLETCHER",
           null
          ],
          [
           "WHEELER",
           null
          ],
          [
           "SMITH",
           null
          ],
          [
           "CHILDS",
           null
          ],
          [
           "BOND",
           null
          ],
          [
           "HORD",
           null
          ],
          [
           "BATES",
           null
          ],
          [
           "KIMBALL",
           null
          ],
          [
           "GREENALCH",
           null
          ],
          [
           "HEINER",
           null
          ],
          [
           "BARCLAY",
           "AT HOME"
          ],
          [
           "MCCALLISTER",
           null
          ],
          [
           "CHRISTENSEN",
           "AT SCHOOL"
          ],
          [
           "STEWART",
           null
          ],
          [
           "NAISBITT",
           "AT HOME"
          ],
          [
           "ODEKIRK",
           null
          ],
          [
           "BATEMAN",
           null
          ],
          [
           "HARRIS",
           "AT HOME"
          ],
          [
           "CHIPMAN",
           null
          ],
          [
           "PETERSON",
           null
          ],
          [
           "CAVANAGH",
           null
          ],
          [
           "NEWMAN",
           null
          ],
          [
           "STRINGHAM",
           null
          ],
          [
           "BIBEY",
           null
          ],
          [
           "CHRISTIANSEN",
           null
          ],
          [
           "WILLIAMS",
           null
          ],
          [
           "MOONEY",
           null
          ],
          [
           "PATERSON",
           null
          ],
          [
           "HICKMAN",
           null
          ],
          [
           "DEAL",
           null
          ],
          [
           "SHARP",
           null
          ],
          [
           "SMITH",
           null
          ],
          [
           "JOHNSON",
           null
          ],
          [
           "HALBERT",
           null
          ],
          [
           "PETTY",
           null
          ],
          [
           "GODDARD",
           null
          ],
          [
           "JACOBSEN",
           null
          ],
          [
           "BURTON",
           null
          ],
          [
           "BIRDS",
           null
          ],
          [
           "TUCKFIELD",
           null
          ],
          [
           "MORRIS",
           null
          ],
          [
           "MCBRIDE",
           null
          ],
          [
           "EVANS",
           null
          ],
          [
           "PETERSEN",
           null
          ],
          [
           "TERRY",
           null
          ],
          [
           "CARTER",
           null
          ],
          [
           "WILLIAMS",
           null
          ],
          [
           "HOWLS",
           null
          ],
          [
           "ROBERTSON",
           null
          ],
          [
           "REYNOLDS",
           null
          ],
          [
           "WILCOX",
           null
          ],
          [
           "NUTTALL",
           null
          ],
          [
           "BARRINGTON",
           null
          ],
          [
           "POPE",
           null
          ],
          [
           "GOODWIN",
           null
          ],
          [
           "JOHNSON",
           null
          ],
          [
           "WINSOR",
           null
          ],
          [
           "KIMMERSLEY",
           "AT HOME"
          ],
          [
           "RICH",
           null
          ],
          [
           "PIERCE",
           null
          ],
          [
           "SLADE",
           null
          ],
          [
           "HALTERMAN",
           null
          ],
          [
           "HILL",
           null
          ],
          [
           "LARSEN",
           null
          ],
          [
           "CLIFFORD",
           null
          ],
          [
           "SIMMS",
           null
          ],
          [
           "WADSWORTH",
           null
          ],
          [
           "HOUSLEY",
           null
          ],
          [
           "VANCE",
           null
          ],
          [
           "PERRY",
           null
          ],
          [
           "TANNER",
           null
          ],
          [
           "KERR",
           null
          ],
          [
           "MCMASTER",
           null
          ],
          [
           "GALLUP",
           null
          ],
          [
           "WILLIAMSON",
           null
          ],
          [
           "MILLER",
           null
          ],
          [
           "SINCLAIR",
           null
          ],
          [
           "HARPER",
           "AT HOME"
          ],
          [
           "BARLOW",
           null
          ],
          [
           "LOTT",
           null
          ],
          [
           "JONES",
           null
          ],
          [
           "RIGBY",
           null
          ],
          [
           "ANDERSON",
           null
          ],
          [
           "ELLIS",
           null
          ],
          [
           "SIDWELL",
           null
          ],
          [
           "HEDMAN",
           null
          ],
          [
           "HAMMER",
           null
          ],
          [
           "SMITH",
           null
          ],
          [
           "HASLEM",
           null
          ],
          [
           "GRAY",
           null
          ],
          [
           "JOHNSEN",
           null
          ],
          [
           "BAKER",
           null
          ],
          [
           "HOWARD",
           null
          ],
          [
           "GIBBY",
           null
          ],
          [
           "NIELSEN",
           null
          ],
          [
           "COWLES",
           null
          ],
          [
           "WEST",
           null
          ]
         ],
         "hovertemplate": "<b>%{hovertext}</b><br><br>sex=m<br>age=%{marker.size}<br>birthmonth=%{y}<br>lastname=%{customdata[0]}<br>occupation=%{customdata[1]}<extra></extra>",
         "hovertext": [
          "JOHNATHAN",
          "HEBER",
          "NEPHI",
          "DAVID",
          "CLAUDE",
          "WALTER",
          "WALTER",
          "NEPHI",
          "JOHN",
          "HENRY",
          "CHARLES",
          "EPHRIAM",
          "DAVID",
          "JAMES",
          "GEORGE",
          "JOSEPH",
          "WILLIS",
          "JOHN",
          "RAYMOND",
          "JONATHAN",
          "JOHN",
          "JOHN",
          "JOSEPH",
          "THOMAS",
          "GEORGE",
          "JENS",
          "ASA",
          "DUDLEY",
          "ROSEWELL",
          "GUY",
          "LEROY",
          "E",
          "GEORGE",
          "JESSIE",
          "LORENZO",
          "JESSE",
          "BABY",
          "SAMUEL",
          "JOHN",
          "JOSEPH",
          "EDMOND",
          "JOSEPH",
          "JOSEPH",
          "OLIVER",
          "DANIEL",
          "WILLIAM",
          "OLIVER",
          "MORGAN",
          "WILLIAM",
          "E",
          "ARTHUR",
          "CORNELIUS",
          "BABY",
          "JOSEPH",
          "ALMA",
          "GEORGE",
          "JOSEPH",
          "ARTHUR",
          "JAY",
          "HORACE",
          "FRANCIS",
          "HARRY",
          "JAMES",
          "NIELS",
          "WILLIAM",
          "GEORGE",
          "MORONI",
          "MORONI",
          "ARTHUR",
          "FREDRICK",
          "ALBERT",
          "JOHN",
          "DAVID",
          "G",
          "RODNEY",
          "FREDRICK",
          "LAURENCE",
          "PARLEY",
          "HOWELL",
          "THOMAS",
          "ENOCH",
          "A",
          "HANS",
          "HENRY",
          "GEORGE",
          "GEORGE",
          "LEROY",
          "JOHN",
          "ORIN",
          "JOSEPH",
          "JOSEPH",
          "WILLIAM",
          "SAMUEL",
          "JULUS",
          "WILLARD",
          "PETER",
          "JOSEPH",
          "LAFAYETTE",
          "CLAUD",
          "LEWIS",
          "DEWIT",
          "WILLIAM",
          "GUY",
          "JOHN",
          "HENRY",
          "INFANT",
          "JOHN",
          "ALBERT",
          "SAMUEL",
          "GEORGE",
          "VIRGIL",
          "RICHARD",
          "HOWARD",
          "JOHN",
          "RAYMOND",
          "JAMES",
          "ISAAC",
          "JAMES",
          "HASWELL",
          "CHARLES",
          "JOHN",
          "EDGAR",
          "CHARLES",
          "GEORGE",
          "PARLEY",
          "GEORGE",
          "JOSEPH",
          "A",
          "ERASMUS",
          "JOHN",
          "CHARLES",
          "RENO",
          "HYRUM",
          "HENRY",
          "BENJAMIN",
          "JOHN",
          "IRA",
          "FRANK",
          "ROBERT",
          "ORSON",
          "GEORGE",
          "THOMAS",
          "AUGUST",
          "CHARLES",
          "FREDERICK",
          "MOYLAN",
          "GEORGE",
          "RALPH",
          "LEWIS",
          "TIMOTHY",
          "CHARLES",
          "CHARLES",
          "JAMES",
          "FREDERICK",
          "JAMES",
          "WILLIAM",
          "DAVID",
          "CALEB",
          "GEORGE",
          "MATTHEW",
          "ROBERT",
          "WILLIAM",
          "WILLIAM",
          "ISRAEL",
          "IRA",
          "SAMUEL",
          "AMOS",
          "WALTER",
          "ELMER",
          "WALTER",
          "JOHN",
          "CHARLES",
          "GEORGE",
          "SAMUEL",
          "VERNON",
          "ROYAL",
          "CHARLES",
          "STEPHEN",
          "JOHN",
          "JAMES",
          "MARTIN",
          "MARK",
          "OSCAR",
          "GEORGE",
          "ANTHONY",
          "ERASTUS",
          "JOHN",
          "MORMON",
          "ARCHIBALD",
          "JOHN",
          "FRED",
          "PETER",
          "NICHOLAS",
          "PETER",
          "WILLIAM",
          "CHARLES",
          "VIVIAN",
          "JOHN",
          "JOSEPH",
          "SIMSON",
          "LOUIS",
          "WILLIAM",
          "WALTER",
          "CHARLES",
          "NORMAN",
          "ALEXANDER",
          "BENJAMIN",
          "JOHN",
          "JOSEPH",
          "WILLIAM",
          "CLIFTON",
          "NORMAN",
          "WILLIAM",
          "JAMES",
          "JOHN",
          "WILLIAM",
          "JOSEPH",
          "HANS",
          "JOHN",
          "CHARLES",
          "CHACEY",
          "DANIEL",
          "NONAME",
          "JOSEPH",
          "CHARLES",
          "HIRAM",
          "LOUISE",
          "FRANCIS",
          "ETHOL",
          "JAMES",
          "JOSHUA",
          "FRANK",
          "JOHN",
          "LEWIS",
          "M",
          "JASPER",
          "GEORGE",
          "ALGER",
          "CHARLES",
          "JAMES",
          "ARCHIE",
          "THEODORE",
          "FRANKLIN",
          "WILLIAM",
          "ROBERT",
          "JOHN",
          "PETER",
          "L",
          "JOSEPH",
          "GEORGE",
          "LOUIS",
          "DAVID",
          "FRANK",
          "FREDRICK",
          "HENRY",
          "JAMES",
          "CHARLES",
          "GEORGE",
          "ADOLPH",
          "GEORGE",
          "ANDREW",
          "ALFRED",
          "TRACEY",
          "MYLOW",
          "WILLIAM",
          "CLIFTON",
          "GEORGE",
          "SCHULER",
          "WILLIAM",
          "EUGENE",
          "HENRY",
          "CHARLES",
          "ROLLA",
          "BUREW",
          "RUBY",
          "ELDER",
          "HEBER",
          "CHARLES",
          "CHARLES",
          "CLARENCE",
          "ARCHIE",
          "MARIAN",
          "THOMAS",
          "CLARENCE",
          "ANDREW",
          "WILLIAM",
          "WILFRED",
          "JOSHUA",
          "ADELBERT",
          "HERBERT",
          "CHARLES",
          "MICHAEL",
          "JOHN",
          "LLEWELLYN",
          "EDWARD",
          "RILEY",
          "DANIEL",
          "ARLINGTON",
          "WILLIAM",
          "HILDING",
          "FRANCIS",
          "ORSON",
          "A",
          "JOHN",
          "SAMUEL",
          "JOSEPH",
          "RAYMOND",
          "ALEXANDER",
          "JOSEPH",
          "ENOCH",
          "WILLARD",
          "ROYAL",
          "ELMER",
          "ELIJAH",
          "JOHN",
          "MARTIN",
          "JOHN",
          "GEORGE",
          "RETURN",
          "JAMES",
          "ALVIN",
          "JAMES",
          "ELIJAH",
          "JOSEPH",
          "MURROW",
          "THOMAS",
          "JAMES",
          "LARS",
          "ASY",
          "WILLIAM",
          "ROBERT",
          "BENJAMIN",
          "JAMES",
          "WILLIAM",
          "WILLIAM",
          "WILLIAM",
          "JEREMIAH",
          "EDWARD",
          "NEPHI",
          "WILLIAM",
          "JAMES",
          "JOHN",
          "ELIJAH",
          "HENRY",
          "LUDWIG",
          "ERNEST",
          "CLARENCE",
          "HAMLET",
          "CARL",
          "AVERY",
          "JOHN",
          "SILAS",
          "AMOS",
          "RILEY",
          "WILLIAM",
          "WILLIAM",
          "JOHN",
          "HUGH",
          "REX",
          "ORMUS",
          "JOHN",
          "RICHARD",
          "ARTHUR",
          "WILLIAM",
          "PETER",
          "FREDERICK",
          "JAMES",
          "FREDERICK",
          "GEORGE",
          "EPHRAIM",
          "JESSE",
          "E",
          "LOUIS",
          "WILLIAM",
          "CHARLES",
          "FREDERIC",
          "VICTOR",
          "JOSEPH",
          "THOMAS",
          "EARNEST",
          "MELVILLE",
          "WILLIAM",
          "JAMES",
          "CHARLES",
          "EDMOND",
          "JOHN",
          "J",
          "WILLIAM",
          "SYLVA",
          "ROYAL",
          "CHARLES",
          "ALBERT",
          "CHARLES",
          "JOSEPH",
          "BABY",
          "SOREN",
          "WILLIAM",
          "ETHEL",
          "ALBERT",
          "ISAAC",
          "JOSEPH",
          "ARTHUR",
          "HOMER",
          "ALVA",
          "BENJAMIN",
          "JONATHAN",
          "WALTER",
          "BABIE",
          "FRANK",
          "CHARLES",
          "JAMES",
          "ANDREW",
          "WILLIAM",
          "JOSEPH",
          "ALBERT",
          "ISAAC",
          "JOSEPH",
          "JAMES",
          "ALONZO",
          "JOHN",
          "JOHN",
          "HARVEY",
          "EDWIN",
          "ROBERT",
          "NOT NAMED",
          "MICHAEL",
          "W",
          "JOHN",
          "LOUIS",
          "ARTHUR",
          "J",
          "CHARLES",
          "JOSEPH",
          "DELANO",
          "JOSEPH",
          "FRANKLIN",
          "CHARLES",
          "RAY",
          "CHARLES",
          "ORSON",
          "FREDRICK",
          "JOHNNIE",
          "THOMAS",
          "INFANT",
          "JOHN",
          "JOHN",
          "ORSON",
          "OLGER",
          "GABRIAL",
          "L",
          "FRANK",
          "ALLASO",
          "JOHN",
          "CHARLES",
          "JOSEPH",
          "GEORGE",
          "WILLARD",
          "D",
          "JAMES",
          "HYRUM",
          "AUSTIN",
          "JASPER",
          "LUCIUS",
          "THOMAS",
          "WILLIAM",
          "JOSEPH",
          "GEORGE",
          "JOSEPH",
          "WILLIAM",
          "CHARLES",
          "JOHN",
          "ANSON",
          "WILLIAM",
          "EDGAR",
          "BRATEN",
          "BENJAMIN",
          "M",
          "H",
          "GEORGE",
          "TIMOTHY",
          "JOSEPH",
          "JOHN",
          "SAMUEL",
          "HYRUM",
          "THOMAS",
          "HENRY",
          "WALTER",
          "WILLIAM",
          "WILLIAM",
          "JAMES",
          "DANIEL",
          "OSBORNE",
          "ALBERT",
          "TRUMAN",
          "GEORGE",
          "JAMES",
          "F",
          "JOSEPH",
          "GEORGE",
          "JAMES",
          "JOHN",
          "SAMUEL",
          "GEORGE",
          "GEORGE",
          "WILLIAM",
          "HANS",
          "ALBERT",
          "EDWARD",
          "ALMA",
          "OLUFF",
          "LEROY",
          "JESSIE"
         ],
         "legendgroup": "m",
         "marker": {
          "color": "#636efa",
          "opacity": 0.7,
          "size": [
           0.417,
           0.5,
           0.917,
           0.25,
           0.083,
           0.333,
           0.75,
           0.583,
           0.75,
           0.583,
           0.167,
           0.167,
           0.417,
           0.167,
           0.5,
           0.25,
           0.667,
           0.583,
           0.333,
           0.583,
           0.917,
           0.167,
           0.25,
           0.417,
           0.167,
           0.083,
           0.75,
           0.667,
           0.667,
           0.25,
           0.833,
           0.083,
           0.25,
           0.917,
           0.833,
           0.583,
           0.083,
           0.75,
           0.5,
           0.25,
           0.667,
           0.083,
           0.417,
           0.5,
           0.167,
           0.333,
           0.833,
           0.75,
           0.083,
           0.333,
           0.083,
           0.5,
           0.083,
           0.417,
           0.583,
           0.583,
           0.333,
           0.333,
           0.583,
           0.667,
           0.833,
           0.75,
           0.667,
           0.333,
           0.833,
           0.167,
           0.75,
           0.25,
           0.083,
           0.917,
           0.083,
           0.074,
           0.667,
           0.083,
           0.083,
           0.083,
           0.417,
           0.75,
           0.417,
           0.667,
           0.583,
           0.583,
           0.75,
           0.917,
           0.167,
           0.833,
           0.083,
           0.75,
           0.667,
           0.167,
           0.333,
           0.333,
           0.25,
           0.833,
           0.5,
           0.583,
           0.583,
           0.917,
           0.083,
           0.417,
           0.417,
           0.583,
           0.417,
           0.083,
           0.333,
           0.066,
           0.5,
           0.833,
           0.417,
           0.833,
           0.25,
           0.25,
           0.417,
           0.667,
           0.333,
           0.083,
           0.75,
           0.25,
           0.333,
           0.083,
           0.417,
           0.833,
           0.167,
           0.667,
           0.25,
           0.083,
           0.417,
           0.417,
           0.417,
           0.833,
           0.5,
           0.25,
           0.5,
           0.667,
           0.583,
           0.5,
           0.833,
           0,
           0.5,
           0.167,
           0.083,
           0.5,
           0.417,
           0.25,
           0.333,
           0.167,
           0.333,
           0.75,
           0.667,
           0.25,
           0.917,
           0.417,
           0.917,
           0.083,
           0.25,
           0.5,
           0.5,
           0.25,
           0.833,
           0.667,
           0.667,
           0.25,
           0.25,
           0.583,
           0.917,
           0.25,
           0.833,
           0.167,
           0.417,
           0.833,
           0.667,
           0.083,
           0.333,
           0.333,
           0.75,
           0.333,
           0.833,
           0.333,
           0.417,
           0.167,
           0.75,
           0.083,
           0.833,
           0.083,
           0.083,
           0.5,
           0.167,
           0.333,
           0.25,
           0.417,
           0.667,
           0.583,
           0.083,
           0.167,
           0.833,
           0.417,
           0.5,
           0.833,
           0.333,
           0.75,
           0.083,
           0.417,
           0.5,
           0.667,
           0.083,
           0.583,
           0.167,
           0.25,
           0.333,
           0.833,
           0.083,
           0.333,
           0.5,
           0.917,
           0.417,
           0.417,
           0.167,
           0.5,
           0.083,
           0.833,
           0.917,
           0.417,
           0.417,
           0.333,
           0.917,
           0.083,
           0.917,
           2.167,
           0.833,
           0.833,
           0.083,
           0.333,
           0.083,
           0.25,
           0.583,
           0.167,
           0.417,
           0.25,
           0.333,
           0.083,
           0.167,
           0.333,
           0.167,
           0.167,
           0.667,
           0.083,
           0.583,
           0.167,
           0.667,
           0.917,
           0.75,
           0.583,
           0.833,
           0.417,
           0.583,
           0.083,
           1.25,
           0.75,
           0.417,
           0.25,
           0.083,
           0.75,
           0.833,
           0.583,
           0.083,
           0.5,
           0.667,
           0.333,
           0.667,
           0.25,
           0.583,
           0.417,
           0.5,
           0.75,
           0.083,
           0.417,
           0.75,
           0.583,
           0.083,
           0.167,
           0.667,
           0.417,
           0.583,
           0.167,
           0.167,
           0.833,
           0.167,
           0.5,
           0.083,
           0.75,
           0.083,
           0.083,
           0.083,
           0.25,
           0.417,
           0.333,
           0.75,
           0.417,
           0.417,
           0.833,
           0.167,
           0.083,
           0.75,
           0.25,
           0.25,
           0.25,
           0.083,
           0.667,
           0.167,
           0.25,
           0.667,
           0.833,
           0.167,
           0.5,
           0.833,
           0.167,
           0.583,
           0.25,
           0.75,
           0.25,
           0.75,
           0.583,
           0.167,
           0.417,
           0.167,
           0.417,
           0.5,
           0.5,
           0.917,
           0.25,
           0.417,
           0.75,
           0.667,
           0.583,
           0.833,
           0.417,
           0.25,
           0.25,
           0.25,
           0.75,
           0.5,
           0.833,
           0.25,
           0.083,
           0.667,
           0.167,
           0.083,
           0.25,
           0.583,
           0.5,
           0.583,
           0.833,
           0.25,
           0.417,
           0.083,
           0.25,
           0.25,
           0.333,
           0.167,
           0.833,
           0.667,
           0.25,
           0.167,
           0.167,
           0.417,
           0.5,
           0.75,
           0.5,
           0.917,
           0.833,
           0.75,
           0.041,
           0.167,
           0.417,
           0.75,
           0.25,
           0.083,
           0.333,
           0.75,
           0.25,
           0.5,
           0.25,
           0.083,
           0.5,
           0.667,
           0.917,
           0.333,
           0.75,
           0.667,
           0.083,
           0.583,
           0.333,
           0.583,
           0.083,
           0.083,
           0.5,
           0.75,
           0.5,
           0.083,
           0.583,
           0.333,
           0.25,
           0.167,
           0.75,
           0.833,
           0.5,
           0.667,
           0.083,
           0.417,
           0.25,
           0.167,
           0.583,
           0.167,
           0.083,
           0.75,
           0.417,
           0.75,
           0.25,
           0.333,
           0.25,
           0.25,
           0.667,
           0.25,
           0.25,
           0.003,
           0.083,
           0.5,
           0.5,
           0.25,
           0.5,
           0.167,
           0.083,
           0.833,
           0.5,
           0.083,
           0.75,
           0.583,
           0.917,
           0.667,
           0.5,
           0.25,
           0.333,
           0.583,
           0.167,
           0.667,
           0.333,
           0.583,
           0.083,
           0.833,
           0.667,
           0.583,
           0.75,
           0.083,
           0.917,
           0.25,
           0.75,
           0.333,
           0.25,
           0.417,
           0.667,
           0.25,
           0.25,
           0.25,
           0.5,
           0.583,
           0.167,
           0.667,
           0.417,
           0.833,
           0.667,
           0.083,
           0.583,
           0.667,
           0.333,
           0.917,
           0.917,
           0.167,
           0.5,
           0.75,
           0.167,
           0.167,
           0.333,
           0.583,
           0.5,
           0.167,
           0.417,
           0.333,
           0.083,
           0.833,
           0.667,
           0.333,
           0,
           0.167,
           0.333,
           0.25,
           0.25,
           0.667,
           0.083,
           0.333,
           0.917,
           0.083,
           0.667,
           0.917,
           0.5,
           0.083,
           0.667,
           0.917,
           0.417,
           0.917,
           0.083,
           0.083,
           0.667
          ],
          "sizemode": "area",
          "sizeref": 0.0054175,
          "symbol": "circle"
         },
         "mode": "markers",
         "name": "m",
         "orientation": "v",
         "showlegend": true,
         "type": "scatter",
         "x": [
          0.417,
          0.5,
          0.917,
          0.25,
          0.083,
          0.333,
          0.75,
          0.583,
          0.75,
          0.583,
          0.167,
          0.167,
          0.417,
          0.167,
          0.5,
          0.25,
          0.667,
          0.583,
          0.333,
          0.583,
          0.917,
          0.167,
          0.25,
          0.417,
          0.167,
          0.083,
          0.75,
          0.667,
          0.667,
          0.25,
          0.833,
          0.083,
          0.25,
          0.917,
          0.833,
          0.583,
          0.083,
          0.75,
          0.5,
          0.25,
          0.667,
          0.083,
          0.417,
          0.5,
          0.167,
          0.333,
          0.833,
          0.75,
          0.083,
          0.333,
          0.083,
          0.5,
          0.083,
          0.417,
          0.583,
          0.583,
          0.333,
          0.333,
          0.583,
          0.667,
          0.833,
          0.75,
          0.667,
          0.333,
          0.833,
          0.167,
          0.75,
          0.25,
          0.083,
          0.917,
          0.083,
          0.074,
          0.667,
          0.083,
          0.083,
          0.083,
          0.417,
          0.75,
          0.417,
          0.667,
          0.583,
          0.583,
          0.75,
          0.917,
          0.167,
          0.833,
          0.083,
          0.75,
          0.667,
          0.167,
          0.333,
          0.333,
          0.25,
          0.833,
          0.5,
          0.583,
          0.583,
          0.917,
          0.083,
          0.417,
          0.417,
          0.583,
          0.417,
          0.083,
          0.333,
          0.066,
          0.5,
          0.833,
          0.417,
          0.833,
          0.25,
          0.25,
          0.417,
          0.667,
          0.333,
          0.083,
          0.75,
          0.25,
          0.333,
          0.083,
          0.417,
          0.833,
          0.167,
          0.667,
          0.25,
          0.083,
          0.417,
          0.417,
          0.417,
          0.833,
          0.5,
          0.25,
          0.5,
          0.667,
          0.583,
          0.5,
          0.833,
          0,
          0.5,
          0.167,
          0.083,
          0.5,
          0.417,
          0.25,
          0.333,
          0.167,
          0.333,
          0.75,
          0.667,
          0.25,
          0.917,
          0.417,
          0.917,
          0.083,
          0.25,
          0.5,
          0.5,
          0.25,
          0.833,
          0.667,
          0.667,
          0.25,
          0.25,
          0.583,
          0.917,
          0.25,
          0.833,
          0.167,
          0.417,
          0.833,
          0.667,
          0.083,
          0.333,
          0.333,
          0.75,
          0.333,
          0.833,
          0.333,
          0.417,
          0.167,
          0.75,
          0.083,
          0.833,
          0.083,
          0.083,
          0.5,
          0.167,
          0.333,
          0.25,
          0.417,
          0.667,
          0.583,
          0.083,
          0.167,
          0.833,
          0.417,
          0.5,
          0.833,
          0.333,
          0.75,
          0.083,
          0.417,
          0.5,
          0.667,
          0.083,
          0.583,
          0.167,
          0.25,
          0.333,
          0.833,
          0.083,
          0.333,
          0.5,
          0.917,
          0.417,
          0.417,
          0.167,
          0.5,
          0.083,
          0.833,
          0.917,
          0.417,
          0.417,
          0.333,
          0.917,
          0.083,
          0.917,
          2.167,
          0.833,
          0.833,
          0.083,
          0.333,
          0.083,
          0.25,
          0.583,
          0.167,
          0.417,
          0.25,
          0.333,
          0.083,
          0.167,
          0.333,
          0.167,
          0.167,
          0.667,
          0.083,
          0.583,
          0.167,
          0.667,
          0.917,
          0.75,
          0.583,
          0.833,
          0.417,
          0.583,
          0.083,
          1.25,
          0.75,
          0.417,
          0.25,
          0.083,
          0.75,
          0.833,
          0.583,
          0.083,
          0.5,
          0.667,
          0.333,
          0.667,
          0.25,
          0.583,
          0.417,
          0.5,
          0.75,
          0.083,
          0.417,
          0.75,
          0.583,
          0.083,
          0.167,
          0.667,
          0.417,
          0.583,
          0.167,
          0.167,
          0.833,
          0.167,
          0.5,
          0.083,
          0.75,
          0.083,
          0.083,
          0.083,
          0.25,
          0.417,
          0.333,
          0.75,
          0.417,
          0.417,
          0.833,
          0.167,
          0.083,
          0.75,
          0.25,
          0.25,
          0.25,
          0.083,
          0.667,
          0.167,
          0.25,
          0.667,
          0.833,
          0.167,
          0.5,
          0.833,
          0.167,
          0.583,
          0.25,
          0.75,
          0.25,
          0.75,
          0.583,
          0.167,
          0.417,
          0.167,
          0.417,
          0.5,
          0.5,
          0.917,
          0.25,
          0.417,
          0.75,
          0.667,
          0.583,
          0.833,
          0.417,
          0.25,
          0.25,
          0.25,
          0.75,
          0.5,
          0.833,
          0.25,
          0.083,
          0.667,
          0.167,
          0.083,
          0.25,
          0.583,
          0.5,
          0.583,
          0.833,
          0.25,
          0.417,
          0.083,
          0.25,
          0.25,
          0.333,
          0.167,
          0.833,
          0.667,
          0.25,
          0.167,
          0.167,
          0.417,
          0.5,
          0.75,
          0.5,
          0.917,
          0.833,
          0.75,
          0.041,
          0.167,
          0.417,
          0.75,
          0.25,
          0.083,
          0.333,
          0.75,
          0.25,
          0.5,
          0.25,
          0.083,
          0.5,
          0.667,
          0.917,
          0.333,
          0.75,
          0.667,
          0.083,
          0.583,
          0.333,
          0.583,
          0.083,
          0.083,
          0.5,
          0.75,
          0.5,
          0.083,
          0.583,
          0.333,
          0.25,
          0.167,
          0.75,
          0.833,
          0.5,
          0.667,
          0.083,
          0.417,
          0.25,
          0.167,
          0.583,
          0.167,
          0.083,
          0.75,
          0.417,
          0.75,
          0.25,
          0.333,
          0.25,
          0.25,
          0.667,
          0.25,
          0.25,
          0.003,
          0.083,
          0.5,
          0.5,
          0.25,
          0.5,
          0.167,
          0.083,
          0.833,
          0.5,
          0.083,
          0.75,
          0.583,
          0.917,
          0.667,
          0.5,
          0.25,
          0.333,
          0.583,
          0.167,
          0.667,
          0.333,
          0.583,
          0.083,
          0.833,
          0.667,
          0.583,
          0.75,
          0.083,
          0.917,
          0.25,
          0.75,
          0.333,
          0.25,
          0.417,
          0.667,
          0.25,
          0.25,
          0.25,
          0.5,
          0.583,
          0.167,
          0.667,
          0.417,
          0.833,
          0.667,
          0.083,
          0.583,
          0.667,
          0.333,
          0.917,
          0.917,
          0.167,
          0.5,
          0.75,
          0.167,
          0.167,
          0.333,
          0.583,
          0.5,
          0.167,
          0.417,
          0.333,
          0.083,
          0.833,
          0.667,
          0.333,
          0,
          0.167,
          0.333,
          0.25,
          0.25,
          0.667,
          0.083,
          0.333,
          0.917,
          0.083,
          0.667,
          0.917,
          0.5,
          0.083,
          0.667,
          0.917,
          0.417,
          0.917,
          0.083,
          0.083,
          0.667
         ],
         "xaxis": "x",
         "y": [
          1,
          12,
          6,
          3,
          5,
          1,
          9,
          8,
          8,
          11,
          3,
          3,
          12,
          4,
          12,
          2,
          10,
          10,
          2,
          9,
          6,
          5,
          3,
          12,
          4,
          5,
          8,
          9,
          10,
          2,
          8,
          5,
          2,
          6,
          7,
          12,
          5,
          8,
          11,
          3,
          9,
          6,
          12,
          1,
          5,
          3,
          7,
          9,
          5,
          2,
          2,
          11,
          4,
          1,
          11,
          10,
          1,
          2,
          10,
          10,
          7,
          9,
          10,
          1,
          8,
          4,
          11,
          2,
          5,
          6,
          4,
          5,
          9,
          4,
          5,
          5,
          1,
          8,
          1,
          8,
          11,
          9,
          8,
          1,
          3,
          7,
          5,
          8,
          10,
          3,
          2,
          2,
          2,
          7,
          11,
          12,
          10,
          7,
          3,
          1,
          12,
          11,
          12,
          5,
          2,
          5,
          12,
          7,
          1,
          8,
          3,
          2,
          12,
          9,
          2,
          4,
          8,
          2,
          1,
          4,
          12,
          7,
          3,
          10,
          2,
          4,
          1,
          1,
          6,
          7,
          12,
          3,
          11,
          10,
          10,
          11,
          7,
          5,
          11,
          4,
          4,
          11,
          1,
          3,
          1,
          4,
          1,
          8,
          9,
          3,
          7,
          12,
          5,
          5,
          3,
          12,
          11,
          4,
          7,
          10,
          12,
          4,
          2,
          11,
          7,
          3,
          7,
          3,
          12,
          7,
          9,
          5,
          1,
          1,
          9,
          1,
          8,
          1,
          1,
          4,
          9,
          5,
          7,
          4,
          4,
          11,
          3,
          1,
          3,
          12,
          9,
          11,
          5,
          4,
          7,
          1,
          12,
          7,
          1,
          9,
          5,
          1,
          11,
          9,
          4,
          10,
          3,
          3,
          1,
          8,
          5,
          1,
          11,
          6,
          2,
          10,
          5,
          1,
          5,
          8,
          7,
          1,
          1,
          3,
          6,
          5,
          7,
          5,
          8,
          7,
          4,
          2,
          5,
          3,
          10,
          4,
          12,
          2,
          2,
          5,
          4,
          2,
          3,
          4,
          10,
          4,
          10,
          3,
          9,
          6,
          9,
          11,
          8,
          1,
          10,
          4,
          5,
          8,
          7,
          3,
          5,
          9,
          7,
          10,
          4,
          11,
          9,
          2,
          9,
          2,
          11,
          12,
          11,
          8,
          4,
          12,
          8,
          10,
          5,
          3,
          9,
          1,
          10,
          4,
          4,
          7,
          4,
          11,
          4,
          9,
          4,
          4,
          5,
          3,
          1,
          2,
          9,
          1,
          1,
          8,
          4,
          4,
          9,
          3,
          1,
          3,
          5,
          10,
          4,
          2,
          9,
          4,
          3,
          11,
          8,
          4,
          10,
          3,
          8,
          2,
          9,
          10,
          3,
          1,
          4,
          12,
          12,
          12,
          7,
          2,
          1,
          9,
          10,
          10,
          8,
          1,
          2,
          2,
          2,
          8,
          12,
          8,
          2,
          4,
          10,
          4,
          5,
          2,
          10,
          12,
          9,
          4,
          3,
          12,
          5,
          2,
          2,
          2,
          4,
          7,
          10,
          3,
          4,
          4,
          12,
          11,
          9,
          12,
          7,
          8,
          1,
          5,
          4,
          12,
          7,
          3,
          4,
          1,
          9,
          3,
          11,
          3,
          4,
          12,
          9,
          1,
          3,
          8,
          9,
          5,
          10,
          1,
          12,
          5,
          5,
          11,
          8,
          12,
          5,
          10,
          2,
          3,
          4,
          9,
          7,
          12,
          11,
          5,
          1,
          3,
          3,
          10,
          3,
          5,
          8,
          12,
          8,
          2,
          2,
          6,
          2,
          9,
          3,
          3,
          5,
          5,
          1,
          12,
          2,
          11,
          3,
          5,
          8,
          1,
          5,
          8,
          2,
          6,
          9,
          12,
          5,
          1,
          10,
          4,
          9,
          2,
          10,
          5,
          8,
          8,
          11,
          1,
          4,
          7,
          2,
          8,
          2,
          3,
          12,
          9,
          3,
          3,
          4,
          12,
          10,
          3,
          9,
          12,
          8,
          2,
          5,
          11,
          9,
          1,
          7,
          6,
          3,
          11,
          8,
          3,
          3,
          10,
          11,
          11,
          3,
          1,
          2,
          5,
          8,
          9,
          1,
          5,
          4,
          10,
          2,
          2,
          10,
          5,
          1,
          6,
          5,
          10,
          6,
          1,
          5,
          9,
          7,
          1,
          6,
          5,
          5,
          9
         ],
         "yaxis": "y"
        },
        {
         "customdata": [
          [
           "STEELE",
           null
          ],
          [
           "BROWN",
           null
          ],
          [
           "PARKER",
           null
          ],
          [
           "HATCH",
           null
          ],
          [
           "BEESLEY",
           "AT HOME"
          ],
          [
           "MELLOR",
           null
          ],
          [
           "HUISCH",
           null
          ],
          [
           "REID",
           null
          ],
          [
           "KAPPLER",
           "AT HOME"
          ],
          [
           "JAMES",
           "AT HOME"
          ],
          [
           "BUCKLE",
           null
          ],
          [
           "FEENEY",
           null
          ],
          [
           "WALTERS",
           null
          ],
          [
           "BROWN",
           null
          ],
          [
           "MAKKEPRANG",
           null
          ],
          [
           "PLATT",
           "AT HOME"
          ],
          [
           "COOLBEAR",
           null
          ],
          [
           "MONTGOMERY",
           null
          ],
          [
           "SECRIST",
           null
          ],
          [
           "CALVERT",
           null
          ],
          [
           "PORTER",
           null
          ],
          [
           "HARPER",
           "AT HOME"
          ],
          [
           "TREMAYNE",
           null
          ],
          [
           "HORN",
           null
          ],
          [
           "HAYCOCK",
           null
          ],
          [
           "WALTERS",
           null
          ],
          [
           "ANDERSEN",
           null
          ],
          [
           "GIBBONS",
           null
          ],
          [
           "CASTLE",
           null
          ],
          [
           "CLARK",
           null
          ],
          [
           "HANSON",
           null
          ],
          [
           "BINGHAM",
           null
          ],
          [
           "HARRIS",
           null
          ],
          [
           "ORME",
           null
          ],
          [
           "CLUFF",
           "KEEPING HOUSE"
          ],
          [
           "CARDING",
           null
          ],
          [
           "FISHER",
           null
          ],
          [
           "EGAN",
           null
          ],
          [
           "JINKINS",
           null
          ],
          [
           "PRATT",
           null
          ],
          [
           "DUNCAN",
           null
          ],
          [
           "MAUGHAN",
           null
          ],
          [
           "WRIGHT",
           null
          ],
          [
           "ALLRED",
           null
          ],
          [
           "BATE",
           null
          ],
          [
           "HALGREN",
           null
          ],
          [
           "CLYDE",
           null
          ],
          [
           "SAXTON",
           null
          ],
          [
           "KELLER",
           null
          ],
          [
           "MADSEN",
           "AT HOME"
          ],
          [
           "HILLIER",
           null
          ],
          [
           "QUINN",
           null
          ],
          [
           "SKILL",
           null
          ],
          [
           "SMITH",
           null
          ],
          [
           "DAVIS",
           null
          ],
          [
           "ROBINSON",
           null
          ],
          [
           "TATTON",
           null
          ],
          [
           "NIELSON",
           null
          ],
          [
           "RICE",
           null
          ],
          [
           "HENDRICSON",
           null
          ],
          [
           "NESBIT",
           null
          ],
          [
           "PLANT",
           null
          ],
          [
           "HOBBEY",
           null
          ],
          [
           "CLAWSON",
           null
          ],
          [
           "JOHNSON",
           null
          ],
          [
           "BLIZZARD",
           null
          ],
          [
           "STRONG",
           null
          ],
          [
           "CLOWARD",
           null
          ],
          [
           "CRAWFORD",
           "AT HOME"
          ],
          [
           "INGLE",
           null
          ],
          [
           "DOVER",
           null
          ],
          [
           "MARTIN",
           null
          ],
          [
           "LEWIS",
           null
          ],
          [
           "MANTUSSON",
           null
          ],
          [
           "LARSEN",
           null
          ],
          [
           "DRIGGS",
           null
          ],
          [
           "SIMPSON",
           "AT HOME"
          ],
          [
           "MERCER",
           null
          ],
          [
           "ADAMS",
           null
          ],
          [
           "HENRY",
           null
          ],
          [
           "WILCOX",
           null
          ],
          [
           "JENSON",
           null
          ],
          [
           "STORK",
           "AT HOME"
          ],
          [
           "MADSEN",
           null
          ],
          [
           "READING",
           null
          ],
          [
           "CURTIS",
           null
          ],
          [
           "CROSBY",
           null
          ],
          [
           "LUMSO",
           "AT HOME"
          ],
          [
           "FORBUSH",
           null
          ],
          [
           "ANDERSON",
           null
          ],
          [
           "WHITE",
           "AT HOME"
          ],
          [
           "DEARDOW",
           null
          ],
          [
           "TWITCHELL",
           null
          ],
          [
           "NICHOLS",
           null
          ],
          [
           "CROFT",
           "AT HOME"
          ],
          [
           "STAKER",
           null
          ],
          [
           "CARPENTER",
           null
          ],
          [
           "SCOTT",
           null
          ],
          [
           "OLSEN",
           null
          ],
          [
           "BRADFORD",
           null
          ],
          [
           "SIMMONS",
           null
          ],
          [
           "WESTWOOD",
           null
          ],
          [
           "LISH",
           null
          ],
          [
           "ROBERTS",
           null
          ],
          [
           "KELLER",
           "AT HOME"
          ],
          [
           "HILL",
           null
          ],
          [
           "SMITH",
           null
          ],
          [
           "LOWRY",
           null
          ],
          [
           "NEILSEN",
           null
          ],
          [
           "SNOW",
           null
          ],
          [
           "FARNES",
           null
          ],
          [
           "WILSON",
           null
          ],
          [
           "NIELSEN",
           "AT HOME"
          ],
          [
           "HANSEN",
           null
          ],
          [
           "CARTER",
           null
          ],
          [
           "JONES",
           null
          ],
          [
           "OTLUND",
           null
          ],
          [
           "CLUFF",
           "AT HOME"
          ],
          [
           "YOUNGBERG",
           null
          ],
          [
           "LOUIS",
           null
          ],
          [
           "WOOLLEY",
           null
          ],
          [
           "WHITEAR",
           null
          ],
          [
           "FOX",
           null
          ],
          [
           "JESSOP",
           null
          ],
          [
           "LEE",
           null
          ],
          [
           "CHRISTENSEN",
           null
          ],
          [
           "BASTIAN",
           null
          ],
          [
           "HANSON",
           null
          ],
          [
           "JONES",
           "AT HOME"
          ],
          [
           "PYNE",
           "AT HOME"
          ],
          [
           "WHITAKER",
           null
          ],
          [
           "MILLER",
           null
          ],
          [
           "BRAILSFORD",
           null
          ],
          [
           "THOMAS",
           null
          ],
          [
           "COLLINS",
           "AT HOME"
          ],
          [
           "HUSTANDS",
           null
          ],
          [
           "PORTER",
           null
          ],
          [
           "BARNARD",
           null
          ],
          [
           "ESPLIN",
           null
          ],
          [
           "LYTHGOR",
           null
          ],
          [
           "PEAY",
           "AT HOME"
          ],
          [
           "PARKER",
           null
          ],
          [
           "BIRKINSHAW",
           null
          ],
          [
           "WRIGHT",
           null
          ],
          [
           "JUDD",
           null
          ],
          [
           "NELSON",
           null
          ],
          [
           "DEAN",
           null
          ],
          [
           "SNEDDIN",
           null
          ],
          [
           "TAYLOR",
           null
          ],
          [
           "CLARK",
           null
          ],
          [
           "LLOYD",
           null
          ],
          [
           "KNOWLES",
           "AT HOME"
          ],
          [
           "HAZEL",
           null
          ],
          [
           "ALLRED",
           null
          ],
          [
           "ALLSWORTH",
           null
          ],
          [
           "PICKFORD",
           null
          ],
          [
           "GALLAGHER",
           null
          ],
          [
           "YOUNGBERG",
           null
          ],
          [
           "JONES",
           null
          ],
          [
           "COLLETT",
           "AT HOME"
          ],
          [
           "MCCURDY",
           null
          ],
          [
           "FREDRICKSEN",
           null
          ],
          [
           "ROPER",
           null
          ],
          [
           "SMITH",
           null
          ],
          [
           "RICHARDSON",
           null
          ],
          [
           "ALLRED",
           null
          ],
          [
           "BUTLER",
           null
          ],
          [
           "SORENSON",
           "AT HOME"
          ],
          [
           "SMITH",
           null
          ],
          [
           "HARTINGSEN",
           null
          ],
          [
           "GOFF",
           null
          ],
          [
           "WHITE",
           null
          ],
          [
           "ADAIR",
           null
          ],
          [
           "DAVIS",
           null
          ],
          [
           "NORTON",
           null
          ],
          [
           "GITTENS",
           null
          ],
          [
           "KOEFORD",
           null
          ],
          [
           "SESSIONS",
           null
          ],
          [
           "DAVIS",
           null
          ],
          [
           "DENEL",
           null
          ],
          [
           "FORD",
           null
          ],
          [
           "PRICE",
           null
          ],
          [
           "TWIGGS",
           null
          ],
          [
           "BANKS",
           "AT HOME"
          ],
          [
           "EVANS",
           null
          ],
          [
           "SLATER",
           null
          ],
          [
           "THORN",
           null
          ],
          [
           "CAFFALL",
           null
          ],
          [
           "KING",
           null
          ],
          [
           "HANSEN",
           null
          ],
          [
           "THORSEN",
           null
          ],
          [
           "HENRYSON",
           null
          ],
          [
           "DUFFIELD",
           null
          ],
          [
           "THATCHER",
           null
          ],
          [
           "SHUTLER",
           null
          ],
          [
           "YOUNG",
           null
          ],
          [
           "ANDERSEN",
           null
          ],
          [
           "TIPPETTS",
           null
          ],
          [
           "SHAW",
           null
          ],
          [
           "BURKMAN",
           null
          ],
          [
           "BOHLING",
           null
          ],
          [
           "FLINN",
           null
          ],
          [
           "HARVEY",
           "AT HOME"
          ],
          [
           "BUTLER",
           null
          ],
          [
           "SHANKS",
           null
          ],
          [
           "ROBINSON",
           null
          ],
          [
           "BARNETT",
           null
          ],
          [
           "WHITNEY",
           null
          ],
          [
           "CROSLY",
           null
          ],
          [
           "LAURSTSEN",
           null
          ],
          [
           "BROWN",
           null
          ],
          [
           "HALL",
           null
          ],
          [
           "DURFEE",
           null
          ],
          [
           "CLARK",
           null
          ],
          [
           "ARMSTRONG",
           null
          ],
          [
           "VALENTINA",
           null
          ],
          [
           "JOHNSON",
           "AT HOME"
          ],
          [
           "TAYLOR",
           null
          ],
          [
           "DENNEY",
           null
          ],
          [
           "HIGGINS",
           null
          ],
          [
           "HEGSTEAD",
           null
          ],
          [
           "WEST",
           null
          ],
          [
           "MEEKS",
           null
          ],
          [
           "ROBERTS",
           null
          ],
          [
           "ANDERSEN",
           null
          ],
          [
           "RAYMOND",
           null
          ],
          [
           "GRAHAM",
           "AT HOME"
          ],
          [
           "CANNING",
           null
          ],
          [
           "WHITING",
           null
          ],
          [
           "HAMMILTON",
           null
          ],
          [
           "LAMAS",
           null
          ],
          [
           "BARTON",
           null
          ],
          [
           "JENSEN",
           null
          ],
          [
           "COLTZ",
           "AT SCHOOL"
          ],
          [
           "LUNBHOLDT",
           null
          ],
          [
           "NORMAN",
           null
          ],
          [
           "CHILD",
           null
          ],
          [
           "KENNER",
           "AT HOME"
          ],
          [
           "MILLS",
           null
          ],
          [
           "KNIGHT",
           null
          ],
          [
           "COOK",
           null
          ],
          [
           "BOWEN",
           null
          ],
          [
           "RAMSAY",
           null
          ],
          [
           "MERRITT",
           null
          ],
          [
           "STODDARD",
           null
          ],
          [
           "BENNETT",
           null
          ],
          [
           "POWELL",
           null
          ],
          [
           "ANDERSON",
           null
          ],
          [
           "SMITH",
           null
          ],
          [
           "MANNING",
           null
          ],
          [
           "SITTURD",
           null
          ],
          [
           "MORGAN",
           null
          ],
          [
           "MCCOMBS",
           null
          ],
          [
           "CANDLAND",
           null
          ],
          [
           "COLE",
           null
          ],
          [
           "GLAZIER",
           null
          ],
          [
           "MCKENNA",
           null
          ],
          [
           "RASMUSSEN",
           null
          ],
          [
           "BECKSTROM",
           null
          ],
          [
           "HESKERS",
           null
          ],
          [
           "JORGENSEN",
           null
          ],
          [
           "DAVIS",
           null
          ],
          [
           "BROWN",
           null
          ],
          [
           "JEREMY",
           null
          ],
          [
           "CARTER",
           null
          ],
          [
           "DALTON",
           null
          ],
          [
           "BLEAK",
           null
          ],
          [
           "BOYD",
           "AT HOME"
          ],
          [
           "STEVENSON",
           null
          ],
          [
           "COFORD",
           null
          ],
          [
           "BUTTERS",
           null
          ],
          [
           "WILLIAMS",
           null
          ],
          [
           "BRIGHT",
           null
          ],
          [
           "JEPERSON",
           "AT HOME"
          ],
          [
           "RUTHERFORD",
           null
          ],
          [
           "BASE",
           null
          ],
          [
           "MUSER",
           null
          ],
          [
           "SMITH",
           null
          ],
          [
           "GRENEMANN",
           null
          ],
          [
           "ROBERTS",
           null
          ],
          [
           "HAGMAN",
           "AT HOME"
          ],
          [
           "COMWELL",
           null
          ],
          [
           "TOLMAN",
           null
          ],
          [
           "LISONBEE",
           null
          ],
          [
           "ZUFELL",
           null
          ],
          [
           "OWENS",
           null
          ],
          [
           "TAIT",
           null
          ],
          [
           "PATRICK",
           null
          ],
          [
           "WALKER",
           null
          ],
          [
           "PECK",
           "AT HOME"
          ],
          [
           "WILLSON",
           null
          ],
          [
           "CHRISTIANSEN",
           null
          ],
          [
           "CROFFS",
           null
          ],
          [
           "PRESTWICH",
           null
          ],
          [
           "HARPER",
           null
          ],
          [
           "BUSBY",
           null
          ],
          [
           "GOURLEY",
           null
          ],
          [
           "MERRILL",
           null
          ],
          [
           "HOBBS",
           null
          ],
          [
           "BOYACK",
           null
          ],
          [
           "GRIFFINS",
           null
          ],
          [
           "WOODRUFF",
           null
          ],
          [
           "ARROWSMITH",
           null
          ],
          [
           "RADMALL",
           null
          ],
          [
           "HOPKINS",
           null
          ],
          [
           "SABINE",
           null
          ],
          [
           "CLARK",
           null
          ],
          [
           "PARKER",
           null
          ],
          [
           "LAURITZ",
           null
          ],
          [
           "ADAMS",
           null
          ],
          [
           "CAZIER",
           null
          ],
          [
           "DALTON",
           null
          ],
          [
           "HOUSEHOLDER",
           null
          ],
          [
           "OBRAY",
           null
          ],
          [
           "MILLER",
           null
          ],
          [
           "GILCHRIST",
           null
          ],
          [
           "BREWER",
           null
          ],
          [
           "SMITH",
           null
          ],
          [
           "HENDRICKSON",
           null
          ],
          [
           "THACKERAY",
           null
          ],
          [
           "OCONNELL",
           null
          ],
          [
           "SORENSEN",
           null
          ],
          [
           "MECHAM",
           null
          ],
          [
           "VORHEES",
           "AT HOME"
          ],
          [
           "LARSEN",
           null
          ],
          [
           "ZOLLIG",
           null
          ],
          [
           "BURRISTON",
           null
          ],
          [
           "MEILSTREP",
           null
          ],
          [
           "HAUCK",
           null
          ],
          [
           "CRANDALL",
           null
          ],
          [
           "DUFFIN",
           null
          ],
          [
           "ROASE",
           null
          ],
          [
           "PLACE",
           null
          ],
          [
           "MYERS",
           null
          ],
          [
           "LIBYEBLAD",
           null
          ],
          [
           "JONES",
           "AT HOME"
          ],
          [
           "THOMPSON",
           null
          ],
          [
           "RILEY",
           null
          ],
          [
           "STEWART",
           null
          ],
          [
           "ESKELSON",
           null
          ],
          [
           "HANSEN",
           null
          ],
          [
           "ROBERTS",
           null
          ],
          [
           "RUDY",
           null
          ],
          [
           "BEEMIS",
           null
          ],
          [
           "BARNEY",
           null
          ],
          [
           "SCOVIL",
           null
          ],
          [
           "WHORLTON",
           null
          ],
          [
           "BRIMLEY",
           null
          ],
          [
           "LYMAN",
           null
          ],
          [
           "SORENSON",
           null
          ],
          [
           "NEAL",
           null
          ],
          [
           "BANKS",
           null
          ],
          [
           "SIM",
           null
          ],
          [
           "ANDERSEN",
           null
          ],
          [
           "SEEGMILLER",
           null
          ],
          [
           "RIEDER",
           null
          ],
          [
           "MCINTIRE",
           "AT HOME"
          ],
          [
           "WARD",
           "AT HOME"
          ],
          [
           "COTTRELL",
           null
          ],
          [
           "LEVIN",
           null
          ],
          [
           "BALDWIN",
           null
          ],
          [
           "MANNING",
           null
          ],
          [
           "THURBER",
           null
          ],
          [
           "IRVINE",
           null
          ],
          [
           "MCMULLEN",
           null
          ],
          [
           "MCBRIDE",
           null
          ],
          [
           "STODDART",
           null
          ],
          [
           "RUESCH",
           null
          ],
          [
           "BROMBERG",
           null
          ],
          [
           "WELLS",
           null
          ],
          [
           "WRIGHT",
           null
          ],
          [
           "ROBISON",
           null
          ],
          [
           "BURGESS",
           null
          ],
          [
           "THOMPSON",
           null
          ],
          [
           "HASKELL",
           null
          ],
          [
           "SIMS",
           null
          ],
          [
           "STEWARD",
           null
          ],
          [
           "PHELPS",
           null
          ],
          [
           "PACE",
           null
          ],
          [
           "HENSON",
           null
          ],
          [
           "PRATT",
           null
          ],
          [
           "DECKER",
           null
          ],
          [
           "HILL",
           null
          ],
          [
           "JENSEN",
           null
          ],
          [
           "JUDSON",
           null
          ],
          [
           "FOTT",
           null
          ],
          [
           "RAWSON",
           null
          ],
          [
           "STERRETT",
           null
          ],
          [
           "GALLAHER",
           null
          ],
          [
           "ALLEN",
           null
          ],
          [
           "OLSEN",
           null
          ],
          [
           "ARMSTRONG",
           null
          ],
          [
           "DRAPER",
           null
          ],
          [
           "MONTGOMERY",
           null
          ],
          [
           "BULLOCK",
           null
          ],
          [
           "MINNOCK",
           null
          ],
          [
           "SAVILLE",
           null
          ],
          [
           "BROADBENT",
           null
          ],
          [
           "GREEN",
           null
          ],
          [
           "HARRISON",
           null
          ],
          [
           "FOLKMAN",
           null
          ],
          [
           "PLANT",
           null
          ],
          [
           "JOHNSEN",
           null
          ],
          [
           "PAINTER",
           null
          ],
          [
           "MILES",
           null
          ],
          [
           "MONSLEY",
           null
          ],
          [
           "JACOBS",
           null
          ],
          [
           "DURHAM",
           null
          ],
          [
           "DEAKIN",
           null
          ],
          [
           "BRONSON",
           null
          ],
          [
           "HANSON",
           null
          ],
          [
           "OHWILER",
           null
          ],
          [
           "ELDREDGE",
           null
          ],
          [
           "SMITH",
           null
          ],
          [
           "HATCH",
           null
          ],
          [
           "SMITH",
           null
          ],
          [
           "TALBOT",
           null
          ],
          [
           "REED",
           null
          ],
          [
           "YOUNG",
           null
          ],
          [
           "HANSEN",
           null
          ],
          [
           "NYE",
           null
          ],
          [
           "POULTER",
           "AT HOME"
          ],
          [
           "ROSE",
           null
          ],
          [
           "GERMAN",
           null
          ],
          [
           "PENDLETON",
           null
          ],
          [
           "HORSLEY",
           null
          ],
          [
           "DEE",
           null
          ],
          [
           "HAMILTON",
           null
          ],
          [
           "JOHNSON",
           null
          ],
          [
           "BRINGHURST",
           null
          ],
          [
           "THOMPSON",
           null
          ],
          [
           "JACKSON",
           null
          ],
          [
           "RAWLINGS",
           "AT HOME"
          ],
          [
           "SMART",
           null
          ],
          [
           "STEVENS",
           null
          ],
          [
           "SNYDER",
           null
          ],
          [
           "PAGE",
           null
          ],
          [
           "BRANTZEG",
           null
          ],
          [
           "CHRISTIANSEN",
           null
          ],
          [
           "TALBOT",
           null
          ],
          [
           "BUCKLAND",
           null
          ],
          [
           "KUTEN",
           null
          ],
          [
           "MITTON",
           null
          ],
          [
           "ORISON",
           null
          ],
          [
           "WARDLE",
           null
          ],
          [
           "KEARNS",
           null
          ],
          [
           "MEIKLE",
           null
          ],
          [
           "BOLEY",
           null
          ],
          [
           "CHRISTENSON",
           null
          ],
          [
           "MCCLANE",
           null
          ],
          [
           "PETERSON",
           null
          ],
          [
           "ANDERSON",
           null
          ],
          [
           "BERRETT",
           null
          ],
          [
           "CROCKETT",
           null
          ],
          [
           "PRINCE",
           null
          ],
          [
           "SORENSEN",
           null
          ],
          [
           "FARNSWORTH",
           null
          ],
          [
           "ATWOOD",
           null
          ],
          [
           "BROADHEAD",
           null
          ],
          [
           "WEBSTER",
           null
          ],
          [
           "WINGAR",
           null
          ],
          [
           "LIVINGSTON",
           null
          ],
          [
           "LANTENSACK",
           null
          ],
          [
           "PETERSON",
           "AT HOME"
          ],
          [
           "ANDREWS",
           null
          ],
          [
           "HOLMES",
           null
          ],
          [
           "JACKSON",
           null
          ],
          [
           "DICKSON",
           null
          ],
          [
           "CHRISTIANSON",
           "AT HOME"
          ],
          [
           "LINDLEY",
           null
          ],
          [
           "STEWART",
           null
          ],
          [
           "HATHAWAY",
           null
          ],
          [
           "CALTON",
           null
          ],
          [
           "FOSLER",
           null
          ],
          [
           "GONDER",
           null
          ],
          [
           "BUTLER",
           null
          ],
          [
           "SIMKINS",
           null
          ],
          [
           "BARRETT",
           null
          ],
          [
           "ARCHIBALD",
           null
          ],
          [
           "KIRKWOOD",
           null
          ],
          [
           "LOVEGREN",
           null
          ],
          [
           "BECK",
           null
          ],
          [
           "JAYNE",
           "AT HOME"
          ],
          [
           "JENKINS",
           null
          ],
          [
           "SKEEN",
           null
          ],
          [
           "ALLEN",
           null
          ],
          [
           "PULLUM",
           null
          ],
          [
           "EDWARDS",
           null
          ]
         ],
         "hovertemplate": "<b>%{hovertext}</b><br><br>sex=f<br>age=%{marker.size}<br>birthmonth=%{y}<br>lastname=%{customdata[0]}<br>occupation=%{customdata[1]}<extra></extra>",
         "hovertext": [
          "MARY",
          "MINNIE",
          "LUCY",
          "MARY",
          "MARY",
          "SARAH",
          "ORA",
          "MAGGIE",
          "MARIA",
          "ELIZABETH",
          "DELLA",
          "SARAH",
          "AMBER",
          "ETTIE",
          "LENORA",
          "CLARA",
          "LILLIAN",
          "M",
          "POLLY",
          "CLARA",
          "ARTEMISSA",
          "MARGARET",
          "LIZETTA",
          "SILLIA",
          "ROSELLA",
          "CLARA",
          "CHASTY",
          "CHARLOTTE",
          "KATTIE",
          "LAURA",
          "IDA",
          "OLIVE",
          "IVA",
          "LEVINIA",
          "EMILY",
          "AMANDA",
          "JOSEPHINE",
          "MARY",
          "ELIZABETH",
          "SARAH",
          "ELLEN",
          "MAUD",
          "ALVINA",
          "RODA",
          "PERL",
          "OTELIA",
          "LILLIE",
          "ANNA",
          "MINNIE",
          "MARY",
          "CHARLOTTE",
          "ROSALIND",
          "LILLIAN",
          "SILVA",
          "MARY",
          "EUNICE",
          "CAROLINE",
          "SINAI",
          "GUY",
          "CORNELINA",
          "MARGARET",
          "MARY",
          "MARTINA",
          "NELLIE",
          "CENIA",
          "AMANDA",
          "ELIZA",
          "MARY",
          "BERTHA",
          "EMMA",
          "HELEN",
          "BABY",
          "MARTHA",
          "MARY",
          "AGNES",
          "CARRIE",
          "EMMIE",
          "DELLIE",
          "EVA",
          "FRANCES",
          "BIRDIE",
          "JOANNA",
          "ELLEN",
          "DAISIE",
          "PHEBE",
          "ROXY",
          "CLARA",
          "A",
          "MAY",
          "LAURA",
          "ESTHER",
          "ESTHER",
          "EFFIE",
          "NORA",
          "GENEVA",
          "MARY",
          "MARGARET",
          "ELLA",
          "MARINTA",
          "BABY",
          "LUNEY",
          "ALICE",
          "CLAUD",
          "MARY",
          "EMILY",
          "MARY",
          "MARY",
          "ELIZABETH",
          "ALBERTA",
          "MARY",
          "FRANCIS",
          "ETTIE",
          "ANNIE",
          "EDWINETTE",
          "LINA",
          "MARY",
          "IDA",
          "FERN",
          "IDA",
          "ALICE",
          "P",
          "LILIAN",
          "RUTH",
          "ERAMAH",
          "SARAH",
          "LIVENA",
          "CERENI",
          "LAURY",
          "MARY",
          "EVELINE",
          "PRUDENCE",
          "MARY",
          "RHODA",
          "ELIZABETH",
          "IVY",
          "AMY",
          "SUSAN",
          "ZINA",
          "SARAH",
          "ELIZABETH",
          "EMMA",
          "D",
          "EDITH",
          "ROXA",
          "NANCY",
          "EMMA",
          "LAURA",
          "ALTA",
          "ORANDA",
          "AMY",
          "REBECKAH",
          "MARY",
          "SARAH",
          "LUCY",
          "FLORENCE",
          "SARAH",
          "BETSY",
          "MARY",
          "KATE",
          "FANNIE",
          "DESSIE",
          "BERTIE",
          "JEANNETTE",
          "NOT NAMED",
          "NELLY",
          "MARY",
          "MARION",
          "JULIA",
          "MINERVA",
          "BERTHA",
          "CLARA",
          "FRANCIS",
          "MIRIAM",
          "EMMA",
          "WELTHA",
          "SARAH",
          "SICILIA",
          "PATTY",
          "AMY",
          "POLLY",
          "ELIZA",
          "FLORENCE",
          "MARGARETTE",
          "E",
          "CHLOE",
          "ISABELL",
          "HATTIE",
          "ELIZABETH",
          "ANN",
          "MARY",
          null,
          "IMMULIA",
          "ALICE",
          "LUHA",
          "ELIZABETH",
          "ELIZABETH",
          "CRISTINE",
          "ADA",
          "PERMELIA",
          "AGNES",
          "MARY",
          "CATHERINE",
          "JENNETTE",
          "SARAH",
          "EVEA",
          "MARY",
          "ELLEN",
          "YELLNORAH",
          "AMELIA",
          "CAMMILLE",
          "CLARRASSA",
          "ELIZA",
          "ELIZABETH",
          "MARY",
          "KATEY",
          "VENICE",
          "ALICE",
          "LAURELLA",
          "JESSIE",
          "SARAH",
          "AMELIA",
          "ZORA",
          "ELSIE",
          "MARGRET",
          "NORAH",
          "CORA",
          "MAUD",
          "MARTHA",
          "MARY",
          "MARY",
          "ALIDIA",
          "JANE",
          "L",
          "CATHERINE",
          "ELLEN",
          "SELINA",
          "EMMA",
          "ELIZABETH",
          "ANNIE",
          "JESSIE",
          "NONAME",
          "MARGARET",
          "THODOCIA",
          "SARAH",
          "LETTIE",
          "ELIZABETH",
          "MARY",
          "ELODIA",
          "ELSIE",
          "EILEEN",
          "CAROLINE",
          "MARY",
          "IDA",
          "HOPE",
          "ELIZABETH",
          "LILY",
          "MARY",
          "ELNORA",
          "JOSEPHINE",
          "KERSHIM",
          "MINNIE",
          "MAY",
          "JOSEPHINE",
          "STELLA",
          "MARY",
          "SARAH",
          "ARTEMISIA",
          "ALICE",
          "MARY",
          "HANNAH",
          "MARY",
          "FLORENCE",
          "E",
          "LAURA",
          "ROSE",
          "LAURA",
          "MINNIE",
          "HETTIE",
          "ROSINA",
          "BERTHA",
          "EMILE",
          "FOROSINA",
          "MALINDA",
          "LYDIA",
          "HENRIETTA",
          "SARAH",
          "MARYANN",
          "ELIZA",
          "MAUD",
          "CHARLOTTE",
          "ELLA",
          "NENA",
          "ROSANNA",
          "ELIA",
          "ELLEN",
          "NORMA",
          "POLLY",
          "ELEMEDA",
          "KATE",
          "MARGARET",
          "SUSAN",
          "PHOEBE",
          "AGNES",
          "ANNIE",
          "MAUD",
          "INFANT",
          "INFANT",
          "FANNIE",
          "LIZETTE",
          "MARTHA",
          "BIRD",
          "ISABELLA",
          "NELLIE",
          "ELIZABETH",
          "ELIZABETH",
          "FLORENCE",
          "EMMA",
          "JESSIE",
          "AGNES",
          "ADALINE",
          "GERTRUDE",
          "MARIA",
          "SARAH",
          "ELOUISE",
          "BABY",
          "JOSEPHINE",
          "CLARA",
          "ELISABETH",
          "MARGARET",
          "ELSEY",
          "GEORGINE",
          "HANNAH",
          "JANEY",
          "B",
          "JANE",
          "SARAH",
          "ELLEN",
          "LUCY",
          "NELLIE",
          "BERTHA",
          "ELLEN",
          "ANNIE",
          "ANN",
          "ELLA",
          "MERTA",
          "ALACE",
          "BABY",
          "HADORA",
          "EDITH",
          "CAROLINE",
          "EDNA",
          "ESTHER",
          "HANNAH",
          "MARIA",
          "LIZZIE",
          "HARRIET",
          "I",
          "AGNES",
          "GERTIE",
          "ANNIE",
          "MARTHA",
          "HARRIET",
          "ORA",
          "MAGGIE",
          "ELIZA",
          "MARY",
          "SARAH",
          "MARY",
          "ANNIE",
          "SARAH",
          "ELIZABETH",
          "EFFIE",
          "FANNIE",
          "JENNIE",
          "LYDIA",
          "ELIZABETH",
          "KATE",
          "SYLVIA",
          "DELIETHY",
          "S",
          "HERMIA",
          "LENA",
          "ETHEL",
          "MARTHA",
          "HILDA",
          "BERTINA",
          "LETTICIA",
          "LAURA",
          "CHRISTINA",
          "PRICILLA",
          "A",
          "ANN",
          "NELLIE",
          "MARGARETT",
          "ANNE",
          "SOPHIA",
          "ELLIE",
          "MAUD",
          "RHODA",
          "URSULIA",
          "LOUISA",
          "CLARA",
          "CARRIE",
          "HATTIE",
          "SARAH",
          "C",
          "MARY",
          "A",
          "D",
          "CYNTHIA",
          "MARGARET",
          "FRANCES",
          "LEONA",
          "HARRIET",
          "JULIETTE",
          "CORDELINE",
          "SARAH",
          "ELIZABETH",
          "JASMAN",
          "ANNIE",
          "LUCINDA",
          "ESTHER",
          "M",
          "MARGARETTE",
          "L",
          "AGNES",
          "MAY",
          "PAULINA",
          "ROZILLA",
          "JULIA",
          "FLORENCE",
          "ELIZA",
          "EDNA",
          "JANE",
          "MIRA",
          "NELLIE",
          "CORA",
          "ANNE",
          "LAURA",
          "MARY",
          "IRENE",
          "ALICE",
          "ANN",
          "MILLA",
          "EDA",
          "FREDA",
          "HARRIET",
          "NANCY",
          "MARY",
          "ISABEL",
          "TRENE",
          "ROSETTE",
          "BESSIE",
          "RUTH",
          "SARAH",
          "SARAH",
          "IDA",
          "ROSALIND",
          "SUSAN",
          "INFANT",
          "ELIZA",
          "ALICE",
          "EMMA",
          "CATHERINA",
          "LENORA",
          "ALICE",
          "ETHEL",
          "MARY",
          "M",
          "ALICE",
          "MILLA",
          "SARAH",
          "MARY",
          "FLORENCE",
          "MARY",
          "INFANT",
          "KATIE",
          "LAURA",
          "ROBINA",
          "ZELLA",
          "TORE",
          "MARY",
          "THEODORA",
          "SARAH",
          "MAUD",
          "LAVINA",
          "DORTHA",
          "LOUISA"
         ],
         "legendgroup": "f",
         "marker": {
          "color": "#EF553B",
          "opacity": 0.7,
          "size": [
           0.667,
           0.583,
           0.167,
           0.25,
           0.333,
           0.917,
           0.917,
           0.167,
           0.833,
           0.583,
           0.917,
           0.167,
           0.333,
           0.583,
           0.917,
           0.5,
           0.917,
           0.333,
           0.25,
           0.667,
           0.083,
           0.036,
           0.167,
           0.083,
           0.833,
           0.167,
           0.167,
           0.25,
           0.833,
           0.333,
           0.667,
           0.75,
           0.167,
           0.667,
           0.75,
           0.5,
           0.5,
           0.333,
           0.25,
           0.5,
           0.25,
           0.083,
           0.167,
           0.667,
           0.417,
           0.667,
           0.25,
           0.667,
           0.5,
           0.333,
           0.583,
           0.417,
           0.083,
           0.833,
           0.583,
           0.833,
           0.167,
           0.333,
           0.333,
           0.417,
           0.167,
           0.333,
           0.417,
           0.5,
           0.917,
           0.167,
           0.75,
           0.083,
           0.5,
           0.5,
           0.583,
           0.167,
           0.667,
           0,
           0.417,
           0.083,
           0.333,
           0.25,
           0.25,
           0.667,
           0.083,
           0.25,
           0.333,
           0.667,
           0.25,
           0.75,
           0.417,
           0.75,
           0.25,
           0.417,
           0.583,
           0.667,
           0.25,
           0.5,
           0.833,
           0.417,
           0.167,
           0.417,
           0.5,
           0.083,
           0.917,
           0.333,
           0.333,
           0.083,
           0.75,
           0.333,
           0.083,
           0.917,
           0.75,
           0.167,
           0.5,
           0.083,
           0.583,
           0.333,
           0.583,
           0.333,
           0.066,
           0.083,
           0.5,
           0.5,
           0.75,
           0.917,
           0.75,
           0.167,
           0.75,
           0.75,
           0.417,
           0.417,
           0.417,
           0.917,
           0.167,
           0.583,
           0.417,
           0.25,
           0.25,
           0.583,
           0.25,
           0.667,
           0.5,
           0.25,
           0.75,
           0.083,
           0.25,
           0.583,
           0.917,
           0.167,
           0.583,
           0.667,
           0.583,
           0.333,
           0.083,
           0.083,
           0.75,
           0.667,
           0.333,
           0.333,
           0.833,
           0.333,
           0.583,
           0.5,
           0.25,
           0.583,
           0.833,
           0.083,
           0.333,
           0.333,
           0.25,
           0.167,
           0.083,
           0.083,
           0.167,
           0.25,
           0.583,
           0.667,
           0.917,
           0.583,
           0.333,
           0.833,
           0.5,
           0.75,
           0.917,
           0.417,
           0.583,
           0.063,
           0.25,
           0.333,
           0.333,
           0.417,
           0.333,
           0.917,
           0.333,
           0.833,
           0.5,
           0.75,
           0.5,
           0.333,
           0.417,
           0.833,
           0.333,
           0.083,
           0.75,
           0.917,
           0.667,
           0.5,
           0.583,
           0.583,
           0.333,
           0.75,
           0.417,
           0.667,
           0.917,
           0.75,
           0.167,
           0.75,
           1,
           0.417,
           0.083,
           0.25,
           0.25,
           0.25,
           0.083,
           0.25,
           0.167,
           0.333,
           0.583,
           0.333,
           0.583,
           0.917,
           0.167,
           0.833,
           0.5,
           0.917,
           0.583,
           0.083,
           0.583,
           0.583,
           0.25,
           0.833,
           0.833,
           0.5,
           0.083,
           0.417,
           0.667,
           0.75,
           0.583,
           0.083,
           0.333,
           0.167,
           0.25,
           0.583,
           0.917,
           0.417,
           0.667,
           0.333,
           0.083,
           0.833,
           0.333,
           0.583,
           0.038,
           0.333,
           0.083,
           0.083,
           0.083,
           0.833,
           0.417,
           0.667,
           0.833,
           0.417,
           0.5,
           0.417,
           0.833,
           0.417,
           0.25,
           0.583,
           0.667,
           0.833,
           0.667,
           0.167,
           0.583,
           0.333,
           0.083,
           0.833,
           0.75,
           0.5,
           0.333,
           0.833,
           0.333,
           0.75,
           0.167,
           0.5,
           0.167,
           0.75,
           0.25,
           0.333,
           0.417,
           0.583,
           0.167,
           0.417,
           0.25,
           0.583,
           0.833,
           0.667,
           0.417,
           0.417,
           0.667,
           0.167,
           0.25,
           0.25,
           0.083,
           0.5,
           0.333,
           0.083,
           0.5,
           0.083,
           0.75,
           0.25,
           0.083,
           0.167,
           0.5,
           0.5,
           0.5,
           0.583,
           0.5,
           0.083,
           0.083,
           0.833,
           0.25,
           0.917,
           0.5,
           0.583,
           0.167,
           0.5,
           0.75,
           0.333,
           0.417,
           0.25,
           0.5,
           0.5,
           0.03,
           0.333,
           0.417,
           0.583,
           0.917,
           0.25,
           0.583,
           0.583,
           0.25,
           0.417,
           0.75,
           0.75,
           0.917,
           0.417,
           0.667,
           0.333,
           0.833,
           0.25,
           0.333,
           0.167,
           0.083,
           0.25,
           0.833,
           0.75,
           0.25,
           0.917,
           0.25,
           0.083,
           0.583,
           0.667,
           0.5,
           0.75,
           0.75,
           0.583,
           0.417,
           0.5,
           0.5,
           0.333,
           0.667,
           0.5,
           0.5,
           0.75,
           0.75,
           0.417,
           0.75,
           0.833,
           0.083,
           0.667,
           0.583,
           0.25,
           0.583,
           0.417,
           0.417,
           0.333,
           0.917,
           0.583,
           0.083,
           0.5,
           0.583,
           0.417,
           0.75,
           0.917,
           0.333,
           0.417,
           0.333,
           0.583,
           0.667,
           0.667,
           0.667,
           0.083,
           0.5,
           0.833,
           0.917,
           1.667,
           0.083,
           0.583,
           0.167,
           0.5,
           0.25,
           0.167,
           0.167,
           0.833,
           0.917,
           0.333,
           0.833,
           0.333,
           0.5,
           0.667,
           0.583,
           0.167,
           0.083,
           0.75,
           0.25,
           0.25,
           0.167,
           0.917,
           0.25,
           0.083,
           0.583,
           0.333,
           0.333,
           0.083,
           0.083,
           0.083,
           0.667,
           0.5,
           0.917,
           0.25,
           0.917,
           0.167,
           0.667,
           0.083,
           0.667,
           0.333,
           0.583,
           0.333,
           0.667,
           0.917,
           0.083,
           0.5,
           0.5,
           0.917,
           0.583,
           0.25,
           0.5,
           0.75,
           0.25,
           0.667,
           0.25,
           0.333,
           0.417,
           0.25,
           0.667,
           0.583,
           0.083,
           0.5,
           0.333,
           0.167,
           0.167,
           0.667,
           0.583,
           0.833,
           0.083,
           0.167,
           0.75,
           0.25,
           0.333,
           0.917,
           0.75,
           0.25
          ],
          "sizemode": "area",
          "sizeref": 0.0054175,
          "symbol": "circle"
         },
         "mode": "markers",
         "name": "f",
         "orientation": "v",
         "showlegend": true,
         "type": "scatter",
         "x": [
          0.667,
          0.583,
          0.167,
          0.25,
          0.333,
          0.917,
          0.917,
          0.167,
          0.833,
          0.583,
          0.917,
          0.167,
          0.333,
          0.583,
          0.917,
          0.5,
          0.917,
          0.333,
          0.25,
          0.667,
          0.083,
          0.036,
          0.167,
          0.083,
          0.833,
          0.167,
          0.167,
          0.25,
          0.833,
          0.333,
          0.667,
          0.75,
          0.167,
          0.667,
          0.75,
          0.5,
          0.5,
          0.333,
          0.25,
          0.5,
          0.25,
          0.083,
          0.167,
          0.667,
          0.417,
          0.667,
          0.25,
          0.667,
          0.5,
          0.333,
          0.583,
          0.417,
          0.083,
          0.833,
          0.583,
          0.833,
          0.167,
          0.333,
          0.333,
          0.417,
          0.167,
          0.333,
          0.417,
          0.5,
          0.917,
          0.167,
          0.75,
          0.083,
          0.5,
          0.5,
          0.583,
          0.167,
          0.667,
          0,
          0.417,
          0.083,
          0.333,
          0.25,
          0.25,
          0.667,
          0.083,
          0.25,
          0.333,
          0.667,
          0.25,
          0.75,
          0.417,
          0.75,
          0.25,
          0.417,
          0.583,
          0.667,
          0.25,
          0.5,
          0.833,
          0.417,
          0.167,
          0.417,
          0.5,
          0.083,
          0.917,
          0.333,
          0.333,
          0.083,
          0.75,
          0.333,
          0.083,
          0.917,
          0.75,
          0.167,
          0.5,
          0.083,
          0.583,
          0.333,
          0.583,
          0.333,
          0.066,
          0.083,
          0.5,
          0.5,
          0.75,
          0.917,
          0.75,
          0.167,
          0.75,
          0.75,
          0.417,
          0.417,
          0.417,
          0.917,
          0.167,
          0.583,
          0.417,
          0.25,
          0.25,
          0.583,
          0.25,
          0.667,
          0.5,
          0.25,
          0.75,
          0.083,
          0.25,
          0.583,
          0.917,
          0.167,
          0.583,
          0.667,
          0.583,
          0.333,
          0.083,
          0.083,
          0.75,
          0.667,
          0.333,
          0.333,
          0.833,
          0.333,
          0.583,
          0.5,
          0.25,
          0.583,
          0.833,
          0.083,
          0.333,
          0.333,
          0.25,
          0.167,
          0.083,
          0.083,
          0.167,
          0.25,
          0.583,
          0.667,
          0.917,
          0.583,
          0.333,
          0.833,
          0.5,
          0.75,
          0.917,
          0.417,
          0.583,
          0.063,
          0.25,
          0.333,
          0.333,
          0.417,
          0.333,
          0.917,
          0.333,
          0.833,
          0.5,
          0.75,
          0.5,
          0.333,
          0.417,
          0.833,
          0.333,
          0.083,
          0.75,
          0.917,
          0.667,
          0.5,
          0.583,
          0.583,
          0.333,
          0.75,
          0.417,
          0.667,
          0.917,
          0.75,
          0.167,
          0.75,
          1,
          0.417,
          0.083,
          0.25,
          0.25,
          0.25,
          0.083,
          0.25,
          0.167,
          0.333,
          0.583,
          0.333,
          0.583,
          0.917,
          0.167,
          0.833,
          0.5,
          0.917,
          0.583,
          0.083,
          0.583,
          0.583,
          0.25,
          0.833,
          0.833,
          0.5,
          0.083,
          0.417,
          0.667,
          0.75,
          0.583,
          0.083,
          0.333,
          0.167,
          0.25,
          0.583,
          0.917,
          0.417,
          0.667,
          0.333,
          0.083,
          0.833,
          0.333,
          0.583,
          0.038,
          0.333,
          0.083,
          0.083,
          0.083,
          0.833,
          0.417,
          0.667,
          0.833,
          0.417,
          0.5,
          0.417,
          0.833,
          0.417,
          0.25,
          0.583,
          0.667,
          0.833,
          0.667,
          0.167,
          0.583,
          0.333,
          0.083,
          0.833,
          0.75,
          0.5,
          0.333,
          0.833,
          0.333,
          0.75,
          0.167,
          0.5,
          0.167,
          0.75,
          0.25,
          0.333,
          0.417,
          0.583,
          0.167,
          0.417,
          0.25,
          0.583,
          0.833,
          0.667,
          0.417,
          0.417,
          0.667,
          0.167,
          0.25,
          0.25,
          0.083,
          0.5,
          0.333,
          0.083,
          0.5,
          0.083,
          0.75,
          0.25,
          0.083,
          0.167,
          0.5,
          0.5,
          0.5,
          0.583,
          0.5,
          0.083,
          0.083,
          0.833,
          0.25,
          0.917,
          0.5,
          0.583,
          0.167,
          0.5,
          0.75,
          0.333,
          0.417,
          0.25,
          0.5,
          0.5,
          0.03,
          0.333,
          0.417,
          0.583,
          0.917,
          0.25,
          0.583,
          0.583,
          0.25,
          0.417,
          0.75,
          0.75,
          0.917,
          0.417,
          0.667,
          0.333,
          0.833,
          0.25,
          0.333,
          0.167,
          0.083,
          0.25,
          0.833,
          0.75,
          0.25,
          0.917,
          0.25,
          0.083,
          0.583,
          0.667,
          0.5,
          0.75,
          0.75,
          0.583,
          0.417,
          0.5,
          0.5,
          0.333,
          0.667,
          0.5,
          0.5,
          0.75,
          0.75,
          0.417,
          0.75,
          0.833,
          0.083,
          0.667,
          0.583,
          0.25,
          0.583,
          0.417,
          0.417,
          0.333,
          0.917,
          0.583,
          0.083,
          0.5,
          0.583,
          0.417,
          0.75,
          0.917,
          0.333,
          0.417,
          0.333,
          0.583,
          0.667,
          0.667,
          0.667,
          0.083,
          0.5,
          0.833,
          0.917,
          1.667,
          0.083,
          0.583,
          0.167,
          0.5,
          0.25,
          0.167,
          0.167,
          0.833,
          0.917,
          0.333,
          0.833,
          0.333,
          0.5,
          0.667,
          0.583,
          0.167,
          0.083,
          0.75,
          0.25,
          0.25,
          0.167,
          0.917,
          0.25,
          0.083,
          0.583,
          0.333,
          0.333,
          0.083,
          0.083,
          0.083,
          0.667,
          0.5,
          0.917,
          0.25,
          0.917,
          0.167,
          0.667,
          0.083,
          0.667,
          0.333,
          0.583,
          0.333,
          0.667,
          0.917,
          0.083,
          0.5,
          0.5,
          0.917,
          0.583,
          0.25,
          0.5,
          0.75,
          0.25,
          0.667,
          0.25,
          0.333,
          0.417,
          0.25,
          0.667,
          0.583,
          0.083,
          0.5,
          0.333,
          0.167,
          0.167,
          0.667,
          0.583,
          0.833,
          0.083,
          0.167,
          0.75,
          0.25,
          0.333,
          0.917,
          0.75,
          0.25
         ],
         "xaxis": "x",
         "y": [
          9,
          10,
          3,
          3,
          2,
          7,
          7,
          3,
          7,
          12,
          6,
          3,
          1,
          10,
          7,
          12,
          6,
          1,
          2,
          10,
          4,
          5,
          4,
          5,
          8,
          4,
          3,
          3,
          4,
          1,
          9,
          8,
          3,
          10,
          8,
          1,
          11,
          2,
          2,
          12,
          3,
          4,
          4,
          10,
          1,
          10,
          3,
          10,
          12,
          1,
          10,
          12,
          5,
          7,
          11,
          8,
          3,
          2,
          1,
          1,
          3,
          1,
          1,
          11,
          7,
          11,
          8,
          5,
          11,
          11,
          10,
          3,
          9,
          6,
          10,
          5,
          2,
          3,
          2,
          10,
          5,
          2,
          10,
          10,
          2,
          8,
          12,
          8,
          3,
          1,
          10,
          8,
          2,
          11,
          8,
          1,
          4,
          12,
          12,
          5,
          6,
          2,
          11,
          5,
          8,
          1,
          5,
          7,
          9,
          4,
          1,
          4,
          11,
          1,
          11,
          1,
          5,
          5,
          1,
          12,
          9,
          7,
          4,
          8,
          8,
          9,
          1,
          12,
          1,
          7,
          3,
          11,
          1,
          3,
          2,
          11,
          2,
          10,
          11,
          2,
          9,
          5,
          2,
          11,
          7,
          5,
          10,
          10,
          10,
          2,
          5,
          5,
          10,
          9,
          2,
          1,
          8,
          2,
          5,
          12,
          2,
          11,
          7,
          5,
          2,
          2,
          2,
          3,
          4,
          4,
          3,
          2,
          10,
          10,
          6,
          9,
          4,
          7,
          12,
          8,
          7,
          1,
          11,
          5,
          3,
          2,
          2,
          1,
          2,
          6,
          5,
          8,
          11,
          8,
          12,
          1,
          1,
          8,
          4,
          5,
          8,
          6,
          9,
          12,
          10,
          10,
          6,
          8,
          1,
          10,
          7,
          8,
          4,
          4,
          5,
          1,
          5,
          2,
          2,
          2,
          5,
          3,
          5,
          10,
          11,
          2,
          10,
          6,
          4,
          8,
          10,
          6,
          11,
          1,
          10,
          11,
          2,
          7,
          7,
          12,
          5,
          12,
          9,
          8,
          1,
          5,
          2,
          3,
          3,
          10,
          7,
          12,
          1,
          1,
          5,
          7,
          2,
          11,
          5,
          6,
          4,
          5,
          4,
          7,
          1,
          9,
          8,
          12,
          12,
          12,
          7,
          12,
          2,
          11,
          10,
          8,
          10,
          3,
          11,
          1,
          4,
          8,
          9,
          11,
          1,
          7,
          1,
          9,
          4,
          12,
          4,
          10,
          2,
          1,
          12,
          10,
          3,
          1,
          3,
          10,
          8,
          9,
          1,
          1,
          9,
          4,
          3,
          3,
          5,
          11,
          2,
          4,
          12,
          5,
          9,
          3,
          4,
          3,
          11,
          11,
          12,
          10,
          12,
          4,
          5,
          8,
          2,
          6,
          12,
          11,
          4,
          12,
          10,
          2,
          1,
          3,
          11,
          11,
          5,
          1,
          12,
          2,
          5,
          3,
          10,
          11,
          2,
          1,
          8,
          8,
          11,
          12,
          10,
          1,
          8,
          3,
          2,
          3,
          5,
          2,
          8,
          9,
          3,
          7,
          3,
          5,
          11,
          9,
          12,
          8,
          8,
          10,
          12,
          1,
          11,
          2,
          9,
          1,
          12,
          2,
          7,
          1,
          8,
          7,
          5,
          10,
          10,
          3,
          11,
          12,
          12,
          2,
          7,
          11,
          5,
          12,
          10,
          1,
          5,
          7,
          1,
          12,
          2,
          11,
          10,
          10,
          10,
          6,
          11,
          7,
          6,
          5,
          4,
          10,
          3,
          12,
          3,
          4,
          4,
          8,
          7,
          2,
          8,
          2,
          12,
          10,
          11,
          4,
          5,
          9,
          3,
          3,
          4,
          6,
          2,
          5,
          11,
          1,
          2,
          12,
          5,
          5,
          10,
          11,
          7,
          3,
          6,
          4,
          9,
          4,
          9,
          1,
          10,
          11,
          3,
          7,
          4,
          11,
          11,
          5,
          11,
          2,
          12,
          9,
          2,
          9,
          3,
          1,
          12,
          3,
          9,
          9,
          5,
          12,
          2,
          4,
          3,
          9,
          2,
          8,
          4,
          3,
          9,
          3,
          1,
          7,
          4,
          2
         ],
         "yaxis": "y"
        }
       ],
       "layout": {
        "legend": {
         "itemsizing": "constant",
         "title": {
          "text": "sex"
         },
         "tracegroupgap": 0
        },
        "template": {
         "data": {
          "bar": [
           {
            "error_x": {
             "color": "#2a3f5f"
            },
            "error_y": {
             "color": "#2a3f5f"
            },
            "marker": {
             "line": {
              "color": "#E5ECF6",
              "width": 0.5
             },
             "pattern": {
              "fillmode": "overlay",
              "size": 10,
              "solidity": 0.2
             }
            },
            "type": "bar"
           }
          ],
          "barpolar": [
           {
            "marker": {
             "line": {
              "color": "#E5ECF6",
              "width": 0.5
             },
             "pattern": {
              "fillmode": "overlay",
              "size": 10,
              "solidity": 0.2
             }
            },
            "type": "barpolar"
           }
          ],
          "carpet": [
           {
            "aaxis": {
             "endlinecolor": "#2a3f5f",
             "gridcolor": "white",
             "linecolor": "white",
             "minorgridcolor": "white",
             "startlinecolor": "#2a3f5f"
            },
            "baxis": {
             "endlinecolor": "#2a3f5f",
             "gridcolor": "white",
             "linecolor": "white",
             "minorgridcolor": "white",
             "startlinecolor": "#2a3f5f"
            },
            "type": "carpet"
           }
          ],
          "choropleth": [
           {
            "colorbar": {
             "outlinewidth": 0,
             "ticks": ""
            },
            "type": "choropleth"
           }
          ],
          "contour": [
           {
            "colorbar": {
             "outlinewidth": 0,
             "ticks": ""
            },
            "colorscale": [
             [
              0,
              "#0d0887"
             ],
             [
              0.1111111111111111,
              "#46039f"
             ],
             [
              0.2222222222222222,
              "#7201a8"
             ],
             [
              0.3333333333333333,
              "#9c179e"
             ],
             [
              0.4444444444444444,
              "#bd3786"
             ],
             [
              0.5555555555555556,
              "#d8576b"
             ],
             [
              0.6666666666666666,
              "#ed7953"
             ],
             [
              0.7777777777777778,
              "#fb9f3a"
             ],
             [
              0.8888888888888888,
              "#fdca26"
             ],
             [
              1,
              "#f0f921"
             ]
            ],
            "type": "contour"
           }
          ],
          "contourcarpet": [
           {
            "colorbar": {
             "outlinewidth": 0,
             "ticks": ""
            },
            "type": "contourcarpet"
           }
          ],
          "heatmap": [
           {
            "colorbar": {
             "outlinewidth": 0,
             "ticks": ""
            },
            "colorscale": [
             [
              0,
              "#0d0887"
             ],
             [
              0.1111111111111111,
              "#46039f"
             ],
             [
              0.2222222222222222,
              "#7201a8"
             ],
             [
              0.3333333333333333,
              "#9c179e"
             ],
             [
              0.4444444444444444,
              "#bd3786"
             ],
             [
              0.5555555555555556,
              "#d8576b"
             ],
             [
              0.6666666666666666,
              "#ed7953"
             ],
             [
              0.7777777777777778,
              "#fb9f3a"
             ],
             [
              0.8888888888888888,
              "#fdca26"
             ],
             [
              1,
              "#f0f921"
             ]
            ],
            "type": "heatmap"
           }
          ],
          "heatmapgl": [
           {
            "colorbar": {
             "outlinewidth": 0,
             "ticks": ""
            },
            "colorscale": [
             [
              0,
              "#0d0887"
             ],
             [
              0.1111111111111111,
              "#46039f"
             ],
             [
              0.2222222222222222,
              "#7201a8"
             ],
             [
              0.3333333333333333,
              "#9c179e"
             ],
             [
              0.4444444444444444,
              "#bd3786"
             ],
             [
              0.5555555555555556,
              "#d8576b"
             ],
             [
              0.6666666666666666,
              "#ed7953"
             ],
             [
              0.7777777777777778,
              "#fb9f3a"
             ],
             [
              0.8888888888888888,
              "#fdca26"
             ],
             [
              1,
              "#f0f921"
             ]
            ],
            "type": "heatmapgl"
           }
          ],
          "histogram": [
           {
            "marker": {
             "pattern": {
              "fillmode": "overlay",
              "size": 10,
              "solidity": 0.2
             }
            },
            "type": "histogram"
           }
          ],
          "histogram2d": [
           {
            "colorbar": {
             "outlinewidth": 0,
             "ticks": ""
            },
            "colorscale": [
             [
              0,
              "#0d0887"
             ],
             [
              0.1111111111111111,
              "#46039f"
             ],
             [
              0.2222222222222222,
              "#7201a8"
             ],
             [
              0.3333333333333333,
              "#9c179e"
             ],
             [
              0.4444444444444444,
              "#bd3786"
             ],
             [
              0.5555555555555556,
              "#d8576b"
             ],
             [
              0.6666666666666666,
              "#ed7953"
             ],
             [
              0.7777777777777778,
              "#fb9f3a"
             ],
             [
              0.8888888888888888,
              "#fdca26"
             ],
             [
              1,
              "#f0f921"
             ]
            ],
            "type": "histogram2d"
           }
          ],
          "histogram2dcontour": [
           {
            "colorbar": {
             "outlinewidth": 0,
             "ticks": ""
            },
            "colorscale": [
             [
              0,
              "#0d0887"
             ],
             [
              0.1111111111111111,
              "#46039f"
             ],
             [
              0.2222222222222222,
              "#7201a8"
             ],
             [
              0.3333333333333333,
              "#9c179e"
             ],
             [
              0.4444444444444444,
              "#bd3786"
             ],
             [
              0.5555555555555556,
              "#d8576b"
             ],
             [
              0.6666666666666666,
              "#ed7953"
             ],
             [
              0.7777777777777778,
              "#fb9f3a"
             ],
             [
              0.8888888888888888,
              "#fdca26"
             ],
             [
              1,
              "#f0f921"
             ]
            ],
            "type": "histogram2dcontour"
           }
          ],
          "mesh3d": [
           {
            "colorbar": {
             "outlinewidth": 0,
             "ticks": ""
            },
            "type": "mesh3d"
           }
          ],
          "parcoords": [
           {
            "line": {
             "colorbar": {
              "outlinewidth": 0,
              "ticks": ""
             }
            },
            "type": "parcoords"
           }
          ],
          "pie": [
           {
            "automargin": true,
            "type": "pie"
           }
          ],
          "scatter": [
           {
            "fillpattern": {
             "fillmode": "overlay",
             "size": 10,
             "solidity": 0.2
            },
            "type": "scatter"
           }
          ],
          "scatter3d": [
           {
            "line": {
             "colorbar": {
              "outlinewidth": 0,
              "ticks": ""
             }
            },
            "marker": {
             "colorbar": {
              "outlinewidth": 0,
              "ticks": ""
             }
            },
            "type": "scatter3d"
           }
          ],
          "scattercarpet": [
           {
            "marker": {
             "colorbar": {
              "outlinewidth": 0,
              "ticks": ""
             }
            },
            "type": "scattercarpet"
           }
          ],
          "scattergeo": [
           {
            "marker": {
             "colorbar": {
              "outlinewidth": 0,
              "ticks": ""
             }
            },
            "type": "scattergeo"
           }
          ],
          "scattergl": [
           {
            "marker": {
             "colorbar": {
              "outlinewidth": 0,
              "ticks": ""
             }
            },
            "type": "scattergl"
           }
          ],
          "scattermapbox": [
           {
            "marker": {
             "colorbar": {
              "outlinewidth": 0,
              "ticks": ""
             }
            },
            "type": "scattermapbox"
           }
          ],
          "scatterpolar": [
           {
            "marker": {
             "colorbar": {
              "outlinewidth": 0,
              "ticks": ""
             }
            },
            "type": "scatterpolar"
           }
          ],
          "scatterpolargl": [
           {
            "marker": {
             "colorbar": {
              "outlinewidth": 0,
              "ticks": ""
             }
            },
            "type": "scatterpolargl"
           }
          ],
          "scatterternary": [
           {
            "marker": {
             "colorbar": {
              "outlinewidth": 0,
              "ticks": ""
             }
            },
            "type": "scatterternary"
           }
          ],
          "surface": [
           {
            "colorbar": {
             "outlinewidth": 0,
             "ticks": ""
            },
            "colorscale": [
             [
              0,
              "#0d0887"
             ],
             [
              0.1111111111111111,
              "#46039f"
             ],
             [
              0.2222222222222222,
              "#7201a8"
             ],
             [
              0.3333333333333333,
              "#9c179e"
             ],
             [
              0.4444444444444444,
              "#bd3786"
             ],
             [
              0.5555555555555556,
              "#d8576b"
             ],
             [
              0.6666666666666666,
              "#ed7953"
             ],
             [
              0.7777777777777778,
              "#fb9f3a"
             ],
             [
              0.8888888888888888,
              "#fdca26"
             ],
             [
              1,
              "#f0f921"
             ]
            ],
            "type": "surface"
           }
          ],
          "table": [
           {
            "cells": {
             "fill": {
              "color": "#EBF0F8"
             },
             "line": {
              "color": "white"
             }
            },
            "header": {
             "fill": {
              "color": "#C8D4E3"
             },
             "line": {
              "color": "white"
             }
            },
            "type": "table"
           }
          ]
         },
         "layout": {
          "annotationdefaults": {
           "arrowcolor": "#2a3f5f",
           "arrowhead": 0,
           "arrowwidth": 1
          },
          "autotypenumbers": "strict",
          "coloraxis": {
           "colorbar": {
            "outlinewidth": 0,
            "ticks": ""
           }
          },
          "colorscale": {
           "diverging": [
            [
             0,
             "#8e0152"
            ],
            [
             0.1,
             "#c51b7d"
            ],
            [
             0.2,
             "#de77ae"
            ],
            [
             0.3,
             "#f1b6da"
            ],
            [
             0.4,
             "#fde0ef"
            ],
            [
             0.5,
             "#f7f7f7"
            ],
            [
             0.6,
             "#e6f5d0"
            ],
            [
             0.7,
             "#b8e186"
            ],
            [
             0.8,
             "#7fbc41"
            ],
            [
             0.9,
             "#4d9221"
            ],
            [
             1,
             "#276419"
            ]
           ],
           "sequential": [
            [
             0,
             "#0d0887"
            ],
            [
             0.1111111111111111,
             "#46039f"
            ],
            [
             0.2222222222222222,
             "#7201a8"
            ],
            [
             0.3333333333333333,
             "#9c179e"
            ],
            [
             0.4444444444444444,
             "#bd3786"
            ],
            [
             0.5555555555555556,
             "#d8576b"
            ],
            [
             0.6666666666666666,
             "#ed7953"
            ],
            [
             0.7777777777777778,
             "#fb9f3a"
            ],
            [
             0.8888888888888888,
             "#fdca26"
            ],
            [
             1,
             "#f0f921"
            ]
           ],
           "sequentialminus": [
            [
             0,
             "#0d0887"
            ],
            [
             0.1111111111111111,
             "#46039f"
            ],
            [
             0.2222222222222222,
             "#7201a8"
            ],
            [
             0.3333333333333333,
             "#9c179e"
            ],
            [
             0.4444444444444444,
             "#bd3786"
            ],
            [
             0.5555555555555556,
             "#d8576b"
            ],
            [
             0.6666666666666666,
             "#ed7953"
            ],
            [
             0.7777777777777778,
             "#fb9f3a"
            ],
            [
             0.8888888888888888,
             "#fdca26"
            ],
            [
             1,
             "#f0f921"
            ]
           ]
          },
          "colorway": [
           "#636efa",
           "#EF553B",
           "#00cc96",
           "#ab63fa",
           "#FFA15A",
           "#19d3f3",
           "#FF6692",
           "#B6E880",
           "#FF97FF",
           "#FECB52"
          ],
          "font": {
           "color": "#2a3f5f"
          },
          "geo": {
           "bgcolor": "white",
           "lakecolor": "white",
           "landcolor": "#E5ECF6",
           "showlakes": true,
           "showland": true,
           "subunitcolor": "white"
          },
          "hoverlabel": {
           "align": "left"
          },
          "hovermode": "closest",
          "mapbox": {
           "style": "light"
          },
          "paper_bgcolor": "white",
          "plot_bgcolor": "#E5ECF6",
          "polar": {
           "angularaxis": {
            "gridcolor": "white",
            "linecolor": "white",
            "ticks": ""
           },
           "bgcolor": "#E5ECF6",
           "radialaxis": {
            "gridcolor": "white",
            "linecolor": "white",
            "ticks": ""
           }
          },
          "scene": {
           "xaxis": {
            "backgroundcolor": "#E5ECF6",
            "gridcolor": "white",
            "gridwidth": 2,
            "linecolor": "white",
            "showbackground": true,
            "ticks": "",
            "zerolinecolor": "white"
           },
           "yaxis": {
            "backgroundcolor": "#E5ECF6",
            "gridcolor": "white",
            "gridwidth": 2,
            "linecolor": "white",
            "showbackground": true,
            "ticks": "",
            "zerolinecolor": "white"
           },
           "zaxis": {
            "backgroundcolor": "#E5ECF6",
            "gridcolor": "white",
            "gridwidth": 2,
            "linecolor": "white",
            "showbackground": true,
            "ticks": "",
            "zerolinecolor": "white"
           }
          },
          "shapedefaults": {
           "line": {
            "color": "#2a3f5f"
           }
          },
          "ternary": {
           "aaxis": {
            "gridcolor": "white",
            "linecolor": "white",
            "ticks": ""
           },
           "baxis": {
            "gridcolor": "white",
            "linecolor": "white",
            "ticks": ""
           },
           "bgcolor": "#E5ECF6",
           "caxis": {
            "gridcolor": "white",
            "linecolor": "white",
            "ticks": ""
           }
          },
          "title": {
           "x": 0.05
          },
          "xaxis": {
           "automargin": true,
           "gridcolor": "white",
           "linecolor": "white",
           "ticks": "",
           "title": {
            "standoff": 15
           },
           "zerolinecolor": "white",
           "zerolinewidth": 2
          },
          "yaxis": {
           "automargin": true,
           "gridcolor": "white",
           "linecolor": "white",
           "ticks": "",
           "title": {
            "standoff": 15
           },
           "zerolinecolor": "white",
           "zerolinewidth": 2
          }
         }
        },
        "title": {
         "text": "Age vs Birth Month in 1880 Utah Census (Sample)"
        },
        "xaxis": {
         "anchor": "y",
         "domain": [
          0,
          1
         ],
         "title": {
          "text": "Age"
         }
        },
        "yaxis": {
         "anchor": "x",
         "domain": [
          0,
          1
         ],
         "tickmode": "array",
         "ticktext": [
          "Jan",
          "Feb",
          "Mar",
          "Apr",
          "May",
          "Jun",
          "Jul",
          "Aug",
          "Sep",
          "Oct",
          "Nov",
          "Dec"
         ],
         "tickvals": [
          1,
          2,
          3,
          4,
          5,
          6,
          7,
          8,
          9,
          10,
          11,
          12
         ],
         "title": {
          "text": "Birth Month (1-12)"
         }
        }
       }
      }
     },
     "metadata": {},
     "output_type": "display_data"
    }
   ],
   "source": [
    "# Create a sample of the data (to make the plot more manageable)\n",
    "census_sample = census_df[census_df['birthmonth'] > 0].sample(1000, random_state=42)\n",
    "\n",
    "# Create a scatter plot\n",
    "fig = px.scatter(census_sample, x='age', y='birthmonth',\n",
    "                title='Age vs Birth Month in 1880 Utah Census (Sample)',\n",
    "                color='sex',\n",
    "                size='age',\n",
    "                hover_name='firstname',\n",
    "                hover_data=['lastname', 'occupation'],\n",
    "                opacity=0.7)\n",
    "\n",
    "# Update the layout\n",
    "fig.update_layout(\n",
    "    xaxis_title=\"Age\",\n",
    "    yaxis_title=\"Birth Month (1-12)\",\n",
    "    yaxis=dict(\n",
    "        tickmode='array',\n",
    "        tickvals=list(range(1, 13)),\n",
    "        ticktext=['Jan', 'Feb', 'Mar', 'Apr', 'May', 'Jun', \n",
    "                 'Jul', 'Aug', 'Sep', 'Oct', 'Nov', 'Dec']\n",
    "    )\n",
    ")\n",
    "\n",
    "# Display the plot\n",
    "fig.show()"
   ]
  },
  {
   "cell_type": "markdown",
   "metadata": {},
   "source": [
    "This scatter plot shows the relationship between age and birth month for a sample of the census data, with points colored by gender and sized by age. Try hovering over points to see detailed information about each person.\n"
   ]
  },
  {
   "cell_type": "markdown",
   "metadata": {},
   "source": [
    "## Creating Multiple Subplots\n",
    "\n",
    "Plotly also allows us to create complex visualizations with multiple subplots. Let's create a figure with two visualizations side by side:\n"
   ]
  },
  {
   "cell_type": "code",
   "execution_count": 12,
   "metadata": {},
   "outputs": [
    {
     "data": {
      "application/vnd.plotly.v1+json": {
       "config": {
        "plotlyServerURL": "https://plot.ly"
       },
       "data": [
        {
         "name": "M",
         "type": "box",
         "xaxis": "x",
         "y": [],
         "yaxis": "y"
        },
        {
         "name": "F",
         "type": "box",
         "xaxis": "x",
         "y": [],
         "yaxis": "y"
        },
        {
         "domain": {
          "x": [
           0.55,
           1
          ],
          "y": [
           0,
           1
          ]
         },
         "labels": [
          "s",
          "m",
          "w",
          "d",
          "3",
          "1",
          "5",
          "4",
          "2",
          "6"
         ],
         "type": "pie",
         "values": [
          76187,
          47984,
          3857,
          457,
          86,
          61,
          15,
          13,
          3,
          1
         ]
        }
       ],
       "layout": {
        "annotations": [
         {
          "font": {
           "size": 16
          },
          "showarrow": false,
          "text": "Age Distribution by Gender",
          "x": 0.225,
          "xanchor": "center",
          "xref": "paper",
          "y": 1,
          "yanchor": "bottom",
          "yref": "paper"
         },
         {
          "font": {
           "size": 16
          },
          "showarrow": false,
          "text": "Marital Status Distribution",
          "x": 0.775,
          "xanchor": "center",
          "xref": "paper",
          "y": 1,
          "yanchor": "bottom",
          "yref": "paper"
         }
        ],
        "height": 500,
        "template": {
         "data": {
          "bar": [
           {
            "error_x": {
             "color": "#2a3f5f"
            },
            "error_y": {
             "color": "#2a3f5f"
            },
            "marker": {
             "line": {
              "color": "#E5ECF6",
              "width": 0.5
             },
             "pattern": {
              "fillmode": "overlay",
              "size": 10,
              "solidity": 0.2
             }
            },
            "type": "bar"
           }
          ],
          "barpolar": [
           {
            "marker": {
             "line": {
              "color": "#E5ECF6",
              "width": 0.5
             },
             "pattern": {
              "fillmode": "overlay",
              "size": 10,
              "solidity": 0.2
             }
            },
            "type": "barpolar"
           }
          ],
          "carpet": [
           {
            "aaxis": {
             "endlinecolor": "#2a3f5f",
             "gridcolor": "white",
             "linecolor": "white",
             "minorgridcolor": "white",
             "startlinecolor": "#2a3f5f"
            },
            "baxis": {
             "endlinecolor": "#2a3f5f",
             "gridcolor": "white",
             "linecolor": "white",
             "minorgridcolor": "white",
             "startlinecolor": "#2a3f5f"
            },
            "type": "carpet"
           }
          ],
          "choropleth": [
           {
            "colorbar": {
             "outlinewidth": 0,
             "ticks": ""
            },
            "type": "choropleth"
           }
          ],
          "contour": [
           {
            "colorbar": {
             "outlinewidth": 0,
             "ticks": ""
            },
            "colorscale": [
             [
              0,
              "#0d0887"
             ],
             [
              0.1111111111111111,
              "#46039f"
             ],
             [
              0.2222222222222222,
              "#7201a8"
             ],
             [
              0.3333333333333333,
              "#9c179e"
             ],
             [
              0.4444444444444444,
              "#bd3786"
             ],
             [
              0.5555555555555556,
              "#d8576b"
             ],
             [
              0.6666666666666666,
              "#ed7953"
             ],
             [
              0.7777777777777778,
              "#fb9f3a"
             ],
             [
              0.8888888888888888,
              "#fdca26"
             ],
             [
              1,
              "#f0f921"
             ]
            ],
            "type": "contour"
           }
          ],
          "contourcarpet": [
           {
            "colorbar": {
             "outlinewidth": 0,
             "ticks": ""
            },
            "type": "contourcarpet"
           }
          ],
          "heatmap": [
           {
            "colorbar": {
             "outlinewidth": 0,
             "ticks": ""
            },
            "colorscale": [
             [
              0,
              "#0d0887"
             ],
             [
              0.1111111111111111,
              "#46039f"
             ],
             [
              0.2222222222222222,
              "#7201a8"
             ],
             [
              0.3333333333333333,
              "#9c179e"
             ],
             [
              0.4444444444444444,
              "#bd3786"
             ],
             [
              0.5555555555555556,
              "#d8576b"
             ],
             [
              0.6666666666666666,
              "#ed7953"
             ],
             [
              0.7777777777777778,
              "#fb9f3a"
             ],
             [
              0.8888888888888888,
              "#fdca26"
             ],
             [
              1,
              "#f0f921"
             ]
            ],
            "type": "heatmap"
           }
          ],
          "heatmapgl": [
           {
            "colorbar": {
             "outlinewidth": 0,
             "ticks": ""
            },
            "colorscale": [
             [
              0,
              "#0d0887"
             ],
             [
              0.1111111111111111,
              "#46039f"
             ],
             [
              0.2222222222222222,
              "#7201a8"
             ],
             [
              0.3333333333333333,
              "#9c179e"
             ],
             [
              0.4444444444444444,
              "#bd3786"
             ],
             [
              0.5555555555555556,
              "#d8576b"
             ],
             [
              0.6666666666666666,
              "#ed7953"
             ],
             [
              0.7777777777777778,
              "#fb9f3a"
             ],
             [
              0.8888888888888888,
              "#fdca26"
             ],
             [
              1,
              "#f0f921"
             ]
            ],
            "type": "heatmapgl"
           }
          ],
          "histogram": [
           {
            "marker": {
             "pattern": {
              "fillmode": "overlay",
              "size": 10,
              "solidity": 0.2
             }
            },
            "type": "histogram"
           }
          ],
          "histogram2d": [
           {
            "colorbar": {
             "outlinewidth": 0,
             "ticks": ""
            },
            "colorscale": [
             [
              0,
              "#0d0887"
             ],
             [
              0.1111111111111111,
              "#46039f"
             ],
             [
              0.2222222222222222,
              "#7201a8"
             ],
             [
              0.3333333333333333,
              "#9c179e"
             ],
             [
              0.4444444444444444,
              "#bd3786"
             ],
             [
              0.5555555555555556,
              "#d8576b"
             ],
             [
              0.6666666666666666,
              "#ed7953"
             ],
             [
              0.7777777777777778,
              "#fb9f3a"
             ],
             [
              0.8888888888888888,
              "#fdca26"
             ],
             [
              1,
              "#f0f921"
             ]
            ],
            "type": "histogram2d"
           }
          ],
          "histogram2dcontour": [
           {
            "colorbar": {
             "outlinewidth": 0,
             "ticks": ""
            },
            "colorscale": [
             [
              0,
              "#0d0887"
             ],
             [
              0.1111111111111111,
              "#46039f"
             ],
             [
              0.2222222222222222,
              "#7201a8"
             ],
             [
              0.3333333333333333,
              "#9c179e"
             ],
             [
              0.4444444444444444,
              "#bd3786"
             ],
             [
              0.5555555555555556,
              "#d8576b"
             ],
             [
              0.6666666666666666,
              "#ed7953"
             ],
             [
              0.7777777777777778,
              "#fb9f3a"
             ],
             [
              0.8888888888888888,
              "#fdca26"
             ],
             [
              1,
              "#f0f921"
             ]
            ],
            "type": "histogram2dcontour"
           }
          ],
          "mesh3d": [
           {
            "colorbar": {
             "outlinewidth": 0,
             "ticks": ""
            },
            "type": "mesh3d"
           }
          ],
          "parcoords": [
           {
            "line": {
             "colorbar": {
              "outlinewidth": 0,
              "ticks": ""
             }
            },
            "type": "parcoords"
           }
          ],
          "pie": [
           {
            "automargin": true,
            "type": "pie"
           }
          ],
          "scatter": [
           {
            "fillpattern": {
             "fillmode": "overlay",
             "size": 10,
             "solidity": 0.2
            },
            "type": "scatter"
           }
          ],
          "scatter3d": [
           {
            "line": {
             "colorbar": {
              "outlinewidth": 0,
              "ticks": ""
             }
            },
            "marker": {
             "colorbar": {
              "outlinewidth": 0,
              "ticks": ""
             }
            },
            "type": "scatter3d"
           }
          ],
          "scattercarpet": [
           {
            "marker": {
             "colorbar": {
              "outlinewidth": 0,
              "ticks": ""
             }
            },
            "type": "scattercarpet"
           }
          ],
          "scattergeo": [
           {
            "marker": {
             "colorbar": {
              "outlinewidth": 0,
              "ticks": ""
             }
            },
            "type": "scattergeo"
           }
          ],
          "scattergl": [
           {
            "marker": {
             "colorbar": {
              "outlinewidth": 0,
              "ticks": ""
             }
            },
            "type": "scattergl"
           }
          ],
          "scattermapbox": [
           {
            "marker": {
             "colorbar": {
              "outlinewidth": 0,
              "ticks": ""
             }
            },
            "type": "scattermapbox"
           }
          ],
          "scatterpolar": [
           {
            "marker": {
             "colorbar": {
              "outlinewidth": 0,
              "ticks": ""
             }
            },
            "type": "scatterpolar"
           }
          ],
          "scatterpolargl": [
           {
            "marker": {
             "colorbar": {
              "outlinewidth": 0,
              "ticks": ""
             }
            },
            "type": "scatterpolargl"
           }
          ],
          "scatterternary": [
           {
            "marker": {
             "colorbar": {
              "outlinewidth": 0,
              "ticks": ""
             }
            },
            "type": "scatterternary"
           }
          ],
          "surface": [
           {
            "colorbar": {
             "outlinewidth": 0,
             "ticks": ""
            },
            "colorscale": [
             [
              0,
              "#0d0887"
             ],
             [
              0.1111111111111111,
              "#46039f"
             ],
             [
              0.2222222222222222,
              "#7201a8"
             ],
             [
              0.3333333333333333,
              "#9c179e"
             ],
             [
              0.4444444444444444,
              "#bd3786"
             ],
             [
              0.5555555555555556,
              "#d8576b"
             ],
             [
              0.6666666666666666,
              "#ed7953"
             ],
             [
              0.7777777777777778,
              "#fb9f3a"
             ],
             [
              0.8888888888888888,
              "#fdca26"
             ],
             [
              1,
              "#f0f921"
             ]
            ],
            "type": "surface"
           }
          ],
          "table": [
           {
            "cells": {
             "fill": {
              "color": "#EBF0F8"
             },
             "line": {
              "color": "white"
             }
            },
            "header": {
             "fill": {
              "color": "#C8D4E3"
             },
             "line": {
              "color": "white"
             }
            },
            "type": "table"
           }
          ]
         },
         "layout": {
          "annotationdefaults": {
           "arrowcolor": "#2a3f5f",
           "arrowhead": 0,
           "arrowwidth": 1
          },
          "autotypenumbers": "strict",
          "coloraxis": {
           "colorbar": {
            "outlinewidth": 0,
            "ticks": ""
           }
          },
          "colorscale": {
           "diverging": [
            [
             0,
             "#8e0152"
            ],
            [
             0.1,
             "#c51b7d"
            ],
            [
             0.2,
             "#de77ae"
            ],
            [
             0.3,
             "#f1b6da"
            ],
            [
             0.4,
             "#fde0ef"
            ],
            [
             0.5,
             "#f7f7f7"
            ],
            [
             0.6,
             "#e6f5d0"
            ],
            [
             0.7,
             "#b8e186"
            ],
            [
             0.8,
             "#7fbc41"
            ],
            [
             0.9,
             "#4d9221"
            ],
            [
             1,
             "#276419"
            ]
           ],
           "sequential": [
            [
             0,
             "#0d0887"
            ],
            [
             0.1111111111111111,
             "#46039f"
            ],
            [
             0.2222222222222222,
             "#7201a8"
            ],
            [
             0.3333333333333333,
             "#9c179e"
            ],
            [
             0.4444444444444444,
             "#bd3786"
            ],
            [
             0.5555555555555556,
             "#d8576b"
            ],
            [
             0.6666666666666666,
             "#ed7953"
            ],
            [
             0.7777777777777778,
             "#fb9f3a"
            ],
            [
             0.8888888888888888,
             "#fdca26"
            ],
            [
             1,
             "#f0f921"
            ]
           ],
           "sequentialminus": [
            [
             0,
             "#0d0887"
            ],
            [
             0.1111111111111111,
             "#46039f"
            ],
            [
             0.2222222222222222,
             "#7201a8"
            ],
            [
             0.3333333333333333,
             "#9c179e"
            ],
            [
             0.4444444444444444,
             "#bd3786"
            ],
            [
             0.5555555555555556,
             "#d8576b"
            ],
            [
             0.6666666666666666,
             "#ed7953"
            ],
            [
             0.7777777777777778,
             "#fb9f3a"
            ],
            [
             0.8888888888888888,
             "#fdca26"
            ],
            [
             1,
             "#f0f921"
            ]
           ]
          },
          "colorway": [
           "#636efa",
           "#EF553B",
           "#00cc96",
           "#ab63fa",
           "#FFA15A",
           "#19d3f3",
           "#FF6692",
           "#B6E880",
           "#FF97FF",
           "#FECB52"
          ],
          "font": {
           "color": "#2a3f5f"
          },
          "geo": {
           "bgcolor": "white",
           "lakecolor": "white",
           "landcolor": "#E5ECF6",
           "showlakes": true,
           "showland": true,
           "subunitcolor": "white"
          },
          "hoverlabel": {
           "align": "left"
          },
          "hovermode": "closest",
          "mapbox": {
           "style": "light"
          },
          "paper_bgcolor": "white",
          "plot_bgcolor": "#E5ECF6",
          "polar": {
           "angularaxis": {
            "gridcolor": "white",
            "linecolor": "white",
            "ticks": ""
           },
           "bgcolor": "#E5ECF6",
           "radialaxis": {
            "gridcolor": "white",
            "linecolor": "white",
            "ticks": ""
           }
          },
          "scene": {
           "xaxis": {
            "backgroundcolor": "#E5ECF6",
            "gridcolor": "white",
            "gridwidth": 2,
            "linecolor": "white",
            "showbackground": true,
            "ticks": "",
            "zerolinecolor": "white"
           },
           "yaxis": {
            "backgroundcolor": "#E5ECF6",
            "gridcolor": "white",
            "gridwidth": 2,
            "linecolor": "white",
            "showbackground": true,
            "ticks": "",
            "zerolinecolor": "white"
           },
           "zaxis": {
            "backgroundcolor": "#E5ECF6",
            "gridcolor": "white",
            "gridwidth": 2,
            "linecolor": "white",
            "showbackground": true,
            "ticks": "",
            "zerolinecolor": "white"
           }
          },
          "shapedefaults": {
           "line": {
            "color": "#2a3f5f"
           }
          },
          "ternary": {
           "aaxis": {
            "gridcolor": "white",
            "linecolor": "white",
            "ticks": ""
           },
           "baxis": {
            "gridcolor": "white",
            "linecolor": "white",
            "ticks": ""
           },
           "bgcolor": "#E5ECF6",
           "caxis": {
            "gridcolor": "white",
            "linecolor": "white",
            "ticks": ""
           }
          },
          "title": {
           "x": 0.05
          },
          "xaxis": {
           "automargin": true,
           "gridcolor": "white",
           "linecolor": "white",
           "ticks": "",
           "title": {
            "standoff": 15
           },
           "zerolinecolor": "white",
           "zerolinewidth": 2
          },
          "yaxis": {
           "automargin": true,
           "gridcolor": "white",
           "linecolor": "white",
           "ticks": "",
           "title": {
            "standoff": 15
           },
           "zerolinecolor": "white",
           "zerolinewidth": 2
          }
         }
        },
        "title": {
         "text": "Census Data Analysis"
        },
        "width": 900,
        "xaxis": {
         "anchor": "y",
         "domain": [
          0,
          0.45
         ]
        },
        "yaxis": {
         "anchor": "x",
         "domain": [
          0,
          1
         ]
        }
       }
      }
     },
     "metadata": {},
     "output_type": "display_data"
    }
   ],
   "source": [
    "# Create a figure with 1 row and 2 columns\n",
    "fig = make_subplots(rows=1, cols=2, \n",
    "                    subplot_titles=(\"Age Distribution by Gender\", \"Marital Status Distribution\"),\n",
    "                    specs=[[{\"type\": \"box\"}, {\"type\": \"pie\"}]])\n",
    "\n",
    "# Add box plot of ages by gender\n",
    "for gender in ['M', 'F']:\n",
    "    gender_data = census_df[census_df['sex'] == gender]\n",
    "    fig.add_trace(\n",
    "        go.Box(y=gender_data['age'], name=gender),\n",
    "        row=1, col=1\n",
    "    )\n",
    "\n",
    "# Add pie chart of marital status\n",
    "marital_counts = census_df['marrystatus'].value_counts()\n",
    "fig.add_trace(\n",
    "    go.Pie(labels=marital_counts.index, values=marital_counts.values),\n",
    "    row=1, col=2\n",
    ")\n",
    "\n",
    "# Update the layout\n",
    "fig.update_layout(\n",
    "    title_text=\"Census Data Analysis\",\n",
    "    height=500,\n",
    "    width=900\n",
    ")\n",
    "\n",
    "# Display the plot\n",
    "fig.show()"
   ]
  },
  {
   "cell_type": "markdown",
   "metadata": {},
   "source": [
    "This creates a figure with two plots:\n",
    "\n",
    "- A box plot showing age distribution by gender\n",
    "- A pie chart showing marital status distribution\n",
    "\n",
    "Note that we're using the `make_subplots` function to create the layout, and then adding individual traces to specific subplot positions.\n"
   ]
  },
  {
   "cell_type": "markdown",
   "metadata": {},
   "source": [
    "## Customizing Your Plots\n",
    "\n",
    "Let's create one more visualization with more customization options:\n"
   ]
  },
  {
   "cell_type": "code",
   "execution_count": null,
   "metadata": {},
   "outputs": [],
   "source": [
    "# Calculate average age by occupation (for top 15 occupations with at least 100 people)\n",
    "occupation_counts = census_df['occupation'].value_counts()\n",
    "common_occupations = occupation_counts[occupation_counts >= 100].index.tolist()\n",
    "common_occupations = [occ for occ in common_occupations if occ != ''][:15]\n",
    "\n",
    "# Filter the data\n",
    "occupation_age_data = census_df[census_df['occupation'].isin(common_occupations)]\n",
    "occupation_age = occupation_age_data.groupby('occupation')['age'].mean().reset_index()\n",
    "occupation_age = occupation_age.sort_values('age', ascending=False)\n",
    "\n",
    "# Create a horizontal bar chart\n",
    "fig = go.Figure()\n",
    "\n",
    "# Add a bar trace\n",
    "fig.add_trace(\n",
    "    go.Bar(\n",
    "        y=occupation_age['occupation'],\n",
    "        x=occupation_age['age'],\n",
    "        orientation='h',\n",
    "        marker=dict(\n",
    "            color=occupation_age['age'],\n",
    "            colorscale='Viridis',\n",
    "            colorbar=dict(title=\"Average Age\")\n",
    "        )\n",
    "    )\n",
    ")\n",
    "\n",
    "# Update the layout\n",
    "fig.update_layout(\n",
    "    title=\"Average Age by Occupation in 1880 Utah Census\",\n",
    "    xaxis_title=\"Average Age\",\n",
    "    yaxis_title=\"Occupation\",\n",
    "    yaxis=dict(autorange=\"reversed\"),\n",
    "    height=600,\n",
    "    width=800,\n",
    "    template=\"plotly_white\"\n",
    ")\n",
    "\n",
    "# Display the plot\n",
    "fig.show()"
   ]
  },
  {
   "cell_type": "markdown",
   "metadata": {},
   "source": [
    "This creates a horizontal bar chart showing the average age for different occupations, with extensive customization.\n",
    "\n",
    "Note that in this example, we're using the lower-level `go.Figure()` approach instead of Plotly Express, which gives us more fine-grained control over the visualization.\n"
   ]
  },
  {
   "cell_type": "markdown",
   "metadata": {},
   "source": [
    "## Saving Plotly Visualizations\n",
    "\n",
    "Finally, let's see how to save our visualizations:\n"
   ]
  },
  {
   "cell_type": "code",
   "execution_count": null,
   "metadata": {},
   "outputs": [],
   "source": [
    "# Save as a static image (requires kaleido package)\n",
    "# fig.write_image(\"occupation_age.png\")\n",
    "\n",
    "# Save as an interactive HTML file\n",
    "fig.write_html(\"occupation_age.html\")"
   ]
  },
  {
   "cell_type": "markdown",
   "metadata": {},
   "source": [
    "These commands would save your visualization as an interactive HTML file that you can open in a web browser. To save as a static PNG image, you'll need to install the kaleido package (`pip install kaleido`).\n"
   ]
  },
  {
   "cell_type": "markdown",
   "metadata": {},
   "source": [
    "## Exercise: Create Your Own Visualization\n",
    "\n",
    "Try to create a visualization on your own using the Utah census data. Here are some ideas:\n",
    "\n",
    "- Create a histogram of family sizes (using the 'family' column)\n",
    "- Visualize literacy rates (using 'notread' and 'notwrite' columns) by age group\n",
    "- Create a scatter plot comparing age and occupation\n",
    "- Visualize the distribution of people who attended school ('attendschool')\n"
   ]
  },
  {
   "cell_type": "code",
   "execution_count": null,
   "metadata": {},
   "outputs": [],
   "source": [
    "# Your code here\n",
    "\n"
   ]
  },
  {
   "cell_type": "markdown",
   "metadata": {},
   "source": [
    "## Conclusion\n",
    "\n",
    "In this tutorial, you've learned the basics of creating interactive visualizations with Plotly. We've covered:\n",
    "\n",
    "- Creating basic plots (histograms, pie charts, bar charts, scatter plots)\n",
    "- Customizing plot appearance\n",
    "- Working with subplots\n",
    "- Saving visualizations\n",
    "\n",
    "Plotly is a powerful library with many more features than we've explored here. For more information, check out the [Plotly Python Documentation](https://plotly.com/python/).\n",
    "\n",
    "Remember that good data visualization helps tell a story about your data, making patterns and insights more accessible. As you continue to work with data, developing your visualization skills will be crucial for both your analysis and communication of results.\n"
   ]
  }
 ],
 "metadata": {
  "kernelspec": {
   "display_name": "base",
   "language": "python",
   "name": "python3"
  },
  "language_info": {
   "codemirror_mode": {
    "name": "ipython",
    "version": 3
   },
   "file_extension": ".py",
   "mimetype": "text/x-python",
   "name": "python",
   "nbconvert_exporter": "python",
   "pygments_lexer": "ipython3",
   "version": "3.12.7"
  }
 },
 "nbformat": 4,
 "nbformat_minor": 4
}
