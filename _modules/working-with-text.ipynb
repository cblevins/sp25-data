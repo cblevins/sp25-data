{
 "cells": [
  {
   "cell_type": "markdown",
   "id": "d56f9a35-c44a-4590-afdc-02167deeffa4",
   "metadata": {
    "tags": []
   },
   "source": [
    "Opening up a file"
   ]
  },
  {
   "cell_type": "code",
   "execution_count": 3,
   "id": "786f7dc9-e68c-4078-93cc-0d7f2657bf7a",
   "metadata": {},
   "outputs": [],
   "source": [
    "smith=open(\"venture-smith.txt\", mode='r', encoding='utf-8')\n",
    "smith=smith.read()"
   ]
  },
  {
   "cell_type": "code",
   "execution_count": 4,
   "id": "1bbc1dce-2982-4207-a81d-33992d117e17",
   "metadata": {},
   "outputs": [
    {
     "data": {
      "text/plain": [
       "54354"
      ]
     },
     "execution_count": 4,
     "metadata": {},
     "output_type": "execute_result"
    }
   ],
   "source": [
    "open('venture-smith-copy.txt', mode='w', encoding='utf-8').write(smith)"
   ]
  },
  {
   "cell_type": "code",
   "execution_count": 5,
   "id": "87871d8a-6a71-47a6-9ce8-59225a8b8764",
   "metadata": {},
   "outputs": [
    {
     "data": {
      "text/plain": [
       "'A'"
      ]
     },
     "execution_count": 5,
     "metadata": {},
     "output_type": "execute_result"
    }
   ],
   "source": [
    "smith[0]"
   ]
  },
  {
   "cell_type": "code",
   "execution_count": 6,
   "id": "e9a089fa-e145-4f00-b184-f518e88c1bdd",
   "metadata": {},
   "outputs": [
    {
     "data": {
      "text/plain": [
       "'A NARRATIVE OF THE LIFE AND ADVENTURES\\n\\nOF VENTURE, A NATIVE OF AFRICA,\\n\\nBut resident above sixty ye'"
      ]
     },
     "execution_count": 6,
     "metadata": {},
     "output_type": "execute_result"
    }
   ],
   "source": [
    "smith[:100]"
   ]
  },
  {
   "cell_type": "code",
   "execution_count": 7,
   "id": "eaf1f793-0428-4617-b7ca-d288724bfaad",
   "metadata": {},
   "outputs": [],
   "source": [
    "smith_title=smith[:157]"
   ]
  },
  {
   "cell_type": "code",
   "execution_count": 8,
   "id": "5fc61410-9097-43a7-9e9e-974a63c86c2e",
   "metadata": {},
   "outputs": [
    {
     "data": {
      "text/plain": [
       "'A NARRATIVE OF THE LIFE AND ADVENTURES\\n\\nOF VENTURE, A NATIVE OF AFRICA,\\n\\nBut resident above sixty years in the United States of America.\\n\\nRELATED BY HIMSELF.'"
      ]
     },
     "execution_count": 8,
     "metadata": {},
     "output_type": "execute_result"
    }
   ],
   "source": [
    "smith_title"
   ]
  },
  {
   "cell_type": "code",
   "execution_count": 9,
   "id": "c11f2ecf-c507-49bc-8a36-a1740d4fb71b",
   "metadata": {
    "scrolled": true
   },
   "outputs": [
    {
     "data": {
      "text/plain": [
       "'A Narrative Of The Life And Adventures\\n\\nOf Venture, A Native Of Africa,\\n\\nBut Resident Above Sixty Years In The United States Of America.\\n\\nRelated By Himself.'"
      ]
     },
     "execution_count": 9,
     "metadata": {},
     "output_type": "execute_result"
    }
   ],
   "source": [
    "smith_title.title()"
   ]
  },
  {
   "cell_type": "code",
   "execution_count": 36,
   "id": "c5f6bc1c-7fef-40e3-b3d6-ae85b70bc683",
   "metadata": {},
   "outputs": [
    {
     "name": "stdout",
     "output_type": "stream",
     "text": [
      "['A NARRATIVE OF THE LIFE AND ADVENTURES', '', 'OF VENTURE, A NATIVE OF AFRICA,', '', 'But resident above sixty years in the United States of America.', '', 'RELATED BY HIMSELF.', '', 'VENTURE SMITH', '']\n"
     ]
    }
   ],
   "source": [
    "smith_lines=smith.split('\\n')\n",
    "print(smith_lines[0:10])"
   ]
  },
  {
   "cell_type": "code",
   "execution_count": 38,
   "id": "1fdab5f6-7065-4d26-9e9c-8f816d6b0ed0",
   "metadata": {},
   "outputs": [
    {
     "data": {
      "text/plain": [
       "903"
      ]
     },
     "execution_count": 38,
     "metadata": {},
     "output_type": "execute_result"
    }
   ],
   "source": [
    "len(smith_lines)"
   ]
  },
  {
   "cell_type": "code",
   "execution_count": 40,
   "id": "fb4e0eea-106e-4102-bf56-36b5c9ec0821",
   "metadata": {},
   "outputs": [
    {
     "name": "stderr",
     "output_type": "stream",
     "text": [
      "<>:6: SyntaxWarning: invalid escape sequence '\\W'\n",
      "<>:6: SyntaxWarning: invalid escape sequence '\\W'\n",
      "/var/folders/tv/dd7y76ys3zg57b4929sz1vnc0000gn/T/ipykernel_4036/3718189849.py:6: SyntaxWarning: invalid escape sequence '\\W'\n",
      "  split_words = re.split(\"\\W+\", lowercase_text)\n"
     ]
    },
    {
     "data": {
      "text/plain": [
       "[('master', 77),\n",
       " ('one', 51),\n",
       " ('time', 47),\n",
       " ('would', 43),\n",
       " ('two', 41),\n",
       " ('money', 28),\n",
       " ('pounds', 28),\n",
       " ('years', 25),\n",
       " ('father', 24),\n",
       " ('took', 23),\n",
       " ('place', 22),\n",
       " ('went', 22),\n",
       " ('could', 21),\n",
       " ('great', 21),\n",
       " ('six', 21),\n",
       " ('year', 20),\n",
       " ('old', 20),\n",
       " ('immediately', 20),\n",
       " ('island', 20),\n",
       " ('first', 19),\n",
       " ('wife', 19),\n",
       " ('hundred', 19),\n",
       " ('return', 19),\n",
       " ('account', 17),\n",
       " ('man', 17),\n",
       " ('much', 17),\n",
       " ('land', 17),\n",
       " ('four', 17),\n",
       " ('country', 16),\n",
       " ('three', 16),\n",
       " ('set', 16),\n",
       " ('came', 16),\n",
       " ('house', 16),\n",
       " ('venture', 15),\n",
       " ('day', 15),\n",
       " ('enemy', 15),\n",
       " ('purchased', 15),\n",
       " ('people', 14),\n",
       " ('put', 14),\n",
       " ('go', 14)]"
      ]
     },
     "execution_count": 40,
     "metadata": {},
     "output_type": "execute_result"
    }
   ],
   "source": [
    "import re\n",
    "from collections import Counter\n",
    "\n",
    "def split_into_words(any_chunk_of_text):\n",
    "    lowercase_text = any_chunk_of_text.lower()\n",
    "    split_words = re.split(\"\\W+\", lowercase_text)\n",
    "    return split_words\n",
    "\n",
    "filepath_of_text = \"venture-smith.txt\"\n",
    "number_of_desired_words = 40\n",
    "\n",
    "stopwords = ['i', 'me', 'my', 'myself', 'we', 'our', 'ours', 'ourselves', 'you', 'your', 'yours',\n",
    " 'yourself', 'yourselves', 'he', 'him', 'his', 'himself', 'she', 'her', 'hers',\n",
    " 'herself', 'it', 'its', 'itself', 'they', 'them', 'their', 'theirs', 'themselves',\n",
    " 'what', 'which', 'who', 'whom', 'this', 'that', 'these', 'those', 'am', 'is', 'are',\n",
    " 'was', 'were', 'be', 'been', 'being', 'have', 'has', 'had', 'having', 'do', 'does',\n",
    " 'did', 'doing', 'a', 'an', 'the', 'and', 'but', 'if', 'or', 'because', 'as', 'until',\n",
    " 'while', 'of', 'at', 'by', 'for', 'with', 'about', 'against', 'between', 'into',\n",
    " 'through', 'during', 'before', 'after', 'above', 'below', 'to', 'from', 'up', 'down',\n",
    " 'in', 'out', 'on', 'off', 'over', 'under', 'again', 'further', 'then', 'once', 'here',\n",
    " 'there', 'when', 'where', 'why', 'how', 'all', 'any', 'both', 'each', 'few', 'more',\n",
    " 'most', 'other', 'some', 'such', 'no', 'nor', 'not', 'only', 'own', 'same', 'so',\n",
    " 'than', 'too', 'very', 's', 't', 'can', 'will', 'just', 'don', 'should', 'now', 've', 'll', 'amp']\n",
    "\n",
    "full_text = open(filepath_of_text, encoding=\"utf-8\").read()\n",
    "\n",
    "all_the_words = split_into_words(full_text)\n",
    "meaningful_words = [word for word in all_the_words if word not in stopwords]\n",
    "meaningful_words_tally = Counter(meaningful_words)\n",
    "most_frequent_meaningful_words = meaningful_words_tally.most_common(number_of_desired_words)\n",
    "\n",
    "most_frequent_meaningful_words"
   ]
  },
  {
   "cell_type": "markdown",
   "id": "693031d7-e98a-426f-b1eb-0ca2021965b0",
   "metadata": {},
   "source": [
    "length of 200 word"
   ]
  },
  {
   "cell_type": "markdown",
   "id": "90ba7b1c-08b7-4e06-88d0-d97dd09710a5",
   "metadata": {},
   "source": [
    "Length of 200th word"
   ]
  },
  {
   "cell_type": "code",
   "execution_count": 15,
   "id": "b4799f9d-ed05-4160-b51c-55a6e8cbfdb3",
   "metadata": {},
   "outputs": [
    {
     "name": "stdout",
     "output_type": "stream",
     "text": [
      "the length of the 200th word is 5\n"
     ]
    }
   ],
   "source": [
    "len_200=len(smith.split()[200])\n",
    "print(f\"the length of the 200th word is {len_200}\")"
   ]
  },
  {
   "cell_type": "markdown",
   "id": "af4d6e9f-04dd-463f-bb76-191cc79b2816",
   "metadata": {},
   "source": [
    "number of words"
   ]
  },
  {
   "cell_type": "code",
   "execution_count": 17,
   "id": "4fb2edb9-bd2d-4bf3-87e1-103411db31b4",
   "metadata": {},
   "outputs": [
    {
     "data": {
      "text/plain": [
       "9952"
      ]
     },
     "execution_count": 17,
     "metadata": {},
     "output_type": "execute_result"
    }
   ],
   "source": [
    "len(smith.split())"
   ]
  },
  {
   "cell_type": "markdown",
   "id": "f69bafd7-4108-468e-8e51-23bb5af52cbc",
   "metadata": {},
   "source": [
    "length of chapter two"
   ]
  },
  {
   "cell_type": "code",
   "execution_count": 19,
   "id": "0b15d2cb-905f-43e7-8835-85f82e78b5f4",
   "metadata": {},
   "outputs": [
    {
     "name": "stdout",
     "output_type": "stream",
     "text": [
      "the length of the chapter 2 is 4086 words\n"
     ]
    }
   ],
   "source": [
    "ch2=smith.split(\"CHAPTER\")[2]\n",
    "# print(ch2)\n",
    "ch2_words=ch2.split()\n",
    "ch2_length=len(ch2_words)\n",
    "print(f\"the length of the chapter 2 is {ch2_length} words\")"
   ]
  },
  {
   "cell_type": "code",
   "execution_count": null,
   "id": "7c7692cf-d84a-46b3-8120-2e694aaeef7d",
   "metadata": {},
   "outputs": [],
   "source": []
  },
  {
   "cell_type": "code",
   "execution_count": null,
   "id": "2ab55004-fc6b-41a0-8d25-1ccc1b9589b3",
   "metadata": {},
   "outputs": [],
   "source": []
  },
  {
   "cell_type": "code",
   "execution_count": null,
   "id": "5d11a74e-9fee-47d9-abac-d020351ef4a4",
   "metadata": {},
   "outputs": [],
   "source": []
  }
 ],
 "metadata": {
  "kernelspec": {
   "display_name": "Python [conda env:base] *",
   "language": "python",
   "name": "conda-base-py"
  },
  "language_info": {
   "codemirror_mode": {
    "name": "ipython",
    "version": 3
   },
   "file_extension": ".py",
   "mimetype": "text/x-python",
   "name": "python",
   "nbconvert_exporter": "python",
   "pygments_lexer": "ipython3",
   "version": "3.12.7"
  }
 },
 "nbformat": 4,
 "nbformat_minor": 5
}
