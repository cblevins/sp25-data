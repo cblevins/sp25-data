{
 "cells": [
  {
   "cell_type": "markdown",
   "id": "309a3934",
   "metadata": {},
   "source": [
    "# Plotly Crash Course & Cheat Sheet\n",
    "\n",
    "#### Why Plotly?\n",
    "\n",
    "- Interactive charts\n",
    "- Multi-language support\n",
    "- Powerful graphs with very little code\n",
    "- It's deployable online with Dash!\n",
    "\n",
    "#### You don't have to memorize the code! I'm going to make sure you understand how to use the Plotly resources\n",
    "\n",
    "#### Plotly Express (Px) vs Plotly Graph Objects (Go)\n",
    "\n",
    "#### Start with Px and check the High Level Interface page whenever you want to style your chart\n",
    "\n",
    "#### Move to Go when you need to customize elements like the layout and traces\n",
    "\n",
    "#### Explore it!\n"
   ]
  },
  {
   "cell_type": "markdown",
   "id": "adf45f9c",
   "metadata": {},
   "source": [
    "## Loading our data\n",
    "\n",
    "- We will load data from gapminder and use it to go over the basics of Plotly\n"
   ]
  },
  {
   "cell_type": "code",
   "execution_count": 1,
   "id": "612d47ad",
   "metadata": {},
   "outputs": [],
   "source": [
    "# https://plotly.com/python/\n",
    "import plotly.express as px\n",
    "\n",
    "# https://plotly.com/python-api-reference/generated/plotly.data.html\n",
    "df_ = px.data.gapminder()\n"
   ]
  },
  {
   "cell_type": "code",
   "execution_count": 2,
   "id": "d05b3844",
   "metadata": {},
   "outputs": [
    {
     "data": {
      "text/html": [
       "<div>\n",
       "<style scoped>\n",
       "    .dataframe tbody tr th:only-of-type {\n",
       "        vertical-align: middle;\n",
       "    }\n",
       "\n",
       "    .dataframe tbody tr th {\n",
       "        vertical-align: top;\n",
       "    }\n",
       "\n",
       "    .dataframe thead th {\n",
       "        text-align: right;\n",
       "    }\n",
       "</style>\n",
       "<table border=\"1\" class=\"dataframe\">\n",
       "  <thead>\n",
       "    <tr style=\"text-align: right;\">\n",
       "      <th></th>\n",
       "      <th>country</th>\n",
       "      <th>continent</th>\n",
       "      <th>year</th>\n",
       "      <th>lifeExp</th>\n",
       "      <th>pop</th>\n",
       "      <th>gdpPercap</th>\n",
       "      <th>iso_alpha</th>\n",
       "      <th>iso_num</th>\n",
       "    </tr>\n",
       "  </thead>\n",
       "  <tbody>\n",
       "    <tr>\n",
       "      <th>0</th>\n",
       "      <td>Afghanistan</td>\n",
       "      <td>Asia</td>\n",
       "      <td>1952</td>\n",
       "      <td>28.801</td>\n",
       "      <td>8425333</td>\n",
       "      <td>779.445314</td>\n",
       "      <td>AFG</td>\n",
       "      <td>4</td>\n",
       "    </tr>\n",
       "    <tr>\n",
       "      <th>1</th>\n",
       "      <td>Afghanistan</td>\n",
       "      <td>Asia</td>\n",
       "      <td>1957</td>\n",
       "      <td>30.332</td>\n",
       "      <td>9240934</td>\n",
       "      <td>820.853030</td>\n",
       "      <td>AFG</td>\n",
       "      <td>4</td>\n",
       "    </tr>\n",
       "    <tr>\n",
       "      <th>2</th>\n",
       "      <td>Afghanistan</td>\n",
       "      <td>Asia</td>\n",
       "      <td>1962</td>\n",
       "      <td>31.997</td>\n",
       "      <td>10267083</td>\n",
       "      <td>853.100710</td>\n",
       "      <td>AFG</td>\n",
       "      <td>4</td>\n",
       "    </tr>\n",
       "    <tr>\n",
       "      <th>3</th>\n",
       "      <td>Afghanistan</td>\n",
       "      <td>Asia</td>\n",
       "      <td>1967</td>\n",
       "      <td>34.020</td>\n",
       "      <td>11537966</td>\n",
       "      <td>836.197138</td>\n",
       "      <td>AFG</td>\n",
       "      <td>4</td>\n",
       "    </tr>\n",
       "    <tr>\n",
       "      <th>4</th>\n",
       "      <td>Afghanistan</td>\n",
       "      <td>Asia</td>\n",
       "      <td>1972</td>\n",
       "      <td>36.088</td>\n",
       "      <td>13079460</td>\n",
       "      <td>739.981106</td>\n",
       "      <td>AFG</td>\n",
       "      <td>4</td>\n",
       "    </tr>\n",
       "    <tr>\n",
       "      <th>...</th>\n",
       "      <td>...</td>\n",
       "      <td>...</td>\n",
       "      <td>...</td>\n",
       "      <td>...</td>\n",
       "      <td>...</td>\n",
       "      <td>...</td>\n",
       "      <td>...</td>\n",
       "      <td>...</td>\n",
       "    </tr>\n",
       "    <tr>\n",
       "      <th>1699</th>\n",
       "      <td>Zimbabwe</td>\n",
       "      <td>Africa</td>\n",
       "      <td>1987</td>\n",
       "      <td>62.351</td>\n",
       "      <td>9216418</td>\n",
       "      <td>706.157306</td>\n",
       "      <td>ZWE</td>\n",
       "      <td>716</td>\n",
       "    </tr>\n",
       "    <tr>\n",
       "      <th>1700</th>\n",
       "      <td>Zimbabwe</td>\n",
       "      <td>Africa</td>\n",
       "      <td>1992</td>\n",
       "      <td>60.377</td>\n",
       "      <td>10704340</td>\n",
       "      <td>693.420786</td>\n",
       "      <td>ZWE</td>\n",
       "      <td>716</td>\n",
       "    </tr>\n",
       "    <tr>\n",
       "      <th>1701</th>\n",
       "      <td>Zimbabwe</td>\n",
       "      <td>Africa</td>\n",
       "      <td>1997</td>\n",
       "      <td>46.809</td>\n",
       "      <td>11404948</td>\n",
       "      <td>792.449960</td>\n",
       "      <td>ZWE</td>\n",
       "      <td>716</td>\n",
       "    </tr>\n",
       "    <tr>\n",
       "      <th>1702</th>\n",
       "      <td>Zimbabwe</td>\n",
       "      <td>Africa</td>\n",
       "      <td>2002</td>\n",
       "      <td>39.989</td>\n",
       "      <td>11926563</td>\n",
       "      <td>672.038623</td>\n",
       "      <td>ZWE</td>\n",
       "      <td>716</td>\n",
       "    </tr>\n",
       "    <tr>\n",
       "      <th>1703</th>\n",
       "      <td>Zimbabwe</td>\n",
       "      <td>Africa</td>\n",
       "      <td>2007</td>\n",
       "      <td>43.487</td>\n",
       "      <td>12311143</td>\n",
       "      <td>469.709298</td>\n",
       "      <td>ZWE</td>\n",
       "      <td>716</td>\n",
       "    </tr>\n",
       "  </tbody>\n",
       "</table>\n",
       "<p>1704 rows × 8 columns</p>\n",
       "</div>"
      ],
      "text/plain": [
       "          country continent  year  lifeExp       pop   gdpPercap iso_alpha  \\\n",
       "0     Afghanistan      Asia  1952   28.801   8425333  779.445314       AFG   \n",
       "1     Afghanistan      Asia  1957   30.332   9240934  820.853030       AFG   \n",
       "2     Afghanistan      Asia  1962   31.997  10267083  853.100710       AFG   \n",
       "3     Afghanistan      Asia  1967   34.020  11537966  836.197138       AFG   \n",
       "4     Afghanistan      Asia  1972   36.088  13079460  739.981106       AFG   \n",
       "...           ...       ...   ...      ...       ...         ...       ...   \n",
       "1699     Zimbabwe    Africa  1987   62.351   9216418  706.157306       ZWE   \n",
       "1700     Zimbabwe    Africa  1992   60.377  10704340  693.420786       ZWE   \n",
       "1701     Zimbabwe    Africa  1997   46.809  11404948  792.449960       ZWE   \n",
       "1702     Zimbabwe    Africa  2002   39.989  11926563  672.038623       ZWE   \n",
       "1703     Zimbabwe    Africa  2007   43.487  12311143  469.709298       ZWE   \n",
       "\n",
       "      iso_num  \n",
       "0           4  \n",
       "1           4  \n",
       "2           4  \n",
       "3           4  \n",
       "4           4  \n",
       "...       ...  \n",
       "1699      716  \n",
       "1700      716  \n",
       "1701      716  \n",
       "1702      716  \n",
       "1703      716  \n",
       "\n",
       "[1704 rows x 8 columns]"
      ]
     },
     "execution_count": 2,
     "metadata": {},
     "output_type": "execute_result"
    }
   ],
   "source": [
    "df_"
   ]
  },
  {
   "cell_type": "code",
   "execution_count": null,
   "id": "5848ed06",
   "metadata": {},
   "outputs": [],
   "source": []
  },
  {
   "cell_type": "markdown",
   "id": "4957b375",
   "metadata": {},
   "source": [
    "## Plotly Express\n",
    "\n",
    "- Very easy to start\n",
    "- Powerful one liners and some customization out of the box\n",
    "- Still a lot of features for static presentations\n"
   ]
  },
  {
   "cell_type": "markdown",
   "id": "0936f83e",
   "metadata": {},
   "source": [
    "### Scatter Plots\n"
   ]
  },
  {
   "cell_type": "code",
   "execution_count": 3,
   "id": "980c5e2e",
   "metadata": {},
   "outputs": [
    {
     "data": {
      "application/vnd.plotly.v1+json": {
       "config": {
        "plotlyServerURL": "https://plot.ly"
       },
       "data": [
        {
         "hovertemplate": "gdpPercap=%{x}<br>lifeExp=%{y}<extra></extra>",
         "legendgroup": "",
         "marker": {
          "color": "#636efa",
          "symbol": "circle"
         },
         "mode": "markers",
         "name": "",
         "orientation": "v",
         "showlegend": false,
         "type": "scatter",
         "x": [
          5937.029525999998,
          36126.4927,
          33692.60508,
          7446.298803,
          10680.79282,
          14619.222719999998,
          22833.30851,
          35278.41874,
          33207.0844,
          30470.0167,
          32170.37442,
          27538.41188,
          18008.94444,
          36180.78919,
          40675.99635,
          28569.7197,
          9253.896111,
          36797.93332,
          49357.19017,
          15389.924680000002,
          20509.64777,
          10808.47561,
          9786.534714,
          18678.31435,
          25768.25759,
          28821.0637,
          33859.74835,
          37506.41907,
          8458.276384,
          33203.26128
         ],
         "xaxis": "x",
         "y": [
          76.423,
          79.829,
          79.441,
          74.852,
          73.005,
          75.748,
          76.486,
          78.332,
          79.313,
          80.657,
          79.406,
          79.483,
          73.33800000000002,
          81.757,
          78.885,
          80.546,
          74.543,
          79.762,
          80.196,
          75.563,
          78.098,
          72.476,
          74.002,
          74.663,
          77.926,
          80.941,
          80.884,
          81.70100000000002,
          71.777,
          79.425
         ],
         "yaxis": "y"
        }
       ],
       "layout": {
        "legend": {
         "tracegroupgap": 0
        },
        "margin": {
         "t": 60
        },
        "template": {
         "data": {
          "bar": [
           {
            "error_x": {
             "color": "#2a3f5f"
            },
            "error_y": {
             "color": "#2a3f5f"
            },
            "marker": {
             "line": {
              "color": "#E5ECF6",
              "width": 0.5
             },
             "pattern": {
              "fillmode": "overlay",
              "size": 10,
              "solidity": 0.2
             }
            },
            "type": "bar"
           }
          ],
          "barpolar": [
           {
            "marker": {
             "line": {
              "color": "#E5ECF6",
              "width": 0.5
             },
             "pattern": {
              "fillmode": "overlay",
              "size": 10,
              "solidity": 0.2
             }
            },
            "type": "barpolar"
           }
          ],
          "carpet": [
           {
            "aaxis": {
             "endlinecolor": "#2a3f5f",
             "gridcolor": "white",
             "linecolor": "white",
             "minorgridcolor": "white",
             "startlinecolor": "#2a3f5f"
            },
            "baxis": {
             "endlinecolor": "#2a3f5f",
             "gridcolor": "white",
             "linecolor": "white",
             "minorgridcolor": "white",
             "startlinecolor": "#2a3f5f"
            },
            "type": "carpet"
           }
          ],
          "choropleth": [
           {
            "colorbar": {
             "outlinewidth": 0,
             "ticks": ""
            },
            "type": "choropleth"
           }
          ],
          "contour": [
           {
            "colorbar": {
             "outlinewidth": 0,
             "ticks": ""
            },
            "colorscale": [
             [
              0,
              "#0d0887"
             ],
             [
              0.1111111111111111,
              "#46039f"
             ],
             [
              0.2222222222222222,
              "#7201a8"
             ],
             [
              0.3333333333333333,
              "#9c179e"
             ],
             [
              0.4444444444444444,
              "#bd3786"
             ],
             [
              0.5555555555555556,
              "#d8576b"
             ],
             [
              0.6666666666666666,
              "#ed7953"
             ],
             [
              0.7777777777777778,
              "#fb9f3a"
             ],
             [
              0.8888888888888888,
              "#fdca26"
             ],
             [
              1,
              "#f0f921"
             ]
            ],
            "type": "contour"
           }
          ],
          "contourcarpet": [
           {
            "colorbar": {
             "outlinewidth": 0,
             "ticks": ""
            },
            "type": "contourcarpet"
           }
          ],
          "heatmap": [
           {
            "colorbar": {
             "outlinewidth": 0,
             "ticks": ""
            },
            "colorscale": [
             [
              0,
              "#0d0887"
             ],
             [
              0.1111111111111111,
              "#46039f"
             ],
             [
              0.2222222222222222,
              "#7201a8"
             ],
             [
              0.3333333333333333,
              "#9c179e"
             ],
             [
              0.4444444444444444,
              "#bd3786"
             ],
             [
              0.5555555555555556,
              "#d8576b"
             ],
             [
              0.6666666666666666,
              "#ed7953"
             ],
             [
              0.7777777777777778,
              "#fb9f3a"
             ],
             [
              0.8888888888888888,
              "#fdca26"
             ],
             [
              1,
              "#f0f921"
             ]
            ],
            "type": "heatmap"
           }
          ],
          "heatmapgl": [
           {
            "colorbar": {
             "outlinewidth": 0,
             "ticks": ""
            },
            "colorscale": [
             [
              0,
              "#0d0887"
             ],
             [
              0.1111111111111111,
              "#46039f"
             ],
             [
              0.2222222222222222,
              "#7201a8"
             ],
             [
              0.3333333333333333,
              "#9c179e"
             ],
             [
              0.4444444444444444,
              "#bd3786"
             ],
             [
              0.5555555555555556,
              "#d8576b"
             ],
             [
              0.6666666666666666,
              "#ed7953"
             ],
             [
              0.7777777777777778,
              "#fb9f3a"
             ],
             [
              0.8888888888888888,
              "#fdca26"
             ],
             [
              1,
              "#f0f921"
             ]
            ],
            "type": "heatmapgl"
           }
          ],
          "histogram": [
           {
            "marker": {
             "pattern": {
              "fillmode": "overlay",
              "size": 10,
              "solidity": 0.2
             }
            },
            "type": "histogram"
           }
          ],
          "histogram2d": [
           {
            "colorbar": {
             "outlinewidth": 0,
             "ticks": ""
            },
            "colorscale": [
             [
              0,
              "#0d0887"
             ],
             [
              0.1111111111111111,
              "#46039f"
             ],
             [
              0.2222222222222222,
              "#7201a8"
             ],
             [
              0.3333333333333333,
              "#9c179e"
             ],
             [
              0.4444444444444444,
              "#bd3786"
             ],
             [
              0.5555555555555556,
              "#d8576b"
             ],
             [
              0.6666666666666666,
              "#ed7953"
             ],
             [
              0.7777777777777778,
              "#fb9f3a"
             ],
             [
              0.8888888888888888,
              "#fdca26"
             ],
             [
              1,
              "#f0f921"
             ]
            ],
            "type": "histogram2d"
           }
          ],
          "histogram2dcontour": [
           {
            "colorbar": {
             "outlinewidth": 0,
             "ticks": ""
            },
            "colorscale": [
             [
              0,
              "#0d0887"
             ],
             [
              0.1111111111111111,
              "#46039f"
             ],
             [
              0.2222222222222222,
              "#7201a8"
             ],
             [
              0.3333333333333333,
              "#9c179e"
             ],
             [
              0.4444444444444444,
              "#bd3786"
             ],
             [
              0.5555555555555556,
              "#d8576b"
             ],
             [
              0.6666666666666666,
              "#ed7953"
             ],
             [
              0.7777777777777778,
              "#fb9f3a"
             ],
             [
              0.8888888888888888,
              "#fdca26"
             ],
             [
              1,
              "#f0f921"
             ]
            ],
            "type": "histogram2dcontour"
           }
          ],
          "mesh3d": [
           {
            "colorbar": {
             "outlinewidth": 0,
             "ticks": ""
            },
            "type": "mesh3d"
           }
          ],
          "parcoords": [
           {
            "line": {
             "colorbar": {
              "outlinewidth": 0,
              "ticks": ""
             }
            },
            "type": "parcoords"
           }
          ],
          "pie": [
           {
            "automargin": true,
            "type": "pie"
           }
          ],
          "scatter": [
           {
            "fillpattern": {
             "fillmode": "overlay",
             "size": 10,
             "solidity": 0.2
            },
            "type": "scatter"
           }
          ],
          "scatter3d": [
           {
            "line": {
             "colorbar": {
              "outlinewidth": 0,
              "ticks": ""
             }
            },
            "marker": {
             "colorbar": {
              "outlinewidth": 0,
              "ticks": ""
             }
            },
            "type": "scatter3d"
           }
          ],
          "scattercarpet": [
           {
            "marker": {
             "colorbar": {
              "outlinewidth": 0,
              "ticks": ""
             }
            },
            "type": "scattercarpet"
           }
          ],
          "scattergeo": [
           {
            "marker": {
             "colorbar": {
              "outlinewidth": 0,
              "ticks": ""
             }
            },
            "type": "scattergeo"
           }
          ],
          "scattergl": [
           {
            "marker": {
             "colorbar": {
              "outlinewidth": 0,
              "ticks": ""
             }
            },
            "type": "scattergl"
           }
          ],
          "scattermapbox": [
           {
            "marker": {
             "colorbar": {
              "outlinewidth": 0,
              "ticks": ""
             }
            },
            "type": "scattermapbox"
           }
          ],
          "scatterpolar": [
           {
            "marker": {
             "colorbar": {
              "outlinewidth": 0,
              "ticks": ""
             }
            },
            "type": "scatterpolar"
           }
          ],
          "scatterpolargl": [
           {
            "marker": {
             "colorbar": {
              "outlinewidth": 0,
              "ticks": ""
             }
            },
            "type": "scatterpolargl"
           }
          ],
          "scatterternary": [
           {
            "marker": {
             "colorbar": {
              "outlinewidth": 0,
              "ticks": ""
             }
            },
            "type": "scatterternary"
           }
          ],
          "surface": [
           {
            "colorbar": {
             "outlinewidth": 0,
             "ticks": ""
            },
            "colorscale": [
             [
              0,
              "#0d0887"
             ],
             [
              0.1111111111111111,
              "#46039f"
             ],
             [
              0.2222222222222222,
              "#7201a8"
             ],
             [
              0.3333333333333333,
              "#9c179e"
             ],
             [
              0.4444444444444444,
              "#bd3786"
             ],
             [
              0.5555555555555556,
              "#d8576b"
             ],
             [
              0.6666666666666666,
              "#ed7953"
             ],
             [
              0.7777777777777778,
              "#fb9f3a"
             ],
             [
              0.8888888888888888,
              "#fdca26"
             ],
             [
              1,
              "#f0f921"
             ]
            ],
            "type": "surface"
           }
          ],
          "table": [
           {
            "cells": {
             "fill": {
              "color": "#EBF0F8"
             },
             "line": {
              "color": "white"
             }
            },
            "header": {
             "fill": {
              "color": "#C8D4E3"
             },
             "line": {
              "color": "white"
             }
            },
            "type": "table"
           }
          ]
         },
         "layout": {
          "annotationdefaults": {
           "arrowcolor": "#2a3f5f",
           "arrowhead": 0,
           "arrowwidth": 1
          },
          "autotypenumbers": "strict",
          "coloraxis": {
           "colorbar": {
            "outlinewidth": 0,
            "ticks": ""
           }
          },
          "colorscale": {
           "diverging": [
            [
             0,
             "#8e0152"
            ],
            [
             0.1,
             "#c51b7d"
            ],
            [
             0.2,
             "#de77ae"
            ],
            [
             0.3,
             "#f1b6da"
            ],
            [
             0.4,
             "#fde0ef"
            ],
            [
             0.5,
             "#f7f7f7"
            ],
            [
             0.6,
             "#e6f5d0"
            ],
            [
             0.7,
             "#b8e186"
            ],
            [
             0.8,
             "#7fbc41"
            ],
            [
             0.9,
             "#4d9221"
            ],
            [
             1,
             "#276419"
            ]
           ],
           "sequential": [
            [
             0,
             "#0d0887"
            ],
            [
             0.1111111111111111,
             "#46039f"
            ],
            [
             0.2222222222222222,
             "#7201a8"
            ],
            [
             0.3333333333333333,
             "#9c179e"
            ],
            [
             0.4444444444444444,
             "#bd3786"
            ],
            [
             0.5555555555555556,
             "#d8576b"
            ],
            [
             0.6666666666666666,
             "#ed7953"
            ],
            [
             0.7777777777777778,
             "#fb9f3a"
            ],
            [
             0.8888888888888888,
             "#fdca26"
            ],
            [
             1,
             "#f0f921"
            ]
           ],
           "sequentialminus": [
            [
             0,
             "#0d0887"
            ],
            [
             0.1111111111111111,
             "#46039f"
            ],
            [
             0.2222222222222222,
             "#7201a8"
            ],
            [
             0.3333333333333333,
             "#9c179e"
            ],
            [
             0.4444444444444444,
             "#bd3786"
            ],
            [
             0.5555555555555556,
             "#d8576b"
            ],
            [
             0.6666666666666666,
             "#ed7953"
            ],
            [
             0.7777777777777778,
             "#fb9f3a"
            ],
            [
             0.8888888888888888,
             "#fdca26"
            ],
            [
             1,
             "#f0f921"
            ]
           ]
          },
          "colorway": [
           "#636efa",
           "#EF553B",
           "#00cc96",
           "#ab63fa",
           "#FFA15A",
           "#19d3f3",
           "#FF6692",
           "#B6E880",
           "#FF97FF",
           "#FECB52"
          ],
          "font": {
           "color": "#2a3f5f"
          },
          "geo": {
           "bgcolor": "white",
           "lakecolor": "white",
           "landcolor": "#E5ECF6",
           "showlakes": true,
           "showland": true,
           "subunitcolor": "white"
          },
          "hoverlabel": {
           "align": "left"
          },
          "hovermode": "closest",
          "mapbox": {
           "style": "light"
          },
          "paper_bgcolor": "white",
          "plot_bgcolor": "#E5ECF6",
          "polar": {
           "angularaxis": {
            "gridcolor": "white",
            "linecolor": "white",
            "ticks": ""
           },
           "bgcolor": "#E5ECF6",
           "radialaxis": {
            "gridcolor": "white",
            "linecolor": "white",
            "ticks": ""
           }
          },
          "scene": {
           "xaxis": {
            "backgroundcolor": "#E5ECF6",
            "gridcolor": "white",
            "gridwidth": 2,
            "linecolor": "white",
            "showbackground": true,
            "ticks": "",
            "zerolinecolor": "white"
           },
           "yaxis": {
            "backgroundcolor": "#E5ECF6",
            "gridcolor": "white",
            "gridwidth": 2,
            "linecolor": "white",
            "showbackground": true,
            "ticks": "",
            "zerolinecolor": "white"
           },
           "zaxis": {
            "backgroundcolor": "#E5ECF6",
            "gridcolor": "white",
            "gridwidth": 2,
            "linecolor": "white",
            "showbackground": true,
            "ticks": "",
            "zerolinecolor": "white"
           }
          },
          "shapedefaults": {
           "line": {
            "color": "#2a3f5f"
           }
          },
          "ternary": {
           "aaxis": {
            "gridcolor": "white",
            "linecolor": "white",
            "ticks": ""
           },
           "baxis": {
            "gridcolor": "white",
            "linecolor": "white",
            "ticks": ""
           },
           "bgcolor": "#E5ECF6",
           "caxis": {
            "gridcolor": "white",
            "linecolor": "white",
            "ticks": ""
           }
          },
          "title": {
           "x": 0.05
          },
          "xaxis": {
           "automargin": true,
           "gridcolor": "white",
           "linecolor": "white",
           "ticks": "",
           "title": {
            "standoff": 15
           },
           "zerolinecolor": "white",
           "zerolinewidth": 2
          },
          "yaxis": {
           "automargin": true,
           "gridcolor": "white",
           "linecolor": "white",
           "ticks": "",
           "title": {
            "standoff": 15
           },
           "zerolinecolor": "white",
           "zerolinewidth": 2
          }
         }
        },
        "xaxis": {
         "anchor": "y",
         "domain": [
          0,
          1
         ],
         "title": {
          "text": "gdpPercap"
         }
        },
        "yaxis": {
         "anchor": "x",
         "domain": [
          0,
          1
         ],
         "title": {
          "text": "lifeExp"
         }
        }
       }
      }
     },
     "metadata": {},
     "output_type": "display_data"
    }
   ],
   "source": [
    "# https://plotly.com/python/line-and-scatter/#scatter-plots-with-plotly-express\n",
    "df = df_[(df_.continent=='Europe')&(df_.year==2007)]\n",
    "fig = px.scatter(df, x='gdpPercap', y='lifeExp')\n",
    "fig.show()"
   ]
  },
  {
   "cell_type": "code",
   "execution_count": null,
   "id": "ea2724fe",
   "metadata": {},
   "outputs": [
    {
     "data": {
      "text/html": [
       "<div>\n",
       "<style scoped>\n",
       "    .dataframe tbody tr th:only-of-type {\n",
       "        vertical-align: middle;\n",
       "    }\n",
       "\n",
       "    .dataframe tbody tr th {\n",
       "        vertical-align: top;\n",
       "    }\n",
       "\n",
       "    .dataframe thead th {\n",
       "        text-align: right;\n",
       "    }\n",
       "</style>\n",
       "<table border=\"1\" class=\"dataframe\">\n",
       "  <thead>\n",
       "    <tr style=\"text-align: right;\">\n",
       "      <th></th>\n",
       "      <th>country</th>\n",
       "      <th>continent</th>\n",
       "      <th>year</th>\n",
       "      <th>lifeExp</th>\n",
       "      <th>pop</th>\n",
       "      <th>gdpPercap</th>\n",
       "      <th>iso_alpha</th>\n",
       "      <th>iso_num</th>\n",
       "    </tr>\n",
       "  </thead>\n",
       "  <tbody>\n",
       "    <tr>\n",
       "      <th>23</th>\n",
       "      <td>Albania</td>\n",
       "      <td>Europe</td>\n",
       "      <td>2007</td>\n",
       "      <td>76.423</td>\n",
       "      <td>3600523</td>\n",
       "      <td>5937.029526</td>\n",
       "      <td>ALB</td>\n",
       "      <td>8</td>\n",
       "    </tr>\n",
       "    <tr>\n",
       "      <th>83</th>\n",
       "      <td>Austria</td>\n",
       "      <td>Europe</td>\n",
       "      <td>2007</td>\n",
       "      <td>79.829</td>\n",
       "      <td>8199783</td>\n",
       "      <td>36126.492700</td>\n",
       "      <td>AUT</td>\n",
       "      <td>40</td>\n",
       "    </tr>\n",
       "    <tr>\n",
       "      <th>119</th>\n",
       "      <td>Belgium</td>\n",
       "      <td>Europe</td>\n",
       "      <td>2007</td>\n",
       "      <td>79.441</td>\n",
       "      <td>10392226</td>\n",
       "      <td>33692.605080</td>\n",
       "      <td>BEL</td>\n",
       "      <td>56</td>\n",
       "    </tr>\n",
       "    <tr>\n",
       "      <th>155</th>\n",
       "      <td>Bosnia and Herzegovina</td>\n",
       "      <td>Europe</td>\n",
       "      <td>2007</td>\n",
       "      <td>74.852</td>\n",
       "      <td>4552198</td>\n",
       "      <td>7446.298803</td>\n",
       "      <td>BIH</td>\n",
       "      <td>70</td>\n",
       "    </tr>\n",
       "    <tr>\n",
       "      <th>191</th>\n",
       "      <td>Bulgaria</td>\n",
       "      <td>Europe</td>\n",
       "      <td>2007</td>\n",
       "      <td>73.005</td>\n",
       "      <td>7322858</td>\n",
       "      <td>10680.792820</td>\n",
       "      <td>BGR</td>\n",
       "      <td>100</td>\n",
       "    </tr>\n",
       "    <tr>\n",
       "      <th>383</th>\n",
       "      <td>Croatia</td>\n",
       "      <td>Europe</td>\n",
       "      <td>2007</td>\n",
       "      <td>75.748</td>\n",
       "      <td>4493312</td>\n",
       "      <td>14619.222720</td>\n",
       "      <td>HRV</td>\n",
       "      <td>191</td>\n",
       "    </tr>\n",
       "    <tr>\n",
       "      <th>407</th>\n",
       "      <td>Czech Republic</td>\n",
       "      <td>Europe</td>\n",
       "      <td>2007</td>\n",
       "      <td>76.486</td>\n",
       "      <td>10228744</td>\n",
       "      <td>22833.308510</td>\n",
       "      <td>CZE</td>\n",
       "      <td>203</td>\n",
       "    </tr>\n",
       "    <tr>\n",
       "      <th>419</th>\n",
       "      <td>Denmark</td>\n",
       "      <td>Europe</td>\n",
       "      <td>2007</td>\n",
       "      <td>78.332</td>\n",
       "      <td>5468120</td>\n",
       "      <td>35278.418740</td>\n",
       "      <td>DNK</td>\n",
       "      <td>208</td>\n",
       "    </tr>\n",
       "    <tr>\n",
       "      <th>527</th>\n",
       "      <td>Finland</td>\n",
       "      <td>Europe</td>\n",
       "      <td>2007</td>\n",
       "      <td>79.313</td>\n",
       "      <td>5238460</td>\n",
       "      <td>33207.084400</td>\n",
       "      <td>FIN</td>\n",
       "      <td>246</td>\n",
       "    </tr>\n",
       "    <tr>\n",
       "      <th>539</th>\n",
       "      <td>France</td>\n",
       "      <td>Europe</td>\n",
       "      <td>2007</td>\n",
       "      <td>80.657</td>\n",
       "      <td>61083916</td>\n",
       "      <td>30470.016700</td>\n",
       "      <td>FRA</td>\n",
       "      <td>250</td>\n",
       "    </tr>\n",
       "    <tr>\n",
       "      <th>575</th>\n",
       "      <td>Germany</td>\n",
       "      <td>Europe</td>\n",
       "      <td>2007</td>\n",
       "      <td>79.406</td>\n",
       "      <td>82400996</td>\n",
       "      <td>32170.374420</td>\n",
       "      <td>DEU</td>\n",
       "      <td>276</td>\n",
       "    </tr>\n",
       "    <tr>\n",
       "      <th>599</th>\n",
       "      <td>Greece</td>\n",
       "      <td>Europe</td>\n",
       "      <td>2007</td>\n",
       "      <td>79.483</td>\n",
       "      <td>10706290</td>\n",
       "      <td>27538.411880</td>\n",
       "      <td>GRC</td>\n",
       "      <td>300</td>\n",
       "    </tr>\n",
       "    <tr>\n",
       "      <th>683</th>\n",
       "      <td>Hungary</td>\n",
       "      <td>Europe</td>\n",
       "      <td>2007</td>\n",
       "      <td>73.338</td>\n",
       "      <td>9956108</td>\n",
       "      <td>18008.944440</td>\n",
       "      <td>HUN</td>\n",
       "      <td>348</td>\n",
       "    </tr>\n",
       "    <tr>\n",
       "      <th>695</th>\n",
       "      <td>Iceland</td>\n",
       "      <td>Europe</td>\n",
       "      <td>2007</td>\n",
       "      <td>81.757</td>\n",
       "      <td>301931</td>\n",
       "      <td>36180.789190</td>\n",
       "      <td>ISL</td>\n",
       "      <td>352</td>\n",
       "    </tr>\n",
       "    <tr>\n",
       "      <th>755</th>\n",
       "      <td>Ireland</td>\n",
       "      <td>Europe</td>\n",
       "      <td>2007</td>\n",
       "      <td>78.885</td>\n",
       "      <td>4109086</td>\n",
       "      <td>40675.996350</td>\n",
       "      <td>IRL</td>\n",
       "      <td>372</td>\n",
       "    </tr>\n",
       "    <tr>\n",
       "      <th>779</th>\n",
       "      <td>Italy</td>\n",
       "      <td>Europe</td>\n",
       "      <td>2007</td>\n",
       "      <td>80.546</td>\n",
       "      <td>58147733</td>\n",
       "      <td>28569.719700</td>\n",
       "      <td>ITA</td>\n",
       "      <td>380</td>\n",
       "    </tr>\n",
       "    <tr>\n",
       "      <th>1019</th>\n",
       "      <td>Montenegro</td>\n",
       "      <td>Europe</td>\n",
       "      <td>2007</td>\n",
       "      <td>74.543</td>\n",
       "      <td>684736</td>\n",
       "      <td>9253.896111</td>\n",
       "      <td>MNE</td>\n",
       "      <td>499</td>\n",
       "    </tr>\n",
       "    <tr>\n",
       "      <th>1091</th>\n",
       "      <td>Netherlands</td>\n",
       "      <td>Europe</td>\n",
       "      <td>2007</td>\n",
       "      <td>79.762</td>\n",
       "      <td>16570613</td>\n",
       "      <td>36797.933320</td>\n",
       "      <td>NLD</td>\n",
       "      <td>528</td>\n",
       "    </tr>\n",
       "    <tr>\n",
       "      <th>1151</th>\n",
       "      <td>Norway</td>\n",
       "      <td>Europe</td>\n",
       "      <td>2007</td>\n",
       "      <td>80.196</td>\n",
       "      <td>4627926</td>\n",
       "      <td>49357.190170</td>\n",
       "      <td>NOR</td>\n",
       "      <td>578</td>\n",
       "    </tr>\n",
       "    <tr>\n",
       "      <th>1235</th>\n",
       "      <td>Poland</td>\n",
       "      <td>Europe</td>\n",
       "      <td>2007</td>\n",
       "      <td>75.563</td>\n",
       "      <td>38518241</td>\n",
       "      <td>15389.924680</td>\n",
       "      <td>POL</td>\n",
       "      <td>616</td>\n",
       "    </tr>\n",
       "    <tr>\n",
       "      <th>1247</th>\n",
       "      <td>Portugal</td>\n",
       "      <td>Europe</td>\n",
       "      <td>2007</td>\n",
       "      <td>78.098</td>\n",
       "      <td>10642836</td>\n",
       "      <td>20509.647770</td>\n",
       "      <td>PRT</td>\n",
       "      <td>620</td>\n",
       "    </tr>\n",
       "    <tr>\n",
       "      <th>1283</th>\n",
       "      <td>Romania</td>\n",
       "      <td>Europe</td>\n",
       "      <td>2007</td>\n",
       "      <td>72.476</td>\n",
       "      <td>22276056</td>\n",
       "      <td>10808.475610</td>\n",
       "      <td>ROU</td>\n",
       "      <td>642</td>\n",
       "    </tr>\n",
       "    <tr>\n",
       "      <th>1343</th>\n",
       "      <td>Serbia</td>\n",
       "      <td>Europe</td>\n",
       "      <td>2007</td>\n",
       "      <td>74.002</td>\n",
       "      <td>10150265</td>\n",
       "      <td>9786.534714</td>\n",
       "      <td>SRB</td>\n",
       "      <td>688</td>\n",
       "    </tr>\n",
       "    <tr>\n",
       "      <th>1379</th>\n",
       "      <td>Slovak Republic</td>\n",
       "      <td>Europe</td>\n",
       "      <td>2007</td>\n",
       "      <td>74.663</td>\n",
       "      <td>5447502</td>\n",
       "      <td>18678.314350</td>\n",
       "      <td>SVK</td>\n",
       "      <td>703</td>\n",
       "    </tr>\n",
       "    <tr>\n",
       "      <th>1391</th>\n",
       "      <td>Slovenia</td>\n",
       "      <td>Europe</td>\n",
       "      <td>2007</td>\n",
       "      <td>77.926</td>\n",
       "      <td>2009245</td>\n",
       "      <td>25768.257590</td>\n",
       "      <td>SVN</td>\n",
       "      <td>705</td>\n",
       "    </tr>\n",
       "    <tr>\n",
       "      <th>1427</th>\n",
       "      <td>Spain</td>\n",
       "      <td>Europe</td>\n",
       "      <td>2007</td>\n",
       "      <td>80.941</td>\n",
       "      <td>40448191</td>\n",
       "      <td>28821.063700</td>\n",
       "      <td>ESP</td>\n",
       "      <td>724</td>\n",
       "    </tr>\n",
       "    <tr>\n",
       "      <th>1475</th>\n",
       "      <td>Sweden</td>\n",
       "      <td>Europe</td>\n",
       "      <td>2007</td>\n",
       "      <td>80.884</td>\n",
       "      <td>9031088</td>\n",
       "      <td>33859.748350</td>\n",
       "      <td>SWE</td>\n",
       "      <td>752</td>\n",
       "    </tr>\n",
       "    <tr>\n",
       "      <th>1487</th>\n",
       "      <td>Switzerland</td>\n",
       "      <td>Europe</td>\n",
       "      <td>2007</td>\n",
       "      <td>81.701</td>\n",
       "      <td>7554661</td>\n",
       "      <td>37506.419070</td>\n",
       "      <td>CHE</td>\n",
       "      <td>756</td>\n",
       "    </tr>\n",
       "    <tr>\n",
       "      <th>1583</th>\n",
       "      <td>Turkey</td>\n",
       "      <td>Europe</td>\n",
       "      <td>2007</td>\n",
       "      <td>71.777</td>\n",
       "      <td>71158647</td>\n",
       "      <td>8458.276384</td>\n",
       "      <td>TUR</td>\n",
       "      <td>792</td>\n",
       "    </tr>\n",
       "    <tr>\n",
       "      <th>1607</th>\n",
       "      <td>United Kingdom</td>\n",
       "      <td>Europe</td>\n",
       "      <td>2007</td>\n",
       "      <td>79.425</td>\n",
       "      <td>60776238</td>\n",
       "      <td>33203.261280</td>\n",
       "      <td>GBR</td>\n",
       "      <td>826</td>\n",
       "    </tr>\n",
       "  </tbody>\n",
       "</table>\n",
       "</div>"
      ],
      "text/plain": [
       "                     country continent  year  lifeExp       pop     gdpPercap  \\\n",
       "23                   Albania    Europe  2007   76.423   3600523   5937.029526   \n",
       "83                   Austria    Europe  2007   79.829   8199783  36126.492700   \n",
       "119                  Belgium    Europe  2007   79.441  10392226  33692.605080   \n",
       "155   Bosnia and Herzegovina    Europe  2007   74.852   4552198   7446.298803   \n",
       "191                 Bulgaria    Europe  2007   73.005   7322858  10680.792820   \n",
       "383                  Croatia    Europe  2007   75.748   4493312  14619.222720   \n",
       "407           Czech Republic    Europe  2007   76.486  10228744  22833.308510   \n",
       "419                  Denmark    Europe  2007   78.332   5468120  35278.418740   \n",
       "527                  Finland    Europe  2007   79.313   5238460  33207.084400   \n",
       "539                   France    Europe  2007   80.657  61083916  30470.016700   \n",
       "575                  Germany    Europe  2007   79.406  82400996  32170.374420   \n",
       "599                   Greece    Europe  2007   79.483  10706290  27538.411880   \n",
       "683                  Hungary    Europe  2007   73.338   9956108  18008.944440   \n",
       "695                  Iceland    Europe  2007   81.757    301931  36180.789190   \n",
       "755                  Ireland    Europe  2007   78.885   4109086  40675.996350   \n",
       "779                    Italy    Europe  2007   80.546  58147733  28569.719700   \n",
       "1019              Montenegro    Europe  2007   74.543    684736   9253.896111   \n",
       "1091             Netherlands    Europe  2007   79.762  16570613  36797.933320   \n",
       "1151                  Norway    Europe  2007   80.196   4627926  49357.190170   \n",
       "1235                  Poland    Europe  2007   75.563  38518241  15389.924680   \n",
       "1247                Portugal    Europe  2007   78.098  10642836  20509.647770   \n",
       "1283                 Romania    Europe  2007   72.476  22276056  10808.475610   \n",
       "1343                  Serbia    Europe  2007   74.002  10150265   9786.534714   \n",
       "1379         Slovak Republic    Europe  2007   74.663   5447502  18678.314350   \n",
       "1391                Slovenia    Europe  2007   77.926   2009245  25768.257590   \n",
       "1427                   Spain    Europe  2007   80.941  40448191  28821.063700   \n",
       "1475                  Sweden    Europe  2007   80.884   9031088  33859.748350   \n",
       "1487             Switzerland    Europe  2007   81.701   7554661  37506.419070   \n",
       "1583                  Turkey    Europe  2007   71.777  71158647   8458.276384   \n",
       "1607          United Kingdom    Europe  2007   79.425  60776238  33203.261280   \n",
       "\n",
       "     iso_alpha  iso_num  \n",
       "23         ALB        8  \n",
       "83         AUT       40  \n",
       "119        BEL       56  \n",
       "155        BIH       70  \n",
       "191        BGR      100  \n",
       "383        HRV      191  \n",
       "407        CZE      203  \n",
       "419        DNK      208  \n",
       "527        FIN      246  \n",
       "539        FRA      250  \n",
       "575        DEU      276  \n",
       "599        GRC      300  \n",
       "683        HUN      348  \n",
       "695        ISL      352  \n",
       "755        IRL      372  \n",
       "779        ITA      380  \n",
       "1019       MNE      499  \n",
       "1091       NLD      528  \n",
       "1151       NOR      578  \n",
       "1235       POL      616  \n",
       "1247       PRT      620  \n",
       "1283       ROU      642  \n",
       "1343       SRB      688  \n",
       "1379       SVK      703  \n",
       "1391       SVN      705  \n",
       "1427       ESP      724  \n",
       "1475       SWE      752  \n",
       "1487       CHE      756  \n",
       "1583       TUR      792  \n",
       "1607       GBR      826  "
      ]
     },
     "execution_count": 4,
     "metadata": {},
     "output_type": "execute_result"
    }
   ],
   "source": [
    "# https://plotly.com/python-api-reference/plotly.express.html\n",
    "\n",
    "df = df_[(df_.continent=='Europe')&(df_.year==2007)]\n",
    "fig = px.scatter(df, x='gdpPercap', y='lifeExp', size='pop', color='country',\n",
    "                 size_max=60, hover_data=['iso_alpha'], hover_name='country')\n",
    "fig.show()\n"
   ]
  },
  {
   "cell_type": "code",
   "execution_count": 5,
   "id": "1c635d92",
   "metadata": {},
   "outputs": [
    {
     "data": {
      "application/vnd.plotly.v1+json": {
       "config": {
        "plotlyServerURL": "https://plot.ly"
       },
       "data": [
        {
         "hovertemplate": "country=Albania<br>year=1992<br>gdpPercap=%{x}<br>lifeExp=%{y}<extra></extra>",
         "legendgroup": "Albania",
         "marker": {
          "color": "#636efa",
          "symbol": "circle"
         },
         "mode": "markers",
         "name": "Albania",
         "orientation": "v",
         "showlegend": true,
         "type": "scatter",
         "x": [
          2497.4379010000002
         ],
         "xaxis": "x4",
         "y": [
          71.581
         ],
         "yaxis": "y4"
        },
        {
         "hovertemplate": "country=Albania<br>year=1997<br>gdpPercap=%{x}<br>lifeExp=%{y}<extra></extra>",
         "legendgroup": "Albania",
         "marker": {
          "color": "#636efa",
          "symbol": "circle"
         },
         "mode": "markers",
         "name": "Albania",
         "orientation": "v",
         "showlegend": false,
         "type": "scatter",
         "x": [
          3193.054604
         ],
         "xaxis": "x3",
         "y": [
          72.95
         ],
         "yaxis": "y3"
        },
        {
         "hovertemplate": "country=Albania<br>year=2002<br>gdpPercap=%{x}<br>lifeExp=%{y}<extra></extra>",
         "legendgroup": "Albania",
         "marker": {
          "color": "#636efa",
          "symbol": "circle"
         },
         "mode": "markers",
         "name": "Albania",
         "orientation": "v",
         "showlegend": false,
         "type": "scatter",
         "x": [
          4604.211737
         ],
         "xaxis": "x2",
         "y": [
          75.65100000000002
         ],
         "yaxis": "y2"
        },
        {
         "hovertemplate": "country=Albania<br>year=2007<br>gdpPercap=%{x}<br>lifeExp=%{y}<extra></extra>",
         "legendgroup": "Albania",
         "marker": {
          "color": "#636efa",
          "symbol": "circle"
         },
         "mode": "markers",
         "name": "Albania",
         "orientation": "v",
         "showlegend": false,
         "type": "scatter",
         "x": [
          5937.0295259999975
         ],
         "xaxis": "x",
         "y": [
          76.423
         ],
         "yaxis": "y"
        },
        {
         "hovertemplate": "country=Austria<br>year=1992<br>gdpPercap=%{x}<br>lifeExp=%{y}<extra></extra>",
         "legendgroup": "Austria",
         "marker": {
          "color": "#EF553B",
          "symbol": "circle"
         },
         "mode": "markers",
         "name": "Austria",
         "orientation": "v",
         "showlegend": true,
         "type": "scatter",
         "x": [
          27042.01868
         ],
         "xaxis": "x4",
         "y": [
          76.04
         ],
         "yaxis": "y4"
        },
        {
         "hovertemplate": "country=Austria<br>year=1997<br>gdpPercap=%{x}<br>lifeExp=%{y}<extra></extra>",
         "legendgroup": "Austria",
         "marker": {
          "color": "#EF553B",
          "symbol": "circle"
         },
         "mode": "markers",
         "name": "Austria",
         "orientation": "v",
         "showlegend": false,
         "type": "scatter",
         "x": [
          29095.920660000003
         ],
         "xaxis": "x3",
         "y": [
          77.51
         ],
         "yaxis": "y3"
        },
        {
         "hovertemplate": "country=Austria<br>year=2002<br>gdpPercap=%{x}<br>lifeExp=%{y}<extra></extra>",
         "legendgroup": "Austria",
         "marker": {
          "color": "#EF553B",
          "symbol": "circle"
         },
         "mode": "markers",
         "name": "Austria",
         "orientation": "v",
         "showlegend": false,
         "type": "scatter",
         "x": [
          32417.607689999997
         ],
         "xaxis": "x2",
         "y": [
          78.98
         ],
         "yaxis": "y2"
        },
        {
         "hovertemplate": "country=Austria<br>year=2007<br>gdpPercap=%{x}<br>lifeExp=%{y}<extra></extra>",
         "legendgroup": "Austria",
         "marker": {
          "color": "#EF553B",
          "symbol": "circle"
         },
         "mode": "markers",
         "name": "Austria",
         "orientation": "v",
         "showlegend": false,
         "type": "scatter",
         "x": [
          36126.4927
         ],
         "xaxis": "x",
         "y": [
          79.829
         ],
         "yaxis": "y"
        },
        {
         "hovertemplate": "country=Belgium<br>year=1992<br>gdpPercap=%{x}<br>lifeExp=%{y}<extra></extra>",
         "legendgroup": "Belgium",
         "marker": {
          "color": "#00cc96",
          "symbol": "circle"
         },
         "mode": "markers",
         "name": "Belgium",
         "orientation": "v",
         "showlegend": true,
         "type": "scatter",
         "x": [
          25575.57069
         ],
         "xaxis": "x4",
         "y": [
          76.46
         ],
         "yaxis": "y4"
        },
        {
         "hovertemplate": "country=Belgium<br>year=1997<br>gdpPercap=%{x}<br>lifeExp=%{y}<extra></extra>",
         "legendgroup": "Belgium",
         "marker": {
          "color": "#00cc96",
          "symbol": "circle"
         },
         "mode": "markers",
         "name": "Belgium",
         "orientation": "v",
         "showlegend": false,
         "type": "scatter",
         "x": [
          27561.196630000002
         ],
         "xaxis": "x3",
         "y": [
          77.53
         ],
         "yaxis": "y3"
        },
        {
         "hovertemplate": "country=Belgium<br>year=2002<br>gdpPercap=%{x}<br>lifeExp=%{y}<extra></extra>",
         "legendgroup": "Belgium",
         "marker": {
          "color": "#00cc96",
          "symbol": "circle"
         },
         "mode": "markers",
         "name": "Belgium",
         "orientation": "v",
         "showlegend": false,
         "type": "scatter",
         "x": [
          30485.88375
         ],
         "xaxis": "x2",
         "y": [
          78.32
         ],
         "yaxis": "y2"
        },
        {
         "hovertemplate": "country=Belgium<br>year=2007<br>gdpPercap=%{x}<br>lifeExp=%{y}<extra></extra>",
         "legendgroup": "Belgium",
         "marker": {
          "color": "#00cc96",
          "symbol": "circle"
         },
         "mode": "markers",
         "name": "Belgium",
         "orientation": "v",
         "showlegend": false,
         "type": "scatter",
         "x": [
          33692.60508
         ],
         "xaxis": "x",
         "y": [
          79.441
         ],
         "yaxis": "y"
        },
        {
         "hovertemplate": "country=Bosnia and Herzegovina<br>year=1992<br>gdpPercap=%{x}<br>lifeExp=%{y}<extra></extra>",
         "legendgroup": "Bosnia and Herzegovina",
         "marker": {
          "color": "#ab63fa",
          "symbol": "circle"
         },
         "mode": "markers",
         "name": "Bosnia and Herzegovina",
         "orientation": "v",
         "showlegend": true,
         "type": "scatter",
         "x": [
          2546.781445
         ],
         "xaxis": "x4",
         "y": [
          72.178
         ],
         "yaxis": "y4"
        },
        {
         "hovertemplate": "country=Bosnia and Herzegovina<br>year=1997<br>gdpPercap=%{x}<br>lifeExp=%{y}<extra></extra>",
         "legendgroup": "Bosnia and Herzegovina",
         "marker": {
          "color": "#ab63fa",
          "symbol": "circle"
         },
         "mode": "markers",
         "name": "Bosnia and Herzegovina",
         "orientation": "v",
         "showlegend": false,
         "type": "scatter",
         "x": [
          4766.355904
         ],
         "xaxis": "x3",
         "y": [
          73.244
         ],
         "yaxis": "y3"
        },
        {
         "hovertemplate": "country=Bosnia and Herzegovina<br>year=2002<br>gdpPercap=%{x}<br>lifeExp=%{y}<extra></extra>",
         "legendgroup": "Bosnia and Herzegovina",
         "marker": {
          "color": "#ab63fa",
          "symbol": "circle"
         },
         "mode": "markers",
         "name": "Bosnia and Herzegovina",
         "orientation": "v",
         "showlegend": false,
         "type": "scatter",
         "x": [
          6018.975239
         ],
         "xaxis": "x2",
         "y": [
          74.09
         ],
         "yaxis": "y2"
        },
        {
         "hovertemplate": "country=Bosnia and Herzegovina<br>year=2007<br>gdpPercap=%{x}<br>lifeExp=%{y}<extra></extra>",
         "legendgroup": "Bosnia and Herzegovina",
         "marker": {
          "color": "#ab63fa",
          "symbol": "circle"
         },
         "mode": "markers",
         "name": "Bosnia and Herzegovina",
         "orientation": "v",
         "showlegend": false,
         "type": "scatter",
         "x": [
          7446.298803
         ],
         "xaxis": "x",
         "y": [
          74.852
         ],
         "yaxis": "y"
        },
        {
         "hovertemplate": "country=Bulgaria<br>year=1992<br>gdpPercap=%{x}<br>lifeExp=%{y}<extra></extra>",
         "legendgroup": "Bulgaria",
         "marker": {
          "color": "#FFA15A",
          "symbol": "circle"
         },
         "mode": "markers",
         "name": "Bulgaria",
         "orientation": "v",
         "showlegend": true,
         "type": "scatter",
         "x": [
          6302.623438000001
         ],
         "xaxis": "x4",
         "y": [
          71.19
         ],
         "yaxis": "y4"
        },
        {
         "hovertemplate": "country=Bulgaria<br>year=1997<br>gdpPercap=%{x}<br>lifeExp=%{y}<extra></extra>",
         "legendgroup": "Bulgaria",
         "marker": {
          "color": "#FFA15A",
          "symbol": "circle"
         },
         "mode": "markers",
         "name": "Bulgaria",
         "orientation": "v",
         "showlegend": false,
         "type": "scatter",
         "x": [
          5970.38876
         ],
         "xaxis": "x3",
         "y": [
          70.32
         ],
         "yaxis": "y3"
        },
        {
         "hovertemplate": "country=Bulgaria<br>year=2002<br>gdpPercap=%{x}<br>lifeExp=%{y}<extra></extra>",
         "legendgroup": "Bulgaria",
         "marker": {
          "color": "#FFA15A",
          "symbol": "circle"
         },
         "mode": "markers",
         "name": "Bulgaria",
         "orientation": "v",
         "showlegend": false,
         "type": "scatter",
         "x": [
          7696.777725
         ],
         "xaxis": "x2",
         "y": [
          72.14
         ],
         "yaxis": "y2"
        },
        {
         "hovertemplate": "country=Bulgaria<br>year=2007<br>gdpPercap=%{x}<br>lifeExp=%{y}<extra></extra>",
         "legendgroup": "Bulgaria",
         "marker": {
          "color": "#FFA15A",
          "symbol": "circle"
         },
         "mode": "markers",
         "name": "Bulgaria",
         "orientation": "v",
         "showlegend": false,
         "type": "scatter",
         "x": [
          10680.79282
         ],
         "xaxis": "x",
         "y": [
          73.005
         ],
         "yaxis": "y"
        },
        {
         "hovertemplate": "country=Croatia<br>year=1992<br>gdpPercap=%{x}<br>lifeExp=%{y}<extra></extra>",
         "legendgroup": "Croatia",
         "marker": {
          "color": "#19d3f3",
          "symbol": "circle"
         },
         "mode": "markers",
         "name": "Croatia",
         "orientation": "v",
         "showlegend": true,
         "type": "scatter",
         "x": [
          8447.794873
         ],
         "xaxis": "x4",
         "y": [
          72.527
         ],
         "yaxis": "y4"
        },
        {
         "hovertemplate": "country=Croatia<br>year=1997<br>gdpPercap=%{x}<br>lifeExp=%{y}<extra></extra>",
         "legendgroup": "Croatia",
         "marker": {
          "color": "#19d3f3",
          "symbol": "circle"
         },
         "mode": "markers",
         "name": "Croatia",
         "orientation": "v",
         "showlegend": false,
         "type": "scatter",
         "x": [
          9875.604515
         ],
         "xaxis": "x3",
         "y": [
          73.68
         ],
         "yaxis": "y3"
        },
        {
         "hovertemplate": "country=Croatia<br>year=2002<br>gdpPercap=%{x}<br>lifeExp=%{y}<extra></extra>",
         "legendgroup": "Croatia",
         "marker": {
          "color": "#19d3f3",
          "symbol": "circle"
         },
         "mode": "markers",
         "name": "Croatia",
         "orientation": "v",
         "showlegend": false,
         "type": "scatter",
         "x": [
          11628.38895
         ],
         "xaxis": "x2",
         "y": [
          74.876
         ],
         "yaxis": "y2"
        },
        {
         "hovertemplate": "country=Croatia<br>year=2007<br>gdpPercap=%{x}<br>lifeExp=%{y}<extra></extra>",
         "legendgroup": "Croatia",
         "marker": {
          "color": "#19d3f3",
          "symbol": "circle"
         },
         "mode": "markers",
         "name": "Croatia",
         "orientation": "v",
         "showlegend": false,
         "type": "scatter",
         "x": [
          14619.222719999998
         ],
         "xaxis": "x",
         "y": [
          75.748
         ],
         "yaxis": "y"
        },
        {
         "hovertemplate": "country=Czech Republic<br>year=1992<br>gdpPercap=%{x}<br>lifeExp=%{y}<extra></extra>",
         "legendgroup": "Czech Republic",
         "marker": {
          "color": "#FF6692",
          "symbol": "circle"
         },
         "mode": "markers",
         "name": "Czech Republic",
         "orientation": "v",
         "showlegend": true,
         "type": "scatter",
         "x": [
          14297.021219999999
         ],
         "xaxis": "x4",
         "y": [
          72.4
         ],
         "yaxis": "y4"
        },
        {
         "hovertemplate": "country=Czech Republic<br>year=1997<br>gdpPercap=%{x}<br>lifeExp=%{y}<extra></extra>",
         "legendgroup": "Czech Republic",
         "marker": {
          "color": "#FF6692",
          "symbol": "circle"
         },
         "mode": "markers",
         "name": "Czech Republic",
         "orientation": "v",
         "showlegend": false,
         "type": "scatter",
         "x": [
          16048.51424
         ],
         "xaxis": "x3",
         "y": [
          74.01
         ],
         "yaxis": "y3"
        },
        {
         "hovertemplate": "country=Czech Republic<br>year=2002<br>gdpPercap=%{x}<br>lifeExp=%{y}<extra></extra>",
         "legendgroup": "Czech Republic",
         "marker": {
          "color": "#FF6692",
          "symbol": "circle"
         },
         "mode": "markers",
         "name": "Czech Republic",
         "orientation": "v",
         "showlegend": false,
         "type": "scatter",
         "x": [
          17596.210219999994
         ],
         "xaxis": "x2",
         "y": [
          75.51
         ],
         "yaxis": "y2"
        },
        {
         "hovertemplate": "country=Czech Republic<br>year=2007<br>gdpPercap=%{x}<br>lifeExp=%{y}<extra></extra>",
         "legendgroup": "Czech Republic",
         "marker": {
          "color": "#FF6692",
          "symbol": "circle"
         },
         "mode": "markers",
         "name": "Czech Republic",
         "orientation": "v",
         "showlegend": false,
         "type": "scatter",
         "x": [
          22833.30851
         ],
         "xaxis": "x",
         "y": [
          76.486
         ],
         "yaxis": "y"
        },
        {
         "hovertemplate": "country=Denmark<br>year=1992<br>gdpPercap=%{x}<br>lifeExp=%{y}<extra></extra>",
         "legendgroup": "Denmark",
         "marker": {
          "color": "#B6E880",
          "symbol": "circle"
         },
         "mode": "markers",
         "name": "Denmark",
         "orientation": "v",
         "showlegend": true,
         "type": "scatter",
         "x": [
          26406.73985
         ],
         "xaxis": "x4",
         "y": [
          75.33
         ],
         "yaxis": "y4"
        },
        {
         "hovertemplate": "country=Denmark<br>year=1997<br>gdpPercap=%{x}<br>lifeExp=%{y}<extra></extra>",
         "legendgroup": "Denmark",
         "marker": {
          "color": "#B6E880",
          "symbol": "circle"
         },
         "mode": "markers",
         "name": "Denmark",
         "orientation": "v",
         "showlegend": false,
         "type": "scatter",
         "x": [
          29804.34567
         ],
         "xaxis": "x3",
         "y": [
          76.11
         ],
         "yaxis": "y3"
        },
        {
         "hovertemplate": "country=Denmark<br>year=2002<br>gdpPercap=%{x}<br>lifeExp=%{y}<extra></extra>",
         "legendgroup": "Denmark",
         "marker": {
          "color": "#B6E880",
          "symbol": "circle"
         },
         "mode": "markers",
         "name": "Denmark",
         "orientation": "v",
         "showlegend": false,
         "type": "scatter",
         "x": [
          32166.500060000002
         ],
         "xaxis": "x2",
         "y": [
          77.18
         ],
         "yaxis": "y2"
        },
        {
         "hovertemplate": "country=Denmark<br>year=2007<br>gdpPercap=%{x}<br>lifeExp=%{y}<extra></extra>",
         "legendgroup": "Denmark",
         "marker": {
          "color": "#B6E880",
          "symbol": "circle"
         },
         "mode": "markers",
         "name": "Denmark",
         "orientation": "v",
         "showlegend": false,
         "type": "scatter",
         "x": [
          35278.41874
         ],
         "xaxis": "x",
         "y": [
          78.332
         ],
         "yaxis": "y"
        },
        {
         "hovertemplate": "country=Finland<br>year=1992<br>gdpPercap=%{x}<br>lifeExp=%{y}<extra></extra>",
         "legendgroup": "Finland",
         "marker": {
          "color": "#FF97FF",
          "symbol": "circle"
         },
         "mode": "markers",
         "name": "Finland",
         "orientation": "v",
         "showlegend": true,
         "type": "scatter",
         "x": [
          20647.16499
         ],
         "xaxis": "x4",
         "y": [
          75.7
         ],
         "yaxis": "y4"
        },
        {
         "hovertemplate": "country=Finland<br>year=1997<br>gdpPercap=%{x}<br>lifeExp=%{y}<extra></extra>",
         "legendgroup": "Finland",
         "marker": {
          "color": "#FF97FF",
          "symbol": "circle"
         },
         "mode": "markers",
         "name": "Finland",
         "orientation": "v",
         "showlegend": false,
         "type": "scatter",
         "x": [
          23723.9502
         ],
         "xaxis": "x3",
         "y": [
          77.13
         ],
         "yaxis": "y3"
        },
        {
         "hovertemplate": "country=Finland<br>year=2002<br>gdpPercap=%{x}<br>lifeExp=%{y}<extra></extra>",
         "legendgroup": "Finland",
         "marker": {
          "color": "#FF97FF",
          "symbol": "circle"
         },
         "mode": "markers",
         "name": "Finland",
         "orientation": "v",
         "showlegend": false,
         "type": "scatter",
         "x": [
          28204.59057
         ],
         "xaxis": "x2",
         "y": [
          78.37
         ],
         "yaxis": "y2"
        },
        {
         "hovertemplate": "country=Finland<br>year=2007<br>gdpPercap=%{x}<br>lifeExp=%{y}<extra></extra>",
         "legendgroup": "Finland",
         "marker": {
          "color": "#FF97FF",
          "symbol": "circle"
         },
         "mode": "markers",
         "name": "Finland",
         "orientation": "v",
         "showlegend": false,
         "type": "scatter",
         "x": [
          33207.0844
         ],
         "xaxis": "x",
         "y": [
          79.313
         ],
         "yaxis": "y"
        },
        {
         "hovertemplate": "country=France<br>year=1992<br>gdpPercap=%{x}<br>lifeExp=%{y}<extra></extra>",
         "legendgroup": "France",
         "marker": {
          "color": "#FECB52",
          "symbol": "circle"
         },
         "mode": "markers",
         "name": "France",
         "orientation": "v",
         "showlegend": true,
         "type": "scatter",
         "x": [
          24703.79615
         ],
         "xaxis": "x4",
         "y": [
          77.46
         ],
         "yaxis": "y4"
        },
        {
         "hovertemplate": "country=France<br>year=1997<br>gdpPercap=%{x}<br>lifeExp=%{y}<extra></extra>",
         "legendgroup": "France",
         "marker": {
          "color": "#FECB52",
          "symbol": "circle"
         },
         "mode": "markers",
         "name": "France",
         "orientation": "v",
         "showlegend": false,
         "type": "scatter",
         "x": [
          25889.78487
         ],
         "xaxis": "x3",
         "y": [
          78.64
         ],
         "yaxis": "y3"
        },
        {
         "hovertemplate": "country=France<br>year=2002<br>gdpPercap=%{x}<br>lifeExp=%{y}<extra></extra>",
         "legendgroup": "France",
         "marker": {
          "color": "#FECB52",
          "symbol": "circle"
         },
         "mode": "markers",
         "name": "France",
         "orientation": "v",
         "showlegend": false,
         "type": "scatter",
         "x": [
          28926.032339999998
         ],
         "xaxis": "x2",
         "y": [
          79.59
         ],
         "yaxis": "y2"
        },
        {
         "hovertemplate": "country=France<br>year=2007<br>gdpPercap=%{x}<br>lifeExp=%{y}<extra></extra>",
         "legendgroup": "France",
         "marker": {
          "color": "#FECB52",
          "symbol": "circle"
         },
         "mode": "markers",
         "name": "France",
         "orientation": "v",
         "showlegend": false,
         "type": "scatter",
         "x": [
          30470.0167
         ],
         "xaxis": "x",
         "y": [
          80.657
         ],
         "yaxis": "y"
        },
        {
         "hovertemplate": "country=Germany<br>year=1992<br>gdpPercap=%{x}<br>lifeExp=%{y}<extra></extra>",
         "legendgroup": "Germany",
         "marker": {
          "color": "#636efa",
          "symbol": "circle"
         },
         "mode": "markers",
         "name": "Germany",
         "orientation": "v",
         "showlegend": true,
         "type": "scatter",
         "x": [
          26505.30317
         ],
         "xaxis": "x4",
         "y": [
          76.07
         ],
         "yaxis": "y4"
        },
        {
         "hovertemplate": "country=Germany<br>year=1997<br>gdpPercap=%{x}<br>lifeExp=%{y}<extra></extra>",
         "legendgroup": "Germany",
         "marker": {
          "color": "#636efa",
          "symbol": "circle"
         },
         "mode": "markers",
         "name": "Germany",
         "orientation": "v",
         "showlegend": false,
         "type": "scatter",
         "x": [
          27788.88416
         ],
         "xaxis": "x3",
         "y": [
          77.34
         ],
         "yaxis": "y3"
        },
        {
         "hovertemplate": "country=Germany<br>year=2002<br>gdpPercap=%{x}<br>lifeExp=%{y}<extra></extra>",
         "legendgroup": "Germany",
         "marker": {
          "color": "#636efa",
          "symbol": "circle"
         },
         "mode": "markers",
         "name": "Germany",
         "orientation": "v",
         "showlegend": false,
         "type": "scatter",
         "x": [
          30035.80198
         ],
         "xaxis": "x2",
         "y": [
          78.67
         ],
         "yaxis": "y2"
        },
        {
         "hovertemplate": "country=Germany<br>year=2007<br>gdpPercap=%{x}<br>lifeExp=%{y}<extra></extra>",
         "legendgroup": "Germany",
         "marker": {
          "color": "#636efa",
          "symbol": "circle"
         },
         "mode": "markers",
         "name": "Germany",
         "orientation": "v",
         "showlegend": false,
         "type": "scatter",
         "x": [
          32170.37442
         ],
         "xaxis": "x",
         "y": [
          79.406
         ],
         "yaxis": "y"
        },
        {
         "hovertemplate": "country=Greece<br>year=1992<br>gdpPercap=%{x}<br>lifeExp=%{y}<extra></extra>",
         "legendgroup": "Greece",
         "marker": {
          "color": "#EF553B",
          "symbol": "circle"
         },
         "mode": "markers",
         "name": "Greece",
         "orientation": "v",
         "showlegend": true,
         "type": "scatter",
         "x": [
          17541.49634
         ],
         "xaxis": "x4",
         "y": [
          77.03
         ],
         "yaxis": "y4"
        },
        {
         "hovertemplate": "country=Greece<br>year=1997<br>gdpPercap=%{x}<br>lifeExp=%{y}<extra></extra>",
         "legendgroup": "Greece",
         "marker": {
          "color": "#EF553B",
          "symbol": "circle"
         },
         "mode": "markers",
         "name": "Greece",
         "orientation": "v",
         "showlegend": false,
         "type": "scatter",
         "x": [
          18747.69814
         ],
         "xaxis": "x3",
         "y": [
          77.869
         ],
         "yaxis": "y3"
        },
        {
         "hovertemplate": "country=Greece<br>year=2002<br>gdpPercap=%{x}<br>lifeExp=%{y}<extra></extra>",
         "legendgroup": "Greece",
         "marker": {
          "color": "#EF553B",
          "symbol": "circle"
         },
         "mode": "markers",
         "name": "Greece",
         "orientation": "v",
         "showlegend": false,
         "type": "scatter",
         "x": [
          22514.2548
         ],
         "xaxis": "x2",
         "y": [
          78.256
         ],
         "yaxis": "y2"
        },
        {
         "hovertemplate": "country=Greece<br>year=2007<br>gdpPercap=%{x}<br>lifeExp=%{y}<extra></extra>",
         "legendgroup": "Greece",
         "marker": {
          "color": "#EF553B",
          "symbol": "circle"
         },
         "mode": "markers",
         "name": "Greece",
         "orientation": "v",
         "showlegend": false,
         "type": "scatter",
         "x": [
          27538.41188
         ],
         "xaxis": "x",
         "y": [
          79.483
         ],
         "yaxis": "y"
        },
        {
         "hovertemplate": "country=Hungary<br>year=1992<br>gdpPercap=%{x}<br>lifeExp=%{y}<extra></extra>",
         "legendgroup": "Hungary",
         "marker": {
          "color": "#00cc96",
          "symbol": "circle"
         },
         "mode": "markers",
         "name": "Hungary",
         "orientation": "v",
         "showlegend": true,
         "type": "scatter",
         "x": [
          10535.62855
         ],
         "xaxis": "x4",
         "y": [
          69.17
         ],
         "yaxis": "y4"
        },
        {
         "hovertemplate": "country=Hungary<br>year=1997<br>gdpPercap=%{x}<br>lifeExp=%{y}<extra></extra>",
         "legendgroup": "Hungary",
         "marker": {
          "color": "#00cc96",
          "symbol": "circle"
         },
         "mode": "markers",
         "name": "Hungary",
         "orientation": "v",
         "showlegend": false,
         "type": "scatter",
         "x": [
          11712.7768
         ],
         "xaxis": "x3",
         "y": [
          71.04
         ],
         "yaxis": "y3"
        },
        {
         "hovertemplate": "country=Hungary<br>year=2002<br>gdpPercap=%{x}<br>lifeExp=%{y}<extra></extra>",
         "legendgroup": "Hungary",
         "marker": {
          "color": "#00cc96",
          "symbol": "circle"
         },
         "mode": "markers",
         "name": "Hungary",
         "orientation": "v",
         "showlegend": false,
         "type": "scatter",
         "x": [
          14843.93556
         ],
         "xaxis": "x2",
         "y": [
          72.59
         ],
         "yaxis": "y2"
        },
        {
         "hovertemplate": "country=Hungary<br>year=2007<br>gdpPercap=%{x}<br>lifeExp=%{y}<extra></extra>",
         "legendgroup": "Hungary",
         "marker": {
          "color": "#00cc96",
          "symbol": "circle"
         },
         "mode": "markers",
         "name": "Hungary",
         "orientation": "v",
         "showlegend": false,
         "type": "scatter",
         "x": [
          18008.94444
         ],
         "xaxis": "x",
         "y": [
          73.33800000000002
         ],
         "yaxis": "y"
        },
        {
         "hovertemplate": "country=Iceland<br>year=1992<br>gdpPercap=%{x}<br>lifeExp=%{y}<extra></extra>",
         "legendgroup": "Iceland",
         "marker": {
          "color": "#ab63fa",
          "symbol": "circle"
         },
         "mode": "markers",
         "name": "Iceland",
         "orientation": "v",
         "showlegend": true,
         "type": "scatter",
         "x": [
          25144.39201
         ],
         "xaxis": "x4",
         "y": [
          78.77
         ],
         "yaxis": "y4"
        },
        {
         "hovertemplate": "country=Iceland<br>year=1997<br>gdpPercap=%{x}<br>lifeExp=%{y}<extra></extra>",
         "legendgroup": "Iceland",
         "marker": {
          "color": "#ab63fa",
          "symbol": "circle"
         },
         "mode": "markers",
         "name": "Iceland",
         "orientation": "v",
         "showlegend": false,
         "type": "scatter",
         "x": [
          28061.099660000003
         ],
         "xaxis": "x3",
         "y": [
          78.95
         ],
         "yaxis": "y3"
        },
        {
         "hovertemplate": "country=Iceland<br>year=2002<br>gdpPercap=%{x}<br>lifeExp=%{y}<extra></extra>",
         "legendgroup": "Iceland",
         "marker": {
          "color": "#ab63fa",
          "symbol": "circle"
         },
         "mode": "markers",
         "name": "Iceland",
         "orientation": "v",
         "showlegend": false,
         "type": "scatter",
         "x": [
          31163.201960000002
         ],
         "xaxis": "x2",
         "y": [
          80.5
         ],
         "yaxis": "y2"
        },
        {
         "hovertemplate": "country=Iceland<br>year=2007<br>gdpPercap=%{x}<br>lifeExp=%{y}<extra></extra>",
         "legendgroup": "Iceland",
         "marker": {
          "color": "#ab63fa",
          "symbol": "circle"
         },
         "mode": "markers",
         "name": "Iceland",
         "orientation": "v",
         "showlegend": false,
         "type": "scatter",
         "x": [
          36180.789189999996
         ],
         "xaxis": "x",
         "y": [
          81.757
         ],
         "yaxis": "y"
        },
        {
         "hovertemplate": "country=Ireland<br>year=1992<br>gdpPercap=%{x}<br>lifeExp=%{y}<extra></extra>",
         "legendgroup": "Ireland",
         "marker": {
          "color": "#FFA15A",
          "symbol": "circle"
         },
         "mode": "markers",
         "name": "Ireland",
         "orientation": "v",
         "showlegend": true,
         "type": "scatter",
         "x": [
          17558.81555
         ],
         "xaxis": "x4",
         "y": [
          75.467
         ],
         "yaxis": "y4"
        },
        {
         "hovertemplate": "country=Ireland<br>year=1997<br>gdpPercap=%{x}<br>lifeExp=%{y}<extra></extra>",
         "legendgroup": "Ireland",
         "marker": {
          "color": "#FFA15A",
          "symbol": "circle"
         },
         "mode": "markers",
         "name": "Ireland",
         "orientation": "v",
         "showlegend": false,
         "type": "scatter",
         "x": [
          24521.94713
         ],
         "xaxis": "x3",
         "y": [
          76.122
         ],
         "yaxis": "y3"
        },
        {
         "hovertemplate": "country=Ireland<br>year=2002<br>gdpPercap=%{x}<br>lifeExp=%{y}<extra></extra>",
         "legendgroup": "Ireland",
         "marker": {
          "color": "#FFA15A",
          "symbol": "circle"
         },
         "mode": "markers",
         "name": "Ireland",
         "orientation": "v",
         "showlegend": false,
         "type": "scatter",
         "x": [
          34077.04939
         ],
         "xaxis": "x2",
         "y": [
          77.783
         ],
         "yaxis": "y2"
        },
        {
         "hovertemplate": "country=Ireland<br>year=2007<br>gdpPercap=%{x}<br>lifeExp=%{y}<extra></extra>",
         "legendgroup": "Ireland",
         "marker": {
          "color": "#FFA15A",
          "symbol": "circle"
         },
         "mode": "markers",
         "name": "Ireland",
         "orientation": "v",
         "showlegend": false,
         "type": "scatter",
         "x": [
          40675.99635
         ],
         "xaxis": "x",
         "y": [
          78.885
         ],
         "yaxis": "y"
        },
        {
         "hovertemplate": "country=Italy<br>year=1992<br>gdpPercap=%{x}<br>lifeExp=%{y}<extra></extra>",
         "legendgroup": "Italy",
         "marker": {
          "color": "#19d3f3",
          "symbol": "circle"
         },
         "mode": "markers",
         "name": "Italy",
         "orientation": "v",
         "showlegend": true,
         "type": "scatter",
         "x": [
          22013.64486
         ],
         "xaxis": "x4",
         "y": [
          77.44
         ],
         "yaxis": "y4"
        },
        {
         "hovertemplate": "country=Italy<br>year=1997<br>gdpPercap=%{x}<br>lifeExp=%{y}<extra></extra>",
         "legendgroup": "Italy",
         "marker": {
          "color": "#19d3f3",
          "symbol": "circle"
         },
         "mode": "markers",
         "name": "Italy",
         "orientation": "v",
         "showlegend": false,
         "type": "scatter",
         "x": [
          24675.02446
         ],
         "xaxis": "x3",
         "y": [
          78.82
         ],
         "yaxis": "y3"
        },
        {
         "hovertemplate": "country=Italy<br>year=2002<br>gdpPercap=%{x}<br>lifeExp=%{y}<extra></extra>",
         "legendgroup": "Italy",
         "marker": {
          "color": "#19d3f3",
          "symbol": "circle"
         },
         "mode": "markers",
         "name": "Italy",
         "orientation": "v",
         "showlegend": false,
         "type": "scatter",
         "x": [
          27968.098169999997
         ],
         "xaxis": "x2",
         "y": [
          80.24
         ],
         "yaxis": "y2"
        },
        {
         "hovertemplate": "country=Italy<br>year=2007<br>gdpPercap=%{x}<br>lifeExp=%{y}<extra></extra>",
         "legendgroup": "Italy",
         "marker": {
          "color": "#19d3f3",
          "symbol": "circle"
         },
         "mode": "markers",
         "name": "Italy",
         "orientation": "v",
         "showlegend": false,
         "type": "scatter",
         "x": [
          28569.7197
         ],
         "xaxis": "x",
         "y": [
          80.546
         ],
         "yaxis": "y"
        },
        {
         "hovertemplate": "country=Montenegro<br>year=1992<br>gdpPercap=%{x}<br>lifeExp=%{y}<extra></extra>",
         "legendgroup": "Montenegro",
         "marker": {
          "color": "#FF6692",
          "symbol": "circle"
         },
         "mode": "markers",
         "name": "Montenegro",
         "orientation": "v",
         "showlegend": true,
         "type": "scatter",
         "x": [
          7003.3390370000025
         ],
         "xaxis": "x4",
         "y": [
          75.435
         ],
         "yaxis": "y4"
        },
        {
         "hovertemplate": "country=Montenegro<br>year=1997<br>gdpPercap=%{x}<br>lifeExp=%{y}<extra></extra>",
         "legendgroup": "Montenegro",
         "marker": {
          "color": "#FF6692",
          "symbol": "circle"
         },
         "mode": "markers",
         "name": "Montenegro",
         "orientation": "v",
         "showlegend": false,
         "type": "scatter",
         "x": [
          6465.613349
         ],
         "xaxis": "x3",
         "y": [
          75.445
         ],
         "yaxis": "y3"
        },
        {
         "hovertemplate": "country=Montenegro<br>year=2002<br>gdpPercap=%{x}<br>lifeExp=%{y}<extra></extra>",
         "legendgroup": "Montenegro",
         "marker": {
          "color": "#FF6692",
          "symbol": "circle"
         },
         "mode": "markers",
         "name": "Montenegro",
         "orientation": "v",
         "showlegend": false,
         "type": "scatter",
         "x": [
          6557.194282
         ],
         "xaxis": "x2",
         "y": [
          73.98100000000002
         ],
         "yaxis": "y2"
        },
        {
         "hovertemplate": "country=Montenegro<br>year=2007<br>gdpPercap=%{x}<br>lifeExp=%{y}<extra></extra>",
         "legendgroup": "Montenegro",
         "marker": {
          "color": "#FF6692",
          "symbol": "circle"
         },
         "mode": "markers",
         "name": "Montenegro",
         "orientation": "v",
         "showlegend": false,
         "type": "scatter",
         "x": [
          9253.896111
         ],
         "xaxis": "x",
         "y": [
          74.543
         ],
         "yaxis": "y"
        },
        {
         "hovertemplate": "country=Netherlands<br>year=1992<br>gdpPercap=%{x}<br>lifeExp=%{y}<extra></extra>",
         "legendgroup": "Netherlands",
         "marker": {
          "color": "#B6E880",
          "symbol": "circle"
         },
         "mode": "markers",
         "name": "Netherlands",
         "orientation": "v",
         "showlegend": true,
         "type": "scatter",
         "x": [
          26790.94961
         ],
         "xaxis": "x4",
         "y": [
          77.42
         ],
         "yaxis": "y4"
        },
        {
         "hovertemplate": "country=Netherlands<br>year=1997<br>gdpPercap=%{x}<br>lifeExp=%{y}<extra></extra>",
         "legendgroup": "Netherlands",
         "marker": {
          "color": "#B6E880",
          "symbol": "circle"
         },
         "mode": "markers",
         "name": "Netherlands",
         "orientation": "v",
         "showlegend": false,
         "type": "scatter",
         "x": [
          30246.13063
         ],
         "xaxis": "x3",
         "y": [
          78.03
         ],
         "yaxis": "y3"
        },
        {
         "hovertemplate": "country=Netherlands<br>year=2002<br>gdpPercap=%{x}<br>lifeExp=%{y}<extra></extra>",
         "legendgroup": "Netherlands",
         "marker": {
          "color": "#B6E880",
          "symbol": "circle"
         },
         "mode": "markers",
         "name": "Netherlands",
         "orientation": "v",
         "showlegend": false,
         "type": "scatter",
         "x": [
          33724.75778
         ],
         "xaxis": "x2",
         "y": [
          78.53
         ],
         "yaxis": "y2"
        },
        {
         "hovertemplate": "country=Netherlands<br>year=2007<br>gdpPercap=%{x}<br>lifeExp=%{y}<extra></extra>",
         "legendgroup": "Netherlands",
         "marker": {
          "color": "#B6E880",
          "symbol": "circle"
         },
         "mode": "markers",
         "name": "Netherlands",
         "orientation": "v",
         "showlegend": false,
         "type": "scatter",
         "x": [
          36797.93332
         ],
         "xaxis": "x",
         "y": [
          79.762
         ],
         "yaxis": "y"
        },
        {
         "hovertemplate": "country=Norway<br>year=1992<br>gdpPercap=%{x}<br>lifeExp=%{y}<extra></extra>",
         "legendgroup": "Norway",
         "marker": {
          "color": "#FF97FF",
          "symbol": "circle"
         },
         "mode": "markers",
         "name": "Norway",
         "orientation": "v",
         "showlegend": true,
         "type": "scatter",
         "x": [
          33965.66115
         ],
         "xaxis": "x4",
         "y": [
          77.32
         ],
         "yaxis": "y4"
        },
        {
         "hovertemplate": "country=Norway<br>year=1997<br>gdpPercap=%{x}<br>lifeExp=%{y}<extra></extra>",
         "legendgroup": "Norway",
         "marker": {
          "color": "#FF97FF",
          "symbol": "circle"
         },
         "mode": "markers",
         "name": "Norway",
         "orientation": "v",
         "showlegend": false,
         "type": "scatter",
         "x": [
          41283.16433
         ],
         "xaxis": "x3",
         "y": [
          78.32
         ],
         "yaxis": "y3"
        },
        {
         "hovertemplate": "country=Norway<br>year=2002<br>gdpPercap=%{x}<br>lifeExp=%{y}<extra></extra>",
         "legendgroup": "Norway",
         "marker": {
          "color": "#FF97FF",
          "symbol": "circle"
         },
         "mode": "markers",
         "name": "Norway",
         "orientation": "v",
         "showlegend": false,
         "type": "scatter",
         "x": [
          44683.97525
         ],
         "xaxis": "x2",
         "y": [
          79.05
         ],
         "yaxis": "y2"
        },
        {
         "hovertemplate": "country=Norway<br>year=2007<br>gdpPercap=%{x}<br>lifeExp=%{y}<extra></extra>",
         "legendgroup": "Norway",
         "marker": {
          "color": "#FF97FF",
          "symbol": "circle"
         },
         "mode": "markers",
         "name": "Norway",
         "orientation": "v",
         "showlegend": false,
         "type": "scatter",
         "x": [
          49357.19017
         ],
         "xaxis": "x",
         "y": [
          80.196
         ],
         "yaxis": "y"
        },
        {
         "hovertemplate": "country=Poland<br>year=1992<br>gdpPercap=%{x}<br>lifeExp=%{y}<extra></extra>",
         "legendgroup": "Poland",
         "marker": {
          "color": "#FECB52",
          "symbol": "circle"
         },
         "mode": "markers",
         "name": "Poland",
         "orientation": "v",
         "showlegend": true,
         "type": "scatter",
         "x": [
          7738.881247
         ],
         "xaxis": "x4",
         "y": [
          70.99
         ],
         "yaxis": "y4"
        },
        {
         "hovertemplate": "country=Poland<br>year=1997<br>gdpPercap=%{x}<br>lifeExp=%{y}<extra></extra>",
         "legendgroup": "Poland",
         "marker": {
          "color": "#FECB52",
          "symbol": "circle"
         },
         "mode": "markers",
         "name": "Poland",
         "orientation": "v",
         "showlegend": false,
         "type": "scatter",
         "x": [
          10159.58368
         ],
         "xaxis": "x3",
         "y": [
          72.75
         ],
         "yaxis": "y3"
        },
        {
         "hovertemplate": "country=Poland<br>year=2002<br>gdpPercap=%{x}<br>lifeExp=%{y}<extra></extra>",
         "legendgroup": "Poland",
         "marker": {
          "color": "#FECB52",
          "symbol": "circle"
         },
         "mode": "markers",
         "name": "Poland",
         "orientation": "v",
         "showlegend": false,
         "type": "scatter",
         "x": [
          12002.23908
         ],
         "xaxis": "x2",
         "y": [
          74.67
         ],
         "yaxis": "y2"
        },
        {
         "hovertemplate": "country=Poland<br>year=2007<br>gdpPercap=%{x}<br>lifeExp=%{y}<extra></extra>",
         "legendgroup": "Poland",
         "marker": {
          "color": "#FECB52",
          "symbol": "circle"
         },
         "mode": "markers",
         "name": "Poland",
         "orientation": "v",
         "showlegend": false,
         "type": "scatter",
         "x": [
          15389.924680000002
         ],
         "xaxis": "x",
         "y": [
          75.563
         ],
         "yaxis": "y"
        },
        {
         "hovertemplate": "country=Portugal<br>year=1992<br>gdpPercap=%{x}<br>lifeExp=%{y}<extra></extra>",
         "legendgroup": "Portugal",
         "marker": {
          "color": "#636efa",
          "symbol": "circle"
         },
         "mode": "markers",
         "name": "Portugal",
         "orientation": "v",
         "showlegend": true,
         "type": "scatter",
         "x": [
          16207.266630000002
         ],
         "xaxis": "x4",
         "y": [
          74.86
         ],
         "yaxis": "y4"
        },
        {
         "hovertemplate": "country=Portugal<br>year=1997<br>gdpPercap=%{x}<br>lifeExp=%{y}<extra></extra>",
         "legendgroup": "Portugal",
         "marker": {
          "color": "#636efa",
          "symbol": "circle"
         },
         "mode": "markers",
         "name": "Portugal",
         "orientation": "v",
         "showlegend": false,
         "type": "scatter",
         "x": [
          17641.03156
         ],
         "xaxis": "x3",
         "y": [
          75.97
         ],
         "yaxis": "y3"
        },
        {
         "hovertemplate": "country=Portugal<br>year=2002<br>gdpPercap=%{x}<br>lifeExp=%{y}<extra></extra>",
         "legendgroup": "Portugal",
         "marker": {
          "color": "#636efa",
          "symbol": "circle"
         },
         "mode": "markers",
         "name": "Portugal",
         "orientation": "v",
         "showlegend": false,
         "type": "scatter",
         "x": [
          19970.90787
         ],
         "xaxis": "x2",
         "y": [
          77.29
         ],
         "yaxis": "y2"
        },
        {
         "hovertemplate": "country=Portugal<br>year=2007<br>gdpPercap=%{x}<br>lifeExp=%{y}<extra></extra>",
         "legendgroup": "Portugal",
         "marker": {
          "color": "#636efa",
          "symbol": "circle"
         },
         "mode": "markers",
         "name": "Portugal",
         "orientation": "v",
         "showlegend": false,
         "type": "scatter",
         "x": [
          20509.64777
         ],
         "xaxis": "x",
         "y": [
          78.098
         ],
         "yaxis": "y"
        },
        {
         "hovertemplate": "country=Romania<br>year=1992<br>gdpPercap=%{x}<br>lifeExp=%{y}<extra></extra>",
         "legendgroup": "Romania",
         "marker": {
          "color": "#EF553B",
          "symbol": "circle"
         },
         "mode": "markers",
         "name": "Romania",
         "orientation": "v",
         "showlegend": true,
         "type": "scatter",
         "x": [
          6598.409903
         ],
         "xaxis": "x4",
         "y": [
          69.36
         ],
         "yaxis": "y4"
        },
        {
         "hovertemplate": "country=Romania<br>year=1997<br>gdpPercap=%{x}<br>lifeExp=%{y}<extra></extra>",
         "legendgroup": "Romania",
         "marker": {
          "color": "#EF553B",
          "symbol": "circle"
         },
         "mode": "markers",
         "name": "Romania",
         "orientation": "v",
         "showlegend": false,
         "type": "scatter",
         "x": [
          7346.547556999999
         ],
         "xaxis": "x3",
         "y": [
          69.72
         ],
         "yaxis": "y3"
        },
        {
         "hovertemplate": "country=Romania<br>year=2002<br>gdpPercap=%{x}<br>lifeExp=%{y}<extra></extra>",
         "legendgroup": "Romania",
         "marker": {
          "color": "#EF553B",
          "symbol": "circle"
         },
         "mode": "markers",
         "name": "Romania",
         "orientation": "v",
         "showlegend": false,
         "type": "scatter",
         "x": [
          7885.360081
         ],
         "xaxis": "x2",
         "y": [
          71.322
         ],
         "yaxis": "y2"
        },
        {
         "hovertemplate": "country=Romania<br>year=2007<br>gdpPercap=%{x}<br>lifeExp=%{y}<extra></extra>",
         "legendgroup": "Romania",
         "marker": {
          "color": "#EF553B",
          "symbol": "circle"
         },
         "mode": "markers",
         "name": "Romania",
         "orientation": "v",
         "showlegend": false,
         "type": "scatter",
         "x": [
          10808.47561
         ],
         "xaxis": "x",
         "y": [
          72.476
         ],
         "yaxis": "y"
        },
        {
         "hovertemplate": "country=Serbia<br>year=1992<br>gdpPercap=%{x}<br>lifeExp=%{y}<extra></extra>",
         "legendgroup": "Serbia",
         "marker": {
          "color": "#00cc96",
          "symbol": "circle"
         },
         "mode": "markers",
         "name": "Serbia",
         "orientation": "v",
         "showlegend": true,
         "type": "scatter",
         "x": [
          9325.068238
         ],
         "xaxis": "x4",
         "y": [
          71.65899999999998
         ],
         "yaxis": "y4"
        },
        {
         "hovertemplate": "country=Serbia<br>year=1997<br>gdpPercap=%{x}<br>lifeExp=%{y}<extra></extra>",
         "legendgroup": "Serbia",
         "marker": {
          "color": "#00cc96",
          "symbol": "circle"
         },
         "mode": "markers",
         "name": "Serbia",
         "orientation": "v",
         "showlegend": false,
         "type": "scatter",
         "x": [
          7914.320304000003
         ],
         "xaxis": "x3",
         "y": [
          72.232
         ],
         "yaxis": "y3"
        },
        {
         "hovertemplate": "country=Serbia<br>year=2002<br>gdpPercap=%{x}<br>lifeExp=%{y}<extra></extra>",
         "legendgroup": "Serbia",
         "marker": {
          "color": "#00cc96",
          "symbol": "circle"
         },
         "mode": "markers",
         "name": "Serbia",
         "orientation": "v",
         "showlegend": false,
         "type": "scatter",
         "x": [
          7236.075251
         ],
         "xaxis": "x2",
         "y": [
          73.21300000000002
         ],
         "yaxis": "y2"
        },
        {
         "hovertemplate": "country=Serbia<br>year=2007<br>gdpPercap=%{x}<br>lifeExp=%{y}<extra></extra>",
         "legendgroup": "Serbia",
         "marker": {
          "color": "#00cc96",
          "symbol": "circle"
         },
         "mode": "markers",
         "name": "Serbia",
         "orientation": "v",
         "showlegend": false,
         "type": "scatter",
         "x": [
          9786.534714
         ],
         "xaxis": "x",
         "y": [
          74.002
         ],
         "yaxis": "y"
        },
        {
         "hovertemplate": "country=Slovak Republic<br>year=1992<br>gdpPercap=%{x}<br>lifeExp=%{y}<extra></extra>",
         "legendgroup": "Slovak Republic",
         "marker": {
          "color": "#ab63fa",
          "symbol": "circle"
         },
         "mode": "markers",
         "name": "Slovak Republic",
         "orientation": "v",
         "showlegend": true,
         "type": "scatter",
         "x": [
          9498.467723
         ],
         "xaxis": "x4",
         "y": [
          71.38
         ],
         "yaxis": "y4"
        },
        {
         "hovertemplate": "country=Slovak Republic<br>year=1997<br>gdpPercap=%{x}<br>lifeExp=%{y}<extra></extra>",
         "legendgroup": "Slovak Republic",
         "marker": {
          "color": "#ab63fa",
          "symbol": "circle"
         },
         "mode": "markers",
         "name": "Slovak Republic",
         "orientation": "v",
         "showlegend": false,
         "type": "scatter",
         "x": [
          12126.23065
         ],
         "xaxis": "x3",
         "y": [
          72.71
         ],
         "yaxis": "y3"
        },
        {
         "hovertemplate": "country=Slovak Republic<br>year=2002<br>gdpPercap=%{x}<br>lifeExp=%{y}<extra></extra>",
         "legendgroup": "Slovak Republic",
         "marker": {
          "color": "#ab63fa",
          "symbol": "circle"
         },
         "mode": "markers",
         "name": "Slovak Republic",
         "orientation": "v",
         "showlegend": false,
         "type": "scatter",
         "x": [
          13638.778369999998
         ],
         "xaxis": "x2",
         "y": [
          73.8
         ],
         "yaxis": "y2"
        },
        {
         "hovertemplate": "country=Slovak Republic<br>year=2007<br>gdpPercap=%{x}<br>lifeExp=%{y}<extra></extra>",
         "legendgroup": "Slovak Republic",
         "marker": {
          "color": "#ab63fa",
          "symbol": "circle"
         },
         "mode": "markers",
         "name": "Slovak Republic",
         "orientation": "v",
         "showlegend": false,
         "type": "scatter",
         "x": [
          18678.31435
         ],
         "xaxis": "x",
         "y": [
          74.663
         ],
         "yaxis": "y"
        },
        {
         "hovertemplate": "country=Slovenia<br>year=1992<br>gdpPercap=%{x}<br>lifeExp=%{y}<extra></extra>",
         "legendgroup": "Slovenia",
         "marker": {
          "color": "#FFA15A",
          "symbol": "circle"
         },
         "mode": "markers",
         "name": "Slovenia",
         "orientation": "v",
         "showlegend": true,
         "type": "scatter",
         "x": [
          14214.71681
         ],
         "xaxis": "x4",
         "y": [
          73.64
         ],
         "yaxis": "y4"
        },
        {
         "hovertemplate": "country=Slovenia<br>year=1997<br>gdpPercap=%{x}<br>lifeExp=%{y}<extra></extra>",
         "legendgroup": "Slovenia",
         "marker": {
          "color": "#FFA15A",
          "symbol": "circle"
         },
         "mode": "markers",
         "name": "Slovenia",
         "orientation": "v",
         "showlegend": false,
         "type": "scatter",
         "x": [
          17161.10735
         ],
         "xaxis": "x3",
         "y": [
          75.13
         ],
         "yaxis": "y3"
        },
        {
         "hovertemplate": "country=Slovenia<br>year=2002<br>gdpPercap=%{x}<br>lifeExp=%{y}<extra></extra>",
         "legendgroup": "Slovenia",
         "marker": {
          "color": "#FFA15A",
          "symbol": "circle"
         },
         "mode": "markers",
         "name": "Slovenia",
         "orientation": "v",
         "showlegend": false,
         "type": "scatter",
         "x": [
          20660.01936
         ],
         "xaxis": "x2",
         "y": [
          76.66
         ],
         "yaxis": "y2"
        },
        {
         "hovertemplate": "country=Slovenia<br>year=2007<br>gdpPercap=%{x}<br>lifeExp=%{y}<extra></extra>",
         "legendgroup": "Slovenia",
         "marker": {
          "color": "#FFA15A",
          "symbol": "circle"
         },
         "mode": "markers",
         "name": "Slovenia",
         "orientation": "v",
         "showlegend": false,
         "type": "scatter",
         "x": [
          25768.25759
         ],
         "xaxis": "x",
         "y": [
          77.926
         ],
         "yaxis": "y"
        },
        {
         "hovertemplate": "country=Spain<br>year=1992<br>gdpPercap=%{x}<br>lifeExp=%{y}<extra></extra>",
         "legendgroup": "Spain",
         "marker": {
          "color": "#19d3f3",
          "symbol": "circle"
         },
         "mode": "markers",
         "name": "Spain",
         "orientation": "v",
         "showlegend": true,
         "type": "scatter",
         "x": [
          18603.06452
         ],
         "xaxis": "x4",
         "y": [
          77.57
         ],
         "yaxis": "y4"
        },
        {
         "hovertemplate": "country=Spain<br>year=1997<br>gdpPercap=%{x}<br>lifeExp=%{y}<extra></extra>",
         "legendgroup": "Spain",
         "marker": {
          "color": "#19d3f3",
          "symbol": "circle"
         },
         "mode": "markers",
         "name": "Spain",
         "orientation": "v",
         "showlegend": false,
         "type": "scatter",
         "x": [
          20445.29896
         ],
         "xaxis": "x3",
         "y": [
          78.77
         ],
         "yaxis": "y3"
        },
        {
         "hovertemplate": "country=Spain<br>year=2002<br>gdpPercap=%{x}<br>lifeExp=%{y}<extra></extra>",
         "legendgroup": "Spain",
         "marker": {
          "color": "#19d3f3",
          "symbol": "circle"
         },
         "mode": "markers",
         "name": "Spain",
         "orientation": "v",
         "showlegend": false,
         "type": "scatter",
         "x": [
          24835.47166
         ],
         "xaxis": "x2",
         "y": [
          79.78
         ],
         "yaxis": "y2"
        },
        {
         "hovertemplate": "country=Spain<br>year=2007<br>gdpPercap=%{x}<br>lifeExp=%{y}<extra></extra>",
         "legendgroup": "Spain",
         "marker": {
          "color": "#19d3f3",
          "symbol": "circle"
         },
         "mode": "markers",
         "name": "Spain",
         "orientation": "v",
         "showlegend": false,
         "type": "scatter",
         "x": [
          28821.0637
         ],
         "xaxis": "x",
         "y": [
          80.941
         ],
         "yaxis": "y"
        },
        {
         "hovertemplate": "country=Sweden<br>year=1992<br>gdpPercap=%{x}<br>lifeExp=%{y}<extra></extra>",
         "legendgroup": "Sweden",
         "marker": {
          "color": "#FF6692",
          "symbol": "circle"
         },
         "mode": "markers",
         "name": "Sweden",
         "orientation": "v",
         "showlegend": true,
         "type": "scatter",
         "x": [
          23880.01683
         ],
         "xaxis": "x4",
         "y": [
          78.16
         ],
         "yaxis": "y4"
        },
        {
         "hovertemplate": "country=Sweden<br>year=1997<br>gdpPercap=%{x}<br>lifeExp=%{y}<extra></extra>",
         "legendgroup": "Sweden",
         "marker": {
          "color": "#FF6692",
          "symbol": "circle"
         },
         "mode": "markers",
         "name": "Sweden",
         "orientation": "v",
         "showlegend": false,
         "type": "scatter",
         "x": [
          25266.59499
         ],
         "xaxis": "x3",
         "y": [
          79.39
         ],
         "yaxis": "y3"
        },
        {
         "hovertemplate": "country=Sweden<br>year=2002<br>gdpPercap=%{x}<br>lifeExp=%{y}<extra></extra>",
         "legendgroup": "Sweden",
         "marker": {
          "color": "#FF6692",
          "symbol": "circle"
         },
         "mode": "markers",
         "name": "Sweden",
         "orientation": "v",
         "showlegend": false,
         "type": "scatter",
         "x": [
          29341.63093000001
         ],
         "xaxis": "x2",
         "y": [
          80.04
         ],
         "yaxis": "y2"
        },
        {
         "hovertemplate": "country=Sweden<br>year=2007<br>gdpPercap=%{x}<br>lifeExp=%{y}<extra></extra>",
         "legendgroup": "Sweden",
         "marker": {
          "color": "#FF6692",
          "symbol": "circle"
         },
         "mode": "markers",
         "name": "Sweden",
         "orientation": "v",
         "showlegend": false,
         "type": "scatter",
         "x": [
          33859.74835
         ],
         "xaxis": "x",
         "y": [
          80.884
         ],
         "yaxis": "y"
        },
        {
         "hovertemplate": "country=Switzerland<br>year=1992<br>gdpPercap=%{x}<br>lifeExp=%{y}<extra></extra>",
         "legendgroup": "Switzerland",
         "marker": {
          "color": "#B6E880",
          "symbol": "circle"
         },
         "mode": "markers",
         "name": "Switzerland",
         "orientation": "v",
         "showlegend": true,
         "type": "scatter",
         "x": [
          31871.5303
         ],
         "xaxis": "x4",
         "y": [
          78.03
         ],
         "yaxis": "y4"
        },
        {
         "hovertemplate": "country=Switzerland<br>year=1997<br>gdpPercap=%{x}<br>lifeExp=%{y}<extra></extra>",
         "legendgroup": "Switzerland",
         "marker": {
          "color": "#B6E880",
          "symbol": "circle"
         },
         "mode": "markers",
         "name": "Switzerland",
         "orientation": "v",
         "showlegend": false,
         "type": "scatter",
         "x": [
          32135.323010000004
         ],
         "xaxis": "x3",
         "y": [
          79.37
         ],
         "yaxis": "y3"
        },
        {
         "hovertemplate": "country=Switzerland<br>year=2002<br>gdpPercap=%{x}<br>lifeExp=%{y}<extra></extra>",
         "legendgroup": "Switzerland",
         "marker": {
          "color": "#B6E880",
          "symbol": "circle"
         },
         "mode": "markers",
         "name": "Switzerland",
         "orientation": "v",
         "showlegend": false,
         "type": "scatter",
         "x": [
          34480.95771
         ],
         "xaxis": "x2",
         "y": [
          80.62
         ],
         "yaxis": "y2"
        },
        {
         "hovertemplate": "country=Switzerland<br>year=2007<br>gdpPercap=%{x}<br>lifeExp=%{y}<extra></extra>",
         "legendgroup": "Switzerland",
         "marker": {
          "color": "#B6E880",
          "symbol": "circle"
         },
         "mode": "markers",
         "name": "Switzerland",
         "orientation": "v",
         "showlegend": false,
         "type": "scatter",
         "x": [
          37506.419069999996
         ],
         "xaxis": "x",
         "y": [
          81.70100000000002
         ],
         "yaxis": "y"
        },
        {
         "hovertemplate": "country=Turkey<br>year=1992<br>gdpPercap=%{x}<br>lifeExp=%{y}<extra></extra>",
         "legendgroup": "Turkey",
         "marker": {
          "color": "#FF97FF",
          "symbol": "circle"
         },
         "mode": "markers",
         "name": "Turkey",
         "orientation": "v",
         "showlegend": true,
         "type": "scatter",
         "x": [
          5678.348271
         ],
         "xaxis": "x4",
         "y": [
          66.146
         ],
         "yaxis": "y4"
        },
        {
         "hovertemplate": "country=Turkey<br>year=1997<br>gdpPercap=%{x}<br>lifeExp=%{y}<extra></extra>",
         "legendgroup": "Turkey",
         "marker": {
          "color": "#FF97FF",
          "symbol": "circle"
         },
         "mode": "markers",
         "name": "Turkey",
         "orientation": "v",
         "showlegend": false,
         "type": "scatter",
         "x": [
          6601.429915
         ],
         "xaxis": "x3",
         "y": [
          68.835
         ],
         "yaxis": "y3"
        },
        {
         "hovertemplate": "country=Turkey<br>year=2002<br>gdpPercap=%{x}<br>lifeExp=%{y}<extra></extra>",
         "legendgroup": "Turkey",
         "marker": {
          "color": "#FF97FF",
          "symbol": "circle"
         },
         "mode": "markers",
         "name": "Turkey",
         "orientation": "v",
         "showlegend": false,
         "type": "scatter",
         "x": [
          6508.085718
         ],
         "xaxis": "x2",
         "y": [
          70.845
         ],
         "yaxis": "y2"
        },
        {
         "hovertemplate": "country=Turkey<br>year=2007<br>gdpPercap=%{x}<br>lifeExp=%{y}<extra></extra>",
         "legendgroup": "Turkey",
         "marker": {
          "color": "#FF97FF",
          "symbol": "circle"
         },
         "mode": "markers",
         "name": "Turkey",
         "orientation": "v",
         "showlegend": false,
         "type": "scatter",
         "x": [
          8458.276384
         ],
         "xaxis": "x",
         "y": [
          71.777
         ],
         "yaxis": "y"
        },
        {
         "hovertemplate": "country=United Kingdom<br>year=1992<br>gdpPercap=%{x}<br>lifeExp=%{y}<extra></extra>",
         "legendgroup": "United Kingdom",
         "marker": {
          "color": "#FECB52",
          "symbol": "circle"
         },
         "mode": "markers",
         "name": "United Kingdom",
         "orientation": "v",
         "showlegend": true,
         "type": "scatter",
         "x": [
          22705.09254
         ],
         "xaxis": "x4",
         "y": [
          76.42
         ],
         "yaxis": "y4"
        },
        {
         "hovertemplate": "country=United Kingdom<br>year=1997<br>gdpPercap=%{x}<br>lifeExp=%{y}<extra></extra>",
         "legendgroup": "United Kingdom",
         "marker": {
          "color": "#FECB52",
          "symbol": "circle"
         },
         "mode": "markers",
         "name": "United Kingdom",
         "orientation": "v",
         "showlegend": false,
         "type": "scatter",
         "x": [
          26074.53136
         ],
         "xaxis": "x3",
         "y": [
          77.218
         ],
         "yaxis": "y3"
        },
        {
         "hovertemplate": "country=United Kingdom<br>year=2002<br>gdpPercap=%{x}<br>lifeExp=%{y}<extra></extra>",
         "legendgroup": "United Kingdom",
         "marker": {
          "color": "#FECB52",
          "symbol": "circle"
         },
         "mode": "markers",
         "name": "United Kingdom",
         "orientation": "v",
         "showlegend": false,
         "type": "scatter",
         "x": [
          29478.99919
         ],
         "xaxis": "x2",
         "y": [
          78.471
         ],
         "yaxis": "y2"
        },
        {
         "hovertemplate": "country=United Kingdom<br>year=2007<br>gdpPercap=%{x}<br>lifeExp=%{y}<extra></extra>",
         "legendgroup": "United Kingdom",
         "marker": {
          "color": "#FECB52",
          "symbol": "circle"
         },
         "mode": "markers",
         "name": "United Kingdom",
         "orientation": "v",
         "showlegend": false,
         "type": "scatter",
         "x": [
          33203.26128
         ],
         "xaxis": "x",
         "y": [
          79.425
         ],
         "yaxis": "y"
        }
       ],
       "layout": {
        "annotations": [
         {
          "font": {},
          "showarrow": false,
          "text": "year=2007",
          "textangle": 90,
          "x": 0.98,
          "xanchor": "left",
          "xref": "paper",
          "y": 0.11375,
          "yanchor": "middle",
          "yref": "paper"
         },
         {
          "font": {},
          "showarrow": false,
          "text": "year=2002",
          "textangle": 90,
          "x": 0.98,
          "xanchor": "left",
          "xref": "paper",
          "y": 0.37124999999999997,
          "yanchor": "middle",
          "yref": "paper"
         },
         {
          "font": {},
          "showarrow": false,
          "text": "year=1997",
          "textangle": 90,
          "x": 0.98,
          "xanchor": "left",
          "xref": "paper",
          "y": 0.62875,
          "yanchor": "middle",
          "yref": "paper"
         },
         {
          "font": {},
          "showarrow": false,
          "text": "year=1992",
          "textangle": 90,
          "x": 0.98,
          "xanchor": "left",
          "xref": "paper",
          "y": 0.88625,
          "yanchor": "middle",
          "yref": "paper"
         }
        ],
        "height": 500,
        "legend": {
         "title": {
          "text": "country"
         },
         "tracegroupgap": 0
        },
        "margin": {
         "t": 60
        },
        "template": {
         "data": {
          "bar": [
           {
            "error_x": {
             "color": "#2a3f5f"
            },
            "error_y": {
             "color": "#2a3f5f"
            },
            "marker": {
             "line": {
              "color": "#E5ECF6",
              "width": 0.5
             },
             "pattern": {
              "fillmode": "overlay",
              "size": 10,
              "solidity": 0.2
             }
            },
            "type": "bar"
           }
          ],
          "barpolar": [
           {
            "marker": {
             "line": {
              "color": "#E5ECF6",
              "width": 0.5
             },
             "pattern": {
              "fillmode": "overlay",
              "size": 10,
              "solidity": 0.2
             }
            },
            "type": "barpolar"
           }
          ],
          "carpet": [
           {
            "aaxis": {
             "endlinecolor": "#2a3f5f",
             "gridcolor": "white",
             "linecolor": "white",
             "minorgridcolor": "white",
             "startlinecolor": "#2a3f5f"
            },
            "baxis": {
             "endlinecolor": "#2a3f5f",
             "gridcolor": "white",
             "linecolor": "white",
             "minorgridcolor": "white",
             "startlinecolor": "#2a3f5f"
            },
            "type": "carpet"
           }
          ],
          "choropleth": [
           {
            "colorbar": {
             "outlinewidth": 0,
             "ticks": ""
            },
            "type": "choropleth"
           }
          ],
          "contour": [
           {
            "colorbar": {
             "outlinewidth": 0,
             "ticks": ""
            },
            "colorscale": [
             [
              0,
              "#0d0887"
             ],
             [
              0.1111111111111111,
              "#46039f"
             ],
             [
              0.2222222222222222,
              "#7201a8"
             ],
             [
              0.3333333333333333,
              "#9c179e"
             ],
             [
              0.4444444444444444,
              "#bd3786"
             ],
             [
              0.5555555555555556,
              "#d8576b"
             ],
             [
              0.6666666666666666,
              "#ed7953"
             ],
             [
              0.7777777777777778,
              "#fb9f3a"
             ],
             [
              0.8888888888888888,
              "#fdca26"
             ],
             [
              1,
              "#f0f921"
             ]
            ],
            "type": "contour"
           }
          ],
          "contourcarpet": [
           {
            "colorbar": {
             "outlinewidth": 0,
             "ticks": ""
            },
            "type": "contourcarpet"
           }
          ],
          "heatmap": [
           {
            "colorbar": {
             "outlinewidth": 0,
             "ticks": ""
            },
            "colorscale": [
             [
              0,
              "#0d0887"
             ],
             [
              0.1111111111111111,
              "#46039f"
             ],
             [
              0.2222222222222222,
              "#7201a8"
             ],
             [
              0.3333333333333333,
              "#9c179e"
             ],
             [
              0.4444444444444444,
              "#bd3786"
             ],
             [
              0.5555555555555556,
              "#d8576b"
             ],
             [
              0.6666666666666666,
              "#ed7953"
             ],
             [
              0.7777777777777778,
              "#fb9f3a"
             ],
             [
              0.8888888888888888,
              "#fdca26"
             ],
             [
              1,
              "#f0f921"
             ]
            ],
            "type": "heatmap"
           }
          ],
          "heatmapgl": [
           {
            "colorbar": {
             "outlinewidth": 0,
             "ticks": ""
            },
            "colorscale": [
             [
              0,
              "#0d0887"
             ],
             [
              0.1111111111111111,
              "#46039f"
             ],
             [
              0.2222222222222222,
              "#7201a8"
             ],
             [
              0.3333333333333333,
              "#9c179e"
             ],
             [
              0.4444444444444444,
              "#bd3786"
             ],
             [
              0.5555555555555556,
              "#d8576b"
             ],
             [
              0.6666666666666666,
              "#ed7953"
             ],
             [
              0.7777777777777778,
              "#fb9f3a"
             ],
             [
              0.8888888888888888,
              "#fdca26"
             ],
             [
              1,
              "#f0f921"
             ]
            ],
            "type": "heatmapgl"
           }
          ],
          "histogram": [
           {
            "marker": {
             "pattern": {
              "fillmode": "overlay",
              "size": 10,
              "solidity": 0.2
             }
            },
            "type": "histogram"
           }
          ],
          "histogram2d": [
           {
            "colorbar": {
             "outlinewidth": 0,
             "ticks": ""
            },
            "colorscale": [
             [
              0,
              "#0d0887"
             ],
             [
              0.1111111111111111,
              "#46039f"
             ],
             [
              0.2222222222222222,
              "#7201a8"
             ],
             [
              0.3333333333333333,
              "#9c179e"
             ],
             [
              0.4444444444444444,
              "#bd3786"
             ],
             [
              0.5555555555555556,
              "#d8576b"
             ],
             [
              0.6666666666666666,
              "#ed7953"
             ],
             [
              0.7777777777777778,
              "#fb9f3a"
             ],
             [
              0.8888888888888888,
              "#fdca26"
             ],
             [
              1,
              "#f0f921"
             ]
            ],
            "type": "histogram2d"
           }
          ],
          "histogram2dcontour": [
           {
            "colorbar": {
             "outlinewidth": 0,
             "ticks": ""
            },
            "colorscale": [
             [
              0,
              "#0d0887"
             ],
             [
              0.1111111111111111,
              "#46039f"
             ],
             [
              0.2222222222222222,
              "#7201a8"
             ],
             [
              0.3333333333333333,
              "#9c179e"
             ],
             [
              0.4444444444444444,
              "#bd3786"
             ],
             [
              0.5555555555555556,
              "#d8576b"
             ],
             [
              0.6666666666666666,
              "#ed7953"
             ],
             [
              0.7777777777777778,
              "#fb9f3a"
             ],
             [
              0.8888888888888888,
              "#fdca26"
             ],
             [
              1,
              "#f0f921"
             ]
            ],
            "type": "histogram2dcontour"
           }
          ],
          "mesh3d": [
           {
            "colorbar": {
             "outlinewidth": 0,
             "ticks": ""
            },
            "type": "mesh3d"
           }
          ],
          "parcoords": [
           {
            "line": {
             "colorbar": {
              "outlinewidth": 0,
              "ticks": ""
             }
            },
            "type": "parcoords"
           }
          ],
          "pie": [
           {
            "automargin": true,
            "type": "pie"
           }
          ],
          "scatter": [
           {
            "marker": {
             "colorbar": {
              "outlinewidth": 0,
              "ticks": ""
             }
            },
            "type": "scatter"
           }
          ],
          "scatter3d": [
           {
            "line": {
             "colorbar": {
              "outlinewidth": 0,
              "ticks": ""
             }
            },
            "marker": {
             "colorbar": {
              "outlinewidth": 0,
              "ticks": ""
             }
            },
            "type": "scatter3d"
           }
          ],
          "scattercarpet": [
           {
            "marker": {
             "colorbar": {
              "outlinewidth": 0,
              "ticks": ""
             }
            },
            "type": "scattercarpet"
           }
          ],
          "scattergeo": [
           {
            "marker": {
             "colorbar": {
              "outlinewidth": 0,
              "ticks": ""
             }
            },
            "type": "scattergeo"
           }
          ],
          "scattergl": [
           {
            "marker": {
             "colorbar": {
              "outlinewidth": 0,
              "ticks": ""
             }
            },
            "type": "scattergl"
           }
          ],
          "scattermapbox": [
           {
            "marker": {
             "colorbar": {
              "outlinewidth": 0,
              "ticks": ""
             }
            },
            "type": "scattermapbox"
           }
          ],
          "scatterpolar": [
           {
            "marker": {
             "colorbar": {
              "outlinewidth": 0,
              "ticks": ""
             }
            },
            "type": "scatterpolar"
           }
          ],
          "scatterpolargl": [
           {
            "marker": {
             "colorbar": {
              "outlinewidth": 0,
              "ticks": ""
             }
            },
            "type": "scatterpolargl"
           }
          ],
          "scatterternary": [
           {
            "marker": {
             "colorbar": {
              "outlinewidth": 0,
              "ticks": ""
             }
            },
            "type": "scatterternary"
           }
          ],
          "surface": [
           {
            "colorbar": {
             "outlinewidth": 0,
             "ticks": ""
            },
            "colorscale": [
             [
              0,
              "#0d0887"
             ],
             [
              0.1111111111111111,
              "#46039f"
             ],
             [
              0.2222222222222222,
              "#7201a8"
             ],
             [
              0.3333333333333333,
              "#9c179e"
             ],
             [
              0.4444444444444444,
              "#bd3786"
             ],
             [
              0.5555555555555556,
              "#d8576b"
             ],
             [
              0.6666666666666666,
              "#ed7953"
             ],
             [
              0.7777777777777778,
              "#fb9f3a"
             ],
             [
              0.8888888888888888,
              "#fdca26"
             ],
             [
              1,
              "#f0f921"
             ]
            ],
            "type": "surface"
           }
          ],
          "table": [
           {
            "cells": {
             "fill": {
              "color": "#EBF0F8"
             },
             "line": {
              "color": "white"
             }
            },
            "header": {
             "fill": {
              "color": "#C8D4E3"
             },
             "line": {
              "color": "white"
             }
            },
            "type": "table"
           }
          ]
         },
         "layout": {
          "annotationdefaults": {
           "arrowcolor": "#2a3f5f",
           "arrowhead": 0,
           "arrowwidth": 1
          },
          "autotypenumbers": "strict",
          "coloraxis": {
           "colorbar": {
            "outlinewidth": 0,
            "ticks": ""
           }
          },
          "colorscale": {
           "diverging": [
            [
             0,
             "#8e0152"
            ],
            [
             0.1,
             "#c51b7d"
            ],
            [
             0.2,
             "#de77ae"
            ],
            [
             0.3,
             "#f1b6da"
            ],
            [
             0.4,
             "#fde0ef"
            ],
            [
             0.5,
             "#f7f7f7"
            ],
            [
             0.6,
             "#e6f5d0"
            ],
            [
             0.7,
             "#b8e186"
            ],
            [
             0.8,
             "#7fbc41"
            ],
            [
             0.9,
             "#4d9221"
            ],
            [
             1,
             "#276419"
            ]
           ],
           "sequential": [
            [
             0,
             "#0d0887"
            ],
            [
             0.1111111111111111,
             "#46039f"
            ],
            [
             0.2222222222222222,
             "#7201a8"
            ],
            [
             0.3333333333333333,
             "#9c179e"
            ],
            [
             0.4444444444444444,
             "#bd3786"
            ],
            [
             0.5555555555555556,
             "#d8576b"
            ],
            [
             0.6666666666666666,
             "#ed7953"
            ],
            [
             0.7777777777777778,
             "#fb9f3a"
            ],
            [
             0.8888888888888888,
             "#fdca26"
            ],
            [
             1,
             "#f0f921"
            ]
           ],
           "sequentialminus": [
            [
             0,
             "#0d0887"
            ],
            [
             0.1111111111111111,
             "#46039f"
            ],
            [
             0.2222222222222222,
             "#7201a8"
            ],
            [
             0.3333333333333333,
             "#9c179e"
            ],
            [
             0.4444444444444444,
             "#bd3786"
            ],
            [
             0.5555555555555556,
             "#d8576b"
            ],
            [
             0.6666666666666666,
             "#ed7953"
            ],
            [
             0.7777777777777778,
             "#fb9f3a"
            ],
            [
             0.8888888888888888,
             "#fdca26"
            ],
            [
             1,
             "#f0f921"
            ]
           ]
          },
          "colorway": [
           "#636efa",
           "#EF553B",
           "#00cc96",
           "#ab63fa",
           "#FFA15A",
           "#19d3f3",
           "#FF6692",
           "#B6E880",
           "#FF97FF",
           "#FECB52"
          ],
          "font": {
           "color": "#2a3f5f"
          },
          "geo": {
           "bgcolor": "white",
           "lakecolor": "white",
           "landcolor": "#E5ECF6",
           "showlakes": true,
           "showland": true,
           "subunitcolor": "white"
          },
          "hoverlabel": {
           "align": "left"
          },
          "hovermode": "closest",
          "mapbox": {
           "style": "light"
          },
          "paper_bgcolor": "white",
          "plot_bgcolor": "#E5ECF6",
          "polar": {
           "angularaxis": {
            "gridcolor": "white",
            "linecolor": "white",
            "ticks": ""
           },
           "bgcolor": "#E5ECF6",
           "radialaxis": {
            "gridcolor": "white",
            "linecolor": "white",
            "ticks": ""
           }
          },
          "scene": {
           "xaxis": {
            "backgroundcolor": "#E5ECF6",
            "gridcolor": "white",
            "gridwidth": 2,
            "linecolor": "white",
            "showbackground": true,
            "ticks": "",
            "zerolinecolor": "white"
           },
           "yaxis": {
            "backgroundcolor": "#E5ECF6",
            "gridcolor": "white",
            "gridwidth": 2,
            "linecolor": "white",
            "showbackground": true,
            "ticks": "",
            "zerolinecolor": "white"
           },
           "zaxis": {
            "backgroundcolor": "#E5ECF6",
            "gridcolor": "white",
            "gridwidth": 2,
            "linecolor": "white",
            "showbackground": true,
            "ticks": "",
            "zerolinecolor": "white"
           }
          },
          "shapedefaults": {
           "line": {
            "color": "#2a3f5f"
           }
          },
          "ternary": {
           "aaxis": {
            "gridcolor": "white",
            "linecolor": "white",
            "ticks": ""
           },
           "baxis": {
            "gridcolor": "white",
            "linecolor": "white",
            "ticks": ""
           },
           "bgcolor": "#E5ECF6",
           "caxis": {
            "gridcolor": "white",
            "linecolor": "white",
            "ticks": ""
           }
          },
          "title": {
           "x": 0.05
          },
          "xaxis": {
           "automargin": true,
           "gridcolor": "white",
           "linecolor": "white",
           "ticks": "",
           "title": {
            "standoff": 15
           },
           "zerolinecolor": "white",
           "zerolinewidth": 2
          },
          "yaxis": {
           "automargin": true,
           "gridcolor": "white",
           "linecolor": "white",
           "ticks": "",
           "title": {
            "standoff": 15
           },
           "zerolinecolor": "white",
           "zerolinewidth": 2
          }
         }
        },
        "xaxis": {
         "anchor": "y",
         "domain": [
          0,
          0.98
         ],
         "title": {
          "text": "gdpPercap"
         }
        },
        "xaxis2": {
         "anchor": "y2",
         "domain": [
          0,
          0.98
         ],
         "matches": "x",
         "showticklabels": false
        },
        "xaxis3": {
         "anchor": "y3",
         "domain": [
          0,
          0.98
         ],
         "matches": "x",
         "showticklabels": false
        },
        "xaxis4": {
         "anchor": "y4",
         "domain": [
          0,
          0.98
         ],
         "matches": "x",
         "showticklabels": false
        },
        "yaxis": {
         "anchor": "x",
         "domain": [
          0,
          0.2275
         ],
         "title": {
          "text": "lifeExp"
         }
        },
        "yaxis2": {
         "anchor": "x2",
         "domain": [
          0.2575,
          0.485
         ],
         "matches": "y",
         "title": {
          "text": "lifeExp"
         }
        },
        "yaxis3": {
         "anchor": "x3",
         "domain": [
          0.515,
          0.7425
         ],
         "matches": "y",
         "title": {
          "text": "lifeExp"
         }
        },
        "yaxis4": {
         "anchor": "x4",
         "domain": [
          0.7725,
          1
         ],
         "matches": "y",
         "title": {
          "text": "lifeExp"
         }
        }
       }
      },
      "text/html": [
       "<div>                            <div id=\"5ae62d4b-0493-4ada-b66e-24ab2af2fcca\" class=\"plotly-graph-div\" style=\"height:500px; width:100%;\"></div>            <script type=\"text/javascript\">                require([\"plotly\"], function(Plotly) {                    window.PLOTLYENV=window.PLOTLYENV || {};                                    if (document.getElementById(\"5ae62d4b-0493-4ada-b66e-24ab2af2fcca\")) {                    Plotly.newPlot(                        \"5ae62d4b-0493-4ada-b66e-24ab2af2fcca\",                        [{\"hovertemplate\":\"country=Albania<br>year=1992<br>gdpPercap=%{x}<br>lifeExp=%{y}<extra></extra>\",\"legendgroup\":\"Albania\",\"marker\":{\"color\":\"#636efa\",\"symbol\":\"circle\"},\"mode\":\"markers\",\"name\":\"Albania\",\"orientation\":\"v\",\"showlegend\":true,\"type\":\"scatter\",\"x\":[2497.4379010000002],\"xaxis\":\"x4\",\"y\":[71.581],\"yaxis\":\"y4\"},{\"hovertemplate\":\"country=Albania<br>year=1997<br>gdpPercap=%{x}<br>lifeExp=%{y}<extra></extra>\",\"legendgroup\":\"Albania\",\"marker\":{\"color\":\"#636efa\",\"symbol\":\"circle\"},\"mode\":\"markers\",\"name\":\"Albania\",\"orientation\":\"v\",\"showlegend\":false,\"type\":\"scatter\",\"x\":[3193.054604],\"xaxis\":\"x3\",\"y\":[72.95],\"yaxis\":\"y3\"},{\"hovertemplate\":\"country=Albania<br>year=2002<br>gdpPercap=%{x}<br>lifeExp=%{y}<extra></extra>\",\"legendgroup\":\"Albania\",\"marker\":{\"color\":\"#636efa\",\"symbol\":\"circle\"},\"mode\":\"markers\",\"name\":\"Albania\",\"orientation\":\"v\",\"showlegend\":false,\"type\":\"scatter\",\"x\":[4604.211737],\"xaxis\":\"x2\",\"y\":[75.65100000000002],\"yaxis\":\"y2\"},{\"hovertemplate\":\"country=Albania<br>year=2007<br>gdpPercap=%{x}<br>lifeExp=%{y}<extra></extra>\",\"legendgroup\":\"Albania\",\"marker\":{\"color\":\"#636efa\",\"symbol\":\"circle\"},\"mode\":\"markers\",\"name\":\"Albania\",\"orientation\":\"v\",\"showlegend\":false,\"type\":\"scatter\",\"x\":[5937.0295259999975],\"xaxis\":\"x\",\"y\":[76.423],\"yaxis\":\"y\"},{\"hovertemplate\":\"country=Austria<br>year=1992<br>gdpPercap=%{x}<br>lifeExp=%{y}<extra></extra>\",\"legendgroup\":\"Austria\",\"marker\":{\"color\":\"#EF553B\",\"symbol\":\"circle\"},\"mode\":\"markers\",\"name\":\"Austria\",\"orientation\":\"v\",\"showlegend\":true,\"type\":\"scatter\",\"x\":[27042.01868],\"xaxis\":\"x4\",\"y\":[76.04],\"yaxis\":\"y4\"},{\"hovertemplate\":\"country=Austria<br>year=1997<br>gdpPercap=%{x}<br>lifeExp=%{y}<extra></extra>\",\"legendgroup\":\"Austria\",\"marker\":{\"color\":\"#EF553B\",\"symbol\":\"circle\"},\"mode\":\"markers\",\"name\":\"Austria\",\"orientation\":\"v\",\"showlegend\":false,\"type\":\"scatter\",\"x\":[29095.920660000003],\"xaxis\":\"x3\",\"y\":[77.51],\"yaxis\":\"y3\"},{\"hovertemplate\":\"country=Austria<br>year=2002<br>gdpPercap=%{x}<br>lifeExp=%{y}<extra></extra>\",\"legendgroup\":\"Austria\",\"marker\":{\"color\":\"#EF553B\",\"symbol\":\"circle\"},\"mode\":\"markers\",\"name\":\"Austria\",\"orientation\":\"v\",\"showlegend\":false,\"type\":\"scatter\",\"x\":[32417.607689999997],\"xaxis\":\"x2\",\"y\":[78.98],\"yaxis\":\"y2\"},{\"hovertemplate\":\"country=Austria<br>year=2007<br>gdpPercap=%{x}<br>lifeExp=%{y}<extra></extra>\",\"legendgroup\":\"Austria\",\"marker\":{\"color\":\"#EF553B\",\"symbol\":\"circle\"},\"mode\":\"markers\",\"name\":\"Austria\",\"orientation\":\"v\",\"showlegend\":false,\"type\":\"scatter\",\"x\":[36126.4927],\"xaxis\":\"x\",\"y\":[79.829],\"yaxis\":\"y\"},{\"hovertemplate\":\"country=Belgium<br>year=1992<br>gdpPercap=%{x}<br>lifeExp=%{y}<extra></extra>\",\"legendgroup\":\"Belgium\",\"marker\":{\"color\":\"#00cc96\",\"symbol\":\"circle\"},\"mode\":\"markers\",\"name\":\"Belgium\",\"orientation\":\"v\",\"showlegend\":true,\"type\":\"scatter\",\"x\":[25575.57069],\"xaxis\":\"x4\",\"y\":[76.46],\"yaxis\":\"y4\"},{\"hovertemplate\":\"country=Belgium<br>year=1997<br>gdpPercap=%{x}<br>lifeExp=%{y}<extra></extra>\",\"legendgroup\":\"Belgium\",\"marker\":{\"color\":\"#00cc96\",\"symbol\":\"circle\"},\"mode\":\"markers\",\"name\":\"Belgium\",\"orientation\":\"v\",\"showlegend\":false,\"type\":\"scatter\",\"x\":[27561.196630000002],\"xaxis\":\"x3\",\"y\":[77.53],\"yaxis\":\"y3\"},{\"hovertemplate\":\"country=Belgium<br>year=2002<br>gdpPercap=%{x}<br>lifeExp=%{y}<extra></extra>\",\"legendgroup\":\"Belgium\",\"marker\":{\"color\":\"#00cc96\",\"symbol\":\"circle\"},\"mode\":\"markers\",\"name\":\"Belgium\",\"orientation\":\"v\",\"showlegend\":false,\"type\":\"scatter\",\"x\":[30485.88375],\"xaxis\":\"x2\",\"y\":[78.32],\"yaxis\":\"y2\"},{\"hovertemplate\":\"country=Belgium<br>year=2007<br>gdpPercap=%{x}<br>lifeExp=%{y}<extra></extra>\",\"legendgroup\":\"Belgium\",\"marker\":{\"color\":\"#00cc96\",\"symbol\":\"circle\"},\"mode\":\"markers\",\"name\":\"Belgium\",\"orientation\":\"v\",\"showlegend\":false,\"type\":\"scatter\",\"x\":[33692.60508],\"xaxis\":\"x\",\"y\":[79.441],\"yaxis\":\"y\"},{\"hovertemplate\":\"country=Bosnia and Herzegovina<br>year=1992<br>gdpPercap=%{x}<br>lifeExp=%{y}<extra></extra>\",\"legendgroup\":\"Bosnia and Herzegovina\",\"marker\":{\"color\":\"#ab63fa\",\"symbol\":\"circle\"},\"mode\":\"markers\",\"name\":\"Bosnia and Herzegovina\",\"orientation\":\"v\",\"showlegend\":true,\"type\":\"scatter\",\"x\":[2546.781445],\"xaxis\":\"x4\",\"y\":[72.178],\"yaxis\":\"y4\"},{\"hovertemplate\":\"country=Bosnia and Herzegovina<br>year=1997<br>gdpPercap=%{x}<br>lifeExp=%{y}<extra></extra>\",\"legendgroup\":\"Bosnia and Herzegovina\",\"marker\":{\"color\":\"#ab63fa\",\"symbol\":\"circle\"},\"mode\":\"markers\",\"name\":\"Bosnia and Herzegovina\",\"orientation\":\"v\",\"showlegend\":false,\"type\":\"scatter\",\"x\":[4766.355904],\"xaxis\":\"x3\",\"y\":[73.244],\"yaxis\":\"y3\"},{\"hovertemplate\":\"country=Bosnia and Herzegovina<br>year=2002<br>gdpPercap=%{x}<br>lifeExp=%{y}<extra></extra>\",\"legendgroup\":\"Bosnia and Herzegovina\",\"marker\":{\"color\":\"#ab63fa\",\"symbol\":\"circle\"},\"mode\":\"markers\",\"name\":\"Bosnia and Herzegovina\",\"orientation\":\"v\",\"showlegend\":false,\"type\":\"scatter\",\"x\":[6018.975239],\"xaxis\":\"x2\",\"y\":[74.09],\"yaxis\":\"y2\"},{\"hovertemplate\":\"country=Bosnia and Herzegovina<br>year=2007<br>gdpPercap=%{x}<br>lifeExp=%{y}<extra></extra>\",\"legendgroup\":\"Bosnia and Herzegovina\",\"marker\":{\"color\":\"#ab63fa\",\"symbol\":\"circle\"},\"mode\":\"markers\",\"name\":\"Bosnia and Herzegovina\",\"orientation\":\"v\",\"showlegend\":false,\"type\":\"scatter\",\"x\":[7446.298803],\"xaxis\":\"x\",\"y\":[74.852],\"yaxis\":\"y\"},{\"hovertemplate\":\"country=Bulgaria<br>year=1992<br>gdpPercap=%{x}<br>lifeExp=%{y}<extra></extra>\",\"legendgroup\":\"Bulgaria\",\"marker\":{\"color\":\"#FFA15A\",\"symbol\":\"circle\"},\"mode\":\"markers\",\"name\":\"Bulgaria\",\"orientation\":\"v\",\"showlegend\":true,\"type\":\"scatter\",\"x\":[6302.623438000001],\"xaxis\":\"x4\",\"y\":[71.19],\"yaxis\":\"y4\"},{\"hovertemplate\":\"country=Bulgaria<br>year=1997<br>gdpPercap=%{x}<br>lifeExp=%{y}<extra></extra>\",\"legendgroup\":\"Bulgaria\",\"marker\":{\"color\":\"#FFA15A\",\"symbol\":\"circle\"},\"mode\":\"markers\",\"name\":\"Bulgaria\",\"orientation\":\"v\",\"showlegend\":false,\"type\":\"scatter\",\"x\":[5970.38876],\"xaxis\":\"x3\",\"y\":[70.32],\"yaxis\":\"y3\"},{\"hovertemplate\":\"country=Bulgaria<br>year=2002<br>gdpPercap=%{x}<br>lifeExp=%{y}<extra></extra>\",\"legendgroup\":\"Bulgaria\",\"marker\":{\"color\":\"#FFA15A\",\"symbol\":\"circle\"},\"mode\":\"markers\",\"name\":\"Bulgaria\",\"orientation\":\"v\",\"showlegend\":false,\"type\":\"scatter\",\"x\":[7696.777725],\"xaxis\":\"x2\",\"y\":[72.14],\"yaxis\":\"y2\"},{\"hovertemplate\":\"country=Bulgaria<br>year=2007<br>gdpPercap=%{x}<br>lifeExp=%{y}<extra></extra>\",\"legendgroup\":\"Bulgaria\",\"marker\":{\"color\":\"#FFA15A\",\"symbol\":\"circle\"},\"mode\":\"markers\",\"name\":\"Bulgaria\",\"orientation\":\"v\",\"showlegend\":false,\"type\":\"scatter\",\"x\":[10680.79282],\"xaxis\":\"x\",\"y\":[73.005],\"yaxis\":\"y\"},{\"hovertemplate\":\"country=Croatia<br>year=1992<br>gdpPercap=%{x}<br>lifeExp=%{y}<extra></extra>\",\"legendgroup\":\"Croatia\",\"marker\":{\"color\":\"#19d3f3\",\"symbol\":\"circle\"},\"mode\":\"markers\",\"name\":\"Croatia\",\"orientation\":\"v\",\"showlegend\":true,\"type\":\"scatter\",\"x\":[8447.794873],\"xaxis\":\"x4\",\"y\":[72.527],\"yaxis\":\"y4\"},{\"hovertemplate\":\"country=Croatia<br>year=1997<br>gdpPercap=%{x}<br>lifeExp=%{y}<extra></extra>\",\"legendgroup\":\"Croatia\",\"marker\":{\"color\":\"#19d3f3\",\"symbol\":\"circle\"},\"mode\":\"markers\",\"name\":\"Croatia\",\"orientation\":\"v\",\"showlegend\":false,\"type\":\"scatter\",\"x\":[9875.604515],\"xaxis\":\"x3\",\"y\":[73.68],\"yaxis\":\"y3\"},{\"hovertemplate\":\"country=Croatia<br>year=2002<br>gdpPercap=%{x}<br>lifeExp=%{y}<extra></extra>\",\"legendgroup\":\"Croatia\",\"marker\":{\"color\":\"#19d3f3\",\"symbol\":\"circle\"},\"mode\":\"markers\",\"name\":\"Croatia\",\"orientation\":\"v\",\"showlegend\":false,\"type\":\"scatter\",\"x\":[11628.38895],\"xaxis\":\"x2\",\"y\":[74.876],\"yaxis\":\"y2\"},{\"hovertemplate\":\"country=Croatia<br>year=2007<br>gdpPercap=%{x}<br>lifeExp=%{y}<extra></extra>\",\"legendgroup\":\"Croatia\",\"marker\":{\"color\":\"#19d3f3\",\"symbol\":\"circle\"},\"mode\":\"markers\",\"name\":\"Croatia\",\"orientation\":\"v\",\"showlegend\":false,\"type\":\"scatter\",\"x\":[14619.222719999998],\"xaxis\":\"x\",\"y\":[75.748],\"yaxis\":\"y\"},{\"hovertemplate\":\"country=Czech Republic<br>year=1992<br>gdpPercap=%{x}<br>lifeExp=%{y}<extra></extra>\",\"legendgroup\":\"Czech Republic\",\"marker\":{\"color\":\"#FF6692\",\"symbol\":\"circle\"},\"mode\":\"markers\",\"name\":\"Czech Republic\",\"orientation\":\"v\",\"showlegend\":true,\"type\":\"scatter\",\"x\":[14297.021219999999],\"xaxis\":\"x4\",\"y\":[72.4],\"yaxis\":\"y4\"},{\"hovertemplate\":\"country=Czech Republic<br>year=1997<br>gdpPercap=%{x}<br>lifeExp=%{y}<extra></extra>\",\"legendgroup\":\"Czech Republic\",\"marker\":{\"color\":\"#FF6692\",\"symbol\":\"circle\"},\"mode\":\"markers\",\"name\":\"Czech Republic\",\"orientation\":\"v\",\"showlegend\":false,\"type\":\"scatter\",\"x\":[16048.51424],\"xaxis\":\"x3\",\"y\":[74.01],\"yaxis\":\"y3\"},{\"hovertemplate\":\"country=Czech Republic<br>year=2002<br>gdpPercap=%{x}<br>lifeExp=%{y}<extra></extra>\",\"legendgroup\":\"Czech Republic\",\"marker\":{\"color\":\"#FF6692\",\"symbol\":\"circle\"},\"mode\":\"markers\",\"name\":\"Czech Republic\",\"orientation\":\"v\",\"showlegend\":false,\"type\":\"scatter\",\"x\":[17596.210219999994],\"xaxis\":\"x2\",\"y\":[75.51],\"yaxis\":\"y2\"},{\"hovertemplate\":\"country=Czech Republic<br>year=2007<br>gdpPercap=%{x}<br>lifeExp=%{y}<extra></extra>\",\"legendgroup\":\"Czech Republic\",\"marker\":{\"color\":\"#FF6692\",\"symbol\":\"circle\"},\"mode\":\"markers\",\"name\":\"Czech Republic\",\"orientation\":\"v\",\"showlegend\":false,\"type\":\"scatter\",\"x\":[22833.30851],\"xaxis\":\"x\",\"y\":[76.486],\"yaxis\":\"y\"},{\"hovertemplate\":\"country=Denmark<br>year=1992<br>gdpPercap=%{x}<br>lifeExp=%{y}<extra></extra>\",\"legendgroup\":\"Denmark\",\"marker\":{\"color\":\"#B6E880\",\"symbol\":\"circle\"},\"mode\":\"markers\",\"name\":\"Denmark\",\"orientation\":\"v\",\"showlegend\":true,\"type\":\"scatter\",\"x\":[26406.73985],\"xaxis\":\"x4\",\"y\":[75.33],\"yaxis\":\"y4\"},{\"hovertemplate\":\"country=Denmark<br>year=1997<br>gdpPercap=%{x}<br>lifeExp=%{y}<extra></extra>\",\"legendgroup\":\"Denmark\",\"marker\":{\"color\":\"#B6E880\",\"symbol\":\"circle\"},\"mode\":\"markers\",\"name\":\"Denmark\",\"orientation\":\"v\",\"showlegend\":false,\"type\":\"scatter\",\"x\":[29804.34567],\"xaxis\":\"x3\",\"y\":[76.11],\"yaxis\":\"y3\"},{\"hovertemplate\":\"country=Denmark<br>year=2002<br>gdpPercap=%{x}<br>lifeExp=%{y}<extra></extra>\",\"legendgroup\":\"Denmark\",\"marker\":{\"color\":\"#B6E880\",\"symbol\":\"circle\"},\"mode\":\"markers\",\"name\":\"Denmark\",\"orientation\":\"v\",\"showlegend\":false,\"type\":\"scatter\",\"x\":[32166.500060000002],\"xaxis\":\"x2\",\"y\":[77.18],\"yaxis\":\"y2\"},{\"hovertemplate\":\"country=Denmark<br>year=2007<br>gdpPercap=%{x}<br>lifeExp=%{y}<extra></extra>\",\"legendgroup\":\"Denmark\",\"marker\":{\"color\":\"#B6E880\",\"symbol\":\"circle\"},\"mode\":\"markers\",\"name\":\"Denmark\",\"orientation\":\"v\",\"showlegend\":false,\"type\":\"scatter\",\"x\":[35278.41874],\"xaxis\":\"x\",\"y\":[78.332],\"yaxis\":\"y\"},{\"hovertemplate\":\"country=Finland<br>year=1992<br>gdpPercap=%{x}<br>lifeExp=%{y}<extra></extra>\",\"legendgroup\":\"Finland\",\"marker\":{\"color\":\"#FF97FF\",\"symbol\":\"circle\"},\"mode\":\"markers\",\"name\":\"Finland\",\"orientation\":\"v\",\"showlegend\":true,\"type\":\"scatter\",\"x\":[20647.16499],\"xaxis\":\"x4\",\"y\":[75.7],\"yaxis\":\"y4\"},{\"hovertemplate\":\"country=Finland<br>year=1997<br>gdpPercap=%{x}<br>lifeExp=%{y}<extra></extra>\",\"legendgroup\":\"Finland\",\"marker\":{\"color\":\"#FF97FF\",\"symbol\":\"circle\"},\"mode\":\"markers\",\"name\":\"Finland\",\"orientation\":\"v\",\"showlegend\":false,\"type\":\"scatter\",\"x\":[23723.9502],\"xaxis\":\"x3\",\"y\":[77.13],\"yaxis\":\"y3\"},{\"hovertemplate\":\"country=Finland<br>year=2002<br>gdpPercap=%{x}<br>lifeExp=%{y}<extra></extra>\",\"legendgroup\":\"Finland\",\"marker\":{\"color\":\"#FF97FF\",\"symbol\":\"circle\"},\"mode\":\"markers\",\"name\":\"Finland\",\"orientation\":\"v\",\"showlegend\":false,\"type\":\"scatter\",\"x\":[28204.59057],\"xaxis\":\"x2\",\"y\":[78.37],\"yaxis\":\"y2\"},{\"hovertemplate\":\"country=Finland<br>year=2007<br>gdpPercap=%{x}<br>lifeExp=%{y}<extra></extra>\",\"legendgroup\":\"Finland\",\"marker\":{\"color\":\"#FF97FF\",\"symbol\":\"circle\"},\"mode\":\"markers\",\"name\":\"Finland\",\"orientation\":\"v\",\"showlegend\":false,\"type\":\"scatter\",\"x\":[33207.0844],\"xaxis\":\"x\",\"y\":[79.313],\"yaxis\":\"y\"},{\"hovertemplate\":\"country=France<br>year=1992<br>gdpPercap=%{x}<br>lifeExp=%{y}<extra></extra>\",\"legendgroup\":\"France\",\"marker\":{\"color\":\"#FECB52\",\"symbol\":\"circle\"},\"mode\":\"markers\",\"name\":\"France\",\"orientation\":\"v\",\"showlegend\":true,\"type\":\"scatter\",\"x\":[24703.79615],\"xaxis\":\"x4\",\"y\":[77.46],\"yaxis\":\"y4\"},{\"hovertemplate\":\"country=France<br>year=1997<br>gdpPercap=%{x}<br>lifeExp=%{y}<extra></extra>\",\"legendgroup\":\"France\",\"marker\":{\"color\":\"#FECB52\",\"symbol\":\"circle\"},\"mode\":\"markers\",\"name\":\"France\",\"orientation\":\"v\",\"showlegend\":false,\"type\":\"scatter\",\"x\":[25889.78487],\"xaxis\":\"x3\",\"y\":[78.64],\"yaxis\":\"y3\"},{\"hovertemplate\":\"country=France<br>year=2002<br>gdpPercap=%{x}<br>lifeExp=%{y}<extra></extra>\",\"legendgroup\":\"France\",\"marker\":{\"color\":\"#FECB52\",\"symbol\":\"circle\"},\"mode\":\"markers\",\"name\":\"France\",\"orientation\":\"v\",\"showlegend\":false,\"type\":\"scatter\",\"x\":[28926.032339999998],\"xaxis\":\"x2\",\"y\":[79.59],\"yaxis\":\"y2\"},{\"hovertemplate\":\"country=France<br>year=2007<br>gdpPercap=%{x}<br>lifeExp=%{y}<extra></extra>\",\"legendgroup\":\"France\",\"marker\":{\"color\":\"#FECB52\",\"symbol\":\"circle\"},\"mode\":\"markers\",\"name\":\"France\",\"orientation\":\"v\",\"showlegend\":false,\"type\":\"scatter\",\"x\":[30470.0167],\"xaxis\":\"x\",\"y\":[80.657],\"yaxis\":\"y\"},{\"hovertemplate\":\"country=Germany<br>year=1992<br>gdpPercap=%{x}<br>lifeExp=%{y}<extra></extra>\",\"legendgroup\":\"Germany\",\"marker\":{\"color\":\"#636efa\",\"symbol\":\"circle\"},\"mode\":\"markers\",\"name\":\"Germany\",\"orientation\":\"v\",\"showlegend\":true,\"type\":\"scatter\",\"x\":[26505.30317],\"xaxis\":\"x4\",\"y\":[76.07],\"yaxis\":\"y4\"},{\"hovertemplate\":\"country=Germany<br>year=1997<br>gdpPercap=%{x}<br>lifeExp=%{y}<extra></extra>\",\"legendgroup\":\"Germany\",\"marker\":{\"color\":\"#636efa\",\"symbol\":\"circle\"},\"mode\":\"markers\",\"name\":\"Germany\",\"orientation\":\"v\",\"showlegend\":false,\"type\":\"scatter\",\"x\":[27788.88416],\"xaxis\":\"x3\",\"y\":[77.34],\"yaxis\":\"y3\"},{\"hovertemplate\":\"country=Germany<br>year=2002<br>gdpPercap=%{x}<br>lifeExp=%{y}<extra></extra>\",\"legendgroup\":\"Germany\",\"marker\":{\"color\":\"#636efa\",\"symbol\":\"circle\"},\"mode\":\"markers\",\"name\":\"Germany\",\"orientation\":\"v\",\"showlegend\":false,\"type\":\"scatter\",\"x\":[30035.80198],\"xaxis\":\"x2\",\"y\":[78.67],\"yaxis\":\"y2\"},{\"hovertemplate\":\"country=Germany<br>year=2007<br>gdpPercap=%{x}<br>lifeExp=%{y}<extra></extra>\",\"legendgroup\":\"Germany\",\"marker\":{\"color\":\"#636efa\",\"symbol\":\"circle\"},\"mode\":\"markers\",\"name\":\"Germany\",\"orientation\":\"v\",\"showlegend\":false,\"type\":\"scatter\",\"x\":[32170.37442],\"xaxis\":\"x\",\"y\":[79.406],\"yaxis\":\"y\"},{\"hovertemplate\":\"country=Greece<br>year=1992<br>gdpPercap=%{x}<br>lifeExp=%{y}<extra></extra>\",\"legendgroup\":\"Greece\",\"marker\":{\"color\":\"#EF553B\",\"symbol\":\"circle\"},\"mode\":\"markers\",\"name\":\"Greece\",\"orientation\":\"v\",\"showlegend\":true,\"type\":\"scatter\",\"x\":[17541.49634],\"xaxis\":\"x4\",\"y\":[77.03],\"yaxis\":\"y4\"},{\"hovertemplate\":\"country=Greece<br>year=1997<br>gdpPercap=%{x}<br>lifeExp=%{y}<extra></extra>\",\"legendgroup\":\"Greece\",\"marker\":{\"color\":\"#EF553B\",\"symbol\":\"circle\"},\"mode\":\"markers\",\"name\":\"Greece\",\"orientation\":\"v\",\"showlegend\":false,\"type\":\"scatter\",\"x\":[18747.69814],\"xaxis\":\"x3\",\"y\":[77.869],\"yaxis\":\"y3\"},{\"hovertemplate\":\"country=Greece<br>year=2002<br>gdpPercap=%{x}<br>lifeExp=%{y}<extra></extra>\",\"legendgroup\":\"Greece\",\"marker\":{\"color\":\"#EF553B\",\"symbol\":\"circle\"},\"mode\":\"markers\",\"name\":\"Greece\",\"orientation\":\"v\",\"showlegend\":false,\"type\":\"scatter\",\"x\":[22514.2548],\"xaxis\":\"x2\",\"y\":[78.256],\"yaxis\":\"y2\"},{\"hovertemplate\":\"country=Greece<br>year=2007<br>gdpPercap=%{x}<br>lifeExp=%{y}<extra></extra>\",\"legendgroup\":\"Greece\",\"marker\":{\"color\":\"#EF553B\",\"symbol\":\"circle\"},\"mode\":\"markers\",\"name\":\"Greece\",\"orientation\":\"v\",\"showlegend\":false,\"type\":\"scatter\",\"x\":[27538.41188],\"xaxis\":\"x\",\"y\":[79.483],\"yaxis\":\"y\"},{\"hovertemplate\":\"country=Hungary<br>year=1992<br>gdpPercap=%{x}<br>lifeExp=%{y}<extra></extra>\",\"legendgroup\":\"Hungary\",\"marker\":{\"color\":\"#00cc96\",\"symbol\":\"circle\"},\"mode\":\"markers\",\"name\":\"Hungary\",\"orientation\":\"v\",\"showlegend\":true,\"type\":\"scatter\",\"x\":[10535.62855],\"xaxis\":\"x4\",\"y\":[69.17],\"yaxis\":\"y4\"},{\"hovertemplate\":\"country=Hungary<br>year=1997<br>gdpPercap=%{x}<br>lifeExp=%{y}<extra></extra>\",\"legendgroup\":\"Hungary\",\"marker\":{\"color\":\"#00cc96\",\"symbol\":\"circle\"},\"mode\":\"markers\",\"name\":\"Hungary\",\"orientation\":\"v\",\"showlegend\":false,\"type\":\"scatter\",\"x\":[11712.7768],\"xaxis\":\"x3\",\"y\":[71.04],\"yaxis\":\"y3\"},{\"hovertemplate\":\"country=Hungary<br>year=2002<br>gdpPercap=%{x}<br>lifeExp=%{y}<extra></extra>\",\"legendgroup\":\"Hungary\",\"marker\":{\"color\":\"#00cc96\",\"symbol\":\"circle\"},\"mode\":\"markers\",\"name\":\"Hungary\",\"orientation\":\"v\",\"showlegend\":false,\"type\":\"scatter\",\"x\":[14843.93556],\"xaxis\":\"x2\",\"y\":[72.59],\"yaxis\":\"y2\"},{\"hovertemplate\":\"country=Hungary<br>year=2007<br>gdpPercap=%{x}<br>lifeExp=%{y}<extra></extra>\",\"legendgroup\":\"Hungary\",\"marker\":{\"color\":\"#00cc96\",\"symbol\":\"circle\"},\"mode\":\"markers\",\"name\":\"Hungary\",\"orientation\":\"v\",\"showlegend\":false,\"type\":\"scatter\",\"x\":[18008.94444],\"xaxis\":\"x\",\"y\":[73.33800000000002],\"yaxis\":\"y\"},{\"hovertemplate\":\"country=Iceland<br>year=1992<br>gdpPercap=%{x}<br>lifeExp=%{y}<extra></extra>\",\"legendgroup\":\"Iceland\",\"marker\":{\"color\":\"#ab63fa\",\"symbol\":\"circle\"},\"mode\":\"markers\",\"name\":\"Iceland\",\"orientation\":\"v\",\"showlegend\":true,\"type\":\"scatter\",\"x\":[25144.39201],\"xaxis\":\"x4\",\"y\":[78.77],\"yaxis\":\"y4\"},{\"hovertemplate\":\"country=Iceland<br>year=1997<br>gdpPercap=%{x}<br>lifeExp=%{y}<extra></extra>\",\"legendgroup\":\"Iceland\",\"marker\":{\"color\":\"#ab63fa\",\"symbol\":\"circle\"},\"mode\":\"markers\",\"name\":\"Iceland\",\"orientation\":\"v\",\"showlegend\":false,\"type\":\"scatter\",\"x\":[28061.099660000003],\"xaxis\":\"x3\",\"y\":[78.95],\"yaxis\":\"y3\"},{\"hovertemplate\":\"country=Iceland<br>year=2002<br>gdpPercap=%{x}<br>lifeExp=%{y}<extra></extra>\",\"legendgroup\":\"Iceland\",\"marker\":{\"color\":\"#ab63fa\",\"symbol\":\"circle\"},\"mode\":\"markers\",\"name\":\"Iceland\",\"orientation\":\"v\",\"showlegend\":false,\"type\":\"scatter\",\"x\":[31163.201960000002],\"xaxis\":\"x2\",\"y\":[80.5],\"yaxis\":\"y2\"},{\"hovertemplate\":\"country=Iceland<br>year=2007<br>gdpPercap=%{x}<br>lifeExp=%{y}<extra></extra>\",\"legendgroup\":\"Iceland\",\"marker\":{\"color\":\"#ab63fa\",\"symbol\":\"circle\"},\"mode\":\"markers\",\"name\":\"Iceland\",\"orientation\":\"v\",\"showlegend\":false,\"type\":\"scatter\",\"x\":[36180.789189999996],\"xaxis\":\"x\",\"y\":[81.757],\"yaxis\":\"y\"},{\"hovertemplate\":\"country=Ireland<br>year=1992<br>gdpPercap=%{x}<br>lifeExp=%{y}<extra></extra>\",\"legendgroup\":\"Ireland\",\"marker\":{\"color\":\"#FFA15A\",\"symbol\":\"circle\"},\"mode\":\"markers\",\"name\":\"Ireland\",\"orientation\":\"v\",\"showlegend\":true,\"type\":\"scatter\",\"x\":[17558.81555],\"xaxis\":\"x4\",\"y\":[75.467],\"yaxis\":\"y4\"},{\"hovertemplate\":\"country=Ireland<br>year=1997<br>gdpPercap=%{x}<br>lifeExp=%{y}<extra></extra>\",\"legendgroup\":\"Ireland\",\"marker\":{\"color\":\"#FFA15A\",\"symbol\":\"circle\"},\"mode\":\"markers\",\"name\":\"Ireland\",\"orientation\":\"v\",\"showlegend\":false,\"type\":\"scatter\",\"x\":[24521.94713],\"xaxis\":\"x3\",\"y\":[76.122],\"yaxis\":\"y3\"},{\"hovertemplate\":\"country=Ireland<br>year=2002<br>gdpPercap=%{x}<br>lifeExp=%{y}<extra></extra>\",\"legendgroup\":\"Ireland\",\"marker\":{\"color\":\"#FFA15A\",\"symbol\":\"circle\"},\"mode\":\"markers\",\"name\":\"Ireland\",\"orientation\":\"v\",\"showlegend\":false,\"type\":\"scatter\",\"x\":[34077.04939],\"xaxis\":\"x2\",\"y\":[77.783],\"yaxis\":\"y2\"},{\"hovertemplate\":\"country=Ireland<br>year=2007<br>gdpPercap=%{x}<br>lifeExp=%{y}<extra></extra>\",\"legendgroup\":\"Ireland\",\"marker\":{\"color\":\"#FFA15A\",\"symbol\":\"circle\"},\"mode\":\"markers\",\"name\":\"Ireland\",\"orientation\":\"v\",\"showlegend\":false,\"type\":\"scatter\",\"x\":[40675.99635],\"xaxis\":\"x\",\"y\":[78.885],\"yaxis\":\"y\"},{\"hovertemplate\":\"country=Italy<br>year=1992<br>gdpPercap=%{x}<br>lifeExp=%{y}<extra></extra>\",\"legendgroup\":\"Italy\",\"marker\":{\"color\":\"#19d3f3\",\"symbol\":\"circle\"},\"mode\":\"markers\",\"name\":\"Italy\",\"orientation\":\"v\",\"showlegend\":true,\"type\":\"scatter\",\"x\":[22013.64486],\"xaxis\":\"x4\",\"y\":[77.44],\"yaxis\":\"y4\"},{\"hovertemplate\":\"country=Italy<br>year=1997<br>gdpPercap=%{x}<br>lifeExp=%{y}<extra></extra>\",\"legendgroup\":\"Italy\",\"marker\":{\"color\":\"#19d3f3\",\"symbol\":\"circle\"},\"mode\":\"markers\",\"name\":\"Italy\",\"orientation\":\"v\",\"showlegend\":false,\"type\":\"scatter\",\"x\":[24675.02446],\"xaxis\":\"x3\",\"y\":[78.82],\"yaxis\":\"y3\"},{\"hovertemplate\":\"country=Italy<br>year=2002<br>gdpPercap=%{x}<br>lifeExp=%{y}<extra></extra>\",\"legendgroup\":\"Italy\",\"marker\":{\"color\":\"#19d3f3\",\"symbol\":\"circle\"},\"mode\":\"markers\",\"name\":\"Italy\",\"orientation\":\"v\",\"showlegend\":false,\"type\":\"scatter\",\"x\":[27968.098169999997],\"xaxis\":\"x2\",\"y\":[80.24],\"yaxis\":\"y2\"},{\"hovertemplate\":\"country=Italy<br>year=2007<br>gdpPercap=%{x}<br>lifeExp=%{y}<extra></extra>\",\"legendgroup\":\"Italy\",\"marker\":{\"color\":\"#19d3f3\",\"symbol\":\"circle\"},\"mode\":\"markers\",\"name\":\"Italy\",\"orientation\":\"v\",\"showlegend\":false,\"type\":\"scatter\",\"x\":[28569.7197],\"xaxis\":\"x\",\"y\":[80.546],\"yaxis\":\"y\"},{\"hovertemplate\":\"country=Montenegro<br>year=1992<br>gdpPercap=%{x}<br>lifeExp=%{y}<extra></extra>\",\"legendgroup\":\"Montenegro\",\"marker\":{\"color\":\"#FF6692\",\"symbol\":\"circle\"},\"mode\":\"markers\",\"name\":\"Montenegro\",\"orientation\":\"v\",\"showlegend\":true,\"type\":\"scatter\",\"x\":[7003.3390370000025],\"xaxis\":\"x4\",\"y\":[75.435],\"yaxis\":\"y4\"},{\"hovertemplate\":\"country=Montenegro<br>year=1997<br>gdpPercap=%{x}<br>lifeExp=%{y}<extra></extra>\",\"legendgroup\":\"Montenegro\",\"marker\":{\"color\":\"#FF6692\",\"symbol\":\"circle\"},\"mode\":\"markers\",\"name\":\"Montenegro\",\"orientation\":\"v\",\"showlegend\":false,\"type\":\"scatter\",\"x\":[6465.613349],\"xaxis\":\"x3\",\"y\":[75.445],\"yaxis\":\"y3\"},{\"hovertemplate\":\"country=Montenegro<br>year=2002<br>gdpPercap=%{x}<br>lifeExp=%{y}<extra></extra>\",\"legendgroup\":\"Montenegro\",\"marker\":{\"color\":\"#FF6692\",\"symbol\":\"circle\"},\"mode\":\"markers\",\"name\":\"Montenegro\",\"orientation\":\"v\",\"showlegend\":false,\"type\":\"scatter\",\"x\":[6557.194282],\"xaxis\":\"x2\",\"y\":[73.98100000000002],\"yaxis\":\"y2\"},{\"hovertemplate\":\"country=Montenegro<br>year=2007<br>gdpPercap=%{x}<br>lifeExp=%{y}<extra></extra>\",\"legendgroup\":\"Montenegro\",\"marker\":{\"color\":\"#FF6692\",\"symbol\":\"circle\"},\"mode\":\"markers\",\"name\":\"Montenegro\",\"orientation\":\"v\",\"showlegend\":false,\"type\":\"scatter\",\"x\":[9253.896111],\"xaxis\":\"x\",\"y\":[74.543],\"yaxis\":\"y\"},{\"hovertemplate\":\"country=Netherlands<br>year=1992<br>gdpPercap=%{x}<br>lifeExp=%{y}<extra></extra>\",\"legendgroup\":\"Netherlands\",\"marker\":{\"color\":\"#B6E880\",\"symbol\":\"circle\"},\"mode\":\"markers\",\"name\":\"Netherlands\",\"orientation\":\"v\",\"showlegend\":true,\"type\":\"scatter\",\"x\":[26790.94961],\"xaxis\":\"x4\",\"y\":[77.42],\"yaxis\":\"y4\"},{\"hovertemplate\":\"country=Netherlands<br>year=1997<br>gdpPercap=%{x}<br>lifeExp=%{y}<extra></extra>\",\"legendgroup\":\"Netherlands\",\"marker\":{\"color\":\"#B6E880\",\"symbol\":\"circle\"},\"mode\":\"markers\",\"name\":\"Netherlands\",\"orientation\":\"v\",\"showlegend\":false,\"type\":\"scatter\",\"x\":[30246.13063],\"xaxis\":\"x3\",\"y\":[78.03],\"yaxis\":\"y3\"},{\"hovertemplate\":\"country=Netherlands<br>year=2002<br>gdpPercap=%{x}<br>lifeExp=%{y}<extra></extra>\",\"legendgroup\":\"Netherlands\",\"marker\":{\"color\":\"#B6E880\",\"symbol\":\"circle\"},\"mode\":\"markers\",\"name\":\"Netherlands\",\"orientation\":\"v\",\"showlegend\":false,\"type\":\"scatter\",\"x\":[33724.75778],\"xaxis\":\"x2\",\"y\":[78.53],\"yaxis\":\"y2\"},{\"hovertemplate\":\"country=Netherlands<br>year=2007<br>gdpPercap=%{x}<br>lifeExp=%{y}<extra></extra>\",\"legendgroup\":\"Netherlands\",\"marker\":{\"color\":\"#B6E880\",\"symbol\":\"circle\"},\"mode\":\"markers\",\"name\":\"Netherlands\",\"orientation\":\"v\",\"showlegend\":false,\"type\":\"scatter\",\"x\":[36797.93332],\"xaxis\":\"x\",\"y\":[79.762],\"yaxis\":\"y\"},{\"hovertemplate\":\"country=Norway<br>year=1992<br>gdpPercap=%{x}<br>lifeExp=%{y}<extra></extra>\",\"legendgroup\":\"Norway\",\"marker\":{\"color\":\"#FF97FF\",\"symbol\":\"circle\"},\"mode\":\"markers\",\"name\":\"Norway\",\"orientation\":\"v\",\"showlegend\":true,\"type\":\"scatter\",\"x\":[33965.66115],\"xaxis\":\"x4\",\"y\":[77.32],\"yaxis\":\"y4\"},{\"hovertemplate\":\"country=Norway<br>year=1997<br>gdpPercap=%{x}<br>lifeExp=%{y}<extra></extra>\",\"legendgroup\":\"Norway\",\"marker\":{\"color\":\"#FF97FF\",\"symbol\":\"circle\"},\"mode\":\"markers\",\"name\":\"Norway\",\"orientation\":\"v\",\"showlegend\":false,\"type\":\"scatter\",\"x\":[41283.16433],\"xaxis\":\"x3\",\"y\":[78.32],\"yaxis\":\"y3\"},{\"hovertemplate\":\"country=Norway<br>year=2002<br>gdpPercap=%{x}<br>lifeExp=%{y}<extra></extra>\",\"legendgroup\":\"Norway\",\"marker\":{\"color\":\"#FF97FF\",\"symbol\":\"circle\"},\"mode\":\"markers\",\"name\":\"Norway\",\"orientation\":\"v\",\"showlegend\":false,\"type\":\"scatter\",\"x\":[44683.97525],\"xaxis\":\"x2\",\"y\":[79.05],\"yaxis\":\"y2\"},{\"hovertemplate\":\"country=Norway<br>year=2007<br>gdpPercap=%{x}<br>lifeExp=%{y}<extra></extra>\",\"legendgroup\":\"Norway\",\"marker\":{\"color\":\"#FF97FF\",\"symbol\":\"circle\"},\"mode\":\"markers\",\"name\":\"Norway\",\"orientation\":\"v\",\"showlegend\":false,\"type\":\"scatter\",\"x\":[49357.19017],\"xaxis\":\"x\",\"y\":[80.196],\"yaxis\":\"y\"},{\"hovertemplate\":\"country=Poland<br>year=1992<br>gdpPercap=%{x}<br>lifeExp=%{y}<extra></extra>\",\"legendgroup\":\"Poland\",\"marker\":{\"color\":\"#FECB52\",\"symbol\":\"circle\"},\"mode\":\"markers\",\"name\":\"Poland\",\"orientation\":\"v\",\"showlegend\":true,\"type\":\"scatter\",\"x\":[7738.881247],\"xaxis\":\"x4\",\"y\":[70.99],\"yaxis\":\"y4\"},{\"hovertemplate\":\"country=Poland<br>year=1997<br>gdpPercap=%{x}<br>lifeExp=%{y}<extra></extra>\",\"legendgroup\":\"Poland\",\"marker\":{\"color\":\"#FECB52\",\"symbol\":\"circle\"},\"mode\":\"markers\",\"name\":\"Poland\",\"orientation\":\"v\",\"showlegend\":false,\"type\":\"scatter\",\"x\":[10159.58368],\"xaxis\":\"x3\",\"y\":[72.75],\"yaxis\":\"y3\"},{\"hovertemplate\":\"country=Poland<br>year=2002<br>gdpPercap=%{x}<br>lifeExp=%{y}<extra></extra>\",\"legendgroup\":\"Poland\",\"marker\":{\"color\":\"#FECB52\",\"symbol\":\"circle\"},\"mode\":\"markers\",\"name\":\"Poland\",\"orientation\":\"v\",\"showlegend\":false,\"type\":\"scatter\",\"x\":[12002.23908],\"xaxis\":\"x2\",\"y\":[74.67],\"yaxis\":\"y2\"},{\"hovertemplate\":\"country=Poland<br>year=2007<br>gdpPercap=%{x}<br>lifeExp=%{y}<extra></extra>\",\"legendgroup\":\"Poland\",\"marker\":{\"color\":\"#FECB52\",\"symbol\":\"circle\"},\"mode\":\"markers\",\"name\":\"Poland\",\"orientation\":\"v\",\"showlegend\":false,\"type\":\"scatter\",\"x\":[15389.924680000002],\"xaxis\":\"x\",\"y\":[75.563],\"yaxis\":\"y\"},{\"hovertemplate\":\"country=Portugal<br>year=1992<br>gdpPercap=%{x}<br>lifeExp=%{y}<extra></extra>\",\"legendgroup\":\"Portugal\",\"marker\":{\"color\":\"#636efa\",\"symbol\":\"circle\"},\"mode\":\"markers\",\"name\":\"Portugal\",\"orientation\":\"v\",\"showlegend\":true,\"type\":\"scatter\",\"x\":[16207.266630000002],\"xaxis\":\"x4\",\"y\":[74.86],\"yaxis\":\"y4\"},{\"hovertemplate\":\"country=Portugal<br>year=1997<br>gdpPercap=%{x}<br>lifeExp=%{y}<extra></extra>\",\"legendgroup\":\"Portugal\",\"marker\":{\"color\":\"#636efa\",\"symbol\":\"circle\"},\"mode\":\"markers\",\"name\":\"Portugal\",\"orientation\":\"v\",\"showlegend\":false,\"type\":\"scatter\",\"x\":[17641.03156],\"xaxis\":\"x3\",\"y\":[75.97],\"yaxis\":\"y3\"},{\"hovertemplate\":\"country=Portugal<br>year=2002<br>gdpPercap=%{x}<br>lifeExp=%{y}<extra></extra>\",\"legendgroup\":\"Portugal\",\"marker\":{\"color\":\"#636efa\",\"symbol\":\"circle\"},\"mode\":\"markers\",\"name\":\"Portugal\",\"orientation\":\"v\",\"showlegend\":false,\"type\":\"scatter\",\"x\":[19970.90787],\"xaxis\":\"x2\",\"y\":[77.29],\"yaxis\":\"y2\"},{\"hovertemplate\":\"country=Portugal<br>year=2007<br>gdpPercap=%{x}<br>lifeExp=%{y}<extra></extra>\",\"legendgroup\":\"Portugal\",\"marker\":{\"color\":\"#636efa\",\"symbol\":\"circle\"},\"mode\":\"markers\",\"name\":\"Portugal\",\"orientation\":\"v\",\"showlegend\":false,\"type\":\"scatter\",\"x\":[20509.64777],\"xaxis\":\"x\",\"y\":[78.098],\"yaxis\":\"y\"},{\"hovertemplate\":\"country=Romania<br>year=1992<br>gdpPercap=%{x}<br>lifeExp=%{y}<extra></extra>\",\"legendgroup\":\"Romania\",\"marker\":{\"color\":\"#EF553B\",\"symbol\":\"circle\"},\"mode\":\"markers\",\"name\":\"Romania\",\"orientation\":\"v\",\"showlegend\":true,\"type\":\"scatter\",\"x\":[6598.409903],\"xaxis\":\"x4\",\"y\":[69.36],\"yaxis\":\"y4\"},{\"hovertemplate\":\"country=Romania<br>year=1997<br>gdpPercap=%{x}<br>lifeExp=%{y}<extra></extra>\",\"legendgroup\":\"Romania\",\"marker\":{\"color\":\"#EF553B\",\"symbol\":\"circle\"},\"mode\":\"markers\",\"name\":\"Romania\",\"orientation\":\"v\",\"showlegend\":false,\"type\":\"scatter\",\"x\":[7346.547556999999],\"xaxis\":\"x3\",\"y\":[69.72],\"yaxis\":\"y3\"},{\"hovertemplate\":\"country=Romania<br>year=2002<br>gdpPercap=%{x}<br>lifeExp=%{y}<extra></extra>\",\"legendgroup\":\"Romania\",\"marker\":{\"color\":\"#EF553B\",\"symbol\":\"circle\"},\"mode\":\"markers\",\"name\":\"Romania\",\"orientation\":\"v\",\"showlegend\":false,\"type\":\"scatter\",\"x\":[7885.360081],\"xaxis\":\"x2\",\"y\":[71.322],\"yaxis\":\"y2\"},{\"hovertemplate\":\"country=Romania<br>year=2007<br>gdpPercap=%{x}<br>lifeExp=%{y}<extra></extra>\",\"legendgroup\":\"Romania\",\"marker\":{\"color\":\"#EF553B\",\"symbol\":\"circle\"},\"mode\":\"markers\",\"name\":\"Romania\",\"orientation\":\"v\",\"showlegend\":false,\"type\":\"scatter\",\"x\":[10808.47561],\"xaxis\":\"x\",\"y\":[72.476],\"yaxis\":\"y\"},{\"hovertemplate\":\"country=Serbia<br>year=1992<br>gdpPercap=%{x}<br>lifeExp=%{y}<extra></extra>\",\"legendgroup\":\"Serbia\",\"marker\":{\"color\":\"#00cc96\",\"symbol\":\"circle\"},\"mode\":\"markers\",\"name\":\"Serbia\",\"orientation\":\"v\",\"showlegend\":true,\"type\":\"scatter\",\"x\":[9325.068238],\"xaxis\":\"x4\",\"y\":[71.65899999999998],\"yaxis\":\"y4\"},{\"hovertemplate\":\"country=Serbia<br>year=1997<br>gdpPercap=%{x}<br>lifeExp=%{y}<extra></extra>\",\"legendgroup\":\"Serbia\",\"marker\":{\"color\":\"#00cc96\",\"symbol\":\"circle\"},\"mode\":\"markers\",\"name\":\"Serbia\",\"orientation\":\"v\",\"showlegend\":false,\"type\":\"scatter\",\"x\":[7914.320304000003],\"xaxis\":\"x3\",\"y\":[72.232],\"yaxis\":\"y3\"},{\"hovertemplate\":\"country=Serbia<br>year=2002<br>gdpPercap=%{x}<br>lifeExp=%{y}<extra></extra>\",\"legendgroup\":\"Serbia\",\"marker\":{\"color\":\"#00cc96\",\"symbol\":\"circle\"},\"mode\":\"markers\",\"name\":\"Serbia\",\"orientation\":\"v\",\"showlegend\":false,\"type\":\"scatter\",\"x\":[7236.075251],\"xaxis\":\"x2\",\"y\":[73.21300000000002],\"yaxis\":\"y2\"},{\"hovertemplate\":\"country=Serbia<br>year=2007<br>gdpPercap=%{x}<br>lifeExp=%{y}<extra></extra>\",\"legendgroup\":\"Serbia\",\"marker\":{\"color\":\"#00cc96\",\"symbol\":\"circle\"},\"mode\":\"markers\",\"name\":\"Serbia\",\"orientation\":\"v\",\"showlegend\":false,\"type\":\"scatter\",\"x\":[9786.534714],\"xaxis\":\"x\",\"y\":[74.002],\"yaxis\":\"y\"},{\"hovertemplate\":\"country=Slovak Republic<br>year=1992<br>gdpPercap=%{x}<br>lifeExp=%{y}<extra></extra>\",\"legendgroup\":\"Slovak Republic\",\"marker\":{\"color\":\"#ab63fa\",\"symbol\":\"circle\"},\"mode\":\"markers\",\"name\":\"Slovak Republic\",\"orientation\":\"v\",\"showlegend\":true,\"type\":\"scatter\",\"x\":[9498.467723],\"xaxis\":\"x4\",\"y\":[71.38],\"yaxis\":\"y4\"},{\"hovertemplate\":\"country=Slovak Republic<br>year=1997<br>gdpPercap=%{x}<br>lifeExp=%{y}<extra></extra>\",\"legendgroup\":\"Slovak Republic\",\"marker\":{\"color\":\"#ab63fa\",\"symbol\":\"circle\"},\"mode\":\"markers\",\"name\":\"Slovak Republic\",\"orientation\":\"v\",\"showlegend\":false,\"type\":\"scatter\",\"x\":[12126.23065],\"xaxis\":\"x3\",\"y\":[72.71],\"yaxis\":\"y3\"},{\"hovertemplate\":\"country=Slovak Republic<br>year=2002<br>gdpPercap=%{x}<br>lifeExp=%{y}<extra></extra>\",\"legendgroup\":\"Slovak Republic\",\"marker\":{\"color\":\"#ab63fa\",\"symbol\":\"circle\"},\"mode\":\"markers\",\"name\":\"Slovak Republic\",\"orientation\":\"v\",\"showlegend\":false,\"type\":\"scatter\",\"x\":[13638.778369999998],\"xaxis\":\"x2\",\"y\":[73.8],\"yaxis\":\"y2\"},{\"hovertemplate\":\"country=Slovak Republic<br>year=2007<br>gdpPercap=%{x}<br>lifeExp=%{y}<extra></extra>\",\"legendgroup\":\"Slovak Republic\",\"marker\":{\"color\":\"#ab63fa\",\"symbol\":\"circle\"},\"mode\":\"markers\",\"name\":\"Slovak Republic\",\"orientation\":\"v\",\"showlegend\":false,\"type\":\"scatter\",\"x\":[18678.31435],\"xaxis\":\"x\",\"y\":[74.663],\"yaxis\":\"y\"},{\"hovertemplate\":\"country=Slovenia<br>year=1992<br>gdpPercap=%{x}<br>lifeExp=%{y}<extra></extra>\",\"legendgroup\":\"Slovenia\",\"marker\":{\"color\":\"#FFA15A\",\"symbol\":\"circle\"},\"mode\":\"markers\",\"name\":\"Slovenia\",\"orientation\":\"v\",\"showlegend\":true,\"type\":\"scatter\",\"x\":[14214.71681],\"xaxis\":\"x4\",\"y\":[73.64],\"yaxis\":\"y4\"},{\"hovertemplate\":\"country=Slovenia<br>year=1997<br>gdpPercap=%{x}<br>lifeExp=%{y}<extra></extra>\",\"legendgroup\":\"Slovenia\",\"marker\":{\"color\":\"#FFA15A\",\"symbol\":\"circle\"},\"mode\":\"markers\",\"name\":\"Slovenia\",\"orientation\":\"v\",\"showlegend\":false,\"type\":\"scatter\",\"x\":[17161.10735],\"xaxis\":\"x3\",\"y\":[75.13],\"yaxis\":\"y3\"},{\"hovertemplate\":\"country=Slovenia<br>year=2002<br>gdpPercap=%{x}<br>lifeExp=%{y}<extra></extra>\",\"legendgroup\":\"Slovenia\",\"marker\":{\"color\":\"#FFA15A\",\"symbol\":\"circle\"},\"mode\":\"markers\",\"name\":\"Slovenia\",\"orientation\":\"v\",\"showlegend\":false,\"type\":\"scatter\",\"x\":[20660.01936],\"xaxis\":\"x2\",\"y\":[76.66],\"yaxis\":\"y2\"},{\"hovertemplate\":\"country=Slovenia<br>year=2007<br>gdpPercap=%{x}<br>lifeExp=%{y}<extra></extra>\",\"legendgroup\":\"Slovenia\",\"marker\":{\"color\":\"#FFA15A\",\"symbol\":\"circle\"},\"mode\":\"markers\",\"name\":\"Slovenia\",\"orientation\":\"v\",\"showlegend\":false,\"type\":\"scatter\",\"x\":[25768.25759],\"xaxis\":\"x\",\"y\":[77.926],\"yaxis\":\"y\"},{\"hovertemplate\":\"country=Spain<br>year=1992<br>gdpPercap=%{x}<br>lifeExp=%{y}<extra></extra>\",\"legendgroup\":\"Spain\",\"marker\":{\"color\":\"#19d3f3\",\"symbol\":\"circle\"},\"mode\":\"markers\",\"name\":\"Spain\",\"orientation\":\"v\",\"showlegend\":true,\"type\":\"scatter\",\"x\":[18603.06452],\"xaxis\":\"x4\",\"y\":[77.57],\"yaxis\":\"y4\"},{\"hovertemplate\":\"country=Spain<br>year=1997<br>gdpPercap=%{x}<br>lifeExp=%{y}<extra></extra>\",\"legendgroup\":\"Spain\",\"marker\":{\"color\":\"#19d3f3\",\"symbol\":\"circle\"},\"mode\":\"markers\",\"name\":\"Spain\",\"orientation\":\"v\",\"showlegend\":false,\"type\":\"scatter\",\"x\":[20445.29896],\"xaxis\":\"x3\",\"y\":[78.77],\"yaxis\":\"y3\"},{\"hovertemplate\":\"country=Spain<br>year=2002<br>gdpPercap=%{x}<br>lifeExp=%{y}<extra></extra>\",\"legendgroup\":\"Spain\",\"marker\":{\"color\":\"#19d3f3\",\"symbol\":\"circle\"},\"mode\":\"markers\",\"name\":\"Spain\",\"orientation\":\"v\",\"showlegend\":false,\"type\":\"scatter\",\"x\":[24835.47166],\"xaxis\":\"x2\",\"y\":[79.78],\"yaxis\":\"y2\"},{\"hovertemplate\":\"country=Spain<br>year=2007<br>gdpPercap=%{x}<br>lifeExp=%{y}<extra></extra>\",\"legendgroup\":\"Spain\",\"marker\":{\"color\":\"#19d3f3\",\"symbol\":\"circle\"},\"mode\":\"markers\",\"name\":\"Spain\",\"orientation\":\"v\",\"showlegend\":false,\"type\":\"scatter\",\"x\":[28821.0637],\"xaxis\":\"x\",\"y\":[80.941],\"yaxis\":\"y\"},{\"hovertemplate\":\"country=Sweden<br>year=1992<br>gdpPercap=%{x}<br>lifeExp=%{y}<extra></extra>\",\"legendgroup\":\"Sweden\",\"marker\":{\"color\":\"#FF6692\",\"symbol\":\"circle\"},\"mode\":\"markers\",\"name\":\"Sweden\",\"orientation\":\"v\",\"showlegend\":true,\"type\":\"scatter\",\"x\":[23880.01683],\"xaxis\":\"x4\",\"y\":[78.16],\"yaxis\":\"y4\"},{\"hovertemplate\":\"country=Sweden<br>year=1997<br>gdpPercap=%{x}<br>lifeExp=%{y}<extra></extra>\",\"legendgroup\":\"Sweden\",\"marker\":{\"color\":\"#FF6692\",\"symbol\":\"circle\"},\"mode\":\"markers\",\"name\":\"Sweden\",\"orientation\":\"v\",\"showlegend\":false,\"type\":\"scatter\",\"x\":[25266.59499],\"xaxis\":\"x3\",\"y\":[79.39],\"yaxis\":\"y3\"},{\"hovertemplate\":\"country=Sweden<br>year=2002<br>gdpPercap=%{x}<br>lifeExp=%{y}<extra></extra>\",\"legendgroup\":\"Sweden\",\"marker\":{\"color\":\"#FF6692\",\"symbol\":\"circle\"},\"mode\":\"markers\",\"name\":\"Sweden\",\"orientation\":\"v\",\"showlegend\":false,\"type\":\"scatter\",\"x\":[29341.63093000001],\"xaxis\":\"x2\",\"y\":[80.04],\"yaxis\":\"y2\"},{\"hovertemplate\":\"country=Sweden<br>year=2007<br>gdpPercap=%{x}<br>lifeExp=%{y}<extra></extra>\",\"legendgroup\":\"Sweden\",\"marker\":{\"color\":\"#FF6692\",\"symbol\":\"circle\"},\"mode\":\"markers\",\"name\":\"Sweden\",\"orientation\":\"v\",\"showlegend\":false,\"type\":\"scatter\",\"x\":[33859.74835],\"xaxis\":\"x\",\"y\":[80.884],\"yaxis\":\"y\"},{\"hovertemplate\":\"country=Switzerland<br>year=1992<br>gdpPercap=%{x}<br>lifeExp=%{y}<extra></extra>\",\"legendgroup\":\"Switzerland\",\"marker\":{\"color\":\"#B6E880\",\"symbol\":\"circle\"},\"mode\":\"markers\",\"name\":\"Switzerland\",\"orientation\":\"v\",\"showlegend\":true,\"type\":\"scatter\",\"x\":[31871.5303],\"xaxis\":\"x4\",\"y\":[78.03],\"yaxis\":\"y4\"},{\"hovertemplate\":\"country=Switzerland<br>year=1997<br>gdpPercap=%{x}<br>lifeExp=%{y}<extra></extra>\",\"legendgroup\":\"Switzerland\",\"marker\":{\"color\":\"#B6E880\",\"symbol\":\"circle\"},\"mode\":\"markers\",\"name\":\"Switzerland\",\"orientation\":\"v\",\"showlegend\":false,\"type\":\"scatter\",\"x\":[32135.323010000004],\"xaxis\":\"x3\",\"y\":[79.37],\"yaxis\":\"y3\"},{\"hovertemplate\":\"country=Switzerland<br>year=2002<br>gdpPercap=%{x}<br>lifeExp=%{y}<extra></extra>\",\"legendgroup\":\"Switzerland\",\"marker\":{\"color\":\"#B6E880\",\"symbol\":\"circle\"},\"mode\":\"markers\",\"name\":\"Switzerland\",\"orientation\":\"v\",\"showlegend\":false,\"type\":\"scatter\",\"x\":[34480.95771],\"xaxis\":\"x2\",\"y\":[80.62],\"yaxis\":\"y2\"},{\"hovertemplate\":\"country=Switzerland<br>year=2007<br>gdpPercap=%{x}<br>lifeExp=%{y}<extra></extra>\",\"legendgroup\":\"Switzerland\",\"marker\":{\"color\":\"#B6E880\",\"symbol\":\"circle\"},\"mode\":\"markers\",\"name\":\"Switzerland\",\"orientation\":\"v\",\"showlegend\":false,\"type\":\"scatter\",\"x\":[37506.419069999996],\"xaxis\":\"x\",\"y\":[81.70100000000002],\"yaxis\":\"y\"},{\"hovertemplate\":\"country=Turkey<br>year=1992<br>gdpPercap=%{x}<br>lifeExp=%{y}<extra></extra>\",\"legendgroup\":\"Turkey\",\"marker\":{\"color\":\"#FF97FF\",\"symbol\":\"circle\"},\"mode\":\"markers\",\"name\":\"Turkey\",\"orientation\":\"v\",\"showlegend\":true,\"type\":\"scatter\",\"x\":[5678.348271],\"xaxis\":\"x4\",\"y\":[66.146],\"yaxis\":\"y4\"},{\"hovertemplate\":\"country=Turkey<br>year=1997<br>gdpPercap=%{x}<br>lifeExp=%{y}<extra></extra>\",\"legendgroup\":\"Turkey\",\"marker\":{\"color\":\"#FF97FF\",\"symbol\":\"circle\"},\"mode\":\"markers\",\"name\":\"Turkey\",\"orientation\":\"v\",\"showlegend\":false,\"type\":\"scatter\",\"x\":[6601.429915],\"xaxis\":\"x3\",\"y\":[68.835],\"yaxis\":\"y3\"},{\"hovertemplate\":\"country=Turkey<br>year=2002<br>gdpPercap=%{x}<br>lifeExp=%{y}<extra></extra>\",\"legendgroup\":\"Turkey\",\"marker\":{\"color\":\"#FF97FF\",\"symbol\":\"circle\"},\"mode\":\"markers\",\"name\":\"Turkey\",\"orientation\":\"v\",\"showlegend\":false,\"type\":\"scatter\",\"x\":[6508.085718],\"xaxis\":\"x2\",\"y\":[70.845],\"yaxis\":\"y2\"},{\"hovertemplate\":\"country=Turkey<br>year=2007<br>gdpPercap=%{x}<br>lifeExp=%{y}<extra></extra>\",\"legendgroup\":\"Turkey\",\"marker\":{\"color\":\"#FF97FF\",\"symbol\":\"circle\"},\"mode\":\"markers\",\"name\":\"Turkey\",\"orientation\":\"v\",\"showlegend\":false,\"type\":\"scatter\",\"x\":[8458.276384],\"xaxis\":\"x\",\"y\":[71.777],\"yaxis\":\"y\"},{\"hovertemplate\":\"country=United Kingdom<br>year=1992<br>gdpPercap=%{x}<br>lifeExp=%{y}<extra></extra>\",\"legendgroup\":\"United Kingdom\",\"marker\":{\"color\":\"#FECB52\",\"symbol\":\"circle\"},\"mode\":\"markers\",\"name\":\"United Kingdom\",\"orientation\":\"v\",\"showlegend\":true,\"type\":\"scatter\",\"x\":[22705.09254],\"xaxis\":\"x4\",\"y\":[76.42],\"yaxis\":\"y4\"},{\"hovertemplate\":\"country=United Kingdom<br>year=1997<br>gdpPercap=%{x}<br>lifeExp=%{y}<extra></extra>\",\"legendgroup\":\"United Kingdom\",\"marker\":{\"color\":\"#FECB52\",\"symbol\":\"circle\"},\"mode\":\"markers\",\"name\":\"United Kingdom\",\"orientation\":\"v\",\"showlegend\":false,\"type\":\"scatter\",\"x\":[26074.53136],\"xaxis\":\"x3\",\"y\":[77.218],\"yaxis\":\"y3\"},{\"hovertemplate\":\"country=United Kingdom<br>year=2002<br>gdpPercap=%{x}<br>lifeExp=%{y}<extra></extra>\",\"legendgroup\":\"United Kingdom\",\"marker\":{\"color\":\"#FECB52\",\"symbol\":\"circle\"},\"mode\":\"markers\",\"name\":\"United Kingdom\",\"orientation\":\"v\",\"showlegend\":false,\"type\":\"scatter\",\"x\":[29478.99919],\"xaxis\":\"x2\",\"y\":[78.471],\"yaxis\":\"y2\"},{\"hovertemplate\":\"country=United Kingdom<br>year=2007<br>gdpPercap=%{x}<br>lifeExp=%{y}<extra></extra>\",\"legendgroup\":\"United Kingdom\",\"marker\":{\"color\":\"#FECB52\",\"symbol\":\"circle\"},\"mode\":\"markers\",\"name\":\"United Kingdom\",\"orientation\":\"v\",\"showlegend\":false,\"type\":\"scatter\",\"x\":[33203.26128],\"xaxis\":\"x\",\"y\":[79.425],\"yaxis\":\"y\"}],                        {\"annotations\":[{\"font\":{},\"showarrow\":false,\"text\":\"year=2007\",\"textangle\":90,\"x\":0.98,\"xanchor\":\"left\",\"xref\":\"paper\",\"y\":0.11375,\"yanchor\":\"middle\",\"yref\":\"paper\"},{\"font\":{},\"showarrow\":false,\"text\":\"year=2002\",\"textangle\":90,\"x\":0.98,\"xanchor\":\"left\",\"xref\":\"paper\",\"y\":0.37124999999999997,\"yanchor\":\"middle\",\"yref\":\"paper\"},{\"font\":{},\"showarrow\":false,\"text\":\"year=1997\",\"textangle\":90,\"x\":0.98,\"xanchor\":\"left\",\"xref\":\"paper\",\"y\":0.62875,\"yanchor\":\"middle\",\"yref\":\"paper\"},{\"font\":{},\"showarrow\":false,\"text\":\"year=1992\",\"textangle\":90,\"x\":0.98,\"xanchor\":\"left\",\"xref\":\"paper\",\"y\":0.88625,\"yanchor\":\"middle\",\"yref\":\"paper\"}],\"height\":500,\"legend\":{\"title\":{\"text\":\"country\"},\"tracegroupgap\":0},\"margin\":{\"t\":60},\"template\":{\"data\":{\"bar\":[{\"error_x\":{\"color\":\"#2a3f5f\"},\"error_y\":{\"color\":\"#2a3f5f\"},\"marker\":{\"line\":{\"color\":\"#E5ECF6\",\"width\":0.5},\"pattern\":{\"fillmode\":\"overlay\",\"size\":10,\"solidity\":0.2}},\"type\":\"bar\"}],\"barpolar\":[{\"marker\":{\"line\":{\"color\":\"#E5ECF6\",\"width\":0.5},\"pattern\":{\"fillmode\":\"overlay\",\"size\":10,\"solidity\":0.2}},\"type\":\"barpolar\"}],\"carpet\":[{\"aaxis\":{\"endlinecolor\":\"#2a3f5f\",\"gridcolor\":\"white\",\"linecolor\":\"white\",\"minorgridcolor\":\"white\",\"startlinecolor\":\"#2a3f5f\"},\"baxis\":{\"endlinecolor\":\"#2a3f5f\",\"gridcolor\":\"white\",\"linecolor\":\"white\",\"minorgridcolor\":\"white\",\"startlinecolor\":\"#2a3f5f\"},\"type\":\"carpet\"}],\"choropleth\":[{\"colorbar\":{\"outlinewidth\":0,\"ticks\":\"\"},\"type\":\"choropleth\"}],\"contour\":[{\"colorbar\":{\"outlinewidth\":0,\"ticks\":\"\"},\"colorscale\":[[0.0,\"#0d0887\"],[0.1111111111111111,\"#46039f\"],[0.2222222222222222,\"#7201a8\"],[0.3333333333333333,\"#9c179e\"],[0.4444444444444444,\"#bd3786\"],[0.5555555555555556,\"#d8576b\"],[0.6666666666666666,\"#ed7953\"],[0.7777777777777778,\"#fb9f3a\"],[0.8888888888888888,\"#fdca26\"],[1.0,\"#f0f921\"]],\"type\":\"contour\"}],\"contourcarpet\":[{\"colorbar\":{\"outlinewidth\":0,\"ticks\":\"\"},\"type\":\"contourcarpet\"}],\"heatmap\":[{\"colorbar\":{\"outlinewidth\":0,\"ticks\":\"\"},\"colorscale\":[[0.0,\"#0d0887\"],[0.1111111111111111,\"#46039f\"],[0.2222222222222222,\"#7201a8\"],[0.3333333333333333,\"#9c179e\"],[0.4444444444444444,\"#bd3786\"],[0.5555555555555556,\"#d8576b\"],[0.6666666666666666,\"#ed7953\"],[0.7777777777777778,\"#fb9f3a\"],[0.8888888888888888,\"#fdca26\"],[1.0,\"#f0f921\"]],\"type\":\"heatmap\"}],\"heatmapgl\":[{\"colorbar\":{\"outlinewidth\":0,\"ticks\":\"\"},\"colorscale\":[[0.0,\"#0d0887\"],[0.1111111111111111,\"#46039f\"],[0.2222222222222222,\"#7201a8\"],[0.3333333333333333,\"#9c179e\"],[0.4444444444444444,\"#bd3786\"],[0.5555555555555556,\"#d8576b\"],[0.6666666666666666,\"#ed7953\"],[0.7777777777777778,\"#fb9f3a\"],[0.8888888888888888,\"#fdca26\"],[1.0,\"#f0f921\"]],\"type\":\"heatmapgl\"}],\"histogram\":[{\"marker\":{\"pattern\":{\"fillmode\":\"overlay\",\"size\":10,\"solidity\":0.2}},\"type\":\"histogram\"}],\"histogram2d\":[{\"colorbar\":{\"outlinewidth\":0,\"ticks\":\"\"},\"colorscale\":[[0.0,\"#0d0887\"],[0.1111111111111111,\"#46039f\"],[0.2222222222222222,\"#7201a8\"],[0.3333333333333333,\"#9c179e\"],[0.4444444444444444,\"#bd3786\"],[0.5555555555555556,\"#d8576b\"],[0.6666666666666666,\"#ed7953\"],[0.7777777777777778,\"#fb9f3a\"],[0.8888888888888888,\"#fdca26\"],[1.0,\"#f0f921\"]],\"type\":\"histogram2d\"}],\"histogram2dcontour\":[{\"colorbar\":{\"outlinewidth\":0,\"ticks\":\"\"},\"colorscale\":[[0.0,\"#0d0887\"],[0.1111111111111111,\"#46039f\"],[0.2222222222222222,\"#7201a8\"],[0.3333333333333333,\"#9c179e\"],[0.4444444444444444,\"#bd3786\"],[0.5555555555555556,\"#d8576b\"],[0.6666666666666666,\"#ed7953\"],[0.7777777777777778,\"#fb9f3a\"],[0.8888888888888888,\"#fdca26\"],[1.0,\"#f0f921\"]],\"type\":\"histogram2dcontour\"}],\"mesh3d\":[{\"colorbar\":{\"outlinewidth\":0,\"ticks\":\"\"},\"type\":\"mesh3d\"}],\"parcoords\":[{\"line\":{\"colorbar\":{\"outlinewidth\":0,\"ticks\":\"\"}},\"type\":\"parcoords\"}],\"pie\":[{\"automargin\":true,\"type\":\"pie\"}],\"scatter\":[{\"marker\":{\"colorbar\":{\"outlinewidth\":0,\"ticks\":\"\"}},\"type\":\"scatter\"}],\"scatter3d\":[{\"line\":{\"colorbar\":{\"outlinewidth\":0,\"ticks\":\"\"}},\"marker\":{\"colorbar\":{\"outlinewidth\":0,\"ticks\":\"\"}},\"type\":\"scatter3d\"}],\"scattercarpet\":[{\"marker\":{\"colorbar\":{\"outlinewidth\":0,\"ticks\":\"\"}},\"type\":\"scattercarpet\"}],\"scattergeo\":[{\"marker\":{\"colorbar\":{\"outlinewidth\":0,\"ticks\":\"\"}},\"type\":\"scattergeo\"}],\"scattergl\":[{\"marker\":{\"colorbar\":{\"outlinewidth\":0,\"ticks\":\"\"}},\"type\":\"scattergl\"}],\"scattermapbox\":[{\"marker\":{\"colorbar\":{\"outlinewidth\":0,\"ticks\":\"\"}},\"type\":\"scattermapbox\"}],\"scatterpolar\":[{\"marker\":{\"colorbar\":{\"outlinewidth\":0,\"ticks\":\"\"}},\"type\":\"scatterpolar\"}],\"scatterpolargl\":[{\"marker\":{\"colorbar\":{\"outlinewidth\":0,\"ticks\":\"\"}},\"type\":\"scatterpolargl\"}],\"scatterternary\":[{\"marker\":{\"colorbar\":{\"outlinewidth\":0,\"ticks\":\"\"}},\"type\":\"scatterternary\"}],\"surface\":[{\"colorbar\":{\"outlinewidth\":0,\"ticks\":\"\"},\"colorscale\":[[0.0,\"#0d0887\"],[0.1111111111111111,\"#46039f\"],[0.2222222222222222,\"#7201a8\"],[0.3333333333333333,\"#9c179e\"],[0.4444444444444444,\"#bd3786\"],[0.5555555555555556,\"#d8576b\"],[0.6666666666666666,\"#ed7953\"],[0.7777777777777778,\"#fb9f3a\"],[0.8888888888888888,\"#fdca26\"],[1.0,\"#f0f921\"]],\"type\":\"surface\"}],\"table\":[{\"cells\":{\"fill\":{\"color\":\"#EBF0F8\"},\"line\":{\"color\":\"white\"}},\"header\":{\"fill\":{\"color\":\"#C8D4E3\"},\"line\":{\"color\":\"white\"}},\"type\":\"table\"}]},\"layout\":{\"annotationdefaults\":{\"arrowcolor\":\"#2a3f5f\",\"arrowhead\":0,\"arrowwidth\":1},\"autotypenumbers\":\"strict\",\"coloraxis\":{\"colorbar\":{\"outlinewidth\":0,\"ticks\":\"\"}},\"colorscale\":{\"diverging\":[[0,\"#8e0152\"],[0.1,\"#c51b7d\"],[0.2,\"#de77ae\"],[0.3,\"#f1b6da\"],[0.4,\"#fde0ef\"],[0.5,\"#f7f7f7\"],[0.6,\"#e6f5d0\"],[0.7,\"#b8e186\"],[0.8,\"#7fbc41\"],[0.9,\"#4d9221\"],[1,\"#276419\"]],\"sequential\":[[0.0,\"#0d0887\"],[0.1111111111111111,\"#46039f\"],[0.2222222222222222,\"#7201a8\"],[0.3333333333333333,\"#9c179e\"],[0.4444444444444444,\"#bd3786\"],[0.5555555555555556,\"#d8576b\"],[0.6666666666666666,\"#ed7953\"],[0.7777777777777778,\"#fb9f3a\"],[0.8888888888888888,\"#fdca26\"],[1.0,\"#f0f921\"]],\"sequentialminus\":[[0.0,\"#0d0887\"],[0.1111111111111111,\"#46039f\"],[0.2222222222222222,\"#7201a8\"],[0.3333333333333333,\"#9c179e\"],[0.4444444444444444,\"#bd3786\"],[0.5555555555555556,\"#d8576b\"],[0.6666666666666666,\"#ed7953\"],[0.7777777777777778,\"#fb9f3a\"],[0.8888888888888888,\"#fdca26\"],[1.0,\"#f0f921\"]]},\"colorway\":[\"#636efa\",\"#EF553B\",\"#00cc96\",\"#ab63fa\",\"#FFA15A\",\"#19d3f3\",\"#FF6692\",\"#B6E880\",\"#FF97FF\",\"#FECB52\"],\"font\":{\"color\":\"#2a3f5f\"},\"geo\":{\"bgcolor\":\"white\",\"lakecolor\":\"white\",\"landcolor\":\"#E5ECF6\",\"showlakes\":true,\"showland\":true,\"subunitcolor\":\"white\"},\"hoverlabel\":{\"align\":\"left\"},\"hovermode\":\"closest\",\"mapbox\":{\"style\":\"light\"},\"paper_bgcolor\":\"white\",\"plot_bgcolor\":\"#E5ECF6\",\"polar\":{\"angularaxis\":{\"gridcolor\":\"white\",\"linecolor\":\"white\",\"ticks\":\"\"},\"bgcolor\":\"#E5ECF6\",\"radialaxis\":{\"gridcolor\":\"white\",\"linecolor\":\"white\",\"ticks\":\"\"}},\"scene\":{\"xaxis\":{\"backgroundcolor\":\"#E5ECF6\",\"gridcolor\":\"white\",\"gridwidth\":2,\"linecolor\":\"white\",\"showbackground\":true,\"ticks\":\"\",\"zerolinecolor\":\"white\"},\"yaxis\":{\"backgroundcolor\":\"#E5ECF6\",\"gridcolor\":\"white\",\"gridwidth\":2,\"linecolor\":\"white\",\"showbackground\":true,\"ticks\":\"\",\"zerolinecolor\":\"white\"},\"zaxis\":{\"backgroundcolor\":\"#E5ECF6\",\"gridcolor\":\"white\",\"gridwidth\":2,\"linecolor\":\"white\",\"showbackground\":true,\"ticks\":\"\",\"zerolinecolor\":\"white\"}},\"shapedefaults\":{\"line\":{\"color\":\"#2a3f5f\"}},\"ternary\":{\"aaxis\":{\"gridcolor\":\"white\",\"linecolor\":\"white\",\"ticks\":\"\"},\"baxis\":{\"gridcolor\":\"white\",\"linecolor\":\"white\",\"ticks\":\"\"},\"bgcolor\":\"#E5ECF6\",\"caxis\":{\"gridcolor\":\"white\",\"linecolor\":\"white\",\"ticks\":\"\"}},\"title\":{\"x\":0.05},\"xaxis\":{\"automargin\":true,\"gridcolor\":\"white\",\"linecolor\":\"white\",\"ticks\":\"\",\"title\":{\"standoff\":15},\"zerolinecolor\":\"white\",\"zerolinewidth\":2},\"yaxis\":{\"automargin\":true,\"gridcolor\":\"white\",\"linecolor\":\"white\",\"ticks\":\"\",\"title\":{\"standoff\":15},\"zerolinecolor\":\"white\",\"zerolinewidth\":2}}},\"xaxis\":{\"anchor\":\"y\",\"domain\":[0.0,0.98],\"title\":{\"text\":\"gdpPercap\"}},\"xaxis2\":{\"anchor\":\"y2\",\"domain\":[0.0,0.98],\"matches\":\"x\",\"showticklabels\":false},\"xaxis3\":{\"anchor\":\"y3\",\"domain\":[0.0,0.98],\"matches\":\"x\",\"showticklabels\":false},\"xaxis4\":{\"anchor\":\"y4\",\"domain\":[0.0,0.98],\"matches\":\"x\",\"showticklabels\":false},\"yaxis\":{\"anchor\":\"x\",\"domain\":[0.0,0.2275],\"title\":{\"text\":\"lifeExp\"}},\"yaxis2\":{\"anchor\":\"x2\",\"domain\":[0.2575,0.485],\"matches\":\"y\",\"title\":{\"text\":\"lifeExp\"}},\"yaxis3\":{\"anchor\":\"x3\",\"domain\":[0.515,0.7425],\"matches\":\"y\",\"title\":{\"text\":\"lifeExp\"}},\"yaxis4\":{\"anchor\":\"x4\",\"domain\":[0.7725,1.0],\"matches\":\"y\",\"title\":{\"text\":\"lifeExp\"}}},                        {\"responsive\": true}                    ).then(function(){\n",
       "                            \n",
       "var gd = document.getElementById('5ae62d4b-0493-4ada-b66e-24ab2af2fcca');\n",
       "var x = new MutationObserver(function (mutations, observer) {{\n",
       "        var display = window.getComputedStyle(gd).display;\n",
       "        if (!display || display === 'none') {{\n",
       "            console.log([gd, 'removed!']);\n",
       "            Plotly.purge(gd);\n",
       "            observer.disconnect();\n",
       "        }}\n",
       "}});\n",
       "\n",
       "// Listen for the removal of the full notebook cells\n",
       "var notebookContainer = gd.closest('#notebook-container');\n",
       "if (notebookContainer) {{\n",
       "    x.observe(notebookContainer, {childList: true});\n",
       "}}\n",
       "\n",
       "// Listen for the clearing of the current output cell\n",
       "var outputEl = gd.closest('.output');\n",
       "if (outputEl) {{\n",
       "    x.observe(outputEl, {childList: true});\n",
       "}}\n",
       "\n",
       "                        })                };                });            </script>        </div>"
      ]
     },
     "metadata": {},
     "output_type": "display_data"
    }
   ],
   "source": [
    "df = df_[df_.continent=='Europe'].query('year>1990')\n",
    "fig = px.scatter(df, x=\"gdpPercap\", y=\"lifeExp\", color='country', facet_row='year', height=500)\n",
    "fig.show()"
   ]
  },
  {
   "cell_type": "code",
   "execution_count": null,
   "id": "3edf879e",
   "metadata": {},
   "outputs": [],
   "source": []
  },
  {
   "cell_type": "markdown",
   "id": "94a7e7be",
   "metadata": {},
   "source": [
    "### Ready to use Themes\n"
   ]
  },
  {
   "cell_type": "code",
   "execution_count": 6,
   "id": "d5e1aa65",
   "metadata": {},
   "outputs": [],
   "source": [
    "# https://plotly.com/python/templates/"
   ]
  },
  {
   "cell_type": "code",
   "execution_count": 7,
   "id": "2a8d21e8",
   "metadata": {},
   "outputs": [
    {
     "data": {
      "application/vnd.plotly.v1+json": {
       "config": {
        "plotlyServerURL": "https://plot.ly"
       },
       "data": [
        {
         "hovertemplate": "country=Afghanistan<br>continent=Asia<br>year=1997<br>gdpPercap=%{x}<br>lifeExp=%{y}<extra></extra>",
         "legendgroup": "Afghanistan",
         "marker": {
          "color": "rgb(76,114,176)",
          "symbol": "circle"
         },
         "mode": "markers",
         "name": "Afghanistan",
         "orientation": "v",
         "showlegend": true,
         "type": "scatter",
         "x": [
          635.341351
         ],
         "xaxis": "x13",
         "y": [
          41.76300000000001
         ],
         "yaxis": "y13"
        },
        {
         "hovertemplate": "country=Afghanistan<br>continent=Asia<br>year=2002<br>gdpPercap=%{x}<br>lifeExp=%{y}<extra></extra>",
         "legendgroup": "Afghanistan",
         "marker": {
          "color": "rgb(76,114,176)",
          "symbol": "circle"
         },
         "mode": "markers",
         "name": "Afghanistan",
         "orientation": "v",
         "showlegend": false,
         "type": "scatter",
         "x": [
          726.7340548
         ],
         "xaxis": "x14",
         "y": [
          42.129
         ],
         "yaxis": "y14"
        },
        {
         "hovertemplate": "country=Afghanistan<br>continent=Asia<br>year=2007<br>gdpPercap=%{x}<br>lifeExp=%{y}<extra></extra>",
         "legendgroup": "Afghanistan",
         "marker": {
          "color": "rgb(76,114,176)",
          "symbol": "circle"
         },
         "mode": "markers",
         "name": "Afghanistan",
         "orientation": "v",
         "showlegend": false,
         "type": "scatter",
         "x": [
          974.5803384
         ],
         "xaxis": "x15",
         "y": [
          43.828
         ],
         "yaxis": "y15"
        },
        {
         "hovertemplate": "country=Albania<br>continent=Europe<br>year=1997<br>gdpPercap=%{x}<br>lifeExp=%{y}<extra></extra>",
         "legendgroup": "Albania",
         "marker": {
          "color": "rgb(221,132,82)",
          "symbol": "circle"
         },
         "mode": "markers",
         "name": "Albania",
         "orientation": "v",
         "showlegend": true,
         "type": "scatter",
         "x": [
          3193.054604
         ],
         "xaxis": "x10",
         "y": [
          72.95
         ],
         "yaxis": "y10"
        },
        {
         "hovertemplate": "country=Albania<br>continent=Europe<br>year=2002<br>gdpPercap=%{x}<br>lifeExp=%{y}<extra></extra>",
         "legendgroup": "Albania",
         "marker": {
          "color": "rgb(221,132,82)",
          "symbol": "circle"
         },
         "mode": "markers",
         "name": "Albania",
         "orientation": "v",
         "showlegend": false,
         "type": "scatter",
         "x": [
          4604.211737
         ],
         "xaxis": "x11",
         "y": [
          75.65100000000002
         ],
         "yaxis": "y11"
        },
        {
         "hovertemplate": "country=Albania<br>continent=Europe<br>year=2007<br>gdpPercap=%{x}<br>lifeExp=%{y}<extra></extra>",
         "legendgroup": "Albania",
         "marker": {
          "color": "rgb(221,132,82)",
          "symbol": "circle"
         },
         "mode": "markers",
         "name": "Albania",
         "orientation": "v",
         "showlegend": false,
         "type": "scatter",
         "x": [
          5937.0295259999975
         ],
         "xaxis": "x12",
         "y": [
          76.423
         ],
         "yaxis": "y12"
        },
        {
         "hovertemplate": "country=Algeria<br>continent=Africa<br>year=1997<br>gdpPercap=%{x}<br>lifeExp=%{y}<extra></extra>",
         "legendgroup": "Algeria",
         "marker": {
          "color": "rgb(85,168,104)",
          "symbol": "circle"
         },
         "mode": "markers",
         "name": "Algeria",
         "orientation": "v",
         "showlegend": true,
         "type": "scatter",
         "x": [
          4797.295051
         ],
         "xaxis": "x7",
         "y": [
          69.152
         ],
         "yaxis": "y7"
        },
        {
         "hovertemplate": "country=Algeria<br>continent=Africa<br>year=2002<br>gdpPercap=%{x}<br>lifeExp=%{y}<extra></extra>",
         "legendgroup": "Algeria",
         "marker": {
          "color": "rgb(85,168,104)",
          "symbol": "circle"
         },
         "mode": "markers",
         "name": "Algeria",
         "orientation": "v",
         "showlegend": false,
         "type": "scatter",
         "x": [
          5288.040382
         ],
         "xaxis": "x8",
         "y": [
          70.994
         ],
         "yaxis": "y8"
        },
        {
         "hovertemplate": "country=Algeria<br>continent=Africa<br>year=2007<br>gdpPercap=%{x}<br>lifeExp=%{y}<extra></extra>",
         "legendgroup": "Algeria",
         "marker": {
          "color": "rgb(85,168,104)",
          "symbol": "circle"
         },
         "mode": "markers",
         "name": "Algeria",
         "orientation": "v",
         "showlegend": false,
         "type": "scatter",
         "x": [
          6223.367465
         ],
         "xaxis": "x9",
         "y": [
          72.301
         ],
         "yaxis": "y9"
        },
        {
         "hovertemplate": "country=Angola<br>continent=Africa<br>year=1997<br>gdpPercap=%{x}<br>lifeExp=%{y}<extra></extra>",
         "legendgroup": "Angola",
         "marker": {
          "color": "rgb(196,78,82)",
          "symbol": "circle"
         },
         "mode": "markers",
         "name": "Angola",
         "orientation": "v",
         "showlegend": true,
         "type": "scatter",
         "x": [
          2277.140884
         ],
         "xaxis": "x7",
         "y": [
          40.963
         ],
         "yaxis": "y7"
        },
        {
         "hovertemplate": "country=Angola<br>continent=Africa<br>year=2002<br>gdpPercap=%{x}<br>lifeExp=%{y}<extra></extra>",
         "legendgroup": "Angola",
         "marker": {
          "color": "rgb(196,78,82)",
          "symbol": "circle"
         },
         "mode": "markers",
         "name": "Angola",
         "orientation": "v",
         "showlegend": false,
         "type": "scatter",
         "x": [
          2773.287312
         ],
         "xaxis": "x8",
         "y": [
          41.003
         ],
         "yaxis": "y8"
        },
        {
         "hovertemplate": "country=Angola<br>continent=Africa<br>year=2007<br>gdpPercap=%{x}<br>lifeExp=%{y}<extra></extra>",
         "legendgroup": "Angola",
         "marker": {
          "color": "rgb(196,78,82)",
          "symbol": "circle"
         },
         "mode": "markers",
         "name": "Angola",
         "orientation": "v",
         "showlegend": false,
         "type": "scatter",
         "x": [
          4797.231267
         ],
         "xaxis": "x9",
         "y": [
          42.731
         ],
         "yaxis": "y9"
        },
        {
         "hovertemplate": "country=Argentina<br>continent=Americas<br>year=1997<br>gdpPercap=%{x}<br>lifeExp=%{y}<extra></extra>",
         "legendgroup": "Argentina",
         "marker": {
          "color": "rgb(129,114,179)",
          "symbol": "circle"
         },
         "mode": "markers",
         "name": "Argentina",
         "orientation": "v",
         "showlegend": true,
         "type": "scatter",
         "x": [
          10967.28195
         ],
         "xaxis": "x4",
         "y": [
          73.275
         ],
         "yaxis": "y4"
        },
        {
         "hovertemplate": "country=Argentina<br>continent=Americas<br>year=2002<br>gdpPercap=%{x}<br>lifeExp=%{y}<extra></extra>",
         "legendgroup": "Argentina",
         "marker": {
          "color": "rgb(129,114,179)",
          "symbol": "circle"
         },
         "mode": "markers",
         "name": "Argentina",
         "orientation": "v",
         "showlegend": false,
         "type": "scatter",
         "x": [
          8797.640716
         ],
         "xaxis": "x5",
         "y": [
          74.34
         ],
         "yaxis": "y5"
        },
        {
         "hovertemplate": "country=Argentina<br>continent=Americas<br>year=2007<br>gdpPercap=%{x}<br>lifeExp=%{y}<extra></extra>",
         "legendgroup": "Argentina",
         "marker": {
          "color": "rgb(129,114,179)",
          "symbol": "circle"
         },
         "mode": "markers",
         "name": "Argentina",
         "orientation": "v",
         "showlegend": false,
         "type": "scatter",
         "x": [
          12779.379640000001
         ],
         "xaxis": "x6",
         "y": [
          75.32
         ],
         "yaxis": "y6"
        },
        {
         "hovertemplate": "country=Australia<br>continent=Oceania<br>year=1997<br>gdpPercap=%{x}<br>lifeExp=%{y}<extra></extra>",
         "legendgroup": "Australia",
         "marker": {
          "color": "rgb(147,120,96)",
          "symbol": "circle"
         },
         "mode": "markers",
         "name": "Australia",
         "orientation": "v",
         "showlegend": true,
         "type": "scatter",
         "x": [
          26997.936569999998
         ],
         "xaxis": "x",
         "y": [
          78.83
         ],
         "yaxis": "y"
        },
        {
         "hovertemplate": "country=Australia<br>continent=Oceania<br>year=2002<br>gdpPercap=%{x}<br>lifeExp=%{y}<extra></extra>",
         "legendgroup": "Australia",
         "marker": {
          "color": "rgb(147,120,96)",
          "symbol": "circle"
         },
         "mode": "markers",
         "name": "Australia",
         "orientation": "v",
         "showlegend": false,
         "type": "scatter",
         "x": [
          30687.75473
         ],
         "xaxis": "x2",
         "y": [
          80.37
         ],
         "yaxis": "y2"
        },
        {
         "hovertemplate": "country=Australia<br>continent=Oceania<br>year=2007<br>gdpPercap=%{x}<br>lifeExp=%{y}<extra></extra>",
         "legendgroup": "Australia",
         "marker": {
          "color": "rgb(147,120,96)",
          "symbol": "circle"
         },
         "mode": "markers",
         "name": "Australia",
         "orientation": "v",
         "showlegend": false,
         "type": "scatter",
         "x": [
          34435.367439999995
         ],
         "xaxis": "x3",
         "y": [
          81.235
         ],
         "yaxis": "y3"
        },
        {
         "hovertemplate": "country=Austria<br>continent=Europe<br>year=1997<br>gdpPercap=%{x}<br>lifeExp=%{y}<extra></extra>",
         "legendgroup": "Austria",
         "marker": {
          "color": "rgb(218,139,195)",
          "symbol": "circle"
         },
         "mode": "markers",
         "name": "Austria",
         "orientation": "v",
         "showlegend": true,
         "type": "scatter",
         "x": [
          29095.920660000003
         ],
         "xaxis": "x10",
         "y": [
          77.51
         ],
         "yaxis": "y10"
        },
        {
         "hovertemplate": "country=Austria<br>continent=Europe<br>year=2002<br>gdpPercap=%{x}<br>lifeExp=%{y}<extra></extra>",
         "legendgroup": "Austria",
         "marker": {
          "color": "rgb(218,139,195)",
          "symbol": "circle"
         },
         "mode": "markers",
         "name": "Austria",
         "orientation": "v",
         "showlegend": false,
         "type": "scatter",
         "x": [
          32417.607689999997
         ],
         "xaxis": "x11",
         "y": [
          78.98
         ],
         "yaxis": "y11"
        },
        {
         "hovertemplate": "country=Austria<br>continent=Europe<br>year=2007<br>gdpPercap=%{x}<br>lifeExp=%{y}<extra></extra>",
         "legendgroup": "Austria",
         "marker": {
          "color": "rgb(218,139,195)",
          "symbol": "circle"
         },
         "mode": "markers",
         "name": "Austria",
         "orientation": "v",
         "showlegend": false,
         "type": "scatter",
         "x": [
          36126.4927
         ],
         "xaxis": "x12",
         "y": [
          79.829
         ],
         "yaxis": "y12"
        },
        {
         "hovertemplate": "country=Bahrain<br>continent=Asia<br>year=1997<br>gdpPercap=%{x}<br>lifeExp=%{y}<extra></extra>",
         "legendgroup": "Bahrain",
         "marker": {
          "color": "rgb(140,140,140)",
          "symbol": "circle"
         },
         "mode": "markers",
         "name": "Bahrain",
         "orientation": "v",
         "showlegend": true,
         "type": "scatter",
         "x": [
          20292.01679
         ],
         "xaxis": "x13",
         "y": [
          73.925
         ],
         "yaxis": "y13"
        },
        {
         "hovertemplate": "country=Bahrain<br>continent=Asia<br>year=2002<br>gdpPercap=%{x}<br>lifeExp=%{y}<extra></extra>",
         "legendgroup": "Bahrain",
         "marker": {
          "color": "rgb(140,140,140)",
          "symbol": "circle"
         },
         "mode": "markers",
         "name": "Bahrain",
         "orientation": "v",
         "showlegend": false,
         "type": "scatter",
         "x": [
          23403.559269999998
         ],
         "xaxis": "x14",
         "y": [
          74.795
         ],
         "yaxis": "y14"
        },
        {
         "hovertemplate": "country=Bahrain<br>continent=Asia<br>year=2007<br>gdpPercap=%{x}<br>lifeExp=%{y}<extra></extra>",
         "legendgroup": "Bahrain",
         "marker": {
          "color": "rgb(140,140,140)",
          "symbol": "circle"
         },
         "mode": "markers",
         "name": "Bahrain",
         "orientation": "v",
         "showlegend": false,
         "type": "scatter",
         "x": [
          29796.048339999998
         ],
         "xaxis": "x15",
         "y": [
          75.635
         ],
         "yaxis": "y15"
        },
        {
         "hovertemplate": "country=Bangladesh<br>continent=Asia<br>year=1997<br>gdpPercap=%{x}<br>lifeExp=%{y}<extra></extra>",
         "legendgroup": "Bangladesh",
         "marker": {
          "color": "rgb(204,185,116)",
          "symbol": "circle"
         },
         "mode": "markers",
         "name": "Bangladesh",
         "orientation": "v",
         "showlegend": true,
         "type": "scatter",
         "x": [
          972.7700352
         ],
         "xaxis": "x13",
         "y": [
          59.412
         ],
         "yaxis": "y13"
        },
        {
         "hovertemplate": "country=Bangladesh<br>continent=Asia<br>year=2002<br>gdpPercap=%{x}<br>lifeExp=%{y}<extra></extra>",
         "legendgroup": "Bangladesh",
         "marker": {
          "color": "rgb(204,185,116)",
          "symbol": "circle"
         },
         "mode": "markers",
         "name": "Bangladesh",
         "orientation": "v",
         "showlegend": false,
         "type": "scatter",
         "x": [
          1136.3904300000004
         ],
         "xaxis": "x14",
         "y": [
          62.01300000000001
         ],
         "yaxis": "y14"
        },
        {
         "hovertemplate": "country=Bangladesh<br>continent=Asia<br>year=2007<br>gdpPercap=%{x}<br>lifeExp=%{y}<extra></extra>",
         "legendgroup": "Bangladesh",
         "marker": {
          "color": "rgb(204,185,116)",
          "symbol": "circle"
         },
         "mode": "markers",
         "name": "Bangladesh",
         "orientation": "v",
         "showlegend": false,
         "type": "scatter",
         "x": [
          1391.253792
         ],
         "xaxis": "x15",
         "y": [
          64.062
         ],
         "yaxis": "y15"
        },
        {
         "hovertemplate": "country=Belgium<br>continent=Europe<br>year=1997<br>gdpPercap=%{x}<br>lifeExp=%{y}<extra></extra>",
         "legendgroup": "Belgium",
         "marker": {
          "color": "rgb(100,181,205)",
          "symbol": "circle"
         },
         "mode": "markers",
         "name": "Belgium",
         "orientation": "v",
         "showlegend": true,
         "type": "scatter",
         "x": [
          27561.196630000002
         ],
         "xaxis": "x10",
         "y": [
          77.53
         ],
         "yaxis": "y10"
        },
        {
         "hovertemplate": "country=Belgium<br>continent=Europe<br>year=2002<br>gdpPercap=%{x}<br>lifeExp=%{y}<extra></extra>",
         "legendgroup": "Belgium",
         "marker": {
          "color": "rgb(100,181,205)",
          "symbol": "circle"
         },
         "mode": "markers",
         "name": "Belgium",
         "orientation": "v",
         "showlegend": false,
         "type": "scatter",
         "x": [
          30485.88375
         ],
         "xaxis": "x11",
         "y": [
          78.32
         ],
         "yaxis": "y11"
        },
        {
         "hovertemplate": "country=Belgium<br>continent=Europe<br>year=2007<br>gdpPercap=%{x}<br>lifeExp=%{y}<extra></extra>",
         "legendgroup": "Belgium",
         "marker": {
          "color": "rgb(100,181,205)",
          "symbol": "circle"
         },
         "mode": "markers",
         "name": "Belgium",
         "orientation": "v",
         "showlegend": false,
         "type": "scatter",
         "x": [
          33692.60508
         ],
         "xaxis": "x12",
         "y": [
          79.441
         ],
         "yaxis": "y12"
        },
        {
         "hovertemplate": "country=Benin<br>continent=Africa<br>year=1997<br>gdpPercap=%{x}<br>lifeExp=%{y}<extra></extra>",
         "legendgroup": "Benin",
         "marker": {
          "color": "rgb(76,114,176)",
          "symbol": "circle"
         },
         "mode": "markers",
         "name": "Benin",
         "orientation": "v",
         "showlegend": true,
         "type": "scatter",
         "x": [
          1232.975292
         ],
         "xaxis": "x7",
         "y": [
          54.777
         ],
         "yaxis": "y7"
        },
        {
         "hovertemplate": "country=Benin<br>continent=Africa<br>year=2002<br>gdpPercap=%{x}<br>lifeExp=%{y}<extra></extra>",
         "legendgroup": "Benin",
         "marker": {
          "color": "rgb(76,114,176)",
          "symbol": "circle"
         },
         "mode": "markers",
         "name": "Benin",
         "orientation": "v",
         "showlegend": false,
         "type": "scatter",
         "x": [
          1372.877931
         ],
         "xaxis": "x8",
         "y": [
          54.40600000000001
         ],
         "yaxis": "y8"
        },
        {
         "hovertemplate": "country=Benin<br>continent=Africa<br>year=2007<br>gdpPercap=%{x}<br>lifeExp=%{y}<extra></extra>",
         "legendgroup": "Benin",
         "marker": {
          "color": "rgb(76,114,176)",
          "symbol": "circle"
         },
         "mode": "markers",
         "name": "Benin",
         "orientation": "v",
         "showlegend": false,
         "type": "scatter",
         "x": [
          1441.284873
         ],
         "xaxis": "x9",
         "y": [
          56.728
         ],
         "yaxis": "y9"
        },
        {
         "hovertemplate": "country=Bolivia<br>continent=Americas<br>year=1997<br>gdpPercap=%{x}<br>lifeExp=%{y}<extra></extra>",
         "legendgroup": "Bolivia",
         "marker": {
          "color": "rgb(221,132,82)",
          "symbol": "circle"
         },
         "mode": "markers",
         "name": "Bolivia",
         "orientation": "v",
         "showlegend": true,
         "type": "scatter",
         "x": [
          3326.143191
         ],
         "xaxis": "x4",
         "y": [
          62.05
         ],
         "yaxis": "y4"
        },
        {
         "hovertemplate": "country=Bolivia<br>continent=Americas<br>year=2002<br>gdpPercap=%{x}<br>lifeExp=%{y}<extra></extra>",
         "legendgroup": "Bolivia",
         "marker": {
          "color": "rgb(221,132,82)",
          "symbol": "circle"
         },
         "mode": "markers",
         "name": "Bolivia",
         "orientation": "v",
         "showlegend": false,
         "type": "scatter",
         "x": [
          3413.26269
         ],
         "xaxis": "x5",
         "y": [
          63.883
         ],
         "yaxis": "y5"
        },
        {
         "hovertemplate": "country=Bolivia<br>continent=Americas<br>year=2007<br>gdpPercap=%{x}<br>lifeExp=%{y}<extra></extra>",
         "legendgroup": "Bolivia",
         "marker": {
          "color": "rgb(221,132,82)",
          "symbol": "circle"
         },
         "mode": "markers",
         "name": "Bolivia",
         "orientation": "v",
         "showlegend": false,
         "type": "scatter",
         "x": [
          3822.1370840000004
         ],
         "xaxis": "x6",
         "y": [
          65.554
         ],
         "yaxis": "y6"
        },
        {
         "hovertemplate": "country=Bosnia and Herzegovina<br>continent=Europe<br>year=1997<br>gdpPercap=%{x}<br>lifeExp=%{y}<extra></extra>",
         "legendgroup": "Bosnia and Herzegovina",
         "marker": {
          "color": "rgb(85,168,104)",
          "symbol": "circle"
         },
         "mode": "markers",
         "name": "Bosnia and Herzegovina",
         "orientation": "v",
         "showlegend": true,
         "type": "scatter",
         "x": [
          4766.355904
         ],
         "xaxis": "x10",
         "y": [
          73.244
         ],
         "yaxis": "y10"
        },
        {
         "hovertemplate": "country=Bosnia and Herzegovina<br>continent=Europe<br>year=2002<br>gdpPercap=%{x}<br>lifeExp=%{y}<extra></extra>",
         "legendgroup": "Bosnia and Herzegovina",
         "marker": {
          "color": "rgb(85,168,104)",
          "symbol": "circle"
         },
         "mode": "markers",
         "name": "Bosnia and Herzegovina",
         "orientation": "v",
         "showlegend": false,
         "type": "scatter",
         "x": [
          6018.975239
         ],
         "xaxis": "x11",
         "y": [
          74.09
         ],
         "yaxis": "y11"
        },
        {
         "hovertemplate": "country=Bosnia and Herzegovina<br>continent=Europe<br>year=2007<br>gdpPercap=%{x}<br>lifeExp=%{y}<extra></extra>",
         "legendgroup": "Bosnia and Herzegovina",
         "marker": {
          "color": "rgb(85,168,104)",
          "symbol": "circle"
         },
         "mode": "markers",
         "name": "Bosnia and Herzegovina",
         "orientation": "v",
         "showlegend": false,
         "type": "scatter",
         "x": [
          7446.298803
         ],
         "xaxis": "x12",
         "y": [
          74.852
         ],
         "yaxis": "y12"
        },
        {
         "hovertemplate": "country=Botswana<br>continent=Africa<br>year=1997<br>gdpPercap=%{x}<br>lifeExp=%{y}<extra></extra>",
         "legendgroup": "Botswana",
         "marker": {
          "color": "rgb(196,78,82)",
          "symbol": "circle"
         },
         "mode": "markers",
         "name": "Botswana",
         "orientation": "v",
         "showlegend": true,
         "type": "scatter",
         "x": [
          8647.142313
         ],
         "xaxis": "x7",
         "y": [
          52.556000000000004
         ],
         "yaxis": "y7"
        },
        {
         "hovertemplate": "country=Botswana<br>continent=Africa<br>year=2002<br>gdpPercap=%{x}<br>lifeExp=%{y}<extra></extra>",
         "legendgroup": "Botswana",
         "marker": {
          "color": "rgb(196,78,82)",
          "symbol": "circle"
         },
         "mode": "markers",
         "name": "Botswana",
         "orientation": "v",
         "showlegend": false,
         "type": "scatter",
         "x": [
          11003.60508
         ],
         "xaxis": "x8",
         "y": [
          46.63399999999999
         ],
         "yaxis": "y8"
        },
        {
         "hovertemplate": "country=Botswana<br>continent=Africa<br>year=2007<br>gdpPercap=%{x}<br>lifeExp=%{y}<extra></extra>",
         "legendgroup": "Botswana",
         "marker": {
          "color": "rgb(196,78,82)",
          "symbol": "circle"
         },
         "mode": "markers",
         "name": "Botswana",
         "orientation": "v",
         "showlegend": false,
         "type": "scatter",
         "x": [
          12569.851770000001
         ],
         "xaxis": "x9",
         "y": [
          50.728
         ],
         "yaxis": "y9"
        },
        {
         "hovertemplate": "country=Brazil<br>continent=Americas<br>year=1997<br>gdpPercap=%{x}<br>lifeExp=%{y}<extra></extra>",
         "legendgroup": "Brazil",
         "marker": {
          "color": "rgb(129,114,179)",
          "symbol": "circle"
         },
         "mode": "markers",
         "name": "Brazil",
         "orientation": "v",
         "showlegend": true,
         "type": "scatter",
         "x": [
          7957.9808239999975
         ],
         "xaxis": "x4",
         "y": [
          69.388
         ],
         "yaxis": "y4"
        },
        {
         "hovertemplate": "country=Brazil<br>continent=Americas<br>year=2002<br>gdpPercap=%{x}<br>lifeExp=%{y}<extra></extra>",
         "legendgroup": "Brazil",
         "marker": {
          "color": "rgb(129,114,179)",
          "symbol": "circle"
         },
         "mode": "markers",
         "name": "Brazil",
         "orientation": "v",
         "showlegend": false,
         "type": "scatter",
         "x": [
          8131.212843000001
         ],
         "xaxis": "x5",
         "y": [
          71.006
         ],
         "yaxis": "y5"
        },
        {
         "hovertemplate": "country=Brazil<br>continent=Americas<br>year=2007<br>gdpPercap=%{x}<br>lifeExp=%{y}<extra></extra>",
         "legendgroup": "Brazil",
         "marker": {
          "color": "rgb(129,114,179)",
          "symbol": "circle"
         },
         "mode": "markers",
         "name": "Brazil",
         "orientation": "v",
         "showlegend": false,
         "type": "scatter",
         "x": [
          9065.800825
         ],
         "xaxis": "x6",
         "y": [
          72.39
         ],
         "yaxis": "y6"
        },
        {
         "hovertemplate": "country=Bulgaria<br>continent=Europe<br>year=1997<br>gdpPercap=%{x}<br>lifeExp=%{y}<extra></extra>",
         "legendgroup": "Bulgaria",
         "marker": {
          "color": "rgb(147,120,96)",
          "symbol": "circle"
         },
         "mode": "markers",
         "name": "Bulgaria",
         "orientation": "v",
         "showlegend": true,
         "type": "scatter",
         "x": [
          5970.38876
         ],
         "xaxis": "x10",
         "y": [
          70.32
         ],
         "yaxis": "y10"
        },
        {
         "hovertemplate": "country=Bulgaria<br>continent=Europe<br>year=2002<br>gdpPercap=%{x}<br>lifeExp=%{y}<extra></extra>",
         "legendgroup": "Bulgaria",
         "marker": {
          "color": "rgb(147,120,96)",
          "symbol": "circle"
         },
         "mode": "markers",
         "name": "Bulgaria",
         "orientation": "v",
         "showlegend": false,
         "type": "scatter",
         "x": [
          7696.777725
         ],
         "xaxis": "x11",
         "y": [
          72.14
         ],
         "yaxis": "y11"
        },
        {
         "hovertemplate": "country=Bulgaria<br>continent=Europe<br>year=2007<br>gdpPercap=%{x}<br>lifeExp=%{y}<extra></extra>",
         "legendgroup": "Bulgaria",
         "marker": {
          "color": "rgb(147,120,96)",
          "symbol": "circle"
         },
         "mode": "markers",
         "name": "Bulgaria",
         "orientation": "v",
         "showlegend": false,
         "type": "scatter",
         "x": [
          10680.79282
         ],
         "xaxis": "x12",
         "y": [
          73.005
         ],
         "yaxis": "y12"
        },
        {
         "hovertemplate": "country=Burkina Faso<br>continent=Africa<br>year=1997<br>gdpPercap=%{x}<br>lifeExp=%{y}<extra></extra>",
         "legendgroup": "Burkina Faso",
         "marker": {
          "color": "rgb(218,139,195)",
          "symbol": "circle"
         },
         "mode": "markers",
         "name": "Burkina Faso",
         "orientation": "v",
         "showlegend": true,
         "type": "scatter",
         "x": [
          946.2949617999999
         ],
         "xaxis": "x7",
         "y": [
          50.324
         ],
         "yaxis": "y7"
        },
        {
         "hovertemplate": "country=Burkina Faso<br>continent=Africa<br>year=2002<br>gdpPercap=%{x}<br>lifeExp=%{y}<extra></extra>",
         "legendgroup": "Burkina Faso",
         "marker": {
          "color": "rgb(218,139,195)",
          "symbol": "circle"
         },
         "mode": "markers",
         "name": "Burkina Faso",
         "orientation": "v",
         "showlegend": false,
         "type": "scatter",
         "x": [
          1037.645221
         ],
         "xaxis": "x8",
         "y": [
          50.65
         ],
         "yaxis": "y8"
        },
        {
         "hovertemplate": "country=Burkina Faso<br>continent=Africa<br>year=2007<br>gdpPercap=%{x}<br>lifeExp=%{y}<extra></extra>",
         "legendgroup": "Burkina Faso",
         "marker": {
          "color": "rgb(218,139,195)",
          "symbol": "circle"
         },
         "mode": "markers",
         "name": "Burkina Faso",
         "orientation": "v",
         "showlegend": false,
         "type": "scatter",
         "x": [
          1217.032994
         ],
         "xaxis": "x9",
         "y": [
          52.295
         ],
         "yaxis": "y9"
        },
        {
         "hovertemplate": "country=Burundi<br>continent=Africa<br>year=1997<br>gdpPercap=%{x}<br>lifeExp=%{y}<extra></extra>",
         "legendgroup": "Burundi",
         "marker": {
          "color": "rgb(140,140,140)",
          "symbol": "circle"
         },
         "mode": "markers",
         "name": "Burundi",
         "orientation": "v",
         "showlegend": true,
         "type": "scatter",
         "x": [
          463.1151478
         ],
         "xaxis": "x7",
         "y": [
          45.326
         ],
         "yaxis": "y7"
        },
        {
         "hovertemplate": "country=Burundi<br>continent=Africa<br>year=2002<br>gdpPercap=%{x}<br>lifeExp=%{y}<extra></extra>",
         "legendgroup": "Burundi",
         "marker": {
          "color": "rgb(140,140,140)",
          "symbol": "circle"
         },
         "mode": "markers",
         "name": "Burundi",
         "orientation": "v",
         "showlegend": false,
         "type": "scatter",
         "x": [
          446.4035126
         ],
         "xaxis": "x8",
         "y": [
          47.36
         ],
         "yaxis": "y8"
        },
        {
         "hovertemplate": "country=Burundi<br>continent=Africa<br>year=2007<br>gdpPercap=%{x}<br>lifeExp=%{y}<extra></extra>",
         "legendgroup": "Burundi",
         "marker": {
          "color": "rgb(140,140,140)",
          "symbol": "circle"
         },
         "mode": "markers",
         "name": "Burundi",
         "orientation": "v",
         "showlegend": false,
         "type": "scatter",
         "x": [
          430.07069160000003
         ],
         "xaxis": "x9",
         "y": [
          49.58
         ],
         "yaxis": "y9"
        },
        {
         "hovertemplate": "country=Cambodia<br>continent=Asia<br>year=1997<br>gdpPercap=%{x}<br>lifeExp=%{y}<extra></extra>",
         "legendgroup": "Cambodia",
         "marker": {
          "color": "rgb(204,185,116)",
          "symbol": "circle"
         },
         "mode": "markers",
         "name": "Cambodia",
         "orientation": "v",
         "showlegend": true,
         "type": "scatter",
         "x": [
          734.28517
         ],
         "xaxis": "x13",
         "y": [
          56.534
         ],
         "yaxis": "y13"
        },
        {
         "hovertemplate": "country=Cambodia<br>continent=Asia<br>year=2002<br>gdpPercap=%{x}<br>lifeExp=%{y}<extra></extra>",
         "legendgroup": "Cambodia",
         "marker": {
          "color": "rgb(204,185,116)",
          "symbol": "circle"
         },
         "mode": "markers",
         "name": "Cambodia",
         "orientation": "v",
         "showlegend": false,
         "type": "scatter",
         "x": [
          896.2260152999999
         ],
         "xaxis": "x14",
         "y": [
          56.751999999999995
         ],
         "yaxis": "y14"
        },
        {
         "hovertemplate": "country=Cambodia<br>continent=Asia<br>year=2007<br>gdpPercap=%{x}<br>lifeExp=%{y}<extra></extra>",
         "legendgroup": "Cambodia",
         "marker": {
          "color": "rgb(204,185,116)",
          "symbol": "circle"
         },
         "mode": "markers",
         "name": "Cambodia",
         "orientation": "v",
         "showlegend": false,
         "type": "scatter",
         "x": [
          1713.7786859999999
         ],
         "xaxis": "x15",
         "y": [
          59.723
         ],
         "yaxis": "y15"
        },
        {
         "hovertemplate": "country=Cameroon<br>continent=Africa<br>year=1997<br>gdpPercap=%{x}<br>lifeExp=%{y}<extra></extra>",
         "legendgroup": "Cameroon",
         "marker": {
          "color": "rgb(100,181,205)",
          "symbol": "circle"
         },
         "mode": "markers",
         "name": "Cameroon",
         "orientation": "v",
         "showlegend": true,
         "type": "scatter",
         "x": [
          1694.337469
         ],
         "xaxis": "x7",
         "y": [
          52.199
         ],
         "yaxis": "y7"
        },
        {
         "hovertemplate": "country=Cameroon<br>continent=Africa<br>year=2002<br>gdpPercap=%{x}<br>lifeExp=%{y}<extra></extra>",
         "legendgroup": "Cameroon",
         "marker": {
          "color": "rgb(100,181,205)",
          "symbol": "circle"
         },
         "mode": "markers",
         "name": "Cameroon",
         "orientation": "v",
         "showlegend": false,
         "type": "scatter",
         "x": [
          1934.0114489999999
         ],
         "xaxis": "x8",
         "y": [
          49.856
         ],
         "yaxis": "y8"
        },
        {
         "hovertemplate": "country=Cameroon<br>continent=Africa<br>year=2007<br>gdpPercap=%{x}<br>lifeExp=%{y}<extra></extra>",
         "legendgroup": "Cameroon",
         "marker": {
          "color": "rgb(100,181,205)",
          "symbol": "circle"
         },
         "mode": "markers",
         "name": "Cameroon",
         "orientation": "v",
         "showlegend": false,
         "type": "scatter",
         "x": [
          2042.0952399999999
         ],
         "xaxis": "x9",
         "y": [
          50.43
         ],
         "yaxis": "y9"
        },
        {
         "hovertemplate": "country=Canada<br>continent=Americas<br>year=1997<br>gdpPercap=%{x}<br>lifeExp=%{y}<extra></extra>",
         "legendgroup": "Canada",
         "marker": {
          "color": "rgb(76,114,176)",
          "symbol": "circle"
         },
         "mode": "markers",
         "name": "Canada",
         "orientation": "v",
         "showlegend": true,
         "type": "scatter",
         "x": [
          28954.92589
         ],
         "xaxis": "x4",
         "y": [
          78.61
         ],
         "yaxis": "y4"
        },
        {
         "hovertemplate": "country=Canada<br>continent=Americas<br>year=2002<br>gdpPercap=%{x}<br>lifeExp=%{y}<extra></extra>",
         "legendgroup": "Canada",
         "marker": {
          "color": "rgb(76,114,176)",
          "symbol": "circle"
         },
         "mode": "markers",
         "name": "Canada",
         "orientation": "v",
         "showlegend": false,
         "type": "scatter",
         "x": [
          33328.96507
         ],
         "xaxis": "x5",
         "y": [
          79.77
         ],
         "yaxis": "y5"
        },
        {
         "hovertemplate": "country=Canada<br>continent=Americas<br>year=2007<br>gdpPercap=%{x}<br>lifeExp=%{y}<extra></extra>",
         "legendgroup": "Canada",
         "marker": {
          "color": "rgb(76,114,176)",
          "symbol": "circle"
         },
         "mode": "markers",
         "name": "Canada",
         "orientation": "v",
         "showlegend": false,
         "type": "scatter",
         "x": [
          36319.235010000004
         ],
         "xaxis": "x6",
         "y": [
          80.653
         ],
         "yaxis": "y6"
        },
        {
         "hovertemplate": "country=Central African Republic<br>continent=Africa<br>year=1997<br>gdpPercap=%{x}<br>lifeExp=%{y}<extra></extra>",
         "legendgroup": "Central African Republic",
         "marker": {
          "color": "rgb(221,132,82)",
          "symbol": "circle"
         },
         "mode": "markers",
         "name": "Central African Republic",
         "orientation": "v",
         "showlegend": true,
         "type": "scatter",
         "x": [
          740.5063317
         ],
         "xaxis": "x7",
         "y": [
          46.066
         ],
         "yaxis": "y7"
        },
        {
         "hovertemplate": "country=Central African Republic<br>continent=Africa<br>year=2002<br>gdpPercap=%{x}<br>lifeExp=%{y}<extra></extra>",
         "legendgroup": "Central African Republic",
         "marker": {
          "color": "rgb(221,132,82)",
          "symbol": "circle"
         },
         "mode": "markers",
         "name": "Central African Republic",
         "orientation": "v",
         "showlegend": false,
         "type": "scatter",
         "x": [
          738.6906068
         ],
         "xaxis": "x8",
         "y": [
          43.308
         ],
         "yaxis": "y8"
        },
        {
         "hovertemplate": "country=Central African Republic<br>continent=Africa<br>year=2007<br>gdpPercap=%{x}<br>lifeExp=%{y}<extra></extra>",
         "legendgroup": "Central African Republic",
         "marker": {
          "color": "rgb(221,132,82)",
          "symbol": "circle"
         },
         "mode": "markers",
         "name": "Central African Republic",
         "orientation": "v",
         "showlegend": false,
         "type": "scatter",
         "x": [
          706.016537
         ],
         "xaxis": "x9",
         "y": [
          44.74100000000001
         ],
         "yaxis": "y9"
        },
        {
         "hovertemplate": "country=Chad<br>continent=Africa<br>year=1997<br>gdpPercap=%{x}<br>lifeExp=%{y}<extra></extra>",
         "legendgroup": "Chad",
         "marker": {
          "color": "rgb(85,168,104)",
          "symbol": "circle"
         },
         "mode": "markers",
         "name": "Chad",
         "orientation": "v",
         "showlegend": true,
         "type": "scatter",
         "x": [
          1004.9613529999999
         ],
         "xaxis": "x7",
         "y": [
          51.573
         ],
         "yaxis": "y7"
        },
        {
         "hovertemplate": "country=Chad<br>continent=Africa<br>year=2002<br>gdpPercap=%{x}<br>lifeExp=%{y}<extra></extra>",
         "legendgroup": "Chad",
         "marker": {
          "color": "rgb(85,168,104)",
          "symbol": "circle"
         },
         "mode": "markers",
         "name": "Chad",
         "orientation": "v",
         "showlegend": false,
         "type": "scatter",
         "x": [
          1156.18186
         ],
         "xaxis": "x8",
         "y": [
          50.525
         ],
         "yaxis": "y8"
        },
        {
         "hovertemplate": "country=Chad<br>continent=Africa<br>year=2007<br>gdpPercap=%{x}<br>lifeExp=%{y}<extra></extra>",
         "legendgroup": "Chad",
         "marker": {
          "color": "rgb(85,168,104)",
          "symbol": "circle"
         },
         "mode": "markers",
         "name": "Chad",
         "orientation": "v",
         "showlegend": false,
         "type": "scatter",
         "x": [
          1704.0637239999999
         ],
         "xaxis": "x9",
         "y": [
          50.651
         ],
         "yaxis": "y9"
        },
        {
         "hovertemplate": "country=Chile<br>continent=Americas<br>year=1997<br>gdpPercap=%{x}<br>lifeExp=%{y}<extra></extra>",
         "legendgroup": "Chile",
         "marker": {
          "color": "rgb(196,78,82)",
          "symbol": "circle"
         },
         "mode": "markers",
         "name": "Chile",
         "orientation": "v",
         "showlegend": true,
         "type": "scatter",
         "x": [
          10118.053179999999
         ],
         "xaxis": "x4",
         "y": [
          75.816
         ],
         "yaxis": "y4"
        },
        {
         "hovertemplate": "country=Chile<br>continent=Americas<br>year=2002<br>gdpPercap=%{x}<br>lifeExp=%{y}<extra></extra>",
         "legendgroup": "Chile",
         "marker": {
          "color": "rgb(196,78,82)",
          "symbol": "circle"
         },
         "mode": "markers",
         "name": "Chile",
         "orientation": "v",
         "showlegend": false,
         "type": "scatter",
         "x": [
          10778.78385
         ],
         "xaxis": "x5",
         "y": [
          77.86
         ],
         "yaxis": "y5"
        },
        {
         "hovertemplate": "country=Chile<br>continent=Americas<br>year=2007<br>gdpPercap=%{x}<br>lifeExp=%{y}<extra></extra>",
         "legendgroup": "Chile",
         "marker": {
          "color": "rgb(196,78,82)",
          "symbol": "circle"
         },
         "mode": "markers",
         "name": "Chile",
         "orientation": "v",
         "showlegend": false,
         "type": "scatter",
         "x": [
          13171.63885
         ],
         "xaxis": "x6",
         "y": [
          78.553
         ],
         "yaxis": "y6"
        },
        {
         "hovertemplate": "country=China<br>continent=Asia<br>year=1997<br>gdpPercap=%{x}<br>lifeExp=%{y}<extra></extra>",
         "legendgroup": "China",
         "marker": {
          "color": "rgb(129,114,179)",
          "symbol": "circle"
         },
         "mode": "markers",
         "name": "China",
         "orientation": "v",
         "showlegend": true,
         "type": "scatter",
         "x": [
          2289.234136
         ],
         "xaxis": "x13",
         "y": [
          70.426
         ],
         "yaxis": "y13"
        },
        {
         "hovertemplate": "country=China<br>continent=Asia<br>year=2002<br>gdpPercap=%{x}<br>lifeExp=%{y}<extra></extra>",
         "legendgroup": "China",
         "marker": {
          "color": "rgb(129,114,179)",
          "symbol": "circle"
         },
         "mode": "markers",
         "name": "China",
         "orientation": "v",
         "showlegend": false,
         "type": "scatter",
         "x": [
          3119.280896
         ],
         "xaxis": "x14",
         "y": [
          72.028
         ],
         "yaxis": "y14"
        },
        {
         "hovertemplate": "country=China<br>continent=Asia<br>year=2007<br>gdpPercap=%{x}<br>lifeExp=%{y}<extra></extra>",
         "legendgroup": "China",
         "marker": {
          "color": "rgb(129,114,179)",
          "symbol": "circle"
         },
         "mode": "markers",
         "name": "China",
         "orientation": "v",
         "showlegend": false,
         "type": "scatter",
         "x": [
          4959.1148539999995
         ],
         "xaxis": "x15",
         "y": [
          72.961
         ],
         "yaxis": "y15"
        },
        {
         "hovertemplate": "country=Colombia<br>continent=Americas<br>year=1997<br>gdpPercap=%{x}<br>lifeExp=%{y}<extra></extra>",
         "legendgroup": "Colombia",
         "marker": {
          "color": "rgb(147,120,96)",
          "symbol": "circle"
         },
         "mode": "markers",
         "name": "Colombia",
         "orientation": "v",
         "showlegend": true,
         "type": "scatter",
         "x": [
          6117.361746000001
         ],
         "xaxis": "x4",
         "y": [
          70.313
         ],
         "yaxis": "y4"
        },
        {
         "hovertemplate": "country=Colombia<br>continent=Americas<br>year=2002<br>gdpPercap=%{x}<br>lifeExp=%{y}<extra></extra>",
         "legendgroup": "Colombia",
         "marker": {
          "color": "rgb(147,120,96)",
          "symbol": "circle"
         },
         "mode": "markers",
         "name": "Colombia",
         "orientation": "v",
         "showlegend": false,
         "type": "scatter",
         "x": [
          5755.259962
         ],
         "xaxis": "x5",
         "y": [
          71.682
         ],
         "yaxis": "y5"
        },
        {
         "hovertemplate": "country=Colombia<br>continent=Americas<br>year=2007<br>gdpPercap=%{x}<br>lifeExp=%{y}<extra></extra>",
         "legendgroup": "Colombia",
         "marker": {
          "color": "rgb(147,120,96)",
          "symbol": "circle"
         },
         "mode": "markers",
         "name": "Colombia",
         "orientation": "v",
         "showlegend": false,
         "type": "scatter",
         "x": [
          7006.580419
         ],
         "xaxis": "x6",
         "y": [
          72.889
         ],
         "yaxis": "y6"
        },
        {
         "hovertemplate": "country=Comoros<br>continent=Africa<br>year=1997<br>gdpPercap=%{x}<br>lifeExp=%{y}<extra></extra>",
         "legendgroup": "Comoros",
         "marker": {
          "color": "rgb(218,139,195)",
          "symbol": "circle"
         },
         "mode": "markers",
         "name": "Comoros",
         "orientation": "v",
         "showlegend": true,
         "type": "scatter",
         "x": [
          1173.618235
         ],
         "xaxis": "x7",
         "y": [
          60.66
         ],
         "yaxis": "y7"
        },
        {
         "hovertemplate": "country=Comoros<br>continent=Africa<br>year=2002<br>gdpPercap=%{x}<br>lifeExp=%{y}<extra></extra>",
         "legendgroup": "Comoros",
         "marker": {
          "color": "rgb(218,139,195)",
          "symbol": "circle"
         },
         "mode": "markers",
         "name": "Comoros",
         "orientation": "v",
         "showlegend": false,
         "type": "scatter",
         "x": [
          1075.811558
         ],
         "xaxis": "x8",
         "y": [
          62.974
         ],
         "yaxis": "y8"
        },
        {
         "hovertemplate": "country=Comoros<br>continent=Africa<br>year=2007<br>gdpPercap=%{x}<br>lifeExp=%{y}<extra></extra>",
         "legendgroup": "Comoros",
         "marker": {
          "color": "rgb(218,139,195)",
          "symbol": "circle"
         },
         "mode": "markers",
         "name": "Comoros",
         "orientation": "v",
         "showlegend": false,
         "type": "scatter",
         "x": [
          986.1478792000001
         ],
         "xaxis": "x9",
         "y": [
          65.152
         ],
         "yaxis": "y9"
        },
        {
         "hovertemplate": "country=Congo, Dem. Rep.<br>continent=Africa<br>year=1997<br>gdpPercap=%{x}<br>lifeExp=%{y}<extra></extra>",
         "legendgroup": "Congo, Dem. Rep.",
         "marker": {
          "color": "rgb(140,140,140)",
          "symbol": "circle"
         },
         "mode": "markers",
         "name": "Congo, Dem. Rep.",
         "orientation": "v",
         "showlegend": true,
         "type": "scatter",
         "x": [
          312.188423
         ],
         "xaxis": "x7",
         "y": [
          42.586999999999996
         ],
         "yaxis": "y7"
        },
        {
         "hovertemplate": "country=Congo, Dem. Rep.<br>continent=Africa<br>year=2002<br>gdpPercap=%{x}<br>lifeExp=%{y}<extra></extra>",
         "legendgroup": "Congo, Dem. Rep.",
         "marker": {
          "color": "rgb(140,140,140)",
          "symbol": "circle"
         },
         "mode": "markers",
         "name": "Congo, Dem. Rep.",
         "orientation": "v",
         "showlegend": false,
         "type": "scatter",
         "x": [
          241.16587650000002
         ],
         "xaxis": "x8",
         "y": [
          44.966
         ],
         "yaxis": "y8"
        },
        {
         "hovertemplate": "country=Congo, Dem. Rep.<br>continent=Africa<br>year=2007<br>gdpPercap=%{x}<br>lifeExp=%{y}<extra></extra>",
         "legendgroup": "Congo, Dem. Rep.",
         "marker": {
          "color": "rgb(140,140,140)",
          "symbol": "circle"
         },
         "mode": "markers",
         "name": "Congo, Dem. Rep.",
         "orientation": "v",
         "showlegend": false,
         "type": "scatter",
         "x": [
          277.55185869999997
         ],
         "xaxis": "x9",
         "y": [
          46.461999999999996
         ],
         "yaxis": "y9"
        },
        {
         "hovertemplate": "country=Congo, Rep.<br>continent=Africa<br>year=1997<br>gdpPercap=%{x}<br>lifeExp=%{y}<extra></extra>",
         "legendgroup": "Congo, Rep.",
         "marker": {
          "color": "rgb(204,185,116)",
          "symbol": "circle"
         },
         "mode": "markers",
         "name": "Congo, Rep.",
         "orientation": "v",
         "showlegend": true,
         "type": "scatter",
         "x": [
          3484.1643759999997
         ],
         "xaxis": "x7",
         "y": [
          52.961999999999996
         ],
         "yaxis": "y7"
        },
        {
         "hovertemplate": "country=Congo, Rep.<br>continent=Africa<br>year=2002<br>gdpPercap=%{x}<br>lifeExp=%{y}<extra></extra>",
         "legendgroup": "Congo, Rep.",
         "marker": {
          "color": "rgb(204,185,116)",
          "symbol": "circle"
         },
         "mode": "markers",
         "name": "Congo, Rep.",
         "orientation": "v",
         "showlegend": false,
         "type": "scatter",
         "x": [
          3484.06197
         ],
         "xaxis": "x8",
         "y": [
          52.97
         ],
         "yaxis": "y8"
        },
        {
         "hovertemplate": "country=Congo, Rep.<br>continent=Africa<br>year=2007<br>gdpPercap=%{x}<br>lifeExp=%{y}<extra></extra>",
         "legendgroup": "Congo, Rep.",
         "marker": {
          "color": "rgb(204,185,116)",
          "symbol": "circle"
         },
         "mode": "markers",
         "name": "Congo, Rep.",
         "orientation": "v",
         "showlegend": false,
         "type": "scatter",
         "x": [
          3632.557798
         ],
         "xaxis": "x9",
         "y": [
          55.321999999999996
         ],
         "yaxis": "y9"
        },
        {
         "hovertemplate": "country=Costa Rica<br>continent=Americas<br>year=1997<br>gdpPercap=%{x}<br>lifeExp=%{y}<extra></extra>",
         "legendgroup": "Costa Rica",
         "marker": {
          "color": "rgb(100,181,205)",
          "symbol": "circle"
         },
         "mode": "markers",
         "name": "Costa Rica",
         "orientation": "v",
         "showlegend": true,
         "type": "scatter",
         "x": [
          6677.045314
         ],
         "xaxis": "x4",
         "y": [
          77.26
         ],
         "yaxis": "y4"
        },
        {
         "hovertemplate": "country=Costa Rica<br>continent=Americas<br>year=2002<br>gdpPercap=%{x}<br>lifeExp=%{y}<extra></extra>",
         "legendgroup": "Costa Rica",
         "marker": {
          "color": "rgb(100,181,205)",
          "symbol": "circle"
         },
         "mode": "markers",
         "name": "Costa Rica",
         "orientation": "v",
         "showlegend": false,
         "type": "scatter",
         "x": [
          7723.4471950000025
         ],
         "xaxis": "x5",
         "y": [
          78.123
         ],
         "yaxis": "y5"
        },
        {
         "hovertemplate": "country=Costa Rica<br>continent=Americas<br>year=2007<br>gdpPercap=%{x}<br>lifeExp=%{y}<extra></extra>",
         "legendgroup": "Costa Rica",
         "marker": {
          "color": "rgb(100,181,205)",
          "symbol": "circle"
         },
         "mode": "markers",
         "name": "Costa Rica",
         "orientation": "v",
         "showlegend": false,
         "type": "scatter",
         "x": [
          9645.06142
         ],
         "xaxis": "x6",
         "y": [
          78.782
         ],
         "yaxis": "y6"
        },
        {
         "hovertemplate": "country=Cote d'Ivoire<br>continent=Africa<br>year=1997<br>gdpPercap=%{x}<br>lifeExp=%{y}<extra></extra>",
         "legendgroup": "Cote d'Ivoire",
         "marker": {
          "color": "rgb(76,114,176)",
          "symbol": "circle"
         },
         "mode": "markers",
         "name": "Cote d'Ivoire",
         "orientation": "v",
         "showlegend": true,
         "type": "scatter",
         "x": [
          1786.265407
         ],
         "xaxis": "x7",
         "y": [
          47.99100000000001
         ],
         "yaxis": "y7"
        },
        {
         "hovertemplate": "country=Cote d'Ivoire<br>continent=Africa<br>year=2002<br>gdpPercap=%{x}<br>lifeExp=%{y}<extra></extra>",
         "legendgroup": "Cote d'Ivoire",
         "marker": {
          "color": "rgb(76,114,176)",
          "symbol": "circle"
         },
         "mode": "markers",
         "name": "Cote d'Ivoire",
         "orientation": "v",
         "showlegend": false,
         "type": "scatter",
         "x": [
          1648.800823
         ],
         "xaxis": "x8",
         "y": [
          46.832
         ],
         "yaxis": "y8"
        },
        {
         "hovertemplate": "country=Cote d'Ivoire<br>continent=Africa<br>year=2007<br>gdpPercap=%{x}<br>lifeExp=%{y}<extra></extra>",
         "legendgroup": "Cote d'Ivoire",
         "marker": {
          "color": "rgb(76,114,176)",
          "symbol": "circle"
         },
         "mode": "markers",
         "name": "Cote d'Ivoire",
         "orientation": "v",
         "showlegend": false,
         "type": "scatter",
         "x": [
          1544.750112
         ],
         "xaxis": "x9",
         "y": [
          48.328
         ],
         "yaxis": "y9"
        },
        {
         "hovertemplate": "country=Croatia<br>continent=Europe<br>year=1997<br>gdpPercap=%{x}<br>lifeExp=%{y}<extra></extra>",
         "legendgroup": "Croatia",
         "marker": {
          "color": "rgb(221,132,82)",
          "symbol": "circle"
         },
         "mode": "markers",
         "name": "Croatia",
         "orientation": "v",
         "showlegend": true,
         "type": "scatter",
         "x": [
          9875.604515
         ],
         "xaxis": "x10",
         "y": [
          73.68
         ],
         "yaxis": "y10"
        },
        {
         "hovertemplate": "country=Croatia<br>continent=Europe<br>year=2002<br>gdpPercap=%{x}<br>lifeExp=%{y}<extra></extra>",
         "legendgroup": "Croatia",
         "marker": {
          "color": "rgb(221,132,82)",
          "symbol": "circle"
         },
         "mode": "markers",
         "name": "Croatia",
         "orientation": "v",
         "showlegend": false,
         "type": "scatter",
         "x": [
          11628.38895
         ],
         "xaxis": "x11",
         "y": [
          74.876
         ],
         "yaxis": "y11"
        },
        {
         "hovertemplate": "country=Croatia<br>continent=Europe<br>year=2007<br>gdpPercap=%{x}<br>lifeExp=%{y}<extra></extra>",
         "legendgroup": "Croatia",
         "marker": {
          "color": "rgb(221,132,82)",
          "symbol": "circle"
         },
         "mode": "markers",
         "name": "Croatia",
         "orientation": "v",
         "showlegend": false,
         "type": "scatter",
         "x": [
          14619.222719999998
         ],
         "xaxis": "x12",
         "y": [
          75.748
         ],
         "yaxis": "y12"
        },
        {
         "hovertemplate": "country=Cuba<br>continent=Americas<br>year=1997<br>gdpPercap=%{x}<br>lifeExp=%{y}<extra></extra>",
         "legendgroup": "Cuba",
         "marker": {
          "color": "rgb(85,168,104)",
          "symbol": "circle"
         },
         "mode": "markers",
         "name": "Cuba",
         "orientation": "v",
         "showlegend": true,
         "type": "scatter",
         "x": [
          5431.990415
         ],
         "xaxis": "x4",
         "y": [
          76.15100000000002
         ],
         "yaxis": "y4"
        },
        {
         "hovertemplate": "country=Cuba<br>continent=Americas<br>year=2002<br>gdpPercap=%{x}<br>lifeExp=%{y}<extra></extra>",
         "legendgroup": "Cuba",
         "marker": {
          "color": "rgb(85,168,104)",
          "symbol": "circle"
         },
         "mode": "markers",
         "name": "Cuba",
         "orientation": "v",
         "showlegend": false,
         "type": "scatter",
         "x": [
          6340.646683
         ],
         "xaxis": "x5",
         "y": [
          77.158
         ],
         "yaxis": "y5"
        },
        {
         "hovertemplate": "country=Cuba<br>continent=Americas<br>year=2007<br>gdpPercap=%{x}<br>lifeExp=%{y}<extra></extra>",
         "legendgroup": "Cuba",
         "marker": {
          "color": "rgb(85,168,104)",
          "symbol": "circle"
         },
         "mode": "markers",
         "name": "Cuba",
         "orientation": "v",
         "showlegend": false,
         "type": "scatter",
         "x": [
          8948.102923
         ],
         "xaxis": "x6",
         "y": [
          78.273
         ],
         "yaxis": "y6"
        },
        {
         "hovertemplate": "country=Czech Republic<br>continent=Europe<br>year=1997<br>gdpPercap=%{x}<br>lifeExp=%{y}<extra></extra>",
         "legendgroup": "Czech Republic",
         "marker": {
          "color": "rgb(196,78,82)",
          "symbol": "circle"
         },
         "mode": "markers",
         "name": "Czech Republic",
         "orientation": "v",
         "showlegend": true,
         "type": "scatter",
         "x": [
          16048.51424
         ],
         "xaxis": "x10",
         "y": [
          74.01
         ],
         "yaxis": "y10"
        },
        {
         "hovertemplate": "country=Czech Republic<br>continent=Europe<br>year=2002<br>gdpPercap=%{x}<br>lifeExp=%{y}<extra></extra>",
         "legendgroup": "Czech Republic",
         "marker": {
          "color": "rgb(196,78,82)",
          "symbol": "circle"
         },
         "mode": "markers",
         "name": "Czech Republic",
         "orientation": "v",
         "showlegend": false,
         "type": "scatter",
         "x": [
          17596.210219999994
         ],
         "xaxis": "x11",
         "y": [
          75.51
         ],
         "yaxis": "y11"
        },
        {
         "hovertemplate": "country=Czech Republic<br>continent=Europe<br>year=2007<br>gdpPercap=%{x}<br>lifeExp=%{y}<extra></extra>",
         "legendgroup": "Czech Republic",
         "marker": {
          "color": "rgb(196,78,82)",
          "symbol": "circle"
         },
         "mode": "markers",
         "name": "Czech Republic",
         "orientation": "v",
         "showlegend": false,
         "type": "scatter",
         "x": [
          22833.30851
         ],
         "xaxis": "x12",
         "y": [
          76.486
         ],
         "yaxis": "y12"
        },
        {
         "hovertemplate": "country=Denmark<br>continent=Europe<br>year=1997<br>gdpPercap=%{x}<br>lifeExp=%{y}<extra></extra>",
         "legendgroup": "Denmark",
         "marker": {
          "color": "rgb(129,114,179)",
          "symbol": "circle"
         },
         "mode": "markers",
         "name": "Denmark",
         "orientation": "v",
         "showlegend": true,
         "type": "scatter",
         "x": [
          29804.34567
         ],
         "xaxis": "x10",
         "y": [
          76.11
         ],
         "yaxis": "y10"
        },
        {
         "hovertemplate": "country=Denmark<br>continent=Europe<br>year=2002<br>gdpPercap=%{x}<br>lifeExp=%{y}<extra></extra>",
         "legendgroup": "Denmark",
         "marker": {
          "color": "rgb(129,114,179)",
          "symbol": "circle"
         },
         "mode": "markers",
         "name": "Denmark",
         "orientation": "v",
         "showlegend": false,
         "type": "scatter",
         "x": [
          32166.500060000002
         ],
         "xaxis": "x11",
         "y": [
          77.18
         ],
         "yaxis": "y11"
        },
        {
         "hovertemplate": "country=Denmark<br>continent=Europe<br>year=2007<br>gdpPercap=%{x}<br>lifeExp=%{y}<extra></extra>",
         "legendgroup": "Denmark",
         "marker": {
          "color": "rgb(129,114,179)",
          "symbol": "circle"
         },
         "mode": "markers",
         "name": "Denmark",
         "orientation": "v",
         "showlegend": false,
         "type": "scatter",
         "x": [
          35278.41874
         ],
         "xaxis": "x12",
         "y": [
          78.332
         ],
         "yaxis": "y12"
        },
        {
         "hovertemplate": "country=Djibouti<br>continent=Africa<br>year=1997<br>gdpPercap=%{x}<br>lifeExp=%{y}<extra></extra>",
         "legendgroup": "Djibouti",
         "marker": {
          "color": "rgb(147,120,96)",
          "symbol": "circle"
         },
         "mode": "markers",
         "name": "Djibouti",
         "orientation": "v",
         "showlegend": true,
         "type": "scatter",
         "x": [
          1895.016984
         ],
         "xaxis": "x7",
         "y": [
          53.157
         ],
         "yaxis": "y7"
        },
        {
         "hovertemplate": "country=Djibouti<br>continent=Africa<br>year=2002<br>gdpPercap=%{x}<br>lifeExp=%{y}<extra></extra>",
         "legendgroup": "Djibouti",
         "marker": {
          "color": "rgb(147,120,96)",
          "symbol": "circle"
         },
         "mode": "markers",
         "name": "Djibouti",
         "orientation": "v",
         "showlegend": false,
         "type": "scatter",
         "x": [
          1908.2608670000002
         ],
         "xaxis": "x8",
         "y": [
          53.37300000000001
         ],
         "yaxis": "y8"
        },
        {
         "hovertemplate": "country=Djibouti<br>continent=Africa<br>year=2007<br>gdpPercap=%{x}<br>lifeExp=%{y}<extra></extra>",
         "legendgroup": "Djibouti",
         "marker": {
          "color": "rgb(147,120,96)",
          "symbol": "circle"
         },
         "mode": "markers",
         "name": "Djibouti",
         "orientation": "v",
         "showlegend": false,
         "type": "scatter",
         "x": [
          2082.4815670000007
         ],
         "xaxis": "x9",
         "y": [
          54.791000000000004
         ],
         "yaxis": "y9"
        },
        {
         "hovertemplate": "country=Dominican Republic<br>continent=Americas<br>year=1997<br>gdpPercap=%{x}<br>lifeExp=%{y}<extra></extra>",
         "legendgroup": "Dominican Republic",
         "marker": {
          "color": "rgb(218,139,195)",
          "symbol": "circle"
         },
         "mode": "markers",
         "name": "Dominican Republic",
         "orientation": "v",
         "showlegend": true,
         "type": "scatter",
         "x": [
          3614.101285
         ],
         "xaxis": "x4",
         "y": [
          69.957
         ],
         "yaxis": "y4"
        },
        {
         "hovertemplate": "country=Dominican Republic<br>continent=Americas<br>year=2002<br>gdpPercap=%{x}<br>lifeExp=%{y}<extra></extra>",
         "legendgroup": "Dominican Republic",
         "marker": {
          "color": "rgb(218,139,195)",
          "symbol": "circle"
         },
         "mode": "markers",
         "name": "Dominican Republic",
         "orientation": "v",
         "showlegend": false,
         "type": "scatter",
         "x": [
          4563.808154
         ],
         "xaxis": "x5",
         "y": [
          70.847
         ],
         "yaxis": "y5"
        },
        {
         "hovertemplate": "country=Dominican Republic<br>continent=Americas<br>year=2007<br>gdpPercap=%{x}<br>lifeExp=%{y}<extra></extra>",
         "legendgroup": "Dominican Republic",
         "marker": {
          "color": "rgb(218,139,195)",
          "symbol": "circle"
         },
         "mode": "markers",
         "name": "Dominican Republic",
         "orientation": "v",
         "showlegend": false,
         "type": "scatter",
         "x": [
          6025.374752000002
         ],
         "xaxis": "x6",
         "y": [
          72.235
         ],
         "yaxis": "y6"
        },
        {
         "hovertemplate": "country=Ecuador<br>continent=Americas<br>year=1997<br>gdpPercap=%{x}<br>lifeExp=%{y}<extra></extra>",
         "legendgroup": "Ecuador",
         "marker": {
          "color": "rgb(140,140,140)",
          "symbol": "circle"
         },
         "mode": "markers",
         "name": "Ecuador",
         "orientation": "v",
         "showlegend": true,
         "type": "scatter",
         "x": [
          7429.455876999998
         ],
         "xaxis": "x4",
         "y": [
          72.312
         ],
         "yaxis": "y4"
        },
        {
         "hovertemplate": "country=Ecuador<br>continent=Americas<br>year=2002<br>gdpPercap=%{x}<br>lifeExp=%{y}<extra></extra>",
         "legendgroup": "Ecuador",
         "marker": {
          "color": "rgb(140,140,140)",
          "symbol": "circle"
         },
         "mode": "markers",
         "name": "Ecuador",
         "orientation": "v",
         "showlegend": false,
         "type": "scatter",
         "x": [
          5773.0445119999995
         ],
         "xaxis": "x5",
         "y": [
          74.173
         ],
         "yaxis": "y5"
        },
        {
         "hovertemplate": "country=Ecuador<br>continent=Americas<br>year=2007<br>gdpPercap=%{x}<br>lifeExp=%{y}<extra></extra>",
         "legendgroup": "Ecuador",
         "marker": {
          "color": "rgb(140,140,140)",
          "symbol": "circle"
         },
         "mode": "markers",
         "name": "Ecuador",
         "orientation": "v",
         "showlegend": false,
         "type": "scatter",
         "x": [
          6873.262326000001
         ],
         "xaxis": "x6",
         "y": [
          74.994
         ],
         "yaxis": "y6"
        },
        {
         "hovertemplate": "country=Egypt<br>continent=Africa<br>year=1997<br>gdpPercap=%{x}<br>lifeExp=%{y}<extra></extra>",
         "legendgroup": "Egypt",
         "marker": {
          "color": "rgb(204,185,116)",
          "symbol": "circle"
         },
         "mode": "markers",
         "name": "Egypt",
         "orientation": "v",
         "showlegend": true,
         "type": "scatter",
         "x": [
          4173.181797
         ],
         "xaxis": "x7",
         "y": [
          67.217
         ],
         "yaxis": "y7"
        },
        {
         "hovertemplate": "country=Egypt<br>continent=Africa<br>year=2002<br>gdpPercap=%{x}<br>lifeExp=%{y}<extra></extra>",
         "legendgroup": "Egypt",
         "marker": {
          "color": "rgb(204,185,116)",
          "symbol": "circle"
         },
         "mode": "markers",
         "name": "Egypt",
         "orientation": "v",
         "showlegend": false,
         "type": "scatter",
         "x": [
          4754.604414
         ],
         "xaxis": "x8",
         "y": [
          69.806
         ],
         "yaxis": "y8"
        },
        {
         "hovertemplate": "country=Egypt<br>continent=Africa<br>year=2007<br>gdpPercap=%{x}<br>lifeExp=%{y}<extra></extra>",
         "legendgroup": "Egypt",
         "marker": {
          "color": "rgb(204,185,116)",
          "symbol": "circle"
         },
         "mode": "markers",
         "name": "Egypt",
         "orientation": "v",
         "showlegend": false,
         "type": "scatter",
         "x": [
          5581.180998
         ],
         "xaxis": "x9",
         "y": [
          71.33800000000002
         ],
         "yaxis": "y9"
        },
        {
         "hovertemplate": "country=El Salvador<br>continent=Americas<br>year=1997<br>gdpPercap=%{x}<br>lifeExp=%{y}<extra></extra>",
         "legendgroup": "El Salvador",
         "marker": {
          "color": "rgb(100,181,205)",
          "symbol": "circle"
         },
         "mode": "markers",
         "name": "El Salvador",
         "orientation": "v",
         "showlegend": true,
         "type": "scatter",
         "x": [
          5154.825496
         ],
         "xaxis": "x4",
         "y": [
          69.535
         ],
         "yaxis": "y4"
        },
        {
         "hovertemplate": "country=El Salvador<br>continent=Americas<br>year=2002<br>gdpPercap=%{x}<br>lifeExp=%{y}<extra></extra>",
         "legendgroup": "El Salvador",
         "marker": {
          "color": "rgb(100,181,205)",
          "symbol": "circle"
         },
         "mode": "markers",
         "name": "El Salvador",
         "orientation": "v",
         "showlegend": false,
         "type": "scatter",
         "x": [
          5351.568665999999
         ],
         "xaxis": "x5",
         "y": [
          70.734
         ],
         "yaxis": "y5"
        },
        {
         "hovertemplate": "country=El Salvador<br>continent=Americas<br>year=2007<br>gdpPercap=%{x}<br>lifeExp=%{y}<extra></extra>",
         "legendgroup": "El Salvador",
         "marker": {
          "color": "rgb(100,181,205)",
          "symbol": "circle"
         },
         "mode": "markers",
         "name": "El Salvador",
         "orientation": "v",
         "showlegend": false,
         "type": "scatter",
         "x": [
          5728.353514
         ],
         "xaxis": "x6",
         "y": [
          71.878
         ],
         "yaxis": "y6"
        },
        {
         "hovertemplate": "country=Equatorial Guinea<br>continent=Africa<br>year=1997<br>gdpPercap=%{x}<br>lifeExp=%{y}<extra></extra>",
         "legendgroup": "Equatorial Guinea",
         "marker": {
          "color": "rgb(76,114,176)",
          "symbol": "circle"
         },
         "mode": "markers",
         "name": "Equatorial Guinea",
         "orientation": "v",
         "showlegend": true,
         "type": "scatter",
         "x": [
          2814.480755
         ],
         "xaxis": "x7",
         "y": [
          48.245
         ],
         "yaxis": "y7"
        },
        {
         "hovertemplate": "country=Equatorial Guinea<br>continent=Africa<br>year=2002<br>gdpPercap=%{x}<br>lifeExp=%{y}<extra></extra>",
         "legendgroup": "Equatorial Guinea",
         "marker": {
          "color": "rgb(76,114,176)",
          "symbol": "circle"
         },
         "mode": "markers",
         "name": "Equatorial Guinea",
         "orientation": "v",
         "showlegend": false,
         "type": "scatter",
         "x": [
          7703.4959
         ],
         "xaxis": "x8",
         "y": [
          49.348
         ],
         "yaxis": "y8"
        },
        {
         "hovertemplate": "country=Equatorial Guinea<br>continent=Africa<br>year=2007<br>gdpPercap=%{x}<br>lifeExp=%{y}<extra></extra>",
         "legendgroup": "Equatorial Guinea",
         "marker": {
          "color": "rgb(76,114,176)",
          "symbol": "circle"
         },
         "mode": "markers",
         "name": "Equatorial Guinea",
         "orientation": "v",
         "showlegend": false,
         "type": "scatter",
         "x": [
          12154.08975
         ],
         "xaxis": "x9",
         "y": [
          51.57899999999999
         ],
         "yaxis": "y9"
        },
        {
         "hovertemplate": "country=Eritrea<br>continent=Africa<br>year=1997<br>gdpPercap=%{x}<br>lifeExp=%{y}<extra></extra>",
         "legendgroup": "Eritrea",
         "marker": {
          "color": "rgb(221,132,82)",
          "symbol": "circle"
         },
         "mode": "markers",
         "name": "Eritrea",
         "orientation": "v",
         "showlegend": true,
         "type": "scatter",
         "x": [
          913.4707900000001
         ],
         "xaxis": "x7",
         "y": [
          53.378
         ],
         "yaxis": "y7"
        },
        {
         "hovertemplate": "country=Eritrea<br>continent=Africa<br>year=2002<br>gdpPercap=%{x}<br>lifeExp=%{y}<extra></extra>",
         "legendgroup": "Eritrea",
         "marker": {
          "color": "rgb(221,132,82)",
          "symbol": "circle"
         },
         "mode": "markers",
         "name": "Eritrea",
         "orientation": "v",
         "showlegend": false,
         "type": "scatter",
         "x": [
          765.3500015
         ],
         "xaxis": "x8",
         "y": [
          55.24
         ],
         "yaxis": "y8"
        },
        {
         "hovertemplate": "country=Eritrea<br>continent=Africa<br>year=2007<br>gdpPercap=%{x}<br>lifeExp=%{y}<extra></extra>",
         "legendgroup": "Eritrea",
         "marker": {
          "color": "rgb(221,132,82)",
          "symbol": "circle"
         },
         "mode": "markers",
         "name": "Eritrea",
         "orientation": "v",
         "showlegend": false,
         "type": "scatter",
         "x": [
          641.3695236000002
         ],
         "xaxis": "x9",
         "y": [
          58.04
         ],
         "yaxis": "y9"
        },
        {
         "hovertemplate": "country=Ethiopia<br>continent=Africa<br>year=1997<br>gdpPercap=%{x}<br>lifeExp=%{y}<extra></extra>",
         "legendgroup": "Ethiopia",
         "marker": {
          "color": "rgb(85,168,104)",
          "symbol": "circle"
         },
         "mode": "markers",
         "name": "Ethiopia",
         "orientation": "v",
         "showlegend": true,
         "type": "scatter",
         "x": [
          515.8894013
         ],
         "xaxis": "x7",
         "y": [
          49.402
         ],
         "yaxis": "y7"
        },
        {
         "hovertemplate": "country=Ethiopia<br>continent=Africa<br>year=2002<br>gdpPercap=%{x}<br>lifeExp=%{y}<extra></extra>",
         "legendgroup": "Ethiopia",
         "marker": {
          "color": "rgb(85,168,104)",
          "symbol": "circle"
         },
         "mode": "markers",
         "name": "Ethiopia",
         "orientation": "v",
         "showlegend": false,
         "type": "scatter",
         "x": [
          530.0535319
         ],
         "xaxis": "x8",
         "y": [
          50.725
         ],
         "yaxis": "y8"
        },
        {
         "hovertemplate": "country=Ethiopia<br>continent=Africa<br>year=2007<br>gdpPercap=%{x}<br>lifeExp=%{y}<extra></extra>",
         "legendgroup": "Ethiopia",
         "marker": {
          "color": "rgb(85,168,104)",
          "symbol": "circle"
         },
         "mode": "markers",
         "name": "Ethiopia",
         "orientation": "v",
         "showlegend": false,
         "type": "scatter",
         "x": [
          690.8055759
         ],
         "xaxis": "x9",
         "y": [
          52.946999999999996
         ],
         "yaxis": "y9"
        },
        {
         "hovertemplate": "country=Finland<br>continent=Europe<br>year=1997<br>gdpPercap=%{x}<br>lifeExp=%{y}<extra></extra>",
         "legendgroup": "Finland",
         "marker": {
          "color": "rgb(196,78,82)",
          "symbol": "circle"
         },
         "mode": "markers",
         "name": "Finland",
         "orientation": "v",
         "showlegend": true,
         "type": "scatter",
         "x": [
          23723.9502
         ],
         "xaxis": "x10",
         "y": [
          77.13
         ],
         "yaxis": "y10"
        },
        {
         "hovertemplate": "country=Finland<br>continent=Europe<br>year=2002<br>gdpPercap=%{x}<br>lifeExp=%{y}<extra></extra>",
         "legendgroup": "Finland",
         "marker": {
          "color": "rgb(196,78,82)",
          "symbol": "circle"
         },
         "mode": "markers",
         "name": "Finland",
         "orientation": "v",
         "showlegend": false,
         "type": "scatter",
         "x": [
          28204.59057
         ],
         "xaxis": "x11",
         "y": [
          78.37
         ],
         "yaxis": "y11"
        },
        {
         "hovertemplate": "country=Finland<br>continent=Europe<br>year=2007<br>gdpPercap=%{x}<br>lifeExp=%{y}<extra></extra>",
         "legendgroup": "Finland",
         "marker": {
          "color": "rgb(196,78,82)",
          "symbol": "circle"
         },
         "mode": "markers",
         "name": "Finland",
         "orientation": "v",
         "showlegend": false,
         "type": "scatter",
         "x": [
          33207.0844
         ],
         "xaxis": "x12",
         "y": [
          79.313
         ],
         "yaxis": "y12"
        },
        {
         "hovertemplate": "country=France<br>continent=Europe<br>year=1997<br>gdpPercap=%{x}<br>lifeExp=%{y}<extra></extra>",
         "legendgroup": "France",
         "marker": {
          "color": "rgb(129,114,179)",
          "symbol": "circle"
         },
         "mode": "markers",
         "name": "France",
         "orientation": "v",
         "showlegend": true,
         "type": "scatter",
         "x": [
          25889.78487
         ],
         "xaxis": "x10",
         "y": [
          78.64
         ],
         "yaxis": "y10"
        },
        {
         "hovertemplate": "country=France<br>continent=Europe<br>year=2002<br>gdpPercap=%{x}<br>lifeExp=%{y}<extra></extra>",
         "legendgroup": "France",
         "marker": {
          "color": "rgb(129,114,179)",
          "symbol": "circle"
         },
         "mode": "markers",
         "name": "France",
         "orientation": "v",
         "showlegend": false,
         "type": "scatter",
         "x": [
          28926.032339999998
         ],
         "xaxis": "x11",
         "y": [
          79.59
         ],
         "yaxis": "y11"
        },
        {
         "hovertemplate": "country=France<br>continent=Europe<br>year=2007<br>gdpPercap=%{x}<br>lifeExp=%{y}<extra></extra>",
         "legendgroup": "France",
         "marker": {
          "color": "rgb(129,114,179)",
          "symbol": "circle"
         },
         "mode": "markers",
         "name": "France",
         "orientation": "v",
         "showlegend": false,
         "type": "scatter",
         "x": [
          30470.0167
         ],
         "xaxis": "x12",
         "y": [
          80.657
         ],
         "yaxis": "y12"
        },
        {
         "hovertemplate": "country=Gabon<br>continent=Africa<br>year=1997<br>gdpPercap=%{x}<br>lifeExp=%{y}<extra></extra>",
         "legendgroup": "Gabon",
         "marker": {
          "color": "rgb(147,120,96)",
          "symbol": "circle"
         },
         "mode": "markers",
         "name": "Gabon",
         "orientation": "v",
         "showlegend": true,
         "type": "scatter",
         "x": [
          14722.841880000002
         ],
         "xaxis": "x7",
         "y": [
          60.46100000000001
         ],
         "yaxis": "y7"
        },
        {
         "hovertemplate": "country=Gabon<br>continent=Africa<br>year=2002<br>gdpPercap=%{x}<br>lifeExp=%{y}<extra></extra>",
         "legendgroup": "Gabon",
         "marker": {
          "color": "rgb(147,120,96)",
          "symbol": "circle"
         },
         "mode": "markers",
         "name": "Gabon",
         "orientation": "v",
         "showlegend": false,
         "type": "scatter",
         "x": [
          12521.71392
         ],
         "xaxis": "x8",
         "y": [
          56.761
         ],
         "yaxis": "y8"
        },
        {
         "hovertemplate": "country=Gabon<br>continent=Africa<br>year=2007<br>gdpPercap=%{x}<br>lifeExp=%{y}<extra></extra>",
         "legendgroup": "Gabon",
         "marker": {
          "color": "rgb(147,120,96)",
          "symbol": "circle"
         },
         "mode": "markers",
         "name": "Gabon",
         "orientation": "v",
         "showlegend": false,
         "type": "scatter",
         "x": [
          13206.48452
         ],
         "xaxis": "x9",
         "y": [
          56.735
         ],
         "yaxis": "y9"
        },
        {
         "hovertemplate": "country=Gambia<br>continent=Africa<br>year=1997<br>gdpPercap=%{x}<br>lifeExp=%{y}<extra></extra>",
         "legendgroup": "Gambia",
         "marker": {
          "color": "rgb(218,139,195)",
          "symbol": "circle"
         },
         "mode": "markers",
         "name": "Gambia",
         "orientation": "v",
         "showlegend": true,
         "type": "scatter",
         "x": [
          653.7301704
         ],
         "xaxis": "x7",
         "y": [
          55.861000000000004
         ],
         "yaxis": "y7"
        },
        {
         "hovertemplate": "country=Gambia<br>continent=Africa<br>year=2002<br>gdpPercap=%{x}<br>lifeExp=%{y}<extra></extra>",
         "legendgroup": "Gambia",
         "marker": {
          "color": "rgb(218,139,195)",
          "symbol": "circle"
         },
         "mode": "markers",
         "name": "Gambia",
         "orientation": "v",
         "showlegend": false,
         "type": "scatter",
         "x": [
          660.5855997
         ],
         "xaxis": "x8",
         "y": [
          58.041000000000004
         ],
         "yaxis": "y8"
        },
        {
         "hovertemplate": "country=Gambia<br>continent=Africa<br>year=2007<br>gdpPercap=%{x}<br>lifeExp=%{y}<extra></extra>",
         "legendgroup": "Gambia",
         "marker": {
          "color": "rgb(218,139,195)",
          "symbol": "circle"
         },
         "mode": "markers",
         "name": "Gambia",
         "orientation": "v",
         "showlegend": false,
         "type": "scatter",
         "x": [
          752.7497265
         ],
         "xaxis": "x9",
         "y": [
          59.448
         ],
         "yaxis": "y9"
        },
        {
         "hovertemplate": "country=Germany<br>continent=Europe<br>year=1997<br>gdpPercap=%{x}<br>lifeExp=%{y}<extra></extra>",
         "legendgroup": "Germany",
         "marker": {
          "color": "rgb(140,140,140)",
          "symbol": "circle"
         },
         "mode": "markers",
         "name": "Germany",
         "orientation": "v",
         "showlegend": true,
         "type": "scatter",
         "x": [
          27788.88416
         ],
         "xaxis": "x10",
         "y": [
          77.34
         ],
         "yaxis": "y10"
        },
        {
         "hovertemplate": "country=Germany<br>continent=Europe<br>year=2002<br>gdpPercap=%{x}<br>lifeExp=%{y}<extra></extra>",
         "legendgroup": "Germany",
         "marker": {
          "color": "rgb(140,140,140)",
          "symbol": "circle"
         },
         "mode": "markers",
         "name": "Germany",
         "orientation": "v",
         "showlegend": false,
         "type": "scatter",
         "x": [
          30035.80198
         ],
         "xaxis": "x11",
         "y": [
          78.67
         ],
         "yaxis": "y11"
        },
        {
         "hovertemplate": "country=Germany<br>continent=Europe<br>year=2007<br>gdpPercap=%{x}<br>lifeExp=%{y}<extra></extra>",
         "legendgroup": "Germany",
         "marker": {
          "color": "rgb(140,140,140)",
          "symbol": "circle"
         },
         "mode": "markers",
         "name": "Germany",
         "orientation": "v",
         "showlegend": false,
         "type": "scatter",
         "x": [
          32170.37442
         ],
         "xaxis": "x12",
         "y": [
          79.406
         ],
         "yaxis": "y12"
        },
        {
         "hovertemplate": "country=Ghana<br>continent=Africa<br>year=1997<br>gdpPercap=%{x}<br>lifeExp=%{y}<extra></extra>",
         "legendgroup": "Ghana",
         "marker": {
          "color": "rgb(204,185,116)",
          "symbol": "circle"
         },
         "mode": "markers",
         "name": "Ghana",
         "orientation": "v",
         "showlegend": true,
         "type": "scatter",
         "x": [
          1005.2458119999999
         ],
         "xaxis": "x7",
         "y": [
          58.556000000000004
         ],
         "yaxis": "y7"
        },
        {
         "hovertemplate": "country=Ghana<br>continent=Africa<br>year=2002<br>gdpPercap=%{x}<br>lifeExp=%{y}<extra></extra>",
         "legendgroup": "Ghana",
         "marker": {
          "color": "rgb(204,185,116)",
          "symbol": "circle"
         },
         "mode": "markers",
         "name": "Ghana",
         "orientation": "v",
         "showlegend": false,
         "type": "scatter",
         "x": [
          1111.9845779999996
         ],
         "xaxis": "x8",
         "y": [
          58.453
         ],
         "yaxis": "y8"
        },
        {
         "hovertemplate": "country=Ghana<br>continent=Africa<br>year=2007<br>gdpPercap=%{x}<br>lifeExp=%{y}<extra></extra>",
         "legendgroup": "Ghana",
         "marker": {
          "color": "rgb(204,185,116)",
          "symbol": "circle"
         },
         "mode": "markers",
         "name": "Ghana",
         "orientation": "v",
         "showlegend": false,
         "type": "scatter",
         "x": [
          1327.60891
         ],
         "xaxis": "x9",
         "y": [
          60.022
         ],
         "yaxis": "y9"
        },
        {
         "hovertemplate": "country=Greece<br>continent=Europe<br>year=1997<br>gdpPercap=%{x}<br>lifeExp=%{y}<extra></extra>",
         "legendgroup": "Greece",
         "marker": {
          "color": "rgb(100,181,205)",
          "symbol": "circle"
         },
         "mode": "markers",
         "name": "Greece",
         "orientation": "v",
         "showlegend": true,
         "type": "scatter",
         "x": [
          18747.69814
         ],
         "xaxis": "x10",
         "y": [
          77.869
         ],
         "yaxis": "y10"
        },
        {
         "hovertemplate": "country=Greece<br>continent=Europe<br>year=2002<br>gdpPercap=%{x}<br>lifeExp=%{y}<extra></extra>",
         "legendgroup": "Greece",
         "marker": {
          "color": "rgb(100,181,205)",
          "symbol": "circle"
         },
         "mode": "markers",
         "name": "Greece",
         "orientation": "v",
         "showlegend": false,
         "type": "scatter",
         "x": [
          22514.2548
         ],
         "xaxis": "x11",
         "y": [
          78.256
         ],
         "yaxis": "y11"
        },
        {
         "hovertemplate": "country=Greece<br>continent=Europe<br>year=2007<br>gdpPercap=%{x}<br>lifeExp=%{y}<extra></extra>",
         "legendgroup": "Greece",
         "marker": {
          "color": "rgb(100,181,205)",
          "symbol": "circle"
         },
         "mode": "markers",
         "name": "Greece",
         "orientation": "v",
         "showlegend": false,
         "type": "scatter",
         "x": [
          27538.41188
         ],
         "xaxis": "x12",
         "y": [
          79.483
         ],
         "yaxis": "y12"
        },
        {
         "hovertemplate": "country=Guatemala<br>continent=Americas<br>year=1997<br>gdpPercap=%{x}<br>lifeExp=%{y}<extra></extra>",
         "legendgroup": "Guatemala",
         "marker": {
          "color": "rgb(76,114,176)",
          "symbol": "circle"
         },
         "mode": "markers",
         "name": "Guatemala",
         "orientation": "v",
         "showlegend": true,
         "type": "scatter",
         "x": [
          4684.313807
         ],
         "xaxis": "x4",
         "y": [
          66.322
         ],
         "yaxis": "y4"
        },
        {
         "hovertemplate": "country=Guatemala<br>continent=Americas<br>year=2002<br>gdpPercap=%{x}<br>lifeExp=%{y}<extra></extra>",
         "legendgroup": "Guatemala",
         "marker": {
          "color": "rgb(76,114,176)",
          "symbol": "circle"
         },
         "mode": "markers",
         "name": "Guatemala",
         "orientation": "v",
         "showlegend": false,
         "type": "scatter",
         "x": [
          4858.347495
         ],
         "xaxis": "x5",
         "y": [
          68.97800000000001
         ],
         "yaxis": "y5"
        },
        {
         "hovertemplate": "country=Guatemala<br>continent=Americas<br>year=2007<br>gdpPercap=%{x}<br>lifeExp=%{y}<extra></extra>",
         "legendgroup": "Guatemala",
         "marker": {
          "color": "rgb(76,114,176)",
          "symbol": "circle"
         },
         "mode": "markers",
         "name": "Guatemala",
         "orientation": "v",
         "showlegend": false,
         "type": "scatter",
         "x": [
          5186.050003
         ],
         "xaxis": "x6",
         "y": [
          70.259
         ],
         "yaxis": "y6"
        },
        {
         "hovertemplate": "country=Guinea<br>continent=Africa<br>year=1997<br>gdpPercap=%{x}<br>lifeExp=%{y}<extra></extra>",
         "legendgroup": "Guinea",
         "marker": {
          "color": "rgb(221,132,82)",
          "symbol": "circle"
         },
         "mode": "markers",
         "name": "Guinea",
         "orientation": "v",
         "showlegend": true,
         "type": "scatter",
         "x": [
          869.4497667999997
         ],
         "xaxis": "x7",
         "y": [
          51.455
         ],
         "yaxis": "y7"
        },
        {
         "hovertemplate": "country=Guinea<br>continent=Africa<br>year=2002<br>gdpPercap=%{x}<br>lifeExp=%{y}<extra></extra>",
         "legendgroup": "Guinea",
         "marker": {
          "color": "rgb(221,132,82)",
          "symbol": "circle"
         },
         "mode": "markers",
         "name": "Guinea",
         "orientation": "v",
         "showlegend": false,
         "type": "scatter",
         "x": [
          945.5835837000001
         ],
         "xaxis": "x8",
         "y": [
          53.676
         ],
         "yaxis": "y8"
        },
        {
         "hovertemplate": "country=Guinea<br>continent=Africa<br>year=2007<br>gdpPercap=%{x}<br>lifeExp=%{y}<extra></extra>",
         "legendgroup": "Guinea",
         "marker": {
          "color": "rgb(221,132,82)",
          "symbol": "circle"
         },
         "mode": "markers",
         "name": "Guinea",
         "orientation": "v",
         "showlegend": false,
         "type": "scatter",
         "x": [
          942.6542111
         ],
         "xaxis": "x9",
         "y": [
          56.007
         ],
         "yaxis": "y9"
        },
        {
         "hovertemplate": "country=Guinea-Bissau<br>continent=Africa<br>year=1997<br>gdpPercap=%{x}<br>lifeExp=%{y}<extra></extra>",
         "legendgroup": "Guinea-Bissau",
         "marker": {
          "color": "rgb(85,168,104)",
          "symbol": "circle"
         },
         "mode": "markers",
         "name": "Guinea-Bissau",
         "orientation": "v",
         "showlegend": true,
         "type": "scatter",
         "x": [
          796.6644681
         ],
         "xaxis": "x7",
         "y": [
          44.87300000000001
         ],
         "yaxis": "y7"
        },
        {
         "hovertemplate": "country=Guinea-Bissau<br>continent=Africa<br>year=2002<br>gdpPercap=%{x}<br>lifeExp=%{y}<extra></extra>",
         "legendgroup": "Guinea-Bissau",
         "marker": {
          "color": "rgb(85,168,104)",
          "symbol": "circle"
         },
         "mode": "markers",
         "name": "Guinea-Bissau",
         "orientation": "v",
         "showlegend": false,
         "type": "scatter",
         "x": [
          575.7047176
         ],
         "xaxis": "x8",
         "y": [
          45.504
         ],
         "yaxis": "y8"
        },
        {
         "hovertemplate": "country=Guinea-Bissau<br>continent=Africa<br>year=2007<br>gdpPercap=%{x}<br>lifeExp=%{y}<extra></extra>",
         "legendgroup": "Guinea-Bissau",
         "marker": {
          "color": "rgb(85,168,104)",
          "symbol": "circle"
         },
         "mode": "markers",
         "name": "Guinea-Bissau",
         "orientation": "v",
         "showlegend": false,
         "type": "scatter",
         "x": [
          579.2317429999998
         ],
         "xaxis": "x9",
         "y": [
          46.38800000000001
         ],
         "yaxis": "y9"
        },
        {
         "hovertemplate": "country=Haiti<br>continent=Americas<br>year=1997<br>gdpPercap=%{x}<br>lifeExp=%{y}<extra></extra>",
         "legendgroup": "Haiti",
         "marker": {
          "color": "rgb(196,78,82)",
          "symbol": "circle"
         },
         "mode": "markers",
         "name": "Haiti",
         "orientation": "v",
         "showlegend": true,
         "type": "scatter",
         "x": [
          1341.7269310000001
         ],
         "xaxis": "x4",
         "y": [
          56.67100000000001
         ],
         "yaxis": "y4"
        },
        {
         "hovertemplate": "country=Haiti<br>continent=Americas<br>year=2002<br>gdpPercap=%{x}<br>lifeExp=%{y}<extra></extra>",
         "legendgroup": "Haiti",
         "marker": {
          "color": "rgb(196,78,82)",
          "symbol": "circle"
         },
         "mode": "markers",
         "name": "Haiti",
         "orientation": "v",
         "showlegend": false,
         "type": "scatter",
         "x": [
          1270.364932
         ],
         "xaxis": "x5",
         "y": [
          58.137
         ],
         "yaxis": "y5"
        },
        {
         "hovertemplate": "country=Haiti<br>continent=Americas<br>year=2007<br>gdpPercap=%{x}<br>lifeExp=%{y}<extra></extra>",
         "legendgroup": "Haiti",
         "marker": {
          "color": "rgb(196,78,82)",
          "symbol": "circle"
         },
         "mode": "markers",
         "name": "Haiti",
         "orientation": "v",
         "showlegend": false,
         "type": "scatter",
         "x": [
          1201.637154
         ],
         "xaxis": "x6",
         "y": [
          60.916000000000004
         ],
         "yaxis": "y6"
        },
        {
         "hovertemplate": "country=Honduras<br>continent=Americas<br>year=1997<br>gdpPercap=%{x}<br>lifeExp=%{y}<extra></extra>",
         "legendgroup": "Honduras",
         "marker": {
          "color": "rgb(129,114,179)",
          "symbol": "circle"
         },
         "mode": "markers",
         "name": "Honduras",
         "orientation": "v",
         "showlegend": true,
         "type": "scatter",
         "x": [
          3160.454906
         ],
         "xaxis": "x4",
         "y": [
          67.65899999999999
         ],
         "yaxis": "y4"
        },
        {
         "hovertemplate": "country=Honduras<br>continent=Americas<br>year=2002<br>gdpPercap=%{x}<br>lifeExp=%{y}<extra></extra>",
         "legendgroup": "Honduras",
         "marker": {
          "color": "rgb(129,114,179)",
          "symbol": "circle"
         },
         "mode": "markers",
         "name": "Honduras",
         "orientation": "v",
         "showlegend": false,
         "type": "scatter",
         "x": [
          3099.72866
         ],
         "xaxis": "x5",
         "y": [
          68.565
         ],
         "yaxis": "y5"
        },
        {
         "hovertemplate": "country=Honduras<br>continent=Americas<br>year=2007<br>gdpPercap=%{x}<br>lifeExp=%{y}<extra></extra>",
         "legendgroup": "Honduras",
         "marker": {
          "color": "rgb(129,114,179)",
          "symbol": "circle"
         },
         "mode": "markers",
         "name": "Honduras",
         "orientation": "v",
         "showlegend": false,
         "type": "scatter",
         "x": [
          3548.330846000001
         ],
         "xaxis": "x6",
         "y": [
          70.19800000000001
         ],
         "yaxis": "y6"
        },
        {
         "hovertemplate": "country=Hong Kong, China<br>continent=Asia<br>year=1997<br>gdpPercap=%{x}<br>lifeExp=%{y}<extra></extra>",
         "legendgroup": "Hong Kong, China",
         "marker": {
          "color": "rgb(147,120,96)",
          "symbol": "circle"
         },
         "mode": "markers",
         "name": "Hong Kong, China",
         "orientation": "v",
         "showlegend": true,
         "type": "scatter",
         "x": [
          28377.632189999997
         ],
         "xaxis": "x13",
         "y": [
          80
         ],
         "yaxis": "y13"
        },
        {
         "hovertemplate": "country=Hong Kong, China<br>continent=Asia<br>year=2002<br>gdpPercap=%{x}<br>lifeExp=%{y}<extra></extra>",
         "legendgroup": "Hong Kong, China",
         "marker": {
          "color": "rgb(147,120,96)",
          "symbol": "circle"
         },
         "mode": "markers",
         "name": "Hong Kong, China",
         "orientation": "v",
         "showlegend": false,
         "type": "scatter",
         "x": [
          30209.01516000001
         ],
         "xaxis": "x14",
         "y": [
          81.495
         ],
         "yaxis": "y14"
        },
        {
         "hovertemplate": "country=Hong Kong, China<br>continent=Asia<br>year=2007<br>gdpPercap=%{x}<br>lifeExp=%{y}<extra></extra>",
         "legendgroup": "Hong Kong, China",
         "marker": {
          "color": "rgb(147,120,96)",
          "symbol": "circle"
         },
         "mode": "markers",
         "name": "Hong Kong, China",
         "orientation": "v",
         "showlegend": false,
         "type": "scatter",
         "x": [
          39724.97867
         ],
         "xaxis": "x15",
         "y": [
          82.208
         ],
         "yaxis": "y15"
        },
        {
         "hovertemplate": "country=Hungary<br>continent=Europe<br>year=1997<br>gdpPercap=%{x}<br>lifeExp=%{y}<extra></extra>",
         "legendgroup": "Hungary",
         "marker": {
          "color": "rgb(218,139,195)",
          "symbol": "circle"
         },
         "mode": "markers",
         "name": "Hungary",
         "orientation": "v",
         "showlegend": true,
         "type": "scatter",
         "x": [
          11712.7768
         ],
         "xaxis": "x10",
         "y": [
          71.04
         ],
         "yaxis": "y10"
        },
        {
         "hovertemplate": "country=Hungary<br>continent=Europe<br>year=2002<br>gdpPercap=%{x}<br>lifeExp=%{y}<extra></extra>",
         "legendgroup": "Hungary",
         "marker": {
          "color": "rgb(218,139,195)",
          "symbol": "circle"
         },
         "mode": "markers",
         "name": "Hungary",
         "orientation": "v",
         "showlegend": false,
         "type": "scatter",
         "x": [
          14843.93556
         ],
         "xaxis": "x11",
         "y": [
          72.59
         ],
         "yaxis": "y11"
        },
        {
         "hovertemplate": "country=Hungary<br>continent=Europe<br>year=2007<br>gdpPercap=%{x}<br>lifeExp=%{y}<extra></extra>",
         "legendgroup": "Hungary",
         "marker": {
          "color": "rgb(218,139,195)",
          "symbol": "circle"
         },
         "mode": "markers",
         "name": "Hungary",
         "orientation": "v",
         "showlegend": false,
         "type": "scatter",
         "x": [
          18008.94444
         ],
         "xaxis": "x12",
         "y": [
          73.33800000000002
         ],
         "yaxis": "y12"
        },
        {
         "hovertemplate": "country=Iceland<br>continent=Europe<br>year=1997<br>gdpPercap=%{x}<br>lifeExp=%{y}<extra></extra>",
         "legendgroup": "Iceland",
         "marker": {
          "color": "rgb(140,140,140)",
          "symbol": "circle"
         },
         "mode": "markers",
         "name": "Iceland",
         "orientation": "v",
         "showlegend": true,
         "type": "scatter",
         "x": [
          28061.099660000003
         ],
         "xaxis": "x10",
         "y": [
          78.95
         ],
         "yaxis": "y10"
        },
        {
         "hovertemplate": "country=Iceland<br>continent=Europe<br>year=2002<br>gdpPercap=%{x}<br>lifeExp=%{y}<extra></extra>",
         "legendgroup": "Iceland",
         "marker": {
          "color": "rgb(140,140,140)",
          "symbol": "circle"
         },
         "mode": "markers",
         "name": "Iceland",
         "orientation": "v",
         "showlegend": false,
         "type": "scatter",
         "x": [
          31163.201960000002
         ],
         "xaxis": "x11",
         "y": [
          80.5
         ],
         "yaxis": "y11"
        },
        {
         "hovertemplate": "country=Iceland<br>continent=Europe<br>year=2007<br>gdpPercap=%{x}<br>lifeExp=%{y}<extra></extra>",
         "legendgroup": "Iceland",
         "marker": {
          "color": "rgb(140,140,140)",
          "symbol": "circle"
         },
         "mode": "markers",
         "name": "Iceland",
         "orientation": "v",
         "showlegend": false,
         "type": "scatter",
         "x": [
          36180.789189999996
         ],
         "xaxis": "x12",
         "y": [
          81.757
         ],
         "yaxis": "y12"
        },
        {
         "hovertemplate": "country=India<br>continent=Asia<br>year=1997<br>gdpPercap=%{x}<br>lifeExp=%{y}<extra></extra>",
         "legendgroup": "India",
         "marker": {
          "color": "rgb(204,185,116)",
          "symbol": "circle"
         },
         "mode": "markers",
         "name": "India",
         "orientation": "v",
         "showlegend": true,
         "type": "scatter",
         "x": [
          1458.817442
         ],
         "xaxis": "x13",
         "y": [
          61.765
         ],
         "yaxis": "y13"
        },
        {
         "hovertemplate": "country=India<br>continent=Asia<br>year=2002<br>gdpPercap=%{x}<br>lifeExp=%{y}<extra></extra>",
         "legendgroup": "India",
         "marker": {
          "color": "rgb(204,185,116)",
          "symbol": "circle"
         },
         "mode": "markers",
         "name": "India",
         "orientation": "v",
         "showlegend": false,
         "type": "scatter",
         "x": [
          1746.769454
         ],
         "xaxis": "x14",
         "y": [
          62.879
         ],
         "yaxis": "y14"
        },
        {
         "hovertemplate": "country=India<br>continent=Asia<br>year=2007<br>gdpPercap=%{x}<br>lifeExp=%{y}<extra></extra>",
         "legendgroup": "India",
         "marker": {
          "color": "rgb(204,185,116)",
          "symbol": "circle"
         },
         "mode": "markers",
         "name": "India",
         "orientation": "v",
         "showlegend": false,
         "type": "scatter",
         "x": [
          2452.210407
         ],
         "xaxis": "x15",
         "y": [
          64.69800000000001
         ],
         "yaxis": "y15"
        },
        {
         "hovertemplate": "country=Indonesia<br>continent=Asia<br>year=1997<br>gdpPercap=%{x}<br>lifeExp=%{y}<extra></extra>",
         "legendgroup": "Indonesia",
         "marker": {
          "color": "rgb(100,181,205)",
          "symbol": "circle"
         },
         "mode": "markers",
         "name": "Indonesia",
         "orientation": "v",
         "showlegend": true,
         "type": "scatter",
         "x": [
          3119.335603
         ],
         "xaxis": "x13",
         "y": [
          66.041
         ],
         "yaxis": "y13"
        },
        {
         "hovertemplate": "country=Indonesia<br>continent=Asia<br>year=2002<br>gdpPercap=%{x}<br>lifeExp=%{y}<extra></extra>",
         "legendgroup": "Indonesia",
         "marker": {
          "color": "rgb(100,181,205)",
          "symbol": "circle"
         },
         "mode": "markers",
         "name": "Indonesia",
         "orientation": "v",
         "showlegend": false,
         "type": "scatter",
         "x": [
          2873.91287
         ],
         "xaxis": "x14",
         "y": [
          68.58800000000001
         ],
         "yaxis": "y14"
        },
        {
         "hovertemplate": "country=Indonesia<br>continent=Asia<br>year=2007<br>gdpPercap=%{x}<br>lifeExp=%{y}<extra></extra>",
         "legendgroup": "Indonesia",
         "marker": {
          "color": "rgb(100,181,205)",
          "symbol": "circle"
         },
         "mode": "markers",
         "name": "Indonesia",
         "orientation": "v",
         "showlegend": false,
         "type": "scatter",
         "x": [
          3540.6515640000002
         ],
         "xaxis": "x15",
         "y": [
          70.65
         ],
         "yaxis": "y15"
        },
        {
         "hovertemplate": "country=Iran<br>continent=Asia<br>year=1997<br>gdpPercap=%{x}<br>lifeExp=%{y}<extra></extra>",
         "legendgroup": "Iran",
         "marker": {
          "color": "rgb(76,114,176)",
          "symbol": "circle"
         },
         "mode": "markers",
         "name": "Iran",
         "orientation": "v",
         "showlegend": true,
         "type": "scatter",
         "x": [
          8263.590301
         ],
         "xaxis": "x13",
         "y": [
          68.042
         ],
         "yaxis": "y13"
        },
        {
         "hovertemplate": "country=Iran<br>continent=Asia<br>year=2002<br>gdpPercap=%{x}<br>lifeExp=%{y}<extra></extra>",
         "legendgroup": "Iran",
         "marker": {
          "color": "rgb(76,114,176)",
          "symbol": "circle"
         },
         "mode": "markers",
         "name": "Iran",
         "orientation": "v",
         "showlegend": false,
         "type": "scatter",
         "x": [
          9240.761975
         ],
         "xaxis": "x14",
         "y": [
          69.45100000000001
         ],
         "yaxis": "y14"
        },
        {
         "hovertemplate": "country=Iran<br>continent=Asia<br>year=2007<br>gdpPercap=%{x}<br>lifeExp=%{y}<extra></extra>",
         "legendgroup": "Iran",
         "marker": {
          "color": "rgb(76,114,176)",
          "symbol": "circle"
         },
         "mode": "markers",
         "name": "Iran",
         "orientation": "v",
         "showlegend": false,
         "type": "scatter",
         "x": [
          11605.71449
         ],
         "xaxis": "x15",
         "y": [
          70.964
         ],
         "yaxis": "y15"
        },
        {
         "hovertemplate": "country=Iraq<br>continent=Asia<br>year=1997<br>gdpPercap=%{x}<br>lifeExp=%{y}<extra></extra>",
         "legendgroup": "Iraq",
         "marker": {
          "color": "rgb(221,132,82)",
          "symbol": "circle"
         },
         "mode": "markers",
         "name": "Iraq",
         "orientation": "v",
         "showlegend": true,
         "type": "scatter",
         "x": [
          3076.239795
         ],
         "xaxis": "x13",
         "y": [
          58.81100000000001
         ],
         "yaxis": "y13"
        },
        {
         "hovertemplate": "country=Iraq<br>continent=Asia<br>year=2002<br>gdpPercap=%{x}<br>lifeExp=%{y}<extra></extra>",
         "legendgroup": "Iraq",
         "marker": {
          "color": "rgb(221,132,82)",
          "symbol": "circle"
         },
         "mode": "markers",
         "name": "Iraq",
         "orientation": "v",
         "showlegend": false,
         "type": "scatter",
         "x": [
          4390.717312
         ],
         "xaxis": "x14",
         "y": [
          57.04600000000001
         ],
         "yaxis": "y14"
        },
        {
         "hovertemplate": "country=Iraq<br>continent=Asia<br>year=2007<br>gdpPercap=%{x}<br>lifeExp=%{y}<extra></extra>",
         "legendgroup": "Iraq",
         "marker": {
          "color": "rgb(221,132,82)",
          "symbol": "circle"
         },
         "mode": "markers",
         "name": "Iraq",
         "orientation": "v",
         "showlegend": false,
         "type": "scatter",
         "x": [
          4471.061906
         ],
         "xaxis": "x15",
         "y": [
          59.545
         ],
         "yaxis": "y15"
        },
        {
         "hovertemplate": "country=Ireland<br>continent=Europe<br>year=1997<br>gdpPercap=%{x}<br>lifeExp=%{y}<extra></extra>",
         "legendgroup": "Ireland",
         "marker": {
          "color": "rgb(85,168,104)",
          "symbol": "circle"
         },
         "mode": "markers",
         "name": "Ireland",
         "orientation": "v",
         "showlegend": true,
         "type": "scatter",
         "x": [
          24521.94713
         ],
         "xaxis": "x10",
         "y": [
          76.122
         ],
         "yaxis": "y10"
        },
        {
         "hovertemplate": "country=Ireland<br>continent=Europe<br>year=2002<br>gdpPercap=%{x}<br>lifeExp=%{y}<extra></extra>",
         "legendgroup": "Ireland",
         "marker": {
          "color": "rgb(85,168,104)",
          "symbol": "circle"
         },
         "mode": "markers",
         "name": "Ireland",
         "orientation": "v",
         "showlegend": false,
         "type": "scatter",
         "x": [
          34077.04939
         ],
         "xaxis": "x11",
         "y": [
          77.783
         ],
         "yaxis": "y11"
        },
        {
         "hovertemplate": "country=Ireland<br>continent=Europe<br>year=2007<br>gdpPercap=%{x}<br>lifeExp=%{y}<extra></extra>",
         "legendgroup": "Ireland",
         "marker": {
          "color": "rgb(85,168,104)",
          "symbol": "circle"
         },
         "mode": "markers",
         "name": "Ireland",
         "orientation": "v",
         "showlegend": false,
         "type": "scatter",
         "x": [
          40675.99635
         ],
         "xaxis": "x12",
         "y": [
          78.885
         ],
         "yaxis": "y12"
        },
        {
         "hovertemplate": "country=Israel<br>continent=Asia<br>year=1997<br>gdpPercap=%{x}<br>lifeExp=%{y}<extra></extra>",
         "legendgroup": "Israel",
         "marker": {
          "color": "rgb(196,78,82)",
          "symbol": "circle"
         },
         "mode": "markers",
         "name": "Israel",
         "orientation": "v",
         "showlegend": true,
         "type": "scatter",
         "x": [
          20896.60924
         ],
         "xaxis": "x13",
         "y": [
          78.26899999999998
         ],
         "yaxis": "y13"
        },
        {
         "hovertemplate": "country=Israel<br>continent=Asia<br>year=2002<br>gdpPercap=%{x}<br>lifeExp=%{y}<extra></extra>",
         "legendgroup": "Israel",
         "marker": {
          "color": "rgb(196,78,82)",
          "symbol": "circle"
         },
         "mode": "markers",
         "name": "Israel",
         "orientation": "v",
         "showlegend": false,
         "type": "scatter",
         "x": [
          21905.59514
         ],
         "xaxis": "x14",
         "y": [
          79.696
         ],
         "yaxis": "y14"
        },
        {
         "hovertemplate": "country=Israel<br>continent=Asia<br>year=2007<br>gdpPercap=%{x}<br>lifeExp=%{y}<extra></extra>",
         "legendgroup": "Israel",
         "marker": {
          "color": "rgb(196,78,82)",
          "symbol": "circle"
         },
         "mode": "markers",
         "name": "Israel",
         "orientation": "v",
         "showlegend": false,
         "type": "scatter",
         "x": [
          25523.2771
         ],
         "xaxis": "x15",
         "y": [
          80.745
         ],
         "yaxis": "y15"
        },
        {
         "hovertemplate": "country=Italy<br>continent=Europe<br>year=1997<br>gdpPercap=%{x}<br>lifeExp=%{y}<extra></extra>",
         "legendgroup": "Italy",
         "marker": {
          "color": "rgb(129,114,179)",
          "symbol": "circle"
         },
         "mode": "markers",
         "name": "Italy",
         "orientation": "v",
         "showlegend": true,
         "type": "scatter",
         "x": [
          24675.02446
         ],
         "xaxis": "x10",
         "y": [
          78.82
         ],
         "yaxis": "y10"
        },
        {
         "hovertemplate": "country=Italy<br>continent=Europe<br>year=2002<br>gdpPercap=%{x}<br>lifeExp=%{y}<extra></extra>",
         "legendgroup": "Italy",
         "marker": {
          "color": "rgb(129,114,179)",
          "symbol": "circle"
         },
         "mode": "markers",
         "name": "Italy",
         "orientation": "v",
         "showlegend": false,
         "type": "scatter",
         "x": [
          27968.098169999997
         ],
         "xaxis": "x11",
         "y": [
          80.24
         ],
         "yaxis": "y11"
        },
        {
         "hovertemplate": "country=Italy<br>continent=Europe<br>year=2007<br>gdpPercap=%{x}<br>lifeExp=%{y}<extra></extra>",
         "legendgroup": "Italy",
         "marker": {
          "color": "rgb(129,114,179)",
          "symbol": "circle"
         },
         "mode": "markers",
         "name": "Italy",
         "orientation": "v",
         "showlegend": false,
         "type": "scatter",
         "x": [
          28569.7197
         ],
         "xaxis": "x12",
         "y": [
          80.546
         ],
         "yaxis": "y12"
        },
        {
         "hovertemplate": "country=Jamaica<br>continent=Americas<br>year=1997<br>gdpPercap=%{x}<br>lifeExp=%{y}<extra></extra>",
         "legendgroup": "Jamaica",
         "marker": {
          "color": "rgb(147,120,96)",
          "symbol": "circle"
         },
         "mode": "markers",
         "name": "Jamaica",
         "orientation": "v",
         "showlegend": true,
         "type": "scatter",
         "x": [
          7121.924704000001
         ],
         "xaxis": "x4",
         "y": [
          72.262
         ],
         "yaxis": "y4"
        },
        {
         "hovertemplate": "country=Jamaica<br>continent=Americas<br>year=2002<br>gdpPercap=%{x}<br>lifeExp=%{y}<extra></extra>",
         "legendgroup": "Jamaica",
         "marker": {
          "color": "rgb(147,120,96)",
          "symbol": "circle"
         },
         "mode": "markers",
         "name": "Jamaica",
         "orientation": "v",
         "showlegend": false,
         "type": "scatter",
         "x": [
          6994.774861
         ],
         "xaxis": "x5",
         "y": [
          72.047
         ],
         "yaxis": "y5"
        },
        {
         "hovertemplate": "country=Jamaica<br>continent=Americas<br>year=2007<br>gdpPercap=%{x}<br>lifeExp=%{y}<extra></extra>",
         "legendgroup": "Jamaica",
         "marker": {
          "color": "rgb(147,120,96)",
          "symbol": "circle"
         },
         "mode": "markers",
         "name": "Jamaica",
         "orientation": "v",
         "showlegend": false,
         "type": "scatter",
         "x": [
          7320.880262000002
         ],
         "xaxis": "x6",
         "y": [
          72.567
         ],
         "yaxis": "y6"
        },
        {
         "hovertemplate": "country=Japan<br>continent=Asia<br>year=1997<br>gdpPercap=%{x}<br>lifeExp=%{y}<extra></extra>",
         "legendgroup": "Japan",
         "marker": {
          "color": "rgb(218,139,195)",
          "symbol": "circle"
         },
         "mode": "markers",
         "name": "Japan",
         "orientation": "v",
         "showlegend": true,
         "type": "scatter",
         "x": [
          28816.58499
         ],
         "xaxis": "x13",
         "y": [
          80.69
         ],
         "yaxis": "y13"
        },
        {
         "hovertemplate": "country=Japan<br>continent=Asia<br>year=2002<br>gdpPercap=%{x}<br>lifeExp=%{y}<extra></extra>",
         "legendgroup": "Japan",
         "marker": {
          "color": "rgb(218,139,195)",
          "symbol": "circle"
         },
         "mode": "markers",
         "name": "Japan",
         "orientation": "v",
         "showlegend": false,
         "type": "scatter",
         "x": [
          28604.5919
         ],
         "xaxis": "x14",
         "y": [
          82
         ],
         "yaxis": "y14"
        },
        {
         "hovertemplate": "country=Japan<br>continent=Asia<br>year=2007<br>gdpPercap=%{x}<br>lifeExp=%{y}<extra></extra>",
         "legendgroup": "Japan",
         "marker": {
          "color": "rgb(218,139,195)",
          "symbol": "circle"
         },
         "mode": "markers",
         "name": "Japan",
         "orientation": "v",
         "showlegend": false,
         "type": "scatter",
         "x": [
          31656.06806
         ],
         "xaxis": "x15",
         "y": [
          82.603
         ],
         "yaxis": "y15"
        },
        {
         "hovertemplate": "country=Jordan<br>continent=Asia<br>year=1997<br>gdpPercap=%{x}<br>lifeExp=%{y}<extra></extra>",
         "legendgroup": "Jordan",
         "marker": {
          "color": "rgb(140,140,140)",
          "symbol": "circle"
         },
         "mode": "markers",
         "name": "Jordan",
         "orientation": "v",
         "showlegend": true,
         "type": "scatter",
         "x": [
          3645.379572
         ],
         "xaxis": "x13",
         "y": [
          69.77199999999999
         ],
         "yaxis": "y13"
        },
        {
         "hovertemplate": "country=Jordan<br>continent=Asia<br>year=2002<br>gdpPercap=%{x}<br>lifeExp=%{y}<extra></extra>",
         "legendgroup": "Jordan",
         "marker": {
          "color": "rgb(140,140,140)",
          "symbol": "circle"
         },
         "mode": "markers",
         "name": "Jordan",
         "orientation": "v",
         "showlegend": false,
         "type": "scatter",
         "x": [
          3844.9171939999997
         ],
         "xaxis": "x14",
         "y": [
          71.263
         ],
         "yaxis": "y14"
        },
        {
         "hovertemplate": "country=Jordan<br>continent=Asia<br>year=2007<br>gdpPercap=%{x}<br>lifeExp=%{y}<extra></extra>",
         "legendgroup": "Jordan",
         "marker": {
          "color": "rgb(140,140,140)",
          "symbol": "circle"
         },
         "mode": "markers",
         "name": "Jordan",
         "orientation": "v",
         "showlegend": false,
         "type": "scatter",
         "x": [
          4519.461171
         ],
         "xaxis": "x15",
         "y": [
          72.535
         ],
         "yaxis": "y15"
        },
        {
         "hovertemplate": "country=Kenya<br>continent=Africa<br>year=1997<br>gdpPercap=%{x}<br>lifeExp=%{y}<extra></extra>",
         "legendgroup": "Kenya",
         "marker": {
          "color": "rgb(204,185,116)",
          "symbol": "circle"
         },
         "mode": "markers",
         "name": "Kenya",
         "orientation": "v",
         "showlegend": true,
         "type": "scatter",
         "x": [
          1360.4850210000004
         ],
         "xaxis": "x7",
         "y": [
          54.407
         ],
         "yaxis": "y7"
        },
        {
         "hovertemplate": "country=Kenya<br>continent=Africa<br>year=2002<br>gdpPercap=%{x}<br>lifeExp=%{y}<extra></extra>",
         "legendgroup": "Kenya",
         "marker": {
          "color": "rgb(204,185,116)",
          "symbol": "circle"
         },
         "mode": "markers",
         "name": "Kenya",
         "orientation": "v",
         "showlegend": false,
         "type": "scatter",
         "x": [
          1287.514732
         ],
         "xaxis": "x8",
         "y": [
          50.992
         ],
         "yaxis": "y8"
        },
        {
         "hovertemplate": "country=Kenya<br>continent=Africa<br>year=2007<br>gdpPercap=%{x}<br>lifeExp=%{y}<extra></extra>",
         "legendgroup": "Kenya",
         "marker": {
          "color": "rgb(204,185,116)",
          "symbol": "circle"
         },
         "mode": "markers",
         "name": "Kenya",
         "orientation": "v",
         "showlegend": false,
         "type": "scatter",
         "x": [
          1463.249282
         ],
         "xaxis": "x9",
         "y": [
          54.11
         ],
         "yaxis": "y9"
        },
        {
         "hovertemplate": "country=Korea, Dem. Rep.<br>continent=Asia<br>year=1997<br>gdpPercap=%{x}<br>lifeExp=%{y}<extra></extra>",
         "legendgroup": "Korea, Dem. Rep.",
         "marker": {
          "color": "rgb(100,181,205)",
          "symbol": "circle"
         },
         "mode": "markers",
         "name": "Korea, Dem. Rep.",
         "orientation": "v",
         "showlegend": true,
         "type": "scatter",
         "x": [
          1690.756814
         ],
         "xaxis": "x13",
         "y": [
          67.727
         ],
         "yaxis": "y13"
        },
        {
         "hovertemplate": "country=Korea, Dem. Rep.<br>continent=Asia<br>year=2002<br>gdpPercap=%{x}<br>lifeExp=%{y}<extra></extra>",
         "legendgroup": "Korea, Dem. Rep.",
         "marker": {
          "color": "rgb(100,181,205)",
          "symbol": "circle"
         },
         "mode": "markers",
         "name": "Korea, Dem. Rep.",
         "orientation": "v",
         "showlegend": false,
         "type": "scatter",
         "x": [
          1646.758151
         ],
         "xaxis": "x14",
         "y": [
          66.66199999999999
         ],
         "yaxis": "y14"
        },
        {
         "hovertemplate": "country=Korea, Dem. Rep.<br>continent=Asia<br>year=2007<br>gdpPercap=%{x}<br>lifeExp=%{y}<extra></extra>",
         "legendgroup": "Korea, Dem. Rep.",
         "marker": {
          "color": "rgb(100,181,205)",
          "symbol": "circle"
         },
         "mode": "markers",
         "name": "Korea, Dem. Rep.",
         "orientation": "v",
         "showlegend": false,
         "type": "scatter",
         "x": [
          1593.06548
         ],
         "xaxis": "x15",
         "y": [
          67.297
         ],
         "yaxis": "y15"
        },
        {
         "hovertemplate": "country=Korea, Rep.<br>continent=Asia<br>year=1997<br>gdpPercap=%{x}<br>lifeExp=%{y}<extra></extra>",
         "legendgroup": "Korea, Rep.",
         "marker": {
          "color": "rgb(76,114,176)",
          "symbol": "circle"
         },
         "mode": "markers",
         "name": "Korea, Rep.",
         "orientation": "v",
         "showlegend": true,
         "type": "scatter",
         "x": [
          15993.52796
         ],
         "xaxis": "x13",
         "y": [
          74.64699999999998
         ],
         "yaxis": "y13"
        },
        {
         "hovertemplate": "country=Korea, Rep.<br>continent=Asia<br>year=2002<br>gdpPercap=%{x}<br>lifeExp=%{y}<extra></extra>",
         "legendgroup": "Korea, Rep.",
         "marker": {
          "color": "rgb(76,114,176)",
          "symbol": "circle"
         },
         "mode": "markers",
         "name": "Korea, Rep.",
         "orientation": "v",
         "showlegend": false,
         "type": "scatter",
         "x": [
          19233.98818
         ],
         "xaxis": "x14",
         "y": [
          77.045
         ],
         "yaxis": "y14"
        },
        {
         "hovertemplate": "country=Korea, Rep.<br>continent=Asia<br>year=2007<br>gdpPercap=%{x}<br>lifeExp=%{y}<extra></extra>",
         "legendgroup": "Korea, Rep.",
         "marker": {
          "color": "rgb(76,114,176)",
          "symbol": "circle"
         },
         "mode": "markers",
         "name": "Korea, Rep.",
         "orientation": "v",
         "showlegend": false,
         "type": "scatter",
         "x": [
          23348.13973000001
         ],
         "xaxis": "x15",
         "y": [
          78.623
         ],
         "yaxis": "y15"
        },
        {
         "hovertemplate": "country=Kuwait<br>continent=Asia<br>year=1997<br>gdpPercap=%{x}<br>lifeExp=%{y}<extra></extra>",
         "legendgroup": "Kuwait",
         "marker": {
          "color": "rgb(221,132,82)",
          "symbol": "circle"
         },
         "mode": "markers",
         "name": "Kuwait",
         "orientation": "v",
         "showlegend": true,
         "type": "scatter",
         "x": [
          40300.61996
         ],
         "xaxis": "x13",
         "y": [
          76.156
         ],
         "yaxis": "y13"
        },
        {
         "hovertemplate": "country=Kuwait<br>continent=Asia<br>year=2002<br>gdpPercap=%{x}<br>lifeExp=%{y}<extra></extra>",
         "legendgroup": "Kuwait",
         "marker": {
          "color": "rgb(221,132,82)",
          "symbol": "circle"
         },
         "mode": "markers",
         "name": "Kuwait",
         "orientation": "v",
         "showlegend": false,
         "type": "scatter",
         "x": [
          35110.10566
         ],
         "xaxis": "x14",
         "y": [
          76.904
         ],
         "yaxis": "y14"
        },
        {
         "hovertemplate": "country=Kuwait<br>continent=Asia<br>year=2007<br>gdpPercap=%{x}<br>lifeExp=%{y}<extra></extra>",
         "legendgroup": "Kuwait",
         "marker": {
          "color": "rgb(221,132,82)",
          "symbol": "circle"
         },
         "mode": "markers",
         "name": "Kuwait",
         "orientation": "v",
         "showlegend": false,
         "type": "scatter",
         "x": [
          47306.98978
         ],
         "xaxis": "x15",
         "y": [
          77.58800000000002
         ],
         "yaxis": "y15"
        },
        {
         "hovertemplate": "country=Lebanon<br>continent=Asia<br>year=1997<br>gdpPercap=%{x}<br>lifeExp=%{y}<extra></extra>",
         "legendgroup": "Lebanon",
         "marker": {
          "color": "rgb(85,168,104)",
          "symbol": "circle"
         },
         "mode": "markers",
         "name": "Lebanon",
         "orientation": "v",
         "showlegend": true,
         "type": "scatter",
         "x": [
          8754.96385
         ],
         "xaxis": "x13",
         "y": [
          70.265
         ],
         "yaxis": "y13"
        },
        {
         "hovertemplate": "country=Lebanon<br>continent=Asia<br>year=2002<br>gdpPercap=%{x}<br>lifeExp=%{y}<extra></extra>",
         "legendgroup": "Lebanon",
         "marker": {
          "color": "rgb(85,168,104)",
          "symbol": "circle"
         },
         "mode": "markers",
         "name": "Lebanon",
         "orientation": "v",
         "showlegend": false,
         "type": "scatter",
         "x": [
          9313.93883
         ],
         "xaxis": "x14",
         "y": [
          71.028
         ],
         "yaxis": "y14"
        },
        {
         "hovertemplate": "country=Lebanon<br>continent=Asia<br>year=2007<br>gdpPercap=%{x}<br>lifeExp=%{y}<extra></extra>",
         "legendgroup": "Lebanon",
         "marker": {
          "color": "rgb(85,168,104)",
          "symbol": "circle"
         },
         "mode": "markers",
         "name": "Lebanon",
         "orientation": "v",
         "showlegend": false,
         "type": "scatter",
         "x": [
          10461.05868
         ],
         "xaxis": "x15",
         "y": [
          71.993
         ],
         "yaxis": "y15"
        },
        {
         "hovertemplate": "country=Lesotho<br>continent=Africa<br>year=1997<br>gdpPercap=%{x}<br>lifeExp=%{y}<extra></extra>",
         "legendgroup": "Lesotho",
         "marker": {
          "color": "rgb(196,78,82)",
          "symbol": "circle"
         },
         "mode": "markers",
         "name": "Lesotho",
         "orientation": "v",
         "showlegend": true,
         "type": "scatter",
         "x": [
          1186.147994
         ],
         "xaxis": "x7",
         "y": [
          55.558
         ],
         "yaxis": "y7"
        },
        {
         "hovertemplate": "country=Lesotho<br>continent=Africa<br>year=2002<br>gdpPercap=%{x}<br>lifeExp=%{y}<extra></extra>",
         "legendgroup": "Lesotho",
         "marker": {
          "color": "rgb(196,78,82)",
          "symbol": "circle"
         },
         "mode": "markers",
         "name": "Lesotho",
         "orientation": "v",
         "showlegend": false,
         "type": "scatter",
         "x": [
          1275.184575
         ],
         "xaxis": "x8",
         "y": [
          44.593
         ],
         "yaxis": "y8"
        },
        {
         "hovertemplate": "country=Lesotho<br>continent=Africa<br>year=2007<br>gdpPercap=%{x}<br>lifeExp=%{y}<extra></extra>",
         "legendgroup": "Lesotho",
         "marker": {
          "color": "rgb(196,78,82)",
          "symbol": "circle"
         },
         "mode": "markers",
         "name": "Lesotho",
         "orientation": "v",
         "showlegend": false,
         "type": "scatter",
         "x": [
          1569.331442
         ],
         "xaxis": "x9",
         "y": [
          42.592
         ],
         "yaxis": "y9"
        },
        {
         "hovertemplate": "country=Liberia<br>continent=Africa<br>year=1997<br>gdpPercap=%{x}<br>lifeExp=%{y}<extra></extra>",
         "legendgroup": "Liberia",
         "marker": {
          "color": "rgb(129,114,179)",
          "symbol": "circle"
         },
         "mode": "markers",
         "name": "Liberia",
         "orientation": "v",
         "showlegend": true,
         "type": "scatter",
         "x": [
          609.1739508
         ],
         "xaxis": "x7",
         "y": [
          42.221000000000004
         ],
         "yaxis": "y7"
        },
        {
         "hovertemplate": "country=Liberia<br>continent=Africa<br>year=2002<br>gdpPercap=%{x}<br>lifeExp=%{y}<extra></extra>",
         "legendgroup": "Liberia",
         "marker": {
          "color": "rgb(129,114,179)",
          "symbol": "circle"
         },
         "mode": "markers",
         "name": "Liberia",
         "orientation": "v",
         "showlegend": false,
         "type": "scatter",
         "x": [
          531.4823679
         ],
         "xaxis": "x8",
         "y": [
          43.753
         ],
         "yaxis": "y8"
        },
        {
         "hovertemplate": "country=Liberia<br>continent=Africa<br>year=2007<br>gdpPercap=%{x}<br>lifeExp=%{y}<extra></extra>",
         "legendgroup": "Liberia",
         "marker": {
          "color": "rgb(129,114,179)",
          "symbol": "circle"
         },
         "mode": "markers",
         "name": "Liberia",
         "orientation": "v",
         "showlegend": false,
         "type": "scatter",
         "x": [
          414.5073415
         ],
         "xaxis": "x9",
         "y": [
          45.678000000000004
         ],
         "yaxis": "y9"
        },
        {
         "hovertemplate": "country=Libya<br>continent=Africa<br>year=1997<br>gdpPercap=%{x}<br>lifeExp=%{y}<extra></extra>",
         "legendgroup": "Libya",
         "marker": {
          "color": "rgb(147,120,96)",
          "symbol": "circle"
         },
         "mode": "markers",
         "name": "Libya",
         "orientation": "v",
         "showlegend": true,
         "type": "scatter",
         "x": [
          9467.446056
         ],
         "xaxis": "x7",
         "y": [
          71.555
         ],
         "yaxis": "y7"
        },
        {
         "hovertemplate": "country=Libya<br>continent=Africa<br>year=2002<br>gdpPercap=%{x}<br>lifeExp=%{y}<extra></extra>",
         "legendgroup": "Libya",
         "marker": {
          "color": "rgb(147,120,96)",
          "symbol": "circle"
         },
         "mode": "markers",
         "name": "Libya",
         "orientation": "v",
         "showlegend": false,
         "type": "scatter",
         "x": [
          9534.677467
         ],
         "xaxis": "x8",
         "y": [
          72.737
         ],
         "yaxis": "y8"
        },
        {
         "hovertemplate": "country=Libya<br>continent=Africa<br>year=2007<br>gdpPercap=%{x}<br>lifeExp=%{y}<extra></extra>",
         "legendgroup": "Libya",
         "marker": {
          "color": "rgb(147,120,96)",
          "symbol": "circle"
         },
         "mode": "markers",
         "name": "Libya",
         "orientation": "v",
         "showlegend": false,
         "type": "scatter",
         "x": [
          12057.49928
         ],
         "xaxis": "x9",
         "y": [
          73.952
         ],
         "yaxis": "y9"
        },
        {
         "hovertemplate": "country=Madagascar<br>continent=Africa<br>year=1997<br>gdpPercap=%{x}<br>lifeExp=%{y}<extra></extra>",
         "legendgroup": "Madagascar",
         "marker": {
          "color": "rgb(218,139,195)",
          "symbol": "circle"
         },
         "mode": "markers",
         "name": "Madagascar",
         "orientation": "v",
         "showlegend": true,
         "type": "scatter",
         "x": [
          986.2958956
         ],
         "xaxis": "x7",
         "y": [
          54.978
         ],
         "yaxis": "y7"
        },
        {
         "hovertemplate": "country=Madagascar<br>continent=Africa<br>year=2002<br>gdpPercap=%{x}<br>lifeExp=%{y}<extra></extra>",
         "legendgroup": "Madagascar",
         "marker": {
          "color": "rgb(218,139,195)",
          "symbol": "circle"
         },
         "mode": "markers",
         "name": "Madagascar",
         "orientation": "v",
         "showlegend": false,
         "type": "scatter",
         "x": [
          894.6370822
         ],
         "xaxis": "x8",
         "y": [
          57.286
         ],
         "yaxis": "y8"
        },
        {
         "hovertemplate": "country=Madagascar<br>continent=Africa<br>year=2007<br>gdpPercap=%{x}<br>lifeExp=%{y}<extra></extra>",
         "legendgroup": "Madagascar",
         "marker": {
          "color": "rgb(218,139,195)",
          "symbol": "circle"
         },
         "mode": "markers",
         "name": "Madagascar",
         "orientation": "v",
         "showlegend": false,
         "type": "scatter",
         "x": [
          1044.770126
         ],
         "xaxis": "x9",
         "y": [
          59.44300000000001
         ],
         "yaxis": "y9"
        },
        {
         "hovertemplate": "country=Malawi<br>continent=Africa<br>year=1997<br>gdpPercap=%{x}<br>lifeExp=%{y}<extra></extra>",
         "legendgroup": "Malawi",
         "marker": {
          "color": "rgb(140,140,140)",
          "symbol": "circle"
         },
         "mode": "markers",
         "name": "Malawi",
         "orientation": "v",
         "showlegend": true,
         "type": "scatter",
         "x": [
          692.2758102999999
         ],
         "xaxis": "x7",
         "y": [
          47.495
         ],
         "yaxis": "y7"
        },
        {
         "hovertemplate": "country=Malawi<br>continent=Africa<br>year=2002<br>gdpPercap=%{x}<br>lifeExp=%{y}<extra></extra>",
         "legendgroup": "Malawi",
         "marker": {
          "color": "rgb(140,140,140)",
          "symbol": "circle"
         },
         "mode": "markers",
         "name": "Malawi",
         "orientation": "v",
         "showlegend": false,
         "type": "scatter",
         "x": [
          665.4231186000002
         ],
         "xaxis": "x8",
         "y": [
          45.00899999999999
         ],
         "yaxis": "y8"
        },
        {
         "hovertemplate": "country=Malawi<br>continent=Africa<br>year=2007<br>gdpPercap=%{x}<br>lifeExp=%{y}<extra></extra>",
         "legendgroup": "Malawi",
         "marker": {
          "color": "rgb(140,140,140)",
          "symbol": "circle"
         },
         "mode": "markers",
         "name": "Malawi",
         "orientation": "v",
         "showlegend": false,
         "type": "scatter",
         "x": [
          759.3499101
         ],
         "xaxis": "x9",
         "y": [
          48.303000000000004
         ],
         "yaxis": "y9"
        },
        {
         "hovertemplate": "country=Malaysia<br>continent=Asia<br>year=1997<br>gdpPercap=%{x}<br>lifeExp=%{y}<extra></extra>",
         "legendgroup": "Malaysia",
         "marker": {
          "color": "rgb(204,185,116)",
          "symbol": "circle"
         },
         "mode": "markers",
         "name": "Malaysia",
         "orientation": "v",
         "showlegend": true,
         "type": "scatter",
         "x": [
          10132.90964
         ],
         "xaxis": "x13",
         "y": [
          71.938
         ],
         "yaxis": "y13"
        },
        {
         "hovertemplate": "country=Malaysia<br>continent=Asia<br>year=2002<br>gdpPercap=%{x}<br>lifeExp=%{y}<extra></extra>",
         "legendgroup": "Malaysia",
         "marker": {
          "color": "rgb(204,185,116)",
          "symbol": "circle"
         },
         "mode": "markers",
         "name": "Malaysia",
         "orientation": "v",
         "showlegend": false,
         "type": "scatter",
         "x": [
          10206.97794
         ],
         "xaxis": "x14",
         "y": [
          73.044
         ],
         "yaxis": "y14"
        },
        {
         "hovertemplate": "country=Malaysia<br>continent=Asia<br>year=2007<br>gdpPercap=%{x}<br>lifeExp=%{y}<extra></extra>",
         "legendgroup": "Malaysia",
         "marker": {
          "color": "rgb(204,185,116)",
          "symbol": "circle"
         },
         "mode": "markers",
         "name": "Malaysia",
         "orientation": "v",
         "showlegend": false,
         "type": "scatter",
         "x": [
          12451.6558
         ],
         "xaxis": "x15",
         "y": [
          74.241
         ],
         "yaxis": "y15"
        },
        {
         "hovertemplate": "country=Mali<br>continent=Africa<br>year=1997<br>gdpPercap=%{x}<br>lifeExp=%{y}<extra></extra>",
         "legendgroup": "Mali",
         "marker": {
          "color": "rgb(100,181,205)",
          "symbol": "circle"
         },
         "mode": "markers",
         "name": "Mali",
         "orientation": "v",
         "showlegend": true,
         "type": "scatter",
         "x": [
          790.2579846
         ],
         "xaxis": "x7",
         "y": [
          49.903
         ],
         "yaxis": "y7"
        },
        {
         "hovertemplate": "country=Mali<br>continent=Africa<br>year=2002<br>gdpPercap=%{x}<br>lifeExp=%{y}<extra></extra>",
         "legendgroup": "Mali",
         "marker": {
          "color": "rgb(100,181,205)",
          "symbol": "circle"
         },
         "mode": "markers",
         "name": "Mali",
         "orientation": "v",
         "showlegend": false,
         "type": "scatter",
         "x": [
          951.4097517999999
         ],
         "xaxis": "x8",
         "y": [
          51.81800000000001
         ],
         "yaxis": "y8"
        },
        {
         "hovertemplate": "country=Mali<br>continent=Africa<br>year=2007<br>gdpPercap=%{x}<br>lifeExp=%{y}<extra></extra>",
         "legendgroup": "Mali",
         "marker": {
          "color": "rgb(100,181,205)",
          "symbol": "circle"
         },
         "mode": "markers",
         "name": "Mali",
         "orientation": "v",
         "showlegend": false,
         "type": "scatter",
         "x": [
          1042.581557
         ],
         "xaxis": "x9",
         "y": [
          54.467
         ],
         "yaxis": "y9"
        },
        {
         "hovertemplate": "country=Mauritania<br>continent=Africa<br>year=1997<br>gdpPercap=%{x}<br>lifeExp=%{y}<extra></extra>",
         "legendgroup": "Mauritania",
         "marker": {
          "color": "rgb(76,114,176)",
          "symbol": "circle"
         },
         "mode": "markers",
         "name": "Mauritania",
         "orientation": "v",
         "showlegend": true,
         "type": "scatter",
         "x": [
          1483.1361359999999
         ],
         "xaxis": "x7",
         "y": [
          60.43
         ],
         "yaxis": "y7"
        },
        {
         "hovertemplate": "country=Mauritania<br>continent=Africa<br>year=2002<br>gdpPercap=%{x}<br>lifeExp=%{y}<extra></extra>",
         "legendgroup": "Mauritania",
         "marker": {
          "color": "rgb(76,114,176)",
          "symbol": "circle"
         },
         "mode": "markers",
         "name": "Mauritania",
         "orientation": "v",
         "showlegend": false,
         "type": "scatter",
         "x": [
          1579.0195429999999
         ],
         "xaxis": "x8",
         "y": [
          62.247
         ],
         "yaxis": "y8"
        },
        {
         "hovertemplate": "country=Mauritania<br>continent=Africa<br>year=2007<br>gdpPercap=%{x}<br>lifeExp=%{y}<extra></extra>",
         "legendgroup": "Mauritania",
         "marker": {
          "color": "rgb(76,114,176)",
          "symbol": "circle"
         },
         "mode": "markers",
         "name": "Mauritania",
         "orientation": "v",
         "showlegend": false,
         "type": "scatter",
         "x": [
          1803.1514960000002
         ],
         "xaxis": "x9",
         "y": [
          64.164
         ],
         "yaxis": "y9"
        },
        {
         "hovertemplate": "country=Mauritius<br>continent=Africa<br>year=1997<br>gdpPercap=%{x}<br>lifeExp=%{y}<extra></extra>",
         "legendgroup": "Mauritius",
         "marker": {
          "color": "rgb(221,132,82)",
          "symbol": "circle"
         },
         "mode": "markers",
         "name": "Mauritius",
         "orientation": "v",
         "showlegend": true,
         "type": "scatter",
         "x": [
          7425.7052950000025
         ],
         "xaxis": "x7",
         "y": [
          70.736
         ],
         "yaxis": "y7"
        },
        {
         "hovertemplate": "country=Mauritius<br>continent=Africa<br>year=2002<br>gdpPercap=%{x}<br>lifeExp=%{y}<extra></extra>",
         "legendgroup": "Mauritius",
         "marker": {
          "color": "rgb(221,132,82)",
          "symbol": "circle"
         },
         "mode": "markers",
         "name": "Mauritius",
         "orientation": "v",
         "showlegend": false,
         "type": "scatter",
         "x": [
          9021.815894
         ],
         "xaxis": "x8",
         "y": [
          71.954
         ],
         "yaxis": "y8"
        },
        {
         "hovertemplate": "country=Mauritius<br>continent=Africa<br>year=2007<br>gdpPercap=%{x}<br>lifeExp=%{y}<extra></extra>",
         "legendgroup": "Mauritius",
         "marker": {
          "color": "rgb(221,132,82)",
          "symbol": "circle"
         },
         "mode": "markers",
         "name": "Mauritius",
         "orientation": "v",
         "showlegend": false,
         "type": "scatter",
         "x": [
          10956.99112
         ],
         "xaxis": "x9",
         "y": [
          72.801
         ],
         "yaxis": "y9"
        },
        {
         "hovertemplate": "country=Mexico<br>continent=Americas<br>year=1997<br>gdpPercap=%{x}<br>lifeExp=%{y}<extra></extra>",
         "legendgroup": "Mexico",
         "marker": {
          "color": "rgb(85,168,104)",
          "symbol": "circle"
         },
         "mode": "markers",
         "name": "Mexico",
         "orientation": "v",
         "showlegend": true,
         "type": "scatter",
         "x": [
          9767.29753
         ],
         "xaxis": "x4",
         "y": [
          73.67
         ],
         "yaxis": "y4"
        },
        {
         "hovertemplate": "country=Mexico<br>continent=Americas<br>year=2002<br>gdpPercap=%{x}<br>lifeExp=%{y}<extra></extra>",
         "legendgroup": "Mexico",
         "marker": {
          "color": "rgb(85,168,104)",
          "symbol": "circle"
         },
         "mode": "markers",
         "name": "Mexico",
         "orientation": "v",
         "showlegend": false,
         "type": "scatter",
         "x": [
          10742.44053
         ],
         "xaxis": "x5",
         "y": [
          74.902
         ],
         "yaxis": "y5"
        },
        {
         "hovertemplate": "country=Mexico<br>continent=Americas<br>year=2007<br>gdpPercap=%{x}<br>lifeExp=%{y}<extra></extra>",
         "legendgroup": "Mexico",
         "marker": {
          "color": "rgb(85,168,104)",
          "symbol": "circle"
         },
         "mode": "markers",
         "name": "Mexico",
         "orientation": "v",
         "showlegend": false,
         "type": "scatter",
         "x": [
          11977.57496
         ],
         "xaxis": "x6",
         "y": [
          76.195
         ],
         "yaxis": "y6"
        },
        {
         "hovertemplate": "country=Mongolia<br>continent=Asia<br>year=1997<br>gdpPercap=%{x}<br>lifeExp=%{y}<extra></extra>",
         "legendgroup": "Mongolia",
         "marker": {
          "color": "rgb(196,78,82)",
          "symbol": "circle"
         },
         "mode": "markers",
         "name": "Mongolia",
         "orientation": "v",
         "showlegend": true,
         "type": "scatter",
         "x": [
          1902.2521
         ],
         "xaxis": "x13",
         "y": [
          63.625
         ],
         "yaxis": "y13"
        },
        {
         "hovertemplate": "country=Mongolia<br>continent=Asia<br>year=2002<br>gdpPercap=%{x}<br>lifeExp=%{y}<extra></extra>",
         "legendgroup": "Mongolia",
         "marker": {
          "color": "rgb(196,78,82)",
          "symbol": "circle"
         },
         "mode": "markers",
         "name": "Mongolia",
         "orientation": "v",
         "showlegend": false,
         "type": "scatter",
         "x": [
          2140.7393230000002
         ],
         "xaxis": "x14",
         "y": [
          65.033
         ],
         "yaxis": "y14"
        },
        {
         "hovertemplate": "country=Mongolia<br>continent=Asia<br>year=2007<br>gdpPercap=%{x}<br>lifeExp=%{y}<extra></extra>",
         "legendgroup": "Mongolia",
         "marker": {
          "color": "rgb(196,78,82)",
          "symbol": "circle"
         },
         "mode": "markers",
         "name": "Mongolia",
         "orientation": "v",
         "showlegend": false,
         "type": "scatter",
         "x": [
          3095.772271000001
         ],
         "xaxis": "x15",
         "y": [
          66.803
         ],
         "yaxis": "y15"
        },
        {
         "hovertemplate": "country=Montenegro<br>continent=Europe<br>year=1997<br>gdpPercap=%{x}<br>lifeExp=%{y}<extra></extra>",
         "legendgroup": "Montenegro",
         "marker": {
          "color": "rgb(129,114,179)",
          "symbol": "circle"
         },
         "mode": "markers",
         "name": "Montenegro",
         "orientation": "v",
         "showlegend": true,
         "type": "scatter",
         "x": [
          6465.613349
         ],
         "xaxis": "x10",
         "y": [
          75.445
         ],
         "yaxis": "y10"
        },
        {
         "hovertemplate": "country=Montenegro<br>continent=Europe<br>year=2002<br>gdpPercap=%{x}<br>lifeExp=%{y}<extra></extra>",
         "legendgroup": "Montenegro",
         "marker": {
          "color": "rgb(129,114,179)",
          "symbol": "circle"
         },
         "mode": "markers",
         "name": "Montenegro",
         "orientation": "v",
         "showlegend": false,
         "type": "scatter",
         "x": [
          6557.194282
         ],
         "xaxis": "x11",
         "y": [
          73.98100000000002
         ],
         "yaxis": "y11"
        },
        {
         "hovertemplate": "country=Montenegro<br>continent=Europe<br>year=2007<br>gdpPercap=%{x}<br>lifeExp=%{y}<extra></extra>",
         "legendgroup": "Montenegro",
         "marker": {
          "color": "rgb(129,114,179)",
          "symbol": "circle"
         },
         "mode": "markers",
         "name": "Montenegro",
         "orientation": "v",
         "showlegend": false,
         "type": "scatter",
         "x": [
          9253.896111
         ],
         "xaxis": "x12",
         "y": [
          74.543
         ],
         "yaxis": "y12"
        },
        {
         "hovertemplate": "country=Morocco<br>continent=Africa<br>year=1997<br>gdpPercap=%{x}<br>lifeExp=%{y}<extra></extra>",
         "legendgroup": "Morocco",
         "marker": {
          "color": "rgb(147,120,96)",
          "symbol": "circle"
         },
         "mode": "markers",
         "name": "Morocco",
         "orientation": "v",
         "showlegend": true,
         "type": "scatter",
         "x": [
          2982.101858
         ],
         "xaxis": "x7",
         "y": [
          67.66
         ],
         "yaxis": "y7"
        },
        {
         "hovertemplate": "country=Morocco<br>continent=Africa<br>year=2002<br>gdpPercap=%{x}<br>lifeExp=%{y}<extra></extra>",
         "legendgroup": "Morocco",
         "marker": {
          "color": "rgb(147,120,96)",
          "symbol": "circle"
         },
         "mode": "markers",
         "name": "Morocco",
         "orientation": "v",
         "showlegend": false,
         "type": "scatter",
         "x": [
          3258.495584
         ],
         "xaxis": "x8",
         "y": [
          69.615
         ],
         "yaxis": "y8"
        },
        {
         "hovertemplate": "country=Morocco<br>continent=Africa<br>year=2007<br>gdpPercap=%{x}<br>lifeExp=%{y}<extra></extra>",
         "legendgroup": "Morocco",
         "marker": {
          "color": "rgb(147,120,96)",
          "symbol": "circle"
         },
         "mode": "markers",
         "name": "Morocco",
         "orientation": "v",
         "showlegend": false,
         "type": "scatter",
         "x": [
          3820.17523
         ],
         "xaxis": "x9",
         "y": [
          71.164
         ],
         "yaxis": "y9"
        },
        {
         "hovertemplate": "country=Mozambique<br>continent=Africa<br>year=1997<br>gdpPercap=%{x}<br>lifeExp=%{y}<extra></extra>",
         "legendgroup": "Mozambique",
         "marker": {
          "color": "rgb(218,139,195)",
          "symbol": "circle"
         },
         "mode": "markers",
         "name": "Mozambique",
         "orientation": "v",
         "showlegend": true,
         "type": "scatter",
         "x": [
          472.34607710000006
         ],
         "xaxis": "x7",
         "y": [
          46.343999999999994
         ],
         "yaxis": "y7"
        },
        {
         "hovertemplate": "country=Mozambique<br>continent=Africa<br>year=2002<br>gdpPercap=%{x}<br>lifeExp=%{y}<extra></extra>",
         "legendgroup": "Mozambique",
         "marker": {
          "color": "rgb(218,139,195)",
          "symbol": "circle"
         },
         "mode": "markers",
         "name": "Mozambique",
         "orientation": "v",
         "showlegend": false,
         "type": "scatter",
         "x": [
          633.6179466
         ],
         "xaxis": "x8",
         "y": [
          44.026
         ],
         "yaxis": "y8"
        },
        {
         "hovertemplate": "country=Mozambique<br>continent=Africa<br>year=2007<br>gdpPercap=%{x}<br>lifeExp=%{y}<extra></extra>",
         "legendgroup": "Mozambique",
         "marker": {
          "color": "rgb(218,139,195)",
          "symbol": "circle"
         },
         "mode": "markers",
         "name": "Mozambique",
         "orientation": "v",
         "showlegend": false,
         "type": "scatter",
         "x": [
          823.6856205
         ],
         "xaxis": "x9",
         "y": [
          42.082
         ],
         "yaxis": "y9"
        },
        {
         "hovertemplate": "country=Myanmar<br>continent=Asia<br>year=1997<br>gdpPercap=%{x}<br>lifeExp=%{y}<extra></extra>",
         "legendgroup": "Myanmar",
         "marker": {
          "color": "rgb(140,140,140)",
          "symbol": "circle"
         },
         "mode": "markers",
         "name": "Myanmar",
         "orientation": "v",
         "showlegend": true,
         "type": "scatter",
         "x": [
          415
         ],
         "xaxis": "x13",
         "y": [
          60.328
         ],
         "yaxis": "y13"
        },
        {
         "hovertemplate": "country=Myanmar<br>continent=Asia<br>year=2002<br>gdpPercap=%{x}<br>lifeExp=%{y}<extra></extra>",
         "legendgroup": "Myanmar",
         "marker": {
          "color": "rgb(140,140,140)",
          "symbol": "circle"
         },
         "mode": "markers",
         "name": "Myanmar",
         "orientation": "v",
         "showlegend": false,
         "type": "scatter",
         "x": [
          611
         ],
         "xaxis": "x14",
         "y": [
          59.908
         ],
         "yaxis": "y14"
        },
        {
         "hovertemplate": "country=Myanmar<br>continent=Asia<br>year=2007<br>gdpPercap=%{x}<br>lifeExp=%{y}<extra></extra>",
         "legendgroup": "Myanmar",
         "marker": {
          "color": "rgb(140,140,140)",
          "symbol": "circle"
         },
         "mode": "markers",
         "name": "Myanmar",
         "orientation": "v",
         "showlegend": false,
         "type": "scatter",
         "x": [
          944
         ],
         "xaxis": "x15",
         "y": [
          62.068999999999996
         ],
         "yaxis": "y15"
        },
        {
         "hovertemplate": "country=Namibia<br>continent=Africa<br>year=1997<br>gdpPercap=%{x}<br>lifeExp=%{y}<extra></extra>",
         "legendgroup": "Namibia",
         "marker": {
          "color": "rgb(204,185,116)",
          "symbol": "circle"
         },
         "mode": "markers",
         "name": "Namibia",
         "orientation": "v",
         "showlegend": true,
         "type": "scatter",
         "x": [
          3899.52426
         ],
         "xaxis": "x7",
         "y": [
          58.909
         ],
         "yaxis": "y7"
        },
        {
         "hovertemplate": "country=Namibia<br>continent=Africa<br>year=2002<br>gdpPercap=%{x}<br>lifeExp=%{y}<extra></extra>",
         "legendgroup": "Namibia",
         "marker": {
          "color": "rgb(204,185,116)",
          "symbol": "circle"
         },
         "mode": "markers",
         "name": "Namibia",
         "orientation": "v",
         "showlegend": false,
         "type": "scatter",
         "x": [
          4072.3247509999997
         ],
         "xaxis": "x8",
         "y": [
          51.479
         ],
         "yaxis": "y8"
        },
        {
         "hovertemplate": "country=Namibia<br>continent=Africa<br>year=2007<br>gdpPercap=%{x}<br>lifeExp=%{y}<extra></extra>",
         "legendgroup": "Namibia",
         "marker": {
          "color": "rgb(204,185,116)",
          "symbol": "circle"
         },
         "mode": "markers",
         "name": "Namibia",
         "orientation": "v",
         "showlegend": false,
         "type": "scatter",
         "x": [
          4811.060429
         ],
         "xaxis": "x9",
         "y": [
          52.90600000000001
         ],
         "yaxis": "y9"
        },
        {
         "hovertemplate": "country=Nepal<br>continent=Asia<br>year=1997<br>gdpPercap=%{x}<br>lifeExp=%{y}<extra></extra>",
         "legendgroup": "Nepal",
         "marker": {
          "color": "rgb(100,181,205)",
          "symbol": "circle"
         },
         "mode": "markers",
         "name": "Nepal",
         "orientation": "v",
         "showlegend": true,
         "type": "scatter",
         "x": [
          1010.892138
         ],
         "xaxis": "x13",
         "y": [
          59.426
         ],
         "yaxis": "y13"
        },
        {
         "hovertemplate": "country=Nepal<br>continent=Asia<br>year=2002<br>gdpPercap=%{x}<br>lifeExp=%{y}<extra></extra>",
         "legendgroup": "Nepal",
         "marker": {
          "color": "rgb(100,181,205)",
          "symbol": "circle"
         },
         "mode": "markers",
         "name": "Nepal",
         "orientation": "v",
         "showlegend": false,
         "type": "scatter",
         "x": [
          1057.206311
         ],
         "xaxis": "x14",
         "y": [
          61.34
         ],
         "yaxis": "y14"
        },
        {
         "hovertemplate": "country=Nepal<br>continent=Asia<br>year=2007<br>gdpPercap=%{x}<br>lifeExp=%{y}<extra></extra>",
         "legendgroup": "Nepal",
         "marker": {
          "color": "rgb(100,181,205)",
          "symbol": "circle"
         },
         "mode": "markers",
         "name": "Nepal",
         "orientation": "v",
         "showlegend": false,
         "type": "scatter",
         "x": [
          1091.359778
         ],
         "xaxis": "x15",
         "y": [
          63.785
         ],
         "yaxis": "y15"
        },
        {
         "hovertemplate": "country=Netherlands<br>continent=Europe<br>year=1997<br>gdpPercap=%{x}<br>lifeExp=%{y}<extra></extra>",
         "legendgroup": "Netherlands",
         "marker": {
          "color": "rgb(76,114,176)",
          "symbol": "circle"
         },
         "mode": "markers",
         "name": "Netherlands",
         "orientation": "v",
         "showlegend": true,
         "type": "scatter",
         "x": [
          30246.13063
         ],
         "xaxis": "x10",
         "y": [
          78.03
         ],
         "yaxis": "y10"
        },
        {
         "hovertemplate": "country=Netherlands<br>continent=Europe<br>year=2002<br>gdpPercap=%{x}<br>lifeExp=%{y}<extra></extra>",
         "legendgroup": "Netherlands",
         "marker": {
          "color": "rgb(76,114,176)",
          "symbol": "circle"
         },
         "mode": "markers",
         "name": "Netherlands",
         "orientation": "v",
         "showlegend": false,
         "type": "scatter",
         "x": [
          33724.75778
         ],
         "xaxis": "x11",
         "y": [
          78.53
         ],
         "yaxis": "y11"
        },
        {
         "hovertemplate": "country=Netherlands<br>continent=Europe<br>year=2007<br>gdpPercap=%{x}<br>lifeExp=%{y}<extra></extra>",
         "legendgroup": "Netherlands",
         "marker": {
          "color": "rgb(76,114,176)",
          "symbol": "circle"
         },
         "mode": "markers",
         "name": "Netherlands",
         "orientation": "v",
         "showlegend": false,
         "type": "scatter",
         "x": [
          36797.93332
         ],
         "xaxis": "x12",
         "y": [
          79.762
         ],
         "yaxis": "y12"
        },
        {
         "hovertemplate": "country=New Zealand<br>continent=Oceania<br>year=1997<br>gdpPercap=%{x}<br>lifeExp=%{y}<extra></extra>",
         "legendgroup": "New Zealand",
         "marker": {
          "color": "rgb(221,132,82)",
          "symbol": "circle"
         },
         "mode": "markers",
         "name": "New Zealand",
         "orientation": "v",
         "showlegend": true,
         "type": "scatter",
         "x": [
          21050.41377
         ],
         "xaxis": "x",
         "y": [
          77.55
         ],
         "yaxis": "y"
        },
        {
         "hovertemplate": "country=New Zealand<br>continent=Oceania<br>year=2002<br>gdpPercap=%{x}<br>lifeExp=%{y}<extra></extra>",
         "legendgroup": "New Zealand",
         "marker": {
          "color": "rgb(221,132,82)",
          "symbol": "circle"
         },
         "mode": "markers",
         "name": "New Zealand",
         "orientation": "v",
         "showlegend": false,
         "type": "scatter",
         "x": [
          23189.80135
         ],
         "xaxis": "x2",
         "y": [
          79.11
         ],
         "yaxis": "y2"
        },
        {
         "hovertemplate": "country=New Zealand<br>continent=Oceania<br>year=2007<br>gdpPercap=%{x}<br>lifeExp=%{y}<extra></extra>",
         "legendgroup": "New Zealand",
         "marker": {
          "color": "rgb(221,132,82)",
          "symbol": "circle"
         },
         "mode": "markers",
         "name": "New Zealand",
         "orientation": "v",
         "showlegend": false,
         "type": "scatter",
         "x": [
          25185.00911
         ],
         "xaxis": "x3",
         "y": [
          80.204
         ],
         "yaxis": "y3"
        },
        {
         "hovertemplate": "country=Nicaragua<br>continent=Americas<br>year=1997<br>gdpPercap=%{x}<br>lifeExp=%{y}<extra></extra>",
         "legendgroup": "Nicaragua",
         "marker": {
          "color": "rgb(85,168,104)",
          "symbol": "circle"
         },
         "mode": "markers",
         "name": "Nicaragua",
         "orientation": "v",
         "showlegend": true,
         "type": "scatter",
         "x": [
          2253.023004
         ],
         "xaxis": "x4",
         "y": [
          68.426
         ],
         "yaxis": "y4"
        },
        {
         "hovertemplate": "country=Nicaragua<br>continent=Americas<br>year=2002<br>gdpPercap=%{x}<br>lifeExp=%{y}<extra></extra>",
         "legendgroup": "Nicaragua",
         "marker": {
          "color": "rgb(85,168,104)",
          "symbol": "circle"
         },
         "mode": "markers",
         "name": "Nicaragua",
         "orientation": "v",
         "showlegend": false,
         "type": "scatter",
         "x": [
          2474.548819
         ],
         "xaxis": "x5",
         "y": [
          70.836
         ],
         "yaxis": "y5"
        },
        {
         "hovertemplate": "country=Nicaragua<br>continent=Americas<br>year=2007<br>gdpPercap=%{x}<br>lifeExp=%{y}<extra></extra>",
         "legendgroup": "Nicaragua",
         "marker": {
          "color": "rgb(85,168,104)",
          "symbol": "circle"
         },
         "mode": "markers",
         "name": "Nicaragua",
         "orientation": "v",
         "showlegend": false,
         "type": "scatter",
         "x": [
          2749.320965
         ],
         "xaxis": "x6",
         "y": [
          72.899
         ],
         "yaxis": "y6"
        },
        {
         "hovertemplate": "country=Niger<br>continent=Africa<br>year=1997<br>gdpPercap=%{x}<br>lifeExp=%{y}<extra></extra>",
         "legendgroup": "Niger",
         "marker": {
          "color": "rgb(196,78,82)",
          "symbol": "circle"
         },
         "mode": "markers",
         "name": "Niger",
         "orientation": "v",
         "showlegend": true,
         "type": "scatter",
         "x": [
          580.3052092
         ],
         "xaxis": "x7",
         "y": [
          51.313
         ],
         "yaxis": "y7"
        },
        {
         "hovertemplate": "country=Niger<br>continent=Africa<br>year=2002<br>gdpPercap=%{x}<br>lifeExp=%{y}<extra></extra>",
         "legendgroup": "Niger",
         "marker": {
          "color": "rgb(196,78,82)",
          "symbol": "circle"
         },
         "mode": "markers",
         "name": "Niger",
         "orientation": "v",
         "showlegend": false,
         "type": "scatter",
         "x": [
          601.0745012
         ],
         "xaxis": "x8",
         "y": [
          54.496
         ],
         "yaxis": "y8"
        },
        {
         "hovertemplate": "country=Niger<br>continent=Africa<br>year=2007<br>gdpPercap=%{x}<br>lifeExp=%{y}<extra></extra>",
         "legendgroup": "Niger",
         "marker": {
          "color": "rgb(196,78,82)",
          "symbol": "circle"
         },
         "mode": "markers",
         "name": "Niger",
         "orientation": "v",
         "showlegend": false,
         "type": "scatter",
         "x": [
          619.6768923999998
         ],
         "xaxis": "x9",
         "y": [
          56.867
         ],
         "yaxis": "y9"
        },
        {
         "hovertemplate": "country=Nigeria<br>continent=Africa<br>year=1997<br>gdpPercap=%{x}<br>lifeExp=%{y}<extra></extra>",
         "legendgroup": "Nigeria",
         "marker": {
          "color": "rgb(129,114,179)",
          "symbol": "circle"
         },
         "mode": "markers",
         "name": "Nigeria",
         "orientation": "v",
         "showlegend": true,
         "type": "scatter",
         "x": [
          1624.941275
         ],
         "xaxis": "x7",
         "y": [
          47.464
         ],
         "yaxis": "y7"
        },
        {
         "hovertemplate": "country=Nigeria<br>continent=Africa<br>year=2002<br>gdpPercap=%{x}<br>lifeExp=%{y}<extra></extra>",
         "legendgroup": "Nigeria",
         "marker": {
          "color": "rgb(129,114,179)",
          "symbol": "circle"
         },
         "mode": "markers",
         "name": "Nigeria",
         "orientation": "v",
         "showlegend": false,
         "type": "scatter",
         "x": [
          1615.2863949999999
         ],
         "xaxis": "x8",
         "y": [
          46.608000000000004
         ],
         "yaxis": "y8"
        },
        {
         "hovertemplate": "country=Nigeria<br>continent=Africa<br>year=2007<br>gdpPercap=%{x}<br>lifeExp=%{y}<extra></extra>",
         "legendgroup": "Nigeria",
         "marker": {
          "color": "rgb(129,114,179)",
          "symbol": "circle"
         },
         "mode": "markers",
         "name": "Nigeria",
         "orientation": "v",
         "showlegend": false,
         "type": "scatter",
         "x": [
          2013.9773050000001
         ],
         "xaxis": "x9",
         "y": [
          46.858999999999995
         ],
         "yaxis": "y9"
        },
        {
         "hovertemplate": "country=Norway<br>continent=Europe<br>year=1997<br>gdpPercap=%{x}<br>lifeExp=%{y}<extra></extra>",
         "legendgroup": "Norway",
         "marker": {
          "color": "rgb(147,120,96)",
          "symbol": "circle"
         },
         "mode": "markers",
         "name": "Norway",
         "orientation": "v",
         "showlegend": true,
         "type": "scatter",
         "x": [
          41283.16433
         ],
         "xaxis": "x10",
         "y": [
          78.32
         ],
         "yaxis": "y10"
        },
        {
         "hovertemplate": "country=Norway<br>continent=Europe<br>year=2002<br>gdpPercap=%{x}<br>lifeExp=%{y}<extra></extra>",
         "legendgroup": "Norway",
         "marker": {
          "color": "rgb(147,120,96)",
          "symbol": "circle"
         },
         "mode": "markers",
         "name": "Norway",
         "orientation": "v",
         "showlegend": false,
         "type": "scatter",
         "x": [
          44683.97525
         ],
         "xaxis": "x11",
         "y": [
          79.05
         ],
         "yaxis": "y11"
        },
        {
         "hovertemplate": "country=Norway<br>continent=Europe<br>year=2007<br>gdpPercap=%{x}<br>lifeExp=%{y}<extra></extra>",
         "legendgroup": "Norway",
         "marker": {
          "color": "rgb(147,120,96)",
          "symbol": "circle"
         },
         "mode": "markers",
         "name": "Norway",
         "orientation": "v",
         "showlegend": false,
         "type": "scatter",
         "x": [
          49357.19017
         ],
         "xaxis": "x12",
         "y": [
          80.196
         ],
         "yaxis": "y12"
        },
        {
         "hovertemplate": "country=Oman<br>continent=Asia<br>year=1997<br>gdpPercap=%{x}<br>lifeExp=%{y}<extra></extra>",
         "legendgroup": "Oman",
         "marker": {
          "color": "rgb(218,139,195)",
          "symbol": "circle"
         },
         "mode": "markers",
         "name": "Oman",
         "orientation": "v",
         "showlegend": true,
         "type": "scatter",
         "x": [
          19702.055809999998
         ],
         "xaxis": "x13",
         "y": [
          72.499
         ],
         "yaxis": "y13"
        },
        {
         "hovertemplate": "country=Oman<br>continent=Asia<br>year=2002<br>gdpPercap=%{x}<br>lifeExp=%{y}<extra></extra>",
         "legendgroup": "Oman",
         "marker": {
          "color": "rgb(218,139,195)",
          "symbol": "circle"
         },
         "mode": "markers",
         "name": "Oman",
         "orientation": "v",
         "showlegend": false,
         "type": "scatter",
         "x": [
          19774.83687
         ],
         "xaxis": "x14",
         "y": [
          74.193
         ],
         "yaxis": "y14"
        },
        {
         "hovertemplate": "country=Oman<br>continent=Asia<br>year=2007<br>gdpPercap=%{x}<br>lifeExp=%{y}<extra></extra>",
         "legendgroup": "Oman",
         "marker": {
          "color": "rgb(218,139,195)",
          "symbol": "circle"
         },
         "mode": "markers",
         "name": "Oman",
         "orientation": "v",
         "showlegend": false,
         "type": "scatter",
         "x": [
          22316.19287
         ],
         "xaxis": "x15",
         "y": [
          75.64
         ],
         "yaxis": "y15"
        },
        {
         "hovertemplate": "country=Pakistan<br>continent=Asia<br>year=1997<br>gdpPercap=%{x}<br>lifeExp=%{y}<extra></extra>",
         "legendgroup": "Pakistan",
         "marker": {
          "color": "rgb(140,140,140)",
          "symbol": "circle"
         },
         "mode": "markers",
         "name": "Pakistan",
         "orientation": "v",
         "showlegend": true,
         "type": "scatter",
         "x": [
          2049.3505210000008
         ],
         "xaxis": "x13",
         "y": [
          61.81800000000001
         ],
         "yaxis": "y13"
        },
        {
         "hovertemplate": "country=Pakistan<br>continent=Asia<br>year=2002<br>gdpPercap=%{x}<br>lifeExp=%{y}<extra></extra>",
         "legendgroup": "Pakistan",
         "marker": {
          "color": "rgb(140,140,140)",
          "symbol": "circle"
         },
         "mode": "markers",
         "name": "Pakistan",
         "orientation": "v",
         "showlegend": false,
         "type": "scatter",
         "x": [
          2092.712441
         ],
         "xaxis": "x14",
         "y": [
          63.61
         ],
         "yaxis": "y14"
        },
        {
         "hovertemplate": "country=Pakistan<br>continent=Asia<br>year=2007<br>gdpPercap=%{x}<br>lifeExp=%{y}<extra></extra>",
         "legendgroup": "Pakistan",
         "marker": {
          "color": "rgb(140,140,140)",
          "symbol": "circle"
         },
         "mode": "markers",
         "name": "Pakistan",
         "orientation": "v",
         "showlegend": false,
         "type": "scatter",
         "x": [
          2605.94758
         ],
         "xaxis": "x15",
         "y": [
          65.483
         ],
         "yaxis": "y15"
        },
        {
         "hovertemplate": "country=Panama<br>continent=Americas<br>year=1997<br>gdpPercap=%{x}<br>lifeExp=%{y}<extra></extra>",
         "legendgroup": "Panama",
         "marker": {
          "color": "rgb(204,185,116)",
          "symbol": "circle"
         },
         "mode": "markers",
         "name": "Panama",
         "orientation": "v",
         "showlegend": true,
         "type": "scatter",
         "x": [
          7113.692252
         ],
         "xaxis": "x4",
         "y": [
          73.738
         ],
         "yaxis": "y4"
        },
        {
         "hovertemplate": "country=Panama<br>continent=Americas<br>year=2002<br>gdpPercap=%{x}<br>lifeExp=%{y}<extra></extra>",
         "legendgroup": "Panama",
         "marker": {
          "color": "rgb(204,185,116)",
          "symbol": "circle"
         },
         "mode": "markers",
         "name": "Panama",
         "orientation": "v",
         "showlegend": false,
         "type": "scatter",
         "x": [
          7356.031934000002
         ],
         "xaxis": "x5",
         "y": [
          74.712
         ],
         "yaxis": "y5"
        },
        {
         "hovertemplate": "country=Panama<br>continent=Americas<br>year=2007<br>gdpPercap=%{x}<br>lifeExp=%{y}<extra></extra>",
         "legendgroup": "Panama",
         "marker": {
          "color": "rgb(204,185,116)",
          "symbol": "circle"
         },
         "mode": "markers",
         "name": "Panama",
         "orientation": "v",
         "showlegend": false,
         "type": "scatter",
         "x": [
          9809.185636
         ],
         "xaxis": "x6",
         "y": [
          75.53699999999998
         ],
         "yaxis": "y6"
        },
        {
         "hovertemplate": "country=Paraguay<br>continent=Americas<br>year=1997<br>gdpPercap=%{x}<br>lifeExp=%{y}<extra></extra>",
         "legendgroup": "Paraguay",
         "marker": {
          "color": "rgb(100,181,205)",
          "symbol": "circle"
         },
         "mode": "markers",
         "name": "Paraguay",
         "orientation": "v",
         "showlegend": true,
         "type": "scatter",
         "x": [
          4247.400261
         ],
         "xaxis": "x4",
         "y": [
          69.4
         ],
         "yaxis": "y4"
        },
        {
         "hovertemplate": "country=Paraguay<br>continent=Americas<br>year=2002<br>gdpPercap=%{x}<br>lifeExp=%{y}<extra></extra>",
         "legendgroup": "Paraguay",
         "marker": {
          "color": "rgb(100,181,205)",
          "symbol": "circle"
         },
         "mode": "markers",
         "name": "Paraguay",
         "orientation": "v",
         "showlegend": false,
         "type": "scatter",
         "x": [
          3783.674243
         ],
         "xaxis": "x5",
         "y": [
          70.755
         ],
         "yaxis": "y5"
        },
        {
         "hovertemplate": "country=Paraguay<br>continent=Americas<br>year=2007<br>gdpPercap=%{x}<br>lifeExp=%{y}<extra></extra>",
         "legendgroup": "Paraguay",
         "marker": {
          "color": "rgb(100,181,205)",
          "symbol": "circle"
         },
         "mode": "markers",
         "name": "Paraguay",
         "orientation": "v",
         "showlegend": false,
         "type": "scatter",
         "x": [
          4172.838464
         ],
         "xaxis": "x6",
         "y": [
          71.752
         ],
         "yaxis": "y6"
        },
        {
         "hovertemplate": "country=Peru<br>continent=Americas<br>year=1997<br>gdpPercap=%{x}<br>lifeExp=%{y}<extra></extra>",
         "legendgroup": "Peru",
         "marker": {
          "color": "rgb(76,114,176)",
          "symbol": "circle"
         },
         "mode": "markers",
         "name": "Peru",
         "orientation": "v",
         "showlegend": true,
         "type": "scatter",
         "x": [
          5838.347657
         ],
         "xaxis": "x4",
         "y": [
          68.38600000000001
         ],
         "yaxis": "y4"
        },
        {
         "hovertemplate": "country=Peru<br>continent=Americas<br>year=2002<br>gdpPercap=%{x}<br>lifeExp=%{y}<extra></extra>",
         "legendgroup": "Peru",
         "marker": {
          "color": "rgb(76,114,176)",
          "symbol": "circle"
         },
         "mode": "markers",
         "name": "Peru",
         "orientation": "v",
         "showlegend": false,
         "type": "scatter",
         "x": [
          5909.020073
         ],
         "xaxis": "x5",
         "y": [
          69.906
         ],
         "yaxis": "y5"
        },
        {
         "hovertemplate": "country=Peru<br>continent=Americas<br>year=2007<br>gdpPercap=%{x}<br>lifeExp=%{y}<extra></extra>",
         "legendgroup": "Peru",
         "marker": {
          "color": "rgb(76,114,176)",
          "symbol": "circle"
         },
         "mode": "markers",
         "name": "Peru",
         "orientation": "v",
         "showlegend": false,
         "type": "scatter",
         "x": [
          7408.905561
         ],
         "xaxis": "x6",
         "y": [
          71.421
         ],
         "yaxis": "y6"
        },
        {
         "hovertemplate": "country=Philippines<br>continent=Asia<br>year=1997<br>gdpPercap=%{x}<br>lifeExp=%{y}<extra></extra>",
         "legendgroup": "Philippines",
         "marker": {
          "color": "rgb(221,132,82)",
          "symbol": "circle"
         },
         "mode": "markers",
         "name": "Philippines",
         "orientation": "v",
         "showlegend": true,
         "type": "scatter",
         "x": [
          2536.534925
         ],
         "xaxis": "x13",
         "y": [
          68.564
         ],
         "yaxis": "y13"
        },
        {
         "hovertemplate": "country=Philippines<br>continent=Asia<br>year=2002<br>gdpPercap=%{x}<br>lifeExp=%{y}<extra></extra>",
         "legendgroup": "Philippines",
         "marker": {
          "color": "rgb(221,132,82)",
          "symbol": "circle"
         },
         "mode": "markers",
         "name": "Philippines",
         "orientation": "v",
         "showlegend": false,
         "type": "scatter",
         "x": [
          2650.921068
         ],
         "xaxis": "x14",
         "y": [
          70.303
         ],
         "yaxis": "y14"
        },
        {
         "hovertemplate": "country=Philippines<br>continent=Asia<br>year=2007<br>gdpPercap=%{x}<br>lifeExp=%{y}<extra></extra>",
         "legendgroup": "Philippines",
         "marker": {
          "color": "rgb(221,132,82)",
          "symbol": "circle"
         },
         "mode": "markers",
         "name": "Philippines",
         "orientation": "v",
         "showlegend": false,
         "type": "scatter",
         "x": [
          3190.481016
         ],
         "xaxis": "x15",
         "y": [
          71.688
         ],
         "yaxis": "y15"
        },
        {
         "hovertemplate": "country=Poland<br>continent=Europe<br>year=1997<br>gdpPercap=%{x}<br>lifeExp=%{y}<extra></extra>",
         "legendgroup": "Poland",
         "marker": {
          "color": "rgb(85,168,104)",
          "symbol": "circle"
         },
         "mode": "markers",
         "name": "Poland",
         "orientation": "v",
         "showlegend": true,
         "type": "scatter",
         "x": [
          10159.58368
         ],
         "xaxis": "x10",
         "y": [
          72.75
         ],
         "yaxis": "y10"
        },
        {
         "hovertemplate": "country=Poland<br>continent=Europe<br>year=2002<br>gdpPercap=%{x}<br>lifeExp=%{y}<extra></extra>",
         "legendgroup": "Poland",
         "marker": {
          "color": "rgb(85,168,104)",
          "symbol": "circle"
         },
         "mode": "markers",
         "name": "Poland",
         "orientation": "v",
         "showlegend": false,
         "type": "scatter",
         "x": [
          12002.23908
         ],
         "xaxis": "x11",
         "y": [
          74.67
         ],
         "yaxis": "y11"
        },
        {
         "hovertemplate": "country=Poland<br>continent=Europe<br>year=2007<br>gdpPercap=%{x}<br>lifeExp=%{y}<extra></extra>",
         "legendgroup": "Poland",
         "marker": {
          "color": "rgb(85,168,104)",
          "symbol": "circle"
         },
         "mode": "markers",
         "name": "Poland",
         "orientation": "v",
         "showlegend": false,
         "type": "scatter",
         "x": [
          15389.924680000002
         ],
         "xaxis": "x12",
         "y": [
          75.563
         ],
         "yaxis": "y12"
        },
        {
         "hovertemplate": "country=Portugal<br>continent=Europe<br>year=1997<br>gdpPercap=%{x}<br>lifeExp=%{y}<extra></extra>",
         "legendgroup": "Portugal",
         "marker": {
          "color": "rgb(196,78,82)",
          "symbol": "circle"
         },
         "mode": "markers",
         "name": "Portugal",
         "orientation": "v",
         "showlegend": true,
         "type": "scatter",
         "x": [
          17641.03156
         ],
         "xaxis": "x10",
         "y": [
          75.97
         ],
         "yaxis": "y10"
        },
        {
         "hovertemplate": "country=Portugal<br>continent=Europe<br>year=2002<br>gdpPercap=%{x}<br>lifeExp=%{y}<extra></extra>",
         "legendgroup": "Portugal",
         "marker": {
          "color": "rgb(196,78,82)",
          "symbol": "circle"
         },
         "mode": "markers",
         "name": "Portugal",
         "orientation": "v",
         "showlegend": false,
         "type": "scatter",
         "x": [
          19970.90787
         ],
         "xaxis": "x11",
         "y": [
          77.29
         ],
         "yaxis": "y11"
        },
        {
         "hovertemplate": "country=Portugal<br>continent=Europe<br>year=2007<br>gdpPercap=%{x}<br>lifeExp=%{y}<extra></extra>",
         "legendgroup": "Portugal",
         "marker": {
          "color": "rgb(196,78,82)",
          "symbol": "circle"
         },
         "mode": "markers",
         "name": "Portugal",
         "orientation": "v",
         "showlegend": false,
         "type": "scatter",
         "x": [
          20509.64777
         ],
         "xaxis": "x12",
         "y": [
          78.098
         ],
         "yaxis": "y12"
        },
        {
         "hovertemplate": "country=Puerto Rico<br>continent=Americas<br>year=1997<br>gdpPercap=%{x}<br>lifeExp=%{y}<extra></extra>",
         "legendgroup": "Puerto Rico",
         "marker": {
          "color": "rgb(129,114,179)",
          "symbol": "circle"
         },
         "mode": "markers",
         "name": "Puerto Rico",
         "orientation": "v",
         "showlegend": true,
         "type": "scatter",
         "x": [
          16999.4333
         ],
         "xaxis": "x4",
         "y": [
          74.917
         ],
         "yaxis": "y4"
        },
        {
         "hovertemplate": "country=Puerto Rico<br>continent=Americas<br>year=2002<br>gdpPercap=%{x}<br>lifeExp=%{y}<extra></extra>",
         "legendgroup": "Puerto Rico",
         "marker": {
          "color": "rgb(129,114,179)",
          "symbol": "circle"
         },
         "mode": "markers",
         "name": "Puerto Rico",
         "orientation": "v",
         "showlegend": false,
         "type": "scatter",
         "x": [
          18855.606180000002
         ],
         "xaxis": "x5",
         "y": [
          77.778
         ],
         "yaxis": "y5"
        },
        {
         "hovertemplate": "country=Puerto Rico<br>continent=Americas<br>year=2007<br>gdpPercap=%{x}<br>lifeExp=%{y}<extra></extra>",
         "legendgroup": "Puerto Rico",
         "marker": {
          "color": "rgb(129,114,179)",
          "symbol": "circle"
         },
         "mode": "markers",
         "name": "Puerto Rico",
         "orientation": "v",
         "showlegend": false,
         "type": "scatter",
         "x": [
          19328.70901
         ],
         "xaxis": "x6",
         "y": [
          78.74600000000002
         ],
         "yaxis": "y6"
        },
        {
         "hovertemplate": "country=Reunion<br>continent=Africa<br>year=1997<br>gdpPercap=%{x}<br>lifeExp=%{y}<extra></extra>",
         "legendgroup": "Reunion",
         "marker": {
          "color": "rgb(147,120,96)",
          "symbol": "circle"
         },
         "mode": "markers",
         "name": "Reunion",
         "orientation": "v",
         "showlegend": true,
         "type": "scatter",
         "x": [
          6071.941411
         ],
         "xaxis": "x7",
         "y": [
          74.77199999999998
         ],
         "yaxis": "y7"
        },
        {
         "hovertemplate": "country=Reunion<br>continent=Africa<br>year=2002<br>gdpPercap=%{x}<br>lifeExp=%{y}<extra></extra>",
         "legendgroup": "Reunion",
         "marker": {
          "color": "rgb(147,120,96)",
          "symbol": "circle"
         },
         "mode": "markers",
         "name": "Reunion",
         "orientation": "v",
         "showlegend": false,
         "type": "scatter",
         "x": [
          6316.1652
         ],
         "xaxis": "x8",
         "y": [
          75.744
         ],
         "yaxis": "y8"
        },
        {
         "hovertemplate": "country=Reunion<br>continent=Africa<br>year=2007<br>gdpPercap=%{x}<br>lifeExp=%{y}<extra></extra>",
         "legendgroup": "Reunion",
         "marker": {
          "color": "rgb(147,120,96)",
          "symbol": "circle"
         },
         "mode": "markers",
         "name": "Reunion",
         "orientation": "v",
         "showlegend": false,
         "type": "scatter",
         "x": [
          7670.122558
         ],
         "xaxis": "x9",
         "y": [
          76.442
         ],
         "yaxis": "y9"
        },
        {
         "hovertemplate": "country=Romania<br>continent=Europe<br>year=1997<br>gdpPercap=%{x}<br>lifeExp=%{y}<extra></extra>",
         "legendgroup": "Romania",
         "marker": {
          "color": "rgb(218,139,195)",
          "symbol": "circle"
         },
         "mode": "markers",
         "name": "Romania",
         "orientation": "v",
         "showlegend": true,
         "type": "scatter",
         "x": [
          7346.547556999999
         ],
         "xaxis": "x10",
         "y": [
          69.72
         ],
         "yaxis": "y10"
        },
        {
         "hovertemplate": "country=Romania<br>continent=Europe<br>year=2002<br>gdpPercap=%{x}<br>lifeExp=%{y}<extra></extra>",
         "legendgroup": "Romania",
         "marker": {
          "color": "rgb(218,139,195)",
          "symbol": "circle"
         },
         "mode": "markers",
         "name": "Romania",
         "orientation": "v",
         "showlegend": false,
         "type": "scatter",
         "x": [
          7885.360081
         ],
         "xaxis": "x11",
         "y": [
          71.322
         ],
         "yaxis": "y11"
        },
        {
         "hovertemplate": "country=Romania<br>continent=Europe<br>year=2007<br>gdpPercap=%{x}<br>lifeExp=%{y}<extra></extra>",
         "legendgroup": "Romania",
         "marker": {
          "color": "rgb(218,139,195)",
          "symbol": "circle"
         },
         "mode": "markers",
         "name": "Romania",
         "orientation": "v",
         "showlegend": false,
         "type": "scatter",
         "x": [
          10808.47561
         ],
         "xaxis": "x12",
         "y": [
          72.476
         ],
         "yaxis": "y12"
        },
        {
         "hovertemplate": "country=Rwanda<br>continent=Africa<br>year=1997<br>gdpPercap=%{x}<br>lifeExp=%{y}<extra></extra>",
         "legendgroup": "Rwanda",
         "marker": {
          "color": "rgb(140,140,140)",
          "symbol": "circle"
         },
         "mode": "markers",
         "name": "Rwanda",
         "orientation": "v",
         "showlegend": true,
         "type": "scatter",
         "x": [
          589.9445051
         ],
         "xaxis": "x7",
         "y": [
          36.086999999999996
         ],
         "yaxis": "y7"
        },
        {
         "hovertemplate": "country=Rwanda<br>continent=Africa<br>year=2002<br>gdpPercap=%{x}<br>lifeExp=%{y}<extra></extra>",
         "legendgroup": "Rwanda",
         "marker": {
          "color": "rgb(140,140,140)",
          "symbol": "circle"
         },
         "mode": "markers",
         "name": "Rwanda",
         "orientation": "v",
         "showlegend": false,
         "type": "scatter",
         "x": [
          785.6537647999999
         ],
         "xaxis": "x8",
         "y": [
          43.413000000000004
         ],
         "yaxis": "y8"
        },
        {
         "hovertemplate": "country=Rwanda<br>continent=Africa<br>year=2007<br>gdpPercap=%{x}<br>lifeExp=%{y}<extra></extra>",
         "legendgroup": "Rwanda",
         "marker": {
          "color": "rgb(140,140,140)",
          "symbol": "circle"
         },
         "mode": "markers",
         "name": "Rwanda",
         "orientation": "v",
         "showlegend": false,
         "type": "scatter",
         "x": [
          863.0884639000003
         ],
         "xaxis": "x9",
         "y": [
          46.242
         ],
         "yaxis": "y9"
        },
        {
         "hovertemplate": "country=Sao Tome and Principe<br>continent=Africa<br>year=1997<br>gdpPercap=%{x}<br>lifeExp=%{y}<extra></extra>",
         "legendgroup": "Sao Tome and Principe",
         "marker": {
          "color": "rgb(204,185,116)",
          "symbol": "circle"
         },
         "mode": "markers",
         "name": "Sao Tome and Principe",
         "orientation": "v",
         "showlegend": true,
         "type": "scatter",
         "x": [
          1339.076036
         ],
         "xaxis": "x7",
         "y": [
          63.306000000000004
         ],
         "yaxis": "y7"
        },
        {
         "hovertemplate": "country=Sao Tome and Principe<br>continent=Africa<br>year=2002<br>gdpPercap=%{x}<br>lifeExp=%{y}<extra></extra>",
         "legendgroup": "Sao Tome and Principe",
         "marker": {
          "color": "rgb(204,185,116)",
          "symbol": "circle"
         },
         "mode": "markers",
         "name": "Sao Tome and Principe",
         "orientation": "v",
         "showlegend": false,
         "type": "scatter",
         "x": [
          1353.09239
         ],
         "xaxis": "x8",
         "y": [
          64.337
         ],
         "yaxis": "y8"
        },
        {
         "hovertemplate": "country=Sao Tome and Principe<br>continent=Africa<br>year=2007<br>gdpPercap=%{x}<br>lifeExp=%{y}<extra></extra>",
         "legendgroup": "Sao Tome and Principe",
         "marker": {
          "color": "rgb(204,185,116)",
          "symbol": "circle"
         },
         "mode": "markers",
         "name": "Sao Tome and Principe",
         "orientation": "v",
         "showlegend": false,
         "type": "scatter",
         "x": [
          1598.435089
         ],
         "xaxis": "x9",
         "y": [
          65.528
         ],
         "yaxis": "y9"
        },
        {
         "hovertemplate": "country=Saudi Arabia<br>continent=Asia<br>year=1997<br>gdpPercap=%{x}<br>lifeExp=%{y}<extra></extra>",
         "legendgroup": "Saudi Arabia",
         "marker": {
          "color": "rgb(100,181,205)",
          "symbol": "circle"
         },
         "mode": "markers",
         "name": "Saudi Arabia",
         "orientation": "v",
         "showlegend": true,
         "type": "scatter",
         "x": [
          20586.69019
         ],
         "xaxis": "x13",
         "y": [
          70.533
         ],
         "yaxis": "y13"
        },
        {
         "hovertemplate": "country=Saudi Arabia<br>continent=Asia<br>year=2002<br>gdpPercap=%{x}<br>lifeExp=%{y}<extra></extra>",
         "legendgroup": "Saudi Arabia",
         "marker": {
          "color": "rgb(100,181,205)",
          "symbol": "circle"
         },
         "mode": "markers",
         "name": "Saudi Arabia",
         "orientation": "v",
         "showlegend": false,
         "type": "scatter",
         "x": [
          19014.54118
         ],
         "xaxis": "x14",
         "y": [
          71.626
         ],
         "yaxis": "y14"
        },
        {
         "hovertemplate": "country=Saudi Arabia<br>continent=Asia<br>year=2007<br>gdpPercap=%{x}<br>lifeExp=%{y}<extra></extra>",
         "legendgroup": "Saudi Arabia",
         "marker": {
          "color": "rgb(100,181,205)",
          "symbol": "circle"
         },
         "mode": "markers",
         "name": "Saudi Arabia",
         "orientation": "v",
         "showlegend": false,
         "type": "scatter",
         "x": [
          21654.83194
         ],
         "xaxis": "x15",
         "y": [
          72.777
         ],
         "yaxis": "y15"
        },
        {
         "hovertemplate": "country=Senegal<br>continent=Africa<br>year=1997<br>gdpPercap=%{x}<br>lifeExp=%{y}<extra></extra>",
         "legendgroup": "Senegal",
         "marker": {
          "color": "rgb(76,114,176)",
          "symbol": "circle"
         },
         "mode": "markers",
         "name": "Senegal",
         "orientation": "v",
         "showlegend": true,
         "type": "scatter",
         "x": [
          1392.368347
         ],
         "xaxis": "x7",
         "y": [
          60.187
         ],
         "yaxis": "y7"
        },
        {
         "hovertemplate": "country=Senegal<br>continent=Africa<br>year=2002<br>gdpPercap=%{x}<br>lifeExp=%{y}<extra></extra>",
         "legendgroup": "Senegal",
         "marker": {
          "color": "rgb(76,114,176)",
          "symbol": "circle"
         },
         "mode": "markers",
         "name": "Senegal",
         "orientation": "v",
         "showlegend": false,
         "type": "scatter",
         "x": [
          1519.635262
         ],
         "xaxis": "x8",
         "y": [
          61.6
         ],
         "yaxis": "y8"
        },
        {
         "hovertemplate": "country=Senegal<br>continent=Africa<br>year=2007<br>gdpPercap=%{x}<br>lifeExp=%{y}<extra></extra>",
         "legendgroup": "Senegal",
         "marker": {
          "color": "rgb(76,114,176)",
          "symbol": "circle"
         },
         "mode": "markers",
         "name": "Senegal",
         "orientation": "v",
         "showlegend": false,
         "type": "scatter",
         "x": [
          1712.4721359999999
         ],
         "xaxis": "x9",
         "y": [
          63.062
         ],
         "yaxis": "y9"
        },
        {
         "hovertemplate": "country=Serbia<br>continent=Europe<br>year=1997<br>gdpPercap=%{x}<br>lifeExp=%{y}<extra></extra>",
         "legendgroup": "Serbia",
         "marker": {
          "color": "rgb(221,132,82)",
          "symbol": "circle"
         },
         "mode": "markers",
         "name": "Serbia",
         "orientation": "v",
         "showlegend": true,
         "type": "scatter",
         "x": [
          7914.320304000003
         ],
         "xaxis": "x10",
         "y": [
          72.232
         ],
         "yaxis": "y10"
        },
        {
         "hovertemplate": "country=Serbia<br>continent=Europe<br>year=2002<br>gdpPercap=%{x}<br>lifeExp=%{y}<extra></extra>",
         "legendgroup": "Serbia",
         "marker": {
          "color": "rgb(221,132,82)",
          "symbol": "circle"
         },
         "mode": "markers",
         "name": "Serbia",
         "orientation": "v",
         "showlegend": false,
         "type": "scatter",
         "x": [
          7236.075251
         ],
         "xaxis": "x11",
         "y": [
          73.21300000000002
         ],
         "yaxis": "y11"
        },
        {
         "hovertemplate": "country=Serbia<br>continent=Europe<br>year=2007<br>gdpPercap=%{x}<br>lifeExp=%{y}<extra></extra>",
         "legendgroup": "Serbia",
         "marker": {
          "color": "rgb(221,132,82)",
          "symbol": "circle"
         },
         "mode": "markers",
         "name": "Serbia",
         "orientation": "v",
         "showlegend": false,
         "type": "scatter",
         "x": [
          9786.534714
         ],
         "xaxis": "x12",
         "y": [
          74.002
         ],
         "yaxis": "y12"
        },
        {
         "hovertemplate": "country=Sierra Leone<br>continent=Africa<br>year=1997<br>gdpPercap=%{x}<br>lifeExp=%{y}<extra></extra>",
         "legendgroup": "Sierra Leone",
         "marker": {
          "color": "rgb(85,168,104)",
          "symbol": "circle"
         },
         "mode": "markers",
         "name": "Sierra Leone",
         "orientation": "v",
         "showlegend": true,
         "type": "scatter",
         "x": [
          574.6481576
         ],
         "xaxis": "x7",
         "y": [
          39.897
         ],
         "yaxis": "y7"
        },
        {
         "hovertemplate": "country=Sierra Leone<br>continent=Africa<br>year=2002<br>gdpPercap=%{x}<br>lifeExp=%{y}<extra></extra>",
         "legendgroup": "Sierra Leone",
         "marker": {
          "color": "rgb(85,168,104)",
          "symbol": "circle"
         },
         "mode": "markers",
         "name": "Sierra Leone",
         "orientation": "v",
         "showlegend": false,
         "type": "scatter",
         "x": [
          699.4897129999997
         ],
         "xaxis": "x8",
         "y": [
          41.012
         ],
         "yaxis": "y8"
        },
        {
         "hovertemplate": "country=Sierra Leone<br>continent=Africa<br>year=2007<br>gdpPercap=%{x}<br>lifeExp=%{y}<extra></extra>",
         "legendgroup": "Sierra Leone",
         "marker": {
          "color": "rgb(85,168,104)",
          "symbol": "circle"
         },
         "mode": "markers",
         "name": "Sierra Leone",
         "orientation": "v",
         "showlegend": false,
         "type": "scatter",
         "x": [
          862.5407561000003
         ],
         "xaxis": "x9",
         "y": [
          42.56800000000001
         ],
         "yaxis": "y9"
        },
        {
         "hovertemplate": "country=Singapore<br>continent=Asia<br>year=1997<br>gdpPercap=%{x}<br>lifeExp=%{y}<extra></extra>",
         "legendgroup": "Singapore",
         "marker": {
          "color": "rgb(196,78,82)",
          "symbol": "circle"
         },
         "mode": "markers",
         "name": "Singapore",
         "orientation": "v",
         "showlegend": true,
         "type": "scatter",
         "x": [
          33519.4766
         ],
         "xaxis": "x13",
         "y": [
          77.158
         ],
         "yaxis": "y13"
        },
        {
         "hovertemplate": "country=Singapore<br>continent=Asia<br>year=2002<br>gdpPercap=%{x}<br>lifeExp=%{y}<extra></extra>",
         "legendgroup": "Singapore",
         "marker": {
          "color": "rgb(196,78,82)",
          "symbol": "circle"
         },
         "mode": "markers",
         "name": "Singapore",
         "orientation": "v",
         "showlegend": false,
         "type": "scatter",
         "x": [
          36023.1054
         ],
         "xaxis": "x14",
         "y": [
          78.77
         ],
         "yaxis": "y14"
        },
        {
         "hovertemplate": "country=Singapore<br>continent=Asia<br>year=2007<br>gdpPercap=%{x}<br>lifeExp=%{y}<extra></extra>",
         "legendgroup": "Singapore",
         "marker": {
          "color": "rgb(196,78,82)",
          "symbol": "circle"
         },
         "mode": "markers",
         "name": "Singapore",
         "orientation": "v",
         "showlegend": false,
         "type": "scatter",
         "x": [
          47143.179639999995
         ],
         "xaxis": "x15",
         "y": [
          79.972
         ],
         "yaxis": "y15"
        },
        {
         "hovertemplate": "country=Slovak Republic<br>continent=Europe<br>year=1997<br>gdpPercap=%{x}<br>lifeExp=%{y}<extra></extra>",
         "legendgroup": "Slovak Republic",
         "marker": {
          "color": "rgb(129,114,179)",
          "symbol": "circle"
         },
         "mode": "markers",
         "name": "Slovak Republic",
         "orientation": "v",
         "showlegend": true,
         "type": "scatter",
         "x": [
          12126.23065
         ],
         "xaxis": "x10",
         "y": [
          72.71
         ],
         "yaxis": "y10"
        },
        {
         "hovertemplate": "country=Slovak Republic<br>continent=Europe<br>year=2002<br>gdpPercap=%{x}<br>lifeExp=%{y}<extra></extra>",
         "legendgroup": "Slovak Republic",
         "marker": {
          "color": "rgb(129,114,179)",
          "symbol": "circle"
         },
         "mode": "markers",
         "name": "Slovak Republic",
         "orientation": "v",
         "showlegend": false,
         "type": "scatter",
         "x": [
          13638.778369999998
         ],
         "xaxis": "x11",
         "y": [
          73.8
         ],
         "yaxis": "y11"
        },
        {
         "hovertemplate": "country=Slovak Republic<br>continent=Europe<br>year=2007<br>gdpPercap=%{x}<br>lifeExp=%{y}<extra></extra>",
         "legendgroup": "Slovak Republic",
         "marker": {
          "color": "rgb(129,114,179)",
          "symbol": "circle"
         },
         "mode": "markers",
         "name": "Slovak Republic",
         "orientation": "v",
         "showlegend": false,
         "type": "scatter",
         "x": [
          18678.31435
         ],
         "xaxis": "x12",
         "y": [
          74.663
         ],
         "yaxis": "y12"
        },
        {
         "hovertemplate": "country=Slovenia<br>continent=Europe<br>year=1997<br>gdpPercap=%{x}<br>lifeExp=%{y}<extra></extra>",
         "legendgroup": "Slovenia",
         "marker": {
          "color": "rgb(147,120,96)",
          "symbol": "circle"
         },
         "mode": "markers",
         "name": "Slovenia",
         "orientation": "v",
         "showlegend": true,
         "type": "scatter",
         "x": [
          17161.10735
         ],
         "xaxis": "x10",
         "y": [
          75.13
         ],
         "yaxis": "y10"
        },
        {
         "hovertemplate": "country=Slovenia<br>continent=Europe<br>year=2002<br>gdpPercap=%{x}<br>lifeExp=%{y}<extra></extra>",
         "legendgroup": "Slovenia",
         "marker": {
          "color": "rgb(147,120,96)",
          "symbol": "circle"
         },
         "mode": "markers",
         "name": "Slovenia",
         "orientation": "v",
         "showlegend": false,
         "type": "scatter",
         "x": [
          20660.01936
         ],
         "xaxis": "x11",
         "y": [
          76.66
         ],
         "yaxis": "y11"
        },
        {
         "hovertemplate": "country=Slovenia<br>continent=Europe<br>year=2007<br>gdpPercap=%{x}<br>lifeExp=%{y}<extra></extra>",
         "legendgroup": "Slovenia",
         "marker": {
          "color": "rgb(147,120,96)",
          "symbol": "circle"
         },
         "mode": "markers",
         "name": "Slovenia",
         "orientation": "v",
         "showlegend": false,
         "type": "scatter",
         "x": [
          25768.25759
         ],
         "xaxis": "x12",
         "y": [
          77.926
         ],
         "yaxis": "y12"
        },
        {
         "hovertemplate": "country=Somalia<br>continent=Africa<br>year=1997<br>gdpPercap=%{x}<br>lifeExp=%{y}<extra></extra>",
         "legendgroup": "Somalia",
         "marker": {
          "color": "rgb(218,139,195)",
          "symbol": "circle"
         },
         "mode": "markers",
         "name": "Somalia",
         "orientation": "v",
         "showlegend": true,
         "type": "scatter",
         "x": [
          930.5964284
         ],
         "xaxis": "x7",
         "y": [
          43.795
         ],
         "yaxis": "y7"
        },
        {
         "hovertemplate": "country=Somalia<br>continent=Africa<br>year=2002<br>gdpPercap=%{x}<br>lifeExp=%{y}<extra></extra>",
         "legendgroup": "Somalia",
         "marker": {
          "color": "rgb(218,139,195)",
          "symbol": "circle"
         },
         "mode": "markers",
         "name": "Somalia",
         "orientation": "v",
         "showlegend": false,
         "type": "scatter",
         "x": [
          882.0818218000003
         ],
         "xaxis": "x8",
         "y": [
          45.93600000000001
         ],
         "yaxis": "y8"
        },
        {
         "hovertemplate": "country=Somalia<br>continent=Africa<br>year=2007<br>gdpPercap=%{x}<br>lifeExp=%{y}<extra></extra>",
         "legendgroup": "Somalia",
         "marker": {
          "color": "rgb(218,139,195)",
          "symbol": "circle"
         },
         "mode": "markers",
         "name": "Somalia",
         "orientation": "v",
         "showlegend": false,
         "type": "scatter",
         "x": [
          926.1410683
         ],
         "xaxis": "x9",
         "y": [
          48.159
         ],
         "yaxis": "y9"
        },
        {
         "hovertemplate": "country=South Africa<br>continent=Africa<br>year=1997<br>gdpPercap=%{x}<br>lifeExp=%{y}<extra></extra>",
         "legendgroup": "South Africa",
         "marker": {
          "color": "rgb(140,140,140)",
          "symbol": "circle"
         },
         "mode": "markers",
         "name": "South Africa",
         "orientation": "v",
         "showlegend": true,
         "type": "scatter",
         "x": [
          7479.188244
         ],
         "xaxis": "x7",
         "y": [
          60.236000000000004
         ],
         "yaxis": "y7"
        },
        {
         "hovertemplate": "country=South Africa<br>continent=Africa<br>year=2002<br>gdpPercap=%{x}<br>lifeExp=%{y}<extra></extra>",
         "legendgroup": "South Africa",
         "marker": {
          "color": "rgb(140,140,140)",
          "symbol": "circle"
         },
         "mode": "markers",
         "name": "South Africa",
         "orientation": "v",
         "showlegend": false,
         "type": "scatter",
         "x": [
          7710.946444
         ],
         "xaxis": "x8",
         "y": [
          53.365
         ],
         "yaxis": "y8"
        },
        {
         "hovertemplate": "country=South Africa<br>continent=Africa<br>year=2007<br>gdpPercap=%{x}<br>lifeExp=%{y}<extra></extra>",
         "legendgroup": "South Africa",
         "marker": {
          "color": "rgb(140,140,140)",
          "symbol": "circle"
         },
         "mode": "markers",
         "name": "South Africa",
         "orientation": "v",
         "showlegend": false,
         "type": "scatter",
         "x": [
          9269.657808
         ],
         "xaxis": "x9",
         "y": [
          49.339
         ],
         "yaxis": "y9"
        },
        {
         "hovertemplate": "country=Spain<br>continent=Europe<br>year=1997<br>gdpPercap=%{x}<br>lifeExp=%{y}<extra></extra>",
         "legendgroup": "Spain",
         "marker": {
          "color": "rgb(204,185,116)",
          "symbol": "circle"
         },
         "mode": "markers",
         "name": "Spain",
         "orientation": "v",
         "showlegend": true,
         "type": "scatter",
         "x": [
          20445.29896
         ],
         "xaxis": "x10",
         "y": [
          78.77
         ],
         "yaxis": "y10"
        },
        {
         "hovertemplate": "country=Spain<br>continent=Europe<br>year=2002<br>gdpPercap=%{x}<br>lifeExp=%{y}<extra></extra>",
         "legendgroup": "Spain",
         "marker": {
          "color": "rgb(204,185,116)",
          "symbol": "circle"
         },
         "mode": "markers",
         "name": "Spain",
         "orientation": "v",
         "showlegend": false,
         "type": "scatter",
         "x": [
          24835.47166
         ],
         "xaxis": "x11",
         "y": [
          79.78
         ],
         "yaxis": "y11"
        },
        {
         "hovertemplate": "country=Spain<br>continent=Europe<br>year=2007<br>gdpPercap=%{x}<br>lifeExp=%{y}<extra></extra>",
         "legendgroup": "Spain",
         "marker": {
          "color": "rgb(204,185,116)",
          "symbol": "circle"
         },
         "mode": "markers",
         "name": "Spain",
         "orientation": "v",
         "showlegend": false,
         "type": "scatter",
         "x": [
          28821.0637
         ],
         "xaxis": "x12",
         "y": [
          80.941
         ],
         "yaxis": "y12"
        },
        {
         "hovertemplate": "country=Sri Lanka<br>continent=Asia<br>year=1997<br>gdpPercap=%{x}<br>lifeExp=%{y}<extra></extra>",
         "legendgroup": "Sri Lanka",
         "marker": {
          "color": "rgb(100,181,205)",
          "symbol": "circle"
         },
         "mode": "markers",
         "name": "Sri Lanka",
         "orientation": "v",
         "showlegend": true,
         "type": "scatter",
         "x": [
          2664.477257
         ],
         "xaxis": "x13",
         "y": [
          70.457
         ],
         "yaxis": "y13"
        },
        {
         "hovertemplate": "country=Sri Lanka<br>continent=Asia<br>year=2002<br>gdpPercap=%{x}<br>lifeExp=%{y}<extra></extra>",
         "legendgroup": "Sri Lanka",
         "marker": {
          "color": "rgb(100,181,205)",
          "symbol": "circle"
         },
         "mode": "markers",
         "name": "Sri Lanka",
         "orientation": "v",
         "showlegend": false,
         "type": "scatter",
         "x": [
          3015.3788329999998
         ],
         "xaxis": "x14",
         "y": [
          70.815
         ],
         "yaxis": "y14"
        },
        {
         "hovertemplate": "country=Sri Lanka<br>continent=Asia<br>year=2007<br>gdpPercap=%{x}<br>lifeExp=%{y}<extra></extra>",
         "legendgroup": "Sri Lanka",
         "marker": {
          "color": "rgb(100,181,205)",
          "symbol": "circle"
         },
         "mode": "markers",
         "name": "Sri Lanka",
         "orientation": "v",
         "showlegend": false,
         "type": "scatter",
         "x": [
          3970.0954070000003
         ],
         "xaxis": "x15",
         "y": [
          72.396
         ],
         "yaxis": "y15"
        },
        {
         "hovertemplate": "country=Sudan<br>continent=Africa<br>year=1997<br>gdpPercap=%{x}<br>lifeExp=%{y}<extra></extra>",
         "legendgroup": "Sudan",
         "marker": {
          "color": "rgb(76,114,176)",
          "symbol": "circle"
         },
         "mode": "markers",
         "name": "Sudan",
         "orientation": "v",
         "showlegend": true,
         "type": "scatter",
         "x": [
          1632.2107640000006
         ],
         "xaxis": "x7",
         "y": [
          55.37300000000001
         ],
         "yaxis": "y7"
        },
        {
         "hovertemplate": "country=Sudan<br>continent=Africa<br>year=2002<br>gdpPercap=%{x}<br>lifeExp=%{y}<extra></extra>",
         "legendgroup": "Sudan",
         "marker": {
          "color": "rgb(76,114,176)",
          "symbol": "circle"
         },
         "mode": "markers",
         "name": "Sudan",
         "orientation": "v",
         "showlegend": false,
         "type": "scatter",
         "x": [
          1993.398314
         ],
         "xaxis": "x8",
         "y": [
          56.369
         ],
         "yaxis": "y8"
        },
        {
         "hovertemplate": "country=Sudan<br>continent=Africa<br>year=2007<br>gdpPercap=%{x}<br>lifeExp=%{y}<extra></extra>",
         "legendgroup": "Sudan",
         "marker": {
          "color": "rgb(76,114,176)",
          "symbol": "circle"
         },
         "mode": "markers",
         "name": "Sudan",
         "orientation": "v",
         "showlegend": false,
         "type": "scatter",
         "x": [
          2602.394995
         ],
         "xaxis": "x9",
         "y": [
          58.556000000000004
         ],
         "yaxis": "y9"
        },
        {
         "hovertemplate": "country=Swaziland<br>continent=Africa<br>year=1997<br>gdpPercap=%{x}<br>lifeExp=%{y}<extra></extra>",
         "legendgroup": "Swaziland",
         "marker": {
          "color": "rgb(221,132,82)",
          "symbol": "circle"
         },
         "mode": "markers",
         "name": "Swaziland",
         "orientation": "v",
         "showlegend": true,
         "type": "scatter",
         "x": [
          3876.7684600000002
         ],
         "xaxis": "x7",
         "y": [
          54.288999999999994
         ],
         "yaxis": "y7"
        },
        {
         "hovertemplate": "country=Swaziland<br>continent=Africa<br>year=2002<br>gdpPercap=%{x}<br>lifeExp=%{y}<extra></extra>",
         "legendgroup": "Swaziland",
         "marker": {
          "color": "rgb(221,132,82)",
          "symbol": "circle"
         },
         "mode": "markers",
         "name": "Swaziland",
         "orientation": "v",
         "showlegend": false,
         "type": "scatter",
         "x": [
          4128.116943
         ],
         "xaxis": "x8",
         "y": [
          43.869
         ],
         "yaxis": "y8"
        },
        {
         "hovertemplate": "country=Swaziland<br>continent=Africa<br>year=2007<br>gdpPercap=%{x}<br>lifeExp=%{y}<extra></extra>",
         "legendgroup": "Swaziland",
         "marker": {
          "color": "rgb(221,132,82)",
          "symbol": "circle"
         },
         "mode": "markers",
         "name": "Swaziland",
         "orientation": "v",
         "showlegend": false,
         "type": "scatter",
         "x": [
          4513.480643
         ],
         "xaxis": "x9",
         "y": [
          39.613
         ],
         "yaxis": "y9"
        },
        {
         "hovertemplate": "country=Sweden<br>continent=Europe<br>year=1997<br>gdpPercap=%{x}<br>lifeExp=%{y}<extra></extra>",
         "legendgroup": "Sweden",
         "marker": {
          "color": "rgb(85,168,104)",
          "symbol": "circle"
         },
         "mode": "markers",
         "name": "Sweden",
         "orientation": "v",
         "showlegend": true,
         "type": "scatter",
         "x": [
          25266.59499
         ],
         "xaxis": "x10",
         "y": [
          79.39
         ],
         "yaxis": "y10"
        },
        {
         "hovertemplate": "country=Sweden<br>continent=Europe<br>year=2002<br>gdpPercap=%{x}<br>lifeExp=%{y}<extra></extra>",
         "legendgroup": "Sweden",
         "marker": {
          "color": "rgb(85,168,104)",
          "symbol": "circle"
         },
         "mode": "markers",
         "name": "Sweden",
         "orientation": "v",
         "showlegend": false,
         "type": "scatter",
         "x": [
          29341.63093000001
         ],
         "xaxis": "x11",
         "y": [
          80.04
         ],
         "yaxis": "y11"
        },
        {
         "hovertemplate": "country=Sweden<br>continent=Europe<br>year=2007<br>gdpPercap=%{x}<br>lifeExp=%{y}<extra></extra>",
         "legendgroup": "Sweden",
         "marker": {
          "color": "rgb(85,168,104)",
          "symbol": "circle"
         },
         "mode": "markers",
         "name": "Sweden",
         "orientation": "v",
         "showlegend": false,
         "type": "scatter",
         "x": [
          33859.74835
         ],
         "xaxis": "x12",
         "y": [
          80.884
         ],
         "yaxis": "y12"
        },
        {
         "hovertemplate": "country=Switzerland<br>continent=Europe<br>year=1997<br>gdpPercap=%{x}<br>lifeExp=%{y}<extra></extra>",
         "legendgroup": "Switzerland",
         "marker": {
          "color": "rgb(196,78,82)",
          "symbol": "circle"
         },
         "mode": "markers",
         "name": "Switzerland",
         "orientation": "v",
         "showlegend": true,
         "type": "scatter",
         "x": [
          32135.323010000004
         ],
         "xaxis": "x10",
         "y": [
          79.37
         ],
         "yaxis": "y10"
        },
        {
         "hovertemplate": "country=Switzerland<br>continent=Europe<br>year=2002<br>gdpPercap=%{x}<br>lifeExp=%{y}<extra></extra>",
         "legendgroup": "Switzerland",
         "marker": {
          "color": "rgb(196,78,82)",
          "symbol": "circle"
         },
         "mode": "markers",
         "name": "Switzerland",
         "orientation": "v",
         "showlegend": false,
         "type": "scatter",
         "x": [
          34480.95771
         ],
         "xaxis": "x11",
         "y": [
          80.62
         ],
         "yaxis": "y11"
        },
        {
         "hovertemplate": "country=Switzerland<br>continent=Europe<br>year=2007<br>gdpPercap=%{x}<br>lifeExp=%{y}<extra></extra>",
         "legendgroup": "Switzerland",
         "marker": {
          "color": "rgb(196,78,82)",
          "symbol": "circle"
         },
         "mode": "markers",
         "name": "Switzerland",
         "orientation": "v",
         "showlegend": false,
         "type": "scatter",
         "x": [
          37506.419069999996
         ],
         "xaxis": "x12",
         "y": [
          81.70100000000002
         ],
         "yaxis": "y12"
        },
        {
         "hovertemplate": "country=Syria<br>continent=Asia<br>year=1997<br>gdpPercap=%{x}<br>lifeExp=%{y}<extra></extra>",
         "legendgroup": "Syria",
         "marker": {
          "color": "rgb(129,114,179)",
          "symbol": "circle"
         },
         "mode": "markers",
         "name": "Syria",
         "orientation": "v",
         "showlegend": true,
         "type": "scatter",
         "x": [
          4014.238972
         ],
         "xaxis": "x13",
         "y": [
          71.527
         ],
         "yaxis": "y13"
        },
        {
         "hovertemplate": "country=Syria<br>continent=Asia<br>year=2002<br>gdpPercap=%{x}<br>lifeExp=%{y}<extra></extra>",
         "legendgroup": "Syria",
         "marker": {
          "color": "rgb(129,114,179)",
          "symbol": "circle"
         },
         "mode": "markers",
         "name": "Syria",
         "orientation": "v",
         "showlegend": false,
         "type": "scatter",
         "x": [
          4090.9253310000004
         ],
         "xaxis": "x14",
         "y": [
          73.053
         ],
         "yaxis": "y14"
        },
        {
         "hovertemplate": "country=Syria<br>continent=Asia<br>year=2007<br>gdpPercap=%{x}<br>lifeExp=%{y}<extra></extra>",
         "legendgroup": "Syria",
         "marker": {
          "color": "rgb(129,114,179)",
          "symbol": "circle"
         },
         "mode": "markers",
         "name": "Syria",
         "orientation": "v",
         "showlegend": false,
         "type": "scatter",
         "x": [
          4184.548089
         ],
         "xaxis": "x15",
         "y": [
          74.143
         ],
         "yaxis": "y15"
        },
        {
         "hovertemplate": "country=Taiwan<br>continent=Asia<br>year=1997<br>gdpPercap=%{x}<br>lifeExp=%{y}<extra></extra>",
         "legendgroup": "Taiwan",
         "marker": {
          "color": "rgb(147,120,96)",
          "symbol": "circle"
         },
         "mode": "markers",
         "name": "Taiwan",
         "orientation": "v",
         "showlegend": true,
         "type": "scatter",
         "x": [
          20206.82098
         ],
         "xaxis": "x13",
         "y": [
          75.25
         ],
         "yaxis": "y13"
        },
        {
         "hovertemplate": "country=Taiwan<br>continent=Asia<br>year=2002<br>gdpPercap=%{x}<br>lifeExp=%{y}<extra></extra>",
         "legendgroup": "Taiwan",
         "marker": {
          "color": "rgb(147,120,96)",
          "symbol": "circle"
         },
         "mode": "markers",
         "name": "Taiwan",
         "orientation": "v",
         "showlegend": false,
         "type": "scatter",
         "x": [
          23235.42329
         ],
         "xaxis": "x14",
         "y": [
          76.99
         ],
         "yaxis": "y14"
        },
        {
         "hovertemplate": "country=Taiwan<br>continent=Asia<br>year=2007<br>gdpPercap=%{x}<br>lifeExp=%{y}<extra></extra>",
         "legendgroup": "Taiwan",
         "marker": {
          "color": "rgb(147,120,96)",
          "symbol": "circle"
         },
         "mode": "markers",
         "name": "Taiwan",
         "orientation": "v",
         "showlegend": false,
         "type": "scatter",
         "x": [
          28718.27684
         ],
         "xaxis": "x15",
         "y": [
          78.4
         ],
         "yaxis": "y15"
        },
        {
         "hovertemplate": "country=Tanzania<br>continent=Africa<br>year=1997<br>gdpPercap=%{x}<br>lifeExp=%{y}<extra></extra>",
         "legendgroup": "Tanzania",
         "marker": {
          "color": "rgb(218,139,195)",
          "symbol": "circle"
         },
         "mode": "markers",
         "name": "Tanzania",
         "orientation": "v",
         "showlegend": true,
         "type": "scatter",
         "x": [
          789.1862231
         ],
         "xaxis": "x7",
         "y": [
          48.466
         ],
         "yaxis": "y7"
        },
        {
         "hovertemplate": "country=Tanzania<br>continent=Africa<br>year=2002<br>gdpPercap=%{x}<br>lifeExp=%{y}<extra></extra>",
         "legendgroup": "Tanzania",
         "marker": {
          "color": "rgb(218,139,195)",
          "symbol": "circle"
         },
         "mode": "markers",
         "name": "Tanzania",
         "orientation": "v",
         "showlegend": false,
         "type": "scatter",
         "x": [
          899.0742111
         ],
         "xaxis": "x8",
         "y": [
          49.651
         ],
         "yaxis": "y8"
        },
        {
         "hovertemplate": "country=Tanzania<br>continent=Africa<br>year=2007<br>gdpPercap=%{x}<br>lifeExp=%{y}<extra></extra>",
         "legendgroup": "Tanzania",
         "marker": {
          "color": "rgb(218,139,195)",
          "symbol": "circle"
         },
         "mode": "markers",
         "name": "Tanzania",
         "orientation": "v",
         "showlegend": false,
         "type": "scatter",
         "x": [
          1107.482182
         ],
         "xaxis": "x9",
         "y": [
          52.516999999999996
         ],
         "yaxis": "y9"
        },
        {
         "hovertemplate": "country=Thailand<br>continent=Asia<br>year=1997<br>gdpPercap=%{x}<br>lifeExp=%{y}<extra></extra>",
         "legendgroup": "Thailand",
         "marker": {
          "color": "rgb(140,140,140)",
          "symbol": "circle"
         },
         "mode": "markers",
         "name": "Thailand",
         "orientation": "v",
         "showlegend": true,
         "type": "scatter",
         "x": [
          5852.625497
         ],
         "xaxis": "x13",
         "y": [
          67.521
         ],
         "yaxis": "y13"
        },
        {
         "hovertemplate": "country=Thailand<br>continent=Asia<br>year=2002<br>gdpPercap=%{x}<br>lifeExp=%{y}<extra></extra>",
         "legendgroup": "Thailand",
         "marker": {
          "color": "rgb(140,140,140)",
          "symbol": "circle"
         },
         "mode": "markers",
         "name": "Thailand",
         "orientation": "v",
         "showlegend": false,
         "type": "scatter",
         "x": [
          5913.187529
         ],
         "xaxis": "x14",
         "y": [
          68.564
         ],
         "yaxis": "y14"
        },
        {
         "hovertemplate": "country=Thailand<br>continent=Asia<br>year=2007<br>gdpPercap=%{x}<br>lifeExp=%{y}<extra></extra>",
         "legendgroup": "Thailand",
         "marker": {
          "color": "rgb(140,140,140)",
          "symbol": "circle"
         },
         "mode": "markers",
         "name": "Thailand",
         "orientation": "v",
         "showlegend": false,
         "type": "scatter",
         "x": [
          7458.396326999998
         ],
         "xaxis": "x15",
         "y": [
          70.616
         ],
         "yaxis": "y15"
        },
        {
         "hovertemplate": "country=Togo<br>continent=Africa<br>year=1997<br>gdpPercap=%{x}<br>lifeExp=%{y}<extra></extra>",
         "legendgroup": "Togo",
         "marker": {
          "color": "rgb(204,185,116)",
          "symbol": "circle"
         },
         "mode": "markers",
         "name": "Togo",
         "orientation": "v",
         "showlegend": true,
         "type": "scatter",
         "x": [
          982.2869242999999
         ],
         "xaxis": "x7",
         "y": [
          58.39
         ],
         "yaxis": "y7"
        },
        {
         "hovertemplate": "country=Togo<br>continent=Africa<br>year=2002<br>gdpPercap=%{x}<br>lifeExp=%{y}<extra></extra>",
         "legendgroup": "Togo",
         "marker": {
          "color": "rgb(204,185,116)",
          "symbol": "circle"
         },
         "mode": "markers",
         "name": "Togo",
         "orientation": "v",
         "showlegend": false,
         "type": "scatter",
         "x": [
          886.2205765000001
         ],
         "xaxis": "x8",
         "y": [
          57.56100000000001
         ],
         "yaxis": "y8"
        },
        {
         "hovertemplate": "country=Togo<br>continent=Africa<br>year=2007<br>gdpPercap=%{x}<br>lifeExp=%{y}<extra></extra>",
         "legendgroup": "Togo",
         "marker": {
          "color": "rgb(204,185,116)",
          "symbol": "circle"
         },
         "mode": "markers",
         "name": "Togo",
         "orientation": "v",
         "showlegend": false,
         "type": "scatter",
         "x": [
          882.9699437999999
         ],
         "xaxis": "x9",
         "y": [
          58.42
         ],
         "yaxis": "y9"
        },
        {
         "hovertemplate": "country=Trinidad and Tobago<br>continent=Americas<br>year=1997<br>gdpPercap=%{x}<br>lifeExp=%{y}<extra></extra>",
         "legendgroup": "Trinidad and Tobago",
         "marker": {
          "color": "rgb(100,181,205)",
          "symbol": "circle"
         },
         "mode": "markers",
         "name": "Trinidad and Tobago",
         "orientation": "v",
         "showlegend": true,
         "type": "scatter",
         "x": [
          8792.573126000001
         ],
         "xaxis": "x4",
         "y": [
          69.465
         ],
         "yaxis": "y4"
        },
        {
         "hovertemplate": "country=Trinidad and Tobago<br>continent=Americas<br>year=2002<br>gdpPercap=%{x}<br>lifeExp=%{y}<extra></extra>",
         "legendgroup": "Trinidad and Tobago",
         "marker": {
          "color": "rgb(100,181,205)",
          "symbol": "circle"
         },
         "mode": "markers",
         "name": "Trinidad and Tobago",
         "orientation": "v",
         "showlegend": false,
         "type": "scatter",
         "x": [
          11460.60023
         ],
         "xaxis": "x5",
         "y": [
          68.976
         ],
         "yaxis": "y5"
        },
        {
         "hovertemplate": "country=Trinidad and Tobago<br>continent=Americas<br>year=2007<br>gdpPercap=%{x}<br>lifeExp=%{y}<extra></extra>",
         "legendgroup": "Trinidad and Tobago",
         "marker": {
          "color": "rgb(100,181,205)",
          "symbol": "circle"
         },
         "mode": "markers",
         "name": "Trinidad and Tobago",
         "orientation": "v",
         "showlegend": false,
         "type": "scatter",
         "x": [
          18008.50924
         ],
         "xaxis": "x6",
         "y": [
          69.819
         ],
         "yaxis": "y6"
        },
        {
         "hovertemplate": "country=Tunisia<br>continent=Africa<br>year=1997<br>gdpPercap=%{x}<br>lifeExp=%{y}<extra></extra>",
         "legendgroup": "Tunisia",
         "marker": {
          "color": "rgb(76,114,176)",
          "symbol": "circle"
         },
         "mode": "markers",
         "name": "Tunisia",
         "orientation": "v",
         "showlegend": true,
         "type": "scatter",
         "x": [
          4876.798614
         ],
         "xaxis": "x7",
         "y": [
          71.973
         ],
         "yaxis": "y7"
        },
        {
         "hovertemplate": "country=Tunisia<br>continent=Africa<br>year=2002<br>gdpPercap=%{x}<br>lifeExp=%{y}<extra></extra>",
         "legendgroup": "Tunisia",
         "marker": {
          "color": "rgb(76,114,176)",
          "symbol": "circle"
         },
         "mode": "markers",
         "name": "Tunisia",
         "orientation": "v",
         "showlegend": false,
         "type": "scatter",
         "x": [
          5722.8956549999975
         ],
         "xaxis": "x8",
         "y": [
          73.042
         ],
         "yaxis": "y8"
        },
        {
         "hovertemplate": "country=Tunisia<br>continent=Africa<br>year=2007<br>gdpPercap=%{x}<br>lifeExp=%{y}<extra></extra>",
         "legendgroup": "Tunisia",
         "marker": {
          "color": "rgb(76,114,176)",
          "symbol": "circle"
         },
         "mode": "markers",
         "name": "Tunisia",
         "orientation": "v",
         "showlegend": false,
         "type": "scatter",
         "x": [
          7092.923025
         ],
         "xaxis": "x9",
         "y": [
          73.923
         ],
         "yaxis": "y9"
        },
        {
         "hovertemplate": "country=Turkey<br>continent=Europe<br>year=1997<br>gdpPercap=%{x}<br>lifeExp=%{y}<extra></extra>",
         "legendgroup": "Turkey",
         "marker": {
          "color": "rgb(221,132,82)",
          "symbol": "circle"
         },
         "mode": "markers",
         "name": "Turkey",
         "orientation": "v",
         "showlegend": true,
         "type": "scatter",
         "x": [
          6601.429915
         ],
         "xaxis": "x10",
         "y": [
          68.835
         ],
         "yaxis": "y10"
        },
        {
         "hovertemplate": "country=Turkey<br>continent=Europe<br>year=2002<br>gdpPercap=%{x}<br>lifeExp=%{y}<extra></extra>",
         "legendgroup": "Turkey",
         "marker": {
          "color": "rgb(221,132,82)",
          "symbol": "circle"
         },
         "mode": "markers",
         "name": "Turkey",
         "orientation": "v",
         "showlegend": false,
         "type": "scatter",
         "x": [
          6508.085718
         ],
         "xaxis": "x11",
         "y": [
          70.845
         ],
         "yaxis": "y11"
        },
        {
         "hovertemplate": "country=Turkey<br>continent=Europe<br>year=2007<br>gdpPercap=%{x}<br>lifeExp=%{y}<extra></extra>",
         "legendgroup": "Turkey",
         "marker": {
          "color": "rgb(221,132,82)",
          "symbol": "circle"
         },
         "mode": "markers",
         "name": "Turkey",
         "orientation": "v",
         "showlegend": false,
         "type": "scatter",
         "x": [
          8458.276384
         ],
         "xaxis": "x12",
         "y": [
          71.777
         ],
         "yaxis": "y12"
        },
        {
         "hovertemplate": "country=Uganda<br>continent=Africa<br>year=1997<br>gdpPercap=%{x}<br>lifeExp=%{y}<extra></extra>",
         "legendgroup": "Uganda",
         "marker": {
          "color": "rgb(85,168,104)",
          "symbol": "circle"
         },
         "mode": "markers",
         "name": "Uganda",
         "orientation": "v",
         "showlegend": true,
         "type": "scatter",
         "x": [
          816.559081
         ],
         "xaxis": "x7",
         "y": [
          44.578
         ],
         "yaxis": "y7"
        },
        {
         "hovertemplate": "country=Uganda<br>continent=Africa<br>year=2002<br>gdpPercap=%{x}<br>lifeExp=%{y}<extra></extra>",
         "legendgroup": "Uganda",
         "marker": {
          "color": "rgb(85,168,104)",
          "symbol": "circle"
         },
         "mode": "markers",
         "name": "Uganda",
         "orientation": "v",
         "showlegend": false,
         "type": "scatter",
         "x": [
          927.7210018
         ],
         "xaxis": "x8",
         "y": [
          47.813
         ],
         "yaxis": "y8"
        },
        {
         "hovertemplate": "country=Uganda<br>continent=Africa<br>year=2007<br>gdpPercap=%{x}<br>lifeExp=%{y}<extra></extra>",
         "legendgroup": "Uganda",
         "marker": {
          "color": "rgb(85,168,104)",
          "symbol": "circle"
         },
         "mode": "markers",
         "name": "Uganda",
         "orientation": "v",
         "showlegend": false,
         "type": "scatter",
         "x": [
          1056.3801210000001
         ],
         "xaxis": "x9",
         "y": [
          51.542
         ],
         "yaxis": "y9"
        },
        {
         "hovertemplate": "country=United Kingdom<br>continent=Europe<br>year=1997<br>gdpPercap=%{x}<br>lifeExp=%{y}<extra></extra>",
         "legendgroup": "United Kingdom",
         "marker": {
          "color": "rgb(196,78,82)",
          "symbol": "circle"
         },
         "mode": "markers",
         "name": "United Kingdom",
         "orientation": "v",
         "showlegend": true,
         "type": "scatter",
         "x": [
          26074.53136
         ],
         "xaxis": "x10",
         "y": [
          77.218
         ],
         "yaxis": "y10"
        },
        {
         "hovertemplate": "country=United Kingdom<br>continent=Europe<br>year=2002<br>gdpPercap=%{x}<br>lifeExp=%{y}<extra></extra>",
         "legendgroup": "United Kingdom",
         "marker": {
          "color": "rgb(196,78,82)",
          "symbol": "circle"
         },
         "mode": "markers",
         "name": "United Kingdom",
         "orientation": "v",
         "showlegend": false,
         "type": "scatter",
         "x": [
          29478.99919
         ],
         "xaxis": "x11",
         "y": [
          78.471
         ],
         "yaxis": "y11"
        },
        {
         "hovertemplate": "country=United Kingdom<br>continent=Europe<br>year=2007<br>gdpPercap=%{x}<br>lifeExp=%{y}<extra></extra>",
         "legendgroup": "United Kingdom",
         "marker": {
          "color": "rgb(196,78,82)",
          "symbol": "circle"
         },
         "mode": "markers",
         "name": "United Kingdom",
         "orientation": "v",
         "showlegend": false,
         "type": "scatter",
         "x": [
          33203.26128
         ],
         "xaxis": "x12",
         "y": [
          79.425
         ],
         "yaxis": "y12"
        },
        {
         "hovertemplate": "country=United States<br>continent=Americas<br>year=1997<br>gdpPercap=%{x}<br>lifeExp=%{y}<extra></extra>",
         "legendgroup": "United States",
         "marker": {
          "color": "rgb(129,114,179)",
          "symbol": "circle"
         },
         "mode": "markers",
         "name": "United States",
         "orientation": "v",
         "showlegend": true,
         "type": "scatter",
         "x": [
          35767.43303
         ],
         "xaxis": "x4",
         "y": [
          76.81
         ],
         "yaxis": "y4"
        },
        {
         "hovertemplate": "country=United States<br>continent=Americas<br>year=2002<br>gdpPercap=%{x}<br>lifeExp=%{y}<extra></extra>",
         "legendgroup": "United States",
         "marker": {
          "color": "rgb(129,114,179)",
          "symbol": "circle"
         },
         "mode": "markers",
         "name": "United States",
         "orientation": "v",
         "showlegend": false,
         "type": "scatter",
         "x": [
          39097.09955
         ],
         "xaxis": "x5",
         "y": [
          77.31
         ],
         "yaxis": "y5"
        },
        {
         "hovertemplate": "country=United States<br>continent=Americas<br>year=2007<br>gdpPercap=%{x}<br>lifeExp=%{y}<extra></extra>",
         "legendgroup": "United States",
         "marker": {
          "color": "rgb(129,114,179)",
          "symbol": "circle"
         },
         "mode": "markers",
         "name": "United States",
         "orientation": "v",
         "showlegend": false,
         "type": "scatter",
         "x": [
          42951.65309
         ],
         "xaxis": "x6",
         "y": [
          78.242
         ],
         "yaxis": "y6"
        },
        {
         "hovertemplate": "country=Uruguay<br>continent=Americas<br>year=1997<br>gdpPercap=%{x}<br>lifeExp=%{y}<extra></extra>",
         "legendgroup": "Uruguay",
         "marker": {
          "color": "rgb(147,120,96)",
          "symbol": "circle"
         },
         "mode": "markers",
         "name": "Uruguay",
         "orientation": "v",
         "showlegend": true,
         "type": "scatter",
         "x": [
          9230.240708
         ],
         "xaxis": "x4",
         "y": [
          74.223
         ],
         "yaxis": "y4"
        },
        {
         "hovertemplate": "country=Uruguay<br>continent=Americas<br>year=2002<br>gdpPercap=%{x}<br>lifeExp=%{y}<extra></extra>",
         "legendgroup": "Uruguay",
         "marker": {
          "color": "rgb(147,120,96)",
          "symbol": "circle"
         },
         "mode": "markers",
         "name": "Uruguay",
         "orientation": "v",
         "showlegend": false,
         "type": "scatter",
         "x": [
          7727.002004000001
         ],
         "xaxis": "x5",
         "y": [
          75.307
         ],
         "yaxis": "y5"
        },
        {
         "hovertemplate": "country=Uruguay<br>continent=Americas<br>year=2007<br>gdpPercap=%{x}<br>lifeExp=%{y}<extra></extra>",
         "legendgroup": "Uruguay",
         "marker": {
          "color": "rgb(147,120,96)",
          "symbol": "circle"
         },
         "mode": "markers",
         "name": "Uruguay",
         "orientation": "v",
         "showlegend": false,
         "type": "scatter",
         "x": [
          10611.46299
         ],
         "xaxis": "x6",
         "y": [
          76.384
         ],
         "yaxis": "y6"
        },
        {
         "hovertemplate": "country=Venezuela<br>continent=Americas<br>year=1997<br>gdpPercap=%{x}<br>lifeExp=%{y}<extra></extra>",
         "legendgroup": "Venezuela",
         "marker": {
          "color": "rgb(218,139,195)",
          "symbol": "circle"
         },
         "mode": "markers",
         "name": "Venezuela",
         "orientation": "v",
         "showlegend": true,
         "type": "scatter",
         "x": [
          10165.49518
         ],
         "xaxis": "x4",
         "y": [
          72.146
         ],
         "yaxis": "y4"
        },
        {
         "hovertemplate": "country=Venezuela<br>continent=Americas<br>year=2002<br>gdpPercap=%{x}<br>lifeExp=%{y}<extra></extra>",
         "legendgroup": "Venezuela",
         "marker": {
          "color": "rgb(218,139,195)",
          "symbol": "circle"
         },
         "mode": "markers",
         "name": "Venezuela",
         "orientation": "v",
         "showlegend": false,
         "type": "scatter",
         "x": [
          8605.047831
         ],
         "xaxis": "x5",
         "y": [
          72.766
         ],
         "yaxis": "y5"
        },
        {
         "hovertemplate": "country=Venezuela<br>continent=Americas<br>year=2007<br>gdpPercap=%{x}<br>lifeExp=%{y}<extra></extra>",
         "legendgroup": "Venezuela",
         "marker": {
          "color": "rgb(218,139,195)",
          "symbol": "circle"
         },
         "mode": "markers",
         "name": "Venezuela",
         "orientation": "v",
         "showlegend": false,
         "type": "scatter",
         "x": [
          11415.805690000001
         ],
         "xaxis": "x6",
         "y": [
          73.747
         ],
         "yaxis": "y6"
        },
        {
         "hovertemplate": "country=Vietnam<br>continent=Asia<br>year=1997<br>gdpPercap=%{x}<br>lifeExp=%{y}<extra></extra>",
         "legendgroup": "Vietnam",
         "marker": {
          "color": "rgb(140,140,140)",
          "symbol": "circle"
         },
         "mode": "markers",
         "name": "Vietnam",
         "orientation": "v",
         "showlegend": true,
         "type": "scatter",
         "x": [
          1385.896769
         ],
         "xaxis": "x13",
         "y": [
          70.672
         ],
         "yaxis": "y13"
        },
        {
         "hovertemplate": "country=Vietnam<br>continent=Asia<br>year=2002<br>gdpPercap=%{x}<br>lifeExp=%{y}<extra></extra>",
         "legendgroup": "Vietnam",
         "marker": {
          "color": "rgb(140,140,140)",
          "symbol": "circle"
         },
         "mode": "markers",
         "name": "Vietnam",
         "orientation": "v",
         "showlegend": false,
         "type": "scatter",
         "x": [
          1764.456677
         ],
         "xaxis": "x14",
         "y": [
          73.017
         ],
         "yaxis": "y14"
        },
        {
         "hovertemplate": "country=Vietnam<br>continent=Asia<br>year=2007<br>gdpPercap=%{x}<br>lifeExp=%{y}<extra></extra>",
         "legendgroup": "Vietnam",
         "marker": {
          "color": "rgb(140,140,140)",
          "symbol": "circle"
         },
         "mode": "markers",
         "name": "Vietnam",
         "orientation": "v",
         "showlegend": false,
         "type": "scatter",
         "x": [
          2441.576404
         ],
         "xaxis": "x15",
         "y": [
          74.249
         ],
         "yaxis": "y15"
        },
        {
         "hovertemplate": "country=West Bank and Gaza<br>continent=Asia<br>year=1997<br>gdpPercap=%{x}<br>lifeExp=%{y}<extra></extra>",
         "legendgroup": "West Bank and Gaza",
         "marker": {
          "color": "rgb(204,185,116)",
          "symbol": "circle"
         },
         "mode": "markers",
         "name": "West Bank and Gaza",
         "orientation": "v",
         "showlegend": true,
         "type": "scatter",
         "x": [
          7110.667619
         ],
         "xaxis": "x13",
         "y": [
          71.096
         ],
         "yaxis": "y13"
        },
        {
         "hovertemplate": "country=West Bank and Gaza<br>continent=Asia<br>year=2002<br>gdpPercap=%{x}<br>lifeExp=%{y}<extra></extra>",
         "legendgroup": "West Bank and Gaza",
         "marker": {
          "color": "rgb(204,185,116)",
          "symbol": "circle"
         },
         "mode": "markers",
         "name": "West Bank and Gaza",
         "orientation": "v",
         "showlegend": false,
         "type": "scatter",
         "x": [
          4515.487575
         ],
         "xaxis": "x14",
         "y": [
          72.37
         ],
         "yaxis": "y14"
        },
        {
         "hovertemplate": "country=West Bank and Gaza<br>continent=Asia<br>year=2007<br>gdpPercap=%{x}<br>lifeExp=%{y}<extra></extra>",
         "legendgroup": "West Bank and Gaza",
         "marker": {
          "color": "rgb(204,185,116)",
          "symbol": "circle"
         },
         "mode": "markers",
         "name": "West Bank and Gaza",
         "orientation": "v",
         "showlegend": false,
         "type": "scatter",
         "x": [
          3025.349798
         ],
         "xaxis": "x15",
         "y": [
          73.422
         ],
         "yaxis": "y15"
        },
        {
         "hovertemplate": "country=Yemen, Rep.<br>continent=Asia<br>year=1997<br>gdpPercap=%{x}<br>lifeExp=%{y}<extra></extra>",
         "legendgroup": "Yemen, Rep.",
         "marker": {
          "color": "rgb(100,181,205)",
          "symbol": "circle"
         },
         "mode": "markers",
         "name": "Yemen, Rep.",
         "orientation": "v",
         "showlegend": true,
         "type": "scatter",
         "x": [
          2117.484526
         ],
         "xaxis": "x13",
         "y": [
          58.02
         ],
         "yaxis": "y13"
        },
        {
         "hovertemplate": "country=Yemen, Rep.<br>continent=Asia<br>year=2002<br>gdpPercap=%{x}<br>lifeExp=%{y}<extra></extra>",
         "legendgroup": "Yemen, Rep.",
         "marker": {
          "color": "rgb(100,181,205)",
          "symbol": "circle"
         },
         "mode": "markers",
         "name": "Yemen, Rep.",
         "orientation": "v",
         "showlegend": false,
         "type": "scatter",
         "x": [
          2234.820827
         ],
         "xaxis": "x14",
         "y": [
          60.308
         ],
         "yaxis": "y14"
        },
        {
         "hovertemplate": "country=Yemen, Rep.<br>continent=Asia<br>year=2007<br>gdpPercap=%{x}<br>lifeExp=%{y}<extra></extra>",
         "legendgroup": "Yemen, Rep.",
         "marker": {
          "color": "rgb(100,181,205)",
          "symbol": "circle"
         },
         "mode": "markers",
         "name": "Yemen, Rep.",
         "orientation": "v",
         "showlegend": false,
         "type": "scatter",
         "x": [
          2280.769906
         ],
         "xaxis": "x15",
         "y": [
          62.698
         ],
         "yaxis": "y15"
        },
        {
         "hovertemplate": "country=Zambia<br>continent=Africa<br>year=1997<br>gdpPercap=%{x}<br>lifeExp=%{y}<extra></extra>",
         "legendgroup": "Zambia",
         "marker": {
          "color": "rgb(76,114,176)",
          "symbol": "circle"
         },
         "mode": "markers",
         "name": "Zambia",
         "orientation": "v",
         "showlegend": true,
         "type": "scatter",
         "x": [
          1071.353818
         ],
         "xaxis": "x7",
         "y": [
          40.238
         ],
         "yaxis": "y7"
        },
        {
         "hovertemplate": "country=Zambia<br>continent=Africa<br>year=2002<br>gdpPercap=%{x}<br>lifeExp=%{y}<extra></extra>",
         "legendgroup": "Zambia",
         "marker": {
          "color": "rgb(76,114,176)",
          "symbol": "circle"
         },
         "mode": "markers",
         "name": "Zambia",
         "orientation": "v",
         "showlegend": false,
         "type": "scatter",
         "x": [
          1071.6139380000004
         ],
         "xaxis": "x8",
         "y": [
          39.19300000000001
         ],
         "yaxis": "y8"
        },
        {
         "hovertemplate": "country=Zambia<br>continent=Africa<br>year=2007<br>gdpPercap=%{x}<br>lifeExp=%{y}<extra></extra>",
         "legendgroup": "Zambia",
         "marker": {
          "color": "rgb(76,114,176)",
          "symbol": "circle"
         },
         "mode": "markers",
         "name": "Zambia",
         "orientation": "v",
         "showlegend": false,
         "type": "scatter",
         "x": [
          1271.211593
         ],
         "xaxis": "x9",
         "y": [
          42.38399999999999
         ],
         "yaxis": "y9"
        },
        {
         "hovertemplate": "country=Zimbabwe<br>continent=Africa<br>year=1997<br>gdpPercap=%{x}<br>lifeExp=%{y}<extra></extra>",
         "legendgroup": "Zimbabwe",
         "marker": {
          "color": "rgb(221,132,82)",
          "symbol": "circle"
         },
         "mode": "markers",
         "name": "Zimbabwe",
         "orientation": "v",
         "showlegend": true,
         "type": "scatter",
         "x": [
          792.4499602999997
         ],
         "xaxis": "x7",
         "y": [
          46.809
         ],
         "yaxis": "y7"
        },
        {
         "hovertemplate": "country=Zimbabwe<br>continent=Africa<br>year=2002<br>gdpPercap=%{x}<br>lifeExp=%{y}<extra></extra>",
         "legendgroup": "Zimbabwe",
         "marker": {
          "color": "rgb(221,132,82)",
          "symbol": "circle"
         },
         "mode": "markers",
         "name": "Zimbabwe",
         "orientation": "v",
         "showlegend": false,
         "type": "scatter",
         "x": [
          672.0386227000001
         ],
         "xaxis": "x8",
         "y": [
          39.989000000000004
         ],
         "yaxis": "y8"
        },
        {
         "hovertemplate": "country=Zimbabwe<br>continent=Africa<br>year=2007<br>gdpPercap=%{x}<br>lifeExp=%{y}<extra></extra>",
         "legendgroup": "Zimbabwe",
         "marker": {
          "color": "rgb(221,132,82)",
          "symbol": "circle"
         },
         "mode": "markers",
         "name": "Zimbabwe",
         "orientation": "v",
         "showlegend": false,
         "type": "scatter",
         "x": [
          469.70929810000007
         ],
         "xaxis": "x9",
         "y": [
          43.486999999999995
         ],
         "yaxis": "y9"
        }
       ],
       "layout": {
        "annotations": [
         {
          "font": {},
          "showarrow": false,
          "text": "year=1997",
          "x": 0.15666666666666665,
          "xanchor": "center",
          "xref": "paper",
          "y": 1,
          "yanchor": "bottom",
          "yref": "paper"
         },
         {
          "font": {},
          "showarrow": false,
          "text": "year=2002",
          "x": 0.49,
          "xanchor": "center",
          "xref": "paper",
          "y": 1,
          "yanchor": "bottom",
          "yref": "paper"
         },
         {
          "font": {},
          "showarrow": false,
          "text": "year=2007",
          "x": 0.8233333333333333,
          "xanchor": "center",
          "xref": "paper",
          "y": 1,
          "yanchor": "bottom",
          "yref": "paper"
         },
         {
          "font": {},
          "showarrow": false,
          "text": "continent=Oceania",
          "textangle": 90,
          "x": 0.98,
          "xanchor": "left",
          "xref": "paper",
          "y": 0.08800000000000001,
          "yanchor": "middle",
          "yref": "paper"
         },
         {
          "font": {},
          "showarrow": false,
          "text": "continent=Americas",
          "textangle": 90,
          "x": 0.98,
          "xanchor": "left",
          "xref": "paper",
          "y": 0.29400000000000004,
          "yanchor": "middle",
          "yref": "paper"
         },
         {
          "font": {},
          "showarrow": false,
          "text": "continent=Africa",
          "textangle": 90,
          "x": 0.98,
          "xanchor": "left",
          "xref": "paper",
          "y": 0.5,
          "yanchor": "middle",
          "yref": "paper"
         },
         {
          "font": {},
          "showarrow": false,
          "text": "continent=Europe",
          "textangle": 90,
          "x": 0.98,
          "xanchor": "left",
          "xref": "paper",
          "y": 0.706,
          "yanchor": "middle",
          "yref": "paper"
         },
         {
          "font": {},
          "showarrow": false,
          "text": "continent=Asia",
          "textangle": 90,
          "x": 0.98,
          "xanchor": "left",
          "xref": "paper",
          "y": 0.912,
          "yanchor": "middle",
          "yref": "paper"
         }
        ],
        "height": 1000,
        "legend": {
         "title": {
          "text": "country"
         },
         "tracegroupgap": 0
        },
        "margin": {
         "t": 60
        },
        "template": {
         "data": {
          "bar": [
           {
            "error_x": {
             "color": "rgb(36,36,36)"
            },
            "error_y": {
             "color": "rgb(36,36,36)"
            },
            "marker": {
             "line": {
              "color": "rgb(234,234,242)",
              "width": 0.5
             },
             "pattern": {
              "fillmode": "overlay",
              "size": 10,
              "solidity": 0.2
             }
            },
            "type": "bar"
           }
          ],
          "barpolar": [
           {
            "marker": {
             "line": {
              "color": "rgb(234,234,242)",
              "width": 0.5
             },
             "pattern": {
              "fillmode": "overlay",
              "size": 10,
              "solidity": 0.2
             }
            },
            "type": "barpolar"
           }
          ],
          "carpet": [
           {
            "aaxis": {
             "endlinecolor": "rgb(36,36,36)",
             "gridcolor": "white",
             "linecolor": "white",
             "minorgridcolor": "white",
             "startlinecolor": "rgb(36,36,36)"
            },
            "baxis": {
             "endlinecolor": "rgb(36,36,36)",
             "gridcolor": "white",
             "linecolor": "white",
             "minorgridcolor": "white",
             "startlinecolor": "rgb(36,36,36)"
            },
            "type": "carpet"
           }
          ],
          "choropleth": [
           {
            "colorbar": {
             "outlinewidth": 0,
             "tickcolor": "rgb(36,36,36)",
             "ticklen": 8,
             "ticks": "outside",
             "tickwidth": 2
            },
            "type": "choropleth"
           }
          ],
          "contour": [
           {
            "colorbar": {
             "outlinewidth": 0,
             "tickcolor": "rgb(36,36,36)",
             "ticklen": 8,
             "ticks": "outside",
             "tickwidth": 2
            },
            "colorscale": [
             [
              0,
              "rgb(2,4,25)"
             ],
             [
              0.06274509803921569,
              "rgb(24,15,41)"
             ],
             [
              0.12549019607843137,
              "rgb(47,23,57)"
             ],
             [
              0.18823529411764706,
              "rgb(71,28,72)"
             ],
             [
              0.25098039215686274,
              "rgb(97,30,82)"
             ],
             [
              0.3137254901960784,
              "rgb(123,30,89)"
             ],
             [
              0.3764705882352941,
              "rgb(150,27,91)"
             ],
             [
              0.4392156862745098,
              "rgb(177,22,88)"
             ],
             [
              0.5019607843137255,
              "rgb(203,26,79)"
             ],
             [
              0.5647058823529412,
              "rgb(223,47,67)"
             ],
             [
              0.6274509803921569,
              "rgb(236,76,61)"
             ],
             [
              0.6901960784313725,
              "rgb(242,107,73)"
             ],
             [
              0.7529411764705882,
              "rgb(244,135,95)"
             ],
             [
              0.8156862745098039,
              "rgb(245,162,122)"
             ],
             [
              0.8784313725490196,
              "rgb(246,188,153)"
             ],
             [
              0.9411764705882353,
              "rgb(247,212,187)"
             ],
             [
              1,
              "rgb(250,234,220)"
             ]
            ],
            "type": "contour"
           }
          ],
          "contourcarpet": [
           {
            "colorbar": {
             "outlinewidth": 0,
             "tickcolor": "rgb(36,36,36)",
             "ticklen": 8,
             "ticks": "outside",
             "tickwidth": 2
            },
            "type": "contourcarpet"
           }
          ],
          "heatmap": [
           {
            "colorbar": {
             "outlinewidth": 0,
             "tickcolor": "rgb(36,36,36)",
             "ticklen": 8,
             "ticks": "outside",
             "tickwidth": 2
            },
            "colorscale": [
             [
              0,
              "rgb(2,4,25)"
             ],
             [
              0.06274509803921569,
              "rgb(24,15,41)"
             ],
             [
              0.12549019607843137,
              "rgb(47,23,57)"
             ],
             [
              0.18823529411764706,
              "rgb(71,28,72)"
             ],
             [
              0.25098039215686274,
              "rgb(97,30,82)"
             ],
             [
              0.3137254901960784,
              "rgb(123,30,89)"
             ],
             [
              0.3764705882352941,
              "rgb(150,27,91)"
             ],
             [
              0.4392156862745098,
              "rgb(177,22,88)"
             ],
             [
              0.5019607843137255,
              "rgb(203,26,79)"
             ],
             [
              0.5647058823529412,
              "rgb(223,47,67)"
             ],
             [
              0.6274509803921569,
              "rgb(236,76,61)"
             ],
             [
              0.6901960784313725,
              "rgb(242,107,73)"
             ],
             [
              0.7529411764705882,
              "rgb(244,135,95)"
             ],
             [
              0.8156862745098039,
              "rgb(245,162,122)"
             ],
             [
              0.8784313725490196,
              "rgb(246,188,153)"
             ],
             [
              0.9411764705882353,
              "rgb(247,212,187)"
             ],
             [
              1,
              "rgb(250,234,220)"
             ]
            ],
            "type": "heatmap"
           }
          ],
          "heatmapgl": [
           {
            "colorbar": {
             "outlinewidth": 0,
             "tickcolor": "rgb(36,36,36)",
             "ticklen": 8,
             "ticks": "outside",
             "tickwidth": 2
            },
            "colorscale": [
             [
              0,
              "rgb(2,4,25)"
             ],
             [
              0.06274509803921569,
              "rgb(24,15,41)"
             ],
             [
              0.12549019607843137,
              "rgb(47,23,57)"
             ],
             [
              0.18823529411764706,
              "rgb(71,28,72)"
             ],
             [
              0.25098039215686274,
              "rgb(97,30,82)"
             ],
             [
              0.3137254901960784,
              "rgb(123,30,89)"
             ],
             [
              0.3764705882352941,
              "rgb(150,27,91)"
             ],
             [
              0.4392156862745098,
              "rgb(177,22,88)"
             ],
             [
              0.5019607843137255,
              "rgb(203,26,79)"
             ],
             [
              0.5647058823529412,
              "rgb(223,47,67)"
             ],
             [
              0.6274509803921569,
              "rgb(236,76,61)"
             ],
             [
              0.6901960784313725,
              "rgb(242,107,73)"
             ],
             [
              0.7529411764705882,
              "rgb(244,135,95)"
             ],
             [
              0.8156862745098039,
              "rgb(245,162,122)"
             ],
             [
              0.8784313725490196,
              "rgb(246,188,153)"
             ],
             [
              0.9411764705882353,
              "rgb(247,212,187)"
             ],
             [
              1,
              "rgb(250,234,220)"
             ]
            ],
            "type": "heatmapgl"
           }
          ],
          "histogram": [
           {
            "marker": {
             "pattern": {
              "fillmode": "overlay",
              "size": 10,
              "solidity": 0.2
             }
            },
            "type": "histogram"
           }
          ],
          "histogram2d": [
           {
            "colorbar": {
             "outlinewidth": 0,
             "tickcolor": "rgb(36,36,36)",
             "ticklen": 8,
             "ticks": "outside",
             "tickwidth": 2
            },
            "colorscale": [
             [
              0,
              "rgb(2,4,25)"
             ],
             [
              0.06274509803921569,
              "rgb(24,15,41)"
             ],
             [
              0.12549019607843137,
              "rgb(47,23,57)"
             ],
             [
              0.18823529411764706,
              "rgb(71,28,72)"
             ],
             [
              0.25098039215686274,
              "rgb(97,30,82)"
             ],
             [
              0.3137254901960784,
              "rgb(123,30,89)"
             ],
             [
              0.3764705882352941,
              "rgb(150,27,91)"
             ],
             [
              0.4392156862745098,
              "rgb(177,22,88)"
             ],
             [
              0.5019607843137255,
              "rgb(203,26,79)"
             ],
             [
              0.5647058823529412,
              "rgb(223,47,67)"
             ],
             [
              0.6274509803921569,
              "rgb(236,76,61)"
             ],
             [
              0.6901960784313725,
              "rgb(242,107,73)"
             ],
             [
              0.7529411764705882,
              "rgb(244,135,95)"
             ],
             [
              0.8156862745098039,
              "rgb(245,162,122)"
             ],
             [
              0.8784313725490196,
              "rgb(246,188,153)"
             ],
             [
              0.9411764705882353,
              "rgb(247,212,187)"
             ],
             [
              1,
              "rgb(250,234,220)"
             ]
            ],
            "type": "histogram2d"
           }
          ],
          "histogram2dcontour": [
           {
            "colorbar": {
             "outlinewidth": 0,
             "tickcolor": "rgb(36,36,36)",
             "ticklen": 8,
             "ticks": "outside",
             "tickwidth": 2
            },
            "colorscale": [
             [
              0,
              "rgb(2,4,25)"
             ],
             [
              0.06274509803921569,
              "rgb(24,15,41)"
             ],
             [
              0.12549019607843137,
              "rgb(47,23,57)"
             ],
             [
              0.18823529411764706,
              "rgb(71,28,72)"
             ],
             [
              0.25098039215686274,
              "rgb(97,30,82)"
             ],
             [
              0.3137254901960784,
              "rgb(123,30,89)"
             ],
             [
              0.3764705882352941,
              "rgb(150,27,91)"
             ],
             [
              0.4392156862745098,
              "rgb(177,22,88)"
             ],
             [
              0.5019607843137255,
              "rgb(203,26,79)"
             ],
             [
              0.5647058823529412,
              "rgb(223,47,67)"
             ],
             [
              0.6274509803921569,
              "rgb(236,76,61)"
             ],
             [
              0.6901960784313725,
              "rgb(242,107,73)"
             ],
             [
              0.7529411764705882,
              "rgb(244,135,95)"
             ],
             [
              0.8156862745098039,
              "rgb(245,162,122)"
             ],
             [
              0.8784313725490196,
              "rgb(246,188,153)"
             ],
             [
              0.9411764705882353,
              "rgb(247,212,187)"
             ],
             [
              1,
              "rgb(250,234,220)"
             ]
            ],
            "type": "histogram2dcontour"
           }
          ],
          "mesh3d": [
           {
            "colorbar": {
             "outlinewidth": 0,
             "tickcolor": "rgb(36,36,36)",
             "ticklen": 8,
             "ticks": "outside",
             "tickwidth": 2
            },
            "type": "mesh3d"
           }
          ],
          "parcoords": [
           {
            "line": {
             "colorbar": {
              "outlinewidth": 0,
              "tickcolor": "rgb(36,36,36)",
              "ticklen": 8,
              "ticks": "outside",
              "tickwidth": 2
             }
            },
            "type": "parcoords"
           }
          ],
          "pie": [
           {
            "automargin": true,
            "type": "pie"
           }
          ],
          "scatter": [
           {
            "marker": {
             "colorbar": {
              "outlinewidth": 0,
              "tickcolor": "rgb(36,36,36)",
              "ticklen": 8,
              "ticks": "outside",
              "tickwidth": 2
             }
            },
            "type": "scatter"
           }
          ],
          "scatter3d": [
           {
            "line": {
             "colorbar": {
              "outlinewidth": 0,
              "tickcolor": "rgb(36,36,36)",
              "ticklen": 8,
              "ticks": "outside",
              "tickwidth": 2
             }
            },
            "marker": {
             "colorbar": {
              "outlinewidth": 0,
              "tickcolor": "rgb(36,36,36)",
              "ticklen": 8,
              "ticks": "outside",
              "tickwidth": 2
             }
            },
            "type": "scatter3d"
           }
          ],
          "scattercarpet": [
           {
            "marker": {
             "colorbar": {
              "outlinewidth": 0,
              "tickcolor": "rgb(36,36,36)",
              "ticklen": 8,
              "ticks": "outside",
              "tickwidth": 2
             }
            },
            "type": "scattercarpet"
           }
          ],
          "scattergeo": [
           {
            "marker": {
             "colorbar": {
              "outlinewidth": 0,
              "tickcolor": "rgb(36,36,36)",
              "ticklen": 8,
              "ticks": "outside",
              "tickwidth": 2
             }
            },
            "type": "scattergeo"
           }
          ],
          "scattergl": [
           {
            "marker": {
             "colorbar": {
              "outlinewidth": 0,
              "tickcolor": "rgb(36,36,36)",
              "ticklen": 8,
              "ticks": "outside",
              "tickwidth": 2
             }
            },
            "type": "scattergl"
           }
          ],
          "scattermapbox": [
           {
            "marker": {
             "colorbar": {
              "outlinewidth": 0,
              "tickcolor": "rgb(36,36,36)",
              "ticklen": 8,
              "ticks": "outside",
              "tickwidth": 2
             }
            },
            "type": "scattermapbox"
           }
          ],
          "scatterpolar": [
           {
            "marker": {
             "colorbar": {
              "outlinewidth": 0,
              "tickcolor": "rgb(36,36,36)",
              "ticklen": 8,
              "ticks": "outside",
              "tickwidth": 2
             }
            },
            "type": "scatterpolar"
           }
          ],
          "scatterpolargl": [
           {
            "marker": {
             "colorbar": {
              "outlinewidth": 0,
              "tickcolor": "rgb(36,36,36)",
              "ticklen": 8,
              "ticks": "outside",
              "tickwidth": 2
             }
            },
            "type": "scatterpolargl"
           }
          ],
          "scatterternary": [
           {
            "marker": {
             "colorbar": {
              "outlinewidth": 0,
              "tickcolor": "rgb(36,36,36)",
              "ticklen": 8,
              "ticks": "outside",
              "tickwidth": 2
             }
            },
            "type": "scatterternary"
           }
          ],
          "surface": [
           {
            "colorbar": {
             "outlinewidth": 0,
             "tickcolor": "rgb(36,36,36)",
             "ticklen": 8,
             "ticks": "outside",
             "tickwidth": 2
            },
            "colorscale": [
             [
              0,
              "rgb(2,4,25)"
             ],
             [
              0.06274509803921569,
              "rgb(24,15,41)"
             ],
             [
              0.12549019607843137,
              "rgb(47,23,57)"
             ],
             [
              0.18823529411764706,
              "rgb(71,28,72)"
             ],
             [
              0.25098039215686274,
              "rgb(97,30,82)"
             ],
             [
              0.3137254901960784,
              "rgb(123,30,89)"
             ],
             [
              0.3764705882352941,
              "rgb(150,27,91)"
             ],
             [
              0.4392156862745098,
              "rgb(177,22,88)"
             ],
             [
              0.5019607843137255,
              "rgb(203,26,79)"
             ],
             [
              0.5647058823529412,
              "rgb(223,47,67)"
             ],
             [
              0.6274509803921569,
              "rgb(236,76,61)"
             ],
             [
              0.6901960784313725,
              "rgb(242,107,73)"
             ],
             [
              0.7529411764705882,
              "rgb(244,135,95)"
             ],
             [
              0.8156862745098039,
              "rgb(245,162,122)"
             ],
             [
              0.8784313725490196,
              "rgb(246,188,153)"
             ],
             [
              0.9411764705882353,
              "rgb(247,212,187)"
             ],
             [
              1,
              "rgb(250,234,220)"
             ]
            ],
            "type": "surface"
           }
          ],
          "table": [
           {
            "cells": {
             "fill": {
              "color": "rgb(231,231,240)"
             },
             "line": {
              "color": "white"
             }
            },
            "header": {
             "fill": {
              "color": "rgb(183,183,191)"
             },
             "line": {
              "color": "white"
             }
            },
            "type": "table"
           }
          ]
         },
         "layout": {
          "annotationdefaults": {
           "arrowcolor": "rgb(67,103,167)"
          },
          "autotypenumbers": "strict",
          "coloraxis": {
           "colorbar": {
            "outlinewidth": 0,
            "tickcolor": "rgb(36,36,36)",
            "ticklen": 8,
            "ticks": "outside",
            "tickwidth": 2
           }
          },
          "colorscale": {
           "sequential": [
            [
             0,
             "rgb(2,4,25)"
            ],
            [
             0.06274509803921569,
             "rgb(24,15,41)"
            ],
            [
             0.12549019607843137,
             "rgb(47,23,57)"
            ],
            [
             0.18823529411764706,
             "rgb(71,28,72)"
            ],
            [
             0.25098039215686274,
             "rgb(97,30,82)"
            ],
            [
             0.3137254901960784,
             "rgb(123,30,89)"
            ],
            [
             0.3764705882352941,
             "rgb(150,27,91)"
            ],
            [
             0.4392156862745098,
             "rgb(177,22,88)"
            ],
            [
             0.5019607843137255,
             "rgb(203,26,79)"
            ],
            [
             0.5647058823529412,
             "rgb(223,47,67)"
            ],
            [
             0.6274509803921569,
             "rgb(236,76,61)"
            ],
            [
             0.6901960784313725,
             "rgb(242,107,73)"
            ],
            [
             0.7529411764705882,
             "rgb(244,135,95)"
            ],
            [
             0.8156862745098039,
             "rgb(245,162,122)"
            ],
            [
             0.8784313725490196,
             "rgb(246,188,153)"
            ],
            [
             0.9411764705882353,
             "rgb(247,212,187)"
            ],
            [
             1,
             "rgb(250,234,220)"
            ]
           ],
           "sequentialminus": [
            [
             0,
             "rgb(2,4,25)"
            ],
            [
             0.06274509803921569,
             "rgb(24,15,41)"
            ],
            [
             0.12549019607843137,
             "rgb(47,23,57)"
            ],
            [
             0.18823529411764706,
             "rgb(71,28,72)"
            ],
            [
             0.25098039215686274,
             "rgb(97,30,82)"
            ],
            [
             0.3137254901960784,
             "rgb(123,30,89)"
            ],
            [
             0.3764705882352941,
             "rgb(150,27,91)"
            ],
            [
             0.4392156862745098,
             "rgb(177,22,88)"
            ],
            [
             0.5019607843137255,
             "rgb(203,26,79)"
            ],
            [
             0.5647058823529412,
             "rgb(223,47,67)"
            ],
            [
             0.6274509803921569,
             "rgb(236,76,61)"
            ],
            [
             0.6901960784313725,
             "rgb(242,107,73)"
            ],
            [
             0.7529411764705882,
             "rgb(244,135,95)"
            ],
            [
             0.8156862745098039,
             "rgb(245,162,122)"
            ],
            [
             0.8784313725490196,
             "rgb(246,188,153)"
            ],
            [
             0.9411764705882353,
             "rgb(247,212,187)"
            ],
            [
             1,
             "rgb(250,234,220)"
            ]
           ]
          },
          "colorway": [
           "rgb(76,114,176)",
           "rgb(221,132,82)",
           "rgb(85,168,104)",
           "rgb(196,78,82)",
           "rgb(129,114,179)",
           "rgb(147,120,96)",
           "rgb(218,139,195)",
           "rgb(140,140,140)",
           "rgb(204,185,116)",
           "rgb(100,181,205)"
          ],
          "font": {
           "color": "rgb(36,36,36)"
          },
          "geo": {
           "bgcolor": "white",
           "lakecolor": "white",
           "landcolor": "rgb(234,234,242)",
           "showlakes": true,
           "showland": true,
           "subunitcolor": "white"
          },
          "hoverlabel": {
           "align": "left"
          },
          "hovermode": "closest",
          "paper_bgcolor": "white",
          "plot_bgcolor": "rgb(234,234,242)",
          "polar": {
           "angularaxis": {
            "gridcolor": "white",
            "linecolor": "white",
            "showgrid": true,
            "ticks": ""
           },
           "bgcolor": "rgb(234,234,242)",
           "radialaxis": {
            "gridcolor": "white",
            "linecolor": "white",
            "showgrid": true,
            "ticks": ""
           }
          },
          "scene": {
           "xaxis": {
            "backgroundcolor": "rgb(234,234,242)",
            "gridcolor": "white",
            "gridwidth": 2,
            "linecolor": "white",
            "showbackground": true,
            "showgrid": true,
            "ticks": "",
            "zerolinecolor": "white"
           },
           "yaxis": {
            "backgroundcolor": "rgb(234,234,242)",
            "gridcolor": "white",
            "gridwidth": 2,
            "linecolor": "white",
            "showbackground": true,
            "showgrid": true,
            "ticks": "",
            "zerolinecolor": "white"
           },
           "zaxis": {
            "backgroundcolor": "rgb(234,234,242)",
            "gridcolor": "white",
            "gridwidth": 2,
            "linecolor": "white",
            "showbackground": true,
            "showgrid": true,
            "ticks": "",
            "zerolinecolor": "white"
           }
          },
          "shapedefaults": {
           "fillcolor": "rgb(67,103,167)",
           "line": {
            "width": 0
           },
           "opacity": 0.5
          },
          "ternary": {
           "aaxis": {
            "gridcolor": "white",
            "linecolor": "white",
            "showgrid": true,
            "ticks": ""
           },
           "baxis": {
            "gridcolor": "white",
            "linecolor": "white",
            "showgrid": true,
            "ticks": ""
           },
           "bgcolor": "rgb(234,234,242)",
           "caxis": {
            "gridcolor": "white",
            "linecolor": "white",
            "showgrid": true,
            "ticks": ""
           }
          },
          "xaxis": {
           "automargin": true,
           "gridcolor": "white",
           "linecolor": "white",
           "showgrid": true,
           "ticks": "",
           "title": {
            "standoff": 15
           },
           "zerolinecolor": "white"
          },
          "yaxis": {
           "automargin": true,
           "gridcolor": "white",
           "linecolor": "white",
           "showgrid": true,
           "ticks": "",
           "title": {
            "standoff": 15
           },
           "zerolinecolor": "white"
          }
         }
        },
        "xaxis": {
         "anchor": "y",
         "domain": [
          0,
          0.3133333333333333
         ],
         "title": {
          "text": "gdpPercap"
         }
        },
        "xaxis10": {
         "anchor": "y10",
         "domain": [
          0,
          0.3133333333333333
         ],
         "matches": "x",
         "showticklabels": false
        },
        "xaxis11": {
         "anchor": "y11",
         "domain": [
          0.3333333333333333,
          0.6466666666666666
         ],
         "matches": "x",
         "showticklabels": false
        },
        "xaxis12": {
         "anchor": "y12",
         "domain": [
          0.6666666666666666,
          0.98
         ],
         "matches": "x",
         "showticklabels": false
        },
        "xaxis13": {
         "anchor": "y13",
         "domain": [
          0,
          0.3133333333333333
         ],
         "matches": "x",
         "showticklabels": false
        },
        "xaxis14": {
         "anchor": "y14",
         "domain": [
          0.3333333333333333,
          0.6466666666666666
         ],
         "matches": "x",
         "showticklabels": false
        },
        "xaxis15": {
         "anchor": "y15",
         "domain": [
          0.6666666666666666,
          0.98
         ],
         "matches": "x",
         "showticklabels": false
        },
        "xaxis2": {
         "anchor": "y2",
         "domain": [
          0.3333333333333333,
          0.6466666666666666
         ],
         "matches": "x",
         "title": {
          "text": "gdpPercap"
         }
        },
        "xaxis3": {
         "anchor": "y3",
         "domain": [
          0.6666666666666666,
          0.98
         ],
         "matches": "x",
         "title": {
          "text": "gdpPercap"
         }
        },
        "xaxis4": {
         "anchor": "y4",
         "domain": [
          0,
          0.3133333333333333
         ],
         "matches": "x",
         "showticklabels": false
        },
        "xaxis5": {
         "anchor": "y5",
         "domain": [
          0.3333333333333333,
          0.6466666666666666
         ],
         "matches": "x",
         "showticklabels": false
        },
        "xaxis6": {
         "anchor": "y6",
         "domain": [
          0.6666666666666666,
          0.98
         ],
         "matches": "x",
         "showticklabels": false
        },
        "xaxis7": {
         "anchor": "y7",
         "domain": [
          0,
          0.3133333333333333
         ],
         "matches": "x",
         "showticklabels": false
        },
        "xaxis8": {
         "anchor": "y8",
         "domain": [
          0.3333333333333333,
          0.6466666666666666
         ],
         "matches": "x",
         "showticklabels": false
        },
        "xaxis9": {
         "anchor": "y9",
         "domain": [
          0.6666666666666666,
          0.98
         ],
         "matches": "x",
         "showticklabels": false
        },
        "yaxis": {
         "anchor": "x",
         "domain": [
          0,
          0.17600000000000002
         ],
         "title": {
          "text": "lifeExp"
         }
        },
        "yaxis10": {
         "anchor": "x10",
         "domain": [
          0.618,
          0.794
         ],
         "matches": "y",
         "title": {
          "text": "lifeExp"
         }
        },
        "yaxis11": {
         "anchor": "x11",
         "domain": [
          0.618,
          0.794
         ],
         "matches": "y",
         "showticklabels": false
        },
        "yaxis12": {
         "anchor": "x12",
         "domain": [
          0.618,
          0.794
         ],
         "matches": "y",
         "showticklabels": false
        },
        "yaxis13": {
         "anchor": "x13",
         "domain": [
          0.8240000000000001,
          1
         ],
         "matches": "y",
         "title": {
          "text": "lifeExp"
         }
        },
        "yaxis14": {
         "anchor": "x14",
         "domain": [
          0.8240000000000001,
          1
         ],
         "matches": "y",
         "showticklabels": false
        },
        "yaxis15": {
         "anchor": "x15",
         "domain": [
          0.8240000000000001,
          1
         ],
         "matches": "y",
         "showticklabels": false
        },
        "yaxis2": {
         "anchor": "x2",
         "domain": [
          0,
          0.17600000000000002
         ],
         "matches": "y",
         "showticklabels": false
        },
        "yaxis3": {
         "anchor": "x3",
         "domain": [
          0,
          0.17600000000000002
         ],
         "matches": "y",
         "showticklabels": false
        },
        "yaxis4": {
         "anchor": "x4",
         "domain": [
          0.20600000000000002,
          0.382
         ],
         "matches": "y",
         "title": {
          "text": "lifeExp"
         }
        },
        "yaxis5": {
         "anchor": "x5",
         "domain": [
          0.20600000000000002,
          0.382
         ],
         "matches": "y",
         "showticklabels": false
        },
        "yaxis6": {
         "anchor": "x6",
         "domain": [
          0.20600000000000002,
          0.382
         ],
         "matches": "y",
         "showticklabels": false
        },
        "yaxis7": {
         "anchor": "x7",
         "domain": [
          0.41200000000000003,
          0.5880000000000001
         ],
         "matches": "y",
         "title": {
          "text": "lifeExp"
         }
        },
        "yaxis8": {
         "anchor": "x8",
         "domain": [
          0.41200000000000003,
          0.5880000000000001
         ],
         "matches": "y",
         "showticklabels": false
        },
        "yaxis9": {
         "anchor": "x9",
         "domain": [
          0.41200000000000003,
          0.5880000000000001
         ],
         "matches": "y",
         "showticklabels": false
        }
       }
      },
      "text/html": [
       "<div>                            <div id=\"626d2e7a-e7e3-4264-8568-24285cf1b45f\" class=\"plotly-graph-div\" style=\"height:1000px; width:100%;\"></div>            <script type=\"text/javascript\">                require([\"plotly\"], function(Plotly) {                    window.PLOTLYENV=window.PLOTLYENV || {};                                    if (document.getElementById(\"626d2e7a-e7e3-4264-8568-24285cf1b45f\")) {                    Plotly.newPlot(                        \"626d2e7a-e7e3-4264-8568-24285cf1b45f\",                        [{\"hovertemplate\":\"country=Afghanistan<br>continent=Asia<br>year=1997<br>gdpPercap=%{x}<br>lifeExp=%{y}<extra></extra>\",\"legendgroup\":\"Afghanistan\",\"marker\":{\"color\":\"rgb(76,114,176)\",\"symbol\":\"circle\"},\"mode\":\"markers\",\"name\":\"Afghanistan\",\"orientation\":\"v\",\"showlegend\":true,\"type\":\"scatter\",\"x\":[635.341351],\"xaxis\":\"x13\",\"y\":[41.76300000000001],\"yaxis\":\"y13\"},{\"hovertemplate\":\"country=Afghanistan<br>continent=Asia<br>year=2002<br>gdpPercap=%{x}<br>lifeExp=%{y}<extra></extra>\",\"legendgroup\":\"Afghanistan\",\"marker\":{\"color\":\"rgb(76,114,176)\",\"symbol\":\"circle\"},\"mode\":\"markers\",\"name\":\"Afghanistan\",\"orientation\":\"v\",\"showlegend\":false,\"type\":\"scatter\",\"x\":[726.7340548],\"xaxis\":\"x14\",\"y\":[42.129],\"yaxis\":\"y14\"},{\"hovertemplate\":\"country=Afghanistan<br>continent=Asia<br>year=2007<br>gdpPercap=%{x}<br>lifeExp=%{y}<extra></extra>\",\"legendgroup\":\"Afghanistan\",\"marker\":{\"color\":\"rgb(76,114,176)\",\"symbol\":\"circle\"},\"mode\":\"markers\",\"name\":\"Afghanistan\",\"orientation\":\"v\",\"showlegend\":false,\"type\":\"scatter\",\"x\":[974.5803384],\"xaxis\":\"x15\",\"y\":[43.828],\"yaxis\":\"y15\"},{\"hovertemplate\":\"country=Albania<br>continent=Europe<br>year=1997<br>gdpPercap=%{x}<br>lifeExp=%{y}<extra></extra>\",\"legendgroup\":\"Albania\",\"marker\":{\"color\":\"rgb(221,132,82)\",\"symbol\":\"circle\"},\"mode\":\"markers\",\"name\":\"Albania\",\"orientation\":\"v\",\"showlegend\":true,\"type\":\"scatter\",\"x\":[3193.054604],\"xaxis\":\"x10\",\"y\":[72.95],\"yaxis\":\"y10\"},{\"hovertemplate\":\"country=Albania<br>continent=Europe<br>year=2002<br>gdpPercap=%{x}<br>lifeExp=%{y}<extra></extra>\",\"legendgroup\":\"Albania\",\"marker\":{\"color\":\"rgb(221,132,82)\",\"symbol\":\"circle\"},\"mode\":\"markers\",\"name\":\"Albania\",\"orientation\":\"v\",\"showlegend\":false,\"type\":\"scatter\",\"x\":[4604.211737],\"xaxis\":\"x11\",\"y\":[75.65100000000002],\"yaxis\":\"y11\"},{\"hovertemplate\":\"country=Albania<br>continent=Europe<br>year=2007<br>gdpPercap=%{x}<br>lifeExp=%{y}<extra></extra>\",\"legendgroup\":\"Albania\",\"marker\":{\"color\":\"rgb(221,132,82)\",\"symbol\":\"circle\"},\"mode\":\"markers\",\"name\":\"Albania\",\"orientation\":\"v\",\"showlegend\":false,\"type\":\"scatter\",\"x\":[5937.0295259999975],\"xaxis\":\"x12\",\"y\":[76.423],\"yaxis\":\"y12\"},{\"hovertemplate\":\"country=Algeria<br>continent=Africa<br>year=1997<br>gdpPercap=%{x}<br>lifeExp=%{y}<extra></extra>\",\"legendgroup\":\"Algeria\",\"marker\":{\"color\":\"rgb(85,168,104)\",\"symbol\":\"circle\"},\"mode\":\"markers\",\"name\":\"Algeria\",\"orientation\":\"v\",\"showlegend\":true,\"type\":\"scatter\",\"x\":[4797.295051],\"xaxis\":\"x7\",\"y\":[69.152],\"yaxis\":\"y7\"},{\"hovertemplate\":\"country=Algeria<br>continent=Africa<br>year=2002<br>gdpPercap=%{x}<br>lifeExp=%{y}<extra></extra>\",\"legendgroup\":\"Algeria\",\"marker\":{\"color\":\"rgb(85,168,104)\",\"symbol\":\"circle\"},\"mode\":\"markers\",\"name\":\"Algeria\",\"orientation\":\"v\",\"showlegend\":false,\"type\":\"scatter\",\"x\":[5288.040382],\"xaxis\":\"x8\",\"y\":[70.994],\"yaxis\":\"y8\"},{\"hovertemplate\":\"country=Algeria<br>continent=Africa<br>year=2007<br>gdpPercap=%{x}<br>lifeExp=%{y}<extra></extra>\",\"legendgroup\":\"Algeria\",\"marker\":{\"color\":\"rgb(85,168,104)\",\"symbol\":\"circle\"},\"mode\":\"markers\",\"name\":\"Algeria\",\"orientation\":\"v\",\"showlegend\":false,\"type\":\"scatter\",\"x\":[6223.367465],\"xaxis\":\"x9\",\"y\":[72.301],\"yaxis\":\"y9\"},{\"hovertemplate\":\"country=Angola<br>continent=Africa<br>year=1997<br>gdpPercap=%{x}<br>lifeExp=%{y}<extra></extra>\",\"legendgroup\":\"Angola\",\"marker\":{\"color\":\"rgb(196,78,82)\",\"symbol\":\"circle\"},\"mode\":\"markers\",\"name\":\"Angola\",\"orientation\":\"v\",\"showlegend\":true,\"type\":\"scatter\",\"x\":[2277.140884],\"xaxis\":\"x7\",\"y\":[40.963],\"yaxis\":\"y7\"},{\"hovertemplate\":\"country=Angola<br>continent=Africa<br>year=2002<br>gdpPercap=%{x}<br>lifeExp=%{y}<extra></extra>\",\"legendgroup\":\"Angola\",\"marker\":{\"color\":\"rgb(196,78,82)\",\"symbol\":\"circle\"},\"mode\":\"markers\",\"name\":\"Angola\",\"orientation\":\"v\",\"showlegend\":false,\"type\":\"scatter\",\"x\":[2773.287312],\"xaxis\":\"x8\",\"y\":[41.003],\"yaxis\":\"y8\"},{\"hovertemplate\":\"country=Angola<br>continent=Africa<br>year=2007<br>gdpPercap=%{x}<br>lifeExp=%{y}<extra></extra>\",\"legendgroup\":\"Angola\",\"marker\":{\"color\":\"rgb(196,78,82)\",\"symbol\":\"circle\"},\"mode\":\"markers\",\"name\":\"Angola\",\"orientation\":\"v\",\"showlegend\":false,\"type\":\"scatter\",\"x\":[4797.231267],\"xaxis\":\"x9\",\"y\":[42.731],\"yaxis\":\"y9\"},{\"hovertemplate\":\"country=Argentina<br>continent=Americas<br>year=1997<br>gdpPercap=%{x}<br>lifeExp=%{y}<extra></extra>\",\"legendgroup\":\"Argentina\",\"marker\":{\"color\":\"rgb(129,114,179)\",\"symbol\":\"circle\"},\"mode\":\"markers\",\"name\":\"Argentina\",\"orientation\":\"v\",\"showlegend\":true,\"type\":\"scatter\",\"x\":[10967.28195],\"xaxis\":\"x4\",\"y\":[73.275],\"yaxis\":\"y4\"},{\"hovertemplate\":\"country=Argentina<br>continent=Americas<br>year=2002<br>gdpPercap=%{x}<br>lifeExp=%{y}<extra></extra>\",\"legendgroup\":\"Argentina\",\"marker\":{\"color\":\"rgb(129,114,179)\",\"symbol\":\"circle\"},\"mode\":\"markers\",\"name\":\"Argentina\",\"orientation\":\"v\",\"showlegend\":false,\"type\":\"scatter\",\"x\":[8797.640716],\"xaxis\":\"x5\",\"y\":[74.34],\"yaxis\":\"y5\"},{\"hovertemplate\":\"country=Argentina<br>continent=Americas<br>year=2007<br>gdpPercap=%{x}<br>lifeExp=%{y}<extra></extra>\",\"legendgroup\":\"Argentina\",\"marker\":{\"color\":\"rgb(129,114,179)\",\"symbol\":\"circle\"},\"mode\":\"markers\",\"name\":\"Argentina\",\"orientation\":\"v\",\"showlegend\":false,\"type\":\"scatter\",\"x\":[12779.379640000001],\"xaxis\":\"x6\",\"y\":[75.32],\"yaxis\":\"y6\"},{\"hovertemplate\":\"country=Australia<br>continent=Oceania<br>year=1997<br>gdpPercap=%{x}<br>lifeExp=%{y}<extra></extra>\",\"legendgroup\":\"Australia\",\"marker\":{\"color\":\"rgb(147,120,96)\",\"symbol\":\"circle\"},\"mode\":\"markers\",\"name\":\"Australia\",\"orientation\":\"v\",\"showlegend\":true,\"type\":\"scatter\",\"x\":[26997.936569999998],\"xaxis\":\"x\",\"y\":[78.83],\"yaxis\":\"y\"},{\"hovertemplate\":\"country=Australia<br>continent=Oceania<br>year=2002<br>gdpPercap=%{x}<br>lifeExp=%{y}<extra></extra>\",\"legendgroup\":\"Australia\",\"marker\":{\"color\":\"rgb(147,120,96)\",\"symbol\":\"circle\"},\"mode\":\"markers\",\"name\":\"Australia\",\"orientation\":\"v\",\"showlegend\":false,\"type\":\"scatter\",\"x\":[30687.75473],\"xaxis\":\"x2\",\"y\":[80.37],\"yaxis\":\"y2\"},{\"hovertemplate\":\"country=Australia<br>continent=Oceania<br>year=2007<br>gdpPercap=%{x}<br>lifeExp=%{y}<extra></extra>\",\"legendgroup\":\"Australia\",\"marker\":{\"color\":\"rgb(147,120,96)\",\"symbol\":\"circle\"},\"mode\":\"markers\",\"name\":\"Australia\",\"orientation\":\"v\",\"showlegend\":false,\"type\":\"scatter\",\"x\":[34435.367439999995],\"xaxis\":\"x3\",\"y\":[81.235],\"yaxis\":\"y3\"},{\"hovertemplate\":\"country=Austria<br>continent=Europe<br>year=1997<br>gdpPercap=%{x}<br>lifeExp=%{y}<extra></extra>\",\"legendgroup\":\"Austria\",\"marker\":{\"color\":\"rgb(218,139,195)\",\"symbol\":\"circle\"},\"mode\":\"markers\",\"name\":\"Austria\",\"orientation\":\"v\",\"showlegend\":true,\"type\":\"scatter\",\"x\":[29095.920660000003],\"xaxis\":\"x10\",\"y\":[77.51],\"yaxis\":\"y10\"},{\"hovertemplate\":\"country=Austria<br>continent=Europe<br>year=2002<br>gdpPercap=%{x}<br>lifeExp=%{y}<extra></extra>\",\"legendgroup\":\"Austria\",\"marker\":{\"color\":\"rgb(218,139,195)\",\"symbol\":\"circle\"},\"mode\":\"markers\",\"name\":\"Austria\",\"orientation\":\"v\",\"showlegend\":false,\"type\":\"scatter\",\"x\":[32417.607689999997],\"xaxis\":\"x11\",\"y\":[78.98],\"yaxis\":\"y11\"},{\"hovertemplate\":\"country=Austria<br>continent=Europe<br>year=2007<br>gdpPercap=%{x}<br>lifeExp=%{y}<extra></extra>\",\"legendgroup\":\"Austria\",\"marker\":{\"color\":\"rgb(218,139,195)\",\"symbol\":\"circle\"},\"mode\":\"markers\",\"name\":\"Austria\",\"orientation\":\"v\",\"showlegend\":false,\"type\":\"scatter\",\"x\":[36126.4927],\"xaxis\":\"x12\",\"y\":[79.829],\"yaxis\":\"y12\"},{\"hovertemplate\":\"country=Bahrain<br>continent=Asia<br>year=1997<br>gdpPercap=%{x}<br>lifeExp=%{y}<extra></extra>\",\"legendgroup\":\"Bahrain\",\"marker\":{\"color\":\"rgb(140,140,140)\",\"symbol\":\"circle\"},\"mode\":\"markers\",\"name\":\"Bahrain\",\"orientation\":\"v\",\"showlegend\":true,\"type\":\"scatter\",\"x\":[20292.01679],\"xaxis\":\"x13\",\"y\":[73.925],\"yaxis\":\"y13\"},{\"hovertemplate\":\"country=Bahrain<br>continent=Asia<br>year=2002<br>gdpPercap=%{x}<br>lifeExp=%{y}<extra></extra>\",\"legendgroup\":\"Bahrain\",\"marker\":{\"color\":\"rgb(140,140,140)\",\"symbol\":\"circle\"},\"mode\":\"markers\",\"name\":\"Bahrain\",\"orientation\":\"v\",\"showlegend\":false,\"type\":\"scatter\",\"x\":[23403.559269999998],\"xaxis\":\"x14\",\"y\":[74.795],\"yaxis\":\"y14\"},{\"hovertemplate\":\"country=Bahrain<br>continent=Asia<br>year=2007<br>gdpPercap=%{x}<br>lifeExp=%{y}<extra></extra>\",\"legendgroup\":\"Bahrain\",\"marker\":{\"color\":\"rgb(140,140,140)\",\"symbol\":\"circle\"},\"mode\":\"markers\",\"name\":\"Bahrain\",\"orientation\":\"v\",\"showlegend\":false,\"type\":\"scatter\",\"x\":[29796.048339999998],\"xaxis\":\"x15\",\"y\":[75.635],\"yaxis\":\"y15\"},{\"hovertemplate\":\"country=Bangladesh<br>continent=Asia<br>year=1997<br>gdpPercap=%{x}<br>lifeExp=%{y}<extra></extra>\",\"legendgroup\":\"Bangladesh\",\"marker\":{\"color\":\"rgb(204,185,116)\",\"symbol\":\"circle\"},\"mode\":\"markers\",\"name\":\"Bangladesh\",\"orientation\":\"v\",\"showlegend\":true,\"type\":\"scatter\",\"x\":[972.7700352],\"xaxis\":\"x13\",\"y\":[59.412],\"yaxis\":\"y13\"},{\"hovertemplate\":\"country=Bangladesh<br>continent=Asia<br>year=2002<br>gdpPercap=%{x}<br>lifeExp=%{y}<extra></extra>\",\"legendgroup\":\"Bangladesh\",\"marker\":{\"color\":\"rgb(204,185,116)\",\"symbol\":\"circle\"},\"mode\":\"markers\",\"name\":\"Bangladesh\",\"orientation\":\"v\",\"showlegend\":false,\"type\":\"scatter\",\"x\":[1136.3904300000004],\"xaxis\":\"x14\",\"y\":[62.01300000000001],\"yaxis\":\"y14\"},{\"hovertemplate\":\"country=Bangladesh<br>continent=Asia<br>year=2007<br>gdpPercap=%{x}<br>lifeExp=%{y}<extra></extra>\",\"legendgroup\":\"Bangladesh\",\"marker\":{\"color\":\"rgb(204,185,116)\",\"symbol\":\"circle\"},\"mode\":\"markers\",\"name\":\"Bangladesh\",\"orientation\":\"v\",\"showlegend\":false,\"type\":\"scatter\",\"x\":[1391.253792],\"xaxis\":\"x15\",\"y\":[64.062],\"yaxis\":\"y15\"},{\"hovertemplate\":\"country=Belgium<br>continent=Europe<br>year=1997<br>gdpPercap=%{x}<br>lifeExp=%{y}<extra></extra>\",\"legendgroup\":\"Belgium\",\"marker\":{\"color\":\"rgb(100,181,205)\",\"symbol\":\"circle\"},\"mode\":\"markers\",\"name\":\"Belgium\",\"orientation\":\"v\",\"showlegend\":true,\"type\":\"scatter\",\"x\":[27561.196630000002],\"xaxis\":\"x10\",\"y\":[77.53],\"yaxis\":\"y10\"},{\"hovertemplate\":\"country=Belgium<br>continent=Europe<br>year=2002<br>gdpPercap=%{x}<br>lifeExp=%{y}<extra></extra>\",\"legendgroup\":\"Belgium\",\"marker\":{\"color\":\"rgb(100,181,205)\",\"symbol\":\"circle\"},\"mode\":\"markers\",\"name\":\"Belgium\",\"orientation\":\"v\",\"showlegend\":false,\"type\":\"scatter\",\"x\":[30485.88375],\"xaxis\":\"x11\",\"y\":[78.32],\"yaxis\":\"y11\"},{\"hovertemplate\":\"country=Belgium<br>continent=Europe<br>year=2007<br>gdpPercap=%{x}<br>lifeExp=%{y}<extra></extra>\",\"legendgroup\":\"Belgium\",\"marker\":{\"color\":\"rgb(100,181,205)\",\"symbol\":\"circle\"},\"mode\":\"markers\",\"name\":\"Belgium\",\"orientation\":\"v\",\"showlegend\":false,\"type\":\"scatter\",\"x\":[33692.60508],\"xaxis\":\"x12\",\"y\":[79.441],\"yaxis\":\"y12\"},{\"hovertemplate\":\"country=Benin<br>continent=Africa<br>year=1997<br>gdpPercap=%{x}<br>lifeExp=%{y}<extra></extra>\",\"legendgroup\":\"Benin\",\"marker\":{\"color\":\"rgb(76,114,176)\",\"symbol\":\"circle\"},\"mode\":\"markers\",\"name\":\"Benin\",\"orientation\":\"v\",\"showlegend\":true,\"type\":\"scatter\",\"x\":[1232.975292],\"xaxis\":\"x7\",\"y\":[54.777],\"yaxis\":\"y7\"},{\"hovertemplate\":\"country=Benin<br>continent=Africa<br>year=2002<br>gdpPercap=%{x}<br>lifeExp=%{y}<extra></extra>\",\"legendgroup\":\"Benin\",\"marker\":{\"color\":\"rgb(76,114,176)\",\"symbol\":\"circle\"},\"mode\":\"markers\",\"name\":\"Benin\",\"orientation\":\"v\",\"showlegend\":false,\"type\":\"scatter\",\"x\":[1372.877931],\"xaxis\":\"x8\",\"y\":[54.40600000000001],\"yaxis\":\"y8\"},{\"hovertemplate\":\"country=Benin<br>continent=Africa<br>year=2007<br>gdpPercap=%{x}<br>lifeExp=%{y}<extra></extra>\",\"legendgroup\":\"Benin\",\"marker\":{\"color\":\"rgb(76,114,176)\",\"symbol\":\"circle\"},\"mode\":\"markers\",\"name\":\"Benin\",\"orientation\":\"v\",\"showlegend\":false,\"type\":\"scatter\",\"x\":[1441.284873],\"xaxis\":\"x9\",\"y\":[56.728],\"yaxis\":\"y9\"},{\"hovertemplate\":\"country=Bolivia<br>continent=Americas<br>year=1997<br>gdpPercap=%{x}<br>lifeExp=%{y}<extra></extra>\",\"legendgroup\":\"Bolivia\",\"marker\":{\"color\":\"rgb(221,132,82)\",\"symbol\":\"circle\"},\"mode\":\"markers\",\"name\":\"Bolivia\",\"orientation\":\"v\",\"showlegend\":true,\"type\":\"scatter\",\"x\":[3326.143191],\"xaxis\":\"x4\",\"y\":[62.05],\"yaxis\":\"y4\"},{\"hovertemplate\":\"country=Bolivia<br>continent=Americas<br>year=2002<br>gdpPercap=%{x}<br>lifeExp=%{y}<extra></extra>\",\"legendgroup\":\"Bolivia\",\"marker\":{\"color\":\"rgb(221,132,82)\",\"symbol\":\"circle\"},\"mode\":\"markers\",\"name\":\"Bolivia\",\"orientation\":\"v\",\"showlegend\":false,\"type\":\"scatter\",\"x\":[3413.26269],\"xaxis\":\"x5\",\"y\":[63.883],\"yaxis\":\"y5\"},{\"hovertemplate\":\"country=Bolivia<br>continent=Americas<br>year=2007<br>gdpPercap=%{x}<br>lifeExp=%{y}<extra></extra>\",\"legendgroup\":\"Bolivia\",\"marker\":{\"color\":\"rgb(221,132,82)\",\"symbol\":\"circle\"},\"mode\":\"markers\",\"name\":\"Bolivia\",\"orientation\":\"v\",\"showlegend\":false,\"type\":\"scatter\",\"x\":[3822.1370840000004],\"xaxis\":\"x6\",\"y\":[65.554],\"yaxis\":\"y6\"},{\"hovertemplate\":\"country=Bosnia and Herzegovina<br>continent=Europe<br>year=1997<br>gdpPercap=%{x}<br>lifeExp=%{y}<extra></extra>\",\"legendgroup\":\"Bosnia and Herzegovina\",\"marker\":{\"color\":\"rgb(85,168,104)\",\"symbol\":\"circle\"},\"mode\":\"markers\",\"name\":\"Bosnia and Herzegovina\",\"orientation\":\"v\",\"showlegend\":true,\"type\":\"scatter\",\"x\":[4766.355904],\"xaxis\":\"x10\",\"y\":[73.244],\"yaxis\":\"y10\"},{\"hovertemplate\":\"country=Bosnia and Herzegovina<br>continent=Europe<br>year=2002<br>gdpPercap=%{x}<br>lifeExp=%{y}<extra></extra>\",\"legendgroup\":\"Bosnia and Herzegovina\",\"marker\":{\"color\":\"rgb(85,168,104)\",\"symbol\":\"circle\"},\"mode\":\"markers\",\"name\":\"Bosnia and Herzegovina\",\"orientation\":\"v\",\"showlegend\":false,\"type\":\"scatter\",\"x\":[6018.975239],\"xaxis\":\"x11\",\"y\":[74.09],\"yaxis\":\"y11\"},{\"hovertemplate\":\"country=Bosnia and Herzegovina<br>continent=Europe<br>year=2007<br>gdpPercap=%{x}<br>lifeExp=%{y}<extra></extra>\",\"legendgroup\":\"Bosnia and Herzegovina\",\"marker\":{\"color\":\"rgb(85,168,104)\",\"symbol\":\"circle\"},\"mode\":\"markers\",\"name\":\"Bosnia and Herzegovina\",\"orientation\":\"v\",\"showlegend\":false,\"type\":\"scatter\",\"x\":[7446.298803],\"xaxis\":\"x12\",\"y\":[74.852],\"yaxis\":\"y12\"},{\"hovertemplate\":\"country=Botswana<br>continent=Africa<br>year=1997<br>gdpPercap=%{x}<br>lifeExp=%{y}<extra></extra>\",\"legendgroup\":\"Botswana\",\"marker\":{\"color\":\"rgb(196,78,82)\",\"symbol\":\"circle\"},\"mode\":\"markers\",\"name\":\"Botswana\",\"orientation\":\"v\",\"showlegend\":true,\"type\":\"scatter\",\"x\":[8647.142313],\"xaxis\":\"x7\",\"y\":[52.556000000000004],\"yaxis\":\"y7\"},{\"hovertemplate\":\"country=Botswana<br>continent=Africa<br>year=2002<br>gdpPercap=%{x}<br>lifeExp=%{y}<extra></extra>\",\"legendgroup\":\"Botswana\",\"marker\":{\"color\":\"rgb(196,78,82)\",\"symbol\":\"circle\"},\"mode\":\"markers\",\"name\":\"Botswana\",\"orientation\":\"v\",\"showlegend\":false,\"type\":\"scatter\",\"x\":[11003.60508],\"xaxis\":\"x8\",\"y\":[46.63399999999999],\"yaxis\":\"y8\"},{\"hovertemplate\":\"country=Botswana<br>continent=Africa<br>year=2007<br>gdpPercap=%{x}<br>lifeExp=%{y}<extra></extra>\",\"legendgroup\":\"Botswana\",\"marker\":{\"color\":\"rgb(196,78,82)\",\"symbol\":\"circle\"},\"mode\":\"markers\",\"name\":\"Botswana\",\"orientation\":\"v\",\"showlegend\":false,\"type\":\"scatter\",\"x\":[12569.851770000001],\"xaxis\":\"x9\",\"y\":[50.728],\"yaxis\":\"y9\"},{\"hovertemplate\":\"country=Brazil<br>continent=Americas<br>year=1997<br>gdpPercap=%{x}<br>lifeExp=%{y}<extra></extra>\",\"legendgroup\":\"Brazil\",\"marker\":{\"color\":\"rgb(129,114,179)\",\"symbol\":\"circle\"},\"mode\":\"markers\",\"name\":\"Brazil\",\"orientation\":\"v\",\"showlegend\":true,\"type\":\"scatter\",\"x\":[7957.9808239999975],\"xaxis\":\"x4\",\"y\":[69.388],\"yaxis\":\"y4\"},{\"hovertemplate\":\"country=Brazil<br>continent=Americas<br>year=2002<br>gdpPercap=%{x}<br>lifeExp=%{y}<extra></extra>\",\"legendgroup\":\"Brazil\",\"marker\":{\"color\":\"rgb(129,114,179)\",\"symbol\":\"circle\"},\"mode\":\"markers\",\"name\":\"Brazil\",\"orientation\":\"v\",\"showlegend\":false,\"type\":\"scatter\",\"x\":[8131.212843000001],\"xaxis\":\"x5\",\"y\":[71.006],\"yaxis\":\"y5\"},{\"hovertemplate\":\"country=Brazil<br>continent=Americas<br>year=2007<br>gdpPercap=%{x}<br>lifeExp=%{y}<extra></extra>\",\"legendgroup\":\"Brazil\",\"marker\":{\"color\":\"rgb(129,114,179)\",\"symbol\":\"circle\"},\"mode\":\"markers\",\"name\":\"Brazil\",\"orientation\":\"v\",\"showlegend\":false,\"type\":\"scatter\",\"x\":[9065.800825],\"xaxis\":\"x6\",\"y\":[72.39],\"yaxis\":\"y6\"},{\"hovertemplate\":\"country=Bulgaria<br>continent=Europe<br>year=1997<br>gdpPercap=%{x}<br>lifeExp=%{y}<extra></extra>\",\"legendgroup\":\"Bulgaria\",\"marker\":{\"color\":\"rgb(147,120,96)\",\"symbol\":\"circle\"},\"mode\":\"markers\",\"name\":\"Bulgaria\",\"orientation\":\"v\",\"showlegend\":true,\"type\":\"scatter\",\"x\":[5970.38876],\"xaxis\":\"x10\",\"y\":[70.32],\"yaxis\":\"y10\"},{\"hovertemplate\":\"country=Bulgaria<br>continent=Europe<br>year=2002<br>gdpPercap=%{x}<br>lifeExp=%{y}<extra></extra>\",\"legendgroup\":\"Bulgaria\",\"marker\":{\"color\":\"rgb(147,120,96)\",\"symbol\":\"circle\"},\"mode\":\"markers\",\"name\":\"Bulgaria\",\"orientation\":\"v\",\"showlegend\":false,\"type\":\"scatter\",\"x\":[7696.777725],\"xaxis\":\"x11\",\"y\":[72.14],\"yaxis\":\"y11\"},{\"hovertemplate\":\"country=Bulgaria<br>continent=Europe<br>year=2007<br>gdpPercap=%{x}<br>lifeExp=%{y}<extra></extra>\",\"legendgroup\":\"Bulgaria\",\"marker\":{\"color\":\"rgb(147,120,96)\",\"symbol\":\"circle\"},\"mode\":\"markers\",\"name\":\"Bulgaria\",\"orientation\":\"v\",\"showlegend\":false,\"type\":\"scatter\",\"x\":[10680.79282],\"xaxis\":\"x12\",\"y\":[73.005],\"yaxis\":\"y12\"},{\"hovertemplate\":\"country=Burkina Faso<br>continent=Africa<br>year=1997<br>gdpPercap=%{x}<br>lifeExp=%{y}<extra></extra>\",\"legendgroup\":\"Burkina Faso\",\"marker\":{\"color\":\"rgb(218,139,195)\",\"symbol\":\"circle\"},\"mode\":\"markers\",\"name\":\"Burkina Faso\",\"orientation\":\"v\",\"showlegend\":true,\"type\":\"scatter\",\"x\":[946.2949617999999],\"xaxis\":\"x7\",\"y\":[50.324],\"yaxis\":\"y7\"},{\"hovertemplate\":\"country=Burkina Faso<br>continent=Africa<br>year=2002<br>gdpPercap=%{x}<br>lifeExp=%{y}<extra></extra>\",\"legendgroup\":\"Burkina Faso\",\"marker\":{\"color\":\"rgb(218,139,195)\",\"symbol\":\"circle\"},\"mode\":\"markers\",\"name\":\"Burkina Faso\",\"orientation\":\"v\",\"showlegend\":false,\"type\":\"scatter\",\"x\":[1037.645221],\"xaxis\":\"x8\",\"y\":[50.65],\"yaxis\":\"y8\"},{\"hovertemplate\":\"country=Burkina Faso<br>continent=Africa<br>year=2007<br>gdpPercap=%{x}<br>lifeExp=%{y}<extra></extra>\",\"legendgroup\":\"Burkina Faso\",\"marker\":{\"color\":\"rgb(218,139,195)\",\"symbol\":\"circle\"},\"mode\":\"markers\",\"name\":\"Burkina Faso\",\"orientation\":\"v\",\"showlegend\":false,\"type\":\"scatter\",\"x\":[1217.032994],\"xaxis\":\"x9\",\"y\":[52.295],\"yaxis\":\"y9\"},{\"hovertemplate\":\"country=Burundi<br>continent=Africa<br>year=1997<br>gdpPercap=%{x}<br>lifeExp=%{y}<extra></extra>\",\"legendgroup\":\"Burundi\",\"marker\":{\"color\":\"rgb(140,140,140)\",\"symbol\":\"circle\"},\"mode\":\"markers\",\"name\":\"Burundi\",\"orientation\":\"v\",\"showlegend\":true,\"type\":\"scatter\",\"x\":[463.1151478],\"xaxis\":\"x7\",\"y\":[45.326],\"yaxis\":\"y7\"},{\"hovertemplate\":\"country=Burundi<br>continent=Africa<br>year=2002<br>gdpPercap=%{x}<br>lifeExp=%{y}<extra></extra>\",\"legendgroup\":\"Burundi\",\"marker\":{\"color\":\"rgb(140,140,140)\",\"symbol\":\"circle\"},\"mode\":\"markers\",\"name\":\"Burundi\",\"orientation\":\"v\",\"showlegend\":false,\"type\":\"scatter\",\"x\":[446.4035126],\"xaxis\":\"x8\",\"y\":[47.36],\"yaxis\":\"y8\"},{\"hovertemplate\":\"country=Burundi<br>continent=Africa<br>year=2007<br>gdpPercap=%{x}<br>lifeExp=%{y}<extra></extra>\",\"legendgroup\":\"Burundi\",\"marker\":{\"color\":\"rgb(140,140,140)\",\"symbol\":\"circle\"},\"mode\":\"markers\",\"name\":\"Burundi\",\"orientation\":\"v\",\"showlegend\":false,\"type\":\"scatter\",\"x\":[430.07069160000003],\"xaxis\":\"x9\",\"y\":[49.58],\"yaxis\":\"y9\"},{\"hovertemplate\":\"country=Cambodia<br>continent=Asia<br>year=1997<br>gdpPercap=%{x}<br>lifeExp=%{y}<extra></extra>\",\"legendgroup\":\"Cambodia\",\"marker\":{\"color\":\"rgb(204,185,116)\",\"symbol\":\"circle\"},\"mode\":\"markers\",\"name\":\"Cambodia\",\"orientation\":\"v\",\"showlegend\":true,\"type\":\"scatter\",\"x\":[734.28517],\"xaxis\":\"x13\",\"y\":[56.534],\"yaxis\":\"y13\"},{\"hovertemplate\":\"country=Cambodia<br>continent=Asia<br>year=2002<br>gdpPercap=%{x}<br>lifeExp=%{y}<extra></extra>\",\"legendgroup\":\"Cambodia\",\"marker\":{\"color\":\"rgb(204,185,116)\",\"symbol\":\"circle\"},\"mode\":\"markers\",\"name\":\"Cambodia\",\"orientation\":\"v\",\"showlegend\":false,\"type\":\"scatter\",\"x\":[896.2260152999999],\"xaxis\":\"x14\",\"y\":[56.751999999999995],\"yaxis\":\"y14\"},{\"hovertemplate\":\"country=Cambodia<br>continent=Asia<br>year=2007<br>gdpPercap=%{x}<br>lifeExp=%{y}<extra></extra>\",\"legendgroup\":\"Cambodia\",\"marker\":{\"color\":\"rgb(204,185,116)\",\"symbol\":\"circle\"},\"mode\":\"markers\",\"name\":\"Cambodia\",\"orientation\":\"v\",\"showlegend\":false,\"type\":\"scatter\",\"x\":[1713.7786859999999],\"xaxis\":\"x15\",\"y\":[59.723],\"yaxis\":\"y15\"},{\"hovertemplate\":\"country=Cameroon<br>continent=Africa<br>year=1997<br>gdpPercap=%{x}<br>lifeExp=%{y}<extra></extra>\",\"legendgroup\":\"Cameroon\",\"marker\":{\"color\":\"rgb(100,181,205)\",\"symbol\":\"circle\"},\"mode\":\"markers\",\"name\":\"Cameroon\",\"orientation\":\"v\",\"showlegend\":true,\"type\":\"scatter\",\"x\":[1694.337469],\"xaxis\":\"x7\",\"y\":[52.199],\"yaxis\":\"y7\"},{\"hovertemplate\":\"country=Cameroon<br>continent=Africa<br>year=2002<br>gdpPercap=%{x}<br>lifeExp=%{y}<extra></extra>\",\"legendgroup\":\"Cameroon\",\"marker\":{\"color\":\"rgb(100,181,205)\",\"symbol\":\"circle\"},\"mode\":\"markers\",\"name\":\"Cameroon\",\"orientation\":\"v\",\"showlegend\":false,\"type\":\"scatter\",\"x\":[1934.0114489999999],\"xaxis\":\"x8\",\"y\":[49.856],\"yaxis\":\"y8\"},{\"hovertemplate\":\"country=Cameroon<br>continent=Africa<br>year=2007<br>gdpPercap=%{x}<br>lifeExp=%{y}<extra></extra>\",\"legendgroup\":\"Cameroon\",\"marker\":{\"color\":\"rgb(100,181,205)\",\"symbol\":\"circle\"},\"mode\":\"markers\",\"name\":\"Cameroon\",\"orientation\":\"v\",\"showlegend\":false,\"type\":\"scatter\",\"x\":[2042.0952399999999],\"xaxis\":\"x9\",\"y\":[50.43],\"yaxis\":\"y9\"},{\"hovertemplate\":\"country=Canada<br>continent=Americas<br>year=1997<br>gdpPercap=%{x}<br>lifeExp=%{y}<extra></extra>\",\"legendgroup\":\"Canada\",\"marker\":{\"color\":\"rgb(76,114,176)\",\"symbol\":\"circle\"},\"mode\":\"markers\",\"name\":\"Canada\",\"orientation\":\"v\",\"showlegend\":true,\"type\":\"scatter\",\"x\":[28954.92589],\"xaxis\":\"x4\",\"y\":[78.61],\"yaxis\":\"y4\"},{\"hovertemplate\":\"country=Canada<br>continent=Americas<br>year=2002<br>gdpPercap=%{x}<br>lifeExp=%{y}<extra></extra>\",\"legendgroup\":\"Canada\",\"marker\":{\"color\":\"rgb(76,114,176)\",\"symbol\":\"circle\"},\"mode\":\"markers\",\"name\":\"Canada\",\"orientation\":\"v\",\"showlegend\":false,\"type\":\"scatter\",\"x\":[33328.96507],\"xaxis\":\"x5\",\"y\":[79.77],\"yaxis\":\"y5\"},{\"hovertemplate\":\"country=Canada<br>continent=Americas<br>year=2007<br>gdpPercap=%{x}<br>lifeExp=%{y}<extra></extra>\",\"legendgroup\":\"Canada\",\"marker\":{\"color\":\"rgb(76,114,176)\",\"symbol\":\"circle\"},\"mode\":\"markers\",\"name\":\"Canada\",\"orientation\":\"v\",\"showlegend\":false,\"type\":\"scatter\",\"x\":[36319.235010000004],\"xaxis\":\"x6\",\"y\":[80.653],\"yaxis\":\"y6\"},{\"hovertemplate\":\"country=Central African Republic<br>continent=Africa<br>year=1997<br>gdpPercap=%{x}<br>lifeExp=%{y}<extra></extra>\",\"legendgroup\":\"Central African Republic\",\"marker\":{\"color\":\"rgb(221,132,82)\",\"symbol\":\"circle\"},\"mode\":\"markers\",\"name\":\"Central African Republic\",\"orientation\":\"v\",\"showlegend\":true,\"type\":\"scatter\",\"x\":[740.5063317],\"xaxis\":\"x7\",\"y\":[46.066],\"yaxis\":\"y7\"},{\"hovertemplate\":\"country=Central African Republic<br>continent=Africa<br>year=2002<br>gdpPercap=%{x}<br>lifeExp=%{y}<extra></extra>\",\"legendgroup\":\"Central African Republic\",\"marker\":{\"color\":\"rgb(221,132,82)\",\"symbol\":\"circle\"},\"mode\":\"markers\",\"name\":\"Central African Republic\",\"orientation\":\"v\",\"showlegend\":false,\"type\":\"scatter\",\"x\":[738.6906068],\"xaxis\":\"x8\",\"y\":[43.308],\"yaxis\":\"y8\"},{\"hovertemplate\":\"country=Central African Republic<br>continent=Africa<br>year=2007<br>gdpPercap=%{x}<br>lifeExp=%{y}<extra></extra>\",\"legendgroup\":\"Central African Republic\",\"marker\":{\"color\":\"rgb(221,132,82)\",\"symbol\":\"circle\"},\"mode\":\"markers\",\"name\":\"Central African Republic\",\"orientation\":\"v\",\"showlegend\":false,\"type\":\"scatter\",\"x\":[706.016537],\"xaxis\":\"x9\",\"y\":[44.74100000000001],\"yaxis\":\"y9\"},{\"hovertemplate\":\"country=Chad<br>continent=Africa<br>year=1997<br>gdpPercap=%{x}<br>lifeExp=%{y}<extra></extra>\",\"legendgroup\":\"Chad\",\"marker\":{\"color\":\"rgb(85,168,104)\",\"symbol\":\"circle\"},\"mode\":\"markers\",\"name\":\"Chad\",\"orientation\":\"v\",\"showlegend\":true,\"type\":\"scatter\",\"x\":[1004.9613529999999],\"xaxis\":\"x7\",\"y\":[51.573],\"yaxis\":\"y7\"},{\"hovertemplate\":\"country=Chad<br>continent=Africa<br>year=2002<br>gdpPercap=%{x}<br>lifeExp=%{y}<extra></extra>\",\"legendgroup\":\"Chad\",\"marker\":{\"color\":\"rgb(85,168,104)\",\"symbol\":\"circle\"},\"mode\":\"markers\",\"name\":\"Chad\",\"orientation\":\"v\",\"showlegend\":false,\"type\":\"scatter\",\"x\":[1156.18186],\"xaxis\":\"x8\",\"y\":[50.525],\"yaxis\":\"y8\"},{\"hovertemplate\":\"country=Chad<br>continent=Africa<br>year=2007<br>gdpPercap=%{x}<br>lifeExp=%{y}<extra></extra>\",\"legendgroup\":\"Chad\",\"marker\":{\"color\":\"rgb(85,168,104)\",\"symbol\":\"circle\"},\"mode\":\"markers\",\"name\":\"Chad\",\"orientation\":\"v\",\"showlegend\":false,\"type\":\"scatter\",\"x\":[1704.0637239999999],\"xaxis\":\"x9\",\"y\":[50.651],\"yaxis\":\"y9\"},{\"hovertemplate\":\"country=Chile<br>continent=Americas<br>year=1997<br>gdpPercap=%{x}<br>lifeExp=%{y}<extra></extra>\",\"legendgroup\":\"Chile\",\"marker\":{\"color\":\"rgb(196,78,82)\",\"symbol\":\"circle\"},\"mode\":\"markers\",\"name\":\"Chile\",\"orientation\":\"v\",\"showlegend\":true,\"type\":\"scatter\",\"x\":[10118.053179999999],\"xaxis\":\"x4\",\"y\":[75.816],\"yaxis\":\"y4\"},{\"hovertemplate\":\"country=Chile<br>continent=Americas<br>year=2002<br>gdpPercap=%{x}<br>lifeExp=%{y}<extra></extra>\",\"legendgroup\":\"Chile\",\"marker\":{\"color\":\"rgb(196,78,82)\",\"symbol\":\"circle\"},\"mode\":\"markers\",\"name\":\"Chile\",\"orientation\":\"v\",\"showlegend\":false,\"type\":\"scatter\",\"x\":[10778.78385],\"xaxis\":\"x5\",\"y\":[77.86],\"yaxis\":\"y5\"},{\"hovertemplate\":\"country=Chile<br>continent=Americas<br>year=2007<br>gdpPercap=%{x}<br>lifeExp=%{y}<extra></extra>\",\"legendgroup\":\"Chile\",\"marker\":{\"color\":\"rgb(196,78,82)\",\"symbol\":\"circle\"},\"mode\":\"markers\",\"name\":\"Chile\",\"orientation\":\"v\",\"showlegend\":false,\"type\":\"scatter\",\"x\":[13171.63885],\"xaxis\":\"x6\",\"y\":[78.553],\"yaxis\":\"y6\"},{\"hovertemplate\":\"country=China<br>continent=Asia<br>year=1997<br>gdpPercap=%{x}<br>lifeExp=%{y}<extra></extra>\",\"legendgroup\":\"China\",\"marker\":{\"color\":\"rgb(129,114,179)\",\"symbol\":\"circle\"},\"mode\":\"markers\",\"name\":\"China\",\"orientation\":\"v\",\"showlegend\":true,\"type\":\"scatter\",\"x\":[2289.234136],\"xaxis\":\"x13\",\"y\":[70.426],\"yaxis\":\"y13\"},{\"hovertemplate\":\"country=China<br>continent=Asia<br>year=2002<br>gdpPercap=%{x}<br>lifeExp=%{y}<extra></extra>\",\"legendgroup\":\"China\",\"marker\":{\"color\":\"rgb(129,114,179)\",\"symbol\":\"circle\"},\"mode\":\"markers\",\"name\":\"China\",\"orientation\":\"v\",\"showlegend\":false,\"type\":\"scatter\",\"x\":[3119.280896],\"xaxis\":\"x14\",\"y\":[72.028],\"yaxis\":\"y14\"},{\"hovertemplate\":\"country=China<br>continent=Asia<br>year=2007<br>gdpPercap=%{x}<br>lifeExp=%{y}<extra></extra>\",\"legendgroup\":\"China\",\"marker\":{\"color\":\"rgb(129,114,179)\",\"symbol\":\"circle\"},\"mode\":\"markers\",\"name\":\"China\",\"orientation\":\"v\",\"showlegend\":false,\"type\":\"scatter\",\"x\":[4959.1148539999995],\"xaxis\":\"x15\",\"y\":[72.961],\"yaxis\":\"y15\"},{\"hovertemplate\":\"country=Colombia<br>continent=Americas<br>year=1997<br>gdpPercap=%{x}<br>lifeExp=%{y}<extra></extra>\",\"legendgroup\":\"Colombia\",\"marker\":{\"color\":\"rgb(147,120,96)\",\"symbol\":\"circle\"},\"mode\":\"markers\",\"name\":\"Colombia\",\"orientation\":\"v\",\"showlegend\":true,\"type\":\"scatter\",\"x\":[6117.361746000001],\"xaxis\":\"x4\",\"y\":[70.313],\"yaxis\":\"y4\"},{\"hovertemplate\":\"country=Colombia<br>continent=Americas<br>year=2002<br>gdpPercap=%{x}<br>lifeExp=%{y}<extra></extra>\",\"legendgroup\":\"Colombia\",\"marker\":{\"color\":\"rgb(147,120,96)\",\"symbol\":\"circle\"},\"mode\":\"markers\",\"name\":\"Colombia\",\"orientation\":\"v\",\"showlegend\":false,\"type\":\"scatter\",\"x\":[5755.259962],\"xaxis\":\"x5\",\"y\":[71.682],\"yaxis\":\"y5\"},{\"hovertemplate\":\"country=Colombia<br>continent=Americas<br>year=2007<br>gdpPercap=%{x}<br>lifeExp=%{y}<extra></extra>\",\"legendgroup\":\"Colombia\",\"marker\":{\"color\":\"rgb(147,120,96)\",\"symbol\":\"circle\"},\"mode\":\"markers\",\"name\":\"Colombia\",\"orientation\":\"v\",\"showlegend\":false,\"type\":\"scatter\",\"x\":[7006.580419],\"xaxis\":\"x6\",\"y\":[72.889],\"yaxis\":\"y6\"},{\"hovertemplate\":\"country=Comoros<br>continent=Africa<br>year=1997<br>gdpPercap=%{x}<br>lifeExp=%{y}<extra></extra>\",\"legendgroup\":\"Comoros\",\"marker\":{\"color\":\"rgb(218,139,195)\",\"symbol\":\"circle\"},\"mode\":\"markers\",\"name\":\"Comoros\",\"orientation\":\"v\",\"showlegend\":true,\"type\":\"scatter\",\"x\":[1173.618235],\"xaxis\":\"x7\",\"y\":[60.66],\"yaxis\":\"y7\"},{\"hovertemplate\":\"country=Comoros<br>continent=Africa<br>year=2002<br>gdpPercap=%{x}<br>lifeExp=%{y}<extra></extra>\",\"legendgroup\":\"Comoros\",\"marker\":{\"color\":\"rgb(218,139,195)\",\"symbol\":\"circle\"},\"mode\":\"markers\",\"name\":\"Comoros\",\"orientation\":\"v\",\"showlegend\":false,\"type\":\"scatter\",\"x\":[1075.811558],\"xaxis\":\"x8\",\"y\":[62.974],\"yaxis\":\"y8\"},{\"hovertemplate\":\"country=Comoros<br>continent=Africa<br>year=2007<br>gdpPercap=%{x}<br>lifeExp=%{y}<extra></extra>\",\"legendgroup\":\"Comoros\",\"marker\":{\"color\":\"rgb(218,139,195)\",\"symbol\":\"circle\"},\"mode\":\"markers\",\"name\":\"Comoros\",\"orientation\":\"v\",\"showlegend\":false,\"type\":\"scatter\",\"x\":[986.1478792000001],\"xaxis\":\"x9\",\"y\":[65.152],\"yaxis\":\"y9\"},{\"hovertemplate\":\"country=Congo, Dem. Rep.<br>continent=Africa<br>year=1997<br>gdpPercap=%{x}<br>lifeExp=%{y}<extra></extra>\",\"legendgroup\":\"Congo, Dem. Rep.\",\"marker\":{\"color\":\"rgb(140,140,140)\",\"symbol\":\"circle\"},\"mode\":\"markers\",\"name\":\"Congo, Dem. Rep.\",\"orientation\":\"v\",\"showlegend\":true,\"type\":\"scatter\",\"x\":[312.188423],\"xaxis\":\"x7\",\"y\":[42.586999999999996],\"yaxis\":\"y7\"},{\"hovertemplate\":\"country=Congo, Dem. Rep.<br>continent=Africa<br>year=2002<br>gdpPercap=%{x}<br>lifeExp=%{y}<extra></extra>\",\"legendgroup\":\"Congo, Dem. Rep.\",\"marker\":{\"color\":\"rgb(140,140,140)\",\"symbol\":\"circle\"},\"mode\":\"markers\",\"name\":\"Congo, Dem. Rep.\",\"orientation\":\"v\",\"showlegend\":false,\"type\":\"scatter\",\"x\":[241.16587650000002],\"xaxis\":\"x8\",\"y\":[44.966],\"yaxis\":\"y8\"},{\"hovertemplate\":\"country=Congo, Dem. Rep.<br>continent=Africa<br>year=2007<br>gdpPercap=%{x}<br>lifeExp=%{y}<extra></extra>\",\"legendgroup\":\"Congo, Dem. Rep.\",\"marker\":{\"color\":\"rgb(140,140,140)\",\"symbol\":\"circle\"},\"mode\":\"markers\",\"name\":\"Congo, Dem. Rep.\",\"orientation\":\"v\",\"showlegend\":false,\"type\":\"scatter\",\"x\":[277.55185869999997],\"xaxis\":\"x9\",\"y\":[46.461999999999996],\"yaxis\":\"y9\"},{\"hovertemplate\":\"country=Congo, Rep.<br>continent=Africa<br>year=1997<br>gdpPercap=%{x}<br>lifeExp=%{y}<extra></extra>\",\"legendgroup\":\"Congo, Rep.\",\"marker\":{\"color\":\"rgb(204,185,116)\",\"symbol\":\"circle\"},\"mode\":\"markers\",\"name\":\"Congo, Rep.\",\"orientation\":\"v\",\"showlegend\":true,\"type\":\"scatter\",\"x\":[3484.1643759999997],\"xaxis\":\"x7\",\"y\":[52.961999999999996],\"yaxis\":\"y7\"},{\"hovertemplate\":\"country=Congo, Rep.<br>continent=Africa<br>year=2002<br>gdpPercap=%{x}<br>lifeExp=%{y}<extra></extra>\",\"legendgroup\":\"Congo, Rep.\",\"marker\":{\"color\":\"rgb(204,185,116)\",\"symbol\":\"circle\"},\"mode\":\"markers\",\"name\":\"Congo, Rep.\",\"orientation\":\"v\",\"showlegend\":false,\"type\":\"scatter\",\"x\":[3484.06197],\"xaxis\":\"x8\",\"y\":[52.97],\"yaxis\":\"y8\"},{\"hovertemplate\":\"country=Congo, Rep.<br>continent=Africa<br>year=2007<br>gdpPercap=%{x}<br>lifeExp=%{y}<extra></extra>\",\"legendgroup\":\"Congo, Rep.\",\"marker\":{\"color\":\"rgb(204,185,116)\",\"symbol\":\"circle\"},\"mode\":\"markers\",\"name\":\"Congo, Rep.\",\"orientation\":\"v\",\"showlegend\":false,\"type\":\"scatter\",\"x\":[3632.557798],\"xaxis\":\"x9\",\"y\":[55.321999999999996],\"yaxis\":\"y9\"},{\"hovertemplate\":\"country=Costa Rica<br>continent=Americas<br>year=1997<br>gdpPercap=%{x}<br>lifeExp=%{y}<extra></extra>\",\"legendgroup\":\"Costa Rica\",\"marker\":{\"color\":\"rgb(100,181,205)\",\"symbol\":\"circle\"},\"mode\":\"markers\",\"name\":\"Costa Rica\",\"orientation\":\"v\",\"showlegend\":true,\"type\":\"scatter\",\"x\":[6677.045314],\"xaxis\":\"x4\",\"y\":[77.26],\"yaxis\":\"y4\"},{\"hovertemplate\":\"country=Costa Rica<br>continent=Americas<br>year=2002<br>gdpPercap=%{x}<br>lifeExp=%{y}<extra></extra>\",\"legendgroup\":\"Costa Rica\",\"marker\":{\"color\":\"rgb(100,181,205)\",\"symbol\":\"circle\"},\"mode\":\"markers\",\"name\":\"Costa Rica\",\"orientation\":\"v\",\"showlegend\":false,\"type\":\"scatter\",\"x\":[7723.4471950000025],\"xaxis\":\"x5\",\"y\":[78.123],\"yaxis\":\"y5\"},{\"hovertemplate\":\"country=Costa Rica<br>continent=Americas<br>year=2007<br>gdpPercap=%{x}<br>lifeExp=%{y}<extra></extra>\",\"legendgroup\":\"Costa Rica\",\"marker\":{\"color\":\"rgb(100,181,205)\",\"symbol\":\"circle\"},\"mode\":\"markers\",\"name\":\"Costa Rica\",\"orientation\":\"v\",\"showlegend\":false,\"type\":\"scatter\",\"x\":[9645.06142],\"xaxis\":\"x6\",\"y\":[78.782],\"yaxis\":\"y6\"},{\"hovertemplate\":\"country=Cote d'Ivoire<br>continent=Africa<br>year=1997<br>gdpPercap=%{x}<br>lifeExp=%{y}<extra></extra>\",\"legendgroup\":\"Cote d'Ivoire\",\"marker\":{\"color\":\"rgb(76,114,176)\",\"symbol\":\"circle\"},\"mode\":\"markers\",\"name\":\"Cote d'Ivoire\",\"orientation\":\"v\",\"showlegend\":true,\"type\":\"scatter\",\"x\":[1786.265407],\"xaxis\":\"x7\",\"y\":[47.99100000000001],\"yaxis\":\"y7\"},{\"hovertemplate\":\"country=Cote d'Ivoire<br>continent=Africa<br>year=2002<br>gdpPercap=%{x}<br>lifeExp=%{y}<extra></extra>\",\"legendgroup\":\"Cote d'Ivoire\",\"marker\":{\"color\":\"rgb(76,114,176)\",\"symbol\":\"circle\"},\"mode\":\"markers\",\"name\":\"Cote d'Ivoire\",\"orientation\":\"v\",\"showlegend\":false,\"type\":\"scatter\",\"x\":[1648.800823],\"xaxis\":\"x8\",\"y\":[46.832],\"yaxis\":\"y8\"},{\"hovertemplate\":\"country=Cote d'Ivoire<br>continent=Africa<br>year=2007<br>gdpPercap=%{x}<br>lifeExp=%{y}<extra></extra>\",\"legendgroup\":\"Cote d'Ivoire\",\"marker\":{\"color\":\"rgb(76,114,176)\",\"symbol\":\"circle\"},\"mode\":\"markers\",\"name\":\"Cote d'Ivoire\",\"orientation\":\"v\",\"showlegend\":false,\"type\":\"scatter\",\"x\":[1544.750112],\"xaxis\":\"x9\",\"y\":[48.328],\"yaxis\":\"y9\"},{\"hovertemplate\":\"country=Croatia<br>continent=Europe<br>year=1997<br>gdpPercap=%{x}<br>lifeExp=%{y}<extra></extra>\",\"legendgroup\":\"Croatia\",\"marker\":{\"color\":\"rgb(221,132,82)\",\"symbol\":\"circle\"},\"mode\":\"markers\",\"name\":\"Croatia\",\"orientation\":\"v\",\"showlegend\":true,\"type\":\"scatter\",\"x\":[9875.604515],\"xaxis\":\"x10\",\"y\":[73.68],\"yaxis\":\"y10\"},{\"hovertemplate\":\"country=Croatia<br>continent=Europe<br>year=2002<br>gdpPercap=%{x}<br>lifeExp=%{y}<extra></extra>\",\"legendgroup\":\"Croatia\",\"marker\":{\"color\":\"rgb(221,132,82)\",\"symbol\":\"circle\"},\"mode\":\"markers\",\"name\":\"Croatia\",\"orientation\":\"v\",\"showlegend\":false,\"type\":\"scatter\",\"x\":[11628.38895],\"xaxis\":\"x11\",\"y\":[74.876],\"yaxis\":\"y11\"},{\"hovertemplate\":\"country=Croatia<br>continent=Europe<br>year=2007<br>gdpPercap=%{x}<br>lifeExp=%{y}<extra></extra>\",\"legendgroup\":\"Croatia\",\"marker\":{\"color\":\"rgb(221,132,82)\",\"symbol\":\"circle\"},\"mode\":\"markers\",\"name\":\"Croatia\",\"orientation\":\"v\",\"showlegend\":false,\"type\":\"scatter\",\"x\":[14619.222719999998],\"xaxis\":\"x12\",\"y\":[75.748],\"yaxis\":\"y12\"},{\"hovertemplate\":\"country=Cuba<br>continent=Americas<br>year=1997<br>gdpPercap=%{x}<br>lifeExp=%{y}<extra></extra>\",\"legendgroup\":\"Cuba\",\"marker\":{\"color\":\"rgb(85,168,104)\",\"symbol\":\"circle\"},\"mode\":\"markers\",\"name\":\"Cuba\",\"orientation\":\"v\",\"showlegend\":true,\"type\":\"scatter\",\"x\":[5431.990415],\"xaxis\":\"x4\",\"y\":[76.15100000000002],\"yaxis\":\"y4\"},{\"hovertemplate\":\"country=Cuba<br>continent=Americas<br>year=2002<br>gdpPercap=%{x}<br>lifeExp=%{y}<extra></extra>\",\"legendgroup\":\"Cuba\",\"marker\":{\"color\":\"rgb(85,168,104)\",\"symbol\":\"circle\"},\"mode\":\"markers\",\"name\":\"Cuba\",\"orientation\":\"v\",\"showlegend\":false,\"type\":\"scatter\",\"x\":[6340.646683],\"xaxis\":\"x5\",\"y\":[77.158],\"yaxis\":\"y5\"},{\"hovertemplate\":\"country=Cuba<br>continent=Americas<br>year=2007<br>gdpPercap=%{x}<br>lifeExp=%{y}<extra></extra>\",\"legendgroup\":\"Cuba\",\"marker\":{\"color\":\"rgb(85,168,104)\",\"symbol\":\"circle\"},\"mode\":\"markers\",\"name\":\"Cuba\",\"orientation\":\"v\",\"showlegend\":false,\"type\":\"scatter\",\"x\":[8948.102923],\"xaxis\":\"x6\",\"y\":[78.273],\"yaxis\":\"y6\"},{\"hovertemplate\":\"country=Czech Republic<br>continent=Europe<br>year=1997<br>gdpPercap=%{x}<br>lifeExp=%{y}<extra></extra>\",\"legendgroup\":\"Czech Republic\",\"marker\":{\"color\":\"rgb(196,78,82)\",\"symbol\":\"circle\"},\"mode\":\"markers\",\"name\":\"Czech Republic\",\"orientation\":\"v\",\"showlegend\":true,\"type\":\"scatter\",\"x\":[16048.51424],\"xaxis\":\"x10\",\"y\":[74.01],\"yaxis\":\"y10\"},{\"hovertemplate\":\"country=Czech Republic<br>continent=Europe<br>year=2002<br>gdpPercap=%{x}<br>lifeExp=%{y}<extra></extra>\",\"legendgroup\":\"Czech Republic\",\"marker\":{\"color\":\"rgb(196,78,82)\",\"symbol\":\"circle\"},\"mode\":\"markers\",\"name\":\"Czech Republic\",\"orientation\":\"v\",\"showlegend\":false,\"type\":\"scatter\",\"x\":[17596.210219999994],\"xaxis\":\"x11\",\"y\":[75.51],\"yaxis\":\"y11\"},{\"hovertemplate\":\"country=Czech Republic<br>continent=Europe<br>year=2007<br>gdpPercap=%{x}<br>lifeExp=%{y}<extra></extra>\",\"legendgroup\":\"Czech Republic\",\"marker\":{\"color\":\"rgb(196,78,82)\",\"symbol\":\"circle\"},\"mode\":\"markers\",\"name\":\"Czech Republic\",\"orientation\":\"v\",\"showlegend\":false,\"type\":\"scatter\",\"x\":[22833.30851],\"xaxis\":\"x12\",\"y\":[76.486],\"yaxis\":\"y12\"},{\"hovertemplate\":\"country=Denmark<br>continent=Europe<br>year=1997<br>gdpPercap=%{x}<br>lifeExp=%{y}<extra></extra>\",\"legendgroup\":\"Denmark\",\"marker\":{\"color\":\"rgb(129,114,179)\",\"symbol\":\"circle\"},\"mode\":\"markers\",\"name\":\"Denmark\",\"orientation\":\"v\",\"showlegend\":true,\"type\":\"scatter\",\"x\":[29804.34567],\"xaxis\":\"x10\",\"y\":[76.11],\"yaxis\":\"y10\"},{\"hovertemplate\":\"country=Denmark<br>continent=Europe<br>year=2002<br>gdpPercap=%{x}<br>lifeExp=%{y}<extra></extra>\",\"legendgroup\":\"Denmark\",\"marker\":{\"color\":\"rgb(129,114,179)\",\"symbol\":\"circle\"},\"mode\":\"markers\",\"name\":\"Denmark\",\"orientation\":\"v\",\"showlegend\":false,\"type\":\"scatter\",\"x\":[32166.500060000002],\"xaxis\":\"x11\",\"y\":[77.18],\"yaxis\":\"y11\"},{\"hovertemplate\":\"country=Denmark<br>continent=Europe<br>year=2007<br>gdpPercap=%{x}<br>lifeExp=%{y}<extra></extra>\",\"legendgroup\":\"Denmark\",\"marker\":{\"color\":\"rgb(129,114,179)\",\"symbol\":\"circle\"},\"mode\":\"markers\",\"name\":\"Denmark\",\"orientation\":\"v\",\"showlegend\":false,\"type\":\"scatter\",\"x\":[35278.41874],\"xaxis\":\"x12\",\"y\":[78.332],\"yaxis\":\"y12\"},{\"hovertemplate\":\"country=Djibouti<br>continent=Africa<br>year=1997<br>gdpPercap=%{x}<br>lifeExp=%{y}<extra></extra>\",\"legendgroup\":\"Djibouti\",\"marker\":{\"color\":\"rgb(147,120,96)\",\"symbol\":\"circle\"},\"mode\":\"markers\",\"name\":\"Djibouti\",\"orientation\":\"v\",\"showlegend\":true,\"type\":\"scatter\",\"x\":[1895.016984],\"xaxis\":\"x7\",\"y\":[53.157],\"yaxis\":\"y7\"},{\"hovertemplate\":\"country=Djibouti<br>continent=Africa<br>year=2002<br>gdpPercap=%{x}<br>lifeExp=%{y}<extra></extra>\",\"legendgroup\":\"Djibouti\",\"marker\":{\"color\":\"rgb(147,120,96)\",\"symbol\":\"circle\"},\"mode\":\"markers\",\"name\":\"Djibouti\",\"orientation\":\"v\",\"showlegend\":false,\"type\":\"scatter\",\"x\":[1908.2608670000002],\"xaxis\":\"x8\",\"y\":[53.37300000000001],\"yaxis\":\"y8\"},{\"hovertemplate\":\"country=Djibouti<br>continent=Africa<br>year=2007<br>gdpPercap=%{x}<br>lifeExp=%{y}<extra></extra>\",\"legendgroup\":\"Djibouti\",\"marker\":{\"color\":\"rgb(147,120,96)\",\"symbol\":\"circle\"},\"mode\":\"markers\",\"name\":\"Djibouti\",\"orientation\":\"v\",\"showlegend\":false,\"type\":\"scatter\",\"x\":[2082.4815670000007],\"xaxis\":\"x9\",\"y\":[54.791000000000004],\"yaxis\":\"y9\"},{\"hovertemplate\":\"country=Dominican Republic<br>continent=Americas<br>year=1997<br>gdpPercap=%{x}<br>lifeExp=%{y}<extra></extra>\",\"legendgroup\":\"Dominican Republic\",\"marker\":{\"color\":\"rgb(218,139,195)\",\"symbol\":\"circle\"},\"mode\":\"markers\",\"name\":\"Dominican Republic\",\"orientation\":\"v\",\"showlegend\":true,\"type\":\"scatter\",\"x\":[3614.101285],\"xaxis\":\"x4\",\"y\":[69.957],\"yaxis\":\"y4\"},{\"hovertemplate\":\"country=Dominican Republic<br>continent=Americas<br>year=2002<br>gdpPercap=%{x}<br>lifeExp=%{y}<extra></extra>\",\"legendgroup\":\"Dominican Republic\",\"marker\":{\"color\":\"rgb(218,139,195)\",\"symbol\":\"circle\"},\"mode\":\"markers\",\"name\":\"Dominican Republic\",\"orientation\":\"v\",\"showlegend\":false,\"type\":\"scatter\",\"x\":[4563.808154],\"xaxis\":\"x5\",\"y\":[70.847],\"yaxis\":\"y5\"},{\"hovertemplate\":\"country=Dominican Republic<br>continent=Americas<br>year=2007<br>gdpPercap=%{x}<br>lifeExp=%{y}<extra></extra>\",\"legendgroup\":\"Dominican Republic\",\"marker\":{\"color\":\"rgb(218,139,195)\",\"symbol\":\"circle\"},\"mode\":\"markers\",\"name\":\"Dominican Republic\",\"orientation\":\"v\",\"showlegend\":false,\"type\":\"scatter\",\"x\":[6025.374752000002],\"xaxis\":\"x6\",\"y\":[72.235],\"yaxis\":\"y6\"},{\"hovertemplate\":\"country=Ecuador<br>continent=Americas<br>year=1997<br>gdpPercap=%{x}<br>lifeExp=%{y}<extra></extra>\",\"legendgroup\":\"Ecuador\",\"marker\":{\"color\":\"rgb(140,140,140)\",\"symbol\":\"circle\"},\"mode\":\"markers\",\"name\":\"Ecuador\",\"orientation\":\"v\",\"showlegend\":true,\"type\":\"scatter\",\"x\":[7429.455876999998],\"xaxis\":\"x4\",\"y\":[72.312],\"yaxis\":\"y4\"},{\"hovertemplate\":\"country=Ecuador<br>continent=Americas<br>year=2002<br>gdpPercap=%{x}<br>lifeExp=%{y}<extra></extra>\",\"legendgroup\":\"Ecuador\",\"marker\":{\"color\":\"rgb(140,140,140)\",\"symbol\":\"circle\"},\"mode\":\"markers\",\"name\":\"Ecuador\",\"orientation\":\"v\",\"showlegend\":false,\"type\":\"scatter\",\"x\":[5773.0445119999995],\"xaxis\":\"x5\",\"y\":[74.173],\"yaxis\":\"y5\"},{\"hovertemplate\":\"country=Ecuador<br>continent=Americas<br>year=2007<br>gdpPercap=%{x}<br>lifeExp=%{y}<extra></extra>\",\"legendgroup\":\"Ecuador\",\"marker\":{\"color\":\"rgb(140,140,140)\",\"symbol\":\"circle\"},\"mode\":\"markers\",\"name\":\"Ecuador\",\"orientation\":\"v\",\"showlegend\":false,\"type\":\"scatter\",\"x\":[6873.262326000001],\"xaxis\":\"x6\",\"y\":[74.994],\"yaxis\":\"y6\"},{\"hovertemplate\":\"country=Egypt<br>continent=Africa<br>year=1997<br>gdpPercap=%{x}<br>lifeExp=%{y}<extra></extra>\",\"legendgroup\":\"Egypt\",\"marker\":{\"color\":\"rgb(204,185,116)\",\"symbol\":\"circle\"},\"mode\":\"markers\",\"name\":\"Egypt\",\"orientation\":\"v\",\"showlegend\":true,\"type\":\"scatter\",\"x\":[4173.181797],\"xaxis\":\"x7\",\"y\":[67.217],\"yaxis\":\"y7\"},{\"hovertemplate\":\"country=Egypt<br>continent=Africa<br>year=2002<br>gdpPercap=%{x}<br>lifeExp=%{y}<extra></extra>\",\"legendgroup\":\"Egypt\",\"marker\":{\"color\":\"rgb(204,185,116)\",\"symbol\":\"circle\"},\"mode\":\"markers\",\"name\":\"Egypt\",\"orientation\":\"v\",\"showlegend\":false,\"type\":\"scatter\",\"x\":[4754.604414],\"xaxis\":\"x8\",\"y\":[69.806],\"yaxis\":\"y8\"},{\"hovertemplate\":\"country=Egypt<br>continent=Africa<br>year=2007<br>gdpPercap=%{x}<br>lifeExp=%{y}<extra></extra>\",\"legendgroup\":\"Egypt\",\"marker\":{\"color\":\"rgb(204,185,116)\",\"symbol\":\"circle\"},\"mode\":\"markers\",\"name\":\"Egypt\",\"orientation\":\"v\",\"showlegend\":false,\"type\":\"scatter\",\"x\":[5581.180998],\"xaxis\":\"x9\",\"y\":[71.33800000000002],\"yaxis\":\"y9\"},{\"hovertemplate\":\"country=El Salvador<br>continent=Americas<br>year=1997<br>gdpPercap=%{x}<br>lifeExp=%{y}<extra></extra>\",\"legendgroup\":\"El Salvador\",\"marker\":{\"color\":\"rgb(100,181,205)\",\"symbol\":\"circle\"},\"mode\":\"markers\",\"name\":\"El Salvador\",\"orientation\":\"v\",\"showlegend\":true,\"type\":\"scatter\",\"x\":[5154.825496],\"xaxis\":\"x4\",\"y\":[69.535],\"yaxis\":\"y4\"},{\"hovertemplate\":\"country=El Salvador<br>continent=Americas<br>year=2002<br>gdpPercap=%{x}<br>lifeExp=%{y}<extra></extra>\",\"legendgroup\":\"El Salvador\",\"marker\":{\"color\":\"rgb(100,181,205)\",\"symbol\":\"circle\"},\"mode\":\"markers\",\"name\":\"El Salvador\",\"orientation\":\"v\",\"showlegend\":false,\"type\":\"scatter\",\"x\":[5351.568665999999],\"xaxis\":\"x5\",\"y\":[70.734],\"yaxis\":\"y5\"},{\"hovertemplate\":\"country=El Salvador<br>continent=Americas<br>year=2007<br>gdpPercap=%{x}<br>lifeExp=%{y}<extra></extra>\",\"legendgroup\":\"El Salvador\",\"marker\":{\"color\":\"rgb(100,181,205)\",\"symbol\":\"circle\"},\"mode\":\"markers\",\"name\":\"El Salvador\",\"orientation\":\"v\",\"showlegend\":false,\"type\":\"scatter\",\"x\":[5728.353514],\"xaxis\":\"x6\",\"y\":[71.878],\"yaxis\":\"y6\"},{\"hovertemplate\":\"country=Equatorial Guinea<br>continent=Africa<br>year=1997<br>gdpPercap=%{x}<br>lifeExp=%{y}<extra></extra>\",\"legendgroup\":\"Equatorial Guinea\",\"marker\":{\"color\":\"rgb(76,114,176)\",\"symbol\":\"circle\"},\"mode\":\"markers\",\"name\":\"Equatorial Guinea\",\"orientation\":\"v\",\"showlegend\":true,\"type\":\"scatter\",\"x\":[2814.480755],\"xaxis\":\"x7\",\"y\":[48.245],\"yaxis\":\"y7\"},{\"hovertemplate\":\"country=Equatorial Guinea<br>continent=Africa<br>year=2002<br>gdpPercap=%{x}<br>lifeExp=%{y}<extra></extra>\",\"legendgroup\":\"Equatorial Guinea\",\"marker\":{\"color\":\"rgb(76,114,176)\",\"symbol\":\"circle\"},\"mode\":\"markers\",\"name\":\"Equatorial Guinea\",\"orientation\":\"v\",\"showlegend\":false,\"type\":\"scatter\",\"x\":[7703.4959],\"xaxis\":\"x8\",\"y\":[49.348],\"yaxis\":\"y8\"},{\"hovertemplate\":\"country=Equatorial Guinea<br>continent=Africa<br>year=2007<br>gdpPercap=%{x}<br>lifeExp=%{y}<extra></extra>\",\"legendgroup\":\"Equatorial Guinea\",\"marker\":{\"color\":\"rgb(76,114,176)\",\"symbol\":\"circle\"},\"mode\":\"markers\",\"name\":\"Equatorial Guinea\",\"orientation\":\"v\",\"showlegend\":false,\"type\":\"scatter\",\"x\":[12154.08975],\"xaxis\":\"x9\",\"y\":[51.57899999999999],\"yaxis\":\"y9\"},{\"hovertemplate\":\"country=Eritrea<br>continent=Africa<br>year=1997<br>gdpPercap=%{x}<br>lifeExp=%{y}<extra></extra>\",\"legendgroup\":\"Eritrea\",\"marker\":{\"color\":\"rgb(221,132,82)\",\"symbol\":\"circle\"},\"mode\":\"markers\",\"name\":\"Eritrea\",\"orientation\":\"v\",\"showlegend\":true,\"type\":\"scatter\",\"x\":[913.4707900000001],\"xaxis\":\"x7\",\"y\":[53.378],\"yaxis\":\"y7\"},{\"hovertemplate\":\"country=Eritrea<br>continent=Africa<br>year=2002<br>gdpPercap=%{x}<br>lifeExp=%{y}<extra></extra>\",\"legendgroup\":\"Eritrea\",\"marker\":{\"color\":\"rgb(221,132,82)\",\"symbol\":\"circle\"},\"mode\":\"markers\",\"name\":\"Eritrea\",\"orientation\":\"v\",\"showlegend\":false,\"type\":\"scatter\",\"x\":[765.3500015],\"xaxis\":\"x8\",\"y\":[55.24],\"yaxis\":\"y8\"},{\"hovertemplate\":\"country=Eritrea<br>continent=Africa<br>year=2007<br>gdpPercap=%{x}<br>lifeExp=%{y}<extra></extra>\",\"legendgroup\":\"Eritrea\",\"marker\":{\"color\":\"rgb(221,132,82)\",\"symbol\":\"circle\"},\"mode\":\"markers\",\"name\":\"Eritrea\",\"orientation\":\"v\",\"showlegend\":false,\"type\":\"scatter\",\"x\":[641.3695236000002],\"xaxis\":\"x9\",\"y\":[58.04],\"yaxis\":\"y9\"},{\"hovertemplate\":\"country=Ethiopia<br>continent=Africa<br>year=1997<br>gdpPercap=%{x}<br>lifeExp=%{y}<extra></extra>\",\"legendgroup\":\"Ethiopia\",\"marker\":{\"color\":\"rgb(85,168,104)\",\"symbol\":\"circle\"},\"mode\":\"markers\",\"name\":\"Ethiopia\",\"orientation\":\"v\",\"showlegend\":true,\"type\":\"scatter\",\"x\":[515.8894013],\"xaxis\":\"x7\",\"y\":[49.402],\"yaxis\":\"y7\"},{\"hovertemplate\":\"country=Ethiopia<br>continent=Africa<br>year=2002<br>gdpPercap=%{x}<br>lifeExp=%{y}<extra></extra>\",\"legendgroup\":\"Ethiopia\",\"marker\":{\"color\":\"rgb(85,168,104)\",\"symbol\":\"circle\"},\"mode\":\"markers\",\"name\":\"Ethiopia\",\"orientation\":\"v\",\"showlegend\":false,\"type\":\"scatter\",\"x\":[530.0535319],\"xaxis\":\"x8\",\"y\":[50.725],\"yaxis\":\"y8\"},{\"hovertemplate\":\"country=Ethiopia<br>continent=Africa<br>year=2007<br>gdpPercap=%{x}<br>lifeExp=%{y}<extra></extra>\",\"legendgroup\":\"Ethiopia\",\"marker\":{\"color\":\"rgb(85,168,104)\",\"symbol\":\"circle\"},\"mode\":\"markers\",\"name\":\"Ethiopia\",\"orientation\":\"v\",\"showlegend\":false,\"type\":\"scatter\",\"x\":[690.8055759],\"xaxis\":\"x9\",\"y\":[52.946999999999996],\"yaxis\":\"y9\"},{\"hovertemplate\":\"country=Finland<br>continent=Europe<br>year=1997<br>gdpPercap=%{x}<br>lifeExp=%{y}<extra></extra>\",\"legendgroup\":\"Finland\",\"marker\":{\"color\":\"rgb(196,78,82)\",\"symbol\":\"circle\"},\"mode\":\"markers\",\"name\":\"Finland\",\"orientation\":\"v\",\"showlegend\":true,\"type\":\"scatter\",\"x\":[23723.9502],\"xaxis\":\"x10\",\"y\":[77.13],\"yaxis\":\"y10\"},{\"hovertemplate\":\"country=Finland<br>continent=Europe<br>year=2002<br>gdpPercap=%{x}<br>lifeExp=%{y}<extra></extra>\",\"legendgroup\":\"Finland\",\"marker\":{\"color\":\"rgb(196,78,82)\",\"symbol\":\"circle\"},\"mode\":\"markers\",\"name\":\"Finland\",\"orientation\":\"v\",\"showlegend\":false,\"type\":\"scatter\",\"x\":[28204.59057],\"xaxis\":\"x11\",\"y\":[78.37],\"yaxis\":\"y11\"},{\"hovertemplate\":\"country=Finland<br>continent=Europe<br>year=2007<br>gdpPercap=%{x}<br>lifeExp=%{y}<extra></extra>\",\"legendgroup\":\"Finland\",\"marker\":{\"color\":\"rgb(196,78,82)\",\"symbol\":\"circle\"},\"mode\":\"markers\",\"name\":\"Finland\",\"orientation\":\"v\",\"showlegend\":false,\"type\":\"scatter\",\"x\":[33207.0844],\"xaxis\":\"x12\",\"y\":[79.313],\"yaxis\":\"y12\"},{\"hovertemplate\":\"country=France<br>continent=Europe<br>year=1997<br>gdpPercap=%{x}<br>lifeExp=%{y}<extra></extra>\",\"legendgroup\":\"France\",\"marker\":{\"color\":\"rgb(129,114,179)\",\"symbol\":\"circle\"},\"mode\":\"markers\",\"name\":\"France\",\"orientation\":\"v\",\"showlegend\":true,\"type\":\"scatter\",\"x\":[25889.78487],\"xaxis\":\"x10\",\"y\":[78.64],\"yaxis\":\"y10\"},{\"hovertemplate\":\"country=France<br>continent=Europe<br>year=2002<br>gdpPercap=%{x}<br>lifeExp=%{y}<extra></extra>\",\"legendgroup\":\"France\",\"marker\":{\"color\":\"rgb(129,114,179)\",\"symbol\":\"circle\"},\"mode\":\"markers\",\"name\":\"France\",\"orientation\":\"v\",\"showlegend\":false,\"type\":\"scatter\",\"x\":[28926.032339999998],\"xaxis\":\"x11\",\"y\":[79.59],\"yaxis\":\"y11\"},{\"hovertemplate\":\"country=France<br>continent=Europe<br>year=2007<br>gdpPercap=%{x}<br>lifeExp=%{y}<extra></extra>\",\"legendgroup\":\"France\",\"marker\":{\"color\":\"rgb(129,114,179)\",\"symbol\":\"circle\"},\"mode\":\"markers\",\"name\":\"France\",\"orientation\":\"v\",\"showlegend\":false,\"type\":\"scatter\",\"x\":[30470.0167],\"xaxis\":\"x12\",\"y\":[80.657],\"yaxis\":\"y12\"},{\"hovertemplate\":\"country=Gabon<br>continent=Africa<br>year=1997<br>gdpPercap=%{x}<br>lifeExp=%{y}<extra></extra>\",\"legendgroup\":\"Gabon\",\"marker\":{\"color\":\"rgb(147,120,96)\",\"symbol\":\"circle\"},\"mode\":\"markers\",\"name\":\"Gabon\",\"orientation\":\"v\",\"showlegend\":true,\"type\":\"scatter\",\"x\":[14722.841880000002],\"xaxis\":\"x7\",\"y\":[60.46100000000001],\"yaxis\":\"y7\"},{\"hovertemplate\":\"country=Gabon<br>continent=Africa<br>year=2002<br>gdpPercap=%{x}<br>lifeExp=%{y}<extra></extra>\",\"legendgroup\":\"Gabon\",\"marker\":{\"color\":\"rgb(147,120,96)\",\"symbol\":\"circle\"},\"mode\":\"markers\",\"name\":\"Gabon\",\"orientation\":\"v\",\"showlegend\":false,\"type\":\"scatter\",\"x\":[12521.71392],\"xaxis\":\"x8\",\"y\":[56.761],\"yaxis\":\"y8\"},{\"hovertemplate\":\"country=Gabon<br>continent=Africa<br>year=2007<br>gdpPercap=%{x}<br>lifeExp=%{y}<extra></extra>\",\"legendgroup\":\"Gabon\",\"marker\":{\"color\":\"rgb(147,120,96)\",\"symbol\":\"circle\"},\"mode\":\"markers\",\"name\":\"Gabon\",\"orientation\":\"v\",\"showlegend\":false,\"type\":\"scatter\",\"x\":[13206.48452],\"xaxis\":\"x9\",\"y\":[56.735],\"yaxis\":\"y9\"},{\"hovertemplate\":\"country=Gambia<br>continent=Africa<br>year=1997<br>gdpPercap=%{x}<br>lifeExp=%{y}<extra></extra>\",\"legendgroup\":\"Gambia\",\"marker\":{\"color\":\"rgb(218,139,195)\",\"symbol\":\"circle\"},\"mode\":\"markers\",\"name\":\"Gambia\",\"orientation\":\"v\",\"showlegend\":true,\"type\":\"scatter\",\"x\":[653.7301704],\"xaxis\":\"x7\",\"y\":[55.861000000000004],\"yaxis\":\"y7\"},{\"hovertemplate\":\"country=Gambia<br>continent=Africa<br>year=2002<br>gdpPercap=%{x}<br>lifeExp=%{y}<extra></extra>\",\"legendgroup\":\"Gambia\",\"marker\":{\"color\":\"rgb(218,139,195)\",\"symbol\":\"circle\"},\"mode\":\"markers\",\"name\":\"Gambia\",\"orientation\":\"v\",\"showlegend\":false,\"type\":\"scatter\",\"x\":[660.5855997],\"xaxis\":\"x8\",\"y\":[58.041000000000004],\"yaxis\":\"y8\"},{\"hovertemplate\":\"country=Gambia<br>continent=Africa<br>year=2007<br>gdpPercap=%{x}<br>lifeExp=%{y}<extra></extra>\",\"legendgroup\":\"Gambia\",\"marker\":{\"color\":\"rgb(218,139,195)\",\"symbol\":\"circle\"},\"mode\":\"markers\",\"name\":\"Gambia\",\"orientation\":\"v\",\"showlegend\":false,\"type\":\"scatter\",\"x\":[752.7497265],\"xaxis\":\"x9\",\"y\":[59.448],\"yaxis\":\"y9\"},{\"hovertemplate\":\"country=Germany<br>continent=Europe<br>year=1997<br>gdpPercap=%{x}<br>lifeExp=%{y}<extra></extra>\",\"legendgroup\":\"Germany\",\"marker\":{\"color\":\"rgb(140,140,140)\",\"symbol\":\"circle\"},\"mode\":\"markers\",\"name\":\"Germany\",\"orientation\":\"v\",\"showlegend\":true,\"type\":\"scatter\",\"x\":[27788.88416],\"xaxis\":\"x10\",\"y\":[77.34],\"yaxis\":\"y10\"},{\"hovertemplate\":\"country=Germany<br>continent=Europe<br>year=2002<br>gdpPercap=%{x}<br>lifeExp=%{y}<extra></extra>\",\"legendgroup\":\"Germany\",\"marker\":{\"color\":\"rgb(140,140,140)\",\"symbol\":\"circle\"},\"mode\":\"markers\",\"name\":\"Germany\",\"orientation\":\"v\",\"showlegend\":false,\"type\":\"scatter\",\"x\":[30035.80198],\"xaxis\":\"x11\",\"y\":[78.67],\"yaxis\":\"y11\"},{\"hovertemplate\":\"country=Germany<br>continent=Europe<br>year=2007<br>gdpPercap=%{x}<br>lifeExp=%{y}<extra></extra>\",\"legendgroup\":\"Germany\",\"marker\":{\"color\":\"rgb(140,140,140)\",\"symbol\":\"circle\"},\"mode\":\"markers\",\"name\":\"Germany\",\"orientation\":\"v\",\"showlegend\":false,\"type\":\"scatter\",\"x\":[32170.37442],\"xaxis\":\"x12\",\"y\":[79.406],\"yaxis\":\"y12\"},{\"hovertemplate\":\"country=Ghana<br>continent=Africa<br>year=1997<br>gdpPercap=%{x}<br>lifeExp=%{y}<extra></extra>\",\"legendgroup\":\"Ghana\",\"marker\":{\"color\":\"rgb(204,185,116)\",\"symbol\":\"circle\"},\"mode\":\"markers\",\"name\":\"Ghana\",\"orientation\":\"v\",\"showlegend\":true,\"type\":\"scatter\",\"x\":[1005.2458119999999],\"xaxis\":\"x7\",\"y\":[58.556000000000004],\"yaxis\":\"y7\"},{\"hovertemplate\":\"country=Ghana<br>continent=Africa<br>year=2002<br>gdpPercap=%{x}<br>lifeExp=%{y}<extra></extra>\",\"legendgroup\":\"Ghana\",\"marker\":{\"color\":\"rgb(204,185,116)\",\"symbol\":\"circle\"},\"mode\":\"markers\",\"name\":\"Ghana\",\"orientation\":\"v\",\"showlegend\":false,\"type\":\"scatter\",\"x\":[1111.9845779999996],\"xaxis\":\"x8\",\"y\":[58.453],\"yaxis\":\"y8\"},{\"hovertemplate\":\"country=Ghana<br>continent=Africa<br>year=2007<br>gdpPercap=%{x}<br>lifeExp=%{y}<extra></extra>\",\"legendgroup\":\"Ghana\",\"marker\":{\"color\":\"rgb(204,185,116)\",\"symbol\":\"circle\"},\"mode\":\"markers\",\"name\":\"Ghana\",\"orientation\":\"v\",\"showlegend\":false,\"type\":\"scatter\",\"x\":[1327.60891],\"xaxis\":\"x9\",\"y\":[60.022],\"yaxis\":\"y9\"},{\"hovertemplate\":\"country=Greece<br>continent=Europe<br>year=1997<br>gdpPercap=%{x}<br>lifeExp=%{y}<extra></extra>\",\"legendgroup\":\"Greece\",\"marker\":{\"color\":\"rgb(100,181,205)\",\"symbol\":\"circle\"},\"mode\":\"markers\",\"name\":\"Greece\",\"orientation\":\"v\",\"showlegend\":true,\"type\":\"scatter\",\"x\":[18747.69814],\"xaxis\":\"x10\",\"y\":[77.869],\"yaxis\":\"y10\"},{\"hovertemplate\":\"country=Greece<br>continent=Europe<br>year=2002<br>gdpPercap=%{x}<br>lifeExp=%{y}<extra></extra>\",\"legendgroup\":\"Greece\",\"marker\":{\"color\":\"rgb(100,181,205)\",\"symbol\":\"circle\"},\"mode\":\"markers\",\"name\":\"Greece\",\"orientation\":\"v\",\"showlegend\":false,\"type\":\"scatter\",\"x\":[22514.2548],\"xaxis\":\"x11\",\"y\":[78.256],\"yaxis\":\"y11\"},{\"hovertemplate\":\"country=Greece<br>continent=Europe<br>year=2007<br>gdpPercap=%{x}<br>lifeExp=%{y}<extra></extra>\",\"legendgroup\":\"Greece\",\"marker\":{\"color\":\"rgb(100,181,205)\",\"symbol\":\"circle\"},\"mode\":\"markers\",\"name\":\"Greece\",\"orientation\":\"v\",\"showlegend\":false,\"type\":\"scatter\",\"x\":[27538.41188],\"xaxis\":\"x12\",\"y\":[79.483],\"yaxis\":\"y12\"},{\"hovertemplate\":\"country=Guatemala<br>continent=Americas<br>year=1997<br>gdpPercap=%{x}<br>lifeExp=%{y}<extra></extra>\",\"legendgroup\":\"Guatemala\",\"marker\":{\"color\":\"rgb(76,114,176)\",\"symbol\":\"circle\"},\"mode\":\"markers\",\"name\":\"Guatemala\",\"orientation\":\"v\",\"showlegend\":true,\"type\":\"scatter\",\"x\":[4684.313807],\"xaxis\":\"x4\",\"y\":[66.322],\"yaxis\":\"y4\"},{\"hovertemplate\":\"country=Guatemala<br>continent=Americas<br>year=2002<br>gdpPercap=%{x}<br>lifeExp=%{y}<extra></extra>\",\"legendgroup\":\"Guatemala\",\"marker\":{\"color\":\"rgb(76,114,176)\",\"symbol\":\"circle\"},\"mode\":\"markers\",\"name\":\"Guatemala\",\"orientation\":\"v\",\"showlegend\":false,\"type\":\"scatter\",\"x\":[4858.347495],\"xaxis\":\"x5\",\"y\":[68.97800000000001],\"yaxis\":\"y5\"},{\"hovertemplate\":\"country=Guatemala<br>continent=Americas<br>year=2007<br>gdpPercap=%{x}<br>lifeExp=%{y}<extra></extra>\",\"legendgroup\":\"Guatemala\",\"marker\":{\"color\":\"rgb(76,114,176)\",\"symbol\":\"circle\"},\"mode\":\"markers\",\"name\":\"Guatemala\",\"orientation\":\"v\",\"showlegend\":false,\"type\":\"scatter\",\"x\":[5186.050003],\"xaxis\":\"x6\",\"y\":[70.259],\"yaxis\":\"y6\"},{\"hovertemplate\":\"country=Guinea<br>continent=Africa<br>year=1997<br>gdpPercap=%{x}<br>lifeExp=%{y}<extra></extra>\",\"legendgroup\":\"Guinea\",\"marker\":{\"color\":\"rgb(221,132,82)\",\"symbol\":\"circle\"},\"mode\":\"markers\",\"name\":\"Guinea\",\"orientation\":\"v\",\"showlegend\":true,\"type\":\"scatter\",\"x\":[869.4497667999997],\"xaxis\":\"x7\",\"y\":[51.455],\"yaxis\":\"y7\"},{\"hovertemplate\":\"country=Guinea<br>continent=Africa<br>year=2002<br>gdpPercap=%{x}<br>lifeExp=%{y}<extra></extra>\",\"legendgroup\":\"Guinea\",\"marker\":{\"color\":\"rgb(221,132,82)\",\"symbol\":\"circle\"},\"mode\":\"markers\",\"name\":\"Guinea\",\"orientation\":\"v\",\"showlegend\":false,\"type\":\"scatter\",\"x\":[945.5835837000001],\"xaxis\":\"x8\",\"y\":[53.676],\"yaxis\":\"y8\"},{\"hovertemplate\":\"country=Guinea<br>continent=Africa<br>year=2007<br>gdpPercap=%{x}<br>lifeExp=%{y}<extra></extra>\",\"legendgroup\":\"Guinea\",\"marker\":{\"color\":\"rgb(221,132,82)\",\"symbol\":\"circle\"},\"mode\":\"markers\",\"name\":\"Guinea\",\"orientation\":\"v\",\"showlegend\":false,\"type\":\"scatter\",\"x\":[942.6542111],\"xaxis\":\"x9\",\"y\":[56.007],\"yaxis\":\"y9\"},{\"hovertemplate\":\"country=Guinea-Bissau<br>continent=Africa<br>year=1997<br>gdpPercap=%{x}<br>lifeExp=%{y}<extra></extra>\",\"legendgroup\":\"Guinea-Bissau\",\"marker\":{\"color\":\"rgb(85,168,104)\",\"symbol\":\"circle\"},\"mode\":\"markers\",\"name\":\"Guinea-Bissau\",\"orientation\":\"v\",\"showlegend\":true,\"type\":\"scatter\",\"x\":[796.6644681],\"xaxis\":\"x7\",\"y\":[44.87300000000001],\"yaxis\":\"y7\"},{\"hovertemplate\":\"country=Guinea-Bissau<br>continent=Africa<br>year=2002<br>gdpPercap=%{x}<br>lifeExp=%{y}<extra></extra>\",\"legendgroup\":\"Guinea-Bissau\",\"marker\":{\"color\":\"rgb(85,168,104)\",\"symbol\":\"circle\"},\"mode\":\"markers\",\"name\":\"Guinea-Bissau\",\"orientation\":\"v\",\"showlegend\":false,\"type\":\"scatter\",\"x\":[575.7047176],\"xaxis\":\"x8\",\"y\":[45.504],\"yaxis\":\"y8\"},{\"hovertemplate\":\"country=Guinea-Bissau<br>continent=Africa<br>year=2007<br>gdpPercap=%{x}<br>lifeExp=%{y}<extra></extra>\",\"legendgroup\":\"Guinea-Bissau\",\"marker\":{\"color\":\"rgb(85,168,104)\",\"symbol\":\"circle\"},\"mode\":\"markers\",\"name\":\"Guinea-Bissau\",\"orientation\":\"v\",\"showlegend\":false,\"type\":\"scatter\",\"x\":[579.2317429999998],\"xaxis\":\"x9\",\"y\":[46.38800000000001],\"yaxis\":\"y9\"},{\"hovertemplate\":\"country=Haiti<br>continent=Americas<br>year=1997<br>gdpPercap=%{x}<br>lifeExp=%{y}<extra></extra>\",\"legendgroup\":\"Haiti\",\"marker\":{\"color\":\"rgb(196,78,82)\",\"symbol\":\"circle\"},\"mode\":\"markers\",\"name\":\"Haiti\",\"orientation\":\"v\",\"showlegend\":true,\"type\":\"scatter\",\"x\":[1341.7269310000001],\"xaxis\":\"x4\",\"y\":[56.67100000000001],\"yaxis\":\"y4\"},{\"hovertemplate\":\"country=Haiti<br>continent=Americas<br>year=2002<br>gdpPercap=%{x}<br>lifeExp=%{y}<extra></extra>\",\"legendgroup\":\"Haiti\",\"marker\":{\"color\":\"rgb(196,78,82)\",\"symbol\":\"circle\"},\"mode\":\"markers\",\"name\":\"Haiti\",\"orientation\":\"v\",\"showlegend\":false,\"type\":\"scatter\",\"x\":[1270.364932],\"xaxis\":\"x5\",\"y\":[58.137],\"yaxis\":\"y5\"},{\"hovertemplate\":\"country=Haiti<br>continent=Americas<br>year=2007<br>gdpPercap=%{x}<br>lifeExp=%{y}<extra></extra>\",\"legendgroup\":\"Haiti\",\"marker\":{\"color\":\"rgb(196,78,82)\",\"symbol\":\"circle\"},\"mode\":\"markers\",\"name\":\"Haiti\",\"orientation\":\"v\",\"showlegend\":false,\"type\":\"scatter\",\"x\":[1201.637154],\"xaxis\":\"x6\",\"y\":[60.916000000000004],\"yaxis\":\"y6\"},{\"hovertemplate\":\"country=Honduras<br>continent=Americas<br>year=1997<br>gdpPercap=%{x}<br>lifeExp=%{y}<extra></extra>\",\"legendgroup\":\"Honduras\",\"marker\":{\"color\":\"rgb(129,114,179)\",\"symbol\":\"circle\"},\"mode\":\"markers\",\"name\":\"Honduras\",\"orientation\":\"v\",\"showlegend\":true,\"type\":\"scatter\",\"x\":[3160.454906],\"xaxis\":\"x4\",\"y\":[67.65899999999999],\"yaxis\":\"y4\"},{\"hovertemplate\":\"country=Honduras<br>continent=Americas<br>year=2002<br>gdpPercap=%{x}<br>lifeExp=%{y}<extra></extra>\",\"legendgroup\":\"Honduras\",\"marker\":{\"color\":\"rgb(129,114,179)\",\"symbol\":\"circle\"},\"mode\":\"markers\",\"name\":\"Honduras\",\"orientation\":\"v\",\"showlegend\":false,\"type\":\"scatter\",\"x\":[3099.72866],\"xaxis\":\"x5\",\"y\":[68.565],\"yaxis\":\"y5\"},{\"hovertemplate\":\"country=Honduras<br>continent=Americas<br>year=2007<br>gdpPercap=%{x}<br>lifeExp=%{y}<extra></extra>\",\"legendgroup\":\"Honduras\",\"marker\":{\"color\":\"rgb(129,114,179)\",\"symbol\":\"circle\"},\"mode\":\"markers\",\"name\":\"Honduras\",\"orientation\":\"v\",\"showlegend\":false,\"type\":\"scatter\",\"x\":[3548.330846000001],\"xaxis\":\"x6\",\"y\":[70.19800000000001],\"yaxis\":\"y6\"},{\"hovertemplate\":\"country=Hong Kong, China<br>continent=Asia<br>year=1997<br>gdpPercap=%{x}<br>lifeExp=%{y}<extra></extra>\",\"legendgroup\":\"Hong Kong, China\",\"marker\":{\"color\":\"rgb(147,120,96)\",\"symbol\":\"circle\"},\"mode\":\"markers\",\"name\":\"Hong Kong, China\",\"orientation\":\"v\",\"showlegend\":true,\"type\":\"scatter\",\"x\":[28377.632189999997],\"xaxis\":\"x13\",\"y\":[80.0],\"yaxis\":\"y13\"},{\"hovertemplate\":\"country=Hong Kong, China<br>continent=Asia<br>year=2002<br>gdpPercap=%{x}<br>lifeExp=%{y}<extra></extra>\",\"legendgroup\":\"Hong Kong, China\",\"marker\":{\"color\":\"rgb(147,120,96)\",\"symbol\":\"circle\"},\"mode\":\"markers\",\"name\":\"Hong Kong, China\",\"orientation\":\"v\",\"showlegend\":false,\"type\":\"scatter\",\"x\":[30209.01516000001],\"xaxis\":\"x14\",\"y\":[81.495],\"yaxis\":\"y14\"},{\"hovertemplate\":\"country=Hong Kong, China<br>continent=Asia<br>year=2007<br>gdpPercap=%{x}<br>lifeExp=%{y}<extra></extra>\",\"legendgroup\":\"Hong Kong, China\",\"marker\":{\"color\":\"rgb(147,120,96)\",\"symbol\":\"circle\"},\"mode\":\"markers\",\"name\":\"Hong Kong, China\",\"orientation\":\"v\",\"showlegend\":false,\"type\":\"scatter\",\"x\":[39724.97867],\"xaxis\":\"x15\",\"y\":[82.208],\"yaxis\":\"y15\"},{\"hovertemplate\":\"country=Hungary<br>continent=Europe<br>year=1997<br>gdpPercap=%{x}<br>lifeExp=%{y}<extra></extra>\",\"legendgroup\":\"Hungary\",\"marker\":{\"color\":\"rgb(218,139,195)\",\"symbol\":\"circle\"},\"mode\":\"markers\",\"name\":\"Hungary\",\"orientation\":\"v\",\"showlegend\":true,\"type\":\"scatter\",\"x\":[11712.7768],\"xaxis\":\"x10\",\"y\":[71.04],\"yaxis\":\"y10\"},{\"hovertemplate\":\"country=Hungary<br>continent=Europe<br>year=2002<br>gdpPercap=%{x}<br>lifeExp=%{y}<extra></extra>\",\"legendgroup\":\"Hungary\",\"marker\":{\"color\":\"rgb(218,139,195)\",\"symbol\":\"circle\"},\"mode\":\"markers\",\"name\":\"Hungary\",\"orientation\":\"v\",\"showlegend\":false,\"type\":\"scatter\",\"x\":[14843.93556],\"xaxis\":\"x11\",\"y\":[72.59],\"yaxis\":\"y11\"},{\"hovertemplate\":\"country=Hungary<br>continent=Europe<br>year=2007<br>gdpPercap=%{x}<br>lifeExp=%{y}<extra></extra>\",\"legendgroup\":\"Hungary\",\"marker\":{\"color\":\"rgb(218,139,195)\",\"symbol\":\"circle\"},\"mode\":\"markers\",\"name\":\"Hungary\",\"orientation\":\"v\",\"showlegend\":false,\"type\":\"scatter\",\"x\":[18008.94444],\"xaxis\":\"x12\",\"y\":[73.33800000000002],\"yaxis\":\"y12\"},{\"hovertemplate\":\"country=Iceland<br>continent=Europe<br>year=1997<br>gdpPercap=%{x}<br>lifeExp=%{y}<extra></extra>\",\"legendgroup\":\"Iceland\",\"marker\":{\"color\":\"rgb(140,140,140)\",\"symbol\":\"circle\"},\"mode\":\"markers\",\"name\":\"Iceland\",\"orientation\":\"v\",\"showlegend\":true,\"type\":\"scatter\",\"x\":[28061.099660000003],\"xaxis\":\"x10\",\"y\":[78.95],\"yaxis\":\"y10\"},{\"hovertemplate\":\"country=Iceland<br>continent=Europe<br>year=2002<br>gdpPercap=%{x}<br>lifeExp=%{y}<extra></extra>\",\"legendgroup\":\"Iceland\",\"marker\":{\"color\":\"rgb(140,140,140)\",\"symbol\":\"circle\"},\"mode\":\"markers\",\"name\":\"Iceland\",\"orientation\":\"v\",\"showlegend\":false,\"type\":\"scatter\",\"x\":[31163.201960000002],\"xaxis\":\"x11\",\"y\":[80.5],\"yaxis\":\"y11\"},{\"hovertemplate\":\"country=Iceland<br>continent=Europe<br>year=2007<br>gdpPercap=%{x}<br>lifeExp=%{y}<extra></extra>\",\"legendgroup\":\"Iceland\",\"marker\":{\"color\":\"rgb(140,140,140)\",\"symbol\":\"circle\"},\"mode\":\"markers\",\"name\":\"Iceland\",\"orientation\":\"v\",\"showlegend\":false,\"type\":\"scatter\",\"x\":[36180.789189999996],\"xaxis\":\"x12\",\"y\":[81.757],\"yaxis\":\"y12\"},{\"hovertemplate\":\"country=India<br>continent=Asia<br>year=1997<br>gdpPercap=%{x}<br>lifeExp=%{y}<extra></extra>\",\"legendgroup\":\"India\",\"marker\":{\"color\":\"rgb(204,185,116)\",\"symbol\":\"circle\"},\"mode\":\"markers\",\"name\":\"India\",\"orientation\":\"v\",\"showlegend\":true,\"type\":\"scatter\",\"x\":[1458.817442],\"xaxis\":\"x13\",\"y\":[61.765],\"yaxis\":\"y13\"},{\"hovertemplate\":\"country=India<br>continent=Asia<br>year=2002<br>gdpPercap=%{x}<br>lifeExp=%{y}<extra></extra>\",\"legendgroup\":\"India\",\"marker\":{\"color\":\"rgb(204,185,116)\",\"symbol\":\"circle\"},\"mode\":\"markers\",\"name\":\"India\",\"orientation\":\"v\",\"showlegend\":false,\"type\":\"scatter\",\"x\":[1746.769454],\"xaxis\":\"x14\",\"y\":[62.879],\"yaxis\":\"y14\"},{\"hovertemplate\":\"country=India<br>continent=Asia<br>year=2007<br>gdpPercap=%{x}<br>lifeExp=%{y}<extra></extra>\",\"legendgroup\":\"India\",\"marker\":{\"color\":\"rgb(204,185,116)\",\"symbol\":\"circle\"},\"mode\":\"markers\",\"name\":\"India\",\"orientation\":\"v\",\"showlegend\":false,\"type\":\"scatter\",\"x\":[2452.210407],\"xaxis\":\"x15\",\"y\":[64.69800000000001],\"yaxis\":\"y15\"},{\"hovertemplate\":\"country=Indonesia<br>continent=Asia<br>year=1997<br>gdpPercap=%{x}<br>lifeExp=%{y}<extra></extra>\",\"legendgroup\":\"Indonesia\",\"marker\":{\"color\":\"rgb(100,181,205)\",\"symbol\":\"circle\"},\"mode\":\"markers\",\"name\":\"Indonesia\",\"orientation\":\"v\",\"showlegend\":true,\"type\":\"scatter\",\"x\":[3119.335603],\"xaxis\":\"x13\",\"y\":[66.041],\"yaxis\":\"y13\"},{\"hovertemplate\":\"country=Indonesia<br>continent=Asia<br>year=2002<br>gdpPercap=%{x}<br>lifeExp=%{y}<extra></extra>\",\"legendgroup\":\"Indonesia\",\"marker\":{\"color\":\"rgb(100,181,205)\",\"symbol\":\"circle\"},\"mode\":\"markers\",\"name\":\"Indonesia\",\"orientation\":\"v\",\"showlegend\":false,\"type\":\"scatter\",\"x\":[2873.91287],\"xaxis\":\"x14\",\"y\":[68.58800000000001],\"yaxis\":\"y14\"},{\"hovertemplate\":\"country=Indonesia<br>continent=Asia<br>year=2007<br>gdpPercap=%{x}<br>lifeExp=%{y}<extra></extra>\",\"legendgroup\":\"Indonesia\",\"marker\":{\"color\":\"rgb(100,181,205)\",\"symbol\":\"circle\"},\"mode\":\"markers\",\"name\":\"Indonesia\",\"orientation\":\"v\",\"showlegend\":false,\"type\":\"scatter\",\"x\":[3540.6515640000002],\"xaxis\":\"x15\",\"y\":[70.65],\"yaxis\":\"y15\"},{\"hovertemplate\":\"country=Iran<br>continent=Asia<br>year=1997<br>gdpPercap=%{x}<br>lifeExp=%{y}<extra></extra>\",\"legendgroup\":\"Iran\",\"marker\":{\"color\":\"rgb(76,114,176)\",\"symbol\":\"circle\"},\"mode\":\"markers\",\"name\":\"Iran\",\"orientation\":\"v\",\"showlegend\":true,\"type\":\"scatter\",\"x\":[8263.590301],\"xaxis\":\"x13\",\"y\":[68.042],\"yaxis\":\"y13\"},{\"hovertemplate\":\"country=Iran<br>continent=Asia<br>year=2002<br>gdpPercap=%{x}<br>lifeExp=%{y}<extra></extra>\",\"legendgroup\":\"Iran\",\"marker\":{\"color\":\"rgb(76,114,176)\",\"symbol\":\"circle\"},\"mode\":\"markers\",\"name\":\"Iran\",\"orientation\":\"v\",\"showlegend\":false,\"type\":\"scatter\",\"x\":[9240.761975],\"xaxis\":\"x14\",\"y\":[69.45100000000001],\"yaxis\":\"y14\"},{\"hovertemplate\":\"country=Iran<br>continent=Asia<br>year=2007<br>gdpPercap=%{x}<br>lifeExp=%{y}<extra></extra>\",\"legendgroup\":\"Iran\",\"marker\":{\"color\":\"rgb(76,114,176)\",\"symbol\":\"circle\"},\"mode\":\"markers\",\"name\":\"Iran\",\"orientation\":\"v\",\"showlegend\":false,\"type\":\"scatter\",\"x\":[11605.71449],\"xaxis\":\"x15\",\"y\":[70.964],\"yaxis\":\"y15\"},{\"hovertemplate\":\"country=Iraq<br>continent=Asia<br>year=1997<br>gdpPercap=%{x}<br>lifeExp=%{y}<extra></extra>\",\"legendgroup\":\"Iraq\",\"marker\":{\"color\":\"rgb(221,132,82)\",\"symbol\":\"circle\"},\"mode\":\"markers\",\"name\":\"Iraq\",\"orientation\":\"v\",\"showlegend\":true,\"type\":\"scatter\",\"x\":[3076.239795],\"xaxis\":\"x13\",\"y\":[58.81100000000001],\"yaxis\":\"y13\"},{\"hovertemplate\":\"country=Iraq<br>continent=Asia<br>year=2002<br>gdpPercap=%{x}<br>lifeExp=%{y}<extra></extra>\",\"legendgroup\":\"Iraq\",\"marker\":{\"color\":\"rgb(221,132,82)\",\"symbol\":\"circle\"},\"mode\":\"markers\",\"name\":\"Iraq\",\"orientation\":\"v\",\"showlegend\":false,\"type\":\"scatter\",\"x\":[4390.717312],\"xaxis\":\"x14\",\"y\":[57.04600000000001],\"yaxis\":\"y14\"},{\"hovertemplate\":\"country=Iraq<br>continent=Asia<br>year=2007<br>gdpPercap=%{x}<br>lifeExp=%{y}<extra></extra>\",\"legendgroup\":\"Iraq\",\"marker\":{\"color\":\"rgb(221,132,82)\",\"symbol\":\"circle\"},\"mode\":\"markers\",\"name\":\"Iraq\",\"orientation\":\"v\",\"showlegend\":false,\"type\":\"scatter\",\"x\":[4471.061906],\"xaxis\":\"x15\",\"y\":[59.545],\"yaxis\":\"y15\"},{\"hovertemplate\":\"country=Ireland<br>continent=Europe<br>year=1997<br>gdpPercap=%{x}<br>lifeExp=%{y}<extra></extra>\",\"legendgroup\":\"Ireland\",\"marker\":{\"color\":\"rgb(85,168,104)\",\"symbol\":\"circle\"},\"mode\":\"markers\",\"name\":\"Ireland\",\"orientation\":\"v\",\"showlegend\":true,\"type\":\"scatter\",\"x\":[24521.94713],\"xaxis\":\"x10\",\"y\":[76.122],\"yaxis\":\"y10\"},{\"hovertemplate\":\"country=Ireland<br>continent=Europe<br>year=2002<br>gdpPercap=%{x}<br>lifeExp=%{y}<extra></extra>\",\"legendgroup\":\"Ireland\",\"marker\":{\"color\":\"rgb(85,168,104)\",\"symbol\":\"circle\"},\"mode\":\"markers\",\"name\":\"Ireland\",\"orientation\":\"v\",\"showlegend\":false,\"type\":\"scatter\",\"x\":[34077.04939],\"xaxis\":\"x11\",\"y\":[77.783],\"yaxis\":\"y11\"},{\"hovertemplate\":\"country=Ireland<br>continent=Europe<br>year=2007<br>gdpPercap=%{x}<br>lifeExp=%{y}<extra></extra>\",\"legendgroup\":\"Ireland\",\"marker\":{\"color\":\"rgb(85,168,104)\",\"symbol\":\"circle\"},\"mode\":\"markers\",\"name\":\"Ireland\",\"orientation\":\"v\",\"showlegend\":false,\"type\":\"scatter\",\"x\":[40675.99635],\"xaxis\":\"x12\",\"y\":[78.885],\"yaxis\":\"y12\"},{\"hovertemplate\":\"country=Israel<br>continent=Asia<br>year=1997<br>gdpPercap=%{x}<br>lifeExp=%{y}<extra></extra>\",\"legendgroup\":\"Israel\",\"marker\":{\"color\":\"rgb(196,78,82)\",\"symbol\":\"circle\"},\"mode\":\"markers\",\"name\":\"Israel\",\"orientation\":\"v\",\"showlegend\":true,\"type\":\"scatter\",\"x\":[20896.60924],\"xaxis\":\"x13\",\"y\":[78.26899999999998],\"yaxis\":\"y13\"},{\"hovertemplate\":\"country=Israel<br>continent=Asia<br>year=2002<br>gdpPercap=%{x}<br>lifeExp=%{y}<extra></extra>\",\"legendgroup\":\"Israel\",\"marker\":{\"color\":\"rgb(196,78,82)\",\"symbol\":\"circle\"},\"mode\":\"markers\",\"name\":\"Israel\",\"orientation\":\"v\",\"showlegend\":false,\"type\":\"scatter\",\"x\":[21905.59514],\"xaxis\":\"x14\",\"y\":[79.696],\"yaxis\":\"y14\"},{\"hovertemplate\":\"country=Israel<br>continent=Asia<br>year=2007<br>gdpPercap=%{x}<br>lifeExp=%{y}<extra></extra>\",\"legendgroup\":\"Israel\",\"marker\":{\"color\":\"rgb(196,78,82)\",\"symbol\":\"circle\"},\"mode\":\"markers\",\"name\":\"Israel\",\"orientation\":\"v\",\"showlegend\":false,\"type\":\"scatter\",\"x\":[25523.2771],\"xaxis\":\"x15\",\"y\":[80.745],\"yaxis\":\"y15\"},{\"hovertemplate\":\"country=Italy<br>continent=Europe<br>year=1997<br>gdpPercap=%{x}<br>lifeExp=%{y}<extra></extra>\",\"legendgroup\":\"Italy\",\"marker\":{\"color\":\"rgb(129,114,179)\",\"symbol\":\"circle\"},\"mode\":\"markers\",\"name\":\"Italy\",\"orientation\":\"v\",\"showlegend\":true,\"type\":\"scatter\",\"x\":[24675.02446],\"xaxis\":\"x10\",\"y\":[78.82],\"yaxis\":\"y10\"},{\"hovertemplate\":\"country=Italy<br>continent=Europe<br>year=2002<br>gdpPercap=%{x}<br>lifeExp=%{y}<extra></extra>\",\"legendgroup\":\"Italy\",\"marker\":{\"color\":\"rgb(129,114,179)\",\"symbol\":\"circle\"},\"mode\":\"markers\",\"name\":\"Italy\",\"orientation\":\"v\",\"showlegend\":false,\"type\":\"scatter\",\"x\":[27968.098169999997],\"xaxis\":\"x11\",\"y\":[80.24],\"yaxis\":\"y11\"},{\"hovertemplate\":\"country=Italy<br>continent=Europe<br>year=2007<br>gdpPercap=%{x}<br>lifeExp=%{y}<extra></extra>\",\"legendgroup\":\"Italy\",\"marker\":{\"color\":\"rgb(129,114,179)\",\"symbol\":\"circle\"},\"mode\":\"markers\",\"name\":\"Italy\",\"orientation\":\"v\",\"showlegend\":false,\"type\":\"scatter\",\"x\":[28569.7197],\"xaxis\":\"x12\",\"y\":[80.546],\"yaxis\":\"y12\"},{\"hovertemplate\":\"country=Jamaica<br>continent=Americas<br>year=1997<br>gdpPercap=%{x}<br>lifeExp=%{y}<extra></extra>\",\"legendgroup\":\"Jamaica\",\"marker\":{\"color\":\"rgb(147,120,96)\",\"symbol\":\"circle\"},\"mode\":\"markers\",\"name\":\"Jamaica\",\"orientation\":\"v\",\"showlegend\":true,\"type\":\"scatter\",\"x\":[7121.924704000001],\"xaxis\":\"x4\",\"y\":[72.262],\"yaxis\":\"y4\"},{\"hovertemplate\":\"country=Jamaica<br>continent=Americas<br>year=2002<br>gdpPercap=%{x}<br>lifeExp=%{y}<extra></extra>\",\"legendgroup\":\"Jamaica\",\"marker\":{\"color\":\"rgb(147,120,96)\",\"symbol\":\"circle\"},\"mode\":\"markers\",\"name\":\"Jamaica\",\"orientation\":\"v\",\"showlegend\":false,\"type\":\"scatter\",\"x\":[6994.774861],\"xaxis\":\"x5\",\"y\":[72.047],\"yaxis\":\"y5\"},{\"hovertemplate\":\"country=Jamaica<br>continent=Americas<br>year=2007<br>gdpPercap=%{x}<br>lifeExp=%{y}<extra></extra>\",\"legendgroup\":\"Jamaica\",\"marker\":{\"color\":\"rgb(147,120,96)\",\"symbol\":\"circle\"},\"mode\":\"markers\",\"name\":\"Jamaica\",\"orientation\":\"v\",\"showlegend\":false,\"type\":\"scatter\",\"x\":[7320.880262000002],\"xaxis\":\"x6\",\"y\":[72.567],\"yaxis\":\"y6\"},{\"hovertemplate\":\"country=Japan<br>continent=Asia<br>year=1997<br>gdpPercap=%{x}<br>lifeExp=%{y}<extra></extra>\",\"legendgroup\":\"Japan\",\"marker\":{\"color\":\"rgb(218,139,195)\",\"symbol\":\"circle\"},\"mode\":\"markers\",\"name\":\"Japan\",\"orientation\":\"v\",\"showlegend\":true,\"type\":\"scatter\",\"x\":[28816.58499],\"xaxis\":\"x13\",\"y\":[80.69],\"yaxis\":\"y13\"},{\"hovertemplate\":\"country=Japan<br>continent=Asia<br>year=2002<br>gdpPercap=%{x}<br>lifeExp=%{y}<extra></extra>\",\"legendgroup\":\"Japan\",\"marker\":{\"color\":\"rgb(218,139,195)\",\"symbol\":\"circle\"},\"mode\":\"markers\",\"name\":\"Japan\",\"orientation\":\"v\",\"showlegend\":false,\"type\":\"scatter\",\"x\":[28604.5919],\"xaxis\":\"x14\",\"y\":[82.0],\"yaxis\":\"y14\"},{\"hovertemplate\":\"country=Japan<br>continent=Asia<br>year=2007<br>gdpPercap=%{x}<br>lifeExp=%{y}<extra></extra>\",\"legendgroup\":\"Japan\",\"marker\":{\"color\":\"rgb(218,139,195)\",\"symbol\":\"circle\"},\"mode\":\"markers\",\"name\":\"Japan\",\"orientation\":\"v\",\"showlegend\":false,\"type\":\"scatter\",\"x\":[31656.06806],\"xaxis\":\"x15\",\"y\":[82.603],\"yaxis\":\"y15\"},{\"hovertemplate\":\"country=Jordan<br>continent=Asia<br>year=1997<br>gdpPercap=%{x}<br>lifeExp=%{y}<extra></extra>\",\"legendgroup\":\"Jordan\",\"marker\":{\"color\":\"rgb(140,140,140)\",\"symbol\":\"circle\"},\"mode\":\"markers\",\"name\":\"Jordan\",\"orientation\":\"v\",\"showlegend\":true,\"type\":\"scatter\",\"x\":[3645.379572],\"xaxis\":\"x13\",\"y\":[69.77199999999999],\"yaxis\":\"y13\"},{\"hovertemplate\":\"country=Jordan<br>continent=Asia<br>year=2002<br>gdpPercap=%{x}<br>lifeExp=%{y}<extra></extra>\",\"legendgroup\":\"Jordan\",\"marker\":{\"color\":\"rgb(140,140,140)\",\"symbol\":\"circle\"},\"mode\":\"markers\",\"name\":\"Jordan\",\"orientation\":\"v\",\"showlegend\":false,\"type\":\"scatter\",\"x\":[3844.9171939999997],\"xaxis\":\"x14\",\"y\":[71.263],\"yaxis\":\"y14\"},{\"hovertemplate\":\"country=Jordan<br>continent=Asia<br>year=2007<br>gdpPercap=%{x}<br>lifeExp=%{y}<extra></extra>\",\"legendgroup\":\"Jordan\",\"marker\":{\"color\":\"rgb(140,140,140)\",\"symbol\":\"circle\"},\"mode\":\"markers\",\"name\":\"Jordan\",\"orientation\":\"v\",\"showlegend\":false,\"type\":\"scatter\",\"x\":[4519.461171],\"xaxis\":\"x15\",\"y\":[72.535],\"yaxis\":\"y15\"},{\"hovertemplate\":\"country=Kenya<br>continent=Africa<br>year=1997<br>gdpPercap=%{x}<br>lifeExp=%{y}<extra></extra>\",\"legendgroup\":\"Kenya\",\"marker\":{\"color\":\"rgb(204,185,116)\",\"symbol\":\"circle\"},\"mode\":\"markers\",\"name\":\"Kenya\",\"orientation\":\"v\",\"showlegend\":true,\"type\":\"scatter\",\"x\":[1360.4850210000004],\"xaxis\":\"x7\",\"y\":[54.407],\"yaxis\":\"y7\"},{\"hovertemplate\":\"country=Kenya<br>continent=Africa<br>year=2002<br>gdpPercap=%{x}<br>lifeExp=%{y}<extra></extra>\",\"legendgroup\":\"Kenya\",\"marker\":{\"color\":\"rgb(204,185,116)\",\"symbol\":\"circle\"},\"mode\":\"markers\",\"name\":\"Kenya\",\"orientation\":\"v\",\"showlegend\":false,\"type\":\"scatter\",\"x\":[1287.514732],\"xaxis\":\"x8\",\"y\":[50.992],\"yaxis\":\"y8\"},{\"hovertemplate\":\"country=Kenya<br>continent=Africa<br>year=2007<br>gdpPercap=%{x}<br>lifeExp=%{y}<extra></extra>\",\"legendgroup\":\"Kenya\",\"marker\":{\"color\":\"rgb(204,185,116)\",\"symbol\":\"circle\"},\"mode\":\"markers\",\"name\":\"Kenya\",\"orientation\":\"v\",\"showlegend\":false,\"type\":\"scatter\",\"x\":[1463.249282],\"xaxis\":\"x9\",\"y\":[54.11],\"yaxis\":\"y9\"},{\"hovertemplate\":\"country=Korea, Dem. Rep.<br>continent=Asia<br>year=1997<br>gdpPercap=%{x}<br>lifeExp=%{y}<extra></extra>\",\"legendgroup\":\"Korea, Dem. Rep.\",\"marker\":{\"color\":\"rgb(100,181,205)\",\"symbol\":\"circle\"},\"mode\":\"markers\",\"name\":\"Korea, Dem. Rep.\",\"orientation\":\"v\",\"showlegend\":true,\"type\":\"scatter\",\"x\":[1690.756814],\"xaxis\":\"x13\",\"y\":[67.727],\"yaxis\":\"y13\"},{\"hovertemplate\":\"country=Korea, Dem. Rep.<br>continent=Asia<br>year=2002<br>gdpPercap=%{x}<br>lifeExp=%{y}<extra></extra>\",\"legendgroup\":\"Korea, Dem. Rep.\",\"marker\":{\"color\":\"rgb(100,181,205)\",\"symbol\":\"circle\"},\"mode\":\"markers\",\"name\":\"Korea, Dem. Rep.\",\"orientation\":\"v\",\"showlegend\":false,\"type\":\"scatter\",\"x\":[1646.758151],\"xaxis\":\"x14\",\"y\":[66.66199999999999],\"yaxis\":\"y14\"},{\"hovertemplate\":\"country=Korea, Dem. Rep.<br>continent=Asia<br>year=2007<br>gdpPercap=%{x}<br>lifeExp=%{y}<extra></extra>\",\"legendgroup\":\"Korea, Dem. Rep.\",\"marker\":{\"color\":\"rgb(100,181,205)\",\"symbol\":\"circle\"},\"mode\":\"markers\",\"name\":\"Korea, Dem. Rep.\",\"orientation\":\"v\",\"showlegend\":false,\"type\":\"scatter\",\"x\":[1593.06548],\"xaxis\":\"x15\",\"y\":[67.297],\"yaxis\":\"y15\"},{\"hovertemplate\":\"country=Korea, Rep.<br>continent=Asia<br>year=1997<br>gdpPercap=%{x}<br>lifeExp=%{y}<extra></extra>\",\"legendgroup\":\"Korea, Rep.\",\"marker\":{\"color\":\"rgb(76,114,176)\",\"symbol\":\"circle\"},\"mode\":\"markers\",\"name\":\"Korea, Rep.\",\"orientation\":\"v\",\"showlegend\":true,\"type\":\"scatter\",\"x\":[15993.52796],\"xaxis\":\"x13\",\"y\":[74.64699999999998],\"yaxis\":\"y13\"},{\"hovertemplate\":\"country=Korea, Rep.<br>continent=Asia<br>year=2002<br>gdpPercap=%{x}<br>lifeExp=%{y}<extra></extra>\",\"legendgroup\":\"Korea, Rep.\",\"marker\":{\"color\":\"rgb(76,114,176)\",\"symbol\":\"circle\"},\"mode\":\"markers\",\"name\":\"Korea, Rep.\",\"orientation\":\"v\",\"showlegend\":false,\"type\":\"scatter\",\"x\":[19233.98818],\"xaxis\":\"x14\",\"y\":[77.045],\"yaxis\":\"y14\"},{\"hovertemplate\":\"country=Korea, Rep.<br>continent=Asia<br>year=2007<br>gdpPercap=%{x}<br>lifeExp=%{y}<extra></extra>\",\"legendgroup\":\"Korea, Rep.\",\"marker\":{\"color\":\"rgb(76,114,176)\",\"symbol\":\"circle\"},\"mode\":\"markers\",\"name\":\"Korea, Rep.\",\"orientation\":\"v\",\"showlegend\":false,\"type\":\"scatter\",\"x\":[23348.13973000001],\"xaxis\":\"x15\",\"y\":[78.623],\"yaxis\":\"y15\"},{\"hovertemplate\":\"country=Kuwait<br>continent=Asia<br>year=1997<br>gdpPercap=%{x}<br>lifeExp=%{y}<extra></extra>\",\"legendgroup\":\"Kuwait\",\"marker\":{\"color\":\"rgb(221,132,82)\",\"symbol\":\"circle\"},\"mode\":\"markers\",\"name\":\"Kuwait\",\"orientation\":\"v\",\"showlegend\":true,\"type\":\"scatter\",\"x\":[40300.61996],\"xaxis\":\"x13\",\"y\":[76.156],\"yaxis\":\"y13\"},{\"hovertemplate\":\"country=Kuwait<br>continent=Asia<br>year=2002<br>gdpPercap=%{x}<br>lifeExp=%{y}<extra></extra>\",\"legendgroup\":\"Kuwait\",\"marker\":{\"color\":\"rgb(221,132,82)\",\"symbol\":\"circle\"},\"mode\":\"markers\",\"name\":\"Kuwait\",\"orientation\":\"v\",\"showlegend\":false,\"type\":\"scatter\",\"x\":[35110.10566],\"xaxis\":\"x14\",\"y\":[76.904],\"yaxis\":\"y14\"},{\"hovertemplate\":\"country=Kuwait<br>continent=Asia<br>year=2007<br>gdpPercap=%{x}<br>lifeExp=%{y}<extra></extra>\",\"legendgroup\":\"Kuwait\",\"marker\":{\"color\":\"rgb(221,132,82)\",\"symbol\":\"circle\"},\"mode\":\"markers\",\"name\":\"Kuwait\",\"orientation\":\"v\",\"showlegend\":false,\"type\":\"scatter\",\"x\":[47306.98978],\"xaxis\":\"x15\",\"y\":[77.58800000000002],\"yaxis\":\"y15\"},{\"hovertemplate\":\"country=Lebanon<br>continent=Asia<br>year=1997<br>gdpPercap=%{x}<br>lifeExp=%{y}<extra></extra>\",\"legendgroup\":\"Lebanon\",\"marker\":{\"color\":\"rgb(85,168,104)\",\"symbol\":\"circle\"},\"mode\":\"markers\",\"name\":\"Lebanon\",\"orientation\":\"v\",\"showlegend\":true,\"type\":\"scatter\",\"x\":[8754.96385],\"xaxis\":\"x13\",\"y\":[70.265],\"yaxis\":\"y13\"},{\"hovertemplate\":\"country=Lebanon<br>continent=Asia<br>year=2002<br>gdpPercap=%{x}<br>lifeExp=%{y}<extra></extra>\",\"legendgroup\":\"Lebanon\",\"marker\":{\"color\":\"rgb(85,168,104)\",\"symbol\":\"circle\"},\"mode\":\"markers\",\"name\":\"Lebanon\",\"orientation\":\"v\",\"showlegend\":false,\"type\":\"scatter\",\"x\":[9313.93883],\"xaxis\":\"x14\",\"y\":[71.028],\"yaxis\":\"y14\"},{\"hovertemplate\":\"country=Lebanon<br>continent=Asia<br>year=2007<br>gdpPercap=%{x}<br>lifeExp=%{y}<extra></extra>\",\"legendgroup\":\"Lebanon\",\"marker\":{\"color\":\"rgb(85,168,104)\",\"symbol\":\"circle\"},\"mode\":\"markers\",\"name\":\"Lebanon\",\"orientation\":\"v\",\"showlegend\":false,\"type\":\"scatter\",\"x\":[10461.05868],\"xaxis\":\"x15\",\"y\":[71.993],\"yaxis\":\"y15\"},{\"hovertemplate\":\"country=Lesotho<br>continent=Africa<br>year=1997<br>gdpPercap=%{x}<br>lifeExp=%{y}<extra></extra>\",\"legendgroup\":\"Lesotho\",\"marker\":{\"color\":\"rgb(196,78,82)\",\"symbol\":\"circle\"},\"mode\":\"markers\",\"name\":\"Lesotho\",\"orientation\":\"v\",\"showlegend\":true,\"type\":\"scatter\",\"x\":[1186.147994],\"xaxis\":\"x7\",\"y\":[55.558],\"yaxis\":\"y7\"},{\"hovertemplate\":\"country=Lesotho<br>continent=Africa<br>year=2002<br>gdpPercap=%{x}<br>lifeExp=%{y}<extra></extra>\",\"legendgroup\":\"Lesotho\",\"marker\":{\"color\":\"rgb(196,78,82)\",\"symbol\":\"circle\"},\"mode\":\"markers\",\"name\":\"Lesotho\",\"orientation\":\"v\",\"showlegend\":false,\"type\":\"scatter\",\"x\":[1275.184575],\"xaxis\":\"x8\",\"y\":[44.593],\"yaxis\":\"y8\"},{\"hovertemplate\":\"country=Lesotho<br>continent=Africa<br>year=2007<br>gdpPercap=%{x}<br>lifeExp=%{y}<extra></extra>\",\"legendgroup\":\"Lesotho\",\"marker\":{\"color\":\"rgb(196,78,82)\",\"symbol\":\"circle\"},\"mode\":\"markers\",\"name\":\"Lesotho\",\"orientation\":\"v\",\"showlegend\":false,\"type\":\"scatter\",\"x\":[1569.331442],\"xaxis\":\"x9\",\"y\":[42.592],\"yaxis\":\"y9\"},{\"hovertemplate\":\"country=Liberia<br>continent=Africa<br>year=1997<br>gdpPercap=%{x}<br>lifeExp=%{y}<extra></extra>\",\"legendgroup\":\"Liberia\",\"marker\":{\"color\":\"rgb(129,114,179)\",\"symbol\":\"circle\"},\"mode\":\"markers\",\"name\":\"Liberia\",\"orientation\":\"v\",\"showlegend\":true,\"type\":\"scatter\",\"x\":[609.1739508],\"xaxis\":\"x7\",\"y\":[42.221000000000004],\"yaxis\":\"y7\"},{\"hovertemplate\":\"country=Liberia<br>continent=Africa<br>year=2002<br>gdpPercap=%{x}<br>lifeExp=%{y}<extra></extra>\",\"legendgroup\":\"Liberia\",\"marker\":{\"color\":\"rgb(129,114,179)\",\"symbol\":\"circle\"},\"mode\":\"markers\",\"name\":\"Liberia\",\"orientation\":\"v\",\"showlegend\":false,\"type\":\"scatter\",\"x\":[531.4823679],\"xaxis\":\"x8\",\"y\":[43.753],\"yaxis\":\"y8\"},{\"hovertemplate\":\"country=Liberia<br>continent=Africa<br>year=2007<br>gdpPercap=%{x}<br>lifeExp=%{y}<extra></extra>\",\"legendgroup\":\"Liberia\",\"marker\":{\"color\":\"rgb(129,114,179)\",\"symbol\":\"circle\"},\"mode\":\"markers\",\"name\":\"Liberia\",\"orientation\":\"v\",\"showlegend\":false,\"type\":\"scatter\",\"x\":[414.5073415],\"xaxis\":\"x9\",\"y\":[45.678000000000004],\"yaxis\":\"y9\"},{\"hovertemplate\":\"country=Libya<br>continent=Africa<br>year=1997<br>gdpPercap=%{x}<br>lifeExp=%{y}<extra></extra>\",\"legendgroup\":\"Libya\",\"marker\":{\"color\":\"rgb(147,120,96)\",\"symbol\":\"circle\"},\"mode\":\"markers\",\"name\":\"Libya\",\"orientation\":\"v\",\"showlegend\":true,\"type\":\"scatter\",\"x\":[9467.446056],\"xaxis\":\"x7\",\"y\":[71.555],\"yaxis\":\"y7\"},{\"hovertemplate\":\"country=Libya<br>continent=Africa<br>year=2002<br>gdpPercap=%{x}<br>lifeExp=%{y}<extra></extra>\",\"legendgroup\":\"Libya\",\"marker\":{\"color\":\"rgb(147,120,96)\",\"symbol\":\"circle\"},\"mode\":\"markers\",\"name\":\"Libya\",\"orientation\":\"v\",\"showlegend\":false,\"type\":\"scatter\",\"x\":[9534.677467],\"xaxis\":\"x8\",\"y\":[72.737],\"yaxis\":\"y8\"},{\"hovertemplate\":\"country=Libya<br>continent=Africa<br>year=2007<br>gdpPercap=%{x}<br>lifeExp=%{y}<extra></extra>\",\"legendgroup\":\"Libya\",\"marker\":{\"color\":\"rgb(147,120,96)\",\"symbol\":\"circle\"},\"mode\":\"markers\",\"name\":\"Libya\",\"orientation\":\"v\",\"showlegend\":false,\"type\":\"scatter\",\"x\":[12057.49928],\"xaxis\":\"x9\",\"y\":[73.952],\"yaxis\":\"y9\"},{\"hovertemplate\":\"country=Madagascar<br>continent=Africa<br>year=1997<br>gdpPercap=%{x}<br>lifeExp=%{y}<extra></extra>\",\"legendgroup\":\"Madagascar\",\"marker\":{\"color\":\"rgb(218,139,195)\",\"symbol\":\"circle\"},\"mode\":\"markers\",\"name\":\"Madagascar\",\"orientation\":\"v\",\"showlegend\":true,\"type\":\"scatter\",\"x\":[986.2958956],\"xaxis\":\"x7\",\"y\":[54.978],\"yaxis\":\"y7\"},{\"hovertemplate\":\"country=Madagascar<br>continent=Africa<br>year=2002<br>gdpPercap=%{x}<br>lifeExp=%{y}<extra></extra>\",\"legendgroup\":\"Madagascar\",\"marker\":{\"color\":\"rgb(218,139,195)\",\"symbol\":\"circle\"},\"mode\":\"markers\",\"name\":\"Madagascar\",\"orientation\":\"v\",\"showlegend\":false,\"type\":\"scatter\",\"x\":[894.6370822],\"xaxis\":\"x8\",\"y\":[57.286],\"yaxis\":\"y8\"},{\"hovertemplate\":\"country=Madagascar<br>continent=Africa<br>year=2007<br>gdpPercap=%{x}<br>lifeExp=%{y}<extra></extra>\",\"legendgroup\":\"Madagascar\",\"marker\":{\"color\":\"rgb(218,139,195)\",\"symbol\":\"circle\"},\"mode\":\"markers\",\"name\":\"Madagascar\",\"orientation\":\"v\",\"showlegend\":false,\"type\":\"scatter\",\"x\":[1044.770126],\"xaxis\":\"x9\",\"y\":[59.44300000000001],\"yaxis\":\"y9\"},{\"hovertemplate\":\"country=Malawi<br>continent=Africa<br>year=1997<br>gdpPercap=%{x}<br>lifeExp=%{y}<extra></extra>\",\"legendgroup\":\"Malawi\",\"marker\":{\"color\":\"rgb(140,140,140)\",\"symbol\":\"circle\"},\"mode\":\"markers\",\"name\":\"Malawi\",\"orientation\":\"v\",\"showlegend\":true,\"type\":\"scatter\",\"x\":[692.2758102999999],\"xaxis\":\"x7\",\"y\":[47.495],\"yaxis\":\"y7\"},{\"hovertemplate\":\"country=Malawi<br>continent=Africa<br>year=2002<br>gdpPercap=%{x}<br>lifeExp=%{y}<extra></extra>\",\"legendgroup\":\"Malawi\",\"marker\":{\"color\":\"rgb(140,140,140)\",\"symbol\":\"circle\"},\"mode\":\"markers\",\"name\":\"Malawi\",\"orientation\":\"v\",\"showlegend\":false,\"type\":\"scatter\",\"x\":[665.4231186000002],\"xaxis\":\"x8\",\"y\":[45.00899999999999],\"yaxis\":\"y8\"},{\"hovertemplate\":\"country=Malawi<br>continent=Africa<br>year=2007<br>gdpPercap=%{x}<br>lifeExp=%{y}<extra></extra>\",\"legendgroup\":\"Malawi\",\"marker\":{\"color\":\"rgb(140,140,140)\",\"symbol\":\"circle\"},\"mode\":\"markers\",\"name\":\"Malawi\",\"orientation\":\"v\",\"showlegend\":false,\"type\":\"scatter\",\"x\":[759.3499101],\"xaxis\":\"x9\",\"y\":[48.303000000000004],\"yaxis\":\"y9\"},{\"hovertemplate\":\"country=Malaysia<br>continent=Asia<br>year=1997<br>gdpPercap=%{x}<br>lifeExp=%{y}<extra></extra>\",\"legendgroup\":\"Malaysia\",\"marker\":{\"color\":\"rgb(204,185,116)\",\"symbol\":\"circle\"},\"mode\":\"markers\",\"name\":\"Malaysia\",\"orientation\":\"v\",\"showlegend\":true,\"type\":\"scatter\",\"x\":[10132.90964],\"xaxis\":\"x13\",\"y\":[71.938],\"yaxis\":\"y13\"},{\"hovertemplate\":\"country=Malaysia<br>continent=Asia<br>year=2002<br>gdpPercap=%{x}<br>lifeExp=%{y}<extra></extra>\",\"legendgroup\":\"Malaysia\",\"marker\":{\"color\":\"rgb(204,185,116)\",\"symbol\":\"circle\"},\"mode\":\"markers\",\"name\":\"Malaysia\",\"orientation\":\"v\",\"showlegend\":false,\"type\":\"scatter\",\"x\":[10206.97794],\"xaxis\":\"x14\",\"y\":[73.044],\"yaxis\":\"y14\"},{\"hovertemplate\":\"country=Malaysia<br>continent=Asia<br>year=2007<br>gdpPercap=%{x}<br>lifeExp=%{y}<extra></extra>\",\"legendgroup\":\"Malaysia\",\"marker\":{\"color\":\"rgb(204,185,116)\",\"symbol\":\"circle\"},\"mode\":\"markers\",\"name\":\"Malaysia\",\"orientation\":\"v\",\"showlegend\":false,\"type\":\"scatter\",\"x\":[12451.6558],\"xaxis\":\"x15\",\"y\":[74.241],\"yaxis\":\"y15\"},{\"hovertemplate\":\"country=Mali<br>continent=Africa<br>year=1997<br>gdpPercap=%{x}<br>lifeExp=%{y}<extra></extra>\",\"legendgroup\":\"Mali\",\"marker\":{\"color\":\"rgb(100,181,205)\",\"symbol\":\"circle\"},\"mode\":\"markers\",\"name\":\"Mali\",\"orientation\":\"v\",\"showlegend\":true,\"type\":\"scatter\",\"x\":[790.2579846],\"xaxis\":\"x7\",\"y\":[49.903],\"yaxis\":\"y7\"},{\"hovertemplate\":\"country=Mali<br>continent=Africa<br>year=2002<br>gdpPercap=%{x}<br>lifeExp=%{y}<extra></extra>\",\"legendgroup\":\"Mali\",\"marker\":{\"color\":\"rgb(100,181,205)\",\"symbol\":\"circle\"},\"mode\":\"markers\",\"name\":\"Mali\",\"orientation\":\"v\",\"showlegend\":false,\"type\":\"scatter\",\"x\":[951.4097517999999],\"xaxis\":\"x8\",\"y\":[51.81800000000001],\"yaxis\":\"y8\"},{\"hovertemplate\":\"country=Mali<br>continent=Africa<br>year=2007<br>gdpPercap=%{x}<br>lifeExp=%{y}<extra></extra>\",\"legendgroup\":\"Mali\",\"marker\":{\"color\":\"rgb(100,181,205)\",\"symbol\":\"circle\"},\"mode\":\"markers\",\"name\":\"Mali\",\"orientation\":\"v\",\"showlegend\":false,\"type\":\"scatter\",\"x\":[1042.581557],\"xaxis\":\"x9\",\"y\":[54.467],\"yaxis\":\"y9\"},{\"hovertemplate\":\"country=Mauritania<br>continent=Africa<br>year=1997<br>gdpPercap=%{x}<br>lifeExp=%{y}<extra></extra>\",\"legendgroup\":\"Mauritania\",\"marker\":{\"color\":\"rgb(76,114,176)\",\"symbol\":\"circle\"},\"mode\":\"markers\",\"name\":\"Mauritania\",\"orientation\":\"v\",\"showlegend\":true,\"type\":\"scatter\",\"x\":[1483.1361359999999],\"xaxis\":\"x7\",\"y\":[60.43],\"yaxis\":\"y7\"},{\"hovertemplate\":\"country=Mauritania<br>continent=Africa<br>year=2002<br>gdpPercap=%{x}<br>lifeExp=%{y}<extra></extra>\",\"legendgroup\":\"Mauritania\",\"marker\":{\"color\":\"rgb(76,114,176)\",\"symbol\":\"circle\"},\"mode\":\"markers\",\"name\":\"Mauritania\",\"orientation\":\"v\",\"showlegend\":false,\"type\":\"scatter\",\"x\":[1579.0195429999999],\"xaxis\":\"x8\",\"y\":[62.247],\"yaxis\":\"y8\"},{\"hovertemplate\":\"country=Mauritania<br>continent=Africa<br>year=2007<br>gdpPercap=%{x}<br>lifeExp=%{y}<extra></extra>\",\"legendgroup\":\"Mauritania\",\"marker\":{\"color\":\"rgb(76,114,176)\",\"symbol\":\"circle\"},\"mode\":\"markers\",\"name\":\"Mauritania\",\"orientation\":\"v\",\"showlegend\":false,\"type\":\"scatter\",\"x\":[1803.1514960000002],\"xaxis\":\"x9\",\"y\":[64.164],\"yaxis\":\"y9\"},{\"hovertemplate\":\"country=Mauritius<br>continent=Africa<br>year=1997<br>gdpPercap=%{x}<br>lifeExp=%{y}<extra></extra>\",\"legendgroup\":\"Mauritius\",\"marker\":{\"color\":\"rgb(221,132,82)\",\"symbol\":\"circle\"},\"mode\":\"markers\",\"name\":\"Mauritius\",\"orientation\":\"v\",\"showlegend\":true,\"type\":\"scatter\",\"x\":[7425.7052950000025],\"xaxis\":\"x7\",\"y\":[70.736],\"yaxis\":\"y7\"},{\"hovertemplate\":\"country=Mauritius<br>continent=Africa<br>year=2002<br>gdpPercap=%{x}<br>lifeExp=%{y}<extra></extra>\",\"legendgroup\":\"Mauritius\",\"marker\":{\"color\":\"rgb(221,132,82)\",\"symbol\":\"circle\"},\"mode\":\"markers\",\"name\":\"Mauritius\",\"orientation\":\"v\",\"showlegend\":false,\"type\":\"scatter\",\"x\":[9021.815894],\"xaxis\":\"x8\",\"y\":[71.954],\"yaxis\":\"y8\"},{\"hovertemplate\":\"country=Mauritius<br>continent=Africa<br>year=2007<br>gdpPercap=%{x}<br>lifeExp=%{y}<extra></extra>\",\"legendgroup\":\"Mauritius\",\"marker\":{\"color\":\"rgb(221,132,82)\",\"symbol\":\"circle\"},\"mode\":\"markers\",\"name\":\"Mauritius\",\"orientation\":\"v\",\"showlegend\":false,\"type\":\"scatter\",\"x\":[10956.99112],\"xaxis\":\"x9\",\"y\":[72.801],\"yaxis\":\"y9\"},{\"hovertemplate\":\"country=Mexico<br>continent=Americas<br>year=1997<br>gdpPercap=%{x}<br>lifeExp=%{y}<extra></extra>\",\"legendgroup\":\"Mexico\",\"marker\":{\"color\":\"rgb(85,168,104)\",\"symbol\":\"circle\"},\"mode\":\"markers\",\"name\":\"Mexico\",\"orientation\":\"v\",\"showlegend\":true,\"type\":\"scatter\",\"x\":[9767.29753],\"xaxis\":\"x4\",\"y\":[73.67],\"yaxis\":\"y4\"},{\"hovertemplate\":\"country=Mexico<br>continent=Americas<br>year=2002<br>gdpPercap=%{x}<br>lifeExp=%{y}<extra></extra>\",\"legendgroup\":\"Mexico\",\"marker\":{\"color\":\"rgb(85,168,104)\",\"symbol\":\"circle\"},\"mode\":\"markers\",\"name\":\"Mexico\",\"orientation\":\"v\",\"showlegend\":false,\"type\":\"scatter\",\"x\":[10742.44053],\"xaxis\":\"x5\",\"y\":[74.902],\"yaxis\":\"y5\"},{\"hovertemplate\":\"country=Mexico<br>continent=Americas<br>year=2007<br>gdpPercap=%{x}<br>lifeExp=%{y}<extra></extra>\",\"legendgroup\":\"Mexico\",\"marker\":{\"color\":\"rgb(85,168,104)\",\"symbol\":\"circle\"},\"mode\":\"markers\",\"name\":\"Mexico\",\"orientation\":\"v\",\"showlegend\":false,\"type\":\"scatter\",\"x\":[11977.57496],\"xaxis\":\"x6\",\"y\":[76.195],\"yaxis\":\"y6\"},{\"hovertemplate\":\"country=Mongolia<br>continent=Asia<br>year=1997<br>gdpPercap=%{x}<br>lifeExp=%{y}<extra></extra>\",\"legendgroup\":\"Mongolia\",\"marker\":{\"color\":\"rgb(196,78,82)\",\"symbol\":\"circle\"},\"mode\":\"markers\",\"name\":\"Mongolia\",\"orientation\":\"v\",\"showlegend\":true,\"type\":\"scatter\",\"x\":[1902.2521],\"xaxis\":\"x13\",\"y\":[63.625],\"yaxis\":\"y13\"},{\"hovertemplate\":\"country=Mongolia<br>continent=Asia<br>year=2002<br>gdpPercap=%{x}<br>lifeExp=%{y}<extra></extra>\",\"legendgroup\":\"Mongolia\",\"marker\":{\"color\":\"rgb(196,78,82)\",\"symbol\":\"circle\"},\"mode\":\"markers\",\"name\":\"Mongolia\",\"orientation\":\"v\",\"showlegend\":false,\"type\":\"scatter\",\"x\":[2140.7393230000002],\"xaxis\":\"x14\",\"y\":[65.033],\"yaxis\":\"y14\"},{\"hovertemplate\":\"country=Mongolia<br>continent=Asia<br>year=2007<br>gdpPercap=%{x}<br>lifeExp=%{y}<extra></extra>\",\"legendgroup\":\"Mongolia\",\"marker\":{\"color\":\"rgb(196,78,82)\",\"symbol\":\"circle\"},\"mode\":\"markers\",\"name\":\"Mongolia\",\"orientation\":\"v\",\"showlegend\":false,\"type\":\"scatter\",\"x\":[3095.772271000001],\"xaxis\":\"x15\",\"y\":[66.803],\"yaxis\":\"y15\"},{\"hovertemplate\":\"country=Montenegro<br>continent=Europe<br>year=1997<br>gdpPercap=%{x}<br>lifeExp=%{y}<extra></extra>\",\"legendgroup\":\"Montenegro\",\"marker\":{\"color\":\"rgb(129,114,179)\",\"symbol\":\"circle\"},\"mode\":\"markers\",\"name\":\"Montenegro\",\"orientation\":\"v\",\"showlegend\":true,\"type\":\"scatter\",\"x\":[6465.613349],\"xaxis\":\"x10\",\"y\":[75.445],\"yaxis\":\"y10\"},{\"hovertemplate\":\"country=Montenegro<br>continent=Europe<br>year=2002<br>gdpPercap=%{x}<br>lifeExp=%{y}<extra></extra>\",\"legendgroup\":\"Montenegro\",\"marker\":{\"color\":\"rgb(129,114,179)\",\"symbol\":\"circle\"},\"mode\":\"markers\",\"name\":\"Montenegro\",\"orientation\":\"v\",\"showlegend\":false,\"type\":\"scatter\",\"x\":[6557.194282],\"xaxis\":\"x11\",\"y\":[73.98100000000002],\"yaxis\":\"y11\"},{\"hovertemplate\":\"country=Montenegro<br>continent=Europe<br>year=2007<br>gdpPercap=%{x}<br>lifeExp=%{y}<extra></extra>\",\"legendgroup\":\"Montenegro\",\"marker\":{\"color\":\"rgb(129,114,179)\",\"symbol\":\"circle\"},\"mode\":\"markers\",\"name\":\"Montenegro\",\"orientation\":\"v\",\"showlegend\":false,\"type\":\"scatter\",\"x\":[9253.896111],\"xaxis\":\"x12\",\"y\":[74.543],\"yaxis\":\"y12\"},{\"hovertemplate\":\"country=Morocco<br>continent=Africa<br>year=1997<br>gdpPercap=%{x}<br>lifeExp=%{y}<extra></extra>\",\"legendgroup\":\"Morocco\",\"marker\":{\"color\":\"rgb(147,120,96)\",\"symbol\":\"circle\"},\"mode\":\"markers\",\"name\":\"Morocco\",\"orientation\":\"v\",\"showlegend\":true,\"type\":\"scatter\",\"x\":[2982.101858],\"xaxis\":\"x7\",\"y\":[67.66],\"yaxis\":\"y7\"},{\"hovertemplate\":\"country=Morocco<br>continent=Africa<br>year=2002<br>gdpPercap=%{x}<br>lifeExp=%{y}<extra></extra>\",\"legendgroup\":\"Morocco\",\"marker\":{\"color\":\"rgb(147,120,96)\",\"symbol\":\"circle\"},\"mode\":\"markers\",\"name\":\"Morocco\",\"orientation\":\"v\",\"showlegend\":false,\"type\":\"scatter\",\"x\":[3258.495584],\"xaxis\":\"x8\",\"y\":[69.615],\"yaxis\":\"y8\"},{\"hovertemplate\":\"country=Morocco<br>continent=Africa<br>year=2007<br>gdpPercap=%{x}<br>lifeExp=%{y}<extra></extra>\",\"legendgroup\":\"Morocco\",\"marker\":{\"color\":\"rgb(147,120,96)\",\"symbol\":\"circle\"},\"mode\":\"markers\",\"name\":\"Morocco\",\"orientation\":\"v\",\"showlegend\":false,\"type\":\"scatter\",\"x\":[3820.17523],\"xaxis\":\"x9\",\"y\":[71.164],\"yaxis\":\"y9\"},{\"hovertemplate\":\"country=Mozambique<br>continent=Africa<br>year=1997<br>gdpPercap=%{x}<br>lifeExp=%{y}<extra></extra>\",\"legendgroup\":\"Mozambique\",\"marker\":{\"color\":\"rgb(218,139,195)\",\"symbol\":\"circle\"},\"mode\":\"markers\",\"name\":\"Mozambique\",\"orientation\":\"v\",\"showlegend\":true,\"type\":\"scatter\",\"x\":[472.34607710000006],\"xaxis\":\"x7\",\"y\":[46.343999999999994],\"yaxis\":\"y7\"},{\"hovertemplate\":\"country=Mozambique<br>continent=Africa<br>year=2002<br>gdpPercap=%{x}<br>lifeExp=%{y}<extra></extra>\",\"legendgroup\":\"Mozambique\",\"marker\":{\"color\":\"rgb(218,139,195)\",\"symbol\":\"circle\"},\"mode\":\"markers\",\"name\":\"Mozambique\",\"orientation\":\"v\",\"showlegend\":false,\"type\":\"scatter\",\"x\":[633.6179466],\"xaxis\":\"x8\",\"y\":[44.026],\"yaxis\":\"y8\"},{\"hovertemplate\":\"country=Mozambique<br>continent=Africa<br>year=2007<br>gdpPercap=%{x}<br>lifeExp=%{y}<extra></extra>\",\"legendgroup\":\"Mozambique\",\"marker\":{\"color\":\"rgb(218,139,195)\",\"symbol\":\"circle\"},\"mode\":\"markers\",\"name\":\"Mozambique\",\"orientation\":\"v\",\"showlegend\":false,\"type\":\"scatter\",\"x\":[823.6856205],\"xaxis\":\"x9\",\"y\":[42.082],\"yaxis\":\"y9\"},{\"hovertemplate\":\"country=Myanmar<br>continent=Asia<br>year=1997<br>gdpPercap=%{x}<br>lifeExp=%{y}<extra></extra>\",\"legendgroup\":\"Myanmar\",\"marker\":{\"color\":\"rgb(140,140,140)\",\"symbol\":\"circle\"},\"mode\":\"markers\",\"name\":\"Myanmar\",\"orientation\":\"v\",\"showlegend\":true,\"type\":\"scatter\",\"x\":[415.0],\"xaxis\":\"x13\",\"y\":[60.328],\"yaxis\":\"y13\"},{\"hovertemplate\":\"country=Myanmar<br>continent=Asia<br>year=2002<br>gdpPercap=%{x}<br>lifeExp=%{y}<extra></extra>\",\"legendgroup\":\"Myanmar\",\"marker\":{\"color\":\"rgb(140,140,140)\",\"symbol\":\"circle\"},\"mode\":\"markers\",\"name\":\"Myanmar\",\"orientation\":\"v\",\"showlegend\":false,\"type\":\"scatter\",\"x\":[611.0],\"xaxis\":\"x14\",\"y\":[59.908],\"yaxis\":\"y14\"},{\"hovertemplate\":\"country=Myanmar<br>continent=Asia<br>year=2007<br>gdpPercap=%{x}<br>lifeExp=%{y}<extra></extra>\",\"legendgroup\":\"Myanmar\",\"marker\":{\"color\":\"rgb(140,140,140)\",\"symbol\":\"circle\"},\"mode\":\"markers\",\"name\":\"Myanmar\",\"orientation\":\"v\",\"showlegend\":false,\"type\":\"scatter\",\"x\":[944.0],\"xaxis\":\"x15\",\"y\":[62.068999999999996],\"yaxis\":\"y15\"},{\"hovertemplate\":\"country=Namibia<br>continent=Africa<br>year=1997<br>gdpPercap=%{x}<br>lifeExp=%{y}<extra></extra>\",\"legendgroup\":\"Namibia\",\"marker\":{\"color\":\"rgb(204,185,116)\",\"symbol\":\"circle\"},\"mode\":\"markers\",\"name\":\"Namibia\",\"orientation\":\"v\",\"showlegend\":true,\"type\":\"scatter\",\"x\":[3899.52426],\"xaxis\":\"x7\",\"y\":[58.909],\"yaxis\":\"y7\"},{\"hovertemplate\":\"country=Namibia<br>continent=Africa<br>year=2002<br>gdpPercap=%{x}<br>lifeExp=%{y}<extra></extra>\",\"legendgroup\":\"Namibia\",\"marker\":{\"color\":\"rgb(204,185,116)\",\"symbol\":\"circle\"},\"mode\":\"markers\",\"name\":\"Namibia\",\"orientation\":\"v\",\"showlegend\":false,\"type\":\"scatter\",\"x\":[4072.3247509999997],\"xaxis\":\"x8\",\"y\":[51.479],\"yaxis\":\"y8\"},{\"hovertemplate\":\"country=Namibia<br>continent=Africa<br>year=2007<br>gdpPercap=%{x}<br>lifeExp=%{y}<extra></extra>\",\"legendgroup\":\"Namibia\",\"marker\":{\"color\":\"rgb(204,185,116)\",\"symbol\":\"circle\"},\"mode\":\"markers\",\"name\":\"Namibia\",\"orientation\":\"v\",\"showlegend\":false,\"type\":\"scatter\",\"x\":[4811.060429],\"xaxis\":\"x9\",\"y\":[52.90600000000001],\"yaxis\":\"y9\"},{\"hovertemplate\":\"country=Nepal<br>continent=Asia<br>year=1997<br>gdpPercap=%{x}<br>lifeExp=%{y}<extra></extra>\",\"legendgroup\":\"Nepal\",\"marker\":{\"color\":\"rgb(100,181,205)\",\"symbol\":\"circle\"},\"mode\":\"markers\",\"name\":\"Nepal\",\"orientation\":\"v\",\"showlegend\":true,\"type\":\"scatter\",\"x\":[1010.892138],\"xaxis\":\"x13\",\"y\":[59.426],\"yaxis\":\"y13\"},{\"hovertemplate\":\"country=Nepal<br>continent=Asia<br>year=2002<br>gdpPercap=%{x}<br>lifeExp=%{y}<extra></extra>\",\"legendgroup\":\"Nepal\",\"marker\":{\"color\":\"rgb(100,181,205)\",\"symbol\":\"circle\"},\"mode\":\"markers\",\"name\":\"Nepal\",\"orientation\":\"v\",\"showlegend\":false,\"type\":\"scatter\",\"x\":[1057.206311],\"xaxis\":\"x14\",\"y\":[61.34],\"yaxis\":\"y14\"},{\"hovertemplate\":\"country=Nepal<br>continent=Asia<br>year=2007<br>gdpPercap=%{x}<br>lifeExp=%{y}<extra></extra>\",\"legendgroup\":\"Nepal\",\"marker\":{\"color\":\"rgb(100,181,205)\",\"symbol\":\"circle\"},\"mode\":\"markers\",\"name\":\"Nepal\",\"orientation\":\"v\",\"showlegend\":false,\"type\":\"scatter\",\"x\":[1091.359778],\"xaxis\":\"x15\",\"y\":[63.785],\"yaxis\":\"y15\"},{\"hovertemplate\":\"country=Netherlands<br>continent=Europe<br>year=1997<br>gdpPercap=%{x}<br>lifeExp=%{y}<extra></extra>\",\"legendgroup\":\"Netherlands\",\"marker\":{\"color\":\"rgb(76,114,176)\",\"symbol\":\"circle\"},\"mode\":\"markers\",\"name\":\"Netherlands\",\"orientation\":\"v\",\"showlegend\":true,\"type\":\"scatter\",\"x\":[30246.13063],\"xaxis\":\"x10\",\"y\":[78.03],\"yaxis\":\"y10\"},{\"hovertemplate\":\"country=Netherlands<br>continent=Europe<br>year=2002<br>gdpPercap=%{x}<br>lifeExp=%{y}<extra></extra>\",\"legendgroup\":\"Netherlands\",\"marker\":{\"color\":\"rgb(76,114,176)\",\"symbol\":\"circle\"},\"mode\":\"markers\",\"name\":\"Netherlands\",\"orientation\":\"v\",\"showlegend\":false,\"type\":\"scatter\",\"x\":[33724.75778],\"xaxis\":\"x11\",\"y\":[78.53],\"yaxis\":\"y11\"},{\"hovertemplate\":\"country=Netherlands<br>continent=Europe<br>year=2007<br>gdpPercap=%{x}<br>lifeExp=%{y}<extra></extra>\",\"legendgroup\":\"Netherlands\",\"marker\":{\"color\":\"rgb(76,114,176)\",\"symbol\":\"circle\"},\"mode\":\"markers\",\"name\":\"Netherlands\",\"orientation\":\"v\",\"showlegend\":false,\"type\":\"scatter\",\"x\":[36797.93332],\"xaxis\":\"x12\",\"y\":[79.762],\"yaxis\":\"y12\"},{\"hovertemplate\":\"country=New Zealand<br>continent=Oceania<br>year=1997<br>gdpPercap=%{x}<br>lifeExp=%{y}<extra></extra>\",\"legendgroup\":\"New Zealand\",\"marker\":{\"color\":\"rgb(221,132,82)\",\"symbol\":\"circle\"},\"mode\":\"markers\",\"name\":\"New Zealand\",\"orientation\":\"v\",\"showlegend\":true,\"type\":\"scatter\",\"x\":[21050.41377],\"xaxis\":\"x\",\"y\":[77.55],\"yaxis\":\"y\"},{\"hovertemplate\":\"country=New Zealand<br>continent=Oceania<br>year=2002<br>gdpPercap=%{x}<br>lifeExp=%{y}<extra></extra>\",\"legendgroup\":\"New Zealand\",\"marker\":{\"color\":\"rgb(221,132,82)\",\"symbol\":\"circle\"},\"mode\":\"markers\",\"name\":\"New Zealand\",\"orientation\":\"v\",\"showlegend\":false,\"type\":\"scatter\",\"x\":[23189.80135],\"xaxis\":\"x2\",\"y\":[79.11],\"yaxis\":\"y2\"},{\"hovertemplate\":\"country=New Zealand<br>continent=Oceania<br>year=2007<br>gdpPercap=%{x}<br>lifeExp=%{y}<extra></extra>\",\"legendgroup\":\"New Zealand\",\"marker\":{\"color\":\"rgb(221,132,82)\",\"symbol\":\"circle\"},\"mode\":\"markers\",\"name\":\"New Zealand\",\"orientation\":\"v\",\"showlegend\":false,\"type\":\"scatter\",\"x\":[25185.00911],\"xaxis\":\"x3\",\"y\":[80.204],\"yaxis\":\"y3\"},{\"hovertemplate\":\"country=Nicaragua<br>continent=Americas<br>year=1997<br>gdpPercap=%{x}<br>lifeExp=%{y}<extra></extra>\",\"legendgroup\":\"Nicaragua\",\"marker\":{\"color\":\"rgb(85,168,104)\",\"symbol\":\"circle\"},\"mode\":\"markers\",\"name\":\"Nicaragua\",\"orientation\":\"v\",\"showlegend\":true,\"type\":\"scatter\",\"x\":[2253.023004],\"xaxis\":\"x4\",\"y\":[68.426],\"yaxis\":\"y4\"},{\"hovertemplate\":\"country=Nicaragua<br>continent=Americas<br>year=2002<br>gdpPercap=%{x}<br>lifeExp=%{y}<extra></extra>\",\"legendgroup\":\"Nicaragua\",\"marker\":{\"color\":\"rgb(85,168,104)\",\"symbol\":\"circle\"},\"mode\":\"markers\",\"name\":\"Nicaragua\",\"orientation\":\"v\",\"showlegend\":false,\"type\":\"scatter\",\"x\":[2474.548819],\"xaxis\":\"x5\",\"y\":[70.836],\"yaxis\":\"y5\"},{\"hovertemplate\":\"country=Nicaragua<br>continent=Americas<br>year=2007<br>gdpPercap=%{x}<br>lifeExp=%{y}<extra></extra>\",\"legendgroup\":\"Nicaragua\",\"marker\":{\"color\":\"rgb(85,168,104)\",\"symbol\":\"circle\"},\"mode\":\"markers\",\"name\":\"Nicaragua\",\"orientation\":\"v\",\"showlegend\":false,\"type\":\"scatter\",\"x\":[2749.320965],\"xaxis\":\"x6\",\"y\":[72.899],\"yaxis\":\"y6\"},{\"hovertemplate\":\"country=Niger<br>continent=Africa<br>year=1997<br>gdpPercap=%{x}<br>lifeExp=%{y}<extra></extra>\",\"legendgroup\":\"Niger\",\"marker\":{\"color\":\"rgb(196,78,82)\",\"symbol\":\"circle\"},\"mode\":\"markers\",\"name\":\"Niger\",\"orientation\":\"v\",\"showlegend\":true,\"type\":\"scatter\",\"x\":[580.3052092],\"xaxis\":\"x7\",\"y\":[51.313],\"yaxis\":\"y7\"},{\"hovertemplate\":\"country=Niger<br>continent=Africa<br>year=2002<br>gdpPercap=%{x}<br>lifeExp=%{y}<extra></extra>\",\"legendgroup\":\"Niger\",\"marker\":{\"color\":\"rgb(196,78,82)\",\"symbol\":\"circle\"},\"mode\":\"markers\",\"name\":\"Niger\",\"orientation\":\"v\",\"showlegend\":false,\"type\":\"scatter\",\"x\":[601.0745012],\"xaxis\":\"x8\",\"y\":[54.496],\"yaxis\":\"y8\"},{\"hovertemplate\":\"country=Niger<br>continent=Africa<br>year=2007<br>gdpPercap=%{x}<br>lifeExp=%{y}<extra></extra>\",\"legendgroup\":\"Niger\",\"marker\":{\"color\":\"rgb(196,78,82)\",\"symbol\":\"circle\"},\"mode\":\"markers\",\"name\":\"Niger\",\"orientation\":\"v\",\"showlegend\":false,\"type\":\"scatter\",\"x\":[619.6768923999998],\"xaxis\":\"x9\",\"y\":[56.867],\"yaxis\":\"y9\"},{\"hovertemplate\":\"country=Nigeria<br>continent=Africa<br>year=1997<br>gdpPercap=%{x}<br>lifeExp=%{y}<extra></extra>\",\"legendgroup\":\"Nigeria\",\"marker\":{\"color\":\"rgb(129,114,179)\",\"symbol\":\"circle\"},\"mode\":\"markers\",\"name\":\"Nigeria\",\"orientation\":\"v\",\"showlegend\":true,\"type\":\"scatter\",\"x\":[1624.941275],\"xaxis\":\"x7\",\"y\":[47.464],\"yaxis\":\"y7\"},{\"hovertemplate\":\"country=Nigeria<br>continent=Africa<br>year=2002<br>gdpPercap=%{x}<br>lifeExp=%{y}<extra></extra>\",\"legendgroup\":\"Nigeria\",\"marker\":{\"color\":\"rgb(129,114,179)\",\"symbol\":\"circle\"},\"mode\":\"markers\",\"name\":\"Nigeria\",\"orientation\":\"v\",\"showlegend\":false,\"type\":\"scatter\",\"x\":[1615.2863949999999],\"xaxis\":\"x8\",\"y\":[46.608000000000004],\"yaxis\":\"y8\"},{\"hovertemplate\":\"country=Nigeria<br>continent=Africa<br>year=2007<br>gdpPercap=%{x}<br>lifeExp=%{y}<extra></extra>\",\"legendgroup\":\"Nigeria\",\"marker\":{\"color\":\"rgb(129,114,179)\",\"symbol\":\"circle\"},\"mode\":\"markers\",\"name\":\"Nigeria\",\"orientation\":\"v\",\"showlegend\":false,\"type\":\"scatter\",\"x\":[2013.9773050000001],\"xaxis\":\"x9\",\"y\":[46.858999999999995],\"yaxis\":\"y9\"},{\"hovertemplate\":\"country=Norway<br>continent=Europe<br>year=1997<br>gdpPercap=%{x}<br>lifeExp=%{y}<extra></extra>\",\"legendgroup\":\"Norway\",\"marker\":{\"color\":\"rgb(147,120,96)\",\"symbol\":\"circle\"},\"mode\":\"markers\",\"name\":\"Norway\",\"orientation\":\"v\",\"showlegend\":true,\"type\":\"scatter\",\"x\":[41283.16433],\"xaxis\":\"x10\",\"y\":[78.32],\"yaxis\":\"y10\"},{\"hovertemplate\":\"country=Norway<br>continent=Europe<br>year=2002<br>gdpPercap=%{x}<br>lifeExp=%{y}<extra></extra>\",\"legendgroup\":\"Norway\",\"marker\":{\"color\":\"rgb(147,120,96)\",\"symbol\":\"circle\"},\"mode\":\"markers\",\"name\":\"Norway\",\"orientation\":\"v\",\"showlegend\":false,\"type\":\"scatter\",\"x\":[44683.97525],\"xaxis\":\"x11\",\"y\":[79.05],\"yaxis\":\"y11\"},{\"hovertemplate\":\"country=Norway<br>continent=Europe<br>year=2007<br>gdpPercap=%{x}<br>lifeExp=%{y}<extra></extra>\",\"legendgroup\":\"Norway\",\"marker\":{\"color\":\"rgb(147,120,96)\",\"symbol\":\"circle\"},\"mode\":\"markers\",\"name\":\"Norway\",\"orientation\":\"v\",\"showlegend\":false,\"type\":\"scatter\",\"x\":[49357.19017],\"xaxis\":\"x12\",\"y\":[80.196],\"yaxis\":\"y12\"},{\"hovertemplate\":\"country=Oman<br>continent=Asia<br>year=1997<br>gdpPercap=%{x}<br>lifeExp=%{y}<extra></extra>\",\"legendgroup\":\"Oman\",\"marker\":{\"color\":\"rgb(218,139,195)\",\"symbol\":\"circle\"},\"mode\":\"markers\",\"name\":\"Oman\",\"orientation\":\"v\",\"showlegend\":true,\"type\":\"scatter\",\"x\":[19702.055809999998],\"xaxis\":\"x13\",\"y\":[72.499],\"yaxis\":\"y13\"},{\"hovertemplate\":\"country=Oman<br>continent=Asia<br>year=2002<br>gdpPercap=%{x}<br>lifeExp=%{y}<extra></extra>\",\"legendgroup\":\"Oman\",\"marker\":{\"color\":\"rgb(218,139,195)\",\"symbol\":\"circle\"},\"mode\":\"markers\",\"name\":\"Oman\",\"orientation\":\"v\",\"showlegend\":false,\"type\":\"scatter\",\"x\":[19774.83687],\"xaxis\":\"x14\",\"y\":[74.193],\"yaxis\":\"y14\"},{\"hovertemplate\":\"country=Oman<br>continent=Asia<br>year=2007<br>gdpPercap=%{x}<br>lifeExp=%{y}<extra></extra>\",\"legendgroup\":\"Oman\",\"marker\":{\"color\":\"rgb(218,139,195)\",\"symbol\":\"circle\"},\"mode\":\"markers\",\"name\":\"Oman\",\"orientation\":\"v\",\"showlegend\":false,\"type\":\"scatter\",\"x\":[22316.19287],\"xaxis\":\"x15\",\"y\":[75.64],\"yaxis\":\"y15\"},{\"hovertemplate\":\"country=Pakistan<br>continent=Asia<br>year=1997<br>gdpPercap=%{x}<br>lifeExp=%{y}<extra></extra>\",\"legendgroup\":\"Pakistan\",\"marker\":{\"color\":\"rgb(140,140,140)\",\"symbol\":\"circle\"},\"mode\":\"markers\",\"name\":\"Pakistan\",\"orientation\":\"v\",\"showlegend\":true,\"type\":\"scatter\",\"x\":[2049.3505210000008],\"xaxis\":\"x13\",\"y\":[61.81800000000001],\"yaxis\":\"y13\"},{\"hovertemplate\":\"country=Pakistan<br>continent=Asia<br>year=2002<br>gdpPercap=%{x}<br>lifeExp=%{y}<extra></extra>\",\"legendgroup\":\"Pakistan\",\"marker\":{\"color\":\"rgb(140,140,140)\",\"symbol\":\"circle\"},\"mode\":\"markers\",\"name\":\"Pakistan\",\"orientation\":\"v\",\"showlegend\":false,\"type\":\"scatter\",\"x\":[2092.712441],\"xaxis\":\"x14\",\"y\":[63.61],\"yaxis\":\"y14\"},{\"hovertemplate\":\"country=Pakistan<br>continent=Asia<br>year=2007<br>gdpPercap=%{x}<br>lifeExp=%{y}<extra></extra>\",\"legendgroup\":\"Pakistan\",\"marker\":{\"color\":\"rgb(140,140,140)\",\"symbol\":\"circle\"},\"mode\":\"markers\",\"name\":\"Pakistan\",\"orientation\":\"v\",\"showlegend\":false,\"type\":\"scatter\",\"x\":[2605.94758],\"xaxis\":\"x15\",\"y\":[65.483],\"yaxis\":\"y15\"},{\"hovertemplate\":\"country=Panama<br>continent=Americas<br>year=1997<br>gdpPercap=%{x}<br>lifeExp=%{y}<extra></extra>\",\"legendgroup\":\"Panama\",\"marker\":{\"color\":\"rgb(204,185,116)\",\"symbol\":\"circle\"},\"mode\":\"markers\",\"name\":\"Panama\",\"orientation\":\"v\",\"showlegend\":true,\"type\":\"scatter\",\"x\":[7113.692252],\"xaxis\":\"x4\",\"y\":[73.738],\"yaxis\":\"y4\"},{\"hovertemplate\":\"country=Panama<br>continent=Americas<br>year=2002<br>gdpPercap=%{x}<br>lifeExp=%{y}<extra></extra>\",\"legendgroup\":\"Panama\",\"marker\":{\"color\":\"rgb(204,185,116)\",\"symbol\":\"circle\"},\"mode\":\"markers\",\"name\":\"Panama\",\"orientation\":\"v\",\"showlegend\":false,\"type\":\"scatter\",\"x\":[7356.031934000002],\"xaxis\":\"x5\",\"y\":[74.712],\"yaxis\":\"y5\"},{\"hovertemplate\":\"country=Panama<br>continent=Americas<br>year=2007<br>gdpPercap=%{x}<br>lifeExp=%{y}<extra></extra>\",\"legendgroup\":\"Panama\",\"marker\":{\"color\":\"rgb(204,185,116)\",\"symbol\":\"circle\"},\"mode\":\"markers\",\"name\":\"Panama\",\"orientation\":\"v\",\"showlegend\":false,\"type\":\"scatter\",\"x\":[9809.185636],\"xaxis\":\"x6\",\"y\":[75.53699999999998],\"yaxis\":\"y6\"},{\"hovertemplate\":\"country=Paraguay<br>continent=Americas<br>year=1997<br>gdpPercap=%{x}<br>lifeExp=%{y}<extra></extra>\",\"legendgroup\":\"Paraguay\",\"marker\":{\"color\":\"rgb(100,181,205)\",\"symbol\":\"circle\"},\"mode\":\"markers\",\"name\":\"Paraguay\",\"orientation\":\"v\",\"showlegend\":true,\"type\":\"scatter\",\"x\":[4247.400261],\"xaxis\":\"x4\",\"y\":[69.4],\"yaxis\":\"y4\"},{\"hovertemplate\":\"country=Paraguay<br>continent=Americas<br>year=2002<br>gdpPercap=%{x}<br>lifeExp=%{y}<extra></extra>\",\"legendgroup\":\"Paraguay\",\"marker\":{\"color\":\"rgb(100,181,205)\",\"symbol\":\"circle\"},\"mode\":\"markers\",\"name\":\"Paraguay\",\"orientation\":\"v\",\"showlegend\":false,\"type\":\"scatter\",\"x\":[3783.674243],\"xaxis\":\"x5\",\"y\":[70.755],\"yaxis\":\"y5\"},{\"hovertemplate\":\"country=Paraguay<br>continent=Americas<br>year=2007<br>gdpPercap=%{x}<br>lifeExp=%{y}<extra></extra>\",\"legendgroup\":\"Paraguay\",\"marker\":{\"color\":\"rgb(100,181,205)\",\"symbol\":\"circle\"},\"mode\":\"markers\",\"name\":\"Paraguay\",\"orientation\":\"v\",\"showlegend\":false,\"type\":\"scatter\",\"x\":[4172.838464],\"xaxis\":\"x6\",\"y\":[71.752],\"yaxis\":\"y6\"},{\"hovertemplate\":\"country=Peru<br>continent=Americas<br>year=1997<br>gdpPercap=%{x}<br>lifeExp=%{y}<extra></extra>\",\"legendgroup\":\"Peru\",\"marker\":{\"color\":\"rgb(76,114,176)\",\"symbol\":\"circle\"},\"mode\":\"markers\",\"name\":\"Peru\",\"orientation\":\"v\",\"showlegend\":true,\"type\":\"scatter\",\"x\":[5838.347657],\"xaxis\":\"x4\",\"y\":[68.38600000000001],\"yaxis\":\"y4\"},{\"hovertemplate\":\"country=Peru<br>continent=Americas<br>year=2002<br>gdpPercap=%{x}<br>lifeExp=%{y}<extra></extra>\",\"legendgroup\":\"Peru\",\"marker\":{\"color\":\"rgb(76,114,176)\",\"symbol\":\"circle\"},\"mode\":\"markers\",\"name\":\"Peru\",\"orientation\":\"v\",\"showlegend\":false,\"type\":\"scatter\",\"x\":[5909.020073],\"xaxis\":\"x5\",\"y\":[69.906],\"yaxis\":\"y5\"},{\"hovertemplate\":\"country=Peru<br>continent=Americas<br>year=2007<br>gdpPercap=%{x}<br>lifeExp=%{y}<extra></extra>\",\"legendgroup\":\"Peru\",\"marker\":{\"color\":\"rgb(76,114,176)\",\"symbol\":\"circle\"},\"mode\":\"markers\",\"name\":\"Peru\",\"orientation\":\"v\",\"showlegend\":false,\"type\":\"scatter\",\"x\":[7408.905561],\"xaxis\":\"x6\",\"y\":[71.421],\"yaxis\":\"y6\"},{\"hovertemplate\":\"country=Philippines<br>continent=Asia<br>year=1997<br>gdpPercap=%{x}<br>lifeExp=%{y}<extra></extra>\",\"legendgroup\":\"Philippines\",\"marker\":{\"color\":\"rgb(221,132,82)\",\"symbol\":\"circle\"},\"mode\":\"markers\",\"name\":\"Philippines\",\"orientation\":\"v\",\"showlegend\":true,\"type\":\"scatter\",\"x\":[2536.534925],\"xaxis\":\"x13\",\"y\":[68.564],\"yaxis\":\"y13\"},{\"hovertemplate\":\"country=Philippines<br>continent=Asia<br>year=2002<br>gdpPercap=%{x}<br>lifeExp=%{y}<extra></extra>\",\"legendgroup\":\"Philippines\",\"marker\":{\"color\":\"rgb(221,132,82)\",\"symbol\":\"circle\"},\"mode\":\"markers\",\"name\":\"Philippines\",\"orientation\":\"v\",\"showlegend\":false,\"type\":\"scatter\",\"x\":[2650.921068],\"xaxis\":\"x14\",\"y\":[70.303],\"yaxis\":\"y14\"},{\"hovertemplate\":\"country=Philippines<br>continent=Asia<br>year=2007<br>gdpPercap=%{x}<br>lifeExp=%{y}<extra></extra>\",\"legendgroup\":\"Philippines\",\"marker\":{\"color\":\"rgb(221,132,82)\",\"symbol\":\"circle\"},\"mode\":\"markers\",\"name\":\"Philippines\",\"orientation\":\"v\",\"showlegend\":false,\"type\":\"scatter\",\"x\":[3190.481016],\"xaxis\":\"x15\",\"y\":[71.688],\"yaxis\":\"y15\"},{\"hovertemplate\":\"country=Poland<br>continent=Europe<br>year=1997<br>gdpPercap=%{x}<br>lifeExp=%{y}<extra></extra>\",\"legendgroup\":\"Poland\",\"marker\":{\"color\":\"rgb(85,168,104)\",\"symbol\":\"circle\"},\"mode\":\"markers\",\"name\":\"Poland\",\"orientation\":\"v\",\"showlegend\":true,\"type\":\"scatter\",\"x\":[10159.58368],\"xaxis\":\"x10\",\"y\":[72.75],\"yaxis\":\"y10\"},{\"hovertemplate\":\"country=Poland<br>continent=Europe<br>year=2002<br>gdpPercap=%{x}<br>lifeExp=%{y}<extra></extra>\",\"legendgroup\":\"Poland\",\"marker\":{\"color\":\"rgb(85,168,104)\",\"symbol\":\"circle\"},\"mode\":\"markers\",\"name\":\"Poland\",\"orientation\":\"v\",\"showlegend\":false,\"type\":\"scatter\",\"x\":[12002.23908],\"xaxis\":\"x11\",\"y\":[74.67],\"yaxis\":\"y11\"},{\"hovertemplate\":\"country=Poland<br>continent=Europe<br>year=2007<br>gdpPercap=%{x}<br>lifeExp=%{y}<extra></extra>\",\"legendgroup\":\"Poland\",\"marker\":{\"color\":\"rgb(85,168,104)\",\"symbol\":\"circle\"},\"mode\":\"markers\",\"name\":\"Poland\",\"orientation\":\"v\",\"showlegend\":false,\"type\":\"scatter\",\"x\":[15389.924680000002],\"xaxis\":\"x12\",\"y\":[75.563],\"yaxis\":\"y12\"},{\"hovertemplate\":\"country=Portugal<br>continent=Europe<br>year=1997<br>gdpPercap=%{x}<br>lifeExp=%{y}<extra></extra>\",\"legendgroup\":\"Portugal\",\"marker\":{\"color\":\"rgb(196,78,82)\",\"symbol\":\"circle\"},\"mode\":\"markers\",\"name\":\"Portugal\",\"orientation\":\"v\",\"showlegend\":true,\"type\":\"scatter\",\"x\":[17641.03156],\"xaxis\":\"x10\",\"y\":[75.97],\"yaxis\":\"y10\"},{\"hovertemplate\":\"country=Portugal<br>continent=Europe<br>year=2002<br>gdpPercap=%{x}<br>lifeExp=%{y}<extra></extra>\",\"legendgroup\":\"Portugal\",\"marker\":{\"color\":\"rgb(196,78,82)\",\"symbol\":\"circle\"},\"mode\":\"markers\",\"name\":\"Portugal\",\"orientation\":\"v\",\"showlegend\":false,\"type\":\"scatter\",\"x\":[19970.90787],\"xaxis\":\"x11\",\"y\":[77.29],\"yaxis\":\"y11\"},{\"hovertemplate\":\"country=Portugal<br>continent=Europe<br>year=2007<br>gdpPercap=%{x}<br>lifeExp=%{y}<extra></extra>\",\"legendgroup\":\"Portugal\",\"marker\":{\"color\":\"rgb(196,78,82)\",\"symbol\":\"circle\"},\"mode\":\"markers\",\"name\":\"Portugal\",\"orientation\":\"v\",\"showlegend\":false,\"type\":\"scatter\",\"x\":[20509.64777],\"xaxis\":\"x12\",\"y\":[78.098],\"yaxis\":\"y12\"},{\"hovertemplate\":\"country=Puerto Rico<br>continent=Americas<br>year=1997<br>gdpPercap=%{x}<br>lifeExp=%{y}<extra></extra>\",\"legendgroup\":\"Puerto Rico\",\"marker\":{\"color\":\"rgb(129,114,179)\",\"symbol\":\"circle\"},\"mode\":\"markers\",\"name\":\"Puerto Rico\",\"orientation\":\"v\",\"showlegend\":true,\"type\":\"scatter\",\"x\":[16999.4333],\"xaxis\":\"x4\",\"y\":[74.917],\"yaxis\":\"y4\"},{\"hovertemplate\":\"country=Puerto Rico<br>continent=Americas<br>year=2002<br>gdpPercap=%{x}<br>lifeExp=%{y}<extra></extra>\",\"legendgroup\":\"Puerto Rico\",\"marker\":{\"color\":\"rgb(129,114,179)\",\"symbol\":\"circle\"},\"mode\":\"markers\",\"name\":\"Puerto Rico\",\"orientation\":\"v\",\"showlegend\":false,\"type\":\"scatter\",\"x\":[18855.606180000002],\"xaxis\":\"x5\",\"y\":[77.778],\"yaxis\":\"y5\"},{\"hovertemplate\":\"country=Puerto Rico<br>continent=Americas<br>year=2007<br>gdpPercap=%{x}<br>lifeExp=%{y}<extra></extra>\",\"legendgroup\":\"Puerto Rico\",\"marker\":{\"color\":\"rgb(129,114,179)\",\"symbol\":\"circle\"},\"mode\":\"markers\",\"name\":\"Puerto Rico\",\"orientation\":\"v\",\"showlegend\":false,\"type\":\"scatter\",\"x\":[19328.70901],\"xaxis\":\"x6\",\"y\":[78.74600000000002],\"yaxis\":\"y6\"},{\"hovertemplate\":\"country=Reunion<br>continent=Africa<br>year=1997<br>gdpPercap=%{x}<br>lifeExp=%{y}<extra></extra>\",\"legendgroup\":\"Reunion\",\"marker\":{\"color\":\"rgb(147,120,96)\",\"symbol\":\"circle\"},\"mode\":\"markers\",\"name\":\"Reunion\",\"orientation\":\"v\",\"showlegend\":true,\"type\":\"scatter\",\"x\":[6071.941411],\"xaxis\":\"x7\",\"y\":[74.77199999999998],\"yaxis\":\"y7\"},{\"hovertemplate\":\"country=Reunion<br>continent=Africa<br>year=2002<br>gdpPercap=%{x}<br>lifeExp=%{y}<extra></extra>\",\"legendgroup\":\"Reunion\",\"marker\":{\"color\":\"rgb(147,120,96)\",\"symbol\":\"circle\"},\"mode\":\"markers\",\"name\":\"Reunion\",\"orientation\":\"v\",\"showlegend\":false,\"type\":\"scatter\",\"x\":[6316.1652],\"xaxis\":\"x8\",\"y\":[75.744],\"yaxis\":\"y8\"},{\"hovertemplate\":\"country=Reunion<br>continent=Africa<br>year=2007<br>gdpPercap=%{x}<br>lifeExp=%{y}<extra></extra>\",\"legendgroup\":\"Reunion\",\"marker\":{\"color\":\"rgb(147,120,96)\",\"symbol\":\"circle\"},\"mode\":\"markers\",\"name\":\"Reunion\",\"orientation\":\"v\",\"showlegend\":false,\"type\":\"scatter\",\"x\":[7670.122558],\"xaxis\":\"x9\",\"y\":[76.442],\"yaxis\":\"y9\"},{\"hovertemplate\":\"country=Romania<br>continent=Europe<br>year=1997<br>gdpPercap=%{x}<br>lifeExp=%{y}<extra></extra>\",\"legendgroup\":\"Romania\",\"marker\":{\"color\":\"rgb(218,139,195)\",\"symbol\":\"circle\"},\"mode\":\"markers\",\"name\":\"Romania\",\"orientation\":\"v\",\"showlegend\":true,\"type\":\"scatter\",\"x\":[7346.547556999999],\"xaxis\":\"x10\",\"y\":[69.72],\"yaxis\":\"y10\"},{\"hovertemplate\":\"country=Romania<br>continent=Europe<br>year=2002<br>gdpPercap=%{x}<br>lifeExp=%{y}<extra></extra>\",\"legendgroup\":\"Romania\",\"marker\":{\"color\":\"rgb(218,139,195)\",\"symbol\":\"circle\"},\"mode\":\"markers\",\"name\":\"Romania\",\"orientation\":\"v\",\"showlegend\":false,\"type\":\"scatter\",\"x\":[7885.360081],\"xaxis\":\"x11\",\"y\":[71.322],\"yaxis\":\"y11\"},{\"hovertemplate\":\"country=Romania<br>continent=Europe<br>year=2007<br>gdpPercap=%{x}<br>lifeExp=%{y}<extra></extra>\",\"legendgroup\":\"Romania\",\"marker\":{\"color\":\"rgb(218,139,195)\",\"symbol\":\"circle\"},\"mode\":\"markers\",\"name\":\"Romania\",\"orientation\":\"v\",\"showlegend\":false,\"type\":\"scatter\",\"x\":[10808.47561],\"xaxis\":\"x12\",\"y\":[72.476],\"yaxis\":\"y12\"},{\"hovertemplate\":\"country=Rwanda<br>continent=Africa<br>year=1997<br>gdpPercap=%{x}<br>lifeExp=%{y}<extra></extra>\",\"legendgroup\":\"Rwanda\",\"marker\":{\"color\":\"rgb(140,140,140)\",\"symbol\":\"circle\"},\"mode\":\"markers\",\"name\":\"Rwanda\",\"orientation\":\"v\",\"showlegend\":true,\"type\":\"scatter\",\"x\":[589.9445051],\"xaxis\":\"x7\",\"y\":[36.086999999999996],\"yaxis\":\"y7\"},{\"hovertemplate\":\"country=Rwanda<br>continent=Africa<br>year=2002<br>gdpPercap=%{x}<br>lifeExp=%{y}<extra></extra>\",\"legendgroup\":\"Rwanda\",\"marker\":{\"color\":\"rgb(140,140,140)\",\"symbol\":\"circle\"},\"mode\":\"markers\",\"name\":\"Rwanda\",\"orientation\":\"v\",\"showlegend\":false,\"type\":\"scatter\",\"x\":[785.6537647999999],\"xaxis\":\"x8\",\"y\":[43.413000000000004],\"yaxis\":\"y8\"},{\"hovertemplate\":\"country=Rwanda<br>continent=Africa<br>year=2007<br>gdpPercap=%{x}<br>lifeExp=%{y}<extra></extra>\",\"legendgroup\":\"Rwanda\",\"marker\":{\"color\":\"rgb(140,140,140)\",\"symbol\":\"circle\"},\"mode\":\"markers\",\"name\":\"Rwanda\",\"orientation\":\"v\",\"showlegend\":false,\"type\":\"scatter\",\"x\":[863.0884639000003],\"xaxis\":\"x9\",\"y\":[46.242],\"yaxis\":\"y9\"},{\"hovertemplate\":\"country=Sao Tome and Principe<br>continent=Africa<br>year=1997<br>gdpPercap=%{x}<br>lifeExp=%{y}<extra></extra>\",\"legendgroup\":\"Sao Tome and Principe\",\"marker\":{\"color\":\"rgb(204,185,116)\",\"symbol\":\"circle\"},\"mode\":\"markers\",\"name\":\"Sao Tome and Principe\",\"orientation\":\"v\",\"showlegend\":true,\"type\":\"scatter\",\"x\":[1339.076036],\"xaxis\":\"x7\",\"y\":[63.306000000000004],\"yaxis\":\"y7\"},{\"hovertemplate\":\"country=Sao Tome and Principe<br>continent=Africa<br>year=2002<br>gdpPercap=%{x}<br>lifeExp=%{y}<extra></extra>\",\"legendgroup\":\"Sao Tome and Principe\",\"marker\":{\"color\":\"rgb(204,185,116)\",\"symbol\":\"circle\"},\"mode\":\"markers\",\"name\":\"Sao Tome and Principe\",\"orientation\":\"v\",\"showlegend\":false,\"type\":\"scatter\",\"x\":[1353.09239],\"xaxis\":\"x8\",\"y\":[64.337],\"yaxis\":\"y8\"},{\"hovertemplate\":\"country=Sao Tome and Principe<br>continent=Africa<br>year=2007<br>gdpPercap=%{x}<br>lifeExp=%{y}<extra></extra>\",\"legendgroup\":\"Sao Tome and Principe\",\"marker\":{\"color\":\"rgb(204,185,116)\",\"symbol\":\"circle\"},\"mode\":\"markers\",\"name\":\"Sao Tome and Principe\",\"orientation\":\"v\",\"showlegend\":false,\"type\":\"scatter\",\"x\":[1598.435089],\"xaxis\":\"x9\",\"y\":[65.528],\"yaxis\":\"y9\"},{\"hovertemplate\":\"country=Saudi Arabia<br>continent=Asia<br>year=1997<br>gdpPercap=%{x}<br>lifeExp=%{y}<extra></extra>\",\"legendgroup\":\"Saudi Arabia\",\"marker\":{\"color\":\"rgb(100,181,205)\",\"symbol\":\"circle\"},\"mode\":\"markers\",\"name\":\"Saudi Arabia\",\"orientation\":\"v\",\"showlegend\":true,\"type\":\"scatter\",\"x\":[20586.69019],\"xaxis\":\"x13\",\"y\":[70.533],\"yaxis\":\"y13\"},{\"hovertemplate\":\"country=Saudi Arabia<br>continent=Asia<br>year=2002<br>gdpPercap=%{x}<br>lifeExp=%{y}<extra></extra>\",\"legendgroup\":\"Saudi Arabia\",\"marker\":{\"color\":\"rgb(100,181,205)\",\"symbol\":\"circle\"},\"mode\":\"markers\",\"name\":\"Saudi Arabia\",\"orientation\":\"v\",\"showlegend\":false,\"type\":\"scatter\",\"x\":[19014.54118],\"xaxis\":\"x14\",\"y\":[71.626],\"yaxis\":\"y14\"},{\"hovertemplate\":\"country=Saudi Arabia<br>continent=Asia<br>year=2007<br>gdpPercap=%{x}<br>lifeExp=%{y}<extra></extra>\",\"legendgroup\":\"Saudi Arabia\",\"marker\":{\"color\":\"rgb(100,181,205)\",\"symbol\":\"circle\"},\"mode\":\"markers\",\"name\":\"Saudi Arabia\",\"orientation\":\"v\",\"showlegend\":false,\"type\":\"scatter\",\"x\":[21654.83194],\"xaxis\":\"x15\",\"y\":[72.777],\"yaxis\":\"y15\"},{\"hovertemplate\":\"country=Senegal<br>continent=Africa<br>year=1997<br>gdpPercap=%{x}<br>lifeExp=%{y}<extra></extra>\",\"legendgroup\":\"Senegal\",\"marker\":{\"color\":\"rgb(76,114,176)\",\"symbol\":\"circle\"},\"mode\":\"markers\",\"name\":\"Senegal\",\"orientation\":\"v\",\"showlegend\":true,\"type\":\"scatter\",\"x\":[1392.368347],\"xaxis\":\"x7\",\"y\":[60.187],\"yaxis\":\"y7\"},{\"hovertemplate\":\"country=Senegal<br>continent=Africa<br>year=2002<br>gdpPercap=%{x}<br>lifeExp=%{y}<extra></extra>\",\"legendgroup\":\"Senegal\",\"marker\":{\"color\":\"rgb(76,114,176)\",\"symbol\":\"circle\"},\"mode\":\"markers\",\"name\":\"Senegal\",\"orientation\":\"v\",\"showlegend\":false,\"type\":\"scatter\",\"x\":[1519.635262],\"xaxis\":\"x8\",\"y\":[61.6],\"yaxis\":\"y8\"},{\"hovertemplate\":\"country=Senegal<br>continent=Africa<br>year=2007<br>gdpPercap=%{x}<br>lifeExp=%{y}<extra></extra>\",\"legendgroup\":\"Senegal\",\"marker\":{\"color\":\"rgb(76,114,176)\",\"symbol\":\"circle\"},\"mode\":\"markers\",\"name\":\"Senegal\",\"orientation\":\"v\",\"showlegend\":false,\"type\":\"scatter\",\"x\":[1712.4721359999999],\"xaxis\":\"x9\",\"y\":[63.062],\"yaxis\":\"y9\"},{\"hovertemplate\":\"country=Serbia<br>continent=Europe<br>year=1997<br>gdpPercap=%{x}<br>lifeExp=%{y}<extra></extra>\",\"legendgroup\":\"Serbia\",\"marker\":{\"color\":\"rgb(221,132,82)\",\"symbol\":\"circle\"},\"mode\":\"markers\",\"name\":\"Serbia\",\"orientation\":\"v\",\"showlegend\":true,\"type\":\"scatter\",\"x\":[7914.320304000003],\"xaxis\":\"x10\",\"y\":[72.232],\"yaxis\":\"y10\"},{\"hovertemplate\":\"country=Serbia<br>continent=Europe<br>year=2002<br>gdpPercap=%{x}<br>lifeExp=%{y}<extra></extra>\",\"legendgroup\":\"Serbia\",\"marker\":{\"color\":\"rgb(221,132,82)\",\"symbol\":\"circle\"},\"mode\":\"markers\",\"name\":\"Serbia\",\"orientation\":\"v\",\"showlegend\":false,\"type\":\"scatter\",\"x\":[7236.075251],\"xaxis\":\"x11\",\"y\":[73.21300000000002],\"yaxis\":\"y11\"},{\"hovertemplate\":\"country=Serbia<br>continent=Europe<br>year=2007<br>gdpPercap=%{x}<br>lifeExp=%{y}<extra></extra>\",\"legendgroup\":\"Serbia\",\"marker\":{\"color\":\"rgb(221,132,82)\",\"symbol\":\"circle\"},\"mode\":\"markers\",\"name\":\"Serbia\",\"orientation\":\"v\",\"showlegend\":false,\"type\":\"scatter\",\"x\":[9786.534714],\"xaxis\":\"x12\",\"y\":[74.002],\"yaxis\":\"y12\"},{\"hovertemplate\":\"country=Sierra Leone<br>continent=Africa<br>year=1997<br>gdpPercap=%{x}<br>lifeExp=%{y}<extra></extra>\",\"legendgroup\":\"Sierra Leone\",\"marker\":{\"color\":\"rgb(85,168,104)\",\"symbol\":\"circle\"},\"mode\":\"markers\",\"name\":\"Sierra Leone\",\"orientation\":\"v\",\"showlegend\":true,\"type\":\"scatter\",\"x\":[574.6481576],\"xaxis\":\"x7\",\"y\":[39.897],\"yaxis\":\"y7\"},{\"hovertemplate\":\"country=Sierra Leone<br>continent=Africa<br>year=2002<br>gdpPercap=%{x}<br>lifeExp=%{y}<extra></extra>\",\"legendgroup\":\"Sierra Leone\",\"marker\":{\"color\":\"rgb(85,168,104)\",\"symbol\":\"circle\"},\"mode\":\"markers\",\"name\":\"Sierra Leone\",\"orientation\":\"v\",\"showlegend\":false,\"type\":\"scatter\",\"x\":[699.4897129999997],\"xaxis\":\"x8\",\"y\":[41.012],\"yaxis\":\"y8\"},{\"hovertemplate\":\"country=Sierra Leone<br>continent=Africa<br>year=2007<br>gdpPercap=%{x}<br>lifeExp=%{y}<extra></extra>\",\"legendgroup\":\"Sierra Leone\",\"marker\":{\"color\":\"rgb(85,168,104)\",\"symbol\":\"circle\"},\"mode\":\"markers\",\"name\":\"Sierra Leone\",\"orientation\":\"v\",\"showlegend\":false,\"type\":\"scatter\",\"x\":[862.5407561000003],\"xaxis\":\"x9\",\"y\":[42.56800000000001],\"yaxis\":\"y9\"},{\"hovertemplate\":\"country=Singapore<br>continent=Asia<br>year=1997<br>gdpPercap=%{x}<br>lifeExp=%{y}<extra></extra>\",\"legendgroup\":\"Singapore\",\"marker\":{\"color\":\"rgb(196,78,82)\",\"symbol\":\"circle\"},\"mode\":\"markers\",\"name\":\"Singapore\",\"orientation\":\"v\",\"showlegend\":true,\"type\":\"scatter\",\"x\":[33519.4766],\"xaxis\":\"x13\",\"y\":[77.158],\"yaxis\":\"y13\"},{\"hovertemplate\":\"country=Singapore<br>continent=Asia<br>year=2002<br>gdpPercap=%{x}<br>lifeExp=%{y}<extra></extra>\",\"legendgroup\":\"Singapore\",\"marker\":{\"color\":\"rgb(196,78,82)\",\"symbol\":\"circle\"},\"mode\":\"markers\",\"name\":\"Singapore\",\"orientation\":\"v\",\"showlegend\":false,\"type\":\"scatter\",\"x\":[36023.1054],\"xaxis\":\"x14\",\"y\":[78.77],\"yaxis\":\"y14\"},{\"hovertemplate\":\"country=Singapore<br>continent=Asia<br>year=2007<br>gdpPercap=%{x}<br>lifeExp=%{y}<extra></extra>\",\"legendgroup\":\"Singapore\",\"marker\":{\"color\":\"rgb(196,78,82)\",\"symbol\":\"circle\"},\"mode\":\"markers\",\"name\":\"Singapore\",\"orientation\":\"v\",\"showlegend\":false,\"type\":\"scatter\",\"x\":[47143.179639999995],\"xaxis\":\"x15\",\"y\":[79.972],\"yaxis\":\"y15\"},{\"hovertemplate\":\"country=Slovak Republic<br>continent=Europe<br>year=1997<br>gdpPercap=%{x}<br>lifeExp=%{y}<extra></extra>\",\"legendgroup\":\"Slovak Republic\",\"marker\":{\"color\":\"rgb(129,114,179)\",\"symbol\":\"circle\"},\"mode\":\"markers\",\"name\":\"Slovak Republic\",\"orientation\":\"v\",\"showlegend\":true,\"type\":\"scatter\",\"x\":[12126.23065],\"xaxis\":\"x10\",\"y\":[72.71],\"yaxis\":\"y10\"},{\"hovertemplate\":\"country=Slovak Republic<br>continent=Europe<br>year=2002<br>gdpPercap=%{x}<br>lifeExp=%{y}<extra></extra>\",\"legendgroup\":\"Slovak Republic\",\"marker\":{\"color\":\"rgb(129,114,179)\",\"symbol\":\"circle\"},\"mode\":\"markers\",\"name\":\"Slovak Republic\",\"orientation\":\"v\",\"showlegend\":false,\"type\":\"scatter\",\"x\":[13638.778369999998],\"xaxis\":\"x11\",\"y\":[73.8],\"yaxis\":\"y11\"},{\"hovertemplate\":\"country=Slovak Republic<br>continent=Europe<br>year=2007<br>gdpPercap=%{x}<br>lifeExp=%{y}<extra></extra>\",\"legendgroup\":\"Slovak Republic\",\"marker\":{\"color\":\"rgb(129,114,179)\",\"symbol\":\"circle\"},\"mode\":\"markers\",\"name\":\"Slovak Republic\",\"orientation\":\"v\",\"showlegend\":false,\"type\":\"scatter\",\"x\":[18678.31435],\"xaxis\":\"x12\",\"y\":[74.663],\"yaxis\":\"y12\"},{\"hovertemplate\":\"country=Slovenia<br>continent=Europe<br>year=1997<br>gdpPercap=%{x}<br>lifeExp=%{y}<extra></extra>\",\"legendgroup\":\"Slovenia\",\"marker\":{\"color\":\"rgb(147,120,96)\",\"symbol\":\"circle\"},\"mode\":\"markers\",\"name\":\"Slovenia\",\"orientation\":\"v\",\"showlegend\":true,\"type\":\"scatter\",\"x\":[17161.10735],\"xaxis\":\"x10\",\"y\":[75.13],\"yaxis\":\"y10\"},{\"hovertemplate\":\"country=Slovenia<br>continent=Europe<br>year=2002<br>gdpPercap=%{x}<br>lifeExp=%{y}<extra></extra>\",\"legendgroup\":\"Slovenia\",\"marker\":{\"color\":\"rgb(147,120,96)\",\"symbol\":\"circle\"},\"mode\":\"markers\",\"name\":\"Slovenia\",\"orientation\":\"v\",\"showlegend\":false,\"type\":\"scatter\",\"x\":[20660.01936],\"xaxis\":\"x11\",\"y\":[76.66],\"yaxis\":\"y11\"},{\"hovertemplate\":\"country=Slovenia<br>continent=Europe<br>year=2007<br>gdpPercap=%{x}<br>lifeExp=%{y}<extra></extra>\",\"legendgroup\":\"Slovenia\",\"marker\":{\"color\":\"rgb(147,120,96)\",\"symbol\":\"circle\"},\"mode\":\"markers\",\"name\":\"Slovenia\",\"orientation\":\"v\",\"showlegend\":false,\"type\":\"scatter\",\"x\":[25768.25759],\"xaxis\":\"x12\",\"y\":[77.926],\"yaxis\":\"y12\"},{\"hovertemplate\":\"country=Somalia<br>continent=Africa<br>year=1997<br>gdpPercap=%{x}<br>lifeExp=%{y}<extra></extra>\",\"legendgroup\":\"Somalia\",\"marker\":{\"color\":\"rgb(218,139,195)\",\"symbol\":\"circle\"},\"mode\":\"markers\",\"name\":\"Somalia\",\"orientation\":\"v\",\"showlegend\":true,\"type\":\"scatter\",\"x\":[930.5964284],\"xaxis\":\"x7\",\"y\":[43.795],\"yaxis\":\"y7\"},{\"hovertemplate\":\"country=Somalia<br>continent=Africa<br>year=2002<br>gdpPercap=%{x}<br>lifeExp=%{y}<extra></extra>\",\"legendgroup\":\"Somalia\",\"marker\":{\"color\":\"rgb(218,139,195)\",\"symbol\":\"circle\"},\"mode\":\"markers\",\"name\":\"Somalia\",\"orientation\":\"v\",\"showlegend\":false,\"type\":\"scatter\",\"x\":[882.0818218000003],\"xaxis\":\"x8\",\"y\":[45.93600000000001],\"yaxis\":\"y8\"},{\"hovertemplate\":\"country=Somalia<br>continent=Africa<br>year=2007<br>gdpPercap=%{x}<br>lifeExp=%{y}<extra></extra>\",\"legendgroup\":\"Somalia\",\"marker\":{\"color\":\"rgb(218,139,195)\",\"symbol\":\"circle\"},\"mode\":\"markers\",\"name\":\"Somalia\",\"orientation\":\"v\",\"showlegend\":false,\"type\":\"scatter\",\"x\":[926.1410683],\"xaxis\":\"x9\",\"y\":[48.159],\"yaxis\":\"y9\"},{\"hovertemplate\":\"country=South Africa<br>continent=Africa<br>year=1997<br>gdpPercap=%{x}<br>lifeExp=%{y}<extra></extra>\",\"legendgroup\":\"South Africa\",\"marker\":{\"color\":\"rgb(140,140,140)\",\"symbol\":\"circle\"},\"mode\":\"markers\",\"name\":\"South Africa\",\"orientation\":\"v\",\"showlegend\":true,\"type\":\"scatter\",\"x\":[7479.188244],\"xaxis\":\"x7\",\"y\":[60.236000000000004],\"yaxis\":\"y7\"},{\"hovertemplate\":\"country=South Africa<br>continent=Africa<br>year=2002<br>gdpPercap=%{x}<br>lifeExp=%{y}<extra></extra>\",\"legendgroup\":\"South Africa\",\"marker\":{\"color\":\"rgb(140,140,140)\",\"symbol\":\"circle\"},\"mode\":\"markers\",\"name\":\"South Africa\",\"orientation\":\"v\",\"showlegend\":false,\"type\":\"scatter\",\"x\":[7710.946444],\"xaxis\":\"x8\",\"y\":[53.365],\"yaxis\":\"y8\"},{\"hovertemplate\":\"country=South Africa<br>continent=Africa<br>year=2007<br>gdpPercap=%{x}<br>lifeExp=%{y}<extra></extra>\",\"legendgroup\":\"South Africa\",\"marker\":{\"color\":\"rgb(140,140,140)\",\"symbol\":\"circle\"},\"mode\":\"markers\",\"name\":\"South Africa\",\"orientation\":\"v\",\"showlegend\":false,\"type\":\"scatter\",\"x\":[9269.657808],\"xaxis\":\"x9\",\"y\":[49.339],\"yaxis\":\"y9\"},{\"hovertemplate\":\"country=Spain<br>continent=Europe<br>year=1997<br>gdpPercap=%{x}<br>lifeExp=%{y}<extra></extra>\",\"legendgroup\":\"Spain\",\"marker\":{\"color\":\"rgb(204,185,116)\",\"symbol\":\"circle\"},\"mode\":\"markers\",\"name\":\"Spain\",\"orientation\":\"v\",\"showlegend\":true,\"type\":\"scatter\",\"x\":[20445.29896],\"xaxis\":\"x10\",\"y\":[78.77],\"yaxis\":\"y10\"},{\"hovertemplate\":\"country=Spain<br>continent=Europe<br>year=2002<br>gdpPercap=%{x}<br>lifeExp=%{y}<extra></extra>\",\"legendgroup\":\"Spain\",\"marker\":{\"color\":\"rgb(204,185,116)\",\"symbol\":\"circle\"},\"mode\":\"markers\",\"name\":\"Spain\",\"orientation\":\"v\",\"showlegend\":false,\"type\":\"scatter\",\"x\":[24835.47166],\"xaxis\":\"x11\",\"y\":[79.78],\"yaxis\":\"y11\"},{\"hovertemplate\":\"country=Spain<br>continent=Europe<br>year=2007<br>gdpPercap=%{x}<br>lifeExp=%{y}<extra></extra>\",\"legendgroup\":\"Spain\",\"marker\":{\"color\":\"rgb(204,185,116)\",\"symbol\":\"circle\"},\"mode\":\"markers\",\"name\":\"Spain\",\"orientation\":\"v\",\"showlegend\":false,\"type\":\"scatter\",\"x\":[28821.0637],\"xaxis\":\"x12\",\"y\":[80.941],\"yaxis\":\"y12\"},{\"hovertemplate\":\"country=Sri Lanka<br>continent=Asia<br>year=1997<br>gdpPercap=%{x}<br>lifeExp=%{y}<extra></extra>\",\"legendgroup\":\"Sri Lanka\",\"marker\":{\"color\":\"rgb(100,181,205)\",\"symbol\":\"circle\"},\"mode\":\"markers\",\"name\":\"Sri Lanka\",\"orientation\":\"v\",\"showlegend\":true,\"type\":\"scatter\",\"x\":[2664.477257],\"xaxis\":\"x13\",\"y\":[70.457],\"yaxis\":\"y13\"},{\"hovertemplate\":\"country=Sri Lanka<br>continent=Asia<br>year=2002<br>gdpPercap=%{x}<br>lifeExp=%{y}<extra></extra>\",\"legendgroup\":\"Sri Lanka\",\"marker\":{\"color\":\"rgb(100,181,205)\",\"symbol\":\"circle\"},\"mode\":\"markers\",\"name\":\"Sri Lanka\",\"orientation\":\"v\",\"showlegend\":false,\"type\":\"scatter\",\"x\":[3015.3788329999998],\"xaxis\":\"x14\",\"y\":[70.815],\"yaxis\":\"y14\"},{\"hovertemplate\":\"country=Sri Lanka<br>continent=Asia<br>year=2007<br>gdpPercap=%{x}<br>lifeExp=%{y}<extra></extra>\",\"legendgroup\":\"Sri Lanka\",\"marker\":{\"color\":\"rgb(100,181,205)\",\"symbol\":\"circle\"},\"mode\":\"markers\",\"name\":\"Sri Lanka\",\"orientation\":\"v\",\"showlegend\":false,\"type\":\"scatter\",\"x\":[3970.0954070000003],\"xaxis\":\"x15\",\"y\":[72.396],\"yaxis\":\"y15\"},{\"hovertemplate\":\"country=Sudan<br>continent=Africa<br>year=1997<br>gdpPercap=%{x}<br>lifeExp=%{y}<extra></extra>\",\"legendgroup\":\"Sudan\",\"marker\":{\"color\":\"rgb(76,114,176)\",\"symbol\":\"circle\"},\"mode\":\"markers\",\"name\":\"Sudan\",\"orientation\":\"v\",\"showlegend\":true,\"type\":\"scatter\",\"x\":[1632.2107640000006],\"xaxis\":\"x7\",\"y\":[55.37300000000001],\"yaxis\":\"y7\"},{\"hovertemplate\":\"country=Sudan<br>continent=Africa<br>year=2002<br>gdpPercap=%{x}<br>lifeExp=%{y}<extra></extra>\",\"legendgroup\":\"Sudan\",\"marker\":{\"color\":\"rgb(76,114,176)\",\"symbol\":\"circle\"},\"mode\":\"markers\",\"name\":\"Sudan\",\"orientation\":\"v\",\"showlegend\":false,\"type\":\"scatter\",\"x\":[1993.398314],\"xaxis\":\"x8\",\"y\":[56.369],\"yaxis\":\"y8\"},{\"hovertemplate\":\"country=Sudan<br>continent=Africa<br>year=2007<br>gdpPercap=%{x}<br>lifeExp=%{y}<extra></extra>\",\"legendgroup\":\"Sudan\",\"marker\":{\"color\":\"rgb(76,114,176)\",\"symbol\":\"circle\"},\"mode\":\"markers\",\"name\":\"Sudan\",\"orientation\":\"v\",\"showlegend\":false,\"type\":\"scatter\",\"x\":[2602.394995],\"xaxis\":\"x9\",\"y\":[58.556000000000004],\"yaxis\":\"y9\"},{\"hovertemplate\":\"country=Swaziland<br>continent=Africa<br>year=1997<br>gdpPercap=%{x}<br>lifeExp=%{y}<extra></extra>\",\"legendgroup\":\"Swaziland\",\"marker\":{\"color\":\"rgb(221,132,82)\",\"symbol\":\"circle\"},\"mode\":\"markers\",\"name\":\"Swaziland\",\"orientation\":\"v\",\"showlegend\":true,\"type\":\"scatter\",\"x\":[3876.7684600000002],\"xaxis\":\"x7\",\"y\":[54.288999999999994],\"yaxis\":\"y7\"},{\"hovertemplate\":\"country=Swaziland<br>continent=Africa<br>year=2002<br>gdpPercap=%{x}<br>lifeExp=%{y}<extra></extra>\",\"legendgroup\":\"Swaziland\",\"marker\":{\"color\":\"rgb(221,132,82)\",\"symbol\":\"circle\"},\"mode\":\"markers\",\"name\":\"Swaziland\",\"orientation\":\"v\",\"showlegend\":false,\"type\":\"scatter\",\"x\":[4128.116943],\"xaxis\":\"x8\",\"y\":[43.869],\"yaxis\":\"y8\"},{\"hovertemplate\":\"country=Swaziland<br>continent=Africa<br>year=2007<br>gdpPercap=%{x}<br>lifeExp=%{y}<extra></extra>\",\"legendgroup\":\"Swaziland\",\"marker\":{\"color\":\"rgb(221,132,82)\",\"symbol\":\"circle\"},\"mode\":\"markers\",\"name\":\"Swaziland\",\"orientation\":\"v\",\"showlegend\":false,\"type\":\"scatter\",\"x\":[4513.480643],\"xaxis\":\"x9\",\"y\":[39.613],\"yaxis\":\"y9\"},{\"hovertemplate\":\"country=Sweden<br>continent=Europe<br>year=1997<br>gdpPercap=%{x}<br>lifeExp=%{y}<extra></extra>\",\"legendgroup\":\"Sweden\",\"marker\":{\"color\":\"rgb(85,168,104)\",\"symbol\":\"circle\"},\"mode\":\"markers\",\"name\":\"Sweden\",\"orientation\":\"v\",\"showlegend\":true,\"type\":\"scatter\",\"x\":[25266.59499],\"xaxis\":\"x10\",\"y\":[79.39],\"yaxis\":\"y10\"},{\"hovertemplate\":\"country=Sweden<br>continent=Europe<br>year=2002<br>gdpPercap=%{x}<br>lifeExp=%{y}<extra></extra>\",\"legendgroup\":\"Sweden\",\"marker\":{\"color\":\"rgb(85,168,104)\",\"symbol\":\"circle\"},\"mode\":\"markers\",\"name\":\"Sweden\",\"orientation\":\"v\",\"showlegend\":false,\"type\":\"scatter\",\"x\":[29341.63093000001],\"xaxis\":\"x11\",\"y\":[80.04],\"yaxis\":\"y11\"},{\"hovertemplate\":\"country=Sweden<br>continent=Europe<br>year=2007<br>gdpPercap=%{x}<br>lifeExp=%{y}<extra></extra>\",\"legendgroup\":\"Sweden\",\"marker\":{\"color\":\"rgb(85,168,104)\",\"symbol\":\"circle\"},\"mode\":\"markers\",\"name\":\"Sweden\",\"orientation\":\"v\",\"showlegend\":false,\"type\":\"scatter\",\"x\":[33859.74835],\"xaxis\":\"x12\",\"y\":[80.884],\"yaxis\":\"y12\"},{\"hovertemplate\":\"country=Switzerland<br>continent=Europe<br>year=1997<br>gdpPercap=%{x}<br>lifeExp=%{y}<extra></extra>\",\"legendgroup\":\"Switzerland\",\"marker\":{\"color\":\"rgb(196,78,82)\",\"symbol\":\"circle\"},\"mode\":\"markers\",\"name\":\"Switzerland\",\"orientation\":\"v\",\"showlegend\":true,\"type\":\"scatter\",\"x\":[32135.323010000004],\"xaxis\":\"x10\",\"y\":[79.37],\"yaxis\":\"y10\"},{\"hovertemplate\":\"country=Switzerland<br>continent=Europe<br>year=2002<br>gdpPercap=%{x}<br>lifeExp=%{y}<extra></extra>\",\"legendgroup\":\"Switzerland\",\"marker\":{\"color\":\"rgb(196,78,82)\",\"symbol\":\"circle\"},\"mode\":\"markers\",\"name\":\"Switzerland\",\"orientation\":\"v\",\"showlegend\":false,\"type\":\"scatter\",\"x\":[34480.95771],\"xaxis\":\"x11\",\"y\":[80.62],\"yaxis\":\"y11\"},{\"hovertemplate\":\"country=Switzerland<br>continent=Europe<br>year=2007<br>gdpPercap=%{x}<br>lifeExp=%{y}<extra></extra>\",\"legendgroup\":\"Switzerland\",\"marker\":{\"color\":\"rgb(196,78,82)\",\"symbol\":\"circle\"},\"mode\":\"markers\",\"name\":\"Switzerland\",\"orientation\":\"v\",\"showlegend\":false,\"type\":\"scatter\",\"x\":[37506.419069999996],\"xaxis\":\"x12\",\"y\":[81.70100000000002],\"yaxis\":\"y12\"},{\"hovertemplate\":\"country=Syria<br>continent=Asia<br>year=1997<br>gdpPercap=%{x}<br>lifeExp=%{y}<extra></extra>\",\"legendgroup\":\"Syria\",\"marker\":{\"color\":\"rgb(129,114,179)\",\"symbol\":\"circle\"},\"mode\":\"markers\",\"name\":\"Syria\",\"orientation\":\"v\",\"showlegend\":true,\"type\":\"scatter\",\"x\":[4014.238972],\"xaxis\":\"x13\",\"y\":[71.527],\"yaxis\":\"y13\"},{\"hovertemplate\":\"country=Syria<br>continent=Asia<br>year=2002<br>gdpPercap=%{x}<br>lifeExp=%{y}<extra></extra>\",\"legendgroup\":\"Syria\",\"marker\":{\"color\":\"rgb(129,114,179)\",\"symbol\":\"circle\"},\"mode\":\"markers\",\"name\":\"Syria\",\"orientation\":\"v\",\"showlegend\":false,\"type\":\"scatter\",\"x\":[4090.9253310000004],\"xaxis\":\"x14\",\"y\":[73.053],\"yaxis\":\"y14\"},{\"hovertemplate\":\"country=Syria<br>continent=Asia<br>year=2007<br>gdpPercap=%{x}<br>lifeExp=%{y}<extra></extra>\",\"legendgroup\":\"Syria\",\"marker\":{\"color\":\"rgb(129,114,179)\",\"symbol\":\"circle\"},\"mode\":\"markers\",\"name\":\"Syria\",\"orientation\":\"v\",\"showlegend\":false,\"type\":\"scatter\",\"x\":[4184.548089],\"xaxis\":\"x15\",\"y\":[74.143],\"yaxis\":\"y15\"},{\"hovertemplate\":\"country=Taiwan<br>continent=Asia<br>year=1997<br>gdpPercap=%{x}<br>lifeExp=%{y}<extra></extra>\",\"legendgroup\":\"Taiwan\",\"marker\":{\"color\":\"rgb(147,120,96)\",\"symbol\":\"circle\"},\"mode\":\"markers\",\"name\":\"Taiwan\",\"orientation\":\"v\",\"showlegend\":true,\"type\":\"scatter\",\"x\":[20206.82098],\"xaxis\":\"x13\",\"y\":[75.25],\"yaxis\":\"y13\"},{\"hovertemplate\":\"country=Taiwan<br>continent=Asia<br>year=2002<br>gdpPercap=%{x}<br>lifeExp=%{y}<extra></extra>\",\"legendgroup\":\"Taiwan\",\"marker\":{\"color\":\"rgb(147,120,96)\",\"symbol\":\"circle\"},\"mode\":\"markers\",\"name\":\"Taiwan\",\"orientation\":\"v\",\"showlegend\":false,\"type\":\"scatter\",\"x\":[23235.42329],\"xaxis\":\"x14\",\"y\":[76.99],\"yaxis\":\"y14\"},{\"hovertemplate\":\"country=Taiwan<br>continent=Asia<br>year=2007<br>gdpPercap=%{x}<br>lifeExp=%{y}<extra></extra>\",\"legendgroup\":\"Taiwan\",\"marker\":{\"color\":\"rgb(147,120,96)\",\"symbol\":\"circle\"},\"mode\":\"markers\",\"name\":\"Taiwan\",\"orientation\":\"v\",\"showlegend\":false,\"type\":\"scatter\",\"x\":[28718.27684],\"xaxis\":\"x15\",\"y\":[78.4],\"yaxis\":\"y15\"},{\"hovertemplate\":\"country=Tanzania<br>continent=Africa<br>year=1997<br>gdpPercap=%{x}<br>lifeExp=%{y}<extra></extra>\",\"legendgroup\":\"Tanzania\",\"marker\":{\"color\":\"rgb(218,139,195)\",\"symbol\":\"circle\"},\"mode\":\"markers\",\"name\":\"Tanzania\",\"orientation\":\"v\",\"showlegend\":true,\"type\":\"scatter\",\"x\":[789.1862231],\"xaxis\":\"x7\",\"y\":[48.466],\"yaxis\":\"y7\"},{\"hovertemplate\":\"country=Tanzania<br>continent=Africa<br>year=2002<br>gdpPercap=%{x}<br>lifeExp=%{y}<extra></extra>\",\"legendgroup\":\"Tanzania\",\"marker\":{\"color\":\"rgb(218,139,195)\",\"symbol\":\"circle\"},\"mode\":\"markers\",\"name\":\"Tanzania\",\"orientation\":\"v\",\"showlegend\":false,\"type\":\"scatter\",\"x\":[899.0742111],\"xaxis\":\"x8\",\"y\":[49.651],\"yaxis\":\"y8\"},{\"hovertemplate\":\"country=Tanzania<br>continent=Africa<br>year=2007<br>gdpPercap=%{x}<br>lifeExp=%{y}<extra></extra>\",\"legendgroup\":\"Tanzania\",\"marker\":{\"color\":\"rgb(218,139,195)\",\"symbol\":\"circle\"},\"mode\":\"markers\",\"name\":\"Tanzania\",\"orientation\":\"v\",\"showlegend\":false,\"type\":\"scatter\",\"x\":[1107.482182],\"xaxis\":\"x9\",\"y\":[52.516999999999996],\"yaxis\":\"y9\"},{\"hovertemplate\":\"country=Thailand<br>continent=Asia<br>year=1997<br>gdpPercap=%{x}<br>lifeExp=%{y}<extra></extra>\",\"legendgroup\":\"Thailand\",\"marker\":{\"color\":\"rgb(140,140,140)\",\"symbol\":\"circle\"},\"mode\":\"markers\",\"name\":\"Thailand\",\"orientation\":\"v\",\"showlegend\":true,\"type\":\"scatter\",\"x\":[5852.625497],\"xaxis\":\"x13\",\"y\":[67.521],\"yaxis\":\"y13\"},{\"hovertemplate\":\"country=Thailand<br>continent=Asia<br>year=2002<br>gdpPercap=%{x}<br>lifeExp=%{y}<extra></extra>\",\"legendgroup\":\"Thailand\",\"marker\":{\"color\":\"rgb(140,140,140)\",\"symbol\":\"circle\"},\"mode\":\"markers\",\"name\":\"Thailand\",\"orientation\":\"v\",\"showlegend\":false,\"type\":\"scatter\",\"x\":[5913.187529],\"xaxis\":\"x14\",\"y\":[68.564],\"yaxis\":\"y14\"},{\"hovertemplate\":\"country=Thailand<br>continent=Asia<br>year=2007<br>gdpPercap=%{x}<br>lifeExp=%{y}<extra></extra>\",\"legendgroup\":\"Thailand\",\"marker\":{\"color\":\"rgb(140,140,140)\",\"symbol\":\"circle\"},\"mode\":\"markers\",\"name\":\"Thailand\",\"orientation\":\"v\",\"showlegend\":false,\"type\":\"scatter\",\"x\":[7458.396326999998],\"xaxis\":\"x15\",\"y\":[70.616],\"yaxis\":\"y15\"},{\"hovertemplate\":\"country=Togo<br>continent=Africa<br>year=1997<br>gdpPercap=%{x}<br>lifeExp=%{y}<extra></extra>\",\"legendgroup\":\"Togo\",\"marker\":{\"color\":\"rgb(204,185,116)\",\"symbol\":\"circle\"},\"mode\":\"markers\",\"name\":\"Togo\",\"orientation\":\"v\",\"showlegend\":true,\"type\":\"scatter\",\"x\":[982.2869242999999],\"xaxis\":\"x7\",\"y\":[58.39],\"yaxis\":\"y7\"},{\"hovertemplate\":\"country=Togo<br>continent=Africa<br>year=2002<br>gdpPercap=%{x}<br>lifeExp=%{y}<extra></extra>\",\"legendgroup\":\"Togo\",\"marker\":{\"color\":\"rgb(204,185,116)\",\"symbol\":\"circle\"},\"mode\":\"markers\",\"name\":\"Togo\",\"orientation\":\"v\",\"showlegend\":false,\"type\":\"scatter\",\"x\":[886.2205765000001],\"xaxis\":\"x8\",\"y\":[57.56100000000001],\"yaxis\":\"y8\"},{\"hovertemplate\":\"country=Togo<br>continent=Africa<br>year=2007<br>gdpPercap=%{x}<br>lifeExp=%{y}<extra></extra>\",\"legendgroup\":\"Togo\",\"marker\":{\"color\":\"rgb(204,185,116)\",\"symbol\":\"circle\"},\"mode\":\"markers\",\"name\":\"Togo\",\"orientation\":\"v\",\"showlegend\":false,\"type\":\"scatter\",\"x\":[882.9699437999999],\"xaxis\":\"x9\",\"y\":[58.42],\"yaxis\":\"y9\"},{\"hovertemplate\":\"country=Trinidad and Tobago<br>continent=Americas<br>year=1997<br>gdpPercap=%{x}<br>lifeExp=%{y}<extra></extra>\",\"legendgroup\":\"Trinidad and Tobago\",\"marker\":{\"color\":\"rgb(100,181,205)\",\"symbol\":\"circle\"},\"mode\":\"markers\",\"name\":\"Trinidad and Tobago\",\"orientation\":\"v\",\"showlegend\":true,\"type\":\"scatter\",\"x\":[8792.573126000001],\"xaxis\":\"x4\",\"y\":[69.465],\"yaxis\":\"y4\"},{\"hovertemplate\":\"country=Trinidad and Tobago<br>continent=Americas<br>year=2002<br>gdpPercap=%{x}<br>lifeExp=%{y}<extra></extra>\",\"legendgroup\":\"Trinidad and Tobago\",\"marker\":{\"color\":\"rgb(100,181,205)\",\"symbol\":\"circle\"},\"mode\":\"markers\",\"name\":\"Trinidad and Tobago\",\"orientation\":\"v\",\"showlegend\":false,\"type\":\"scatter\",\"x\":[11460.60023],\"xaxis\":\"x5\",\"y\":[68.976],\"yaxis\":\"y5\"},{\"hovertemplate\":\"country=Trinidad and Tobago<br>continent=Americas<br>year=2007<br>gdpPercap=%{x}<br>lifeExp=%{y}<extra></extra>\",\"legendgroup\":\"Trinidad and Tobago\",\"marker\":{\"color\":\"rgb(100,181,205)\",\"symbol\":\"circle\"},\"mode\":\"markers\",\"name\":\"Trinidad and Tobago\",\"orientation\":\"v\",\"showlegend\":false,\"type\":\"scatter\",\"x\":[18008.50924],\"xaxis\":\"x6\",\"y\":[69.819],\"yaxis\":\"y6\"},{\"hovertemplate\":\"country=Tunisia<br>continent=Africa<br>year=1997<br>gdpPercap=%{x}<br>lifeExp=%{y}<extra></extra>\",\"legendgroup\":\"Tunisia\",\"marker\":{\"color\":\"rgb(76,114,176)\",\"symbol\":\"circle\"},\"mode\":\"markers\",\"name\":\"Tunisia\",\"orientation\":\"v\",\"showlegend\":true,\"type\":\"scatter\",\"x\":[4876.798614],\"xaxis\":\"x7\",\"y\":[71.973],\"yaxis\":\"y7\"},{\"hovertemplate\":\"country=Tunisia<br>continent=Africa<br>year=2002<br>gdpPercap=%{x}<br>lifeExp=%{y}<extra></extra>\",\"legendgroup\":\"Tunisia\",\"marker\":{\"color\":\"rgb(76,114,176)\",\"symbol\":\"circle\"},\"mode\":\"markers\",\"name\":\"Tunisia\",\"orientation\":\"v\",\"showlegend\":false,\"type\":\"scatter\",\"x\":[5722.8956549999975],\"xaxis\":\"x8\",\"y\":[73.042],\"yaxis\":\"y8\"},{\"hovertemplate\":\"country=Tunisia<br>continent=Africa<br>year=2007<br>gdpPercap=%{x}<br>lifeExp=%{y}<extra></extra>\",\"legendgroup\":\"Tunisia\",\"marker\":{\"color\":\"rgb(76,114,176)\",\"symbol\":\"circle\"},\"mode\":\"markers\",\"name\":\"Tunisia\",\"orientation\":\"v\",\"showlegend\":false,\"type\":\"scatter\",\"x\":[7092.923025],\"xaxis\":\"x9\",\"y\":[73.923],\"yaxis\":\"y9\"},{\"hovertemplate\":\"country=Turkey<br>continent=Europe<br>year=1997<br>gdpPercap=%{x}<br>lifeExp=%{y}<extra></extra>\",\"legendgroup\":\"Turkey\",\"marker\":{\"color\":\"rgb(221,132,82)\",\"symbol\":\"circle\"},\"mode\":\"markers\",\"name\":\"Turkey\",\"orientation\":\"v\",\"showlegend\":true,\"type\":\"scatter\",\"x\":[6601.429915],\"xaxis\":\"x10\",\"y\":[68.835],\"yaxis\":\"y10\"},{\"hovertemplate\":\"country=Turkey<br>continent=Europe<br>year=2002<br>gdpPercap=%{x}<br>lifeExp=%{y}<extra></extra>\",\"legendgroup\":\"Turkey\",\"marker\":{\"color\":\"rgb(221,132,82)\",\"symbol\":\"circle\"},\"mode\":\"markers\",\"name\":\"Turkey\",\"orientation\":\"v\",\"showlegend\":false,\"type\":\"scatter\",\"x\":[6508.085718],\"xaxis\":\"x11\",\"y\":[70.845],\"yaxis\":\"y11\"},{\"hovertemplate\":\"country=Turkey<br>continent=Europe<br>year=2007<br>gdpPercap=%{x}<br>lifeExp=%{y}<extra></extra>\",\"legendgroup\":\"Turkey\",\"marker\":{\"color\":\"rgb(221,132,82)\",\"symbol\":\"circle\"},\"mode\":\"markers\",\"name\":\"Turkey\",\"orientation\":\"v\",\"showlegend\":false,\"type\":\"scatter\",\"x\":[8458.276384],\"xaxis\":\"x12\",\"y\":[71.777],\"yaxis\":\"y12\"},{\"hovertemplate\":\"country=Uganda<br>continent=Africa<br>year=1997<br>gdpPercap=%{x}<br>lifeExp=%{y}<extra></extra>\",\"legendgroup\":\"Uganda\",\"marker\":{\"color\":\"rgb(85,168,104)\",\"symbol\":\"circle\"},\"mode\":\"markers\",\"name\":\"Uganda\",\"orientation\":\"v\",\"showlegend\":true,\"type\":\"scatter\",\"x\":[816.559081],\"xaxis\":\"x7\",\"y\":[44.578],\"yaxis\":\"y7\"},{\"hovertemplate\":\"country=Uganda<br>continent=Africa<br>year=2002<br>gdpPercap=%{x}<br>lifeExp=%{y}<extra></extra>\",\"legendgroup\":\"Uganda\",\"marker\":{\"color\":\"rgb(85,168,104)\",\"symbol\":\"circle\"},\"mode\":\"markers\",\"name\":\"Uganda\",\"orientation\":\"v\",\"showlegend\":false,\"type\":\"scatter\",\"x\":[927.7210018],\"xaxis\":\"x8\",\"y\":[47.813],\"yaxis\":\"y8\"},{\"hovertemplate\":\"country=Uganda<br>continent=Africa<br>year=2007<br>gdpPercap=%{x}<br>lifeExp=%{y}<extra></extra>\",\"legendgroup\":\"Uganda\",\"marker\":{\"color\":\"rgb(85,168,104)\",\"symbol\":\"circle\"},\"mode\":\"markers\",\"name\":\"Uganda\",\"orientation\":\"v\",\"showlegend\":false,\"type\":\"scatter\",\"x\":[1056.3801210000001],\"xaxis\":\"x9\",\"y\":[51.542],\"yaxis\":\"y9\"},{\"hovertemplate\":\"country=United Kingdom<br>continent=Europe<br>year=1997<br>gdpPercap=%{x}<br>lifeExp=%{y}<extra></extra>\",\"legendgroup\":\"United Kingdom\",\"marker\":{\"color\":\"rgb(196,78,82)\",\"symbol\":\"circle\"},\"mode\":\"markers\",\"name\":\"United Kingdom\",\"orientation\":\"v\",\"showlegend\":true,\"type\":\"scatter\",\"x\":[26074.53136],\"xaxis\":\"x10\",\"y\":[77.218],\"yaxis\":\"y10\"},{\"hovertemplate\":\"country=United Kingdom<br>continent=Europe<br>year=2002<br>gdpPercap=%{x}<br>lifeExp=%{y}<extra></extra>\",\"legendgroup\":\"United Kingdom\",\"marker\":{\"color\":\"rgb(196,78,82)\",\"symbol\":\"circle\"},\"mode\":\"markers\",\"name\":\"United Kingdom\",\"orientation\":\"v\",\"showlegend\":false,\"type\":\"scatter\",\"x\":[29478.99919],\"xaxis\":\"x11\",\"y\":[78.471],\"yaxis\":\"y11\"},{\"hovertemplate\":\"country=United Kingdom<br>continent=Europe<br>year=2007<br>gdpPercap=%{x}<br>lifeExp=%{y}<extra></extra>\",\"legendgroup\":\"United Kingdom\",\"marker\":{\"color\":\"rgb(196,78,82)\",\"symbol\":\"circle\"},\"mode\":\"markers\",\"name\":\"United Kingdom\",\"orientation\":\"v\",\"showlegend\":false,\"type\":\"scatter\",\"x\":[33203.26128],\"xaxis\":\"x12\",\"y\":[79.425],\"yaxis\":\"y12\"},{\"hovertemplate\":\"country=United States<br>continent=Americas<br>year=1997<br>gdpPercap=%{x}<br>lifeExp=%{y}<extra></extra>\",\"legendgroup\":\"United States\",\"marker\":{\"color\":\"rgb(129,114,179)\",\"symbol\":\"circle\"},\"mode\":\"markers\",\"name\":\"United States\",\"orientation\":\"v\",\"showlegend\":true,\"type\":\"scatter\",\"x\":[35767.43303],\"xaxis\":\"x4\",\"y\":[76.81],\"yaxis\":\"y4\"},{\"hovertemplate\":\"country=United States<br>continent=Americas<br>year=2002<br>gdpPercap=%{x}<br>lifeExp=%{y}<extra></extra>\",\"legendgroup\":\"United States\",\"marker\":{\"color\":\"rgb(129,114,179)\",\"symbol\":\"circle\"},\"mode\":\"markers\",\"name\":\"United States\",\"orientation\":\"v\",\"showlegend\":false,\"type\":\"scatter\",\"x\":[39097.09955],\"xaxis\":\"x5\",\"y\":[77.31],\"yaxis\":\"y5\"},{\"hovertemplate\":\"country=United States<br>continent=Americas<br>year=2007<br>gdpPercap=%{x}<br>lifeExp=%{y}<extra></extra>\",\"legendgroup\":\"United States\",\"marker\":{\"color\":\"rgb(129,114,179)\",\"symbol\":\"circle\"},\"mode\":\"markers\",\"name\":\"United States\",\"orientation\":\"v\",\"showlegend\":false,\"type\":\"scatter\",\"x\":[42951.65309],\"xaxis\":\"x6\",\"y\":[78.242],\"yaxis\":\"y6\"},{\"hovertemplate\":\"country=Uruguay<br>continent=Americas<br>year=1997<br>gdpPercap=%{x}<br>lifeExp=%{y}<extra></extra>\",\"legendgroup\":\"Uruguay\",\"marker\":{\"color\":\"rgb(147,120,96)\",\"symbol\":\"circle\"},\"mode\":\"markers\",\"name\":\"Uruguay\",\"orientation\":\"v\",\"showlegend\":true,\"type\":\"scatter\",\"x\":[9230.240708],\"xaxis\":\"x4\",\"y\":[74.223],\"yaxis\":\"y4\"},{\"hovertemplate\":\"country=Uruguay<br>continent=Americas<br>year=2002<br>gdpPercap=%{x}<br>lifeExp=%{y}<extra></extra>\",\"legendgroup\":\"Uruguay\",\"marker\":{\"color\":\"rgb(147,120,96)\",\"symbol\":\"circle\"},\"mode\":\"markers\",\"name\":\"Uruguay\",\"orientation\":\"v\",\"showlegend\":false,\"type\":\"scatter\",\"x\":[7727.002004000001],\"xaxis\":\"x5\",\"y\":[75.307],\"yaxis\":\"y5\"},{\"hovertemplate\":\"country=Uruguay<br>continent=Americas<br>year=2007<br>gdpPercap=%{x}<br>lifeExp=%{y}<extra></extra>\",\"legendgroup\":\"Uruguay\",\"marker\":{\"color\":\"rgb(147,120,96)\",\"symbol\":\"circle\"},\"mode\":\"markers\",\"name\":\"Uruguay\",\"orientation\":\"v\",\"showlegend\":false,\"type\":\"scatter\",\"x\":[10611.46299],\"xaxis\":\"x6\",\"y\":[76.384],\"yaxis\":\"y6\"},{\"hovertemplate\":\"country=Venezuela<br>continent=Americas<br>year=1997<br>gdpPercap=%{x}<br>lifeExp=%{y}<extra></extra>\",\"legendgroup\":\"Venezuela\",\"marker\":{\"color\":\"rgb(218,139,195)\",\"symbol\":\"circle\"},\"mode\":\"markers\",\"name\":\"Venezuela\",\"orientation\":\"v\",\"showlegend\":true,\"type\":\"scatter\",\"x\":[10165.49518],\"xaxis\":\"x4\",\"y\":[72.146],\"yaxis\":\"y4\"},{\"hovertemplate\":\"country=Venezuela<br>continent=Americas<br>year=2002<br>gdpPercap=%{x}<br>lifeExp=%{y}<extra></extra>\",\"legendgroup\":\"Venezuela\",\"marker\":{\"color\":\"rgb(218,139,195)\",\"symbol\":\"circle\"},\"mode\":\"markers\",\"name\":\"Venezuela\",\"orientation\":\"v\",\"showlegend\":false,\"type\":\"scatter\",\"x\":[8605.047831],\"xaxis\":\"x5\",\"y\":[72.766],\"yaxis\":\"y5\"},{\"hovertemplate\":\"country=Venezuela<br>continent=Americas<br>year=2007<br>gdpPercap=%{x}<br>lifeExp=%{y}<extra></extra>\",\"legendgroup\":\"Venezuela\",\"marker\":{\"color\":\"rgb(218,139,195)\",\"symbol\":\"circle\"},\"mode\":\"markers\",\"name\":\"Venezuela\",\"orientation\":\"v\",\"showlegend\":false,\"type\":\"scatter\",\"x\":[11415.805690000001],\"xaxis\":\"x6\",\"y\":[73.747],\"yaxis\":\"y6\"},{\"hovertemplate\":\"country=Vietnam<br>continent=Asia<br>year=1997<br>gdpPercap=%{x}<br>lifeExp=%{y}<extra></extra>\",\"legendgroup\":\"Vietnam\",\"marker\":{\"color\":\"rgb(140,140,140)\",\"symbol\":\"circle\"},\"mode\":\"markers\",\"name\":\"Vietnam\",\"orientation\":\"v\",\"showlegend\":true,\"type\":\"scatter\",\"x\":[1385.896769],\"xaxis\":\"x13\",\"y\":[70.672],\"yaxis\":\"y13\"},{\"hovertemplate\":\"country=Vietnam<br>continent=Asia<br>year=2002<br>gdpPercap=%{x}<br>lifeExp=%{y}<extra></extra>\",\"legendgroup\":\"Vietnam\",\"marker\":{\"color\":\"rgb(140,140,140)\",\"symbol\":\"circle\"},\"mode\":\"markers\",\"name\":\"Vietnam\",\"orientation\":\"v\",\"showlegend\":false,\"type\":\"scatter\",\"x\":[1764.456677],\"xaxis\":\"x14\",\"y\":[73.017],\"yaxis\":\"y14\"},{\"hovertemplate\":\"country=Vietnam<br>continent=Asia<br>year=2007<br>gdpPercap=%{x}<br>lifeExp=%{y}<extra></extra>\",\"legendgroup\":\"Vietnam\",\"marker\":{\"color\":\"rgb(140,140,140)\",\"symbol\":\"circle\"},\"mode\":\"markers\",\"name\":\"Vietnam\",\"orientation\":\"v\",\"showlegend\":false,\"type\":\"scatter\",\"x\":[2441.576404],\"xaxis\":\"x15\",\"y\":[74.249],\"yaxis\":\"y15\"},{\"hovertemplate\":\"country=West Bank and Gaza<br>continent=Asia<br>year=1997<br>gdpPercap=%{x}<br>lifeExp=%{y}<extra></extra>\",\"legendgroup\":\"West Bank and Gaza\",\"marker\":{\"color\":\"rgb(204,185,116)\",\"symbol\":\"circle\"},\"mode\":\"markers\",\"name\":\"West Bank and Gaza\",\"orientation\":\"v\",\"showlegend\":true,\"type\":\"scatter\",\"x\":[7110.667619],\"xaxis\":\"x13\",\"y\":[71.096],\"yaxis\":\"y13\"},{\"hovertemplate\":\"country=West Bank and Gaza<br>continent=Asia<br>year=2002<br>gdpPercap=%{x}<br>lifeExp=%{y}<extra></extra>\",\"legendgroup\":\"West Bank and Gaza\",\"marker\":{\"color\":\"rgb(204,185,116)\",\"symbol\":\"circle\"},\"mode\":\"markers\",\"name\":\"West Bank and Gaza\",\"orientation\":\"v\",\"showlegend\":false,\"type\":\"scatter\",\"x\":[4515.487575],\"xaxis\":\"x14\",\"y\":[72.37],\"yaxis\":\"y14\"},{\"hovertemplate\":\"country=West Bank and Gaza<br>continent=Asia<br>year=2007<br>gdpPercap=%{x}<br>lifeExp=%{y}<extra></extra>\",\"legendgroup\":\"West Bank and Gaza\",\"marker\":{\"color\":\"rgb(204,185,116)\",\"symbol\":\"circle\"},\"mode\":\"markers\",\"name\":\"West Bank and Gaza\",\"orientation\":\"v\",\"showlegend\":false,\"type\":\"scatter\",\"x\":[3025.349798],\"xaxis\":\"x15\",\"y\":[73.422],\"yaxis\":\"y15\"},{\"hovertemplate\":\"country=Yemen, Rep.<br>continent=Asia<br>year=1997<br>gdpPercap=%{x}<br>lifeExp=%{y}<extra></extra>\",\"legendgroup\":\"Yemen, Rep.\",\"marker\":{\"color\":\"rgb(100,181,205)\",\"symbol\":\"circle\"},\"mode\":\"markers\",\"name\":\"Yemen, Rep.\",\"orientation\":\"v\",\"showlegend\":true,\"type\":\"scatter\",\"x\":[2117.484526],\"xaxis\":\"x13\",\"y\":[58.02],\"yaxis\":\"y13\"},{\"hovertemplate\":\"country=Yemen, Rep.<br>continent=Asia<br>year=2002<br>gdpPercap=%{x}<br>lifeExp=%{y}<extra></extra>\",\"legendgroup\":\"Yemen, Rep.\",\"marker\":{\"color\":\"rgb(100,181,205)\",\"symbol\":\"circle\"},\"mode\":\"markers\",\"name\":\"Yemen, Rep.\",\"orientation\":\"v\",\"showlegend\":false,\"type\":\"scatter\",\"x\":[2234.820827],\"xaxis\":\"x14\",\"y\":[60.308],\"yaxis\":\"y14\"},{\"hovertemplate\":\"country=Yemen, Rep.<br>continent=Asia<br>year=2007<br>gdpPercap=%{x}<br>lifeExp=%{y}<extra></extra>\",\"legendgroup\":\"Yemen, Rep.\",\"marker\":{\"color\":\"rgb(100,181,205)\",\"symbol\":\"circle\"},\"mode\":\"markers\",\"name\":\"Yemen, Rep.\",\"orientation\":\"v\",\"showlegend\":false,\"type\":\"scatter\",\"x\":[2280.769906],\"xaxis\":\"x15\",\"y\":[62.698],\"yaxis\":\"y15\"},{\"hovertemplate\":\"country=Zambia<br>continent=Africa<br>year=1997<br>gdpPercap=%{x}<br>lifeExp=%{y}<extra></extra>\",\"legendgroup\":\"Zambia\",\"marker\":{\"color\":\"rgb(76,114,176)\",\"symbol\":\"circle\"},\"mode\":\"markers\",\"name\":\"Zambia\",\"orientation\":\"v\",\"showlegend\":true,\"type\":\"scatter\",\"x\":[1071.353818],\"xaxis\":\"x7\",\"y\":[40.238],\"yaxis\":\"y7\"},{\"hovertemplate\":\"country=Zambia<br>continent=Africa<br>year=2002<br>gdpPercap=%{x}<br>lifeExp=%{y}<extra></extra>\",\"legendgroup\":\"Zambia\",\"marker\":{\"color\":\"rgb(76,114,176)\",\"symbol\":\"circle\"},\"mode\":\"markers\",\"name\":\"Zambia\",\"orientation\":\"v\",\"showlegend\":false,\"type\":\"scatter\",\"x\":[1071.6139380000004],\"xaxis\":\"x8\",\"y\":[39.19300000000001],\"yaxis\":\"y8\"},{\"hovertemplate\":\"country=Zambia<br>continent=Africa<br>year=2007<br>gdpPercap=%{x}<br>lifeExp=%{y}<extra></extra>\",\"legendgroup\":\"Zambia\",\"marker\":{\"color\":\"rgb(76,114,176)\",\"symbol\":\"circle\"},\"mode\":\"markers\",\"name\":\"Zambia\",\"orientation\":\"v\",\"showlegend\":false,\"type\":\"scatter\",\"x\":[1271.211593],\"xaxis\":\"x9\",\"y\":[42.38399999999999],\"yaxis\":\"y9\"},{\"hovertemplate\":\"country=Zimbabwe<br>continent=Africa<br>year=1997<br>gdpPercap=%{x}<br>lifeExp=%{y}<extra></extra>\",\"legendgroup\":\"Zimbabwe\",\"marker\":{\"color\":\"rgb(221,132,82)\",\"symbol\":\"circle\"},\"mode\":\"markers\",\"name\":\"Zimbabwe\",\"orientation\":\"v\",\"showlegend\":true,\"type\":\"scatter\",\"x\":[792.4499602999997],\"xaxis\":\"x7\",\"y\":[46.809],\"yaxis\":\"y7\"},{\"hovertemplate\":\"country=Zimbabwe<br>continent=Africa<br>year=2002<br>gdpPercap=%{x}<br>lifeExp=%{y}<extra></extra>\",\"legendgroup\":\"Zimbabwe\",\"marker\":{\"color\":\"rgb(221,132,82)\",\"symbol\":\"circle\"},\"mode\":\"markers\",\"name\":\"Zimbabwe\",\"orientation\":\"v\",\"showlegend\":false,\"type\":\"scatter\",\"x\":[672.0386227000001],\"xaxis\":\"x8\",\"y\":[39.989000000000004],\"yaxis\":\"y8\"},{\"hovertemplate\":\"country=Zimbabwe<br>continent=Africa<br>year=2007<br>gdpPercap=%{x}<br>lifeExp=%{y}<extra></extra>\",\"legendgroup\":\"Zimbabwe\",\"marker\":{\"color\":\"rgb(221,132,82)\",\"symbol\":\"circle\"},\"mode\":\"markers\",\"name\":\"Zimbabwe\",\"orientation\":\"v\",\"showlegend\":false,\"type\":\"scatter\",\"x\":[469.70929810000007],\"xaxis\":\"x9\",\"y\":[43.486999999999995],\"yaxis\":\"y9\"}],                        {\"annotations\":[{\"font\":{},\"showarrow\":false,\"text\":\"year=1997\",\"x\":0.15666666666666665,\"xanchor\":\"center\",\"xref\":\"paper\",\"y\":1.0,\"yanchor\":\"bottom\",\"yref\":\"paper\"},{\"font\":{},\"showarrow\":false,\"text\":\"year=2002\",\"x\":0.49,\"xanchor\":\"center\",\"xref\":\"paper\",\"y\":1.0,\"yanchor\":\"bottom\",\"yref\":\"paper\"},{\"font\":{},\"showarrow\":false,\"text\":\"year=2007\",\"x\":0.8233333333333333,\"xanchor\":\"center\",\"xref\":\"paper\",\"y\":1.0,\"yanchor\":\"bottom\",\"yref\":\"paper\"},{\"font\":{},\"showarrow\":false,\"text\":\"continent=Oceania\",\"textangle\":90,\"x\":0.98,\"xanchor\":\"left\",\"xref\":\"paper\",\"y\":0.08800000000000001,\"yanchor\":\"middle\",\"yref\":\"paper\"},{\"font\":{},\"showarrow\":false,\"text\":\"continent=Americas\",\"textangle\":90,\"x\":0.98,\"xanchor\":\"left\",\"xref\":\"paper\",\"y\":0.29400000000000004,\"yanchor\":\"middle\",\"yref\":\"paper\"},{\"font\":{},\"showarrow\":false,\"text\":\"continent=Africa\",\"textangle\":90,\"x\":0.98,\"xanchor\":\"left\",\"xref\":\"paper\",\"y\":0.5,\"yanchor\":\"middle\",\"yref\":\"paper\"},{\"font\":{},\"showarrow\":false,\"text\":\"continent=Europe\",\"textangle\":90,\"x\":0.98,\"xanchor\":\"left\",\"xref\":\"paper\",\"y\":0.706,\"yanchor\":\"middle\",\"yref\":\"paper\"},{\"font\":{},\"showarrow\":false,\"text\":\"continent=Asia\",\"textangle\":90,\"x\":0.98,\"xanchor\":\"left\",\"xref\":\"paper\",\"y\":0.912,\"yanchor\":\"middle\",\"yref\":\"paper\"}],\"height\":1000,\"legend\":{\"title\":{\"text\":\"country\"},\"tracegroupgap\":0},\"margin\":{\"t\":60},\"template\":{\"data\":{\"bar\":[{\"error_x\":{\"color\":\"rgb(36,36,36)\"},\"error_y\":{\"color\":\"rgb(36,36,36)\"},\"marker\":{\"line\":{\"color\":\"rgb(234,234,242)\",\"width\":0.5},\"pattern\":{\"fillmode\":\"overlay\",\"size\":10,\"solidity\":0.2}},\"type\":\"bar\"}],\"barpolar\":[{\"marker\":{\"line\":{\"color\":\"rgb(234,234,242)\",\"width\":0.5},\"pattern\":{\"fillmode\":\"overlay\",\"size\":10,\"solidity\":0.2}},\"type\":\"barpolar\"}],\"carpet\":[{\"aaxis\":{\"endlinecolor\":\"rgb(36,36,36)\",\"gridcolor\":\"white\",\"linecolor\":\"white\",\"minorgridcolor\":\"white\",\"startlinecolor\":\"rgb(36,36,36)\"},\"baxis\":{\"endlinecolor\":\"rgb(36,36,36)\",\"gridcolor\":\"white\",\"linecolor\":\"white\",\"minorgridcolor\":\"white\",\"startlinecolor\":\"rgb(36,36,36)\"},\"type\":\"carpet\"}],\"choropleth\":[{\"colorbar\":{\"outlinewidth\":0,\"tickcolor\":\"rgb(36,36,36)\",\"ticklen\":8,\"ticks\":\"outside\",\"tickwidth\":2},\"type\":\"choropleth\"}],\"contour\":[{\"colorbar\":{\"outlinewidth\":0,\"tickcolor\":\"rgb(36,36,36)\",\"ticklen\":8,\"ticks\":\"outside\",\"tickwidth\":2},\"colorscale\":[[0.0,\"rgb(2,4,25)\"],[0.06274509803921569,\"rgb(24,15,41)\"],[0.12549019607843137,\"rgb(47,23,57)\"],[0.18823529411764706,\"rgb(71,28,72)\"],[0.25098039215686274,\"rgb(97,30,82)\"],[0.3137254901960784,\"rgb(123,30,89)\"],[0.3764705882352941,\"rgb(150,27,91)\"],[0.4392156862745098,\"rgb(177,22,88)\"],[0.5019607843137255,\"rgb(203,26,79)\"],[0.5647058823529412,\"rgb(223,47,67)\"],[0.6274509803921569,\"rgb(236,76,61)\"],[0.6901960784313725,\"rgb(242,107,73)\"],[0.7529411764705882,\"rgb(244,135,95)\"],[0.8156862745098039,\"rgb(245,162,122)\"],[0.8784313725490196,\"rgb(246,188,153)\"],[0.9411764705882353,\"rgb(247,212,187)\"],[1.0,\"rgb(250,234,220)\"]],\"type\":\"contour\"}],\"contourcarpet\":[{\"colorbar\":{\"outlinewidth\":0,\"tickcolor\":\"rgb(36,36,36)\",\"ticklen\":8,\"ticks\":\"outside\",\"tickwidth\":2},\"type\":\"contourcarpet\"}],\"heatmap\":[{\"colorbar\":{\"outlinewidth\":0,\"tickcolor\":\"rgb(36,36,36)\",\"ticklen\":8,\"ticks\":\"outside\",\"tickwidth\":2},\"colorscale\":[[0.0,\"rgb(2,4,25)\"],[0.06274509803921569,\"rgb(24,15,41)\"],[0.12549019607843137,\"rgb(47,23,57)\"],[0.18823529411764706,\"rgb(71,28,72)\"],[0.25098039215686274,\"rgb(97,30,82)\"],[0.3137254901960784,\"rgb(123,30,89)\"],[0.3764705882352941,\"rgb(150,27,91)\"],[0.4392156862745098,\"rgb(177,22,88)\"],[0.5019607843137255,\"rgb(203,26,79)\"],[0.5647058823529412,\"rgb(223,47,67)\"],[0.6274509803921569,\"rgb(236,76,61)\"],[0.6901960784313725,\"rgb(242,107,73)\"],[0.7529411764705882,\"rgb(244,135,95)\"],[0.8156862745098039,\"rgb(245,162,122)\"],[0.8784313725490196,\"rgb(246,188,153)\"],[0.9411764705882353,\"rgb(247,212,187)\"],[1.0,\"rgb(250,234,220)\"]],\"type\":\"heatmap\"}],\"heatmapgl\":[{\"colorbar\":{\"outlinewidth\":0,\"tickcolor\":\"rgb(36,36,36)\",\"ticklen\":8,\"ticks\":\"outside\",\"tickwidth\":2},\"colorscale\":[[0.0,\"rgb(2,4,25)\"],[0.06274509803921569,\"rgb(24,15,41)\"],[0.12549019607843137,\"rgb(47,23,57)\"],[0.18823529411764706,\"rgb(71,28,72)\"],[0.25098039215686274,\"rgb(97,30,82)\"],[0.3137254901960784,\"rgb(123,30,89)\"],[0.3764705882352941,\"rgb(150,27,91)\"],[0.4392156862745098,\"rgb(177,22,88)\"],[0.5019607843137255,\"rgb(203,26,79)\"],[0.5647058823529412,\"rgb(223,47,67)\"],[0.6274509803921569,\"rgb(236,76,61)\"],[0.6901960784313725,\"rgb(242,107,73)\"],[0.7529411764705882,\"rgb(244,135,95)\"],[0.8156862745098039,\"rgb(245,162,122)\"],[0.8784313725490196,\"rgb(246,188,153)\"],[0.9411764705882353,\"rgb(247,212,187)\"],[1.0,\"rgb(250,234,220)\"]],\"type\":\"heatmapgl\"}],\"histogram\":[{\"marker\":{\"pattern\":{\"fillmode\":\"overlay\",\"size\":10,\"solidity\":0.2}},\"type\":\"histogram\"}],\"histogram2d\":[{\"colorbar\":{\"outlinewidth\":0,\"tickcolor\":\"rgb(36,36,36)\",\"ticklen\":8,\"ticks\":\"outside\",\"tickwidth\":2},\"colorscale\":[[0.0,\"rgb(2,4,25)\"],[0.06274509803921569,\"rgb(24,15,41)\"],[0.12549019607843137,\"rgb(47,23,57)\"],[0.18823529411764706,\"rgb(71,28,72)\"],[0.25098039215686274,\"rgb(97,30,82)\"],[0.3137254901960784,\"rgb(123,30,89)\"],[0.3764705882352941,\"rgb(150,27,91)\"],[0.4392156862745098,\"rgb(177,22,88)\"],[0.5019607843137255,\"rgb(203,26,79)\"],[0.5647058823529412,\"rgb(223,47,67)\"],[0.6274509803921569,\"rgb(236,76,61)\"],[0.6901960784313725,\"rgb(242,107,73)\"],[0.7529411764705882,\"rgb(244,135,95)\"],[0.8156862745098039,\"rgb(245,162,122)\"],[0.8784313725490196,\"rgb(246,188,153)\"],[0.9411764705882353,\"rgb(247,212,187)\"],[1.0,\"rgb(250,234,220)\"]],\"type\":\"histogram2d\"}],\"histogram2dcontour\":[{\"colorbar\":{\"outlinewidth\":0,\"tickcolor\":\"rgb(36,36,36)\",\"ticklen\":8,\"ticks\":\"outside\",\"tickwidth\":2},\"colorscale\":[[0.0,\"rgb(2,4,25)\"],[0.06274509803921569,\"rgb(24,15,41)\"],[0.12549019607843137,\"rgb(47,23,57)\"],[0.18823529411764706,\"rgb(71,28,72)\"],[0.25098039215686274,\"rgb(97,30,82)\"],[0.3137254901960784,\"rgb(123,30,89)\"],[0.3764705882352941,\"rgb(150,27,91)\"],[0.4392156862745098,\"rgb(177,22,88)\"],[0.5019607843137255,\"rgb(203,26,79)\"],[0.5647058823529412,\"rgb(223,47,67)\"],[0.6274509803921569,\"rgb(236,76,61)\"],[0.6901960784313725,\"rgb(242,107,73)\"],[0.7529411764705882,\"rgb(244,135,95)\"],[0.8156862745098039,\"rgb(245,162,122)\"],[0.8784313725490196,\"rgb(246,188,153)\"],[0.9411764705882353,\"rgb(247,212,187)\"],[1.0,\"rgb(250,234,220)\"]],\"type\":\"histogram2dcontour\"}],\"mesh3d\":[{\"colorbar\":{\"outlinewidth\":0,\"tickcolor\":\"rgb(36,36,36)\",\"ticklen\":8,\"ticks\":\"outside\",\"tickwidth\":2},\"type\":\"mesh3d\"}],\"parcoords\":[{\"line\":{\"colorbar\":{\"outlinewidth\":0,\"tickcolor\":\"rgb(36,36,36)\",\"ticklen\":8,\"ticks\":\"outside\",\"tickwidth\":2}},\"type\":\"parcoords\"}],\"pie\":[{\"automargin\":true,\"type\":\"pie\"}],\"scatter\":[{\"marker\":{\"colorbar\":{\"outlinewidth\":0,\"tickcolor\":\"rgb(36,36,36)\",\"ticklen\":8,\"ticks\":\"outside\",\"tickwidth\":2}},\"type\":\"scatter\"}],\"scatter3d\":[{\"line\":{\"colorbar\":{\"outlinewidth\":0,\"tickcolor\":\"rgb(36,36,36)\",\"ticklen\":8,\"ticks\":\"outside\",\"tickwidth\":2}},\"marker\":{\"colorbar\":{\"outlinewidth\":0,\"tickcolor\":\"rgb(36,36,36)\",\"ticklen\":8,\"ticks\":\"outside\",\"tickwidth\":2}},\"type\":\"scatter3d\"}],\"scattercarpet\":[{\"marker\":{\"colorbar\":{\"outlinewidth\":0,\"tickcolor\":\"rgb(36,36,36)\",\"ticklen\":8,\"ticks\":\"outside\",\"tickwidth\":2}},\"type\":\"scattercarpet\"}],\"scattergeo\":[{\"marker\":{\"colorbar\":{\"outlinewidth\":0,\"tickcolor\":\"rgb(36,36,36)\",\"ticklen\":8,\"ticks\":\"outside\",\"tickwidth\":2}},\"type\":\"scattergeo\"}],\"scattergl\":[{\"marker\":{\"colorbar\":{\"outlinewidth\":0,\"tickcolor\":\"rgb(36,36,36)\",\"ticklen\":8,\"ticks\":\"outside\",\"tickwidth\":2}},\"type\":\"scattergl\"}],\"scattermapbox\":[{\"marker\":{\"colorbar\":{\"outlinewidth\":0,\"tickcolor\":\"rgb(36,36,36)\",\"ticklen\":8,\"ticks\":\"outside\",\"tickwidth\":2}},\"type\":\"scattermapbox\"}],\"scatterpolar\":[{\"marker\":{\"colorbar\":{\"outlinewidth\":0,\"tickcolor\":\"rgb(36,36,36)\",\"ticklen\":8,\"ticks\":\"outside\",\"tickwidth\":2}},\"type\":\"scatterpolar\"}],\"scatterpolargl\":[{\"marker\":{\"colorbar\":{\"outlinewidth\":0,\"tickcolor\":\"rgb(36,36,36)\",\"ticklen\":8,\"ticks\":\"outside\",\"tickwidth\":2}},\"type\":\"scatterpolargl\"}],\"scatterternary\":[{\"marker\":{\"colorbar\":{\"outlinewidth\":0,\"tickcolor\":\"rgb(36,36,36)\",\"ticklen\":8,\"ticks\":\"outside\",\"tickwidth\":2}},\"type\":\"scatterternary\"}],\"surface\":[{\"colorbar\":{\"outlinewidth\":0,\"tickcolor\":\"rgb(36,36,36)\",\"ticklen\":8,\"ticks\":\"outside\",\"tickwidth\":2},\"colorscale\":[[0.0,\"rgb(2,4,25)\"],[0.06274509803921569,\"rgb(24,15,41)\"],[0.12549019607843137,\"rgb(47,23,57)\"],[0.18823529411764706,\"rgb(71,28,72)\"],[0.25098039215686274,\"rgb(97,30,82)\"],[0.3137254901960784,\"rgb(123,30,89)\"],[0.3764705882352941,\"rgb(150,27,91)\"],[0.4392156862745098,\"rgb(177,22,88)\"],[0.5019607843137255,\"rgb(203,26,79)\"],[0.5647058823529412,\"rgb(223,47,67)\"],[0.6274509803921569,\"rgb(236,76,61)\"],[0.6901960784313725,\"rgb(242,107,73)\"],[0.7529411764705882,\"rgb(244,135,95)\"],[0.8156862745098039,\"rgb(245,162,122)\"],[0.8784313725490196,\"rgb(246,188,153)\"],[0.9411764705882353,\"rgb(247,212,187)\"],[1.0,\"rgb(250,234,220)\"]],\"type\":\"surface\"}],\"table\":[{\"cells\":{\"fill\":{\"color\":\"rgb(231,231,240)\"},\"line\":{\"color\":\"white\"}},\"header\":{\"fill\":{\"color\":\"rgb(183,183,191)\"},\"line\":{\"color\":\"white\"}},\"type\":\"table\"}]},\"layout\":{\"annotationdefaults\":{\"arrowcolor\":\"rgb(67,103,167)\"},\"autotypenumbers\":\"strict\",\"coloraxis\":{\"colorbar\":{\"outlinewidth\":0,\"tickcolor\":\"rgb(36,36,36)\",\"ticklen\":8,\"ticks\":\"outside\",\"tickwidth\":2}},\"colorscale\":{\"sequential\":[[0.0,\"rgb(2,4,25)\"],[0.06274509803921569,\"rgb(24,15,41)\"],[0.12549019607843137,\"rgb(47,23,57)\"],[0.18823529411764706,\"rgb(71,28,72)\"],[0.25098039215686274,\"rgb(97,30,82)\"],[0.3137254901960784,\"rgb(123,30,89)\"],[0.3764705882352941,\"rgb(150,27,91)\"],[0.4392156862745098,\"rgb(177,22,88)\"],[0.5019607843137255,\"rgb(203,26,79)\"],[0.5647058823529412,\"rgb(223,47,67)\"],[0.6274509803921569,\"rgb(236,76,61)\"],[0.6901960784313725,\"rgb(242,107,73)\"],[0.7529411764705882,\"rgb(244,135,95)\"],[0.8156862745098039,\"rgb(245,162,122)\"],[0.8784313725490196,\"rgb(246,188,153)\"],[0.9411764705882353,\"rgb(247,212,187)\"],[1.0,\"rgb(250,234,220)\"]],\"sequentialminus\":[[0.0,\"rgb(2,4,25)\"],[0.06274509803921569,\"rgb(24,15,41)\"],[0.12549019607843137,\"rgb(47,23,57)\"],[0.18823529411764706,\"rgb(71,28,72)\"],[0.25098039215686274,\"rgb(97,30,82)\"],[0.3137254901960784,\"rgb(123,30,89)\"],[0.3764705882352941,\"rgb(150,27,91)\"],[0.4392156862745098,\"rgb(177,22,88)\"],[0.5019607843137255,\"rgb(203,26,79)\"],[0.5647058823529412,\"rgb(223,47,67)\"],[0.6274509803921569,\"rgb(236,76,61)\"],[0.6901960784313725,\"rgb(242,107,73)\"],[0.7529411764705882,\"rgb(244,135,95)\"],[0.8156862745098039,\"rgb(245,162,122)\"],[0.8784313725490196,\"rgb(246,188,153)\"],[0.9411764705882353,\"rgb(247,212,187)\"],[1.0,\"rgb(250,234,220)\"]]},\"colorway\":[\"rgb(76,114,176)\",\"rgb(221,132,82)\",\"rgb(85,168,104)\",\"rgb(196,78,82)\",\"rgb(129,114,179)\",\"rgb(147,120,96)\",\"rgb(218,139,195)\",\"rgb(140,140,140)\",\"rgb(204,185,116)\",\"rgb(100,181,205)\"],\"font\":{\"color\":\"rgb(36,36,36)\"},\"geo\":{\"bgcolor\":\"white\",\"lakecolor\":\"white\",\"landcolor\":\"rgb(234,234,242)\",\"showlakes\":true,\"showland\":true,\"subunitcolor\":\"white\"},\"hoverlabel\":{\"align\":\"left\"},\"hovermode\":\"closest\",\"paper_bgcolor\":\"white\",\"plot_bgcolor\":\"rgb(234,234,242)\",\"polar\":{\"angularaxis\":{\"gridcolor\":\"white\",\"linecolor\":\"white\",\"showgrid\":true,\"ticks\":\"\"},\"bgcolor\":\"rgb(234,234,242)\",\"radialaxis\":{\"gridcolor\":\"white\",\"linecolor\":\"white\",\"showgrid\":true,\"ticks\":\"\"}},\"scene\":{\"xaxis\":{\"backgroundcolor\":\"rgb(234,234,242)\",\"gridcolor\":\"white\",\"gridwidth\":2,\"linecolor\":\"white\",\"showbackground\":true,\"showgrid\":true,\"ticks\":\"\",\"zerolinecolor\":\"white\"},\"yaxis\":{\"backgroundcolor\":\"rgb(234,234,242)\",\"gridcolor\":\"white\",\"gridwidth\":2,\"linecolor\":\"white\",\"showbackground\":true,\"showgrid\":true,\"ticks\":\"\",\"zerolinecolor\":\"white\"},\"zaxis\":{\"backgroundcolor\":\"rgb(234,234,242)\",\"gridcolor\":\"white\",\"gridwidth\":2,\"linecolor\":\"white\",\"showbackground\":true,\"showgrid\":true,\"ticks\":\"\",\"zerolinecolor\":\"white\"}},\"shapedefaults\":{\"fillcolor\":\"rgb(67,103,167)\",\"line\":{\"width\":0},\"opacity\":0.5},\"ternary\":{\"aaxis\":{\"gridcolor\":\"white\",\"linecolor\":\"white\",\"showgrid\":true,\"ticks\":\"\"},\"baxis\":{\"gridcolor\":\"white\",\"linecolor\":\"white\",\"showgrid\":true,\"ticks\":\"\"},\"bgcolor\":\"rgb(234,234,242)\",\"caxis\":{\"gridcolor\":\"white\",\"linecolor\":\"white\",\"showgrid\":true,\"ticks\":\"\"}},\"xaxis\":{\"automargin\":true,\"gridcolor\":\"white\",\"linecolor\":\"white\",\"showgrid\":true,\"ticks\":\"\",\"title\":{\"standoff\":15},\"zerolinecolor\":\"white\"},\"yaxis\":{\"automargin\":true,\"gridcolor\":\"white\",\"linecolor\":\"white\",\"showgrid\":true,\"ticks\":\"\",\"title\":{\"standoff\":15},\"zerolinecolor\":\"white\"}}},\"xaxis\":{\"anchor\":\"y\",\"domain\":[0.0,0.3133333333333333],\"title\":{\"text\":\"gdpPercap\"}},\"xaxis10\":{\"anchor\":\"y10\",\"domain\":[0.0,0.3133333333333333],\"matches\":\"x\",\"showticklabels\":false},\"xaxis11\":{\"anchor\":\"y11\",\"domain\":[0.3333333333333333,0.6466666666666666],\"matches\":\"x\",\"showticklabels\":false},\"xaxis12\":{\"anchor\":\"y12\",\"domain\":[0.6666666666666666,0.98],\"matches\":\"x\",\"showticklabels\":false},\"xaxis13\":{\"anchor\":\"y13\",\"domain\":[0.0,0.3133333333333333],\"matches\":\"x\",\"showticklabels\":false},\"xaxis14\":{\"anchor\":\"y14\",\"domain\":[0.3333333333333333,0.6466666666666666],\"matches\":\"x\",\"showticklabels\":false},\"xaxis15\":{\"anchor\":\"y15\",\"domain\":[0.6666666666666666,0.98],\"matches\":\"x\",\"showticklabels\":false},\"xaxis2\":{\"anchor\":\"y2\",\"domain\":[0.3333333333333333,0.6466666666666666],\"matches\":\"x\",\"title\":{\"text\":\"gdpPercap\"}},\"xaxis3\":{\"anchor\":\"y3\",\"domain\":[0.6666666666666666,0.98],\"matches\":\"x\",\"title\":{\"text\":\"gdpPercap\"}},\"xaxis4\":{\"anchor\":\"y4\",\"domain\":[0.0,0.3133333333333333],\"matches\":\"x\",\"showticklabels\":false},\"xaxis5\":{\"anchor\":\"y5\",\"domain\":[0.3333333333333333,0.6466666666666666],\"matches\":\"x\",\"showticklabels\":false},\"xaxis6\":{\"anchor\":\"y6\",\"domain\":[0.6666666666666666,0.98],\"matches\":\"x\",\"showticklabels\":false},\"xaxis7\":{\"anchor\":\"y7\",\"domain\":[0.0,0.3133333333333333],\"matches\":\"x\",\"showticklabels\":false},\"xaxis8\":{\"anchor\":\"y8\",\"domain\":[0.3333333333333333,0.6466666666666666],\"matches\":\"x\",\"showticklabels\":false},\"xaxis9\":{\"anchor\":\"y9\",\"domain\":[0.6666666666666666,0.98],\"matches\":\"x\",\"showticklabels\":false},\"yaxis\":{\"anchor\":\"x\",\"domain\":[0.0,0.17600000000000002],\"title\":{\"text\":\"lifeExp\"}},\"yaxis10\":{\"anchor\":\"x10\",\"domain\":[0.618,0.794],\"matches\":\"y\",\"title\":{\"text\":\"lifeExp\"}},\"yaxis11\":{\"anchor\":\"x11\",\"domain\":[0.618,0.794],\"matches\":\"y\",\"showticklabels\":false},\"yaxis12\":{\"anchor\":\"x12\",\"domain\":[0.618,0.794],\"matches\":\"y\",\"showticklabels\":false},\"yaxis13\":{\"anchor\":\"x13\",\"domain\":[0.8240000000000001,1.0],\"matches\":\"y\",\"title\":{\"text\":\"lifeExp\"}},\"yaxis14\":{\"anchor\":\"x14\",\"domain\":[0.8240000000000001,1.0],\"matches\":\"y\",\"showticklabels\":false},\"yaxis15\":{\"anchor\":\"x15\",\"domain\":[0.8240000000000001,1.0],\"matches\":\"y\",\"showticklabels\":false},\"yaxis2\":{\"anchor\":\"x2\",\"domain\":[0.0,0.17600000000000002],\"matches\":\"y\",\"showticklabels\":false},\"yaxis3\":{\"anchor\":\"x3\",\"domain\":[0.0,0.17600000000000002],\"matches\":\"y\",\"showticklabels\":false},\"yaxis4\":{\"anchor\":\"x4\",\"domain\":[0.20600000000000002,0.382],\"matches\":\"y\",\"title\":{\"text\":\"lifeExp\"}},\"yaxis5\":{\"anchor\":\"x5\",\"domain\":[0.20600000000000002,0.382],\"matches\":\"y\",\"showticklabels\":false},\"yaxis6\":{\"anchor\":\"x6\",\"domain\":[0.20600000000000002,0.382],\"matches\":\"y\",\"showticklabels\":false},\"yaxis7\":{\"anchor\":\"x7\",\"domain\":[0.41200000000000003,0.5880000000000001],\"matches\":\"y\",\"title\":{\"text\":\"lifeExp\"}},\"yaxis8\":{\"anchor\":\"x8\",\"domain\":[0.41200000000000003,0.5880000000000001],\"matches\":\"y\",\"showticklabels\":false},\"yaxis9\":{\"anchor\":\"x9\",\"domain\":[0.41200000000000003,0.5880000000000001],\"matches\":\"y\",\"showticklabels\":false}},                        {\"responsive\": true}                    ).then(function(){\n",
       "                            \n",
       "var gd = document.getElementById('626d2e7a-e7e3-4264-8568-24285cf1b45f');\n",
       "var x = new MutationObserver(function (mutations, observer) {{\n",
       "        var display = window.getComputedStyle(gd).display;\n",
       "        if (!display || display === 'none') {{\n",
       "            console.log([gd, 'removed!']);\n",
       "            Plotly.purge(gd);\n",
       "            observer.disconnect();\n",
       "        }}\n",
       "}});\n",
       "\n",
       "// Listen for the removal of the full notebook cells\n",
       "var notebookContainer = gd.closest('#notebook-container');\n",
       "if (notebookContainer) {{\n",
       "    x.observe(notebookContainer, {childList: true});\n",
       "}}\n",
       "\n",
       "// Listen for the clearing of the current output cell\n",
       "var outputEl = gd.closest('.output');\n",
       "if (outputEl) {{\n",
       "    x.observe(outputEl, {childList: true});\n",
       "}}\n",
       "\n",
       "                        })                };                });            </script>        </div>"
      ]
     },
     "metadata": {},
     "output_type": "display_data"
    }
   ],
   "source": [
    "df = df_[df_.year>1996]\n",
    "fig = px.scatter(df, x=\"gdpPercap\", y=\"lifeExp\", color='country', facet_row='continent', facet_col='year', height=1000,\n",
    "                 template='seaborn')\n",
    "fig.show()"
   ]
  },
  {
   "cell_type": "code",
   "execution_count": null,
   "id": "2f705ead",
   "metadata": {},
   "outputs": [],
   "source": []
  },
  {
   "cell_type": "markdown",
   "id": "c8c4009d",
   "metadata": {},
   "source": [
    "### Line Chart\n"
   ]
  },
  {
   "cell_type": "code",
   "execution_count": 8,
   "id": "57a88a9b",
   "metadata": {
    "scrolled": false
   },
   "outputs": [
    {
     "data": {
      "application/vnd.plotly.v1+json": {
       "config": {
        "plotlyServerURL": "https://plot.ly"
       },
       "data": [
        {
         "hovertemplate": "country=Australia<br>year=%{x}<br>lifeExp=%{text}<extra></extra>",
         "legendgroup": "Australia",
         "line": {
          "color": "rgb(76,114,176)",
          "dash": "solid"
         },
         "marker": {
          "symbol": "circle"
         },
         "mode": "markers+text+lines",
         "name": "Australia",
         "orientation": "v",
         "showlegend": true,
         "text": [
          69.12,
          70.33,
          70.93,
          71.1,
          71.93,
          73.49,
          74.74,
          76.32,
          77.56,
          78.83,
          80.37,
          81.235
         ],
         "textposition": "bottom right",
         "type": "scatter",
         "x": [
          1952,
          1957,
          1962,
          1967,
          1972,
          1977,
          1982,
          1987,
          1992,
          1997,
          2002,
          2007
         ],
         "xaxis": "x",
         "y": [
          69.12,
          70.33,
          70.93,
          71.1,
          71.93,
          73.49,
          74.74,
          76.32,
          77.56,
          78.83,
          80.37,
          81.235
         ],
         "yaxis": "y"
        },
        {
         "hovertemplate": "country=New Zealand<br>year=%{x}<br>lifeExp=%{text}<extra></extra>",
         "legendgroup": "New Zealand",
         "line": {
          "color": "rgb(221,132,82)",
          "dash": "solid"
         },
         "marker": {
          "symbol": "circle"
         },
         "mode": "markers+text+lines",
         "name": "New Zealand",
         "orientation": "v",
         "showlegend": true,
         "text": [
          69.39,
          70.26,
          71.24,
          71.52,
          71.89,
          72.22,
          73.84,
          74.32,
          76.33,
          77.55,
          79.11,
          80.204
         ],
         "textposition": "bottom right",
         "type": "scatter",
         "x": [
          1952,
          1957,
          1962,
          1967,
          1972,
          1977,
          1982,
          1987,
          1992,
          1997,
          2002,
          2007
         ],
         "xaxis": "x",
         "y": [
          69.39,
          70.26,
          71.24,
          71.52,
          71.89,
          72.22,
          73.84,
          74.32,
          76.33,
          77.55,
          79.11,
          80.204
         ],
         "yaxis": "y"
        }
       ],
       "layout": {
        "legend": {
         "title": {
          "text": "country"
         },
         "tracegroupgap": 0
        },
        "margin": {
         "t": 60
        },
        "template": {
         "data": {
          "bar": [
           {
            "error_x": {
             "color": "rgb(36,36,36)"
            },
            "error_y": {
             "color": "rgb(36,36,36)"
            },
            "marker": {
             "line": {
              "color": "rgb(234,234,242)",
              "width": 0.5
             },
             "pattern": {
              "fillmode": "overlay",
              "size": 10,
              "solidity": 0.2
             }
            },
            "type": "bar"
           }
          ],
          "barpolar": [
           {
            "marker": {
             "line": {
              "color": "rgb(234,234,242)",
              "width": 0.5
             },
             "pattern": {
              "fillmode": "overlay",
              "size": 10,
              "solidity": 0.2
             }
            },
            "type": "barpolar"
           }
          ],
          "carpet": [
           {
            "aaxis": {
             "endlinecolor": "rgb(36,36,36)",
             "gridcolor": "white",
             "linecolor": "white",
             "minorgridcolor": "white",
             "startlinecolor": "rgb(36,36,36)"
            },
            "baxis": {
             "endlinecolor": "rgb(36,36,36)",
             "gridcolor": "white",
             "linecolor": "white",
             "minorgridcolor": "white",
             "startlinecolor": "rgb(36,36,36)"
            },
            "type": "carpet"
           }
          ],
          "choropleth": [
           {
            "colorbar": {
             "outlinewidth": 0,
             "tickcolor": "rgb(36,36,36)",
             "ticklen": 8,
             "ticks": "outside",
             "tickwidth": 2
            },
            "type": "choropleth"
           }
          ],
          "contour": [
           {
            "colorbar": {
             "outlinewidth": 0,
             "tickcolor": "rgb(36,36,36)",
             "ticklen": 8,
             "ticks": "outside",
             "tickwidth": 2
            },
            "colorscale": [
             [
              0,
              "rgb(2,4,25)"
             ],
             [
              0.06274509803921569,
              "rgb(24,15,41)"
             ],
             [
              0.12549019607843137,
              "rgb(47,23,57)"
             ],
             [
              0.18823529411764706,
              "rgb(71,28,72)"
             ],
             [
              0.25098039215686274,
              "rgb(97,30,82)"
             ],
             [
              0.3137254901960784,
              "rgb(123,30,89)"
             ],
             [
              0.3764705882352941,
              "rgb(150,27,91)"
             ],
             [
              0.4392156862745098,
              "rgb(177,22,88)"
             ],
             [
              0.5019607843137255,
              "rgb(203,26,79)"
             ],
             [
              0.5647058823529412,
              "rgb(223,47,67)"
             ],
             [
              0.6274509803921569,
              "rgb(236,76,61)"
             ],
             [
              0.6901960784313725,
              "rgb(242,107,73)"
             ],
             [
              0.7529411764705882,
              "rgb(244,135,95)"
             ],
             [
              0.8156862745098039,
              "rgb(245,162,122)"
             ],
             [
              0.8784313725490196,
              "rgb(246,188,153)"
             ],
             [
              0.9411764705882353,
              "rgb(247,212,187)"
             ],
             [
              1,
              "rgb(250,234,220)"
             ]
            ],
            "type": "contour"
           }
          ],
          "contourcarpet": [
           {
            "colorbar": {
             "outlinewidth": 0,
             "tickcolor": "rgb(36,36,36)",
             "ticklen": 8,
             "ticks": "outside",
             "tickwidth": 2
            },
            "type": "contourcarpet"
           }
          ],
          "heatmap": [
           {
            "colorbar": {
             "outlinewidth": 0,
             "tickcolor": "rgb(36,36,36)",
             "ticklen": 8,
             "ticks": "outside",
             "tickwidth": 2
            },
            "colorscale": [
             [
              0,
              "rgb(2,4,25)"
             ],
             [
              0.06274509803921569,
              "rgb(24,15,41)"
             ],
             [
              0.12549019607843137,
              "rgb(47,23,57)"
             ],
             [
              0.18823529411764706,
              "rgb(71,28,72)"
             ],
             [
              0.25098039215686274,
              "rgb(97,30,82)"
             ],
             [
              0.3137254901960784,
              "rgb(123,30,89)"
             ],
             [
              0.3764705882352941,
              "rgb(150,27,91)"
             ],
             [
              0.4392156862745098,
              "rgb(177,22,88)"
             ],
             [
              0.5019607843137255,
              "rgb(203,26,79)"
             ],
             [
              0.5647058823529412,
              "rgb(223,47,67)"
             ],
             [
              0.6274509803921569,
              "rgb(236,76,61)"
             ],
             [
              0.6901960784313725,
              "rgb(242,107,73)"
             ],
             [
              0.7529411764705882,
              "rgb(244,135,95)"
             ],
             [
              0.8156862745098039,
              "rgb(245,162,122)"
             ],
             [
              0.8784313725490196,
              "rgb(246,188,153)"
             ],
             [
              0.9411764705882353,
              "rgb(247,212,187)"
             ],
             [
              1,
              "rgb(250,234,220)"
             ]
            ],
            "type": "heatmap"
           }
          ],
          "heatmapgl": [
           {
            "colorbar": {
             "outlinewidth": 0,
             "tickcolor": "rgb(36,36,36)",
             "ticklen": 8,
             "ticks": "outside",
             "tickwidth": 2
            },
            "colorscale": [
             [
              0,
              "rgb(2,4,25)"
             ],
             [
              0.06274509803921569,
              "rgb(24,15,41)"
             ],
             [
              0.12549019607843137,
              "rgb(47,23,57)"
             ],
             [
              0.18823529411764706,
              "rgb(71,28,72)"
             ],
             [
              0.25098039215686274,
              "rgb(97,30,82)"
             ],
             [
              0.3137254901960784,
              "rgb(123,30,89)"
             ],
             [
              0.3764705882352941,
              "rgb(150,27,91)"
             ],
             [
              0.4392156862745098,
              "rgb(177,22,88)"
             ],
             [
              0.5019607843137255,
              "rgb(203,26,79)"
             ],
             [
              0.5647058823529412,
              "rgb(223,47,67)"
             ],
             [
              0.6274509803921569,
              "rgb(236,76,61)"
             ],
             [
              0.6901960784313725,
              "rgb(242,107,73)"
             ],
             [
              0.7529411764705882,
              "rgb(244,135,95)"
             ],
             [
              0.8156862745098039,
              "rgb(245,162,122)"
             ],
             [
              0.8784313725490196,
              "rgb(246,188,153)"
             ],
             [
              0.9411764705882353,
              "rgb(247,212,187)"
             ],
             [
              1,
              "rgb(250,234,220)"
             ]
            ],
            "type": "heatmapgl"
           }
          ],
          "histogram": [
           {
            "marker": {
             "pattern": {
              "fillmode": "overlay",
              "size": 10,
              "solidity": 0.2
             }
            },
            "type": "histogram"
           }
          ],
          "histogram2d": [
           {
            "colorbar": {
             "outlinewidth": 0,
             "tickcolor": "rgb(36,36,36)",
             "ticklen": 8,
             "ticks": "outside",
             "tickwidth": 2
            },
            "colorscale": [
             [
              0,
              "rgb(2,4,25)"
             ],
             [
              0.06274509803921569,
              "rgb(24,15,41)"
             ],
             [
              0.12549019607843137,
              "rgb(47,23,57)"
             ],
             [
              0.18823529411764706,
              "rgb(71,28,72)"
             ],
             [
              0.25098039215686274,
              "rgb(97,30,82)"
             ],
             [
              0.3137254901960784,
              "rgb(123,30,89)"
             ],
             [
              0.3764705882352941,
              "rgb(150,27,91)"
             ],
             [
              0.4392156862745098,
              "rgb(177,22,88)"
             ],
             [
              0.5019607843137255,
              "rgb(203,26,79)"
             ],
             [
              0.5647058823529412,
              "rgb(223,47,67)"
             ],
             [
              0.6274509803921569,
              "rgb(236,76,61)"
             ],
             [
              0.6901960784313725,
              "rgb(242,107,73)"
             ],
             [
              0.7529411764705882,
              "rgb(244,135,95)"
             ],
             [
              0.8156862745098039,
              "rgb(245,162,122)"
             ],
             [
              0.8784313725490196,
              "rgb(246,188,153)"
             ],
             [
              0.9411764705882353,
              "rgb(247,212,187)"
             ],
             [
              1,
              "rgb(250,234,220)"
             ]
            ],
            "type": "histogram2d"
           }
          ],
          "histogram2dcontour": [
           {
            "colorbar": {
             "outlinewidth": 0,
             "tickcolor": "rgb(36,36,36)",
             "ticklen": 8,
             "ticks": "outside",
             "tickwidth": 2
            },
            "colorscale": [
             [
              0,
              "rgb(2,4,25)"
             ],
             [
              0.06274509803921569,
              "rgb(24,15,41)"
             ],
             [
              0.12549019607843137,
              "rgb(47,23,57)"
             ],
             [
              0.18823529411764706,
              "rgb(71,28,72)"
             ],
             [
              0.25098039215686274,
              "rgb(97,30,82)"
             ],
             [
              0.3137254901960784,
              "rgb(123,30,89)"
             ],
             [
              0.3764705882352941,
              "rgb(150,27,91)"
             ],
             [
              0.4392156862745098,
              "rgb(177,22,88)"
             ],
             [
              0.5019607843137255,
              "rgb(203,26,79)"
             ],
             [
              0.5647058823529412,
              "rgb(223,47,67)"
             ],
             [
              0.6274509803921569,
              "rgb(236,76,61)"
             ],
             [
              0.6901960784313725,
              "rgb(242,107,73)"
             ],
             [
              0.7529411764705882,
              "rgb(244,135,95)"
             ],
             [
              0.8156862745098039,
              "rgb(245,162,122)"
             ],
             [
              0.8784313725490196,
              "rgb(246,188,153)"
             ],
             [
              0.9411764705882353,
              "rgb(247,212,187)"
             ],
             [
              1,
              "rgb(250,234,220)"
             ]
            ],
            "type": "histogram2dcontour"
           }
          ],
          "mesh3d": [
           {
            "colorbar": {
             "outlinewidth": 0,
             "tickcolor": "rgb(36,36,36)",
             "ticklen": 8,
             "ticks": "outside",
             "tickwidth": 2
            },
            "type": "mesh3d"
           }
          ],
          "parcoords": [
           {
            "line": {
             "colorbar": {
              "outlinewidth": 0,
              "tickcolor": "rgb(36,36,36)",
              "ticklen": 8,
              "ticks": "outside",
              "tickwidth": 2
             }
            },
            "type": "parcoords"
           }
          ],
          "pie": [
           {
            "automargin": true,
            "type": "pie"
           }
          ],
          "scatter": [
           {
            "marker": {
             "colorbar": {
              "outlinewidth": 0,
              "tickcolor": "rgb(36,36,36)",
              "ticklen": 8,
              "ticks": "outside",
              "tickwidth": 2
             }
            },
            "type": "scatter"
           }
          ],
          "scatter3d": [
           {
            "line": {
             "colorbar": {
              "outlinewidth": 0,
              "tickcolor": "rgb(36,36,36)",
              "ticklen": 8,
              "ticks": "outside",
              "tickwidth": 2
             }
            },
            "marker": {
             "colorbar": {
              "outlinewidth": 0,
              "tickcolor": "rgb(36,36,36)",
              "ticklen": 8,
              "ticks": "outside",
              "tickwidth": 2
             }
            },
            "type": "scatter3d"
           }
          ],
          "scattercarpet": [
           {
            "marker": {
             "colorbar": {
              "outlinewidth": 0,
              "tickcolor": "rgb(36,36,36)",
              "ticklen": 8,
              "ticks": "outside",
              "tickwidth": 2
             }
            },
            "type": "scattercarpet"
           }
          ],
          "scattergeo": [
           {
            "marker": {
             "colorbar": {
              "outlinewidth": 0,
              "tickcolor": "rgb(36,36,36)",
              "ticklen": 8,
              "ticks": "outside",
              "tickwidth": 2
             }
            },
            "type": "scattergeo"
           }
          ],
          "scattergl": [
           {
            "marker": {
             "colorbar": {
              "outlinewidth": 0,
              "tickcolor": "rgb(36,36,36)",
              "ticklen": 8,
              "ticks": "outside",
              "tickwidth": 2
             }
            },
            "type": "scattergl"
           }
          ],
          "scattermapbox": [
           {
            "marker": {
             "colorbar": {
              "outlinewidth": 0,
              "tickcolor": "rgb(36,36,36)",
              "ticklen": 8,
              "ticks": "outside",
              "tickwidth": 2
             }
            },
            "type": "scattermapbox"
           }
          ],
          "scatterpolar": [
           {
            "marker": {
             "colorbar": {
              "outlinewidth": 0,
              "tickcolor": "rgb(36,36,36)",
              "ticklen": 8,
              "ticks": "outside",
              "tickwidth": 2
             }
            },
            "type": "scatterpolar"
           }
          ],
          "scatterpolargl": [
           {
            "marker": {
             "colorbar": {
              "outlinewidth": 0,
              "tickcolor": "rgb(36,36,36)",
              "ticklen": 8,
              "ticks": "outside",
              "tickwidth": 2
             }
            },
            "type": "scatterpolargl"
           }
          ],
          "scatterternary": [
           {
            "marker": {
             "colorbar": {
              "outlinewidth": 0,
              "tickcolor": "rgb(36,36,36)",
              "ticklen": 8,
              "ticks": "outside",
              "tickwidth": 2
             }
            },
            "type": "scatterternary"
           }
          ],
          "surface": [
           {
            "colorbar": {
             "outlinewidth": 0,
             "tickcolor": "rgb(36,36,36)",
             "ticklen": 8,
             "ticks": "outside",
             "tickwidth": 2
            },
            "colorscale": [
             [
              0,
              "rgb(2,4,25)"
             ],
             [
              0.06274509803921569,
              "rgb(24,15,41)"
             ],
             [
              0.12549019607843137,
              "rgb(47,23,57)"
             ],
             [
              0.18823529411764706,
              "rgb(71,28,72)"
             ],
             [
              0.25098039215686274,
              "rgb(97,30,82)"
             ],
             [
              0.3137254901960784,
              "rgb(123,30,89)"
             ],
             [
              0.3764705882352941,
              "rgb(150,27,91)"
             ],
             [
              0.4392156862745098,
              "rgb(177,22,88)"
             ],
             [
              0.5019607843137255,
              "rgb(203,26,79)"
             ],
             [
              0.5647058823529412,
              "rgb(223,47,67)"
             ],
             [
              0.6274509803921569,
              "rgb(236,76,61)"
             ],
             [
              0.6901960784313725,
              "rgb(242,107,73)"
             ],
             [
              0.7529411764705882,
              "rgb(244,135,95)"
             ],
             [
              0.8156862745098039,
              "rgb(245,162,122)"
             ],
             [
              0.8784313725490196,
              "rgb(246,188,153)"
             ],
             [
              0.9411764705882353,
              "rgb(247,212,187)"
             ],
             [
              1,
              "rgb(250,234,220)"
             ]
            ],
            "type": "surface"
           }
          ],
          "table": [
           {
            "cells": {
             "fill": {
              "color": "rgb(231,231,240)"
             },
             "line": {
              "color": "white"
             }
            },
            "header": {
             "fill": {
              "color": "rgb(183,183,191)"
             },
             "line": {
              "color": "white"
             }
            },
            "type": "table"
           }
          ]
         },
         "layout": {
          "annotationdefaults": {
           "arrowcolor": "rgb(67,103,167)"
          },
          "autotypenumbers": "strict",
          "coloraxis": {
           "colorbar": {
            "outlinewidth": 0,
            "tickcolor": "rgb(36,36,36)",
            "ticklen": 8,
            "ticks": "outside",
            "tickwidth": 2
           }
          },
          "colorscale": {
           "sequential": [
            [
             0,
             "rgb(2,4,25)"
            ],
            [
             0.06274509803921569,
             "rgb(24,15,41)"
            ],
            [
             0.12549019607843137,
             "rgb(47,23,57)"
            ],
            [
             0.18823529411764706,
             "rgb(71,28,72)"
            ],
            [
             0.25098039215686274,
             "rgb(97,30,82)"
            ],
            [
             0.3137254901960784,
             "rgb(123,30,89)"
            ],
            [
             0.3764705882352941,
             "rgb(150,27,91)"
            ],
            [
             0.4392156862745098,
             "rgb(177,22,88)"
            ],
            [
             0.5019607843137255,
             "rgb(203,26,79)"
            ],
            [
             0.5647058823529412,
             "rgb(223,47,67)"
            ],
            [
             0.6274509803921569,
             "rgb(236,76,61)"
            ],
            [
             0.6901960784313725,
             "rgb(242,107,73)"
            ],
            [
             0.7529411764705882,
             "rgb(244,135,95)"
            ],
            [
             0.8156862745098039,
             "rgb(245,162,122)"
            ],
            [
             0.8784313725490196,
             "rgb(246,188,153)"
            ],
            [
             0.9411764705882353,
             "rgb(247,212,187)"
            ],
            [
             1,
             "rgb(250,234,220)"
            ]
           ],
           "sequentialminus": [
            [
             0,
             "rgb(2,4,25)"
            ],
            [
             0.06274509803921569,
             "rgb(24,15,41)"
            ],
            [
             0.12549019607843137,
             "rgb(47,23,57)"
            ],
            [
             0.18823529411764706,
             "rgb(71,28,72)"
            ],
            [
             0.25098039215686274,
             "rgb(97,30,82)"
            ],
            [
             0.3137254901960784,
             "rgb(123,30,89)"
            ],
            [
             0.3764705882352941,
             "rgb(150,27,91)"
            ],
            [
             0.4392156862745098,
             "rgb(177,22,88)"
            ],
            [
             0.5019607843137255,
             "rgb(203,26,79)"
            ],
            [
             0.5647058823529412,
             "rgb(223,47,67)"
            ],
            [
             0.6274509803921569,
             "rgb(236,76,61)"
            ],
            [
             0.6901960784313725,
             "rgb(242,107,73)"
            ],
            [
             0.7529411764705882,
             "rgb(244,135,95)"
            ],
            [
             0.8156862745098039,
             "rgb(245,162,122)"
            ],
            [
             0.8784313725490196,
             "rgb(246,188,153)"
            ],
            [
             0.9411764705882353,
             "rgb(247,212,187)"
            ],
            [
             1,
             "rgb(250,234,220)"
            ]
           ]
          },
          "colorway": [
           "rgb(76,114,176)",
           "rgb(221,132,82)",
           "rgb(85,168,104)",
           "rgb(196,78,82)",
           "rgb(129,114,179)",
           "rgb(147,120,96)",
           "rgb(218,139,195)",
           "rgb(140,140,140)",
           "rgb(204,185,116)",
           "rgb(100,181,205)"
          ],
          "font": {
           "color": "rgb(36,36,36)"
          },
          "geo": {
           "bgcolor": "white",
           "lakecolor": "white",
           "landcolor": "rgb(234,234,242)",
           "showlakes": true,
           "showland": true,
           "subunitcolor": "white"
          },
          "hoverlabel": {
           "align": "left"
          },
          "hovermode": "closest",
          "paper_bgcolor": "white",
          "plot_bgcolor": "rgb(234,234,242)",
          "polar": {
           "angularaxis": {
            "gridcolor": "white",
            "linecolor": "white",
            "showgrid": true,
            "ticks": ""
           },
           "bgcolor": "rgb(234,234,242)",
           "radialaxis": {
            "gridcolor": "white",
            "linecolor": "white",
            "showgrid": true,
            "ticks": ""
           }
          },
          "scene": {
           "xaxis": {
            "backgroundcolor": "rgb(234,234,242)",
            "gridcolor": "white",
            "gridwidth": 2,
            "linecolor": "white",
            "showbackground": true,
            "showgrid": true,
            "ticks": "",
            "zerolinecolor": "white"
           },
           "yaxis": {
            "backgroundcolor": "rgb(234,234,242)",
            "gridcolor": "white",
            "gridwidth": 2,
            "linecolor": "white",
            "showbackground": true,
            "showgrid": true,
            "ticks": "",
            "zerolinecolor": "white"
           },
           "zaxis": {
            "backgroundcolor": "rgb(234,234,242)",
            "gridcolor": "white",
            "gridwidth": 2,
            "linecolor": "white",
            "showbackground": true,
            "showgrid": true,
            "ticks": "",
            "zerolinecolor": "white"
           }
          },
          "shapedefaults": {
           "fillcolor": "rgb(67,103,167)",
           "line": {
            "width": 0
           },
           "opacity": 0.5
          },
          "ternary": {
           "aaxis": {
            "gridcolor": "white",
            "linecolor": "white",
            "showgrid": true,
            "ticks": ""
           },
           "baxis": {
            "gridcolor": "white",
            "linecolor": "white",
            "showgrid": true,
            "ticks": ""
           },
           "bgcolor": "rgb(234,234,242)",
           "caxis": {
            "gridcolor": "white",
            "linecolor": "white",
            "showgrid": true,
            "ticks": ""
           }
          },
          "xaxis": {
           "automargin": true,
           "gridcolor": "white",
           "linecolor": "white",
           "showgrid": true,
           "ticks": "",
           "title": {
            "standoff": 15
           },
           "zerolinecolor": "white"
          },
          "yaxis": {
           "automargin": true,
           "gridcolor": "white",
           "linecolor": "white",
           "showgrid": true,
           "ticks": "",
           "title": {
            "standoff": 15
           },
           "zerolinecolor": "white"
          }
         }
        },
        "title": {
         "text": "Oceania Race"
        },
        "xaxis": {
         "anchor": "y",
         "domain": [
          0,
          1
         ],
         "title": {
          "text": "year"
         }
        },
        "yaxis": {
         "anchor": "x",
         "domain": [
          0,
          1
         ],
         "title": {
          "text": "lifeExp"
         }
        }
       }
      },
      "text/html": [
       "<div>                            <div id=\"d6ab4121-3bff-4757-9371-8d42deb0ac1c\" class=\"plotly-graph-div\" style=\"height:525px; width:100%;\"></div>            <script type=\"text/javascript\">                require([\"plotly\"], function(Plotly) {                    window.PLOTLYENV=window.PLOTLYENV || {};                                    if (document.getElementById(\"d6ab4121-3bff-4757-9371-8d42deb0ac1c\")) {                    Plotly.newPlot(                        \"d6ab4121-3bff-4757-9371-8d42deb0ac1c\",                        [{\"hovertemplate\":\"country=Australia<br>year=%{x}<br>lifeExp=%{text}<extra></extra>\",\"legendgroup\":\"Australia\",\"line\":{\"color\":\"rgb(76,114,176)\",\"dash\":\"solid\"},\"marker\":{\"symbol\":\"circle\"},\"mode\":\"markers+text+lines\",\"name\":\"Australia\",\"orientation\":\"v\",\"showlegend\":true,\"text\":[69.12,70.33,70.93,71.1,71.93,73.49,74.74,76.32,77.56,78.83,80.37,81.235],\"textposition\":\"bottom right\",\"type\":\"scatter\",\"x\":[1952,1957,1962,1967,1972,1977,1982,1987,1992,1997,2002,2007],\"xaxis\":\"x\",\"y\":[69.12,70.33,70.93,71.1,71.93,73.49,74.74,76.32,77.56,78.83,80.37,81.235],\"yaxis\":\"y\"},{\"hovertemplate\":\"country=New Zealand<br>year=%{x}<br>lifeExp=%{text}<extra></extra>\",\"legendgroup\":\"New Zealand\",\"line\":{\"color\":\"rgb(221,132,82)\",\"dash\":\"solid\"},\"marker\":{\"symbol\":\"circle\"},\"mode\":\"markers+text+lines\",\"name\":\"New Zealand\",\"orientation\":\"v\",\"showlegend\":true,\"text\":[69.39,70.26,71.24,71.52,71.89,72.22,73.84,74.32,76.33,77.55,79.11,80.204],\"textposition\":\"bottom right\",\"type\":\"scatter\",\"x\":[1952,1957,1962,1967,1972,1977,1982,1987,1992,1997,2002,2007],\"xaxis\":\"x\",\"y\":[69.39,70.26,71.24,71.52,71.89,72.22,73.84,74.32,76.33,77.55,79.11,80.204],\"yaxis\":\"y\"}],                        {\"legend\":{\"title\":{\"text\":\"country\"},\"tracegroupgap\":0},\"margin\":{\"t\":60},\"template\":{\"data\":{\"bar\":[{\"error_x\":{\"color\":\"rgb(36,36,36)\"},\"error_y\":{\"color\":\"rgb(36,36,36)\"},\"marker\":{\"line\":{\"color\":\"rgb(234,234,242)\",\"width\":0.5},\"pattern\":{\"fillmode\":\"overlay\",\"size\":10,\"solidity\":0.2}},\"type\":\"bar\"}],\"barpolar\":[{\"marker\":{\"line\":{\"color\":\"rgb(234,234,242)\",\"width\":0.5},\"pattern\":{\"fillmode\":\"overlay\",\"size\":10,\"solidity\":0.2}},\"type\":\"barpolar\"}],\"carpet\":[{\"aaxis\":{\"endlinecolor\":\"rgb(36,36,36)\",\"gridcolor\":\"white\",\"linecolor\":\"white\",\"minorgridcolor\":\"white\",\"startlinecolor\":\"rgb(36,36,36)\"},\"baxis\":{\"endlinecolor\":\"rgb(36,36,36)\",\"gridcolor\":\"white\",\"linecolor\":\"white\",\"minorgridcolor\":\"white\",\"startlinecolor\":\"rgb(36,36,36)\"},\"type\":\"carpet\"}],\"choropleth\":[{\"colorbar\":{\"outlinewidth\":0,\"tickcolor\":\"rgb(36,36,36)\",\"ticklen\":8,\"ticks\":\"outside\",\"tickwidth\":2},\"type\":\"choropleth\"}],\"contour\":[{\"colorbar\":{\"outlinewidth\":0,\"tickcolor\":\"rgb(36,36,36)\",\"ticklen\":8,\"ticks\":\"outside\",\"tickwidth\":2},\"colorscale\":[[0.0,\"rgb(2,4,25)\"],[0.06274509803921569,\"rgb(24,15,41)\"],[0.12549019607843137,\"rgb(47,23,57)\"],[0.18823529411764706,\"rgb(71,28,72)\"],[0.25098039215686274,\"rgb(97,30,82)\"],[0.3137254901960784,\"rgb(123,30,89)\"],[0.3764705882352941,\"rgb(150,27,91)\"],[0.4392156862745098,\"rgb(177,22,88)\"],[0.5019607843137255,\"rgb(203,26,79)\"],[0.5647058823529412,\"rgb(223,47,67)\"],[0.6274509803921569,\"rgb(236,76,61)\"],[0.6901960784313725,\"rgb(242,107,73)\"],[0.7529411764705882,\"rgb(244,135,95)\"],[0.8156862745098039,\"rgb(245,162,122)\"],[0.8784313725490196,\"rgb(246,188,153)\"],[0.9411764705882353,\"rgb(247,212,187)\"],[1.0,\"rgb(250,234,220)\"]],\"type\":\"contour\"}],\"contourcarpet\":[{\"colorbar\":{\"outlinewidth\":0,\"tickcolor\":\"rgb(36,36,36)\",\"ticklen\":8,\"ticks\":\"outside\",\"tickwidth\":2},\"type\":\"contourcarpet\"}],\"heatmap\":[{\"colorbar\":{\"outlinewidth\":0,\"tickcolor\":\"rgb(36,36,36)\",\"ticklen\":8,\"ticks\":\"outside\",\"tickwidth\":2},\"colorscale\":[[0.0,\"rgb(2,4,25)\"],[0.06274509803921569,\"rgb(24,15,41)\"],[0.12549019607843137,\"rgb(47,23,57)\"],[0.18823529411764706,\"rgb(71,28,72)\"],[0.25098039215686274,\"rgb(97,30,82)\"],[0.3137254901960784,\"rgb(123,30,89)\"],[0.3764705882352941,\"rgb(150,27,91)\"],[0.4392156862745098,\"rgb(177,22,88)\"],[0.5019607843137255,\"rgb(203,26,79)\"],[0.5647058823529412,\"rgb(223,47,67)\"],[0.6274509803921569,\"rgb(236,76,61)\"],[0.6901960784313725,\"rgb(242,107,73)\"],[0.7529411764705882,\"rgb(244,135,95)\"],[0.8156862745098039,\"rgb(245,162,122)\"],[0.8784313725490196,\"rgb(246,188,153)\"],[0.9411764705882353,\"rgb(247,212,187)\"],[1.0,\"rgb(250,234,220)\"]],\"type\":\"heatmap\"}],\"heatmapgl\":[{\"colorbar\":{\"outlinewidth\":0,\"tickcolor\":\"rgb(36,36,36)\",\"ticklen\":8,\"ticks\":\"outside\",\"tickwidth\":2},\"colorscale\":[[0.0,\"rgb(2,4,25)\"],[0.06274509803921569,\"rgb(24,15,41)\"],[0.12549019607843137,\"rgb(47,23,57)\"],[0.18823529411764706,\"rgb(71,28,72)\"],[0.25098039215686274,\"rgb(97,30,82)\"],[0.3137254901960784,\"rgb(123,30,89)\"],[0.3764705882352941,\"rgb(150,27,91)\"],[0.4392156862745098,\"rgb(177,22,88)\"],[0.5019607843137255,\"rgb(203,26,79)\"],[0.5647058823529412,\"rgb(223,47,67)\"],[0.6274509803921569,\"rgb(236,76,61)\"],[0.6901960784313725,\"rgb(242,107,73)\"],[0.7529411764705882,\"rgb(244,135,95)\"],[0.8156862745098039,\"rgb(245,162,122)\"],[0.8784313725490196,\"rgb(246,188,153)\"],[0.9411764705882353,\"rgb(247,212,187)\"],[1.0,\"rgb(250,234,220)\"]],\"type\":\"heatmapgl\"}],\"histogram\":[{\"marker\":{\"pattern\":{\"fillmode\":\"overlay\",\"size\":10,\"solidity\":0.2}},\"type\":\"histogram\"}],\"histogram2d\":[{\"colorbar\":{\"outlinewidth\":0,\"tickcolor\":\"rgb(36,36,36)\",\"ticklen\":8,\"ticks\":\"outside\",\"tickwidth\":2},\"colorscale\":[[0.0,\"rgb(2,4,25)\"],[0.06274509803921569,\"rgb(24,15,41)\"],[0.12549019607843137,\"rgb(47,23,57)\"],[0.18823529411764706,\"rgb(71,28,72)\"],[0.25098039215686274,\"rgb(97,30,82)\"],[0.3137254901960784,\"rgb(123,30,89)\"],[0.3764705882352941,\"rgb(150,27,91)\"],[0.4392156862745098,\"rgb(177,22,88)\"],[0.5019607843137255,\"rgb(203,26,79)\"],[0.5647058823529412,\"rgb(223,47,67)\"],[0.6274509803921569,\"rgb(236,76,61)\"],[0.6901960784313725,\"rgb(242,107,73)\"],[0.7529411764705882,\"rgb(244,135,95)\"],[0.8156862745098039,\"rgb(245,162,122)\"],[0.8784313725490196,\"rgb(246,188,153)\"],[0.9411764705882353,\"rgb(247,212,187)\"],[1.0,\"rgb(250,234,220)\"]],\"type\":\"histogram2d\"}],\"histogram2dcontour\":[{\"colorbar\":{\"outlinewidth\":0,\"tickcolor\":\"rgb(36,36,36)\",\"ticklen\":8,\"ticks\":\"outside\",\"tickwidth\":2},\"colorscale\":[[0.0,\"rgb(2,4,25)\"],[0.06274509803921569,\"rgb(24,15,41)\"],[0.12549019607843137,\"rgb(47,23,57)\"],[0.18823529411764706,\"rgb(71,28,72)\"],[0.25098039215686274,\"rgb(97,30,82)\"],[0.3137254901960784,\"rgb(123,30,89)\"],[0.3764705882352941,\"rgb(150,27,91)\"],[0.4392156862745098,\"rgb(177,22,88)\"],[0.5019607843137255,\"rgb(203,26,79)\"],[0.5647058823529412,\"rgb(223,47,67)\"],[0.6274509803921569,\"rgb(236,76,61)\"],[0.6901960784313725,\"rgb(242,107,73)\"],[0.7529411764705882,\"rgb(244,135,95)\"],[0.8156862745098039,\"rgb(245,162,122)\"],[0.8784313725490196,\"rgb(246,188,153)\"],[0.9411764705882353,\"rgb(247,212,187)\"],[1.0,\"rgb(250,234,220)\"]],\"type\":\"histogram2dcontour\"}],\"mesh3d\":[{\"colorbar\":{\"outlinewidth\":0,\"tickcolor\":\"rgb(36,36,36)\",\"ticklen\":8,\"ticks\":\"outside\",\"tickwidth\":2},\"type\":\"mesh3d\"}],\"parcoords\":[{\"line\":{\"colorbar\":{\"outlinewidth\":0,\"tickcolor\":\"rgb(36,36,36)\",\"ticklen\":8,\"ticks\":\"outside\",\"tickwidth\":2}},\"type\":\"parcoords\"}],\"pie\":[{\"automargin\":true,\"type\":\"pie\"}],\"scatter\":[{\"marker\":{\"colorbar\":{\"outlinewidth\":0,\"tickcolor\":\"rgb(36,36,36)\",\"ticklen\":8,\"ticks\":\"outside\",\"tickwidth\":2}},\"type\":\"scatter\"}],\"scatter3d\":[{\"line\":{\"colorbar\":{\"outlinewidth\":0,\"tickcolor\":\"rgb(36,36,36)\",\"ticklen\":8,\"ticks\":\"outside\",\"tickwidth\":2}},\"marker\":{\"colorbar\":{\"outlinewidth\":0,\"tickcolor\":\"rgb(36,36,36)\",\"ticklen\":8,\"ticks\":\"outside\",\"tickwidth\":2}},\"type\":\"scatter3d\"}],\"scattercarpet\":[{\"marker\":{\"colorbar\":{\"outlinewidth\":0,\"tickcolor\":\"rgb(36,36,36)\",\"ticklen\":8,\"ticks\":\"outside\",\"tickwidth\":2}},\"type\":\"scattercarpet\"}],\"scattergeo\":[{\"marker\":{\"colorbar\":{\"outlinewidth\":0,\"tickcolor\":\"rgb(36,36,36)\",\"ticklen\":8,\"ticks\":\"outside\",\"tickwidth\":2}},\"type\":\"scattergeo\"}],\"scattergl\":[{\"marker\":{\"colorbar\":{\"outlinewidth\":0,\"tickcolor\":\"rgb(36,36,36)\",\"ticklen\":8,\"ticks\":\"outside\",\"tickwidth\":2}},\"type\":\"scattergl\"}],\"scattermapbox\":[{\"marker\":{\"colorbar\":{\"outlinewidth\":0,\"tickcolor\":\"rgb(36,36,36)\",\"ticklen\":8,\"ticks\":\"outside\",\"tickwidth\":2}},\"type\":\"scattermapbox\"}],\"scatterpolar\":[{\"marker\":{\"colorbar\":{\"outlinewidth\":0,\"tickcolor\":\"rgb(36,36,36)\",\"ticklen\":8,\"ticks\":\"outside\",\"tickwidth\":2}},\"type\":\"scatterpolar\"}],\"scatterpolargl\":[{\"marker\":{\"colorbar\":{\"outlinewidth\":0,\"tickcolor\":\"rgb(36,36,36)\",\"ticklen\":8,\"ticks\":\"outside\",\"tickwidth\":2}},\"type\":\"scatterpolargl\"}],\"scatterternary\":[{\"marker\":{\"colorbar\":{\"outlinewidth\":0,\"tickcolor\":\"rgb(36,36,36)\",\"ticklen\":8,\"ticks\":\"outside\",\"tickwidth\":2}},\"type\":\"scatterternary\"}],\"surface\":[{\"colorbar\":{\"outlinewidth\":0,\"tickcolor\":\"rgb(36,36,36)\",\"ticklen\":8,\"ticks\":\"outside\",\"tickwidth\":2},\"colorscale\":[[0.0,\"rgb(2,4,25)\"],[0.06274509803921569,\"rgb(24,15,41)\"],[0.12549019607843137,\"rgb(47,23,57)\"],[0.18823529411764706,\"rgb(71,28,72)\"],[0.25098039215686274,\"rgb(97,30,82)\"],[0.3137254901960784,\"rgb(123,30,89)\"],[0.3764705882352941,\"rgb(150,27,91)\"],[0.4392156862745098,\"rgb(177,22,88)\"],[0.5019607843137255,\"rgb(203,26,79)\"],[0.5647058823529412,\"rgb(223,47,67)\"],[0.6274509803921569,\"rgb(236,76,61)\"],[0.6901960784313725,\"rgb(242,107,73)\"],[0.7529411764705882,\"rgb(244,135,95)\"],[0.8156862745098039,\"rgb(245,162,122)\"],[0.8784313725490196,\"rgb(246,188,153)\"],[0.9411764705882353,\"rgb(247,212,187)\"],[1.0,\"rgb(250,234,220)\"]],\"type\":\"surface\"}],\"table\":[{\"cells\":{\"fill\":{\"color\":\"rgb(231,231,240)\"},\"line\":{\"color\":\"white\"}},\"header\":{\"fill\":{\"color\":\"rgb(183,183,191)\"},\"line\":{\"color\":\"white\"}},\"type\":\"table\"}]},\"layout\":{\"annotationdefaults\":{\"arrowcolor\":\"rgb(67,103,167)\"},\"autotypenumbers\":\"strict\",\"coloraxis\":{\"colorbar\":{\"outlinewidth\":0,\"tickcolor\":\"rgb(36,36,36)\",\"ticklen\":8,\"ticks\":\"outside\",\"tickwidth\":2}},\"colorscale\":{\"sequential\":[[0.0,\"rgb(2,4,25)\"],[0.06274509803921569,\"rgb(24,15,41)\"],[0.12549019607843137,\"rgb(47,23,57)\"],[0.18823529411764706,\"rgb(71,28,72)\"],[0.25098039215686274,\"rgb(97,30,82)\"],[0.3137254901960784,\"rgb(123,30,89)\"],[0.3764705882352941,\"rgb(150,27,91)\"],[0.4392156862745098,\"rgb(177,22,88)\"],[0.5019607843137255,\"rgb(203,26,79)\"],[0.5647058823529412,\"rgb(223,47,67)\"],[0.6274509803921569,\"rgb(236,76,61)\"],[0.6901960784313725,\"rgb(242,107,73)\"],[0.7529411764705882,\"rgb(244,135,95)\"],[0.8156862745098039,\"rgb(245,162,122)\"],[0.8784313725490196,\"rgb(246,188,153)\"],[0.9411764705882353,\"rgb(247,212,187)\"],[1.0,\"rgb(250,234,220)\"]],\"sequentialminus\":[[0.0,\"rgb(2,4,25)\"],[0.06274509803921569,\"rgb(24,15,41)\"],[0.12549019607843137,\"rgb(47,23,57)\"],[0.18823529411764706,\"rgb(71,28,72)\"],[0.25098039215686274,\"rgb(97,30,82)\"],[0.3137254901960784,\"rgb(123,30,89)\"],[0.3764705882352941,\"rgb(150,27,91)\"],[0.4392156862745098,\"rgb(177,22,88)\"],[0.5019607843137255,\"rgb(203,26,79)\"],[0.5647058823529412,\"rgb(223,47,67)\"],[0.6274509803921569,\"rgb(236,76,61)\"],[0.6901960784313725,\"rgb(242,107,73)\"],[0.7529411764705882,\"rgb(244,135,95)\"],[0.8156862745098039,\"rgb(245,162,122)\"],[0.8784313725490196,\"rgb(246,188,153)\"],[0.9411764705882353,\"rgb(247,212,187)\"],[1.0,\"rgb(250,234,220)\"]]},\"colorway\":[\"rgb(76,114,176)\",\"rgb(221,132,82)\",\"rgb(85,168,104)\",\"rgb(196,78,82)\",\"rgb(129,114,179)\",\"rgb(147,120,96)\",\"rgb(218,139,195)\",\"rgb(140,140,140)\",\"rgb(204,185,116)\",\"rgb(100,181,205)\"],\"font\":{\"color\":\"rgb(36,36,36)\"},\"geo\":{\"bgcolor\":\"white\",\"lakecolor\":\"white\",\"landcolor\":\"rgb(234,234,242)\",\"showlakes\":true,\"showland\":true,\"subunitcolor\":\"white\"},\"hoverlabel\":{\"align\":\"left\"},\"hovermode\":\"closest\",\"paper_bgcolor\":\"white\",\"plot_bgcolor\":\"rgb(234,234,242)\",\"polar\":{\"angularaxis\":{\"gridcolor\":\"white\",\"linecolor\":\"white\",\"showgrid\":true,\"ticks\":\"\"},\"bgcolor\":\"rgb(234,234,242)\",\"radialaxis\":{\"gridcolor\":\"white\",\"linecolor\":\"white\",\"showgrid\":true,\"ticks\":\"\"}},\"scene\":{\"xaxis\":{\"backgroundcolor\":\"rgb(234,234,242)\",\"gridcolor\":\"white\",\"gridwidth\":2,\"linecolor\":\"white\",\"showbackground\":true,\"showgrid\":true,\"ticks\":\"\",\"zerolinecolor\":\"white\"},\"yaxis\":{\"backgroundcolor\":\"rgb(234,234,242)\",\"gridcolor\":\"white\",\"gridwidth\":2,\"linecolor\":\"white\",\"showbackground\":true,\"showgrid\":true,\"ticks\":\"\",\"zerolinecolor\":\"white\"},\"zaxis\":{\"backgroundcolor\":\"rgb(234,234,242)\",\"gridcolor\":\"white\",\"gridwidth\":2,\"linecolor\":\"white\",\"showbackground\":true,\"showgrid\":true,\"ticks\":\"\",\"zerolinecolor\":\"white\"}},\"shapedefaults\":{\"fillcolor\":\"rgb(67,103,167)\",\"line\":{\"width\":0},\"opacity\":0.5},\"ternary\":{\"aaxis\":{\"gridcolor\":\"white\",\"linecolor\":\"white\",\"showgrid\":true,\"ticks\":\"\"},\"baxis\":{\"gridcolor\":\"white\",\"linecolor\":\"white\",\"showgrid\":true,\"ticks\":\"\"},\"bgcolor\":\"rgb(234,234,242)\",\"caxis\":{\"gridcolor\":\"white\",\"linecolor\":\"white\",\"showgrid\":true,\"ticks\":\"\"}},\"xaxis\":{\"automargin\":true,\"gridcolor\":\"white\",\"linecolor\":\"white\",\"showgrid\":true,\"ticks\":\"\",\"title\":{\"standoff\":15},\"zerolinecolor\":\"white\"},\"yaxis\":{\"automargin\":true,\"gridcolor\":\"white\",\"linecolor\":\"white\",\"showgrid\":true,\"ticks\":\"\",\"title\":{\"standoff\":15},\"zerolinecolor\":\"white\"}}},\"title\":{\"text\":\"Oceania Race\"},\"xaxis\":{\"anchor\":\"y\",\"domain\":[0.0,1.0],\"title\":{\"text\":\"year\"}},\"yaxis\":{\"anchor\":\"x\",\"domain\":[0.0,1.0],\"title\":{\"text\":\"lifeExp\"}}},                        {\"responsive\": true}                    ).then(function(){\n",
       "                            \n",
       "var gd = document.getElementById('d6ab4121-3bff-4757-9371-8d42deb0ac1c');\n",
       "var x = new MutationObserver(function (mutations, observer) {{\n",
       "        var display = window.getComputedStyle(gd).display;\n",
       "        if (!display || display === 'none') {{\n",
       "            console.log([gd, 'removed!']);\n",
       "            Plotly.purge(gd);\n",
       "            observer.disconnect();\n",
       "        }}\n",
       "}});\n",
       "\n",
       "// Listen for the removal of the full notebook cells\n",
       "var notebookContainer = gd.closest('#notebook-container');\n",
       "if (notebookContainer) {{\n",
       "    x.observe(notebookContainer, {childList: true});\n",
       "}}\n",
       "\n",
       "// Listen for the clearing of the current output cell\n",
       "var outputEl = gd.closest('.output');\n",
       "if (outputEl) {{\n",
       "    x.observe(outputEl, {childList: true});\n",
       "}}\n",
       "\n",
       "                        })                };                });            </script>        </div>"
      ]
     },
     "metadata": {},
     "output_type": "display_data"
    }
   ],
   "source": [
    "# https://plotly.com/python/line-charts/\n",
    "df = df_[df_.continent == 'Oceania']\n",
    "fig = px.line(df, x='year', y='lifeExp', color='country', text='lifeExp', template='seaborn')\n",
    "\n",
    "# https://plotly.com/python/reference/index/\n",
    "fig.update_traces(textposition='bottom right')\n",
    "fig.update_layout(title='Oceania Race')\n",
    "fig.show()"
   ]
  },
  {
   "cell_type": "code",
   "execution_count": null,
   "id": "bcbd2db9",
   "metadata": {},
   "outputs": [],
   "source": []
  },
  {
   "cell_type": "code",
   "execution_count": null,
   "id": "cc450647",
   "metadata": {},
   "outputs": [],
   "source": []
  },
  {
   "cell_type": "code",
   "execution_count": null,
   "id": "f15ec39f",
   "metadata": {},
   "outputs": [],
   "source": []
  },
  {
   "cell_type": "markdown",
   "id": "1abc5f8d",
   "metadata": {},
   "source": [
    "### Bar Chart\n"
   ]
  },
  {
   "cell_type": "code",
   "execution_count": 9,
   "id": "baef1e68",
   "metadata": {},
   "outputs": [
    {
     "data": {
      "application/vnd.plotly.v1+json": {
       "config": {
        "plotlyServerURL": "https://plot.ly"
       },
       "data": [
        {
         "alignmentgroup": "True",
         "hovertemplate": "year=%{x}<br>pop=%{y}<extra></extra>",
         "legendgroup": "",
         "marker": {
          "color": "#636efa",
          "pattern": {
           "shape": ""
          }
         },
         "name": "",
         "offsetgroup": "",
         "orientation": "v",
         "showlegend": false,
         "textposition": "auto",
         "type": "bar",
         "x": [
          1952,
          1957,
          1962,
          1967,
          1972,
          1977,
          1982,
          1987,
          1992,
          1997,
          2002,
          2007
         ],
         "xaxis": "x",
         "y": [
          157553000,
          171984000,
          186538000,
          198712000,
          209896000,
          220239000,
          232187835,
          242803533,
          256894189,
          272911760,
          287675526,
          301139947
         ],
         "yaxis": "y"
        }
       ],
       "layout": {
        "barmode": "relative",
        "legend": {
         "tracegroupgap": 0
        },
        "margin": {
         "t": 60
        },
        "template": {
         "data": {
          "bar": [
           {
            "error_x": {
             "color": "#2a3f5f"
            },
            "error_y": {
             "color": "#2a3f5f"
            },
            "marker": {
             "line": {
              "color": "#E5ECF6",
              "width": 0.5
             },
             "pattern": {
              "fillmode": "overlay",
              "size": 10,
              "solidity": 0.2
             }
            },
            "type": "bar"
           }
          ],
          "barpolar": [
           {
            "marker": {
             "line": {
              "color": "#E5ECF6",
              "width": 0.5
             },
             "pattern": {
              "fillmode": "overlay",
              "size": 10,
              "solidity": 0.2
             }
            },
            "type": "barpolar"
           }
          ],
          "carpet": [
           {
            "aaxis": {
             "endlinecolor": "#2a3f5f",
             "gridcolor": "white",
             "linecolor": "white",
             "minorgridcolor": "white",
             "startlinecolor": "#2a3f5f"
            },
            "baxis": {
             "endlinecolor": "#2a3f5f",
             "gridcolor": "white",
             "linecolor": "white",
             "minorgridcolor": "white",
             "startlinecolor": "#2a3f5f"
            },
            "type": "carpet"
           }
          ],
          "choropleth": [
           {
            "colorbar": {
             "outlinewidth": 0,
             "ticks": ""
            },
            "type": "choropleth"
           }
          ],
          "contour": [
           {
            "colorbar": {
             "outlinewidth": 0,
             "ticks": ""
            },
            "colorscale": [
             [
              0,
              "#0d0887"
             ],
             [
              0.1111111111111111,
              "#46039f"
             ],
             [
              0.2222222222222222,
              "#7201a8"
             ],
             [
              0.3333333333333333,
              "#9c179e"
             ],
             [
              0.4444444444444444,
              "#bd3786"
             ],
             [
              0.5555555555555556,
              "#d8576b"
             ],
             [
              0.6666666666666666,
              "#ed7953"
             ],
             [
              0.7777777777777778,
              "#fb9f3a"
             ],
             [
              0.8888888888888888,
              "#fdca26"
             ],
             [
              1,
              "#f0f921"
             ]
            ],
            "type": "contour"
           }
          ],
          "contourcarpet": [
           {
            "colorbar": {
             "outlinewidth": 0,
             "ticks": ""
            },
            "type": "contourcarpet"
           }
          ],
          "heatmap": [
           {
            "colorbar": {
             "outlinewidth": 0,
             "ticks": ""
            },
            "colorscale": [
             [
              0,
              "#0d0887"
             ],
             [
              0.1111111111111111,
              "#46039f"
             ],
             [
              0.2222222222222222,
              "#7201a8"
             ],
             [
              0.3333333333333333,
              "#9c179e"
             ],
             [
              0.4444444444444444,
              "#bd3786"
             ],
             [
              0.5555555555555556,
              "#d8576b"
             ],
             [
              0.6666666666666666,
              "#ed7953"
             ],
             [
              0.7777777777777778,
              "#fb9f3a"
             ],
             [
              0.8888888888888888,
              "#fdca26"
             ],
             [
              1,
              "#f0f921"
             ]
            ],
            "type": "heatmap"
           }
          ],
          "heatmapgl": [
           {
            "colorbar": {
             "outlinewidth": 0,
             "ticks": ""
            },
            "colorscale": [
             [
              0,
              "#0d0887"
             ],
             [
              0.1111111111111111,
              "#46039f"
             ],
             [
              0.2222222222222222,
              "#7201a8"
             ],
             [
              0.3333333333333333,
              "#9c179e"
             ],
             [
              0.4444444444444444,
              "#bd3786"
             ],
             [
              0.5555555555555556,
              "#d8576b"
             ],
             [
              0.6666666666666666,
              "#ed7953"
             ],
             [
              0.7777777777777778,
              "#fb9f3a"
             ],
             [
              0.8888888888888888,
              "#fdca26"
             ],
             [
              1,
              "#f0f921"
             ]
            ],
            "type": "heatmapgl"
           }
          ],
          "histogram": [
           {
            "marker": {
             "pattern": {
              "fillmode": "overlay",
              "size": 10,
              "solidity": 0.2
             }
            },
            "type": "histogram"
           }
          ],
          "histogram2d": [
           {
            "colorbar": {
             "outlinewidth": 0,
             "ticks": ""
            },
            "colorscale": [
             [
              0,
              "#0d0887"
             ],
             [
              0.1111111111111111,
              "#46039f"
             ],
             [
              0.2222222222222222,
              "#7201a8"
             ],
             [
              0.3333333333333333,
              "#9c179e"
             ],
             [
              0.4444444444444444,
              "#bd3786"
             ],
             [
              0.5555555555555556,
              "#d8576b"
             ],
             [
              0.6666666666666666,
              "#ed7953"
             ],
             [
              0.7777777777777778,
              "#fb9f3a"
             ],
             [
              0.8888888888888888,
              "#fdca26"
             ],
             [
              1,
              "#f0f921"
             ]
            ],
            "type": "histogram2d"
           }
          ],
          "histogram2dcontour": [
           {
            "colorbar": {
             "outlinewidth": 0,
             "ticks": ""
            },
            "colorscale": [
             [
              0,
              "#0d0887"
             ],
             [
              0.1111111111111111,
              "#46039f"
             ],
             [
              0.2222222222222222,
              "#7201a8"
             ],
             [
              0.3333333333333333,
              "#9c179e"
             ],
             [
              0.4444444444444444,
              "#bd3786"
             ],
             [
              0.5555555555555556,
              "#d8576b"
             ],
             [
              0.6666666666666666,
              "#ed7953"
             ],
             [
              0.7777777777777778,
              "#fb9f3a"
             ],
             [
              0.8888888888888888,
              "#fdca26"
             ],
             [
              1,
              "#f0f921"
             ]
            ],
            "type": "histogram2dcontour"
           }
          ],
          "mesh3d": [
           {
            "colorbar": {
             "outlinewidth": 0,
             "ticks": ""
            },
            "type": "mesh3d"
           }
          ],
          "parcoords": [
           {
            "line": {
             "colorbar": {
              "outlinewidth": 0,
              "ticks": ""
             }
            },
            "type": "parcoords"
           }
          ],
          "pie": [
           {
            "automargin": true,
            "type": "pie"
           }
          ],
          "scatter": [
           {
            "marker": {
             "colorbar": {
              "outlinewidth": 0,
              "ticks": ""
             }
            },
            "type": "scatter"
           }
          ],
          "scatter3d": [
           {
            "line": {
             "colorbar": {
              "outlinewidth": 0,
              "ticks": ""
             }
            },
            "marker": {
             "colorbar": {
              "outlinewidth": 0,
              "ticks": ""
             }
            },
            "type": "scatter3d"
           }
          ],
          "scattercarpet": [
           {
            "marker": {
             "colorbar": {
              "outlinewidth": 0,
              "ticks": ""
             }
            },
            "type": "scattercarpet"
           }
          ],
          "scattergeo": [
           {
            "marker": {
             "colorbar": {
              "outlinewidth": 0,
              "ticks": ""
             }
            },
            "type": "scattergeo"
           }
          ],
          "scattergl": [
           {
            "marker": {
             "colorbar": {
              "outlinewidth": 0,
              "ticks": ""
             }
            },
            "type": "scattergl"
           }
          ],
          "scattermapbox": [
           {
            "marker": {
             "colorbar": {
              "outlinewidth": 0,
              "ticks": ""
             }
            },
            "type": "scattermapbox"
           }
          ],
          "scatterpolar": [
           {
            "marker": {
             "colorbar": {
              "outlinewidth": 0,
              "ticks": ""
             }
            },
            "type": "scatterpolar"
           }
          ],
          "scatterpolargl": [
           {
            "marker": {
             "colorbar": {
              "outlinewidth": 0,
              "ticks": ""
             }
            },
            "type": "scatterpolargl"
           }
          ],
          "scatterternary": [
           {
            "marker": {
             "colorbar": {
              "outlinewidth": 0,
              "ticks": ""
             }
            },
            "type": "scatterternary"
           }
          ],
          "surface": [
           {
            "colorbar": {
             "outlinewidth": 0,
             "ticks": ""
            },
            "colorscale": [
             [
              0,
              "#0d0887"
             ],
             [
              0.1111111111111111,
              "#46039f"
             ],
             [
              0.2222222222222222,
              "#7201a8"
             ],
             [
              0.3333333333333333,
              "#9c179e"
             ],
             [
              0.4444444444444444,
              "#bd3786"
             ],
             [
              0.5555555555555556,
              "#d8576b"
             ],
             [
              0.6666666666666666,
              "#ed7953"
             ],
             [
              0.7777777777777778,
              "#fb9f3a"
             ],
             [
              0.8888888888888888,
              "#fdca26"
             ],
             [
              1,
              "#f0f921"
             ]
            ],
            "type": "surface"
           }
          ],
          "table": [
           {
            "cells": {
             "fill": {
              "color": "#EBF0F8"
             },
             "line": {
              "color": "white"
             }
            },
            "header": {
             "fill": {
              "color": "#C8D4E3"
             },
             "line": {
              "color": "white"
             }
            },
            "type": "table"
           }
          ]
         },
         "layout": {
          "annotationdefaults": {
           "arrowcolor": "#2a3f5f",
           "arrowhead": 0,
           "arrowwidth": 1
          },
          "autotypenumbers": "strict",
          "coloraxis": {
           "colorbar": {
            "outlinewidth": 0,
            "ticks": ""
           }
          },
          "colorscale": {
           "diverging": [
            [
             0,
             "#8e0152"
            ],
            [
             0.1,
             "#c51b7d"
            ],
            [
             0.2,
             "#de77ae"
            ],
            [
             0.3,
             "#f1b6da"
            ],
            [
             0.4,
             "#fde0ef"
            ],
            [
             0.5,
             "#f7f7f7"
            ],
            [
             0.6,
             "#e6f5d0"
            ],
            [
             0.7,
             "#b8e186"
            ],
            [
             0.8,
             "#7fbc41"
            ],
            [
             0.9,
             "#4d9221"
            ],
            [
             1,
             "#276419"
            ]
           ],
           "sequential": [
            [
             0,
             "#0d0887"
            ],
            [
             0.1111111111111111,
             "#46039f"
            ],
            [
             0.2222222222222222,
             "#7201a8"
            ],
            [
             0.3333333333333333,
             "#9c179e"
            ],
            [
             0.4444444444444444,
             "#bd3786"
            ],
            [
             0.5555555555555556,
             "#d8576b"
            ],
            [
             0.6666666666666666,
             "#ed7953"
            ],
            [
             0.7777777777777778,
             "#fb9f3a"
            ],
            [
             0.8888888888888888,
             "#fdca26"
            ],
            [
             1,
             "#f0f921"
            ]
           ],
           "sequentialminus": [
            [
             0,
             "#0d0887"
            ],
            [
             0.1111111111111111,
             "#46039f"
            ],
            [
             0.2222222222222222,
             "#7201a8"
            ],
            [
             0.3333333333333333,
             "#9c179e"
            ],
            [
             0.4444444444444444,
             "#bd3786"
            ],
            [
             0.5555555555555556,
             "#d8576b"
            ],
            [
             0.6666666666666666,
             "#ed7953"
            ],
            [
             0.7777777777777778,
             "#fb9f3a"
            ],
            [
             0.8888888888888888,
             "#fdca26"
            ],
            [
             1,
             "#f0f921"
            ]
           ]
          },
          "colorway": [
           "#636efa",
           "#EF553B",
           "#00cc96",
           "#ab63fa",
           "#FFA15A",
           "#19d3f3",
           "#FF6692",
           "#B6E880",
           "#FF97FF",
           "#FECB52"
          ],
          "font": {
           "color": "#2a3f5f"
          },
          "geo": {
           "bgcolor": "white",
           "lakecolor": "white",
           "landcolor": "#E5ECF6",
           "showlakes": true,
           "showland": true,
           "subunitcolor": "white"
          },
          "hoverlabel": {
           "align": "left"
          },
          "hovermode": "closest",
          "mapbox": {
           "style": "light"
          },
          "paper_bgcolor": "white",
          "plot_bgcolor": "#E5ECF6",
          "polar": {
           "angularaxis": {
            "gridcolor": "white",
            "linecolor": "white",
            "ticks": ""
           },
           "bgcolor": "#E5ECF6",
           "radialaxis": {
            "gridcolor": "white",
            "linecolor": "white",
            "ticks": ""
           }
          },
          "scene": {
           "xaxis": {
            "backgroundcolor": "#E5ECF6",
            "gridcolor": "white",
            "gridwidth": 2,
            "linecolor": "white",
            "showbackground": true,
            "ticks": "",
            "zerolinecolor": "white"
           },
           "yaxis": {
            "backgroundcolor": "#E5ECF6",
            "gridcolor": "white",
            "gridwidth": 2,
            "linecolor": "white",
            "showbackground": true,
            "ticks": "",
            "zerolinecolor": "white"
           },
           "zaxis": {
            "backgroundcolor": "#E5ECF6",
            "gridcolor": "white",
            "gridwidth": 2,
            "linecolor": "white",
            "showbackground": true,
            "ticks": "",
            "zerolinecolor": "white"
           }
          },
          "shapedefaults": {
           "line": {
            "color": "#2a3f5f"
           }
          },
          "ternary": {
           "aaxis": {
            "gridcolor": "white",
            "linecolor": "white",
            "ticks": ""
           },
           "baxis": {
            "gridcolor": "white",
            "linecolor": "white",
            "ticks": ""
           },
           "bgcolor": "#E5ECF6",
           "caxis": {
            "gridcolor": "white",
            "linecolor": "white",
            "ticks": ""
           }
          },
          "title": {
           "x": 0.05
          },
          "xaxis": {
           "automargin": true,
           "gridcolor": "white",
           "linecolor": "white",
           "ticks": "",
           "title": {
            "standoff": 15
           },
           "zerolinecolor": "white",
           "zerolinewidth": 2
          },
          "yaxis": {
           "automargin": true,
           "gridcolor": "white",
           "linecolor": "white",
           "ticks": "",
           "title": {
            "standoff": 15
           },
           "zerolinecolor": "white",
           "zerolinewidth": 2
          }
         }
        },
        "xaxis": {
         "anchor": "y",
         "domain": [
          0,
          1
         ],
         "title": {
          "text": "year"
         }
        },
        "yaxis": {
         "anchor": "x",
         "domain": [
          0,
          1
         ],
         "title": {
          "text": "pop"
         }
        }
       }
      },
      "text/html": [
       "<div>                            <div id=\"e0a88e2e-84f0-42d4-9d5b-30525a34068c\" class=\"plotly-graph-div\" style=\"height:525px; width:100%;\"></div>            <script type=\"text/javascript\">                require([\"plotly\"], function(Plotly) {                    window.PLOTLYENV=window.PLOTLYENV || {};                                    if (document.getElementById(\"e0a88e2e-84f0-42d4-9d5b-30525a34068c\")) {                    Plotly.newPlot(                        \"e0a88e2e-84f0-42d4-9d5b-30525a34068c\",                        [{\"alignmentgroup\":\"True\",\"hovertemplate\":\"year=%{x}<br>pop=%{y}<extra></extra>\",\"legendgroup\":\"\",\"marker\":{\"color\":\"#636efa\",\"pattern\":{\"shape\":\"\"}},\"name\":\"\",\"offsetgroup\":\"\",\"orientation\":\"v\",\"showlegend\":false,\"textposition\":\"auto\",\"type\":\"bar\",\"x\":[1952,1957,1962,1967,1972,1977,1982,1987,1992,1997,2002,2007],\"xaxis\":\"x\",\"y\":[157553000,171984000,186538000,198712000,209896000,220239000,232187835,242803533,256894189,272911760,287675526,301139947],\"yaxis\":\"y\"}],                        {\"barmode\":\"relative\",\"legend\":{\"tracegroupgap\":0},\"margin\":{\"t\":60},\"template\":{\"data\":{\"bar\":[{\"error_x\":{\"color\":\"#2a3f5f\"},\"error_y\":{\"color\":\"#2a3f5f\"},\"marker\":{\"line\":{\"color\":\"#E5ECF6\",\"width\":0.5},\"pattern\":{\"fillmode\":\"overlay\",\"size\":10,\"solidity\":0.2}},\"type\":\"bar\"}],\"barpolar\":[{\"marker\":{\"line\":{\"color\":\"#E5ECF6\",\"width\":0.5},\"pattern\":{\"fillmode\":\"overlay\",\"size\":10,\"solidity\":0.2}},\"type\":\"barpolar\"}],\"carpet\":[{\"aaxis\":{\"endlinecolor\":\"#2a3f5f\",\"gridcolor\":\"white\",\"linecolor\":\"white\",\"minorgridcolor\":\"white\",\"startlinecolor\":\"#2a3f5f\"},\"baxis\":{\"endlinecolor\":\"#2a3f5f\",\"gridcolor\":\"white\",\"linecolor\":\"white\",\"minorgridcolor\":\"white\",\"startlinecolor\":\"#2a3f5f\"},\"type\":\"carpet\"}],\"choropleth\":[{\"colorbar\":{\"outlinewidth\":0,\"ticks\":\"\"},\"type\":\"choropleth\"}],\"contour\":[{\"colorbar\":{\"outlinewidth\":0,\"ticks\":\"\"},\"colorscale\":[[0.0,\"#0d0887\"],[0.1111111111111111,\"#46039f\"],[0.2222222222222222,\"#7201a8\"],[0.3333333333333333,\"#9c179e\"],[0.4444444444444444,\"#bd3786\"],[0.5555555555555556,\"#d8576b\"],[0.6666666666666666,\"#ed7953\"],[0.7777777777777778,\"#fb9f3a\"],[0.8888888888888888,\"#fdca26\"],[1.0,\"#f0f921\"]],\"type\":\"contour\"}],\"contourcarpet\":[{\"colorbar\":{\"outlinewidth\":0,\"ticks\":\"\"},\"type\":\"contourcarpet\"}],\"heatmap\":[{\"colorbar\":{\"outlinewidth\":0,\"ticks\":\"\"},\"colorscale\":[[0.0,\"#0d0887\"],[0.1111111111111111,\"#46039f\"],[0.2222222222222222,\"#7201a8\"],[0.3333333333333333,\"#9c179e\"],[0.4444444444444444,\"#bd3786\"],[0.5555555555555556,\"#d8576b\"],[0.6666666666666666,\"#ed7953\"],[0.7777777777777778,\"#fb9f3a\"],[0.8888888888888888,\"#fdca26\"],[1.0,\"#f0f921\"]],\"type\":\"heatmap\"}],\"heatmapgl\":[{\"colorbar\":{\"outlinewidth\":0,\"ticks\":\"\"},\"colorscale\":[[0.0,\"#0d0887\"],[0.1111111111111111,\"#46039f\"],[0.2222222222222222,\"#7201a8\"],[0.3333333333333333,\"#9c179e\"],[0.4444444444444444,\"#bd3786\"],[0.5555555555555556,\"#d8576b\"],[0.6666666666666666,\"#ed7953\"],[0.7777777777777778,\"#fb9f3a\"],[0.8888888888888888,\"#fdca26\"],[1.0,\"#f0f921\"]],\"type\":\"heatmapgl\"}],\"histogram\":[{\"marker\":{\"pattern\":{\"fillmode\":\"overlay\",\"size\":10,\"solidity\":0.2}},\"type\":\"histogram\"}],\"histogram2d\":[{\"colorbar\":{\"outlinewidth\":0,\"ticks\":\"\"},\"colorscale\":[[0.0,\"#0d0887\"],[0.1111111111111111,\"#46039f\"],[0.2222222222222222,\"#7201a8\"],[0.3333333333333333,\"#9c179e\"],[0.4444444444444444,\"#bd3786\"],[0.5555555555555556,\"#d8576b\"],[0.6666666666666666,\"#ed7953\"],[0.7777777777777778,\"#fb9f3a\"],[0.8888888888888888,\"#fdca26\"],[1.0,\"#f0f921\"]],\"type\":\"histogram2d\"}],\"histogram2dcontour\":[{\"colorbar\":{\"outlinewidth\":0,\"ticks\":\"\"},\"colorscale\":[[0.0,\"#0d0887\"],[0.1111111111111111,\"#46039f\"],[0.2222222222222222,\"#7201a8\"],[0.3333333333333333,\"#9c179e\"],[0.4444444444444444,\"#bd3786\"],[0.5555555555555556,\"#d8576b\"],[0.6666666666666666,\"#ed7953\"],[0.7777777777777778,\"#fb9f3a\"],[0.8888888888888888,\"#fdca26\"],[1.0,\"#f0f921\"]],\"type\":\"histogram2dcontour\"}],\"mesh3d\":[{\"colorbar\":{\"outlinewidth\":0,\"ticks\":\"\"},\"type\":\"mesh3d\"}],\"parcoords\":[{\"line\":{\"colorbar\":{\"outlinewidth\":0,\"ticks\":\"\"}},\"type\":\"parcoords\"}],\"pie\":[{\"automargin\":true,\"type\":\"pie\"}],\"scatter\":[{\"marker\":{\"colorbar\":{\"outlinewidth\":0,\"ticks\":\"\"}},\"type\":\"scatter\"}],\"scatter3d\":[{\"line\":{\"colorbar\":{\"outlinewidth\":0,\"ticks\":\"\"}},\"marker\":{\"colorbar\":{\"outlinewidth\":0,\"ticks\":\"\"}},\"type\":\"scatter3d\"}],\"scattercarpet\":[{\"marker\":{\"colorbar\":{\"outlinewidth\":0,\"ticks\":\"\"}},\"type\":\"scattercarpet\"}],\"scattergeo\":[{\"marker\":{\"colorbar\":{\"outlinewidth\":0,\"ticks\":\"\"}},\"type\":\"scattergeo\"}],\"scattergl\":[{\"marker\":{\"colorbar\":{\"outlinewidth\":0,\"ticks\":\"\"}},\"type\":\"scattergl\"}],\"scattermapbox\":[{\"marker\":{\"colorbar\":{\"outlinewidth\":0,\"ticks\":\"\"}},\"type\":\"scattermapbox\"}],\"scatterpolar\":[{\"marker\":{\"colorbar\":{\"outlinewidth\":0,\"ticks\":\"\"}},\"type\":\"scatterpolar\"}],\"scatterpolargl\":[{\"marker\":{\"colorbar\":{\"outlinewidth\":0,\"ticks\":\"\"}},\"type\":\"scatterpolargl\"}],\"scatterternary\":[{\"marker\":{\"colorbar\":{\"outlinewidth\":0,\"ticks\":\"\"}},\"type\":\"scatterternary\"}],\"surface\":[{\"colorbar\":{\"outlinewidth\":0,\"ticks\":\"\"},\"colorscale\":[[0.0,\"#0d0887\"],[0.1111111111111111,\"#46039f\"],[0.2222222222222222,\"#7201a8\"],[0.3333333333333333,\"#9c179e\"],[0.4444444444444444,\"#bd3786\"],[0.5555555555555556,\"#d8576b\"],[0.6666666666666666,\"#ed7953\"],[0.7777777777777778,\"#fb9f3a\"],[0.8888888888888888,\"#fdca26\"],[1.0,\"#f0f921\"]],\"type\":\"surface\"}],\"table\":[{\"cells\":{\"fill\":{\"color\":\"#EBF0F8\"},\"line\":{\"color\":\"white\"}},\"header\":{\"fill\":{\"color\":\"#C8D4E3\"},\"line\":{\"color\":\"white\"}},\"type\":\"table\"}]},\"layout\":{\"annotationdefaults\":{\"arrowcolor\":\"#2a3f5f\",\"arrowhead\":0,\"arrowwidth\":1},\"autotypenumbers\":\"strict\",\"coloraxis\":{\"colorbar\":{\"outlinewidth\":0,\"ticks\":\"\"}},\"colorscale\":{\"diverging\":[[0,\"#8e0152\"],[0.1,\"#c51b7d\"],[0.2,\"#de77ae\"],[0.3,\"#f1b6da\"],[0.4,\"#fde0ef\"],[0.5,\"#f7f7f7\"],[0.6,\"#e6f5d0\"],[0.7,\"#b8e186\"],[0.8,\"#7fbc41\"],[0.9,\"#4d9221\"],[1,\"#276419\"]],\"sequential\":[[0.0,\"#0d0887\"],[0.1111111111111111,\"#46039f\"],[0.2222222222222222,\"#7201a8\"],[0.3333333333333333,\"#9c179e\"],[0.4444444444444444,\"#bd3786\"],[0.5555555555555556,\"#d8576b\"],[0.6666666666666666,\"#ed7953\"],[0.7777777777777778,\"#fb9f3a\"],[0.8888888888888888,\"#fdca26\"],[1.0,\"#f0f921\"]],\"sequentialminus\":[[0.0,\"#0d0887\"],[0.1111111111111111,\"#46039f\"],[0.2222222222222222,\"#7201a8\"],[0.3333333333333333,\"#9c179e\"],[0.4444444444444444,\"#bd3786\"],[0.5555555555555556,\"#d8576b\"],[0.6666666666666666,\"#ed7953\"],[0.7777777777777778,\"#fb9f3a\"],[0.8888888888888888,\"#fdca26\"],[1.0,\"#f0f921\"]]},\"colorway\":[\"#636efa\",\"#EF553B\",\"#00cc96\",\"#ab63fa\",\"#FFA15A\",\"#19d3f3\",\"#FF6692\",\"#B6E880\",\"#FF97FF\",\"#FECB52\"],\"font\":{\"color\":\"#2a3f5f\"},\"geo\":{\"bgcolor\":\"white\",\"lakecolor\":\"white\",\"landcolor\":\"#E5ECF6\",\"showlakes\":true,\"showland\":true,\"subunitcolor\":\"white\"},\"hoverlabel\":{\"align\":\"left\"},\"hovermode\":\"closest\",\"mapbox\":{\"style\":\"light\"},\"paper_bgcolor\":\"white\",\"plot_bgcolor\":\"#E5ECF6\",\"polar\":{\"angularaxis\":{\"gridcolor\":\"white\",\"linecolor\":\"white\",\"ticks\":\"\"},\"bgcolor\":\"#E5ECF6\",\"radialaxis\":{\"gridcolor\":\"white\",\"linecolor\":\"white\",\"ticks\":\"\"}},\"scene\":{\"xaxis\":{\"backgroundcolor\":\"#E5ECF6\",\"gridcolor\":\"white\",\"gridwidth\":2,\"linecolor\":\"white\",\"showbackground\":true,\"ticks\":\"\",\"zerolinecolor\":\"white\"},\"yaxis\":{\"backgroundcolor\":\"#E5ECF6\",\"gridcolor\":\"white\",\"gridwidth\":2,\"linecolor\":\"white\",\"showbackground\":true,\"ticks\":\"\",\"zerolinecolor\":\"white\"},\"zaxis\":{\"backgroundcolor\":\"#E5ECF6\",\"gridcolor\":\"white\",\"gridwidth\":2,\"linecolor\":\"white\",\"showbackground\":true,\"ticks\":\"\",\"zerolinecolor\":\"white\"}},\"shapedefaults\":{\"line\":{\"color\":\"#2a3f5f\"}},\"ternary\":{\"aaxis\":{\"gridcolor\":\"white\",\"linecolor\":\"white\",\"ticks\":\"\"},\"baxis\":{\"gridcolor\":\"white\",\"linecolor\":\"white\",\"ticks\":\"\"},\"bgcolor\":\"#E5ECF6\",\"caxis\":{\"gridcolor\":\"white\",\"linecolor\":\"white\",\"ticks\":\"\"}},\"title\":{\"x\":0.05},\"xaxis\":{\"automargin\":true,\"gridcolor\":\"white\",\"linecolor\":\"white\",\"ticks\":\"\",\"title\":{\"standoff\":15},\"zerolinecolor\":\"white\",\"zerolinewidth\":2},\"yaxis\":{\"automargin\":true,\"gridcolor\":\"white\",\"linecolor\":\"white\",\"ticks\":\"\",\"title\":{\"standoff\":15},\"zerolinecolor\":\"white\",\"zerolinewidth\":2}}},\"xaxis\":{\"anchor\":\"y\",\"domain\":[0.0,1.0],\"title\":{\"text\":\"year\"}},\"yaxis\":{\"anchor\":\"x\",\"domain\":[0.0,1.0],\"title\":{\"text\":\"pop\"}}},                        {\"responsive\": true}                    ).then(function(){\n",
       "                            \n",
       "var gd = document.getElementById('e0a88e2e-84f0-42d4-9d5b-30525a34068c');\n",
       "var x = new MutationObserver(function (mutations, observer) {{\n",
       "        var display = window.getComputedStyle(gd).display;\n",
       "        if (!display || display === 'none') {{\n",
       "            console.log([gd, 'removed!']);\n",
       "            Plotly.purge(gd);\n",
       "            observer.disconnect();\n",
       "        }}\n",
       "}});\n",
       "\n",
       "// Listen for the removal of the full notebook cells\n",
       "var notebookContainer = gd.closest('#notebook-container');\n",
       "if (notebookContainer) {{\n",
       "    x.observe(notebookContainer, {childList: true});\n",
       "}}\n",
       "\n",
       "// Listen for the clearing of the current output cell\n",
       "var outputEl = gd.closest('.output');\n",
       "if (outputEl) {{\n",
       "    x.observe(outputEl, {childList: true});\n",
       "}}\n",
       "\n",
       "                        })                };                });            </script>        </div>"
      ]
     },
     "metadata": {},
     "output_type": "display_data"
    }
   ],
   "source": [
    "df = df_[df_.country=='United States']\n",
    "fig = px.bar(df, x='year', y='pop')\n",
    "fig.show()"
   ]
  },
  {
   "cell_type": "code",
   "execution_count": 10,
   "id": "81efa5bc",
   "metadata": {},
   "outputs": [
    {
     "data": {
      "application/vnd.plotly.v1+json": {
       "config": {
        "plotlyServerURL": "https://plot.ly"
       },
       "data": [
        {
         "alignmentgroup": "True",
         "hovertemplate": "continent=%{x}<br>year=1952<br>pop=%{y}<extra></extra>",
         "legendgroup": "Africa",
         "marker": {
          "color": "#F8766D",
          "pattern": {
           "shape": ""
          }
         },
         "name": "Africa",
         "offsetgroup": "Africa",
         "orientation": "v",
         "showlegend": true,
         "textposition": "auto",
         "type": "bar",
         "x": [
          "Africa"
         ],
         "xaxis": "x9",
         "y": [
          237640501
         ],
         "yaxis": "y9"
        },
        {
         "alignmentgroup": "True",
         "hovertemplate": "continent=%{x}<br>year=1957<br>pop=%{y}<extra></extra>",
         "legendgroup": "Africa",
         "marker": {
          "color": "#F8766D",
          "pattern": {
           "shape": ""
          }
         },
         "name": "Africa",
         "offsetgroup": "Africa",
         "orientation": "v",
         "showlegend": false,
         "textposition": "auto",
         "type": "bar",
         "x": [
          "Africa"
         ],
         "xaxis": "x10",
         "y": [
          264837738
         ],
         "yaxis": "y10"
        },
        {
         "alignmentgroup": "True",
         "hovertemplate": "continent=%{x}<br>year=1962<br>pop=%{y}<extra></extra>",
         "legendgroup": "Africa",
         "marker": {
          "color": "#F8766D",
          "pattern": {
           "shape": ""
          }
         },
         "name": "Africa",
         "offsetgroup": "Africa",
         "orientation": "v",
         "showlegend": false,
         "textposition": "auto",
         "type": "bar",
         "x": [
          "Africa"
         ],
         "xaxis": "x11",
         "y": [
          296516865
         ],
         "yaxis": "y11"
        },
        {
         "alignmentgroup": "True",
         "hovertemplate": "continent=%{x}<br>year=1967<br>pop=%{y}<extra></extra>",
         "legendgroup": "Africa",
         "marker": {
          "color": "#F8766D",
          "pattern": {
           "shape": ""
          }
         },
         "name": "Africa",
         "offsetgroup": "Africa",
         "orientation": "v",
         "showlegend": false,
         "textposition": "auto",
         "type": "bar",
         "x": [
          "Africa"
         ],
         "xaxis": "x12",
         "y": [
          335289489
         ],
         "yaxis": "y12"
        },
        {
         "alignmentgroup": "True",
         "hovertemplate": "continent=%{x}<br>year=1972<br>pop=%{y}<extra></extra>",
         "legendgroup": "Africa",
         "marker": {
          "color": "#F8766D",
          "pattern": {
           "shape": ""
          }
         },
         "name": "Africa",
         "offsetgroup": "Africa",
         "orientation": "v",
         "showlegend": false,
         "textposition": "auto",
         "type": "bar",
         "x": [
          "Africa"
         ],
         "xaxis": "x5",
         "y": [
          379879541
         ],
         "yaxis": "y5"
        },
        {
         "alignmentgroup": "True",
         "hovertemplate": "continent=%{x}<br>year=1977<br>pop=%{y}<extra></extra>",
         "legendgroup": "Africa",
         "marker": {
          "color": "#F8766D",
          "pattern": {
           "shape": ""
          }
         },
         "name": "Africa",
         "offsetgroup": "Africa",
         "orientation": "v",
         "showlegend": false,
         "textposition": "auto",
         "type": "bar",
         "x": [
          "Africa"
         ],
         "xaxis": "x6",
         "y": [
          433061021
         ],
         "yaxis": "y6"
        },
        {
         "alignmentgroup": "True",
         "hovertemplate": "continent=%{x}<br>year=1982<br>pop=%{y}<extra></extra>",
         "legendgroup": "Africa",
         "marker": {
          "color": "#F8766D",
          "pattern": {
           "shape": ""
          }
         },
         "name": "Africa",
         "offsetgroup": "Africa",
         "orientation": "v",
         "showlegend": false,
         "textposition": "auto",
         "type": "bar",
         "x": [
          "Africa"
         ],
         "xaxis": "x7",
         "y": [
          499348587
         ],
         "yaxis": "y7"
        },
        {
         "alignmentgroup": "True",
         "hovertemplate": "continent=%{x}<br>year=1987<br>pop=%{y}<extra></extra>",
         "legendgroup": "Africa",
         "marker": {
          "color": "#F8766D",
          "pattern": {
           "shape": ""
          }
         },
         "name": "Africa",
         "offsetgroup": "Africa",
         "orientation": "v",
         "showlegend": false,
         "textposition": "auto",
         "type": "bar",
         "x": [
          "Africa"
         ],
         "xaxis": "x8",
         "y": [
          574834110
         ],
         "yaxis": "y8"
        },
        {
         "alignmentgroup": "True",
         "hovertemplate": "continent=%{x}<br>year=1992<br>pop=%{y}<extra></extra>",
         "legendgroup": "Africa",
         "marker": {
          "color": "#F8766D",
          "pattern": {
           "shape": ""
          }
         },
         "name": "Africa",
         "offsetgroup": "Africa",
         "orientation": "v",
         "showlegend": false,
         "textposition": "auto",
         "type": "bar",
         "x": [
          "Africa"
         ],
         "xaxis": "x",
         "y": [
          659081517
         ],
         "yaxis": "y"
        },
        {
         "alignmentgroup": "True",
         "hovertemplate": "continent=%{x}<br>year=1997<br>pop=%{y}<extra></extra>",
         "legendgroup": "Africa",
         "marker": {
          "color": "#F8766D",
          "pattern": {
           "shape": ""
          }
         },
         "name": "Africa",
         "offsetgroup": "Africa",
         "orientation": "v",
         "showlegend": false,
         "textposition": "auto",
         "type": "bar",
         "x": [
          "Africa"
         ],
         "xaxis": "x2",
         "y": [
          743832984
         ],
         "yaxis": "y2"
        },
        {
         "alignmentgroup": "True",
         "hovertemplate": "continent=%{x}<br>year=2002<br>pop=%{y}<extra></extra>",
         "legendgroup": "Africa",
         "marker": {
          "color": "#F8766D",
          "pattern": {
           "shape": ""
          }
         },
         "name": "Africa",
         "offsetgroup": "Africa",
         "orientation": "v",
         "showlegend": false,
         "textposition": "auto",
         "type": "bar",
         "x": [
          "Africa"
         ],
         "xaxis": "x3",
         "y": [
          833723916
         ],
         "yaxis": "y3"
        },
        {
         "alignmentgroup": "True",
         "hovertemplate": "continent=%{x}<br>year=2007<br>pop=%{y}<extra></extra>",
         "legendgroup": "Africa",
         "marker": {
          "color": "#F8766D",
          "pattern": {
           "shape": ""
          }
         },
         "name": "Africa",
         "offsetgroup": "Africa",
         "orientation": "v",
         "showlegend": false,
         "textposition": "auto",
         "type": "bar",
         "x": [
          "Africa"
         ],
         "xaxis": "x4",
         "y": [
          929539692
         ],
         "yaxis": "y4"
        },
        {
         "alignmentgroup": "True",
         "hovertemplate": "continent=%{x}<br>year=1952<br>pop=%{y}<extra></extra>",
         "legendgroup": "Americas",
         "marker": {
          "color": "#A3A500",
          "pattern": {
           "shape": ""
          }
         },
         "name": "Americas",
         "offsetgroup": "Americas",
         "orientation": "v",
         "showlegend": true,
         "textposition": "auto",
         "type": "bar",
         "x": [
          "Americas"
         ],
         "xaxis": "x9",
         "y": [
          345152446
         ],
         "yaxis": "y9"
        },
        {
         "alignmentgroup": "True",
         "hovertemplate": "continent=%{x}<br>year=1957<br>pop=%{y}<extra></extra>",
         "legendgroup": "Americas",
         "marker": {
          "color": "#A3A500",
          "pattern": {
           "shape": ""
          }
         },
         "name": "Americas",
         "offsetgroup": "Americas",
         "orientation": "v",
         "showlegend": false,
         "textposition": "auto",
         "type": "bar",
         "x": [
          "Americas"
         ],
         "xaxis": "x10",
         "y": [
          386953916
         ],
         "yaxis": "y10"
        },
        {
         "alignmentgroup": "True",
         "hovertemplate": "continent=%{x}<br>year=1962<br>pop=%{y}<extra></extra>",
         "legendgroup": "Americas",
         "marker": {
          "color": "#A3A500",
          "pattern": {
           "shape": ""
          }
         },
         "name": "Americas",
         "offsetgroup": "Americas",
         "orientation": "v",
         "showlegend": false,
         "textposition": "auto",
         "type": "bar",
         "x": [
          "Americas"
         ],
         "xaxis": "x11",
         "y": [
          433270254
         ],
         "yaxis": "y11"
        },
        {
         "alignmentgroup": "True",
         "hovertemplate": "continent=%{x}<br>year=1967<br>pop=%{y}<extra></extra>",
         "legendgroup": "Americas",
         "marker": {
          "color": "#A3A500",
          "pattern": {
           "shape": ""
          }
         },
         "name": "Americas",
         "offsetgroup": "Americas",
         "orientation": "v",
         "showlegend": false,
         "textposition": "auto",
         "type": "bar",
         "x": [
          "Americas"
         ],
         "xaxis": "x12",
         "y": [
          480746623
         ],
         "yaxis": "y12"
        },
        {
         "alignmentgroup": "True",
         "hovertemplate": "continent=%{x}<br>year=1972<br>pop=%{y}<extra></extra>",
         "legendgroup": "Americas",
         "marker": {
          "color": "#A3A500",
          "pattern": {
           "shape": ""
          }
         },
         "name": "Americas",
         "offsetgroup": "Americas",
         "orientation": "v",
         "showlegend": false,
         "textposition": "auto",
         "type": "bar",
         "x": [
          "Americas"
         ],
         "xaxis": "x5",
         "y": [
          529384210
         ],
         "yaxis": "y5"
        },
        {
         "alignmentgroup": "True",
         "hovertemplate": "continent=%{x}<br>year=1977<br>pop=%{y}<extra></extra>",
         "legendgroup": "Americas",
         "marker": {
          "color": "#A3A500",
          "pattern": {
           "shape": ""
          }
         },
         "name": "Americas",
         "offsetgroup": "Americas",
         "orientation": "v",
         "showlegend": false,
         "textposition": "auto",
         "type": "bar",
         "x": [
          "Americas"
         ],
         "xaxis": "x6",
         "y": [
          578067699
         ],
         "yaxis": "y6"
        },
        {
         "alignmentgroup": "True",
         "hovertemplate": "continent=%{x}<br>year=1982<br>pop=%{y}<extra></extra>",
         "legendgroup": "Americas",
         "marker": {
          "color": "#A3A500",
          "pattern": {
           "shape": ""
          }
         },
         "name": "Americas",
         "offsetgroup": "Americas",
         "orientation": "v",
         "showlegend": false,
         "textposition": "auto",
         "type": "bar",
         "x": [
          "Americas"
         ],
         "xaxis": "x7",
         "y": [
          630290920
         ],
         "yaxis": "y7"
        },
        {
         "alignmentgroup": "True",
         "hovertemplate": "continent=%{x}<br>year=1987<br>pop=%{y}<extra></extra>",
         "legendgroup": "Americas",
         "marker": {
          "color": "#A3A500",
          "pattern": {
           "shape": ""
          }
         },
         "name": "Americas",
         "offsetgroup": "Americas",
         "orientation": "v",
         "showlegend": false,
         "textposition": "auto",
         "type": "bar",
         "x": [
          "Americas"
         ],
         "xaxis": "x8",
         "y": [
          682753971
         ],
         "yaxis": "y8"
        },
        {
         "alignmentgroup": "True",
         "hovertemplate": "continent=%{x}<br>year=1992<br>pop=%{y}<extra></extra>",
         "legendgroup": "Americas",
         "marker": {
          "color": "#A3A500",
          "pattern": {
           "shape": ""
          }
         },
         "name": "Americas",
         "offsetgroup": "Americas",
         "orientation": "v",
         "showlegend": false,
         "textposition": "auto",
         "type": "bar",
         "x": [
          "Americas"
         ],
         "xaxis": "x",
         "y": [
          739274104
         ],
         "yaxis": "y"
        },
        {
         "alignmentgroup": "True",
         "hovertemplate": "continent=%{x}<br>year=1997<br>pop=%{y}<extra></extra>",
         "legendgroup": "Americas",
         "marker": {
          "color": "#A3A500",
          "pattern": {
           "shape": ""
          }
         },
         "name": "Americas",
         "offsetgroup": "Americas",
         "orientation": "v",
         "showlegend": false,
         "textposition": "auto",
         "type": "bar",
         "x": [
          "Americas"
         ],
         "xaxis": "x2",
         "y": [
          796900410
         ],
         "yaxis": "y2"
        },
        {
         "alignmentgroup": "True",
         "hovertemplate": "continent=%{x}<br>year=2002<br>pop=%{y}<extra></extra>",
         "legendgroup": "Americas",
         "marker": {
          "color": "#A3A500",
          "pattern": {
           "shape": ""
          }
         },
         "name": "Americas",
         "offsetgroup": "Americas",
         "orientation": "v",
         "showlegend": false,
         "textposition": "auto",
         "type": "bar",
         "x": [
          "Americas"
         ],
         "xaxis": "x3",
         "y": [
          849772762
         ],
         "yaxis": "y3"
        },
        {
         "alignmentgroup": "True",
         "hovertemplate": "continent=%{x}<br>year=2007<br>pop=%{y}<extra></extra>",
         "legendgroup": "Americas",
         "marker": {
          "color": "#A3A500",
          "pattern": {
           "shape": ""
          }
         },
         "name": "Americas",
         "offsetgroup": "Americas",
         "orientation": "v",
         "showlegend": false,
         "textposition": "auto",
         "type": "bar",
         "x": [
          "Americas"
         ],
         "xaxis": "x4",
         "y": [
          898871184
         ],
         "yaxis": "y4"
        },
        {
         "alignmentgroup": "True",
         "hovertemplate": "continent=%{x}<br>year=1952<br>pop=%{y}<extra></extra>",
         "legendgroup": "Asia",
         "marker": {
          "color": "#00BF7D",
          "pattern": {
           "shape": ""
          }
         },
         "name": "Asia",
         "offsetgroup": "Asia",
         "orientation": "v",
         "showlegend": true,
         "textposition": "auto",
         "type": "bar",
         "x": [
          "Asia"
         ],
         "xaxis": "x9",
         "y": [
          1395357351
         ],
         "yaxis": "y9"
        },
        {
         "alignmentgroup": "True",
         "hovertemplate": "continent=%{x}<br>year=1957<br>pop=%{y}<extra></extra>",
         "legendgroup": "Asia",
         "marker": {
          "color": "#00BF7D",
          "pattern": {
           "shape": ""
          }
         },
         "name": "Asia",
         "offsetgroup": "Asia",
         "orientation": "v",
         "showlegend": false,
         "textposition": "auto",
         "type": "bar",
         "x": [
          "Asia"
         ],
         "xaxis": "x10",
         "y": [
          1562780599
         ],
         "yaxis": "y10"
        },
        {
         "alignmentgroup": "True",
         "hovertemplate": "continent=%{x}<br>year=1962<br>pop=%{y}<extra></extra>",
         "legendgroup": "Asia",
         "marker": {
          "color": "#00BF7D",
          "pattern": {
           "shape": ""
          }
         },
         "name": "Asia",
         "offsetgroup": "Asia",
         "orientation": "v",
         "showlegend": false,
         "textposition": "auto",
         "type": "bar",
         "x": [
          "Asia"
         ],
         "xaxis": "x11",
         "y": [
          1696357182
         ],
         "yaxis": "y11"
        },
        {
         "alignmentgroup": "True",
         "hovertemplate": "continent=%{x}<br>year=1967<br>pop=%{y}<extra></extra>",
         "legendgroup": "Asia",
         "marker": {
          "color": "#00BF7D",
          "pattern": {
           "shape": ""
          }
         },
         "name": "Asia",
         "offsetgroup": "Asia",
         "orientation": "v",
         "showlegend": false,
         "textposition": "auto",
         "type": "bar",
         "x": [
          "Asia"
         ],
         "xaxis": "x12",
         "y": [
          1905662900
         ],
         "yaxis": "y12"
        },
        {
         "alignmentgroup": "True",
         "hovertemplate": "continent=%{x}<br>year=1972<br>pop=%{y}<extra></extra>",
         "legendgroup": "Asia",
         "marker": {
          "color": "#00BF7D",
          "pattern": {
           "shape": ""
          }
         },
         "name": "Asia",
         "offsetgroup": "Asia",
         "orientation": "v",
         "showlegend": false,
         "textposition": "auto",
         "type": "bar",
         "x": [
          "Asia"
         ],
         "xaxis": "x5",
         "y": [
          2150972248
         ],
         "yaxis": "y5"
        },
        {
         "alignmentgroup": "True",
         "hovertemplate": "continent=%{x}<br>year=1977<br>pop=%{y}<extra></extra>",
         "legendgroup": "Asia",
         "marker": {
          "color": "#00BF7D",
          "pattern": {
           "shape": ""
          }
         },
         "name": "Asia",
         "offsetgroup": "Asia",
         "orientation": "v",
         "showlegend": false,
         "textposition": "auto",
         "type": "bar",
         "x": [
          "Asia"
         ],
         "xaxis": "x6",
         "y": [
          2384513556
         ],
         "yaxis": "y6"
        },
        {
         "alignmentgroup": "True",
         "hovertemplate": "continent=%{x}<br>year=1982<br>pop=%{y}<extra></extra>",
         "legendgroup": "Asia",
         "marker": {
          "color": "#00BF7D",
          "pattern": {
           "shape": ""
          }
         },
         "name": "Asia",
         "offsetgroup": "Asia",
         "orientation": "v",
         "showlegend": false,
         "textposition": "auto",
         "type": "bar",
         "x": [
          "Asia"
         ],
         "xaxis": "x7",
         "y": [
          2610135582
         ],
         "yaxis": "y7"
        },
        {
         "alignmentgroup": "True",
         "hovertemplate": "continent=%{x}<br>year=1987<br>pop=%{y}<extra></extra>",
         "legendgroup": "Asia",
         "marker": {
          "color": "#00BF7D",
          "pattern": {
           "shape": ""
          }
         },
         "name": "Asia",
         "offsetgroup": "Asia",
         "orientation": "v",
         "showlegend": false,
         "textposition": "auto",
         "type": "bar",
         "x": [
          "Asia"
         ],
         "xaxis": "x8",
         "y": [
          2871220762
         ],
         "yaxis": "y8"
        },
        {
         "alignmentgroup": "True",
         "hovertemplate": "continent=%{x}<br>year=1992<br>pop=%{y}<extra></extra>",
         "legendgroup": "Asia",
         "marker": {
          "color": "#00BF7D",
          "pattern": {
           "shape": ""
          }
         },
         "name": "Asia",
         "offsetgroup": "Asia",
         "orientation": "v",
         "showlegend": false,
         "textposition": "auto",
         "type": "bar",
         "x": [
          "Asia"
         ],
         "xaxis": "x",
         "y": [
          3133292191
         ],
         "yaxis": "y"
        },
        {
         "alignmentgroup": "True",
         "hovertemplate": "continent=%{x}<br>year=1997<br>pop=%{y}<extra></extra>",
         "legendgroup": "Asia",
         "marker": {
          "color": "#00BF7D",
          "pattern": {
           "shape": ""
          }
         },
         "name": "Asia",
         "offsetgroup": "Asia",
         "orientation": "v",
         "showlegend": false,
         "textposition": "auto",
         "type": "bar",
         "x": [
          "Asia"
         ],
         "xaxis": "x2",
         "y": [
          3383285500
         ],
         "yaxis": "y2"
        },
        {
         "alignmentgroup": "True",
         "hovertemplate": "continent=%{x}<br>year=2002<br>pop=%{y}<extra></extra>",
         "legendgroup": "Asia",
         "marker": {
          "color": "#00BF7D",
          "pattern": {
           "shape": ""
          }
         },
         "name": "Asia",
         "offsetgroup": "Asia",
         "orientation": "v",
         "showlegend": false,
         "textposition": "auto",
         "type": "bar",
         "x": [
          "Asia"
         ],
         "xaxis": "x3",
         "y": [
          3601802203
         ],
         "yaxis": "y3"
        },
        {
         "alignmentgroup": "True",
         "hovertemplate": "continent=%{x}<br>year=2007<br>pop=%{y}<extra></extra>",
         "legendgroup": "Asia",
         "marker": {
          "color": "#00BF7D",
          "pattern": {
           "shape": ""
          }
         },
         "name": "Asia",
         "offsetgroup": "Asia",
         "orientation": "v",
         "showlegend": false,
         "textposition": "auto",
         "type": "bar",
         "x": [
          "Asia"
         ],
         "xaxis": "x4",
         "y": [
          3811953827
         ],
         "yaxis": "y4"
        },
        {
         "alignmentgroup": "True",
         "hovertemplate": "continent=%{x}<br>year=1952<br>pop=%{y}<extra></extra>",
         "legendgroup": "Europe",
         "marker": {
          "color": "#00B0F6",
          "pattern": {
           "shape": ""
          }
         },
         "name": "Europe",
         "offsetgroup": "Europe",
         "orientation": "v",
         "showlegend": true,
         "textposition": "auto",
         "type": "bar",
         "x": [
          "Europe"
         ],
         "xaxis": "x9",
         "y": [
          418120846
         ],
         "yaxis": "y9"
        },
        {
         "alignmentgroup": "True",
         "hovertemplate": "continent=%{x}<br>year=1957<br>pop=%{y}<extra></extra>",
         "legendgroup": "Europe",
         "marker": {
          "color": "#00B0F6",
          "pattern": {
           "shape": ""
          }
         },
         "name": "Europe",
         "offsetgroup": "Europe",
         "orientation": "v",
         "showlegend": false,
         "textposition": "auto",
         "type": "bar",
         "x": [
          "Europe"
         ],
         "xaxis": "x10",
         "y": [
          437890351
         ],
         "yaxis": "y10"
        },
        {
         "alignmentgroup": "True",
         "hovertemplate": "continent=%{x}<br>year=1962<br>pop=%{y}<extra></extra>",
         "legendgroup": "Europe",
         "marker": {
          "color": "#00B0F6",
          "pattern": {
           "shape": ""
          }
         },
         "name": "Europe",
         "offsetgroup": "Europe",
         "orientation": "v",
         "showlegend": false,
         "textposition": "auto",
         "type": "bar",
         "x": [
          "Europe"
         ],
         "xaxis": "x11",
         "y": [
          460355155
         ],
         "yaxis": "y11"
        },
        {
         "alignmentgroup": "True",
         "hovertemplate": "continent=%{x}<br>year=1967<br>pop=%{y}<extra></extra>",
         "legendgroup": "Europe",
         "marker": {
          "color": "#00B0F6",
          "pattern": {
           "shape": ""
          }
         },
         "name": "Europe",
         "offsetgroup": "Europe",
         "orientation": "v",
         "showlegend": false,
         "textposition": "auto",
         "type": "bar",
         "x": [
          "Europe"
         ],
         "xaxis": "x12",
         "y": [
          481178958
         ],
         "yaxis": "y12"
        },
        {
         "alignmentgroup": "True",
         "hovertemplate": "continent=%{x}<br>year=1972<br>pop=%{y}<extra></extra>",
         "legendgroup": "Europe",
         "marker": {
          "color": "#00B0F6",
          "pattern": {
           "shape": ""
          }
         },
         "name": "Europe",
         "offsetgroup": "Europe",
         "orientation": "v",
         "showlegend": false,
         "textposition": "auto",
         "type": "bar",
         "x": [
          "Europe"
         ],
         "xaxis": "x5",
         "y": [
          500635059
         ],
         "yaxis": "y5"
        },
        {
         "alignmentgroup": "True",
         "hovertemplate": "continent=%{x}<br>year=1977<br>pop=%{y}<extra></extra>",
         "legendgroup": "Europe",
         "marker": {
          "color": "#00B0F6",
          "pattern": {
           "shape": ""
          }
         },
         "name": "Europe",
         "offsetgroup": "Europe",
         "orientation": "v",
         "showlegend": false,
         "textposition": "auto",
         "type": "bar",
         "x": [
          "Europe"
         ],
         "xaxis": "x6",
         "y": [
          517164531
         ],
         "yaxis": "y6"
        },
        {
         "alignmentgroup": "True",
         "hovertemplate": "continent=%{x}<br>year=1982<br>pop=%{y}<extra></extra>",
         "legendgroup": "Europe",
         "marker": {
          "color": "#00B0F6",
          "pattern": {
           "shape": ""
          }
         },
         "name": "Europe",
         "offsetgroup": "Europe",
         "orientation": "v",
         "showlegend": false,
         "textposition": "auto",
         "type": "bar",
         "x": [
          "Europe"
         ],
         "xaxis": "x7",
         "y": [
          531266901
         ],
         "yaxis": "y7"
        },
        {
         "alignmentgroup": "True",
         "hovertemplate": "continent=%{x}<br>year=1987<br>pop=%{y}<extra></extra>",
         "legendgroup": "Europe",
         "marker": {
          "color": "#00B0F6",
          "pattern": {
           "shape": ""
          }
         },
         "name": "Europe",
         "offsetgroup": "Europe",
         "orientation": "v",
         "showlegend": false,
         "textposition": "auto",
         "type": "bar",
         "x": [
          "Europe"
         ],
         "xaxis": "x8",
         "y": [
          543094160
         ],
         "yaxis": "y8"
        },
        {
         "alignmentgroup": "True",
         "hovertemplate": "continent=%{x}<br>year=1992<br>pop=%{y}<extra></extra>",
         "legendgroup": "Europe",
         "marker": {
          "color": "#00B0F6",
          "pattern": {
           "shape": ""
          }
         },
         "name": "Europe",
         "offsetgroup": "Europe",
         "orientation": "v",
         "showlegend": false,
         "textposition": "auto",
         "type": "bar",
         "x": [
          "Europe"
         ],
         "xaxis": "x",
         "y": [
          558142797
         ],
         "yaxis": "y"
        },
        {
         "alignmentgroup": "True",
         "hovertemplate": "continent=%{x}<br>year=1997<br>pop=%{y}<extra></extra>",
         "legendgroup": "Europe",
         "marker": {
          "color": "#00B0F6",
          "pattern": {
           "shape": ""
          }
         },
         "name": "Europe",
         "offsetgroup": "Europe",
         "orientation": "v",
         "showlegend": false,
         "textposition": "auto",
         "type": "bar",
         "x": [
          "Europe"
         ],
         "xaxis": "x2",
         "y": [
          568944148
         ],
         "yaxis": "y2"
        },
        {
         "alignmentgroup": "True",
         "hovertemplate": "continent=%{x}<br>year=2002<br>pop=%{y}<extra></extra>",
         "legendgroup": "Europe",
         "marker": {
          "color": "#00B0F6",
          "pattern": {
           "shape": ""
          }
         },
         "name": "Europe",
         "offsetgroup": "Europe",
         "orientation": "v",
         "showlegend": false,
         "textposition": "auto",
         "type": "bar",
         "x": [
          "Europe"
         ],
         "xaxis": "x3",
         "y": [
          578223869
         ],
         "yaxis": "y3"
        },
        {
         "alignmentgroup": "True",
         "hovertemplate": "continent=%{x}<br>year=2007<br>pop=%{y}<extra></extra>",
         "legendgroup": "Europe",
         "marker": {
          "color": "#00B0F6",
          "pattern": {
           "shape": ""
          }
         },
         "name": "Europe",
         "offsetgroup": "Europe",
         "orientation": "v",
         "showlegend": false,
         "textposition": "auto",
         "type": "bar",
         "x": [
          "Europe"
         ],
         "xaxis": "x4",
         "y": [
          586098529
         ],
         "yaxis": "y4"
        },
        {
         "alignmentgroup": "True",
         "hovertemplate": "continent=%{x}<br>year=1952<br>pop=%{y}<extra></extra>",
         "legendgroup": "Oceania",
         "marker": {
          "color": "#E76BF3",
          "pattern": {
           "shape": ""
          }
         },
         "name": "Oceania",
         "offsetgroup": "Oceania",
         "orientation": "v",
         "showlegend": true,
         "textposition": "auto",
         "type": "bar",
         "x": [
          "Oceania"
         ],
         "xaxis": "x9",
         "y": [
          10686006
         ],
         "yaxis": "y9"
        },
        {
         "alignmentgroup": "True",
         "hovertemplate": "continent=%{x}<br>year=1957<br>pop=%{y}<extra></extra>",
         "legendgroup": "Oceania",
         "marker": {
          "color": "#E76BF3",
          "pattern": {
           "shape": ""
          }
         },
         "name": "Oceania",
         "offsetgroup": "Oceania",
         "orientation": "v",
         "showlegend": false,
         "textposition": "auto",
         "type": "bar",
         "x": [
          "Oceania"
         ],
         "xaxis": "x10",
         "y": [
          11941976
         ],
         "yaxis": "y10"
        },
        {
         "alignmentgroup": "True",
         "hovertemplate": "continent=%{x}<br>year=1962<br>pop=%{y}<extra></extra>",
         "legendgroup": "Oceania",
         "marker": {
          "color": "#E76BF3",
          "pattern": {
           "shape": ""
          }
         },
         "name": "Oceania",
         "offsetgroup": "Oceania",
         "orientation": "v",
         "showlegend": false,
         "textposition": "auto",
         "type": "bar",
         "x": [
          "Oceania"
         ],
         "xaxis": "x11",
         "y": [
          13283518
         ],
         "yaxis": "y11"
        },
        {
         "alignmentgroup": "True",
         "hovertemplate": "continent=%{x}<br>year=1967<br>pop=%{y}<extra></extra>",
         "legendgroup": "Oceania",
         "marker": {
          "color": "#E76BF3",
          "pattern": {
           "shape": ""
          }
         },
         "name": "Oceania",
         "offsetgroup": "Oceania",
         "orientation": "v",
         "showlegend": false,
         "textposition": "auto",
         "type": "bar",
         "x": [
          "Oceania"
         ],
         "xaxis": "x12",
         "y": [
          14600414
         ],
         "yaxis": "y12"
        },
        {
         "alignmentgroup": "True",
         "hovertemplate": "continent=%{x}<br>year=1972<br>pop=%{y}<extra></extra>",
         "legendgroup": "Oceania",
         "marker": {
          "color": "#E76BF3",
          "pattern": {
           "shape": ""
          }
         },
         "name": "Oceania",
         "offsetgroup": "Oceania",
         "orientation": "v",
         "showlegend": false,
         "textposition": "auto",
         "type": "bar",
         "x": [
          "Oceania"
         ],
         "xaxis": "x5",
         "y": [
          16106100
         ],
         "yaxis": "y5"
        },
        {
         "alignmentgroup": "True",
         "hovertemplate": "continent=%{x}<br>year=1977<br>pop=%{y}<extra></extra>",
         "legendgroup": "Oceania",
         "marker": {
          "color": "#E76BF3",
          "pattern": {
           "shape": ""
          }
         },
         "name": "Oceania",
         "offsetgroup": "Oceania",
         "orientation": "v",
         "showlegend": false,
         "textposition": "auto",
         "type": "bar",
         "x": [
          "Oceania"
         ],
         "xaxis": "x6",
         "y": [
          17239000
         ],
         "yaxis": "y6"
        },
        {
         "alignmentgroup": "True",
         "hovertemplate": "continent=%{x}<br>year=1982<br>pop=%{y}<extra></extra>",
         "legendgroup": "Oceania",
         "marker": {
          "color": "#E76BF3",
          "pattern": {
           "shape": ""
          }
         },
         "name": "Oceania",
         "offsetgroup": "Oceania",
         "orientation": "v",
         "showlegend": false,
         "textposition": "auto",
         "type": "bar",
         "x": [
          "Oceania"
         ],
         "xaxis": "x7",
         "y": [
          18394850
         ],
         "yaxis": "y7"
        },
        {
         "alignmentgroup": "True",
         "hovertemplate": "continent=%{x}<br>year=1987<br>pop=%{y}<extra></extra>",
         "legendgroup": "Oceania",
         "marker": {
          "color": "#E76BF3",
          "pattern": {
           "shape": ""
          }
         },
         "name": "Oceania",
         "offsetgroup": "Oceania",
         "orientation": "v",
         "showlegend": false,
         "textposition": "auto",
         "type": "bar",
         "x": [
          "Oceania"
         ],
         "xaxis": "x8",
         "y": [
          19574415
         ],
         "yaxis": "y8"
        },
        {
         "alignmentgroup": "True",
         "hovertemplate": "continent=%{x}<br>year=1992<br>pop=%{y}<extra></extra>",
         "legendgroup": "Oceania",
         "marker": {
          "color": "#E76BF3",
          "pattern": {
           "shape": ""
          }
         },
         "name": "Oceania",
         "offsetgroup": "Oceania",
         "orientation": "v",
         "showlegend": false,
         "textposition": "auto",
         "type": "bar",
         "x": [
          "Oceania"
         ],
         "xaxis": "x",
         "y": [
          20919651
         ],
         "yaxis": "y"
        },
        {
         "alignmentgroup": "True",
         "hovertemplate": "continent=%{x}<br>year=1997<br>pop=%{y}<extra></extra>",
         "legendgroup": "Oceania",
         "marker": {
          "color": "#E76BF3",
          "pattern": {
           "shape": ""
          }
         },
         "name": "Oceania",
         "offsetgroup": "Oceania",
         "orientation": "v",
         "showlegend": false,
         "textposition": "auto",
         "type": "bar",
         "x": [
          "Oceania"
         ],
         "xaxis": "x2",
         "y": [
          22241430
         ],
         "yaxis": "y2"
        },
        {
         "alignmentgroup": "True",
         "hovertemplate": "continent=%{x}<br>year=2002<br>pop=%{y}<extra></extra>",
         "legendgroup": "Oceania",
         "marker": {
          "color": "#E76BF3",
          "pattern": {
           "shape": ""
          }
         },
         "name": "Oceania",
         "offsetgroup": "Oceania",
         "orientation": "v",
         "showlegend": false,
         "textposition": "auto",
         "type": "bar",
         "x": [
          "Oceania"
         ],
         "xaxis": "x3",
         "y": [
          23454829
         ],
         "yaxis": "y3"
        },
        {
         "alignmentgroup": "True",
         "hovertemplate": "continent=%{x}<br>year=2007<br>pop=%{y}<extra></extra>",
         "legendgroup": "Oceania",
         "marker": {
          "color": "#E76BF3",
          "pattern": {
           "shape": ""
          }
         },
         "name": "Oceania",
         "offsetgroup": "Oceania",
         "orientation": "v",
         "showlegend": false,
         "textposition": "auto",
         "type": "bar",
         "x": [
          "Oceania"
         ],
         "xaxis": "x4",
         "y": [
          24549947
         ],
         "yaxis": "y4"
        }
       ],
       "layout": {
        "annotations": [
         {
          "font": {},
          "showarrow": false,
          "text": "year=1992",
          "x": 0.1175,
          "xanchor": "center",
          "xref": "paper",
          "y": 0.2866666666666666,
          "yanchor": "bottom",
          "yref": "paper"
         },
         {
          "font": {},
          "showarrow": false,
          "text": "year=1997",
          "x": 0.3725,
          "xanchor": "center",
          "xref": "paper",
          "y": 0.2866666666666666,
          "yanchor": "bottom",
          "yref": "paper"
         },
         {
          "font": {},
          "showarrow": false,
          "text": "year=2002",
          "x": 0.6275,
          "xanchor": "center",
          "xref": "paper",
          "y": 0.2866666666666666,
          "yanchor": "bottom",
          "yref": "paper"
         },
         {
          "font": {},
          "showarrow": false,
          "text": "year=2007",
          "x": 0.8824999999999998,
          "xanchor": "center",
          "xref": "paper",
          "y": 0.2866666666666666,
          "yanchor": "bottom",
          "yref": "paper"
         },
         {
          "font": {},
          "showarrow": false,
          "text": "year=1972",
          "x": 0.1175,
          "xanchor": "center",
          "xref": "paper",
          "y": 0.6433333333333333,
          "yanchor": "bottom",
          "yref": "paper"
         },
         {
          "font": {},
          "showarrow": false,
          "text": "year=1977",
          "x": 0.3725,
          "xanchor": "center",
          "xref": "paper",
          "y": 0.6433333333333333,
          "yanchor": "bottom",
          "yref": "paper"
         },
         {
          "font": {},
          "showarrow": false,
          "text": "year=1982",
          "x": 0.6275,
          "xanchor": "center",
          "xref": "paper",
          "y": 0.6433333333333333,
          "yanchor": "bottom",
          "yref": "paper"
         },
         {
          "font": {},
          "showarrow": false,
          "text": "year=1987",
          "x": 0.8824999999999998,
          "xanchor": "center",
          "xref": "paper",
          "y": 0.6433333333333333,
          "yanchor": "bottom",
          "yref": "paper"
         },
         {
          "font": {},
          "showarrow": false,
          "text": "year=1952",
          "x": 0.1175,
          "xanchor": "center",
          "xref": "paper",
          "y": 0.9999999999999999,
          "yanchor": "bottom",
          "yref": "paper"
         },
         {
          "font": {},
          "showarrow": false,
          "text": "year=1957",
          "x": 0.3725,
          "xanchor": "center",
          "xref": "paper",
          "y": 0.9999999999999999,
          "yanchor": "bottom",
          "yref": "paper"
         },
         {
          "font": {},
          "showarrow": false,
          "text": "year=1962",
          "x": 0.6275,
          "xanchor": "center",
          "xref": "paper",
          "y": 0.9999999999999999,
          "yanchor": "bottom",
          "yref": "paper"
         },
         {
          "font": {},
          "showarrow": false,
          "text": "year=1967",
          "x": 0.8824999999999998,
          "xanchor": "center",
          "xref": "paper",
          "y": 0.9999999999999999,
          "yanchor": "bottom",
          "yref": "paper"
         }
        ],
        "barmode": "relative",
        "legend": {
         "title": {
          "text": "continent"
         },
         "tracegroupgap": 0
        },
        "template": {
         "data": {
          "bar": [
           {
            "error_x": {
             "color": "rgb(51,51,51)"
            },
            "error_y": {
             "color": "rgb(51,51,51)"
            },
            "marker": {
             "line": {
              "color": "rgb(237,237,237)",
              "width": 0.5
             },
             "pattern": {
              "fillmode": "overlay",
              "size": 10,
              "solidity": 0.2
             }
            },
            "type": "bar"
           }
          ],
          "barpolar": [
           {
            "marker": {
             "line": {
              "color": "rgb(237,237,237)",
              "width": 0.5
             },
             "pattern": {
              "fillmode": "overlay",
              "size": 10,
              "solidity": 0.2
             }
            },
            "type": "barpolar"
           }
          ],
          "carpet": [
           {
            "aaxis": {
             "endlinecolor": "rgb(51,51,51)",
             "gridcolor": "white",
             "linecolor": "white",
             "minorgridcolor": "white",
             "startlinecolor": "rgb(51,51,51)"
            },
            "baxis": {
             "endlinecolor": "rgb(51,51,51)",
             "gridcolor": "white",
             "linecolor": "white",
             "minorgridcolor": "white",
             "startlinecolor": "rgb(51,51,51)"
            },
            "type": "carpet"
           }
          ],
          "choropleth": [
           {
            "colorbar": {
             "outlinewidth": 0,
             "tickcolor": "rgb(237,237,237)",
             "ticklen": 6,
             "ticks": "inside"
            },
            "type": "choropleth"
           }
          ],
          "contour": [
           {
            "colorbar": {
             "outlinewidth": 0,
             "tickcolor": "rgb(237,237,237)",
             "ticklen": 6,
             "ticks": "inside"
            },
            "colorscale": [
             [
              0,
              "rgb(20,44,66)"
             ],
             [
              1,
              "rgb(90,179,244)"
             ]
            ],
            "type": "contour"
           }
          ],
          "contourcarpet": [
           {
            "colorbar": {
             "outlinewidth": 0,
             "tickcolor": "rgb(237,237,237)",
             "ticklen": 6,
             "ticks": "inside"
            },
            "type": "contourcarpet"
           }
          ],
          "heatmap": [
           {
            "colorbar": {
             "outlinewidth": 0,
             "tickcolor": "rgb(237,237,237)",
             "ticklen": 6,
             "ticks": "inside"
            },
            "colorscale": [
             [
              0,
              "rgb(20,44,66)"
             ],
             [
              1,
              "rgb(90,179,244)"
             ]
            ],
            "type": "heatmap"
           }
          ],
          "heatmapgl": [
           {
            "colorbar": {
             "outlinewidth": 0,
             "tickcolor": "rgb(237,237,237)",
             "ticklen": 6,
             "ticks": "inside"
            },
            "colorscale": [
             [
              0,
              "rgb(20,44,66)"
             ],
             [
              1,
              "rgb(90,179,244)"
             ]
            ],
            "type": "heatmapgl"
           }
          ],
          "histogram": [
           {
            "marker": {
             "pattern": {
              "fillmode": "overlay",
              "size": 10,
              "solidity": 0.2
             }
            },
            "type": "histogram"
           }
          ],
          "histogram2d": [
           {
            "colorbar": {
             "outlinewidth": 0,
             "tickcolor": "rgb(237,237,237)",
             "ticklen": 6,
             "ticks": "inside"
            },
            "colorscale": [
             [
              0,
              "rgb(20,44,66)"
             ],
             [
              1,
              "rgb(90,179,244)"
             ]
            ],
            "type": "histogram2d"
           }
          ],
          "histogram2dcontour": [
           {
            "colorbar": {
             "outlinewidth": 0,
             "tickcolor": "rgb(237,237,237)",
             "ticklen": 6,
             "ticks": "inside"
            },
            "colorscale": [
             [
              0,
              "rgb(20,44,66)"
             ],
             [
              1,
              "rgb(90,179,244)"
             ]
            ],
            "type": "histogram2dcontour"
           }
          ],
          "mesh3d": [
           {
            "colorbar": {
             "outlinewidth": 0,
             "tickcolor": "rgb(237,237,237)",
             "ticklen": 6,
             "ticks": "inside"
            },
            "type": "mesh3d"
           }
          ],
          "parcoords": [
           {
            "line": {
             "colorbar": {
              "outlinewidth": 0,
              "tickcolor": "rgb(237,237,237)",
              "ticklen": 6,
              "ticks": "inside"
             }
            },
            "type": "parcoords"
           }
          ],
          "pie": [
           {
            "automargin": true,
            "type": "pie"
           }
          ],
          "scatter": [
           {
            "marker": {
             "colorbar": {
              "outlinewidth": 0,
              "tickcolor": "rgb(237,237,237)",
              "ticklen": 6,
              "ticks": "inside"
             }
            },
            "type": "scatter"
           }
          ],
          "scatter3d": [
           {
            "line": {
             "colorbar": {
              "outlinewidth": 0,
              "tickcolor": "rgb(237,237,237)",
              "ticklen": 6,
              "ticks": "inside"
             }
            },
            "marker": {
             "colorbar": {
              "outlinewidth": 0,
              "tickcolor": "rgb(237,237,237)",
              "ticklen": 6,
              "ticks": "inside"
             }
            },
            "type": "scatter3d"
           }
          ],
          "scattercarpet": [
           {
            "marker": {
             "colorbar": {
              "outlinewidth": 0,
              "tickcolor": "rgb(237,237,237)",
              "ticklen": 6,
              "ticks": "inside"
             }
            },
            "type": "scattercarpet"
           }
          ],
          "scattergeo": [
           {
            "marker": {
             "colorbar": {
              "outlinewidth": 0,
              "tickcolor": "rgb(237,237,237)",
              "ticklen": 6,
              "ticks": "inside"
             }
            },
            "type": "scattergeo"
           }
          ],
          "scattergl": [
           {
            "marker": {
             "colorbar": {
              "outlinewidth": 0,
              "tickcolor": "rgb(237,237,237)",
              "ticklen": 6,
              "ticks": "inside"
             }
            },
            "type": "scattergl"
           }
          ],
          "scattermapbox": [
           {
            "marker": {
             "colorbar": {
              "outlinewidth": 0,
              "tickcolor": "rgb(237,237,237)",
              "ticklen": 6,
              "ticks": "inside"
             }
            },
            "type": "scattermapbox"
           }
          ],
          "scatterpolar": [
           {
            "marker": {
             "colorbar": {
              "outlinewidth": 0,
              "tickcolor": "rgb(237,237,237)",
              "ticklen": 6,
              "ticks": "inside"
             }
            },
            "type": "scatterpolar"
           }
          ],
          "scatterpolargl": [
           {
            "marker": {
             "colorbar": {
              "outlinewidth": 0,
              "tickcolor": "rgb(237,237,237)",
              "ticklen": 6,
              "ticks": "inside"
             }
            },
            "type": "scatterpolargl"
           }
          ],
          "scatterternary": [
           {
            "marker": {
             "colorbar": {
              "outlinewidth": 0,
              "tickcolor": "rgb(237,237,237)",
              "ticklen": 6,
              "ticks": "inside"
             }
            },
            "type": "scatterternary"
           }
          ],
          "surface": [
           {
            "colorbar": {
             "outlinewidth": 0,
             "tickcolor": "rgb(237,237,237)",
             "ticklen": 6,
             "ticks": "inside"
            },
            "colorscale": [
             [
              0,
              "rgb(20,44,66)"
             ],
             [
              1,
              "rgb(90,179,244)"
             ]
            ],
            "type": "surface"
           }
          ],
          "table": [
           {
            "cells": {
             "fill": {
              "color": "rgb(237,237,237)"
             },
             "line": {
              "color": "white"
             }
            },
            "header": {
             "fill": {
              "color": "rgb(217,217,217)"
             },
             "line": {
              "color": "white"
             }
            },
            "type": "table"
           }
          ]
         },
         "layout": {
          "annotationdefaults": {
           "arrowhead": 0,
           "arrowwidth": 1
          },
          "autotypenumbers": "strict",
          "coloraxis": {
           "colorbar": {
            "outlinewidth": 0,
            "tickcolor": "rgb(237,237,237)",
            "ticklen": 6,
            "ticks": "inside"
           }
          },
          "colorscale": {
           "sequential": [
            [
             0,
             "rgb(20,44,66)"
            ],
            [
             1,
             "rgb(90,179,244)"
            ]
           ],
           "sequentialminus": [
            [
             0,
             "rgb(20,44,66)"
            ],
            [
             1,
             "rgb(90,179,244)"
            ]
           ]
          },
          "colorway": [
           "#F8766D",
           "#A3A500",
           "#00BF7D",
           "#00B0F6",
           "#E76BF3"
          ],
          "font": {
           "color": "rgb(51,51,51)"
          },
          "geo": {
           "bgcolor": "white",
           "lakecolor": "white",
           "landcolor": "rgb(237,237,237)",
           "showlakes": true,
           "showland": true,
           "subunitcolor": "white"
          },
          "hoverlabel": {
           "align": "left"
          },
          "hovermode": "closest",
          "paper_bgcolor": "white",
          "plot_bgcolor": "rgb(237,237,237)",
          "polar": {
           "angularaxis": {
            "gridcolor": "white",
            "linecolor": "white",
            "showgrid": true,
            "tickcolor": "rgb(51,51,51)",
            "ticks": "outside"
           },
           "bgcolor": "rgb(237,237,237)",
           "radialaxis": {
            "gridcolor": "white",
            "linecolor": "white",
            "showgrid": true,
            "tickcolor": "rgb(51,51,51)",
            "ticks": "outside"
           }
          },
          "scene": {
           "xaxis": {
            "backgroundcolor": "rgb(237,237,237)",
            "gridcolor": "white",
            "gridwidth": 2,
            "linecolor": "white",
            "showbackground": true,
            "showgrid": true,
            "tickcolor": "rgb(51,51,51)",
            "ticks": "outside",
            "zerolinecolor": "white"
           },
           "yaxis": {
            "backgroundcolor": "rgb(237,237,237)",
            "gridcolor": "white",
            "gridwidth": 2,
            "linecolor": "white",
            "showbackground": true,
            "showgrid": true,
            "tickcolor": "rgb(51,51,51)",
            "ticks": "outside",
            "zerolinecolor": "white"
           },
           "zaxis": {
            "backgroundcolor": "rgb(237,237,237)",
            "gridcolor": "white",
            "gridwidth": 2,
            "linecolor": "white",
            "showbackground": true,
            "showgrid": true,
            "tickcolor": "rgb(51,51,51)",
            "ticks": "outside",
            "zerolinecolor": "white"
           }
          },
          "shapedefaults": {
           "fillcolor": "black",
           "line": {
            "width": 0
           },
           "opacity": 0.3
          },
          "ternary": {
           "aaxis": {
            "gridcolor": "white",
            "linecolor": "white",
            "showgrid": true,
            "tickcolor": "rgb(51,51,51)",
            "ticks": "outside"
           },
           "baxis": {
            "gridcolor": "white",
            "linecolor": "white",
            "showgrid": true,
            "tickcolor": "rgb(51,51,51)",
            "ticks": "outside"
           },
           "bgcolor": "rgb(237,237,237)",
           "caxis": {
            "gridcolor": "white",
            "linecolor": "white",
            "showgrid": true,
            "tickcolor": "rgb(51,51,51)",
            "ticks": "outside"
           }
          },
          "xaxis": {
           "automargin": true,
           "gridcolor": "white",
           "linecolor": "white",
           "showgrid": true,
           "tickcolor": "rgb(51,51,51)",
           "ticks": "outside",
           "title": {
            "standoff": 15
           },
           "zerolinecolor": "white"
          },
          "yaxis": {
           "automargin": true,
           "gridcolor": "white",
           "linecolor": "white",
           "showgrid": true,
           "tickcolor": "rgb(51,51,51)",
           "ticks": "outside",
           "title": {
            "standoff": 15
           },
           "zerolinecolor": "white"
          }
         }
        },
        "title": {
         "text": "World Population by Continent"
        },
        "xaxis": {
         "anchor": "y",
         "categoryarray": [
          "Africa",
          "Americas",
          "Asia",
          "Europe",
          "Oceania"
         ],
         "categoryorder": "array",
         "domain": [
          0,
          0.235
         ],
         "title": {
          "text": "continent"
         }
        },
        "xaxis10": {
         "anchor": "y10",
         "domain": [
          0.255,
          0.49
         ],
         "matches": "x",
         "showticklabels": false
        },
        "xaxis11": {
         "anchor": "y11",
         "domain": [
          0.51,
          0.745
         ],
         "matches": "x",
         "showticklabels": false
        },
        "xaxis12": {
         "anchor": "y12",
         "domain": [
          0.7649999999999999,
          0.9999999999999999
         ],
         "matches": "x",
         "showticklabels": false
        },
        "xaxis2": {
         "anchor": "y2",
         "categoryarray": [
          "Africa",
          "Americas",
          "Asia",
          "Europe",
          "Oceania"
         ],
         "categoryorder": "array",
         "domain": [
          0.255,
          0.49
         ],
         "matches": "x",
         "title": {
          "text": "continent"
         }
        },
        "xaxis3": {
         "anchor": "y3",
         "categoryarray": [
          "Africa",
          "Americas",
          "Asia",
          "Europe",
          "Oceania"
         ],
         "categoryorder": "array",
         "domain": [
          0.51,
          0.745
         ],
         "matches": "x",
         "title": {
          "text": "continent"
         }
        },
        "xaxis4": {
         "anchor": "y4",
         "categoryarray": [
          "Africa",
          "Americas",
          "Asia",
          "Europe",
          "Oceania"
         ],
         "categoryorder": "array",
         "domain": [
          0.7649999999999999,
          0.9999999999999999
         ],
         "matches": "x",
         "title": {
          "text": "continent"
         }
        },
        "xaxis5": {
         "anchor": "y5",
         "domain": [
          0,
          0.235
         ],
         "matches": "x",
         "showticklabels": false
        },
        "xaxis6": {
         "anchor": "y6",
         "domain": [
          0.255,
          0.49
         ],
         "matches": "x",
         "showticklabels": false
        },
        "xaxis7": {
         "anchor": "y7",
         "domain": [
          0.51,
          0.745
         ],
         "matches": "x",
         "showticklabels": false
        },
        "xaxis8": {
         "anchor": "y8",
         "domain": [
          0.7649999999999999,
          0.9999999999999999
         ],
         "matches": "x",
         "showticklabels": false
        },
        "xaxis9": {
         "anchor": "y9",
         "domain": [
          0,
          0.235
         ],
         "matches": "x",
         "showticklabels": false
        },
        "yaxis": {
         "anchor": "x",
         "domain": [
          0,
          0.2866666666666666
         ],
         "title": {
          "text": "pop"
         }
        },
        "yaxis10": {
         "anchor": "x10",
         "domain": [
          0.7133333333333333,
          0.9999999999999999
         ],
         "matches": "y",
         "showticklabels": false
        },
        "yaxis11": {
         "anchor": "x11",
         "domain": [
          0.7133333333333333,
          0.9999999999999999
         ],
         "matches": "y",
         "showticklabels": false
        },
        "yaxis12": {
         "anchor": "x12",
         "domain": [
          0.7133333333333333,
          0.9999999999999999
         ],
         "matches": "y",
         "showticklabels": false
        },
        "yaxis2": {
         "anchor": "x2",
         "domain": [
          0,
          0.2866666666666666
         ],
         "matches": "y",
         "showticklabels": false
        },
        "yaxis3": {
         "anchor": "x3",
         "domain": [
          0,
          0.2866666666666666
         ],
         "matches": "y",
         "showticklabels": false
        },
        "yaxis4": {
         "anchor": "x4",
         "domain": [
          0,
          0.2866666666666666
         ],
         "matches": "y",
         "showticklabels": false
        },
        "yaxis5": {
         "anchor": "x5",
         "domain": [
          0.35666666666666663,
          0.6433333333333333
         ],
         "matches": "y",
         "title": {
          "text": "pop"
         }
        },
        "yaxis6": {
         "anchor": "x6",
         "domain": [
          0.35666666666666663,
          0.6433333333333333
         ],
         "matches": "y",
         "showticklabels": false
        },
        "yaxis7": {
         "anchor": "x7",
         "domain": [
          0.35666666666666663,
          0.6433333333333333
         ],
         "matches": "y",
         "showticklabels": false
        },
        "yaxis8": {
         "anchor": "x8",
         "domain": [
          0.35666666666666663,
          0.6433333333333333
         ],
         "matches": "y",
         "showticklabels": false
        },
        "yaxis9": {
         "anchor": "x9",
         "domain": [
          0.7133333333333333,
          0.9999999999999999
         ],
         "matches": "y",
         "title": {
          "text": "pop"
         }
        }
       }
      },
      "text/html": [
       "<div>                            <div id=\"e0ab9689-6894-40aa-83a6-330d8d20fc94\" class=\"plotly-graph-div\" style=\"height:525px; width:100%;\"></div>            <script type=\"text/javascript\">                require([\"plotly\"], function(Plotly) {                    window.PLOTLYENV=window.PLOTLYENV || {};                                    if (document.getElementById(\"e0ab9689-6894-40aa-83a6-330d8d20fc94\")) {                    Plotly.newPlot(                        \"e0ab9689-6894-40aa-83a6-330d8d20fc94\",                        [{\"alignmentgroup\":\"True\",\"hovertemplate\":\"continent=%{x}<br>year=1952<br>pop=%{y}<extra></extra>\",\"legendgroup\":\"Africa\",\"marker\":{\"color\":\"#F8766D\",\"pattern\":{\"shape\":\"\"}},\"name\":\"Africa\",\"offsetgroup\":\"Africa\",\"orientation\":\"v\",\"showlegend\":true,\"textposition\":\"auto\",\"type\":\"bar\",\"x\":[\"Africa\"],\"xaxis\":\"x9\",\"y\":[237640501],\"yaxis\":\"y9\"},{\"alignmentgroup\":\"True\",\"hovertemplate\":\"continent=%{x}<br>year=1957<br>pop=%{y}<extra></extra>\",\"legendgroup\":\"Africa\",\"marker\":{\"color\":\"#F8766D\",\"pattern\":{\"shape\":\"\"}},\"name\":\"Africa\",\"offsetgroup\":\"Africa\",\"orientation\":\"v\",\"showlegend\":false,\"textposition\":\"auto\",\"type\":\"bar\",\"x\":[\"Africa\"],\"xaxis\":\"x10\",\"y\":[264837738],\"yaxis\":\"y10\"},{\"alignmentgroup\":\"True\",\"hovertemplate\":\"continent=%{x}<br>year=1962<br>pop=%{y}<extra></extra>\",\"legendgroup\":\"Africa\",\"marker\":{\"color\":\"#F8766D\",\"pattern\":{\"shape\":\"\"}},\"name\":\"Africa\",\"offsetgroup\":\"Africa\",\"orientation\":\"v\",\"showlegend\":false,\"textposition\":\"auto\",\"type\":\"bar\",\"x\":[\"Africa\"],\"xaxis\":\"x11\",\"y\":[296516865],\"yaxis\":\"y11\"},{\"alignmentgroup\":\"True\",\"hovertemplate\":\"continent=%{x}<br>year=1967<br>pop=%{y}<extra></extra>\",\"legendgroup\":\"Africa\",\"marker\":{\"color\":\"#F8766D\",\"pattern\":{\"shape\":\"\"}},\"name\":\"Africa\",\"offsetgroup\":\"Africa\",\"orientation\":\"v\",\"showlegend\":false,\"textposition\":\"auto\",\"type\":\"bar\",\"x\":[\"Africa\"],\"xaxis\":\"x12\",\"y\":[335289489],\"yaxis\":\"y12\"},{\"alignmentgroup\":\"True\",\"hovertemplate\":\"continent=%{x}<br>year=1972<br>pop=%{y}<extra></extra>\",\"legendgroup\":\"Africa\",\"marker\":{\"color\":\"#F8766D\",\"pattern\":{\"shape\":\"\"}},\"name\":\"Africa\",\"offsetgroup\":\"Africa\",\"orientation\":\"v\",\"showlegend\":false,\"textposition\":\"auto\",\"type\":\"bar\",\"x\":[\"Africa\"],\"xaxis\":\"x5\",\"y\":[379879541],\"yaxis\":\"y5\"},{\"alignmentgroup\":\"True\",\"hovertemplate\":\"continent=%{x}<br>year=1977<br>pop=%{y}<extra></extra>\",\"legendgroup\":\"Africa\",\"marker\":{\"color\":\"#F8766D\",\"pattern\":{\"shape\":\"\"}},\"name\":\"Africa\",\"offsetgroup\":\"Africa\",\"orientation\":\"v\",\"showlegend\":false,\"textposition\":\"auto\",\"type\":\"bar\",\"x\":[\"Africa\"],\"xaxis\":\"x6\",\"y\":[433061021],\"yaxis\":\"y6\"},{\"alignmentgroup\":\"True\",\"hovertemplate\":\"continent=%{x}<br>year=1982<br>pop=%{y}<extra></extra>\",\"legendgroup\":\"Africa\",\"marker\":{\"color\":\"#F8766D\",\"pattern\":{\"shape\":\"\"}},\"name\":\"Africa\",\"offsetgroup\":\"Africa\",\"orientation\":\"v\",\"showlegend\":false,\"textposition\":\"auto\",\"type\":\"bar\",\"x\":[\"Africa\"],\"xaxis\":\"x7\",\"y\":[499348587],\"yaxis\":\"y7\"},{\"alignmentgroup\":\"True\",\"hovertemplate\":\"continent=%{x}<br>year=1987<br>pop=%{y}<extra></extra>\",\"legendgroup\":\"Africa\",\"marker\":{\"color\":\"#F8766D\",\"pattern\":{\"shape\":\"\"}},\"name\":\"Africa\",\"offsetgroup\":\"Africa\",\"orientation\":\"v\",\"showlegend\":false,\"textposition\":\"auto\",\"type\":\"bar\",\"x\":[\"Africa\"],\"xaxis\":\"x8\",\"y\":[574834110],\"yaxis\":\"y8\"},{\"alignmentgroup\":\"True\",\"hovertemplate\":\"continent=%{x}<br>year=1992<br>pop=%{y}<extra></extra>\",\"legendgroup\":\"Africa\",\"marker\":{\"color\":\"#F8766D\",\"pattern\":{\"shape\":\"\"}},\"name\":\"Africa\",\"offsetgroup\":\"Africa\",\"orientation\":\"v\",\"showlegend\":false,\"textposition\":\"auto\",\"type\":\"bar\",\"x\":[\"Africa\"],\"xaxis\":\"x\",\"y\":[659081517],\"yaxis\":\"y\"},{\"alignmentgroup\":\"True\",\"hovertemplate\":\"continent=%{x}<br>year=1997<br>pop=%{y}<extra></extra>\",\"legendgroup\":\"Africa\",\"marker\":{\"color\":\"#F8766D\",\"pattern\":{\"shape\":\"\"}},\"name\":\"Africa\",\"offsetgroup\":\"Africa\",\"orientation\":\"v\",\"showlegend\":false,\"textposition\":\"auto\",\"type\":\"bar\",\"x\":[\"Africa\"],\"xaxis\":\"x2\",\"y\":[743832984],\"yaxis\":\"y2\"},{\"alignmentgroup\":\"True\",\"hovertemplate\":\"continent=%{x}<br>year=2002<br>pop=%{y}<extra></extra>\",\"legendgroup\":\"Africa\",\"marker\":{\"color\":\"#F8766D\",\"pattern\":{\"shape\":\"\"}},\"name\":\"Africa\",\"offsetgroup\":\"Africa\",\"orientation\":\"v\",\"showlegend\":false,\"textposition\":\"auto\",\"type\":\"bar\",\"x\":[\"Africa\"],\"xaxis\":\"x3\",\"y\":[833723916],\"yaxis\":\"y3\"},{\"alignmentgroup\":\"True\",\"hovertemplate\":\"continent=%{x}<br>year=2007<br>pop=%{y}<extra></extra>\",\"legendgroup\":\"Africa\",\"marker\":{\"color\":\"#F8766D\",\"pattern\":{\"shape\":\"\"}},\"name\":\"Africa\",\"offsetgroup\":\"Africa\",\"orientation\":\"v\",\"showlegend\":false,\"textposition\":\"auto\",\"type\":\"bar\",\"x\":[\"Africa\"],\"xaxis\":\"x4\",\"y\":[929539692],\"yaxis\":\"y4\"},{\"alignmentgroup\":\"True\",\"hovertemplate\":\"continent=%{x}<br>year=1952<br>pop=%{y}<extra></extra>\",\"legendgroup\":\"Americas\",\"marker\":{\"color\":\"#A3A500\",\"pattern\":{\"shape\":\"\"}},\"name\":\"Americas\",\"offsetgroup\":\"Americas\",\"orientation\":\"v\",\"showlegend\":true,\"textposition\":\"auto\",\"type\":\"bar\",\"x\":[\"Americas\"],\"xaxis\":\"x9\",\"y\":[345152446],\"yaxis\":\"y9\"},{\"alignmentgroup\":\"True\",\"hovertemplate\":\"continent=%{x}<br>year=1957<br>pop=%{y}<extra></extra>\",\"legendgroup\":\"Americas\",\"marker\":{\"color\":\"#A3A500\",\"pattern\":{\"shape\":\"\"}},\"name\":\"Americas\",\"offsetgroup\":\"Americas\",\"orientation\":\"v\",\"showlegend\":false,\"textposition\":\"auto\",\"type\":\"bar\",\"x\":[\"Americas\"],\"xaxis\":\"x10\",\"y\":[386953916],\"yaxis\":\"y10\"},{\"alignmentgroup\":\"True\",\"hovertemplate\":\"continent=%{x}<br>year=1962<br>pop=%{y}<extra></extra>\",\"legendgroup\":\"Americas\",\"marker\":{\"color\":\"#A3A500\",\"pattern\":{\"shape\":\"\"}},\"name\":\"Americas\",\"offsetgroup\":\"Americas\",\"orientation\":\"v\",\"showlegend\":false,\"textposition\":\"auto\",\"type\":\"bar\",\"x\":[\"Americas\"],\"xaxis\":\"x11\",\"y\":[433270254],\"yaxis\":\"y11\"},{\"alignmentgroup\":\"True\",\"hovertemplate\":\"continent=%{x}<br>year=1967<br>pop=%{y}<extra></extra>\",\"legendgroup\":\"Americas\",\"marker\":{\"color\":\"#A3A500\",\"pattern\":{\"shape\":\"\"}},\"name\":\"Americas\",\"offsetgroup\":\"Americas\",\"orientation\":\"v\",\"showlegend\":false,\"textposition\":\"auto\",\"type\":\"bar\",\"x\":[\"Americas\"],\"xaxis\":\"x12\",\"y\":[480746623],\"yaxis\":\"y12\"},{\"alignmentgroup\":\"True\",\"hovertemplate\":\"continent=%{x}<br>year=1972<br>pop=%{y}<extra></extra>\",\"legendgroup\":\"Americas\",\"marker\":{\"color\":\"#A3A500\",\"pattern\":{\"shape\":\"\"}},\"name\":\"Americas\",\"offsetgroup\":\"Americas\",\"orientation\":\"v\",\"showlegend\":false,\"textposition\":\"auto\",\"type\":\"bar\",\"x\":[\"Americas\"],\"xaxis\":\"x5\",\"y\":[529384210],\"yaxis\":\"y5\"},{\"alignmentgroup\":\"True\",\"hovertemplate\":\"continent=%{x}<br>year=1977<br>pop=%{y}<extra></extra>\",\"legendgroup\":\"Americas\",\"marker\":{\"color\":\"#A3A500\",\"pattern\":{\"shape\":\"\"}},\"name\":\"Americas\",\"offsetgroup\":\"Americas\",\"orientation\":\"v\",\"showlegend\":false,\"textposition\":\"auto\",\"type\":\"bar\",\"x\":[\"Americas\"],\"xaxis\":\"x6\",\"y\":[578067699],\"yaxis\":\"y6\"},{\"alignmentgroup\":\"True\",\"hovertemplate\":\"continent=%{x}<br>year=1982<br>pop=%{y}<extra></extra>\",\"legendgroup\":\"Americas\",\"marker\":{\"color\":\"#A3A500\",\"pattern\":{\"shape\":\"\"}},\"name\":\"Americas\",\"offsetgroup\":\"Americas\",\"orientation\":\"v\",\"showlegend\":false,\"textposition\":\"auto\",\"type\":\"bar\",\"x\":[\"Americas\"],\"xaxis\":\"x7\",\"y\":[630290920],\"yaxis\":\"y7\"},{\"alignmentgroup\":\"True\",\"hovertemplate\":\"continent=%{x}<br>year=1987<br>pop=%{y}<extra></extra>\",\"legendgroup\":\"Americas\",\"marker\":{\"color\":\"#A3A500\",\"pattern\":{\"shape\":\"\"}},\"name\":\"Americas\",\"offsetgroup\":\"Americas\",\"orientation\":\"v\",\"showlegend\":false,\"textposition\":\"auto\",\"type\":\"bar\",\"x\":[\"Americas\"],\"xaxis\":\"x8\",\"y\":[682753971],\"yaxis\":\"y8\"},{\"alignmentgroup\":\"True\",\"hovertemplate\":\"continent=%{x}<br>year=1992<br>pop=%{y}<extra></extra>\",\"legendgroup\":\"Americas\",\"marker\":{\"color\":\"#A3A500\",\"pattern\":{\"shape\":\"\"}},\"name\":\"Americas\",\"offsetgroup\":\"Americas\",\"orientation\":\"v\",\"showlegend\":false,\"textposition\":\"auto\",\"type\":\"bar\",\"x\":[\"Americas\"],\"xaxis\":\"x\",\"y\":[739274104],\"yaxis\":\"y\"},{\"alignmentgroup\":\"True\",\"hovertemplate\":\"continent=%{x}<br>year=1997<br>pop=%{y}<extra></extra>\",\"legendgroup\":\"Americas\",\"marker\":{\"color\":\"#A3A500\",\"pattern\":{\"shape\":\"\"}},\"name\":\"Americas\",\"offsetgroup\":\"Americas\",\"orientation\":\"v\",\"showlegend\":false,\"textposition\":\"auto\",\"type\":\"bar\",\"x\":[\"Americas\"],\"xaxis\":\"x2\",\"y\":[796900410],\"yaxis\":\"y2\"},{\"alignmentgroup\":\"True\",\"hovertemplate\":\"continent=%{x}<br>year=2002<br>pop=%{y}<extra></extra>\",\"legendgroup\":\"Americas\",\"marker\":{\"color\":\"#A3A500\",\"pattern\":{\"shape\":\"\"}},\"name\":\"Americas\",\"offsetgroup\":\"Americas\",\"orientation\":\"v\",\"showlegend\":false,\"textposition\":\"auto\",\"type\":\"bar\",\"x\":[\"Americas\"],\"xaxis\":\"x3\",\"y\":[849772762],\"yaxis\":\"y3\"},{\"alignmentgroup\":\"True\",\"hovertemplate\":\"continent=%{x}<br>year=2007<br>pop=%{y}<extra></extra>\",\"legendgroup\":\"Americas\",\"marker\":{\"color\":\"#A3A500\",\"pattern\":{\"shape\":\"\"}},\"name\":\"Americas\",\"offsetgroup\":\"Americas\",\"orientation\":\"v\",\"showlegend\":false,\"textposition\":\"auto\",\"type\":\"bar\",\"x\":[\"Americas\"],\"xaxis\":\"x4\",\"y\":[898871184],\"yaxis\":\"y4\"},{\"alignmentgroup\":\"True\",\"hovertemplate\":\"continent=%{x}<br>year=1952<br>pop=%{y}<extra></extra>\",\"legendgroup\":\"Asia\",\"marker\":{\"color\":\"#00BF7D\",\"pattern\":{\"shape\":\"\"}},\"name\":\"Asia\",\"offsetgroup\":\"Asia\",\"orientation\":\"v\",\"showlegend\":true,\"textposition\":\"auto\",\"type\":\"bar\",\"x\":[\"Asia\"],\"xaxis\":\"x9\",\"y\":[1395357351],\"yaxis\":\"y9\"},{\"alignmentgroup\":\"True\",\"hovertemplate\":\"continent=%{x}<br>year=1957<br>pop=%{y}<extra></extra>\",\"legendgroup\":\"Asia\",\"marker\":{\"color\":\"#00BF7D\",\"pattern\":{\"shape\":\"\"}},\"name\":\"Asia\",\"offsetgroup\":\"Asia\",\"orientation\":\"v\",\"showlegend\":false,\"textposition\":\"auto\",\"type\":\"bar\",\"x\":[\"Asia\"],\"xaxis\":\"x10\",\"y\":[1562780599],\"yaxis\":\"y10\"},{\"alignmentgroup\":\"True\",\"hovertemplate\":\"continent=%{x}<br>year=1962<br>pop=%{y}<extra></extra>\",\"legendgroup\":\"Asia\",\"marker\":{\"color\":\"#00BF7D\",\"pattern\":{\"shape\":\"\"}},\"name\":\"Asia\",\"offsetgroup\":\"Asia\",\"orientation\":\"v\",\"showlegend\":false,\"textposition\":\"auto\",\"type\":\"bar\",\"x\":[\"Asia\"],\"xaxis\":\"x11\",\"y\":[1696357182],\"yaxis\":\"y11\"},{\"alignmentgroup\":\"True\",\"hovertemplate\":\"continent=%{x}<br>year=1967<br>pop=%{y}<extra></extra>\",\"legendgroup\":\"Asia\",\"marker\":{\"color\":\"#00BF7D\",\"pattern\":{\"shape\":\"\"}},\"name\":\"Asia\",\"offsetgroup\":\"Asia\",\"orientation\":\"v\",\"showlegend\":false,\"textposition\":\"auto\",\"type\":\"bar\",\"x\":[\"Asia\"],\"xaxis\":\"x12\",\"y\":[1905662900],\"yaxis\":\"y12\"},{\"alignmentgroup\":\"True\",\"hovertemplate\":\"continent=%{x}<br>year=1972<br>pop=%{y}<extra></extra>\",\"legendgroup\":\"Asia\",\"marker\":{\"color\":\"#00BF7D\",\"pattern\":{\"shape\":\"\"}},\"name\":\"Asia\",\"offsetgroup\":\"Asia\",\"orientation\":\"v\",\"showlegend\":false,\"textposition\":\"auto\",\"type\":\"bar\",\"x\":[\"Asia\"],\"xaxis\":\"x5\",\"y\":[2150972248],\"yaxis\":\"y5\"},{\"alignmentgroup\":\"True\",\"hovertemplate\":\"continent=%{x}<br>year=1977<br>pop=%{y}<extra></extra>\",\"legendgroup\":\"Asia\",\"marker\":{\"color\":\"#00BF7D\",\"pattern\":{\"shape\":\"\"}},\"name\":\"Asia\",\"offsetgroup\":\"Asia\",\"orientation\":\"v\",\"showlegend\":false,\"textposition\":\"auto\",\"type\":\"bar\",\"x\":[\"Asia\"],\"xaxis\":\"x6\",\"y\":[2384513556],\"yaxis\":\"y6\"},{\"alignmentgroup\":\"True\",\"hovertemplate\":\"continent=%{x}<br>year=1982<br>pop=%{y}<extra></extra>\",\"legendgroup\":\"Asia\",\"marker\":{\"color\":\"#00BF7D\",\"pattern\":{\"shape\":\"\"}},\"name\":\"Asia\",\"offsetgroup\":\"Asia\",\"orientation\":\"v\",\"showlegend\":false,\"textposition\":\"auto\",\"type\":\"bar\",\"x\":[\"Asia\"],\"xaxis\":\"x7\",\"y\":[2610135582],\"yaxis\":\"y7\"},{\"alignmentgroup\":\"True\",\"hovertemplate\":\"continent=%{x}<br>year=1987<br>pop=%{y}<extra></extra>\",\"legendgroup\":\"Asia\",\"marker\":{\"color\":\"#00BF7D\",\"pattern\":{\"shape\":\"\"}},\"name\":\"Asia\",\"offsetgroup\":\"Asia\",\"orientation\":\"v\",\"showlegend\":false,\"textposition\":\"auto\",\"type\":\"bar\",\"x\":[\"Asia\"],\"xaxis\":\"x8\",\"y\":[2871220762],\"yaxis\":\"y8\"},{\"alignmentgroup\":\"True\",\"hovertemplate\":\"continent=%{x}<br>year=1992<br>pop=%{y}<extra></extra>\",\"legendgroup\":\"Asia\",\"marker\":{\"color\":\"#00BF7D\",\"pattern\":{\"shape\":\"\"}},\"name\":\"Asia\",\"offsetgroup\":\"Asia\",\"orientation\":\"v\",\"showlegend\":false,\"textposition\":\"auto\",\"type\":\"bar\",\"x\":[\"Asia\"],\"xaxis\":\"x\",\"y\":[3133292191],\"yaxis\":\"y\"},{\"alignmentgroup\":\"True\",\"hovertemplate\":\"continent=%{x}<br>year=1997<br>pop=%{y}<extra></extra>\",\"legendgroup\":\"Asia\",\"marker\":{\"color\":\"#00BF7D\",\"pattern\":{\"shape\":\"\"}},\"name\":\"Asia\",\"offsetgroup\":\"Asia\",\"orientation\":\"v\",\"showlegend\":false,\"textposition\":\"auto\",\"type\":\"bar\",\"x\":[\"Asia\"],\"xaxis\":\"x2\",\"y\":[3383285500],\"yaxis\":\"y2\"},{\"alignmentgroup\":\"True\",\"hovertemplate\":\"continent=%{x}<br>year=2002<br>pop=%{y}<extra></extra>\",\"legendgroup\":\"Asia\",\"marker\":{\"color\":\"#00BF7D\",\"pattern\":{\"shape\":\"\"}},\"name\":\"Asia\",\"offsetgroup\":\"Asia\",\"orientation\":\"v\",\"showlegend\":false,\"textposition\":\"auto\",\"type\":\"bar\",\"x\":[\"Asia\"],\"xaxis\":\"x3\",\"y\":[3601802203],\"yaxis\":\"y3\"},{\"alignmentgroup\":\"True\",\"hovertemplate\":\"continent=%{x}<br>year=2007<br>pop=%{y}<extra></extra>\",\"legendgroup\":\"Asia\",\"marker\":{\"color\":\"#00BF7D\",\"pattern\":{\"shape\":\"\"}},\"name\":\"Asia\",\"offsetgroup\":\"Asia\",\"orientation\":\"v\",\"showlegend\":false,\"textposition\":\"auto\",\"type\":\"bar\",\"x\":[\"Asia\"],\"xaxis\":\"x4\",\"y\":[3811953827],\"yaxis\":\"y4\"},{\"alignmentgroup\":\"True\",\"hovertemplate\":\"continent=%{x}<br>year=1952<br>pop=%{y}<extra></extra>\",\"legendgroup\":\"Europe\",\"marker\":{\"color\":\"#00B0F6\",\"pattern\":{\"shape\":\"\"}},\"name\":\"Europe\",\"offsetgroup\":\"Europe\",\"orientation\":\"v\",\"showlegend\":true,\"textposition\":\"auto\",\"type\":\"bar\",\"x\":[\"Europe\"],\"xaxis\":\"x9\",\"y\":[418120846],\"yaxis\":\"y9\"},{\"alignmentgroup\":\"True\",\"hovertemplate\":\"continent=%{x}<br>year=1957<br>pop=%{y}<extra></extra>\",\"legendgroup\":\"Europe\",\"marker\":{\"color\":\"#00B0F6\",\"pattern\":{\"shape\":\"\"}},\"name\":\"Europe\",\"offsetgroup\":\"Europe\",\"orientation\":\"v\",\"showlegend\":false,\"textposition\":\"auto\",\"type\":\"bar\",\"x\":[\"Europe\"],\"xaxis\":\"x10\",\"y\":[437890351],\"yaxis\":\"y10\"},{\"alignmentgroup\":\"True\",\"hovertemplate\":\"continent=%{x}<br>year=1962<br>pop=%{y}<extra></extra>\",\"legendgroup\":\"Europe\",\"marker\":{\"color\":\"#00B0F6\",\"pattern\":{\"shape\":\"\"}},\"name\":\"Europe\",\"offsetgroup\":\"Europe\",\"orientation\":\"v\",\"showlegend\":false,\"textposition\":\"auto\",\"type\":\"bar\",\"x\":[\"Europe\"],\"xaxis\":\"x11\",\"y\":[460355155],\"yaxis\":\"y11\"},{\"alignmentgroup\":\"True\",\"hovertemplate\":\"continent=%{x}<br>year=1967<br>pop=%{y}<extra></extra>\",\"legendgroup\":\"Europe\",\"marker\":{\"color\":\"#00B0F6\",\"pattern\":{\"shape\":\"\"}},\"name\":\"Europe\",\"offsetgroup\":\"Europe\",\"orientation\":\"v\",\"showlegend\":false,\"textposition\":\"auto\",\"type\":\"bar\",\"x\":[\"Europe\"],\"xaxis\":\"x12\",\"y\":[481178958],\"yaxis\":\"y12\"},{\"alignmentgroup\":\"True\",\"hovertemplate\":\"continent=%{x}<br>year=1972<br>pop=%{y}<extra></extra>\",\"legendgroup\":\"Europe\",\"marker\":{\"color\":\"#00B0F6\",\"pattern\":{\"shape\":\"\"}},\"name\":\"Europe\",\"offsetgroup\":\"Europe\",\"orientation\":\"v\",\"showlegend\":false,\"textposition\":\"auto\",\"type\":\"bar\",\"x\":[\"Europe\"],\"xaxis\":\"x5\",\"y\":[500635059],\"yaxis\":\"y5\"},{\"alignmentgroup\":\"True\",\"hovertemplate\":\"continent=%{x}<br>year=1977<br>pop=%{y}<extra></extra>\",\"legendgroup\":\"Europe\",\"marker\":{\"color\":\"#00B0F6\",\"pattern\":{\"shape\":\"\"}},\"name\":\"Europe\",\"offsetgroup\":\"Europe\",\"orientation\":\"v\",\"showlegend\":false,\"textposition\":\"auto\",\"type\":\"bar\",\"x\":[\"Europe\"],\"xaxis\":\"x6\",\"y\":[517164531],\"yaxis\":\"y6\"},{\"alignmentgroup\":\"True\",\"hovertemplate\":\"continent=%{x}<br>year=1982<br>pop=%{y}<extra></extra>\",\"legendgroup\":\"Europe\",\"marker\":{\"color\":\"#00B0F6\",\"pattern\":{\"shape\":\"\"}},\"name\":\"Europe\",\"offsetgroup\":\"Europe\",\"orientation\":\"v\",\"showlegend\":false,\"textposition\":\"auto\",\"type\":\"bar\",\"x\":[\"Europe\"],\"xaxis\":\"x7\",\"y\":[531266901],\"yaxis\":\"y7\"},{\"alignmentgroup\":\"True\",\"hovertemplate\":\"continent=%{x}<br>year=1987<br>pop=%{y}<extra></extra>\",\"legendgroup\":\"Europe\",\"marker\":{\"color\":\"#00B0F6\",\"pattern\":{\"shape\":\"\"}},\"name\":\"Europe\",\"offsetgroup\":\"Europe\",\"orientation\":\"v\",\"showlegend\":false,\"textposition\":\"auto\",\"type\":\"bar\",\"x\":[\"Europe\"],\"xaxis\":\"x8\",\"y\":[543094160],\"yaxis\":\"y8\"},{\"alignmentgroup\":\"True\",\"hovertemplate\":\"continent=%{x}<br>year=1992<br>pop=%{y}<extra></extra>\",\"legendgroup\":\"Europe\",\"marker\":{\"color\":\"#00B0F6\",\"pattern\":{\"shape\":\"\"}},\"name\":\"Europe\",\"offsetgroup\":\"Europe\",\"orientation\":\"v\",\"showlegend\":false,\"textposition\":\"auto\",\"type\":\"bar\",\"x\":[\"Europe\"],\"xaxis\":\"x\",\"y\":[558142797],\"yaxis\":\"y\"},{\"alignmentgroup\":\"True\",\"hovertemplate\":\"continent=%{x}<br>year=1997<br>pop=%{y}<extra></extra>\",\"legendgroup\":\"Europe\",\"marker\":{\"color\":\"#00B0F6\",\"pattern\":{\"shape\":\"\"}},\"name\":\"Europe\",\"offsetgroup\":\"Europe\",\"orientation\":\"v\",\"showlegend\":false,\"textposition\":\"auto\",\"type\":\"bar\",\"x\":[\"Europe\"],\"xaxis\":\"x2\",\"y\":[568944148],\"yaxis\":\"y2\"},{\"alignmentgroup\":\"True\",\"hovertemplate\":\"continent=%{x}<br>year=2002<br>pop=%{y}<extra></extra>\",\"legendgroup\":\"Europe\",\"marker\":{\"color\":\"#00B0F6\",\"pattern\":{\"shape\":\"\"}},\"name\":\"Europe\",\"offsetgroup\":\"Europe\",\"orientation\":\"v\",\"showlegend\":false,\"textposition\":\"auto\",\"type\":\"bar\",\"x\":[\"Europe\"],\"xaxis\":\"x3\",\"y\":[578223869],\"yaxis\":\"y3\"},{\"alignmentgroup\":\"True\",\"hovertemplate\":\"continent=%{x}<br>year=2007<br>pop=%{y}<extra></extra>\",\"legendgroup\":\"Europe\",\"marker\":{\"color\":\"#00B0F6\",\"pattern\":{\"shape\":\"\"}},\"name\":\"Europe\",\"offsetgroup\":\"Europe\",\"orientation\":\"v\",\"showlegend\":false,\"textposition\":\"auto\",\"type\":\"bar\",\"x\":[\"Europe\"],\"xaxis\":\"x4\",\"y\":[586098529],\"yaxis\":\"y4\"},{\"alignmentgroup\":\"True\",\"hovertemplate\":\"continent=%{x}<br>year=1952<br>pop=%{y}<extra></extra>\",\"legendgroup\":\"Oceania\",\"marker\":{\"color\":\"#E76BF3\",\"pattern\":{\"shape\":\"\"}},\"name\":\"Oceania\",\"offsetgroup\":\"Oceania\",\"orientation\":\"v\",\"showlegend\":true,\"textposition\":\"auto\",\"type\":\"bar\",\"x\":[\"Oceania\"],\"xaxis\":\"x9\",\"y\":[10686006],\"yaxis\":\"y9\"},{\"alignmentgroup\":\"True\",\"hovertemplate\":\"continent=%{x}<br>year=1957<br>pop=%{y}<extra></extra>\",\"legendgroup\":\"Oceania\",\"marker\":{\"color\":\"#E76BF3\",\"pattern\":{\"shape\":\"\"}},\"name\":\"Oceania\",\"offsetgroup\":\"Oceania\",\"orientation\":\"v\",\"showlegend\":false,\"textposition\":\"auto\",\"type\":\"bar\",\"x\":[\"Oceania\"],\"xaxis\":\"x10\",\"y\":[11941976],\"yaxis\":\"y10\"},{\"alignmentgroup\":\"True\",\"hovertemplate\":\"continent=%{x}<br>year=1962<br>pop=%{y}<extra></extra>\",\"legendgroup\":\"Oceania\",\"marker\":{\"color\":\"#E76BF3\",\"pattern\":{\"shape\":\"\"}},\"name\":\"Oceania\",\"offsetgroup\":\"Oceania\",\"orientation\":\"v\",\"showlegend\":false,\"textposition\":\"auto\",\"type\":\"bar\",\"x\":[\"Oceania\"],\"xaxis\":\"x11\",\"y\":[13283518],\"yaxis\":\"y11\"},{\"alignmentgroup\":\"True\",\"hovertemplate\":\"continent=%{x}<br>year=1967<br>pop=%{y}<extra></extra>\",\"legendgroup\":\"Oceania\",\"marker\":{\"color\":\"#E76BF3\",\"pattern\":{\"shape\":\"\"}},\"name\":\"Oceania\",\"offsetgroup\":\"Oceania\",\"orientation\":\"v\",\"showlegend\":false,\"textposition\":\"auto\",\"type\":\"bar\",\"x\":[\"Oceania\"],\"xaxis\":\"x12\",\"y\":[14600414],\"yaxis\":\"y12\"},{\"alignmentgroup\":\"True\",\"hovertemplate\":\"continent=%{x}<br>year=1972<br>pop=%{y}<extra></extra>\",\"legendgroup\":\"Oceania\",\"marker\":{\"color\":\"#E76BF3\",\"pattern\":{\"shape\":\"\"}},\"name\":\"Oceania\",\"offsetgroup\":\"Oceania\",\"orientation\":\"v\",\"showlegend\":false,\"textposition\":\"auto\",\"type\":\"bar\",\"x\":[\"Oceania\"],\"xaxis\":\"x5\",\"y\":[16106100],\"yaxis\":\"y5\"},{\"alignmentgroup\":\"True\",\"hovertemplate\":\"continent=%{x}<br>year=1977<br>pop=%{y}<extra></extra>\",\"legendgroup\":\"Oceania\",\"marker\":{\"color\":\"#E76BF3\",\"pattern\":{\"shape\":\"\"}},\"name\":\"Oceania\",\"offsetgroup\":\"Oceania\",\"orientation\":\"v\",\"showlegend\":false,\"textposition\":\"auto\",\"type\":\"bar\",\"x\":[\"Oceania\"],\"xaxis\":\"x6\",\"y\":[17239000],\"yaxis\":\"y6\"},{\"alignmentgroup\":\"True\",\"hovertemplate\":\"continent=%{x}<br>year=1982<br>pop=%{y}<extra></extra>\",\"legendgroup\":\"Oceania\",\"marker\":{\"color\":\"#E76BF3\",\"pattern\":{\"shape\":\"\"}},\"name\":\"Oceania\",\"offsetgroup\":\"Oceania\",\"orientation\":\"v\",\"showlegend\":false,\"textposition\":\"auto\",\"type\":\"bar\",\"x\":[\"Oceania\"],\"xaxis\":\"x7\",\"y\":[18394850],\"yaxis\":\"y7\"},{\"alignmentgroup\":\"True\",\"hovertemplate\":\"continent=%{x}<br>year=1987<br>pop=%{y}<extra></extra>\",\"legendgroup\":\"Oceania\",\"marker\":{\"color\":\"#E76BF3\",\"pattern\":{\"shape\":\"\"}},\"name\":\"Oceania\",\"offsetgroup\":\"Oceania\",\"orientation\":\"v\",\"showlegend\":false,\"textposition\":\"auto\",\"type\":\"bar\",\"x\":[\"Oceania\"],\"xaxis\":\"x8\",\"y\":[19574415],\"yaxis\":\"y8\"},{\"alignmentgroup\":\"True\",\"hovertemplate\":\"continent=%{x}<br>year=1992<br>pop=%{y}<extra></extra>\",\"legendgroup\":\"Oceania\",\"marker\":{\"color\":\"#E76BF3\",\"pattern\":{\"shape\":\"\"}},\"name\":\"Oceania\",\"offsetgroup\":\"Oceania\",\"orientation\":\"v\",\"showlegend\":false,\"textposition\":\"auto\",\"type\":\"bar\",\"x\":[\"Oceania\"],\"xaxis\":\"x\",\"y\":[20919651],\"yaxis\":\"y\"},{\"alignmentgroup\":\"True\",\"hovertemplate\":\"continent=%{x}<br>year=1997<br>pop=%{y}<extra></extra>\",\"legendgroup\":\"Oceania\",\"marker\":{\"color\":\"#E76BF3\",\"pattern\":{\"shape\":\"\"}},\"name\":\"Oceania\",\"offsetgroup\":\"Oceania\",\"orientation\":\"v\",\"showlegend\":false,\"textposition\":\"auto\",\"type\":\"bar\",\"x\":[\"Oceania\"],\"xaxis\":\"x2\",\"y\":[22241430],\"yaxis\":\"y2\"},{\"alignmentgroup\":\"True\",\"hovertemplate\":\"continent=%{x}<br>year=2002<br>pop=%{y}<extra></extra>\",\"legendgroup\":\"Oceania\",\"marker\":{\"color\":\"#E76BF3\",\"pattern\":{\"shape\":\"\"}},\"name\":\"Oceania\",\"offsetgroup\":\"Oceania\",\"orientation\":\"v\",\"showlegend\":false,\"textposition\":\"auto\",\"type\":\"bar\",\"x\":[\"Oceania\"],\"xaxis\":\"x3\",\"y\":[23454829],\"yaxis\":\"y3\"},{\"alignmentgroup\":\"True\",\"hovertemplate\":\"continent=%{x}<br>year=2007<br>pop=%{y}<extra></extra>\",\"legendgroup\":\"Oceania\",\"marker\":{\"color\":\"#E76BF3\",\"pattern\":{\"shape\":\"\"}},\"name\":\"Oceania\",\"offsetgroup\":\"Oceania\",\"orientation\":\"v\",\"showlegend\":false,\"textposition\":\"auto\",\"type\":\"bar\",\"x\":[\"Oceania\"],\"xaxis\":\"x4\",\"y\":[24549947],\"yaxis\":\"y4\"}],                        {\"annotations\":[{\"font\":{},\"showarrow\":false,\"text\":\"year=1992\",\"x\":0.1175,\"xanchor\":\"center\",\"xref\":\"paper\",\"y\":0.2866666666666666,\"yanchor\":\"bottom\",\"yref\":\"paper\"},{\"font\":{},\"showarrow\":false,\"text\":\"year=1997\",\"x\":0.3725,\"xanchor\":\"center\",\"xref\":\"paper\",\"y\":0.2866666666666666,\"yanchor\":\"bottom\",\"yref\":\"paper\"},{\"font\":{},\"showarrow\":false,\"text\":\"year=2002\",\"x\":0.6275,\"xanchor\":\"center\",\"xref\":\"paper\",\"y\":0.2866666666666666,\"yanchor\":\"bottom\",\"yref\":\"paper\"},{\"font\":{},\"showarrow\":false,\"text\":\"year=2007\",\"x\":0.8824999999999998,\"xanchor\":\"center\",\"xref\":\"paper\",\"y\":0.2866666666666666,\"yanchor\":\"bottom\",\"yref\":\"paper\"},{\"font\":{},\"showarrow\":false,\"text\":\"year=1972\",\"x\":0.1175,\"xanchor\":\"center\",\"xref\":\"paper\",\"y\":0.6433333333333333,\"yanchor\":\"bottom\",\"yref\":\"paper\"},{\"font\":{},\"showarrow\":false,\"text\":\"year=1977\",\"x\":0.3725,\"xanchor\":\"center\",\"xref\":\"paper\",\"y\":0.6433333333333333,\"yanchor\":\"bottom\",\"yref\":\"paper\"},{\"font\":{},\"showarrow\":false,\"text\":\"year=1982\",\"x\":0.6275,\"xanchor\":\"center\",\"xref\":\"paper\",\"y\":0.6433333333333333,\"yanchor\":\"bottom\",\"yref\":\"paper\"},{\"font\":{},\"showarrow\":false,\"text\":\"year=1987\",\"x\":0.8824999999999998,\"xanchor\":\"center\",\"xref\":\"paper\",\"y\":0.6433333333333333,\"yanchor\":\"bottom\",\"yref\":\"paper\"},{\"font\":{},\"showarrow\":false,\"text\":\"year=1952\",\"x\":0.1175,\"xanchor\":\"center\",\"xref\":\"paper\",\"y\":0.9999999999999999,\"yanchor\":\"bottom\",\"yref\":\"paper\"},{\"font\":{},\"showarrow\":false,\"text\":\"year=1957\",\"x\":0.3725,\"xanchor\":\"center\",\"xref\":\"paper\",\"y\":0.9999999999999999,\"yanchor\":\"bottom\",\"yref\":\"paper\"},{\"font\":{},\"showarrow\":false,\"text\":\"year=1962\",\"x\":0.6275,\"xanchor\":\"center\",\"xref\":\"paper\",\"y\":0.9999999999999999,\"yanchor\":\"bottom\",\"yref\":\"paper\"},{\"font\":{},\"showarrow\":false,\"text\":\"year=1967\",\"x\":0.8824999999999998,\"xanchor\":\"center\",\"xref\":\"paper\",\"y\":0.9999999999999999,\"yanchor\":\"bottom\",\"yref\":\"paper\"}],\"barmode\":\"relative\",\"legend\":{\"title\":{\"text\":\"continent\"},\"tracegroupgap\":0},\"template\":{\"data\":{\"bar\":[{\"error_x\":{\"color\":\"rgb(51,51,51)\"},\"error_y\":{\"color\":\"rgb(51,51,51)\"},\"marker\":{\"line\":{\"color\":\"rgb(237,237,237)\",\"width\":0.5},\"pattern\":{\"fillmode\":\"overlay\",\"size\":10,\"solidity\":0.2}},\"type\":\"bar\"}],\"barpolar\":[{\"marker\":{\"line\":{\"color\":\"rgb(237,237,237)\",\"width\":0.5},\"pattern\":{\"fillmode\":\"overlay\",\"size\":10,\"solidity\":0.2}},\"type\":\"barpolar\"}],\"carpet\":[{\"aaxis\":{\"endlinecolor\":\"rgb(51,51,51)\",\"gridcolor\":\"white\",\"linecolor\":\"white\",\"minorgridcolor\":\"white\",\"startlinecolor\":\"rgb(51,51,51)\"},\"baxis\":{\"endlinecolor\":\"rgb(51,51,51)\",\"gridcolor\":\"white\",\"linecolor\":\"white\",\"minorgridcolor\":\"white\",\"startlinecolor\":\"rgb(51,51,51)\"},\"type\":\"carpet\"}],\"choropleth\":[{\"colorbar\":{\"outlinewidth\":0,\"tickcolor\":\"rgb(237,237,237)\",\"ticklen\":6,\"ticks\":\"inside\"},\"type\":\"choropleth\"}],\"contour\":[{\"colorbar\":{\"outlinewidth\":0,\"tickcolor\":\"rgb(237,237,237)\",\"ticklen\":6,\"ticks\":\"inside\"},\"colorscale\":[[0,\"rgb(20,44,66)\"],[1,\"rgb(90,179,244)\"]],\"type\":\"contour\"}],\"contourcarpet\":[{\"colorbar\":{\"outlinewidth\":0,\"tickcolor\":\"rgb(237,237,237)\",\"ticklen\":6,\"ticks\":\"inside\"},\"type\":\"contourcarpet\"}],\"heatmap\":[{\"colorbar\":{\"outlinewidth\":0,\"tickcolor\":\"rgb(237,237,237)\",\"ticklen\":6,\"ticks\":\"inside\"},\"colorscale\":[[0,\"rgb(20,44,66)\"],[1,\"rgb(90,179,244)\"]],\"type\":\"heatmap\"}],\"heatmapgl\":[{\"colorbar\":{\"outlinewidth\":0,\"tickcolor\":\"rgb(237,237,237)\",\"ticklen\":6,\"ticks\":\"inside\"},\"colorscale\":[[0,\"rgb(20,44,66)\"],[1,\"rgb(90,179,244)\"]],\"type\":\"heatmapgl\"}],\"histogram\":[{\"marker\":{\"pattern\":{\"fillmode\":\"overlay\",\"size\":10,\"solidity\":0.2}},\"type\":\"histogram\"}],\"histogram2d\":[{\"colorbar\":{\"outlinewidth\":0,\"tickcolor\":\"rgb(237,237,237)\",\"ticklen\":6,\"ticks\":\"inside\"},\"colorscale\":[[0,\"rgb(20,44,66)\"],[1,\"rgb(90,179,244)\"]],\"type\":\"histogram2d\"}],\"histogram2dcontour\":[{\"colorbar\":{\"outlinewidth\":0,\"tickcolor\":\"rgb(237,237,237)\",\"ticklen\":6,\"ticks\":\"inside\"},\"colorscale\":[[0,\"rgb(20,44,66)\"],[1,\"rgb(90,179,244)\"]],\"type\":\"histogram2dcontour\"}],\"mesh3d\":[{\"colorbar\":{\"outlinewidth\":0,\"tickcolor\":\"rgb(237,237,237)\",\"ticklen\":6,\"ticks\":\"inside\"},\"type\":\"mesh3d\"}],\"parcoords\":[{\"line\":{\"colorbar\":{\"outlinewidth\":0,\"tickcolor\":\"rgb(237,237,237)\",\"ticklen\":6,\"ticks\":\"inside\"}},\"type\":\"parcoords\"}],\"pie\":[{\"automargin\":true,\"type\":\"pie\"}],\"scatter\":[{\"marker\":{\"colorbar\":{\"outlinewidth\":0,\"tickcolor\":\"rgb(237,237,237)\",\"ticklen\":6,\"ticks\":\"inside\"}},\"type\":\"scatter\"}],\"scatter3d\":[{\"line\":{\"colorbar\":{\"outlinewidth\":0,\"tickcolor\":\"rgb(237,237,237)\",\"ticklen\":6,\"ticks\":\"inside\"}},\"marker\":{\"colorbar\":{\"outlinewidth\":0,\"tickcolor\":\"rgb(237,237,237)\",\"ticklen\":6,\"ticks\":\"inside\"}},\"type\":\"scatter3d\"}],\"scattercarpet\":[{\"marker\":{\"colorbar\":{\"outlinewidth\":0,\"tickcolor\":\"rgb(237,237,237)\",\"ticklen\":6,\"ticks\":\"inside\"}},\"type\":\"scattercarpet\"}],\"scattergeo\":[{\"marker\":{\"colorbar\":{\"outlinewidth\":0,\"tickcolor\":\"rgb(237,237,237)\",\"ticklen\":6,\"ticks\":\"inside\"}},\"type\":\"scattergeo\"}],\"scattergl\":[{\"marker\":{\"colorbar\":{\"outlinewidth\":0,\"tickcolor\":\"rgb(237,237,237)\",\"ticklen\":6,\"ticks\":\"inside\"}},\"type\":\"scattergl\"}],\"scattermapbox\":[{\"marker\":{\"colorbar\":{\"outlinewidth\":0,\"tickcolor\":\"rgb(237,237,237)\",\"ticklen\":6,\"ticks\":\"inside\"}},\"type\":\"scattermapbox\"}],\"scatterpolar\":[{\"marker\":{\"colorbar\":{\"outlinewidth\":0,\"tickcolor\":\"rgb(237,237,237)\",\"ticklen\":6,\"ticks\":\"inside\"}},\"type\":\"scatterpolar\"}],\"scatterpolargl\":[{\"marker\":{\"colorbar\":{\"outlinewidth\":0,\"tickcolor\":\"rgb(237,237,237)\",\"ticklen\":6,\"ticks\":\"inside\"}},\"type\":\"scatterpolargl\"}],\"scatterternary\":[{\"marker\":{\"colorbar\":{\"outlinewidth\":0,\"tickcolor\":\"rgb(237,237,237)\",\"ticklen\":6,\"ticks\":\"inside\"}},\"type\":\"scatterternary\"}],\"surface\":[{\"colorbar\":{\"outlinewidth\":0,\"tickcolor\":\"rgb(237,237,237)\",\"ticklen\":6,\"ticks\":\"inside\"},\"colorscale\":[[0,\"rgb(20,44,66)\"],[1,\"rgb(90,179,244)\"]],\"type\":\"surface\"}],\"table\":[{\"cells\":{\"fill\":{\"color\":\"rgb(237,237,237)\"},\"line\":{\"color\":\"white\"}},\"header\":{\"fill\":{\"color\":\"rgb(217,217,217)\"},\"line\":{\"color\":\"white\"}},\"type\":\"table\"}]},\"layout\":{\"annotationdefaults\":{\"arrowhead\":0,\"arrowwidth\":1},\"autotypenumbers\":\"strict\",\"coloraxis\":{\"colorbar\":{\"outlinewidth\":0,\"tickcolor\":\"rgb(237,237,237)\",\"ticklen\":6,\"ticks\":\"inside\"}},\"colorscale\":{\"sequential\":[[0,\"rgb(20,44,66)\"],[1,\"rgb(90,179,244)\"]],\"sequentialminus\":[[0,\"rgb(20,44,66)\"],[1,\"rgb(90,179,244)\"]]},\"colorway\":[\"#F8766D\",\"#A3A500\",\"#00BF7D\",\"#00B0F6\",\"#E76BF3\"],\"font\":{\"color\":\"rgb(51,51,51)\"},\"geo\":{\"bgcolor\":\"white\",\"lakecolor\":\"white\",\"landcolor\":\"rgb(237,237,237)\",\"showlakes\":true,\"showland\":true,\"subunitcolor\":\"white\"},\"hoverlabel\":{\"align\":\"left\"},\"hovermode\":\"closest\",\"paper_bgcolor\":\"white\",\"plot_bgcolor\":\"rgb(237,237,237)\",\"polar\":{\"angularaxis\":{\"gridcolor\":\"white\",\"linecolor\":\"white\",\"showgrid\":true,\"tickcolor\":\"rgb(51,51,51)\",\"ticks\":\"outside\"},\"bgcolor\":\"rgb(237,237,237)\",\"radialaxis\":{\"gridcolor\":\"white\",\"linecolor\":\"white\",\"showgrid\":true,\"tickcolor\":\"rgb(51,51,51)\",\"ticks\":\"outside\"}},\"scene\":{\"xaxis\":{\"backgroundcolor\":\"rgb(237,237,237)\",\"gridcolor\":\"white\",\"gridwidth\":2,\"linecolor\":\"white\",\"showbackground\":true,\"showgrid\":true,\"tickcolor\":\"rgb(51,51,51)\",\"ticks\":\"outside\",\"zerolinecolor\":\"white\"},\"yaxis\":{\"backgroundcolor\":\"rgb(237,237,237)\",\"gridcolor\":\"white\",\"gridwidth\":2,\"linecolor\":\"white\",\"showbackground\":true,\"showgrid\":true,\"tickcolor\":\"rgb(51,51,51)\",\"ticks\":\"outside\",\"zerolinecolor\":\"white\"},\"zaxis\":{\"backgroundcolor\":\"rgb(237,237,237)\",\"gridcolor\":\"white\",\"gridwidth\":2,\"linecolor\":\"white\",\"showbackground\":true,\"showgrid\":true,\"tickcolor\":\"rgb(51,51,51)\",\"ticks\":\"outside\",\"zerolinecolor\":\"white\"}},\"shapedefaults\":{\"fillcolor\":\"black\",\"line\":{\"width\":0},\"opacity\":0.3},\"ternary\":{\"aaxis\":{\"gridcolor\":\"white\",\"linecolor\":\"white\",\"showgrid\":true,\"tickcolor\":\"rgb(51,51,51)\",\"ticks\":\"outside\"},\"baxis\":{\"gridcolor\":\"white\",\"linecolor\":\"white\",\"showgrid\":true,\"tickcolor\":\"rgb(51,51,51)\",\"ticks\":\"outside\"},\"bgcolor\":\"rgb(237,237,237)\",\"caxis\":{\"gridcolor\":\"white\",\"linecolor\":\"white\",\"showgrid\":true,\"tickcolor\":\"rgb(51,51,51)\",\"ticks\":\"outside\"}},\"xaxis\":{\"automargin\":true,\"gridcolor\":\"white\",\"linecolor\":\"white\",\"showgrid\":true,\"tickcolor\":\"rgb(51,51,51)\",\"ticks\":\"outside\",\"title\":{\"standoff\":15},\"zerolinecolor\":\"white\"},\"yaxis\":{\"automargin\":true,\"gridcolor\":\"white\",\"linecolor\":\"white\",\"showgrid\":true,\"tickcolor\":\"rgb(51,51,51)\",\"ticks\":\"outside\",\"title\":{\"standoff\":15},\"zerolinecolor\":\"white\"}}},\"title\":{\"text\":\"World Population by Continent\"},\"xaxis\":{\"anchor\":\"y\",\"categoryarray\":[\"Africa\",\"Americas\",\"Asia\",\"Europe\",\"Oceania\"],\"categoryorder\":\"array\",\"domain\":[0.0,0.235],\"title\":{\"text\":\"continent\"}},\"xaxis10\":{\"anchor\":\"y10\",\"domain\":[0.255,0.49],\"matches\":\"x\",\"showticklabels\":false},\"xaxis11\":{\"anchor\":\"y11\",\"domain\":[0.51,0.745],\"matches\":\"x\",\"showticklabels\":false},\"xaxis12\":{\"anchor\":\"y12\",\"domain\":[0.7649999999999999,0.9999999999999999],\"matches\":\"x\",\"showticklabels\":false},\"xaxis2\":{\"anchor\":\"y2\",\"categoryarray\":[\"Africa\",\"Americas\",\"Asia\",\"Europe\",\"Oceania\"],\"categoryorder\":\"array\",\"domain\":[0.255,0.49],\"matches\":\"x\",\"title\":{\"text\":\"continent\"}},\"xaxis3\":{\"anchor\":\"y3\",\"categoryarray\":[\"Africa\",\"Americas\",\"Asia\",\"Europe\",\"Oceania\"],\"categoryorder\":\"array\",\"domain\":[0.51,0.745],\"matches\":\"x\",\"title\":{\"text\":\"continent\"}},\"xaxis4\":{\"anchor\":\"y4\",\"categoryarray\":[\"Africa\",\"Americas\",\"Asia\",\"Europe\",\"Oceania\"],\"categoryorder\":\"array\",\"domain\":[0.7649999999999999,0.9999999999999999],\"matches\":\"x\",\"title\":{\"text\":\"continent\"}},\"xaxis5\":{\"anchor\":\"y5\",\"domain\":[0.0,0.235],\"matches\":\"x\",\"showticklabels\":false},\"xaxis6\":{\"anchor\":\"y6\",\"domain\":[0.255,0.49],\"matches\":\"x\",\"showticklabels\":false},\"xaxis7\":{\"anchor\":\"y7\",\"domain\":[0.51,0.745],\"matches\":\"x\",\"showticklabels\":false},\"xaxis8\":{\"anchor\":\"y8\",\"domain\":[0.7649999999999999,0.9999999999999999],\"matches\":\"x\",\"showticklabels\":false},\"xaxis9\":{\"anchor\":\"y9\",\"domain\":[0.0,0.235],\"matches\":\"x\",\"showticklabels\":false},\"yaxis\":{\"anchor\":\"x\",\"domain\":[0.0,0.2866666666666666],\"title\":{\"text\":\"pop\"}},\"yaxis10\":{\"anchor\":\"x10\",\"domain\":[0.7133333333333333,0.9999999999999999],\"matches\":\"y\",\"showticklabels\":false},\"yaxis11\":{\"anchor\":\"x11\",\"domain\":[0.7133333333333333,0.9999999999999999],\"matches\":\"y\",\"showticklabels\":false},\"yaxis12\":{\"anchor\":\"x12\",\"domain\":[0.7133333333333333,0.9999999999999999],\"matches\":\"y\",\"showticklabels\":false},\"yaxis2\":{\"anchor\":\"x2\",\"domain\":[0.0,0.2866666666666666],\"matches\":\"y\",\"showticklabels\":false},\"yaxis3\":{\"anchor\":\"x3\",\"domain\":[0.0,0.2866666666666666],\"matches\":\"y\",\"showticklabels\":false},\"yaxis4\":{\"anchor\":\"x4\",\"domain\":[0.0,0.2866666666666666],\"matches\":\"y\",\"showticklabels\":false},\"yaxis5\":{\"anchor\":\"x5\",\"domain\":[0.35666666666666663,0.6433333333333333],\"matches\":\"y\",\"title\":{\"text\":\"pop\"}},\"yaxis6\":{\"anchor\":\"x6\",\"domain\":[0.35666666666666663,0.6433333333333333],\"matches\":\"y\",\"showticklabels\":false},\"yaxis7\":{\"anchor\":\"x7\",\"domain\":[0.35666666666666663,0.6433333333333333],\"matches\":\"y\",\"showticklabels\":false},\"yaxis8\":{\"anchor\":\"x8\",\"domain\":[0.35666666666666663,0.6433333333333333],\"matches\":\"y\",\"showticklabels\":false},\"yaxis9\":{\"anchor\":\"x9\",\"domain\":[0.7133333333333333,0.9999999999999999],\"matches\":\"y\",\"title\":{\"text\":\"pop\"}}},                        {\"responsive\": true}                    ).then(function(){\n",
       "                            \n",
       "var gd = document.getElementById('e0ab9689-6894-40aa-83a6-330d8d20fc94');\n",
       "var x = new MutationObserver(function (mutations, observer) {{\n",
       "        var display = window.getComputedStyle(gd).display;\n",
       "        if (!display || display === 'none') {{\n",
       "            console.log([gd, 'removed!']);\n",
       "            Plotly.purge(gd);\n",
       "            observer.disconnect();\n",
       "        }}\n",
       "}});\n",
       "\n",
       "// Listen for the removal of the full notebook cells\n",
       "var notebookContainer = gd.closest('#notebook-container');\n",
       "if (notebookContainer) {{\n",
       "    x.observe(notebookContainer, {childList: true});\n",
       "}}\n",
       "\n",
       "// Listen for the clearing of the current output cell\n",
       "var outputEl = gd.closest('.output');\n",
       "if (outputEl) {{\n",
       "    x.observe(outputEl, {childList: true});\n",
       "}}\n",
       "\n",
       "                        })                };                });            </script>        </div>"
      ]
     },
     "metadata": {},
     "output_type": "display_data"
    }
   ],
   "source": [
    "df = df_.groupby(['year', 'continent']).sum().reset_index()\n",
    "\n",
    "fig = px.bar(df, x='continent', y='pop', color='continent', template='ggplot2', title='World Population by Continent',\n",
    "             facet_col='year', facet_col_wrap=4)\n",
    "fig.show()"
   ]
  },
  {
   "cell_type": "code",
   "execution_count": null,
   "id": "2926ea04",
   "metadata": {},
   "outputs": [],
   "source": []
  },
  {
   "cell_type": "code",
   "execution_count": null,
   "id": "9efd58e3",
   "metadata": {},
   "outputs": [],
   "source": []
  },
  {
   "cell_type": "code",
   "execution_count": null,
   "id": "8531a93b",
   "metadata": {},
   "outputs": [],
   "source": []
  },
  {
   "cell_type": "markdown",
   "id": "be6f9467",
   "metadata": {},
   "source": [
    "## Plotly Graph Objects\n",
    "\n",
    "- If you want to get serious about Plotly, you will have to start using Graph Objects at some point!\n",
    "- More customization\n",
    "- Lets you create dynamic charts\n",
    "- It can be overwelming if you don't know what you want\n"
   ]
  },
  {
   "cell_type": "code",
   "execution_count": 11,
   "id": "13e10b2d",
   "metadata": {},
   "outputs": [],
   "source": [
    "# https://plotly.com/python/graph-objects/\n",
    "# https://plotly.com/python-api-reference/generated/plotly.graph_objects.Figure.html\n",
    "\n",
    "import plotly.graph_objects as go"
   ]
  },
  {
   "cell_type": "code",
   "execution_count": 12,
   "id": "56e74b2f",
   "metadata": {},
   "outputs": [],
   "source": [
    "df = df_.groupby(['year', 'continent']).sum().reset_index()"
   ]
  },
  {
   "cell_type": "code",
   "execution_count": 13,
   "id": "c43912d3",
   "metadata": {},
   "outputs": [
    {
     "data": {
      "application/vnd.plotly.v1+json": {
       "config": {
        "plotlyServerURL": "https://plot.ly"
       },
       "data": [
        {
         "name": "Asia",
         "type": "bar",
         "x": [
          1952,
          1957,
          1962,
          1967,
          1972,
          1977,
          1982,
          1987,
          1992,
          1997,
          2002,
          2007
         ],
         "y": [
          1395357351,
          1562780599,
          1696357182,
          1905662900,
          2150972248,
          2384513556,
          2610135582,
          2871220762,
          3133292191,
          3383285500,
          3601802203,
          3811953827
         ]
        },
        {
         "name": "Europe",
         "type": "bar",
         "x": [
          1952,
          1957,
          1962,
          1967,
          1972,
          1977,
          1982,
          1987,
          1992,
          1997,
          2002,
          2007
         ],
         "y": [
          418120846,
          437890351,
          460355155,
          481178958,
          500635059,
          517164531,
          531266901,
          543094160,
          558142797,
          568944148,
          578223869,
          586098529
         ]
        }
       ],
       "layout": {
        "barmode": "stack",
        "height": 400,
        "template": {
         "data": {
          "bar": [
           {
            "error_x": {
             "color": "rgb(36,36,36)"
            },
            "error_y": {
             "color": "rgb(36,36,36)"
            },
            "marker": {
             "line": {
              "color": "rgb(234,234,242)",
              "width": 0.5
             },
             "pattern": {
              "fillmode": "overlay",
              "size": 10,
              "solidity": 0.2
             }
            },
            "type": "bar"
           }
          ],
          "barpolar": [
           {
            "marker": {
             "line": {
              "color": "rgb(234,234,242)",
              "width": 0.5
             },
             "pattern": {
              "fillmode": "overlay",
              "size": 10,
              "solidity": 0.2
             }
            },
            "type": "barpolar"
           }
          ],
          "carpet": [
           {
            "aaxis": {
             "endlinecolor": "rgb(36,36,36)",
             "gridcolor": "white",
             "linecolor": "white",
             "minorgridcolor": "white",
             "startlinecolor": "rgb(36,36,36)"
            },
            "baxis": {
             "endlinecolor": "rgb(36,36,36)",
             "gridcolor": "white",
             "linecolor": "white",
             "minorgridcolor": "white",
             "startlinecolor": "rgb(36,36,36)"
            },
            "type": "carpet"
           }
          ],
          "choropleth": [
           {
            "colorbar": {
             "outlinewidth": 0,
             "tickcolor": "rgb(36,36,36)",
             "ticklen": 8,
             "ticks": "outside",
             "tickwidth": 2
            },
            "type": "choropleth"
           }
          ],
          "contour": [
           {
            "colorbar": {
             "outlinewidth": 0,
             "tickcolor": "rgb(36,36,36)",
             "ticklen": 8,
             "ticks": "outside",
             "tickwidth": 2
            },
            "colorscale": [
             [
              0,
              "rgb(2,4,25)"
             ],
             [
              0.06274509803921569,
              "rgb(24,15,41)"
             ],
             [
              0.12549019607843137,
              "rgb(47,23,57)"
             ],
             [
              0.18823529411764706,
              "rgb(71,28,72)"
             ],
             [
              0.25098039215686274,
              "rgb(97,30,82)"
             ],
             [
              0.3137254901960784,
              "rgb(123,30,89)"
             ],
             [
              0.3764705882352941,
              "rgb(150,27,91)"
             ],
             [
              0.4392156862745098,
              "rgb(177,22,88)"
             ],
             [
              0.5019607843137255,
              "rgb(203,26,79)"
             ],
             [
              0.5647058823529412,
              "rgb(223,47,67)"
             ],
             [
              0.6274509803921569,
              "rgb(236,76,61)"
             ],
             [
              0.6901960784313725,
              "rgb(242,107,73)"
             ],
             [
              0.7529411764705882,
              "rgb(244,135,95)"
             ],
             [
              0.8156862745098039,
              "rgb(245,162,122)"
             ],
             [
              0.8784313725490196,
              "rgb(246,188,153)"
             ],
             [
              0.9411764705882353,
              "rgb(247,212,187)"
             ],
             [
              1,
              "rgb(250,234,220)"
             ]
            ],
            "type": "contour"
           }
          ],
          "contourcarpet": [
           {
            "colorbar": {
             "outlinewidth": 0,
             "tickcolor": "rgb(36,36,36)",
             "ticklen": 8,
             "ticks": "outside",
             "tickwidth": 2
            },
            "type": "contourcarpet"
           }
          ],
          "heatmap": [
           {
            "colorbar": {
             "outlinewidth": 0,
             "tickcolor": "rgb(36,36,36)",
             "ticklen": 8,
             "ticks": "outside",
             "tickwidth": 2
            },
            "colorscale": [
             [
              0,
              "rgb(2,4,25)"
             ],
             [
              0.06274509803921569,
              "rgb(24,15,41)"
             ],
             [
              0.12549019607843137,
              "rgb(47,23,57)"
             ],
             [
              0.18823529411764706,
              "rgb(71,28,72)"
             ],
             [
              0.25098039215686274,
              "rgb(97,30,82)"
             ],
             [
              0.3137254901960784,
              "rgb(123,30,89)"
             ],
             [
              0.3764705882352941,
              "rgb(150,27,91)"
             ],
             [
              0.4392156862745098,
              "rgb(177,22,88)"
             ],
             [
              0.5019607843137255,
              "rgb(203,26,79)"
             ],
             [
              0.5647058823529412,
              "rgb(223,47,67)"
             ],
             [
              0.6274509803921569,
              "rgb(236,76,61)"
             ],
             [
              0.6901960784313725,
              "rgb(242,107,73)"
             ],
             [
              0.7529411764705882,
              "rgb(244,135,95)"
             ],
             [
              0.8156862745098039,
              "rgb(245,162,122)"
             ],
             [
              0.8784313725490196,
              "rgb(246,188,153)"
             ],
             [
              0.9411764705882353,
              "rgb(247,212,187)"
             ],
             [
              1,
              "rgb(250,234,220)"
             ]
            ],
            "type": "heatmap"
           }
          ],
          "heatmapgl": [
           {
            "colorbar": {
             "outlinewidth": 0,
             "tickcolor": "rgb(36,36,36)",
             "ticklen": 8,
             "ticks": "outside",
             "tickwidth": 2
            },
            "colorscale": [
             [
              0,
              "rgb(2,4,25)"
             ],
             [
              0.06274509803921569,
              "rgb(24,15,41)"
             ],
             [
              0.12549019607843137,
              "rgb(47,23,57)"
             ],
             [
              0.18823529411764706,
              "rgb(71,28,72)"
             ],
             [
              0.25098039215686274,
              "rgb(97,30,82)"
             ],
             [
              0.3137254901960784,
              "rgb(123,30,89)"
             ],
             [
              0.3764705882352941,
              "rgb(150,27,91)"
             ],
             [
              0.4392156862745098,
              "rgb(177,22,88)"
             ],
             [
              0.5019607843137255,
              "rgb(203,26,79)"
             ],
             [
              0.5647058823529412,
              "rgb(223,47,67)"
             ],
             [
              0.6274509803921569,
              "rgb(236,76,61)"
             ],
             [
              0.6901960784313725,
              "rgb(242,107,73)"
             ],
             [
              0.7529411764705882,
              "rgb(244,135,95)"
             ],
             [
              0.8156862745098039,
              "rgb(245,162,122)"
             ],
             [
              0.8784313725490196,
              "rgb(246,188,153)"
             ],
             [
              0.9411764705882353,
              "rgb(247,212,187)"
             ],
             [
              1,
              "rgb(250,234,220)"
             ]
            ],
            "type": "heatmapgl"
           }
          ],
          "histogram": [
           {
            "marker": {
             "pattern": {
              "fillmode": "overlay",
              "size": 10,
              "solidity": 0.2
             }
            },
            "type": "histogram"
           }
          ],
          "histogram2d": [
           {
            "colorbar": {
             "outlinewidth": 0,
             "tickcolor": "rgb(36,36,36)",
             "ticklen": 8,
             "ticks": "outside",
             "tickwidth": 2
            },
            "colorscale": [
             [
              0,
              "rgb(2,4,25)"
             ],
             [
              0.06274509803921569,
              "rgb(24,15,41)"
             ],
             [
              0.12549019607843137,
              "rgb(47,23,57)"
             ],
             [
              0.18823529411764706,
              "rgb(71,28,72)"
             ],
             [
              0.25098039215686274,
              "rgb(97,30,82)"
             ],
             [
              0.3137254901960784,
              "rgb(123,30,89)"
             ],
             [
              0.3764705882352941,
              "rgb(150,27,91)"
             ],
             [
              0.4392156862745098,
              "rgb(177,22,88)"
             ],
             [
              0.5019607843137255,
              "rgb(203,26,79)"
             ],
             [
              0.5647058823529412,
              "rgb(223,47,67)"
             ],
             [
              0.6274509803921569,
              "rgb(236,76,61)"
             ],
             [
              0.6901960784313725,
              "rgb(242,107,73)"
             ],
             [
              0.7529411764705882,
              "rgb(244,135,95)"
             ],
             [
              0.8156862745098039,
              "rgb(245,162,122)"
             ],
             [
              0.8784313725490196,
              "rgb(246,188,153)"
             ],
             [
              0.9411764705882353,
              "rgb(247,212,187)"
             ],
             [
              1,
              "rgb(250,234,220)"
             ]
            ],
            "type": "histogram2d"
           }
          ],
          "histogram2dcontour": [
           {
            "colorbar": {
             "outlinewidth": 0,
             "tickcolor": "rgb(36,36,36)",
             "ticklen": 8,
             "ticks": "outside",
             "tickwidth": 2
            },
            "colorscale": [
             [
              0,
              "rgb(2,4,25)"
             ],
             [
              0.06274509803921569,
              "rgb(24,15,41)"
             ],
             [
              0.12549019607843137,
              "rgb(47,23,57)"
             ],
             [
              0.18823529411764706,
              "rgb(71,28,72)"
             ],
             [
              0.25098039215686274,
              "rgb(97,30,82)"
             ],
             [
              0.3137254901960784,
              "rgb(123,30,89)"
             ],
             [
              0.3764705882352941,
              "rgb(150,27,91)"
             ],
             [
              0.4392156862745098,
              "rgb(177,22,88)"
             ],
             [
              0.5019607843137255,
              "rgb(203,26,79)"
             ],
             [
              0.5647058823529412,
              "rgb(223,47,67)"
             ],
             [
              0.6274509803921569,
              "rgb(236,76,61)"
             ],
             [
              0.6901960784313725,
              "rgb(242,107,73)"
             ],
             [
              0.7529411764705882,
              "rgb(244,135,95)"
             ],
             [
              0.8156862745098039,
              "rgb(245,162,122)"
             ],
             [
              0.8784313725490196,
              "rgb(246,188,153)"
             ],
             [
              0.9411764705882353,
              "rgb(247,212,187)"
             ],
             [
              1,
              "rgb(250,234,220)"
             ]
            ],
            "type": "histogram2dcontour"
           }
          ],
          "mesh3d": [
           {
            "colorbar": {
             "outlinewidth": 0,
             "tickcolor": "rgb(36,36,36)",
             "ticklen": 8,
             "ticks": "outside",
             "tickwidth": 2
            },
            "type": "mesh3d"
           }
          ],
          "parcoords": [
           {
            "line": {
             "colorbar": {
              "outlinewidth": 0,
              "tickcolor": "rgb(36,36,36)",
              "ticklen": 8,
              "ticks": "outside",
              "tickwidth": 2
             }
            },
            "type": "parcoords"
           }
          ],
          "pie": [
           {
            "automargin": true,
            "type": "pie"
           }
          ],
          "scatter": [
           {
            "marker": {
             "colorbar": {
              "outlinewidth": 0,
              "tickcolor": "rgb(36,36,36)",
              "ticklen": 8,
              "ticks": "outside",
              "tickwidth": 2
             }
            },
            "type": "scatter"
           }
          ],
          "scatter3d": [
           {
            "line": {
             "colorbar": {
              "outlinewidth": 0,
              "tickcolor": "rgb(36,36,36)",
              "ticklen": 8,
              "ticks": "outside",
              "tickwidth": 2
             }
            },
            "marker": {
             "colorbar": {
              "outlinewidth": 0,
              "tickcolor": "rgb(36,36,36)",
              "ticklen": 8,
              "ticks": "outside",
              "tickwidth": 2
             }
            },
            "type": "scatter3d"
           }
          ],
          "scattercarpet": [
           {
            "marker": {
             "colorbar": {
              "outlinewidth": 0,
              "tickcolor": "rgb(36,36,36)",
              "ticklen": 8,
              "ticks": "outside",
              "tickwidth": 2
             }
            },
            "type": "scattercarpet"
           }
          ],
          "scattergeo": [
           {
            "marker": {
             "colorbar": {
              "outlinewidth": 0,
              "tickcolor": "rgb(36,36,36)",
              "ticklen": 8,
              "ticks": "outside",
              "tickwidth": 2
             }
            },
            "type": "scattergeo"
           }
          ],
          "scattergl": [
           {
            "marker": {
             "colorbar": {
              "outlinewidth": 0,
              "tickcolor": "rgb(36,36,36)",
              "ticklen": 8,
              "ticks": "outside",
              "tickwidth": 2
             }
            },
            "type": "scattergl"
           }
          ],
          "scattermapbox": [
           {
            "marker": {
             "colorbar": {
              "outlinewidth": 0,
              "tickcolor": "rgb(36,36,36)",
              "ticklen": 8,
              "ticks": "outside",
              "tickwidth": 2
             }
            },
            "type": "scattermapbox"
           }
          ],
          "scatterpolar": [
           {
            "marker": {
             "colorbar": {
              "outlinewidth": 0,
              "tickcolor": "rgb(36,36,36)",
              "ticklen": 8,
              "ticks": "outside",
              "tickwidth": 2
             }
            },
            "type": "scatterpolar"
           }
          ],
          "scatterpolargl": [
           {
            "marker": {
             "colorbar": {
              "outlinewidth": 0,
              "tickcolor": "rgb(36,36,36)",
              "ticklen": 8,
              "ticks": "outside",
              "tickwidth": 2
             }
            },
            "type": "scatterpolargl"
           }
          ],
          "scatterternary": [
           {
            "marker": {
             "colorbar": {
              "outlinewidth": 0,
              "tickcolor": "rgb(36,36,36)",
              "ticklen": 8,
              "ticks": "outside",
              "tickwidth": 2
             }
            },
            "type": "scatterternary"
           }
          ],
          "surface": [
           {
            "colorbar": {
             "outlinewidth": 0,
             "tickcolor": "rgb(36,36,36)",
             "ticklen": 8,
             "ticks": "outside",
             "tickwidth": 2
            },
            "colorscale": [
             [
              0,
              "rgb(2,4,25)"
             ],
             [
              0.06274509803921569,
              "rgb(24,15,41)"
             ],
             [
              0.12549019607843137,
              "rgb(47,23,57)"
             ],
             [
              0.18823529411764706,
              "rgb(71,28,72)"
             ],
             [
              0.25098039215686274,
              "rgb(97,30,82)"
             ],
             [
              0.3137254901960784,
              "rgb(123,30,89)"
             ],
             [
              0.3764705882352941,
              "rgb(150,27,91)"
             ],
             [
              0.4392156862745098,
              "rgb(177,22,88)"
             ],
             [
              0.5019607843137255,
              "rgb(203,26,79)"
             ],
             [
              0.5647058823529412,
              "rgb(223,47,67)"
             ],
             [
              0.6274509803921569,
              "rgb(236,76,61)"
             ],
             [
              0.6901960784313725,
              "rgb(242,107,73)"
             ],
             [
              0.7529411764705882,
              "rgb(244,135,95)"
             ],
             [
              0.8156862745098039,
              "rgb(245,162,122)"
             ],
             [
              0.8784313725490196,
              "rgb(246,188,153)"
             ],
             [
              0.9411764705882353,
              "rgb(247,212,187)"
             ],
             [
              1,
              "rgb(250,234,220)"
             ]
            ],
            "type": "surface"
           }
          ],
          "table": [
           {
            "cells": {
             "fill": {
              "color": "rgb(231,231,240)"
             },
             "line": {
              "color": "white"
             }
            },
            "header": {
             "fill": {
              "color": "rgb(183,183,191)"
             },
             "line": {
              "color": "white"
             }
            },
            "type": "table"
           }
          ]
         },
         "layout": {
          "annotationdefaults": {
           "arrowcolor": "rgb(67,103,167)"
          },
          "autotypenumbers": "strict",
          "coloraxis": {
           "colorbar": {
            "outlinewidth": 0,
            "tickcolor": "rgb(36,36,36)",
            "ticklen": 8,
            "ticks": "outside",
            "tickwidth": 2
           }
          },
          "colorscale": {
           "sequential": [
            [
             0,
             "rgb(2,4,25)"
            ],
            [
             0.06274509803921569,
             "rgb(24,15,41)"
            ],
            [
             0.12549019607843137,
             "rgb(47,23,57)"
            ],
            [
             0.18823529411764706,
             "rgb(71,28,72)"
            ],
            [
             0.25098039215686274,
             "rgb(97,30,82)"
            ],
            [
             0.3137254901960784,
             "rgb(123,30,89)"
            ],
            [
             0.3764705882352941,
             "rgb(150,27,91)"
            ],
            [
             0.4392156862745098,
             "rgb(177,22,88)"
            ],
            [
             0.5019607843137255,
             "rgb(203,26,79)"
            ],
            [
             0.5647058823529412,
             "rgb(223,47,67)"
            ],
            [
             0.6274509803921569,
             "rgb(236,76,61)"
            ],
            [
             0.6901960784313725,
             "rgb(242,107,73)"
            ],
            [
             0.7529411764705882,
             "rgb(244,135,95)"
            ],
            [
             0.8156862745098039,
             "rgb(245,162,122)"
            ],
            [
             0.8784313725490196,
             "rgb(246,188,153)"
            ],
            [
             0.9411764705882353,
             "rgb(247,212,187)"
            ],
            [
             1,
             "rgb(250,234,220)"
            ]
           ],
           "sequentialminus": [
            [
             0,
             "rgb(2,4,25)"
            ],
            [
             0.06274509803921569,
             "rgb(24,15,41)"
            ],
            [
             0.12549019607843137,
             "rgb(47,23,57)"
            ],
            [
             0.18823529411764706,
             "rgb(71,28,72)"
            ],
            [
             0.25098039215686274,
             "rgb(97,30,82)"
            ],
            [
             0.3137254901960784,
             "rgb(123,30,89)"
            ],
            [
             0.3764705882352941,
             "rgb(150,27,91)"
            ],
            [
             0.4392156862745098,
             "rgb(177,22,88)"
            ],
            [
             0.5019607843137255,
             "rgb(203,26,79)"
            ],
            [
             0.5647058823529412,
             "rgb(223,47,67)"
            ],
            [
             0.6274509803921569,
             "rgb(236,76,61)"
            ],
            [
             0.6901960784313725,
             "rgb(242,107,73)"
            ],
            [
             0.7529411764705882,
             "rgb(244,135,95)"
            ],
            [
             0.8156862745098039,
             "rgb(245,162,122)"
            ],
            [
             0.8784313725490196,
             "rgb(246,188,153)"
            ],
            [
             0.9411764705882353,
             "rgb(247,212,187)"
            ],
            [
             1,
             "rgb(250,234,220)"
            ]
           ]
          },
          "colorway": [
           "rgb(76,114,176)",
           "rgb(221,132,82)",
           "rgb(85,168,104)",
           "rgb(196,78,82)",
           "rgb(129,114,179)",
           "rgb(147,120,96)",
           "rgb(218,139,195)",
           "rgb(140,140,140)",
           "rgb(204,185,116)",
           "rgb(100,181,205)"
          ],
          "font": {
           "color": "rgb(36,36,36)"
          },
          "geo": {
           "bgcolor": "white",
           "lakecolor": "white",
           "landcolor": "rgb(234,234,242)",
           "showlakes": true,
           "showland": true,
           "subunitcolor": "white"
          },
          "hoverlabel": {
           "align": "left"
          },
          "hovermode": "closest",
          "paper_bgcolor": "white",
          "plot_bgcolor": "rgb(234,234,242)",
          "polar": {
           "angularaxis": {
            "gridcolor": "white",
            "linecolor": "white",
            "showgrid": true,
            "ticks": ""
           },
           "bgcolor": "rgb(234,234,242)",
           "radialaxis": {
            "gridcolor": "white",
            "linecolor": "white",
            "showgrid": true,
            "ticks": ""
           }
          },
          "scene": {
           "xaxis": {
            "backgroundcolor": "rgb(234,234,242)",
            "gridcolor": "white",
            "gridwidth": 2,
            "linecolor": "white",
            "showbackground": true,
            "showgrid": true,
            "ticks": "",
            "zerolinecolor": "white"
           },
           "yaxis": {
            "backgroundcolor": "rgb(234,234,242)",
            "gridcolor": "white",
            "gridwidth": 2,
            "linecolor": "white",
            "showbackground": true,
            "showgrid": true,
            "ticks": "",
            "zerolinecolor": "white"
           },
           "zaxis": {
            "backgroundcolor": "rgb(234,234,242)",
            "gridcolor": "white",
            "gridwidth": 2,
            "linecolor": "white",
            "showbackground": true,
            "showgrid": true,
            "ticks": "",
            "zerolinecolor": "white"
           }
          },
          "shapedefaults": {
           "fillcolor": "rgb(67,103,167)",
           "line": {
            "width": 0
           },
           "opacity": 0.5
          },
          "ternary": {
           "aaxis": {
            "gridcolor": "white",
            "linecolor": "white",
            "showgrid": true,
            "ticks": ""
           },
           "baxis": {
            "gridcolor": "white",
            "linecolor": "white",
            "showgrid": true,
            "ticks": ""
           },
           "bgcolor": "rgb(234,234,242)",
           "caxis": {
            "gridcolor": "white",
            "linecolor": "white",
            "showgrid": true,
            "ticks": ""
           }
          },
          "xaxis": {
           "automargin": true,
           "gridcolor": "white",
           "linecolor": "white",
           "showgrid": true,
           "ticks": "",
           "title": {
            "standoff": 15
           },
           "zerolinecolor": "white"
          },
          "yaxis": {
           "automargin": true,
           "gridcolor": "white",
           "linecolor": "white",
           "showgrid": true,
           "ticks": "",
           "title": {
            "standoff": 15
           },
           "zerolinecolor": "white"
          }
         }
        }
       }
      },
      "text/html": [
       "<div>                            <div id=\"c3d31c95-98dd-4c0e-ab3a-d514a1f6df8e\" class=\"plotly-graph-div\" style=\"height:400px; width:100%;\"></div>            <script type=\"text/javascript\">                require([\"plotly\"], function(Plotly) {                    window.PLOTLYENV=window.PLOTLYENV || {};                                    if (document.getElementById(\"c3d31c95-98dd-4c0e-ab3a-d514a1f6df8e\")) {                    Plotly.newPlot(                        \"c3d31c95-98dd-4c0e-ab3a-d514a1f6df8e\",                        [{\"name\":\"Asia\",\"type\":\"bar\",\"x\":[1952,1957,1962,1967,1972,1977,1982,1987,1992,1997,2002,2007],\"y\":[1395357351,1562780599,1696357182,1905662900,2150972248,2384513556,2610135582,2871220762,3133292191,3383285500,3601802203,3811953827]},{\"name\":\"Europe\",\"type\":\"bar\",\"x\":[1952,1957,1962,1967,1972,1977,1982,1987,1992,1997,2002,2007],\"y\":[418120846,437890351,460355155,481178958,500635059,517164531,531266901,543094160,558142797,568944148,578223869,586098529]}],                        {\"barmode\":\"stack\",\"height\":400,\"template\":{\"data\":{\"bar\":[{\"error_x\":{\"color\":\"rgb(36,36,36)\"},\"error_y\":{\"color\":\"rgb(36,36,36)\"},\"marker\":{\"line\":{\"color\":\"rgb(234,234,242)\",\"width\":0.5},\"pattern\":{\"fillmode\":\"overlay\",\"size\":10,\"solidity\":0.2}},\"type\":\"bar\"}],\"barpolar\":[{\"marker\":{\"line\":{\"color\":\"rgb(234,234,242)\",\"width\":0.5},\"pattern\":{\"fillmode\":\"overlay\",\"size\":10,\"solidity\":0.2}},\"type\":\"barpolar\"}],\"carpet\":[{\"aaxis\":{\"endlinecolor\":\"rgb(36,36,36)\",\"gridcolor\":\"white\",\"linecolor\":\"white\",\"minorgridcolor\":\"white\",\"startlinecolor\":\"rgb(36,36,36)\"},\"baxis\":{\"endlinecolor\":\"rgb(36,36,36)\",\"gridcolor\":\"white\",\"linecolor\":\"white\",\"minorgridcolor\":\"white\",\"startlinecolor\":\"rgb(36,36,36)\"},\"type\":\"carpet\"}],\"choropleth\":[{\"colorbar\":{\"outlinewidth\":0,\"tickcolor\":\"rgb(36,36,36)\",\"ticklen\":8,\"ticks\":\"outside\",\"tickwidth\":2},\"type\":\"choropleth\"}],\"contour\":[{\"colorbar\":{\"outlinewidth\":0,\"tickcolor\":\"rgb(36,36,36)\",\"ticklen\":8,\"ticks\":\"outside\",\"tickwidth\":2},\"colorscale\":[[0.0,\"rgb(2,4,25)\"],[0.06274509803921569,\"rgb(24,15,41)\"],[0.12549019607843137,\"rgb(47,23,57)\"],[0.18823529411764706,\"rgb(71,28,72)\"],[0.25098039215686274,\"rgb(97,30,82)\"],[0.3137254901960784,\"rgb(123,30,89)\"],[0.3764705882352941,\"rgb(150,27,91)\"],[0.4392156862745098,\"rgb(177,22,88)\"],[0.5019607843137255,\"rgb(203,26,79)\"],[0.5647058823529412,\"rgb(223,47,67)\"],[0.6274509803921569,\"rgb(236,76,61)\"],[0.6901960784313725,\"rgb(242,107,73)\"],[0.7529411764705882,\"rgb(244,135,95)\"],[0.8156862745098039,\"rgb(245,162,122)\"],[0.8784313725490196,\"rgb(246,188,153)\"],[0.9411764705882353,\"rgb(247,212,187)\"],[1.0,\"rgb(250,234,220)\"]],\"type\":\"contour\"}],\"contourcarpet\":[{\"colorbar\":{\"outlinewidth\":0,\"tickcolor\":\"rgb(36,36,36)\",\"ticklen\":8,\"ticks\":\"outside\",\"tickwidth\":2},\"type\":\"contourcarpet\"}],\"heatmap\":[{\"colorbar\":{\"outlinewidth\":0,\"tickcolor\":\"rgb(36,36,36)\",\"ticklen\":8,\"ticks\":\"outside\",\"tickwidth\":2},\"colorscale\":[[0.0,\"rgb(2,4,25)\"],[0.06274509803921569,\"rgb(24,15,41)\"],[0.12549019607843137,\"rgb(47,23,57)\"],[0.18823529411764706,\"rgb(71,28,72)\"],[0.25098039215686274,\"rgb(97,30,82)\"],[0.3137254901960784,\"rgb(123,30,89)\"],[0.3764705882352941,\"rgb(150,27,91)\"],[0.4392156862745098,\"rgb(177,22,88)\"],[0.5019607843137255,\"rgb(203,26,79)\"],[0.5647058823529412,\"rgb(223,47,67)\"],[0.6274509803921569,\"rgb(236,76,61)\"],[0.6901960784313725,\"rgb(242,107,73)\"],[0.7529411764705882,\"rgb(244,135,95)\"],[0.8156862745098039,\"rgb(245,162,122)\"],[0.8784313725490196,\"rgb(246,188,153)\"],[0.9411764705882353,\"rgb(247,212,187)\"],[1.0,\"rgb(250,234,220)\"]],\"type\":\"heatmap\"}],\"heatmapgl\":[{\"colorbar\":{\"outlinewidth\":0,\"tickcolor\":\"rgb(36,36,36)\",\"ticklen\":8,\"ticks\":\"outside\",\"tickwidth\":2},\"colorscale\":[[0.0,\"rgb(2,4,25)\"],[0.06274509803921569,\"rgb(24,15,41)\"],[0.12549019607843137,\"rgb(47,23,57)\"],[0.18823529411764706,\"rgb(71,28,72)\"],[0.25098039215686274,\"rgb(97,30,82)\"],[0.3137254901960784,\"rgb(123,30,89)\"],[0.3764705882352941,\"rgb(150,27,91)\"],[0.4392156862745098,\"rgb(177,22,88)\"],[0.5019607843137255,\"rgb(203,26,79)\"],[0.5647058823529412,\"rgb(223,47,67)\"],[0.6274509803921569,\"rgb(236,76,61)\"],[0.6901960784313725,\"rgb(242,107,73)\"],[0.7529411764705882,\"rgb(244,135,95)\"],[0.8156862745098039,\"rgb(245,162,122)\"],[0.8784313725490196,\"rgb(246,188,153)\"],[0.9411764705882353,\"rgb(247,212,187)\"],[1.0,\"rgb(250,234,220)\"]],\"type\":\"heatmapgl\"}],\"histogram\":[{\"marker\":{\"pattern\":{\"fillmode\":\"overlay\",\"size\":10,\"solidity\":0.2}},\"type\":\"histogram\"}],\"histogram2d\":[{\"colorbar\":{\"outlinewidth\":0,\"tickcolor\":\"rgb(36,36,36)\",\"ticklen\":8,\"ticks\":\"outside\",\"tickwidth\":2},\"colorscale\":[[0.0,\"rgb(2,4,25)\"],[0.06274509803921569,\"rgb(24,15,41)\"],[0.12549019607843137,\"rgb(47,23,57)\"],[0.18823529411764706,\"rgb(71,28,72)\"],[0.25098039215686274,\"rgb(97,30,82)\"],[0.3137254901960784,\"rgb(123,30,89)\"],[0.3764705882352941,\"rgb(150,27,91)\"],[0.4392156862745098,\"rgb(177,22,88)\"],[0.5019607843137255,\"rgb(203,26,79)\"],[0.5647058823529412,\"rgb(223,47,67)\"],[0.6274509803921569,\"rgb(236,76,61)\"],[0.6901960784313725,\"rgb(242,107,73)\"],[0.7529411764705882,\"rgb(244,135,95)\"],[0.8156862745098039,\"rgb(245,162,122)\"],[0.8784313725490196,\"rgb(246,188,153)\"],[0.9411764705882353,\"rgb(247,212,187)\"],[1.0,\"rgb(250,234,220)\"]],\"type\":\"histogram2d\"}],\"histogram2dcontour\":[{\"colorbar\":{\"outlinewidth\":0,\"tickcolor\":\"rgb(36,36,36)\",\"ticklen\":8,\"ticks\":\"outside\",\"tickwidth\":2},\"colorscale\":[[0.0,\"rgb(2,4,25)\"],[0.06274509803921569,\"rgb(24,15,41)\"],[0.12549019607843137,\"rgb(47,23,57)\"],[0.18823529411764706,\"rgb(71,28,72)\"],[0.25098039215686274,\"rgb(97,30,82)\"],[0.3137254901960784,\"rgb(123,30,89)\"],[0.3764705882352941,\"rgb(150,27,91)\"],[0.4392156862745098,\"rgb(177,22,88)\"],[0.5019607843137255,\"rgb(203,26,79)\"],[0.5647058823529412,\"rgb(223,47,67)\"],[0.6274509803921569,\"rgb(236,76,61)\"],[0.6901960784313725,\"rgb(242,107,73)\"],[0.7529411764705882,\"rgb(244,135,95)\"],[0.8156862745098039,\"rgb(245,162,122)\"],[0.8784313725490196,\"rgb(246,188,153)\"],[0.9411764705882353,\"rgb(247,212,187)\"],[1.0,\"rgb(250,234,220)\"]],\"type\":\"histogram2dcontour\"}],\"mesh3d\":[{\"colorbar\":{\"outlinewidth\":0,\"tickcolor\":\"rgb(36,36,36)\",\"ticklen\":8,\"ticks\":\"outside\",\"tickwidth\":2},\"type\":\"mesh3d\"}],\"parcoords\":[{\"line\":{\"colorbar\":{\"outlinewidth\":0,\"tickcolor\":\"rgb(36,36,36)\",\"ticklen\":8,\"ticks\":\"outside\",\"tickwidth\":2}},\"type\":\"parcoords\"}],\"pie\":[{\"automargin\":true,\"type\":\"pie\"}],\"scatter\":[{\"marker\":{\"colorbar\":{\"outlinewidth\":0,\"tickcolor\":\"rgb(36,36,36)\",\"ticklen\":8,\"ticks\":\"outside\",\"tickwidth\":2}},\"type\":\"scatter\"}],\"scatter3d\":[{\"line\":{\"colorbar\":{\"outlinewidth\":0,\"tickcolor\":\"rgb(36,36,36)\",\"ticklen\":8,\"ticks\":\"outside\",\"tickwidth\":2}},\"marker\":{\"colorbar\":{\"outlinewidth\":0,\"tickcolor\":\"rgb(36,36,36)\",\"ticklen\":8,\"ticks\":\"outside\",\"tickwidth\":2}},\"type\":\"scatter3d\"}],\"scattercarpet\":[{\"marker\":{\"colorbar\":{\"outlinewidth\":0,\"tickcolor\":\"rgb(36,36,36)\",\"ticklen\":8,\"ticks\":\"outside\",\"tickwidth\":2}},\"type\":\"scattercarpet\"}],\"scattergeo\":[{\"marker\":{\"colorbar\":{\"outlinewidth\":0,\"tickcolor\":\"rgb(36,36,36)\",\"ticklen\":8,\"ticks\":\"outside\",\"tickwidth\":2}},\"type\":\"scattergeo\"}],\"scattergl\":[{\"marker\":{\"colorbar\":{\"outlinewidth\":0,\"tickcolor\":\"rgb(36,36,36)\",\"ticklen\":8,\"ticks\":\"outside\",\"tickwidth\":2}},\"type\":\"scattergl\"}],\"scattermapbox\":[{\"marker\":{\"colorbar\":{\"outlinewidth\":0,\"tickcolor\":\"rgb(36,36,36)\",\"ticklen\":8,\"ticks\":\"outside\",\"tickwidth\":2}},\"type\":\"scattermapbox\"}],\"scatterpolar\":[{\"marker\":{\"colorbar\":{\"outlinewidth\":0,\"tickcolor\":\"rgb(36,36,36)\",\"ticklen\":8,\"ticks\":\"outside\",\"tickwidth\":2}},\"type\":\"scatterpolar\"}],\"scatterpolargl\":[{\"marker\":{\"colorbar\":{\"outlinewidth\":0,\"tickcolor\":\"rgb(36,36,36)\",\"ticklen\":8,\"ticks\":\"outside\",\"tickwidth\":2}},\"type\":\"scatterpolargl\"}],\"scatterternary\":[{\"marker\":{\"colorbar\":{\"outlinewidth\":0,\"tickcolor\":\"rgb(36,36,36)\",\"ticklen\":8,\"ticks\":\"outside\",\"tickwidth\":2}},\"type\":\"scatterternary\"}],\"surface\":[{\"colorbar\":{\"outlinewidth\":0,\"tickcolor\":\"rgb(36,36,36)\",\"ticklen\":8,\"ticks\":\"outside\",\"tickwidth\":2},\"colorscale\":[[0.0,\"rgb(2,4,25)\"],[0.06274509803921569,\"rgb(24,15,41)\"],[0.12549019607843137,\"rgb(47,23,57)\"],[0.18823529411764706,\"rgb(71,28,72)\"],[0.25098039215686274,\"rgb(97,30,82)\"],[0.3137254901960784,\"rgb(123,30,89)\"],[0.3764705882352941,\"rgb(150,27,91)\"],[0.4392156862745098,\"rgb(177,22,88)\"],[0.5019607843137255,\"rgb(203,26,79)\"],[0.5647058823529412,\"rgb(223,47,67)\"],[0.6274509803921569,\"rgb(236,76,61)\"],[0.6901960784313725,\"rgb(242,107,73)\"],[0.7529411764705882,\"rgb(244,135,95)\"],[0.8156862745098039,\"rgb(245,162,122)\"],[0.8784313725490196,\"rgb(246,188,153)\"],[0.9411764705882353,\"rgb(247,212,187)\"],[1.0,\"rgb(250,234,220)\"]],\"type\":\"surface\"}],\"table\":[{\"cells\":{\"fill\":{\"color\":\"rgb(231,231,240)\"},\"line\":{\"color\":\"white\"}},\"header\":{\"fill\":{\"color\":\"rgb(183,183,191)\"},\"line\":{\"color\":\"white\"}},\"type\":\"table\"}]},\"layout\":{\"annotationdefaults\":{\"arrowcolor\":\"rgb(67,103,167)\"},\"autotypenumbers\":\"strict\",\"coloraxis\":{\"colorbar\":{\"outlinewidth\":0,\"tickcolor\":\"rgb(36,36,36)\",\"ticklen\":8,\"ticks\":\"outside\",\"tickwidth\":2}},\"colorscale\":{\"sequential\":[[0.0,\"rgb(2,4,25)\"],[0.06274509803921569,\"rgb(24,15,41)\"],[0.12549019607843137,\"rgb(47,23,57)\"],[0.18823529411764706,\"rgb(71,28,72)\"],[0.25098039215686274,\"rgb(97,30,82)\"],[0.3137254901960784,\"rgb(123,30,89)\"],[0.3764705882352941,\"rgb(150,27,91)\"],[0.4392156862745098,\"rgb(177,22,88)\"],[0.5019607843137255,\"rgb(203,26,79)\"],[0.5647058823529412,\"rgb(223,47,67)\"],[0.6274509803921569,\"rgb(236,76,61)\"],[0.6901960784313725,\"rgb(242,107,73)\"],[0.7529411764705882,\"rgb(244,135,95)\"],[0.8156862745098039,\"rgb(245,162,122)\"],[0.8784313725490196,\"rgb(246,188,153)\"],[0.9411764705882353,\"rgb(247,212,187)\"],[1.0,\"rgb(250,234,220)\"]],\"sequentialminus\":[[0.0,\"rgb(2,4,25)\"],[0.06274509803921569,\"rgb(24,15,41)\"],[0.12549019607843137,\"rgb(47,23,57)\"],[0.18823529411764706,\"rgb(71,28,72)\"],[0.25098039215686274,\"rgb(97,30,82)\"],[0.3137254901960784,\"rgb(123,30,89)\"],[0.3764705882352941,\"rgb(150,27,91)\"],[0.4392156862745098,\"rgb(177,22,88)\"],[0.5019607843137255,\"rgb(203,26,79)\"],[0.5647058823529412,\"rgb(223,47,67)\"],[0.6274509803921569,\"rgb(236,76,61)\"],[0.6901960784313725,\"rgb(242,107,73)\"],[0.7529411764705882,\"rgb(244,135,95)\"],[0.8156862745098039,\"rgb(245,162,122)\"],[0.8784313725490196,\"rgb(246,188,153)\"],[0.9411764705882353,\"rgb(247,212,187)\"],[1.0,\"rgb(250,234,220)\"]]},\"colorway\":[\"rgb(76,114,176)\",\"rgb(221,132,82)\",\"rgb(85,168,104)\",\"rgb(196,78,82)\",\"rgb(129,114,179)\",\"rgb(147,120,96)\",\"rgb(218,139,195)\",\"rgb(140,140,140)\",\"rgb(204,185,116)\",\"rgb(100,181,205)\"],\"font\":{\"color\":\"rgb(36,36,36)\"},\"geo\":{\"bgcolor\":\"white\",\"lakecolor\":\"white\",\"landcolor\":\"rgb(234,234,242)\",\"showlakes\":true,\"showland\":true,\"subunitcolor\":\"white\"},\"hoverlabel\":{\"align\":\"left\"},\"hovermode\":\"closest\",\"paper_bgcolor\":\"white\",\"plot_bgcolor\":\"rgb(234,234,242)\",\"polar\":{\"angularaxis\":{\"gridcolor\":\"white\",\"linecolor\":\"white\",\"showgrid\":true,\"ticks\":\"\"},\"bgcolor\":\"rgb(234,234,242)\",\"radialaxis\":{\"gridcolor\":\"white\",\"linecolor\":\"white\",\"showgrid\":true,\"ticks\":\"\"}},\"scene\":{\"xaxis\":{\"backgroundcolor\":\"rgb(234,234,242)\",\"gridcolor\":\"white\",\"gridwidth\":2,\"linecolor\":\"white\",\"showbackground\":true,\"showgrid\":true,\"ticks\":\"\",\"zerolinecolor\":\"white\"},\"yaxis\":{\"backgroundcolor\":\"rgb(234,234,242)\",\"gridcolor\":\"white\",\"gridwidth\":2,\"linecolor\":\"white\",\"showbackground\":true,\"showgrid\":true,\"ticks\":\"\",\"zerolinecolor\":\"white\"},\"zaxis\":{\"backgroundcolor\":\"rgb(234,234,242)\",\"gridcolor\":\"white\",\"gridwidth\":2,\"linecolor\":\"white\",\"showbackground\":true,\"showgrid\":true,\"ticks\":\"\",\"zerolinecolor\":\"white\"}},\"shapedefaults\":{\"fillcolor\":\"rgb(67,103,167)\",\"line\":{\"width\":0},\"opacity\":0.5},\"ternary\":{\"aaxis\":{\"gridcolor\":\"white\",\"linecolor\":\"white\",\"showgrid\":true,\"ticks\":\"\"},\"baxis\":{\"gridcolor\":\"white\",\"linecolor\":\"white\",\"showgrid\":true,\"ticks\":\"\"},\"bgcolor\":\"rgb(234,234,242)\",\"caxis\":{\"gridcolor\":\"white\",\"linecolor\":\"white\",\"showgrid\":true,\"ticks\":\"\"}},\"xaxis\":{\"automargin\":true,\"gridcolor\":\"white\",\"linecolor\":\"white\",\"showgrid\":true,\"ticks\":\"\",\"title\":{\"standoff\":15},\"zerolinecolor\":\"white\"},\"yaxis\":{\"automargin\":true,\"gridcolor\":\"white\",\"linecolor\":\"white\",\"showgrid\":true,\"ticks\":\"\",\"title\":{\"standoff\":15},\"zerolinecolor\":\"white\"}}}},                        {\"responsive\": true}                    ).then(function(){\n",
       "                            \n",
       "var gd = document.getElementById('c3d31c95-98dd-4c0e-ab3a-d514a1f6df8e');\n",
       "var x = new MutationObserver(function (mutations, observer) {{\n",
       "        var display = window.getComputedStyle(gd).display;\n",
       "        if (!display || display === 'none') {{\n",
       "            console.log([gd, 'removed!']);\n",
       "            Plotly.purge(gd);\n",
       "            observer.disconnect();\n",
       "        }}\n",
       "}});\n",
       "\n",
       "// Listen for the removal of the full notebook cells\n",
       "var notebookContainer = gd.closest('#notebook-container');\n",
       "if (notebookContainer) {{\n",
       "    x.observe(notebookContainer, {childList: true});\n",
       "}}\n",
       "\n",
       "// Listen for the clearing of the current output cell\n",
       "var outputEl = gd.closest('.output');\n",
       "if (outputEl) {{\n",
       "    x.observe(outputEl, {childList: true});\n",
       "}}\n",
       "\n",
       "                        })                };                });            </script>        </div>"
      ]
     },
     "metadata": {},
     "output_type": "display_data"
    }
   ],
   "source": [
    "fig = go.Figure(\n",
    "    data=[\n",
    "        go.Bar(name='Asia', x=df[df.continent=='Asia'].year, y=df[df.continent=='Asia']['pop']),\n",
    "        go.Bar(name='Europe', x=df[df.continent=='Europe'].year, y=df[df.continent=='Europe']['pop'])\n",
    "    ]\n",
    ")\n",
    "fig.update_layout(barmode='stack')\n",
    "fig.layout.template='seaborn'\n",
    "fig.layout.height=400\n",
    "fig.show()"
   ]
  },
  {
   "cell_type": "code",
   "execution_count": null,
   "id": "2281d541",
   "metadata": {},
   "outputs": [],
   "source": []
  },
  {
   "cell_type": "markdown",
   "id": "bb7a743a",
   "metadata": {},
   "source": [
    "## Adding your own style to your charts\n"
   ]
  },
  {
   "cell_type": "code",
   "execution_count": 14,
   "id": "b503b544",
   "metadata": {},
   "outputs": [],
   "source": [
    "country1 = 'United States'\n",
    "country2 = 'Japan'"
   ]
  },
  {
   "cell_type": "code",
   "execution_count": 15,
   "id": "3c77b8f8",
   "metadata": {},
   "outputs": [
    {
     "data": {
      "application/vnd.plotly.v1+json": {
       "config": {
        "plotlyServerURL": "https://plot.ly"
       },
       "data": [
        {
         "name": "United States",
         "type": "scatter",
         "x": [
          1952,
          1957,
          1962,
          1967,
          1972,
          1977,
          1982,
          1987,
          1992,
          1997,
          2002,
          2007
         ],
         "y": [
          68.44,
          69.49,
          70.21,
          70.76,
          71.34,
          73.38,
          74.65,
          75.02,
          76.09,
          76.81,
          77.31,
          78.242
         ]
        },
        {
         "line": {
          "color": "sienna",
          "width": 5
         },
         "mode": "lines",
         "name": "Japan",
         "type": "scatter",
         "x": [
          1952,
          1957,
          1962,
          1967,
          1972,
          1977,
          1982,
          1987,
          1992,
          1997,
          2002,
          2007
         ],
         "y": [
          63.03,
          65.5,
          68.73,
          71.43,
          73.42,
          75.38,
          77.11,
          78.67,
          79.36,
          80.69,
          82,
          82.603
         ]
        }
       ],
       "layout": {
        "template": {
         "data": {
          "bar": [
           {
            "error_x": {
             "color": "#2a3f5f"
            },
            "error_y": {
             "color": "#2a3f5f"
            },
            "marker": {
             "line": {
              "color": "#E5ECF6",
              "width": 0.5
             },
             "pattern": {
              "fillmode": "overlay",
              "size": 10,
              "solidity": 0.2
             }
            },
            "type": "bar"
           }
          ],
          "barpolar": [
           {
            "marker": {
             "line": {
              "color": "#E5ECF6",
              "width": 0.5
             },
             "pattern": {
              "fillmode": "overlay",
              "size": 10,
              "solidity": 0.2
             }
            },
            "type": "barpolar"
           }
          ],
          "carpet": [
           {
            "aaxis": {
             "endlinecolor": "#2a3f5f",
             "gridcolor": "white",
             "linecolor": "white",
             "minorgridcolor": "white",
             "startlinecolor": "#2a3f5f"
            },
            "baxis": {
             "endlinecolor": "#2a3f5f",
             "gridcolor": "white",
             "linecolor": "white",
             "minorgridcolor": "white",
             "startlinecolor": "#2a3f5f"
            },
            "type": "carpet"
           }
          ],
          "choropleth": [
           {
            "colorbar": {
             "outlinewidth": 0,
             "ticks": ""
            },
            "type": "choropleth"
           }
          ],
          "contour": [
           {
            "colorbar": {
             "outlinewidth": 0,
             "ticks": ""
            },
            "colorscale": [
             [
              0,
              "#0d0887"
             ],
             [
              0.1111111111111111,
              "#46039f"
             ],
             [
              0.2222222222222222,
              "#7201a8"
             ],
             [
              0.3333333333333333,
              "#9c179e"
             ],
             [
              0.4444444444444444,
              "#bd3786"
             ],
             [
              0.5555555555555556,
              "#d8576b"
             ],
             [
              0.6666666666666666,
              "#ed7953"
             ],
             [
              0.7777777777777778,
              "#fb9f3a"
             ],
             [
              0.8888888888888888,
              "#fdca26"
             ],
             [
              1,
              "#f0f921"
             ]
            ],
            "type": "contour"
           }
          ],
          "contourcarpet": [
           {
            "colorbar": {
             "outlinewidth": 0,
             "ticks": ""
            },
            "type": "contourcarpet"
           }
          ],
          "heatmap": [
           {
            "colorbar": {
             "outlinewidth": 0,
             "ticks": ""
            },
            "colorscale": [
             [
              0,
              "#0d0887"
             ],
             [
              0.1111111111111111,
              "#46039f"
             ],
             [
              0.2222222222222222,
              "#7201a8"
             ],
             [
              0.3333333333333333,
              "#9c179e"
             ],
             [
              0.4444444444444444,
              "#bd3786"
             ],
             [
              0.5555555555555556,
              "#d8576b"
             ],
             [
              0.6666666666666666,
              "#ed7953"
             ],
             [
              0.7777777777777778,
              "#fb9f3a"
             ],
             [
              0.8888888888888888,
              "#fdca26"
             ],
             [
              1,
              "#f0f921"
             ]
            ],
            "type": "heatmap"
           }
          ],
          "heatmapgl": [
           {
            "colorbar": {
             "outlinewidth": 0,
             "ticks": ""
            },
            "colorscale": [
             [
              0,
              "#0d0887"
             ],
             [
              0.1111111111111111,
              "#46039f"
             ],
             [
              0.2222222222222222,
              "#7201a8"
             ],
             [
              0.3333333333333333,
              "#9c179e"
             ],
             [
              0.4444444444444444,
              "#bd3786"
             ],
             [
              0.5555555555555556,
              "#d8576b"
             ],
             [
              0.6666666666666666,
              "#ed7953"
             ],
             [
              0.7777777777777778,
              "#fb9f3a"
             ],
             [
              0.8888888888888888,
              "#fdca26"
             ],
             [
              1,
              "#f0f921"
             ]
            ],
            "type": "heatmapgl"
           }
          ],
          "histogram": [
           {
            "marker": {
             "pattern": {
              "fillmode": "overlay",
              "size": 10,
              "solidity": 0.2
             }
            },
            "type": "histogram"
           }
          ],
          "histogram2d": [
           {
            "colorbar": {
             "outlinewidth": 0,
             "ticks": ""
            },
            "colorscale": [
             [
              0,
              "#0d0887"
             ],
             [
              0.1111111111111111,
              "#46039f"
             ],
             [
              0.2222222222222222,
              "#7201a8"
             ],
             [
              0.3333333333333333,
              "#9c179e"
             ],
             [
              0.4444444444444444,
              "#bd3786"
             ],
             [
              0.5555555555555556,
              "#d8576b"
             ],
             [
              0.6666666666666666,
              "#ed7953"
             ],
             [
              0.7777777777777778,
              "#fb9f3a"
             ],
             [
              0.8888888888888888,
              "#fdca26"
             ],
             [
              1,
              "#f0f921"
             ]
            ],
            "type": "histogram2d"
           }
          ],
          "histogram2dcontour": [
           {
            "colorbar": {
             "outlinewidth": 0,
             "ticks": ""
            },
            "colorscale": [
             [
              0,
              "#0d0887"
             ],
             [
              0.1111111111111111,
              "#46039f"
             ],
             [
              0.2222222222222222,
              "#7201a8"
             ],
             [
              0.3333333333333333,
              "#9c179e"
             ],
             [
              0.4444444444444444,
              "#bd3786"
             ],
             [
              0.5555555555555556,
              "#d8576b"
             ],
             [
              0.6666666666666666,
              "#ed7953"
             ],
             [
              0.7777777777777778,
              "#fb9f3a"
             ],
             [
              0.8888888888888888,
              "#fdca26"
             ],
             [
              1,
              "#f0f921"
             ]
            ],
            "type": "histogram2dcontour"
           }
          ],
          "mesh3d": [
           {
            "colorbar": {
             "outlinewidth": 0,
             "ticks": ""
            },
            "type": "mesh3d"
           }
          ],
          "parcoords": [
           {
            "line": {
             "colorbar": {
              "outlinewidth": 0,
              "ticks": ""
             }
            },
            "type": "parcoords"
           }
          ],
          "pie": [
           {
            "automargin": true,
            "type": "pie"
           }
          ],
          "scatter": [
           {
            "marker": {
             "colorbar": {
              "outlinewidth": 0,
              "ticks": ""
             }
            },
            "type": "scatter"
           }
          ],
          "scatter3d": [
           {
            "line": {
             "colorbar": {
              "outlinewidth": 0,
              "ticks": ""
             }
            },
            "marker": {
             "colorbar": {
              "outlinewidth": 0,
              "ticks": ""
             }
            },
            "type": "scatter3d"
           }
          ],
          "scattercarpet": [
           {
            "marker": {
             "colorbar": {
              "outlinewidth": 0,
              "ticks": ""
             }
            },
            "type": "scattercarpet"
           }
          ],
          "scattergeo": [
           {
            "marker": {
             "colorbar": {
              "outlinewidth": 0,
              "ticks": ""
             }
            },
            "type": "scattergeo"
           }
          ],
          "scattergl": [
           {
            "marker": {
             "colorbar": {
              "outlinewidth": 0,
              "ticks": ""
             }
            },
            "type": "scattergl"
           }
          ],
          "scattermapbox": [
           {
            "marker": {
             "colorbar": {
              "outlinewidth": 0,
              "ticks": ""
             }
            },
            "type": "scattermapbox"
           }
          ],
          "scatterpolar": [
           {
            "marker": {
             "colorbar": {
              "outlinewidth": 0,
              "ticks": ""
             }
            },
            "type": "scatterpolar"
           }
          ],
          "scatterpolargl": [
           {
            "marker": {
             "colorbar": {
              "outlinewidth": 0,
              "ticks": ""
             }
            },
            "type": "scatterpolargl"
           }
          ],
          "scatterternary": [
           {
            "marker": {
             "colorbar": {
              "outlinewidth": 0,
              "ticks": ""
             }
            },
            "type": "scatterternary"
           }
          ],
          "surface": [
           {
            "colorbar": {
             "outlinewidth": 0,
             "ticks": ""
            },
            "colorscale": [
             [
              0,
              "#0d0887"
             ],
             [
              0.1111111111111111,
              "#46039f"
             ],
             [
              0.2222222222222222,
              "#7201a8"
             ],
             [
              0.3333333333333333,
              "#9c179e"
             ],
             [
              0.4444444444444444,
              "#bd3786"
             ],
             [
              0.5555555555555556,
              "#d8576b"
             ],
             [
              0.6666666666666666,
              "#ed7953"
             ],
             [
              0.7777777777777778,
              "#fb9f3a"
             ],
             [
              0.8888888888888888,
              "#fdca26"
             ],
             [
              1,
              "#f0f921"
             ]
            ],
            "type": "surface"
           }
          ],
          "table": [
           {
            "cells": {
             "fill": {
              "color": "#EBF0F8"
             },
             "line": {
              "color": "white"
             }
            },
            "header": {
             "fill": {
              "color": "#C8D4E3"
             },
             "line": {
              "color": "white"
             }
            },
            "type": "table"
           }
          ]
         },
         "layout": {
          "annotationdefaults": {
           "arrowcolor": "#2a3f5f",
           "arrowhead": 0,
           "arrowwidth": 1
          },
          "autotypenumbers": "strict",
          "coloraxis": {
           "colorbar": {
            "outlinewidth": 0,
            "ticks": ""
           }
          },
          "colorscale": {
           "diverging": [
            [
             0,
             "#8e0152"
            ],
            [
             0.1,
             "#c51b7d"
            ],
            [
             0.2,
             "#de77ae"
            ],
            [
             0.3,
             "#f1b6da"
            ],
            [
             0.4,
             "#fde0ef"
            ],
            [
             0.5,
             "#f7f7f7"
            ],
            [
             0.6,
             "#e6f5d0"
            ],
            [
             0.7,
             "#b8e186"
            ],
            [
             0.8,
             "#7fbc41"
            ],
            [
             0.9,
             "#4d9221"
            ],
            [
             1,
             "#276419"
            ]
           ],
           "sequential": [
            [
             0,
             "#0d0887"
            ],
            [
             0.1111111111111111,
             "#46039f"
            ],
            [
             0.2222222222222222,
             "#7201a8"
            ],
            [
             0.3333333333333333,
             "#9c179e"
            ],
            [
             0.4444444444444444,
             "#bd3786"
            ],
            [
             0.5555555555555556,
             "#d8576b"
            ],
            [
             0.6666666666666666,
             "#ed7953"
            ],
            [
             0.7777777777777778,
             "#fb9f3a"
            ],
            [
             0.8888888888888888,
             "#fdca26"
            ],
            [
             1,
             "#f0f921"
            ]
           ],
           "sequentialminus": [
            [
             0,
             "#0d0887"
            ],
            [
             0.1111111111111111,
             "#46039f"
            ],
            [
             0.2222222222222222,
             "#7201a8"
            ],
            [
             0.3333333333333333,
             "#9c179e"
            ],
            [
             0.4444444444444444,
             "#bd3786"
            ],
            [
             0.5555555555555556,
             "#d8576b"
            ],
            [
             0.6666666666666666,
             "#ed7953"
            ],
            [
             0.7777777777777778,
             "#fb9f3a"
            ],
            [
             0.8888888888888888,
             "#fdca26"
            ],
            [
             1,
             "#f0f921"
            ]
           ]
          },
          "colorway": [
           "#636efa",
           "#EF553B",
           "#00cc96",
           "#ab63fa",
           "#FFA15A",
           "#19d3f3",
           "#FF6692",
           "#B6E880",
           "#FF97FF",
           "#FECB52"
          ],
          "font": {
           "color": "#2a3f5f"
          },
          "geo": {
           "bgcolor": "white",
           "lakecolor": "white",
           "landcolor": "#E5ECF6",
           "showlakes": true,
           "showland": true,
           "subunitcolor": "white"
          },
          "hoverlabel": {
           "align": "left"
          },
          "hovermode": "closest",
          "mapbox": {
           "style": "light"
          },
          "paper_bgcolor": "white",
          "plot_bgcolor": "#E5ECF6",
          "polar": {
           "angularaxis": {
            "gridcolor": "white",
            "linecolor": "white",
            "ticks": ""
           },
           "bgcolor": "#E5ECF6",
           "radialaxis": {
            "gridcolor": "white",
            "linecolor": "white",
            "ticks": ""
           }
          },
          "scene": {
           "xaxis": {
            "backgroundcolor": "#E5ECF6",
            "gridcolor": "white",
            "gridwidth": 2,
            "linecolor": "white",
            "showbackground": true,
            "ticks": "",
            "zerolinecolor": "white"
           },
           "yaxis": {
            "backgroundcolor": "#E5ECF6",
            "gridcolor": "white",
            "gridwidth": 2,
            "linecolor": "white",
            "showbackground": true,
            "ticks": "",
            "zerolinecolor": "white"
           },
           "zaxis": {
            "backgroundcolor": "#E5ECF6",
            "gridcolor": "white",
            "gridwidth": 2,
            "linecolor": "white",
            "showbackground": true,
            "ticks": "",
            "zerolinecolor": "white"
           }
          },
          "shapedefaults": {
           "line": {
            "color": "#2a3f5f"
           }
          },
          "ternary": {
           "aaxis": {
            "gridcolor": "white",
            "linecolor": "white",
            "ticks": ""
           },
           "baxis": {
            "gridcolor": "white",
            "linecolor": "white",
            "ticks": ""
           },
           "bgcolor": "#E5ECF6",
           "caxis": {
            "gridcolor": "white",
            "linecolor": "white",
            "ticks": ""
           }
          },
          "title": {
           "x": 0.05
          },
          "xaxis": {
           "automargin": true,
           "gridcolor": "white",
           "linecolor": "white",
           "ticks": "",
           "title": {
            "standoff": 15
           },
           "zerolinecolor": "white",
           "zerolinewidth": 2
          },
          "yaxis": {
           "automargin": true,
           "gridcolor": "white",
           "linecolor": "white",
           "ticks": "",
           "title": {
            "standoff": 15
           },
           "zerolinecolor": "white",
           "zerolinewidth": 2
          }
         }
        }
       }
      },
      "text/html": [
       "<div>                            <div id=\"d9d4c437-a9ac-4363-9fe5-8507510ea868\" class=\"plotly-graph-div\" style=\"height:525px; width:100%;\"></div>            <script type=\"text/javascript\">                require([\"plotly\"], function(Plotly) {                    window.PLOTLYENV=window.PLOTLYENV || {};                                    if (document.getElementById(\"d9d4c437-a9ac-4363-9fe5-8507510ea868\")) {                    Plotly.newPlot(                        \"d9d4c437-a9ac-4363-9fe5-8507510ea868\",                        [{\"name\":\"United States\",\"type\":\"scatter\",\"x\":[1952,1957,1962,1967,1972,1977,1982,1987,1992,1997,2002,2007],\"y\":[68.44,69.49,70.21,70.76,71.34,73.38,74.65,75.02,76.09,76.81,77.31,78.242]},{\"line\":{\"color\":\"sienna\",\"width\":5},\"mode\":\"lines\",\"name\":\"Japan\",\"type\":\"scatter\",\"x\":[1952,1957,1962,1967,1972,1977,1982,1987,1992,1997,2002,2007],\"y\":[63.03,65.5,68.73,71.43,73.42,75.38,77.11,78.67,79.36,80.69,82.0,82.603]}],                        {\"template\":{\"data\":{\"bar\":[{\"error_x\":{\"color\":\"#2a3f5f\"},\"error_y\":{\"color\":\"#2a3f5f\"},\"marker\":{\"line\":{\"color\":\"#E5ECF6\",\"width\":0.5},\"pattern\":{\"fillmode\":\"overlay\",\"size\":10,\"solidity\":0.2}},\"type\":\"bar\"}],\"barpolar\":[{\"marker\":{\"line\":{\"color\":\"#E5ECF6\",\"width\":0.5},\"pattern\":{\"fillmode\":\"overlay\",\"size\":10,\"solidity\":0.2}},\"type\":\"barpolar\"}],\"carpet\":[{\"aaxis\":{\"endlinecolor\":\"#2a3f5f\",\"gridcolor\":\"white\",\"linecolor\":\"white\",\"minorgridcolor\":\"white\",\"startlinecolor\":\"#2a3f5f\"},\"baxis\":{\"endlinecolor\":\"#2a3f5f\",\"gridcolor\":\"white\",\"linecolor\":\"white\",\"minorgridcolor\":\"white\",\"startlinecolor\":\"#2a3f5f\"},\"type\":\"carpet\"}],\"choropleth\":[{\"colorbar\":{\"outlinewidth\":0,\"ticks\":\"\"},\"type\":\"choropleth\"}],\"contour\":[{\"colorbar\":{\"outlinewidth\":0,\"ticks\":\"\"},\"colorscale\":[[0.0,\"#0d0887\"],[0.1111111111111111,\"#46039f\"],[0.2222222222222222,\"#7201a8\"],[0.3333333333333333,\"#9c179e\"],[0.4444444444444444,\"#bd3786\"],[0.5555555555555556,\"#d8576b\"],[0.6666666666666666,\"#ed7953\"],[0.7777777777777778,\"#fb9f3a\"],[0.8888888888888888,\"#fdca26\"],[1.0,\"#f0f921\"]],\"type\":\"contour\"}],\"contourcarpet\":[{\"colorbar\":{\"outlinewidth\":0,\"ticks\":\"\"},\"type\":\"contourcarpet\"}],\"heatmap\":[{\"colorbar\":{\"outlinewidth\":0,\"ticks\":\"\"},\"colorscale\":[[0.0,\"#0d0887\"],[0.1111111111111111,\"#46039f\"],[0.2222222222222222,\"#7201a8\"],[0.3333333333333333,\"#9c179e\"],[0.4444444444444444,\"#bd3786\"],[0.5555555555555556,\"#d8576b\"],[0.6666666666666666,\"#ed7953\"],[0.7777777777777778,\"#fb9f3a\"],[0.8888888888888888,\"#fdca26\"],[1.0,\"#f0f921\"]],\"type\":\"heatmap\"}],\"heatmapgl\":[{\"colorbar\":{\"outlinewidth\":0,\"ticks\":\"\"},\"colorscale\":[[0.0,\"#0d0887\"],[0.1111111111111111,\"#46039f\"],[0.2222222222222222,\"#7201a8\"],[0.3333333333333333,\"#9c179e\"],[0.4444444444444444,\"#bd3786\"],[0.5555555555555556,\"#d8576b\"],[0.6666666666666666,\"#ed7953\"],[0.7777777777777778,\"#fb9f3a\"],[0.8888888888888888,\"#fdca26\"],[1.0,\"#f0f921\"]],\"type\":\"heatmapgl\"}],\"histogram\":[{\"marker\":{\"pattern\":{\"fillmode\":\"overlay\",\"size\":10,\"solidity\":0.2}},\"type\":\"histogram\"}],\"histogram2d\":[{\"colorbar\":{\"outlinewidth\":0,\"ticks\":\"\"},\"colorscale\":[[0.0,\"#0d0887\"],[0.1111111111111111,\"#46039f\"],[0.2222222222222222,\"#7201a8\"],[0.3333333333333333,\"#9c179e\"],[0.4444444444444444,\"#bd3786\"],[0.5555555555555556,\"#d8576b\"],[0.6666666666666666,\"#ed7953\"],[0.7777777777777778,\"#fb9f3a\"],[0.8888888888888888,\"#fdca26\"],[1.0,\"#f0f921\"]],\"type\":\"histogram2d\"}],\"histogram2dcontour\":[{\"colorbar\":{\"outlinewidth\":0,\"ticks\":\"\"},\"colorscale\":[[0.0,\"#0d0887\"],[0.1111111111111111,\"#46039f\"],[0.2222222222222222,\"#7201a8\"],[0.3333333333333333,\"#9c179e\"],[0.4444444444444444,\"#bd3786\"],[0.5555555555555556,\"#d8576b\"],[0.6666666666666666,\"#ed7953\"],[0.7777777777777778,\"#fb9f3a\"],[0.8888888888888888,\"#fdca26\"],[1.0,\"#f0f921\"]],\"type\":\"histogram2dcontour\"}],\"mesh3d\":[{\"colorbar\":{\"outlinewidth\":0,\"ticks\":\"\"},\"type\":\"mesh3d\"}],\"parcoords\":[{\"line\":{\"colorbar\":{\"outlinewidth\":0,\"ticks\":\"\"}},\"type\":\"parcoords\"}],\"pie\":[{\"automargin\":true,\"type\":\"pie\"}],\"scatter\":[{\"marker\":{\"colorbar\":{\"outlinewidth\":0,\"ticks\":\"\"}},\"type\":\"scatter\"}],\"scatter3d\":[{\"line\":{\"colorbar\":{\"outlinewidth\":0,\"ticks\":\"\"}},\"marker\":{\"colorbar\":{\"outlinewidth\":0,\"ticks\":\"\"}},\"type\":\"scatter3d\"}],\"scattercarpet\":[{\"marker\":{\"colorbar\":{\"outlinewidth\":0,\"ticks\":\"\"}},\"type\":\"scattercarpet\"}],\"scattergeo\":[{\"marker\":{\"colorbar\":{\"outlinewidth\":0,\"ticks\":\"\"}},\"type\":\"scattergeo\"}],\"scattergl\":[{\"marker\":{\"colorbar\":{\"outlinewidth\":0,\"ticks\":\"\"}},\"type\":\"scattergl\"}],\"scattermapbox\":[{\"marker\":{\"colorbar\":{\"outlinewidth\":0,\"ticks\":\"\"}},\"type\":\"scattermapbox\"}],\"scatterpolar\":[{\"marker\":{\"colorbar\":{\"outlinewidth\":0,\"ticks\":\"\"}},\"type\":\"scatterpolar\"}],\"scatterpolargl\":[{\"marker\":{\"colorbar\":{\"outlinewidth\":0,\"ticks\":\"\"}},\"type\":\"scatterpolargl\"}],\"scatterternary\":[{\"marker\":{\"colorbar\":{\"outlinewidth\":0,\"ticks\":\"\"}},\"type\":\"scatterternary\"}],\"surface\":[{\"colorbar\":{\"outlinewidth\":0,\"ticks\":\"\"},\"colorscale\":[[0.0,\"#0d0887\"],[0.1111111111111111,\"#46039f\"],[0.2222222222222222,\"#7201a8\"],[0.3333333333333333,\"#9c179e\"],[0.4444444444444444,\"#bd3786\"],[0.5555555555555556,\"#d8576b\"],[0.6666666666666666,\"#ed7953\"],[0.7777777777777778,\"#fb9f3a\"],[0.8888888888888888,\"#fdca26\"],[1.0,\"#f0f921\"]],\"type\":\"surface\"}],\"table\":[{\"cells\":{\"fill\":{\"color\":\"#EBF0F8\"},\"line\":{\"color\":\"white\"}},\"header\":{\"fill\":{\"color\":\"#C8D4E3\"},\"line\":{\"color\":\"white\"}},\"type\":\"table\"}]},\"layout\":{\"annotationdefaults\":{\"arrowcolor\":\"#2a3f5f\",\"arrowhead\":0,\"arrowwidth\":1},\"autotypenumbers\":\"strict\",\"coloraxis\":{\"colorbar\":{\"outlinewidth\":0,\"ticks\":\"\"}},\"colorscale\":{\"diverging\":[[0,\"#8e0152\"],[0.1,\"#c51b7d\"],[0.2,\"#de77ae\"],[0.3,\"#f1b6da\"],[0.4,\"#fde0ef\"],[0.5,\"#f7f7f7\"],[0.6,\"#e6f5d0\"],[0.7,\"#b8e186\"],[0.8,\"#7fbc41\"],[0.9,\"#4d9221\"],[1,\"#276419\"]],\"sequential\":[[0.0,\"#0d0887\"],[0.1111111111111111,\"#46039f\"],[0.2222222222222222,\"#7201a8\"],[0.3333333333333333,\"#9c179e\"],[0.4444444444444444,\"#bd3786\"],[0.5555555555555556,\"#d8576b\"],[0.6666666666666666,\"#ed7953\"],[0.7777777777777778,\"#fb9f3a\"],[0.8888888888888888,\"#fdca26\"],[1.0,\"#f0f921\"]],\"sequentialminus\":[[0.0,\"#0d0887\"],[0.1111111111111111,\"#46039f\"],[0.2222222222222222,\"#7201a8\"],[0.3333333333333333,\"#9c179e\"],[0.4444444444444444,\"#bd3786\"],[0.5555555555555556,\"#d8576b\"],[0.6666666666666666,\"#ed7953\"],[0.7777777777777778,\"#fb9f3a\"],[0.8888888888888888,\"#fdca26\"],[1.0,\"#f0f921\"]]},\"colorway\":[\"#636efa\",\"#EF553B\",\"#00cc96\",\"#ab63fa\",\"#FFA15A\",\"#19d3f3\",\"#FF6692\",\"#B6E880\",\"#FF97FF\",\"#FECB52\"],\"font\":{\"color\":\"#2a3f5f\"},\"geo\":{\"bgcolor\":\"white\",\"lakecolor\":\"white\",\"landcolor\":\"#E5ECF6\",\"showlakes\":true,\"showland\":true,\"subunitcolor\":\"white\"},\"hoverlabel\":{\"align\":\"left\"},\"hovermode\":\"closest\",\"mapbox\":{\"style\":\"light\"},\"paper_bgcolor\":\"white\",\"plot_bgcolor\":\"#E5ECF6\",\"polar\":{\"angularaxis\":{\"gridcolor\":\"white\",\"linecolor\":\"white\",\"ticks\":\"\"},\"bgcolor\":\"#E5ECF6\",\"radialaxis\":{\"gridcolor\":\"white\",\"linecolor\":\"white\",\"ticks\":\"\"}},\"scene\":{\"xaxis\":{\"backgroundcolor\":\"#E5ECF6\",\"gridcolor\":\"white\",\"gridwidth\":2,\"linecolor\":\"white\",\"showbackground\":true,\"ticks\":\"\",\"zerolinecolor\":\"white\"},\"yaxis\":{\"backgroundcolor\":\"#E5ECF6\",\"gridcolor\":\"white\",\"gridwidth\":2,\"linecolor\":\"white\",\"showbackground\":true,\"ticks\":\"\",\"zerolinecolor\":\"white\"},\"zaxis\":{\"backgroundcolor\":\"#E5ECF6\",\"gridcolor\":\"white\",\"gridwidth\":2,\"linecolor\":\"white\",\"showbackground\":true,\"ticks\":\"\",\"zerolinecolor\":\"white\"}},\"shapedefaults\":{\"line\":{\"color\":\"#2a3f5f\"}},\"ternary\":{\"aaxis\":{\"gridcolor\":\"white\",\"linecolor\":\"white\",\"ticks\":\"\"},\"baxis\":{\"gridcolor\":\"white\",\"linecolor\":\"white\",\"ticks\":\"\"},\"bgcolor\":\"#E5ECF6\",\"caxis\":{\"gridcolor\":\"white\",\"linecolor\":\"white\",\"ticks\":\"\"}},\"title\":{\"x\":0.05},\"xaxis\":{\"automargin\":true,\"gridcolor\":\"white\",\"linecolor\":\"white\",\"ticks\":\"\",\"title\":{\"standoff\":15},\"zerolinecolor\":\"white\",\"zerolinewidth\":2},\"yaxis\":{\"automargin\":true,\"gridcolor\":\"white\",\"linecolor\":\"white\",\"ticks\":\"\",\"title\":{\"standoff\":15},\"zerolinecolor\":\"white\",\"zerolinewidth\":2}}}},                        {\"responsive\": true}                    ).then(function(){\n",
       "                            \n",
       "var gd = document.getElementById('d9d4c437-a9ac-4363-9fe5-8507510ea868');\n",
       "var x = new MutationObserver(function (mutations, observer) {{\n",
       "        var display = window.getComputedStyle(gd).display;\n",
       "        if (!display || display === 'none') {{\n",
       "            console.log([gd, 'removed!']);\n",
       "            Plotly.purge(gd);\n",
       "            observer.disconnect();\n",
       "        }}\n",
       "}});\n",
       "\n",
       "// Listen for the removal of the full notebook cells\n",
       "var notebookContainer = gd.closest('#notebook-container');\n",
       "if (notebookContainer) {{\n",
       "    x.observe(notebookContainer, {childList: true});\n",
       "}}\n",
       "\n",
       "// Listen for the clearing of the current output cell\n",
       "var outputEl = gd.closest('.output');\n",
       "if (outputEl) {{\n",
       "    x.observe(outputEl, {childList: true});\n",
       "}}\n",
       "\n",
       "                        })                };                });            </script>        </div>"
      ]
     },
     "metadata": {},
     "output_type": "display_data"
    }
   ],
   "source": [
    "fig = go.Figure()\n",
    "fig.add_trace(\n",
    "    go.Scatter(\n",
    "        x=df_[df_.country == country1].year,\n",
    "        y=df_[df_.country == country1].lifeExp,\n",
    "        name=country1,\n",
    "    )\n",
    ")\n",
    "fig.add_trace(\n",
    "    go.Scatter(\n",
    "        x=df_[df_.country == country2].year,\n",
    "        y=df_[df_.country == country2].lifeExp,\n",
    "        name=country2,\n",
    "        mode='lines',\n",
    "        line= dict(\n",
    "            color='sienna',\n",
    "            width=5\n",
    "        )\n",
    "    )\n",
    ")\n",
    "fig.show()"
   ]
  },
  {
   "cell_type": "code",
   "execution_count": 17,
   "id": "1359fe04",
   "metadata": {
    "scrolled": false
   },
   "outputs": [
    {
     "data": {
      "application/vnd.plotly.v1+json": {
       "config": {
        "plotlyServerURL": "https://plot.ly"
       },
       "data": [
        {
         "mode": "lines+text",
         "name": "United States",
         "text": [
          68.44,
          69.49,
          70.21,
          70.76,
          71.34,
          73.38,
          74.65,
          75.02,
          76.09,
          76.81,
          77.31,
          78.242
         ],
         "textposition": "top left",
         "texttemplate": "%{text:.3s}",
         "type": "scatter",
         "x": [
          1952,
          1957,
          1962,
          1967,
          1972,
          1977,
          1982,
          1987,
          1992,
          1997,
          2002,
          2007
         ],
         "y": [
          68.44,
          69.49,
          70.21,
          70.76,
          71.34,
          73.38,
          74.65,
          75.02,
          76.09,
          76.81,
          77.31,
          78.242
         ]
        },
        {
         "line": {
          "color": "sienna",
          "width": 5
         },
         "mode": "lines+text",
         "name": "Japan",
         "text": [
          63.03,
          65.5,
          68.73,
          71.43,
          73.42,
          75.38,
          77.11,
          78.67,
          79.36,
          80.69,
          82,
          82.603
         ],
         "textposition": "top left",
         "texttemplate": "%{text:.3s}",
         "type": "scatter",
         "x": [
          1952,
          1957,
          1962,
          1967,
          1972,
          1977,
          1982,
          1987,
          1992,
          1997,
          2002,
          2007
         ],
         "y": [
          63.03,
          65.5,
          68.73,
          71.43,
          73.42,
          75.38,
          77.11,
          78.67,
          79.36,
          80.69,
          82,
          82.603
         ]
        }
       ],
       "layout": {
        "margin": {
         "b": 5,
         "l": 5,
         "r": 5,
         "t": 10
        },
        "plot_bgcolor": "darkgray",
        "showlegend": false,
        "template": {
         "data": {
          "bar": [
           {
            "error_x": {
             "color": "#2a3f5f"
            },
            "error_y": {
             "color": "#2a3f5f"
            },
            "marker": {
             "line": {
              "color": "#E5ECF6",
              "width": 0.5
             },
             "pattern": {
              "fillmode": "overlay",
              "size": 10,
              "solidity": 0.2
             }
            },
            "type": "bar"
           }
          ],
          "barpolar": [
           {
            "marker": {
             "line": {
              "color": "#E5ECF6",
              "width": 0.5
             },
             "pattern": {
              "fillmode": "overlay",
              "size": 10,
              "solidity": 0.2
             }
            },
            "type": "barpolar"
           }
          ],
          "carpet": [
           {
            "aaxis": {
             "endlinecolor": "#2a3f5f",
             "gridcolor": "white",
             "linecolor": "white",
             "minorgridcolor": "white",
             "startlinecolor": "#2a3f5f"
            },
            "baxis": {
             "endlinecolor": "#2a3f5f",
             "gridcolor": "white",
             "linecolor": "white",
             "minorgridcolor": "white",
             "startlinecolor": "#2a3f5f"
            },
            "type": "carpet"
           }
          ],
          "choropleth": [
           {
            "colorbar": {
             "outlinewidth": 0,
             "ticks": ""
            },
            "type": "choropleth"
           }
          ],
          "contour": [
           {
            "colorbar": {
             "outlinewidth": 0,
             "ticks": ""
            },
            "colorscale": [
             [
              0,
              "#0d0887"
             ],
             [
              0.1111111111111111,
              "#46039f"
             ],
             [
              0.2222222222222222,
              "#7201a8"
             ],
             [
              0.3333333333333333,
              "#9c179e"
             ],
             [
              0.4444444444444444,
              "#bd3786"
             ],
             [
              0.5555555555555556,
              "#d8576b"
             ],
             [
              0.6666666666666666,
              "#ed7953"
             ],
             [
              0.7777777777777778,
              "#fb9f3a"
             ],
             [
              0.8888888888888888,
              "#fdca26"
             ],
             [
              1,
              "#f0f921"
             ]
            ],
            "type": "contour"
           }
          ],
          "contourcarpet": [
           {
            "colorbar": {
             "outlinewidth": 0,
             "ticks": ""
            },
            "type": "contourcarpet"
           }
          ],
          "heatmap": [
           {
            "colorbar": {
             "outlinewidth": 0,
             "ticks": ""
            },
            "colorscale": [
             [
              0,
              "#0d0887"
             ],
             [
              0.1111111111111111,
              "#46039f"
             ],
             [
              0.2222222222222222,
              "#7201a8"
             ],
             [
              0.3333333333333333,
              "#9c179e"
             ],
             [
              0.4444444444444444,
              "#bd3786"
             ],
             [
              0.5555555555555556,
              "#d8576b"
             ],
             [
              0.6666666666666666,
              "#ed7953"
             ],
             [
              0.7777777777777778,
              "#fb9f3a"
             ],
             [
              0.8888888888888888,
              "#fdca26"
             ],
             [
              1,
              "#f0f921"
             ]
            ],
            "type": "heatmap"
           }
          ],
          "heatmapgl": [
           {
            "colorbar": {
             "outlinewidth": 0,
             "ticks": ""
            },
            "colorscale": [
             [
              0,
              "#0d0887"
             ],
             [
              0.1111111111111111,
              "#46039f"
             ],
             [
              0.2222222222222222,
              "#7201a8"
             ],
             [
              0.3333333333333333,
              "#9c179e"
             ],
             [
              0.4444444444444444,
              "#bd3786"
             ],
             [
              0.5555555555555556,
              "#d8576b"
             ],
             [
              0.6666666666666666,
              "#ed7953"
             ],
             [
              0.7777777777777778,
              "#fb9f3a"
             ],
             [
              0.8888888888888888,
              "#fdca26"
             ],
             [
              1,
              "#f0f921"
             ]
            ],
            "type": "heatmapgl"
           }
          ],
          "histogram": [
           {
            "marker": {
             "pattern": {
              "fillmode": "overlay",
              "size": 10,
              "solidity": 0.2
             }
            },
            "type": "histogram"
           }
          ],
          "histogram2d": [
           {
            "colorbar": {
             "outlinewidth": 0,
             "ticks": ""
            },
            "colorscale": [
             [
              0,
              "#0d0887"
             ],
             [
              0.1111111111111111,
              "#46039f"
             ],
             [
              0.2222222222222222,
              "#7201a8"
             ],
             [
              0.3333333333333333,
              "#9c179e"
             ],
             [
              0.4444444444444444,
              "#bd3786"
             ],
             [
              0.5555555555555556,
              "#d8576b"
             ],
             [
              0.6666666666666666,
              "#ed7953"
             ],
             [
              0.7777777777777778,
              "#fb9f3a"
             ],
             [
              0.8888888888888888,
              "#fdca26"
             ],
             [
              1,
              "#f0f921"
             ]
            ],
            "type": "histogram2d"
           }
          ],
          "histogram2dcontour": [
           {
            "colorbar": {
             "outlinewidth": 0,
             "ticks": ""
            },
            "colorscale": [
             [
              0,
              "#0d0887"
             ],
             [
              0.1111111111111111,
              "#46039f"
             ],
             [
              0.2222222222222222,
              "#7201a8"
             ],
             [
              0.3333333333333333,
              "#9c179e"
             ],
             [
              0.4444444444444444,
              "#bd3786"
             ],
             [
              0.5555555555555556,
              "#d8576b"
             ],
             [
              0.6666666666666666,
              "#ed7953"
             ],
             [
              0.7777777777777778,
              "#fb9f3a"
             ],
             [
              0.8888888888888888,
              "#fdca26"
             ],
             [
              1,
              "#f0f921"
             ]
            ],
            "type": "histogram2dcontour"
           }
          ],
          "mesh3d": [
           {
            "colorbar": {
             "outlinewidth": 0,
             "ticks": ""
            },
            "type": "mesh3d"
           }
          ],
          "parcoords": [
           {
            "line": {
             "colorbar": {
              "outlinewidth": 0,
              "ticks": ""
             }
            },
            "type": "parcoords"
           }
          ],
          "pie": [
           {
            "automargin": true,
            "type": "pie"
           }
          ],
          "scatter": [
           {
            "marker": {
             "colorbar": {
              "outlinewidth": 0,
              "ticks": ""
             }
            },
            "type": "scatter"
           }
          ],
          "scatter3d": [
           {
            "line": {
             "colorbar": {
              "outlinewidth": 0,
              "ticks": ""
             }
            },
            "marker": {
             "colorbar": {
              "outlinewidth": 0,
              "ticks": ""
             }
            },
            "type": "scatter3d"
           }
          ],
          "scattercarpet": [
           {
            "marker": {
             "colorbar": {
              "outlinewidth": 0,
              "ticks": ""
             }
            },
            "type": "scattercarpet"
           }
          ],
          "scattergeo": [
           {
            "marker": {
             "colorbar": {
              "outlinewidth": 0,
              "ticks": ""
             }
            },
            "type": "scattergeo"
           }
          ],
          "scattergl": [
           {
            "marker": {
             "colorbar": {
              "outlinewidth": 0,
              "ticks": ""
             }
            },
            "type": "scattergl"
           }
          ],
          "scattermapbox": [
           {
            "marker": {
             "colorbar": {
              "outlinewidth": 0,
              "ticks": ""
             }
            },
            "type": "scattermapbox"
           }
          ],
          "scatterpolar": [
           {
            "marker": {
             "colorbar": {
              "outlinewidth": 0,
              "ticks": ""
             }
            },
            "type": "scatterpolar"
           }
          ],
          "scatterpolargl": [
           {
            "marker": {
             "colorbar": {
              "outlinewidth": 0,
              "ticks": ""
             }
            },
            "type": "scatterpolargl"
           }
          ],
          "scatterternary": [
           {
            "marker": {
             "colorbar": {
              "outlinewidth": 0,
              "ticks": ""
             }
            },
            "type": "scatterternary"
           }
          ],
          "surface": [
           {
            "colorbar": {
             "outlinewidth": 0,
             "ticks": ""
            },
            "colorscale": [
             [
              0,
              "#0d0887"
             ],
             [
              0.1111111111111111,
              "#46039f"
             ],
             [
              0.2222222222222222,
              "#7201a8"
             ],
             [
              0.3333333333333333,
              "#9c179e"
             ],
             [
              0.4444444444444444,
              "#bd3786"
             ],
             [
              0.5555555555555556,
              "#d8576b"
             ],
             [
              0.6666666666666666,
              "#ed7953"
             ],
             [
              0.7777777777777778,
              "#fb9f3a"
             ],
             [
              0.8888888888888888,
              "#fdca26"
             ],
             [
              1,
              "#f0f921"
             ]
            ],
            "type": "surface"
           }
          ],
          "table": [
           {
            "cells": {
             "fill": {
              "color": "#EBF0F8"
             },
             "line": {
              "color": "white"
             }
            },
            "header": {
             "fill": {
              "color": "#C8D4E3"
             },
             "line": {
              "color": "white"
             }
            },
            "type": "table"
           }
          ]
         },
         "layout": {
          "annotationdefaults": {
           "arrowcolor": "#2a3f5f",
           "arrowhead": 0,
           "arrowwidth": 1
          },
          "autotypenumbers": "strict",
          "coloraxis": {
           "colorbar": {
            "outlinewidth": 0,
            "ticks": ""
           }
          },
          "colorscale": {
           "diverging": [
            [
             0,
             "#8e0152"
            ],
            [
             0.1,
             "#c51b7d"
            ],
            [
             0.2,
             "#de77ae"
            ],
            [
             0.3,
             "#f1b6da"
            ],
            [
             0.4,
             "#fde0ef"
            ],
            [
             0.5,
             "#f7f7f7"
            ],
            [
             0.6,
             "#e6f5d0"
            ],
            [
             0.7,
             "#b8e186"
            ],
            [
             0.8,
             "#7fbc41"
            ],
            [
             0.9,
             "#4d9221"
            ],
            [
             1,
             "#276419"
            ]
           ],
           "sequential": [
            [
             0,
             "#0d0887"
            ],
            [
             0.1111111111111111,
             "#46039f"
            ],
            [
             0.2222222222222222,
             "#7201a8"
            ],
            [
             0.3333333333333333,
             "#9c179e"
            ],
            [
             0.4444444444444444,
             "#bd3786"
            ],
            [
             0.5555555555555556,
             "#d8576b"
            ],
            [
             0.6666666666666666,
             "#ed7953"
            ],
            [
             0.7777777777777778,
             "#fb9f3a"
            ],
            [
             0.8888888888888888,
             "#fdca26"
            ],
            [
             1,
             "#f0f921"
            ]
           ],
           "sequentialminus": [
            [
             0,
             "#0d0887"
            ],
            [
             0.1111111111111111,
             "#46039f"
            ],
            [
             0.2222222222222222,
             "#7201a8"
            ],
            [
             0.3333333333333333,
             "#9c179e"
            ],
            [
             0.4444444444444444,
             "#bd3786"
            ],
            [
             0.5555555555555556,
             "#d8576b"
            ],
            [
             0.6666666666666666,
             "#ed7953"
            ],
            [
             0.7777777777777778,
             "#fb9f3a"
            ],
            [
             0.8888888888888888,
             "#fdca26"
            ],
            [
             1,
             "#f0f921"
            ]
           ]
          },
          "colorway": [
           "#636efa",
           "#EF553B",
           "#00cc96",
           "#ab63fa",
           "#FFA15A",
           "#19d3f3",
           "#FF6692",
           "#B6E880",
           "#FF97FF",
           "#FECB52"
          ],
          "font": {
           "color": "#2a3f5f"
          },
          "geo": {
           "bgcolor": "white",
           "lakecolor": "white",
           "landcolor": "#E5ECF6",
           "showlakes": true,
           "showland": true,
           "subunitcolor": "white"
          },
          "hoverlabel": {
           "align": "left"
          },
          "hovermode": "closest",
          "mapbox": {
           "style": "light"
          },
          "paper_bgcolor": "white",
          "plot_bgcolor": "#E5ECF6",
          "polar": {
           "angularaxis": {
            "gridcolor": "white",
            "linecolor": "white",
            "ticks": ""
           },
           "bgcolor": "#E5ECF6",
           "radialaxis": {
            "gridcolor": "white",
            "linecolor": "white",
            "ticks": ""
           }
          },
          "scene": {
           "xaxis": {
            "backgroundcolor": "#E5ECF6",
            "gridcolor": "white",
            "gridwidth": 2,
            "linecolor": "white",
            "showbackground": true,
            "ticks": "",
            "zerolinecolor": "white"
           },
           "yaxis": {
            "backgroundcolor": "#E5ECF6",
            "gridcolor": "white",
            "gridwidth": 2,
            "linecolor": "white",
            "showbackground": true,
            "ticks": "",
            "zerolinecolor": "white"
           },
           "zaxis": {
            "backgroundcolor": "#E5ECF6",
            "gridcolor": "white",
            "gridwidth": 2,
            "linecolor": "white",
            "showbackground": true,
            "ticks": "",
            "zerolinecolor": "white"
           }
          },
          "shapedefaults": {
           "line": {
            "color": "#2a3f5f"
           }
          },
          "ternary": {
           "aaxis": {
            "gridcolor": "white",
            "linecolor": "white",
            "ticks": ""
           },
           "baxis": {
            "gridcolor": "white",
            "linecolor": "white",
            "ticks": ""
           },
           "bgcolor": "#E5ECF6",
           "caxis": {
            "gridcolor": "white",
            "linecolor": "white",
            "ticks": ""
           }
          },
          "title": {
           "x": 0.05
          },
          "xaxis": {
           "automargin": true,
           "gridcolor": "white",
           "linecolor": "white",
           "ticks": "",
           "title": {
            "standoff": 15
           },
           "zerolinecolor": "white",
           "zerolinewidth": 2
          },
          "yaxis": {
           "automargin": true,
           "gridcolor": "white",
           "linecolor": "white",
           "ticks": "",
           "title": {
            "standoff": 15
           },
           "zerolinecolor": "white",
           "zerolinewidth": 2
          }
         }
        },
        "xaxis": {
         "showgrid": false,
         "showticklabels": false
        },
        "yaxis": {
         "showgrid": false,
         "showticklabels": false
        }
       }
      },
      "text/html": [
       "<div>                            <div id=\"88b9547e-ed7e-4ac1-a7eb-5ee87c822986\" class=\"plotly-graph-div\" style=\"height:525px; width:100%;\"></div>            <script type=\"text/javascript\">                require([\"plotly\"], function(Plotly) {                    window.PLOTLYENV=window.PLOTLYENV || {};                                    if (document.getElementById(\"88b9547e-ed7e-4ac1-a7eb-5ee87c822986\")) {                    Plotly.newPlot(                        \"88b9547e-ed7e-4ac1-a7eb-5ee87c822986\",                        [{\"mode\":\"lines+text\",\"name\":\"United States\",\"text\":[68.44,69.49,70.21,70.76,71.34,73.38,74.65,75.02,76.09,76.81,77.31,78.242],\"textposition\":\"top left\",\"texttemplate\":\"%{text:.3s}\",\"type\":\"scatter\",\"x\":[1952,1957,1962,1967,1972,1977,1982,1987,1992,1997,2002,2007],\"y\":[68.44,69.49,70.21,70.76,71.34,73.38,74.65,75.02,76.09,76.81,77.31,78.242]},{\"line\":{\"color\":\"sienna\",\"width\":5},\"mode\":\"lines+text\",\"name\":\"Japan\",\"text\":[63.03,65.5,68.73,71.43,73.42,75.38,77.11,78.67,79.36,80.69,82.0,82.603],\"textposition\":\"top left\",\"texttemplate\":\"%{text:.3s}\",\"type\":\"scatter\",\"x\":[1952,1957,1962,1967,1972,1977,1982,1987,1992,1997,2002,2007],\"y\":[63.03,65.5,68.73,71.43,73.42,75.38,77.11,78.67,79.36,80.69,82.0,82.603]}],                        {\"margin\":{\"b\":5,\"l\":5,\"r\":5,\"t\":10},\"plot_bgcolor\":\"darkgray\",\"showlegend\":false,\"template\":{\"data\":{\"bar\":[{\"error_x\":{\"color\":\"#2a3f5f\"},\"error_y\":{\"color\":\"#2a3f5f\"},\"marker\":{\"line\":{\"color\":\"#E5ECF6\",\"width\":0.5},\"pattern\":{\"fillmode\":\"overlay\",\"size\":10,\"solidity\":0.2}},\"type\":\"bar\"}],\"barpolar\":[{\"marker\":{\"line\":{\"color\":\"#E5ECF6\",\"width\":0.5},\"pattern\":{\"fillmode\":\"overlay\",\"size\":10,\"solidity\":0.2}},\"type\":\"barpolar\"}],\"carpet\":[{\"aaxis\":{\"endlinecolor\":\"#2a3f5f\",\"gridcolor\":\"white\",\"linecolor\":\"white\",\"minorgridcolor\":\"white\",\"startlinecolor\":\"#2a3f5f\"},\"baxis\":{\"endlinecolor\":\"#2a3f5f\",\"gridcolor\":\"white\",\"linecolor\":\"white\",\"minorgridcolor\":\"white\",\"startlinecolor\":\"#2a3f5f\"},\"type\":\"carpet\"}],\"choropleth\":[{\"colorbar\":{\"outlinewidth\":0,\"ticks\":\"\"},\"type\":\"choropleth\"}],\"contour\":[{\"colorbar\":{\"outlinewidth\":0,\"ticks\":\"\"},\"colorscale\":[[0.0,\"#0d0887\"],[0.1111111111111111,\"#46039f\"],[0.2222222222222222,\"#7201a8\"],[0.3333333333333333,\"#9c179e\"],[0.4444444444444444,\"#bd3786\"],[0.5555555555555556,\"#d8576b\"],[0.6666666666666666,\"#ed7953\"],[0.7777777777777778,\"#fb9f3a\"],[0.8888888888888888,\"#fdca26\"],[1.0,\"#f0f921\"]],\"type\":\"contour\"}],\"contourcarpet\":[{\"colorbar\":{\"outlinewidth\":0,\"ticks\":\"\"},\"type\":\"contourcarpet\"}],\"heatmap\":[{\"colorbar\":{\"outlinewidth\":0,\"ticks\":\"\"},\"colorscale\":[[0.0,\"#0d0887\"],[0.1111111111111111,\"#46039f\"],[0.2222222222222222,\"#7201a8\"],[0.3333333333333333,\"#9c179e\"],[0.4444444444444444,\"#bd3786\"],[0.5555555555555556,\"#d8576b\"],[0.6666666666666666,\"#ed7953\"],[0.7777777777777778,\"#fb9f3a\"],[0.8888888888888888,\"#fdca26\"],[1.0,\"#f0f921\"]],\"type\":\"heatmap\"}],\"heatmapgl\":[{\"colorbar\":{\"outlinewidth\":0,\"ticks\":\"\"},\"colorscale\":[[0.0,\"#0d0887\"],[0.1111111111111111,\"#46039f\"],[0.2222222222222222,\"#7201a8\"],[0.3333333333333333,\"#9c179e\"],[0.4444444444444444,\"#bd3786\"],[0.5555555555555556,\"#d8576b\"],[0.6666666666666666,\"#ed7953\"],[0.7777777777777778,\"#fb9f3a\"],[0.8888888888888888,\"#fdca26\"],[1.0,\"#f0f921\"]],\"type\":\"heatmapgl\"}],\"histogram\":[{\"marker\":{\"pattern\":{\"fillmode\":\"overlay\",\"size\":10,\"solidity\":0.2}},\"type\":\"histogram\"}],\"histogram2d\":[{\"colorbar\":{\"outlinewidth\":0,\"ticks\":\"\"},\"colorscale\":[[0.0,\"#0d0887\"],[0.1111111111111111,\"#46039f\"],[0.2222222222222222,\"#7201a8\"],[0.3333333333333333,\"#9c179e\"],[0.4444444444444444,\"#bd3786\"],[0.5555555555555556,\"#d8576b\"],[0.6666666666666666,\"#ed7953\"],[0.7777777777777778,\"#fb9f3a\"],[0.8888888888888888,\"#fdca26\"],[1.0,\"#f0f921\"]],\"type\":\"histogram2d\"}],\"histogram2dcontour\":[{\"colorbar\":{\"outlinewidth\":0,\"ticks\":\"\"},\"colorscale\":[[0.0,\"#0d0887\"],[0.1111111111111111,\"#46039f\"],[0.2222222222222222,\"#7201a8\"],[0.3333333333333333,\"#9c179e\"],[0.4444444444444444,\"#bd3786\"],[0.5555555555555556,\"#d8576b\"],[0.6666666666666666,\"#ed7953\"],[0.7777777777777778,\"#fb9f3a\"],[0.8888888888888888,\"#fdca26\"],[1.0,\"#f0f921\"]],\"type\":\"histogram2dcontour\"}],\"mesh3d\":[{\"colorbar\":{\"outlinewidth\":0,\"ticks\":\"\"},\"type\":\"mesh3d\"}],\"parcoords\":[{\"line\":{\"colorbar\":{\"outlinewidth\":0,\"ticks\":\"\"}},\"type\":\"parcoords\"}],\"pie\":[{\"automargin\":true,\"type\":\"pie\"}],\"scatter\":[{\"marker\":{\"colorbar\":{\"outlinewidth\":0,\"ticks\":\"\"}},\"type\":\"scatter\"}],\"scatter3d\":[{\"line\":{\"colorbar\":{\"outlinewidth\":0,\"ticks\":\"\"}},\"marker\":{\"colorbar\":{\"outlinewidth\":0,\"ticks\":\"\"}},\"type\":\"scatter3d\"}],\"scattercarpet\":[{\"marker\":{\"colorbar\":{\"outlinewidth\":0,\"ticks\":\"\"}},\"type\":\"scattercarpet\"}],\"scattergeo\":[{\"marker\":{\"colorbar\":{\"outlinewidth\":0,\"ticks\":\"\"}},\"type\":\"scattergeo\"}],\"scattergl\":[{\"marker\":{\"colorbar\":{\"outlinewidth\":0,\"ticks\":\"\"}},\"type\":\"scattergl\"}],\"scattermapbox\":[{\"marker\":{\"colorbar\":{\"outlinewidth\":0,\"ticks\":\"\"}},\"type\":\"scattermapbox\"}],\"scatterpolar\":[{\"marker\":{\"colorbar\":{\"outlinewidth\":0,\"ticks\":\"\"}},\"type\":\"scatterpolar\"}],\"scatterpolargl\":[{\"marker\":{\"colorbar\":{\"outlinewidth\":0,\"ticks\":\"\"}},\"type\":\"scatterpolargl\"}],\"scatterternary\":[{\"marker\":{\"colorbar\":{\"outlinewidth\":0,\"ticks\":\"\"}},\"type\":\"scatterternary\"}],\"surface\":[{\"colorbar\":{\"outlinewidth\":0,\"ticks\":\"\"},\"colorscale\":[[0.0,\"#0d0887\"],[0.1111111111111111,\"#46039f\"],[0.2222222222222222,\"#7201a8\"],[0.3333333333333333,\"#9c179e\"],[0.4444444444444444,\"#bd3786\"],[0.5555555555555556,\"#d8576b\"],[0.6666666666666666,\"#ed7953\"],[0.7777777777777778,\"#fb9f3a\"],[0.8888888888888888,\"#fdca26\"],[1.0,\"#f0f921\"]],\"type\":\"surface\"}],\"table\":[{\"cells\":{\"fill\":{\"color\":\"#EBF0F8\"},\"line\":{\"color\":\"white\"}},\"header\":{\"fill\":{\"color\":\"#C8D4E3\"},\"line\":{\"color\":\"white\"}},\"type\":\"table\"}]},\"layout\":{\"annotationdefaults\":{\"arrowcolor\":\"#2a3f5f\",\"arrowhead\":0,\"arrowwidth\":1},\"autotypenumbers\":\"strict\",\"coloraxis\":{\"colorbar\":{\"outlinewidth\":0,\"ticks\":\"\"}},\"colorscale\":{\"diverging\":[[0,\"#8e0152\"],[0.1,\"#c51b7d\"],[0.2,\"#de77ae\"],[0.3,\"#f1b6da\"],[0.4,\"#fde0ef\"],[0.5,\"#f7f7f7\"],[0.6,\"#e6f5d0\"],[0.7,\"#b8e186\"],[0.8,\"#7fbc41\"],[0.9,\"#4d9221\"],[1,\"#276419\"]],\"sequential\":[[0.0,\"#0d0887\"],[0.1111111111111111,\"#46039f\"],[0.2222222222222222,\"#7201a8\"],[0.3333333333333333,\"#9c179e\"],[0.4444444444444444,\"#bd3786\"],[0.5555555555555556,\"#d8576b\"],[0.6666666666666666,\"#ed7953\"],[0.7777777777777778,\"#fb9f3a\"],[0.8888888888888888,\"#fdca26\"],[1.0,\"#f0f921\"]],\"sequentialminus\":[[0.0,\"#0d0887\"],[0.1111111111111111,\"#46039f\"],[0.2222222222222222,\"#7201a8\"],[0.3333333333333333,\"#9c179e\"],[0.4444444444444444,\"#bd3786\"],[0.5555555555555556,\"#d8576b\"],[0.6666666666666666,\"#ed7953\"],[0.7777777777777778,\"#fb9f3a\"],[0.8888888888888888,\"#fdca26\"],[1.0,\"#f0f921\"]]},\"colorway\":[\"#636efa\",\"#EF553B\",\"#00cc96\",\"#ab63fa\",\"#FFA15A\",\"#19d3f3\",\"#FF6692\",\"#B6E880\",\"#FF97FF\",\"#FECB52\"],\"font\":{\"color\":\"#2a3f5f\"},\"geo\":{\"bgcolor\":\"white\",\"lakecolor\":\"white\",\"landcolor\":\"#E5ECF6\",\"showlakes\":true,\"showland\":true,\"subunitcolor\":\"white\"},\"hoverlabel\":{\"align\":\"left\"},\"hovermode\":\"closest\",\"mapbox\":{\"style\":\"light\"},\"paper_bgcolor\":\"white\",\"plot_bgcolor\":\"#E5ECF6\",\"polar\":{\"angularaxis\":{\"gridcolor\":\"white\",\"linecolor\":\"white\",\"ticks\":\"\"},\"bgcolor\":\"#E5ECF6\",\"radialaxis\":{\"gridcolor\":\"white\",\"linecolor\":\"white\",\"ticks\":\"\"}},\"scene\":{\"xaxis\":{\"backgroundcolor\":\"#E5ECF6\",\"gridcolor\":\"white\",\"gridwidth\":2,\"linecolor\":\"white\",\"showbackground\":true,\"ticks\":\"\",\"zerolinecolor\":\"white\"},\"yaxis\":{\"backgroundcolor\":\"#E5ECF6\",\"gridcolor\":\"white\",\"gridwidth\":2,\"linecolor\":\"white\",\"showbackground\":true,\"ticks\":\"\",\"zerolinecolor\":\"white\"},\"zaxis\":{\"backgroundcolor\":\"#E5ECF6\",\"gridcolor\":\"white\",\"gridwidth\":2,\"linecolor\":\"white\",\"showbackground\":true,\"ticks\":\"\",\"zerolinecolor\":\"white\"}},\"shapedefaults\":{\"line\":{\"color\":\"#2a3f5f\"}},\"ternary\":{\"aaxis\":{\"gridcolor\":\"white\",\"linecolor\":\"white\",\"ticks\":\"\"},\"baxis\":{\"gridcolor\":\"white\",\"linecolor\":\"white\",\"ticks\":\"\"},\"bgcolor\":\"#E5ECF6\",\"caxis\":{\"gridcolor\":\"white\",\"linecolor\":\"white\",\"ticks\":\"\"}},\"title\":{\"x\":0.05},\"xaxis\":{\"automargin\":true,\"gridcolor\":\"white\",\"linecolor\":\"white\",\"ticks\":\"\",\"title\":{\"standoff\":15},\"zerolinecolor\":\"white\",\"zerolinewidth\":2},\"yaxis\":{\"automargin\":true,\"gridcolor\":\"white\",\"linecolor\":\"white\",\"ticks\":\"\",\"title\":{\"standoff\":15},\"zerolinecolor\":\"white\",\"zerolinewidth\":2}}},\"xaxis\":{\"showgrid\":false,\"showticklabels\":false},\"yaxis\":{\"showgrid\":false,\"showticklabels\":false}},                        {\"responsive\": true}                    ).then(function(){\n",
       "                            \n",
       "var gd = document.getElementById('88b9547e-ed7e-4ac1-a7eb-5ee87c822986');\n",
       "var x = new MutationObserver(function (mutations, observer) {{\n",
       "        var display = window.getComputedStyle(gd).display;\n",
       "        if (!display || display === 'none') {{\n",
       "            console.log([gd, 'removed!']);\n",
       "            Plotly.purge(gd);\n",
       "            observer.disconnect();\n",
       "        }}\n",
       "}});\n",
       "\n",
       "// Listen for the removal of the full notebook cells\n",
       "var notebookContainer = gd.closest('#notebook-container');\n",
       "if (notebookContainer) {{\n",
       "    x.observe(notebookContainer, {childList: true});\n",
       "}}\n",
       "\n",
       "// Listen for the clearing of the current output cell\n",
       "var outputEl = gd.closest('.output');\n",
       "if (outputEl) {{\n",
       "    x.observe(outputEl, {childList: true});\n",
       "}}\n",
       "\n",
       "                        })                };                });            </script>        </div>"
      ]
     },
     "metadata": {},
     "output_type": "display_data"
    }
   ],
   "source": [
    "fig=go.Figure()\n",
    "fig.add_trace(\n",
    "    go.Scatter(\n",
    "        x=df_[df_.country == country1].year,\n",
    "        y=df_[df_.country == country1].lifeExp,\n",
    "        text=df_[df_.country == country1].lifeExp,\n",
    "        name = country1,\n",
    "        mode = 'lines+text',\n",
    "        textposition='bottom right'\n",
    "    )\n",
    ")\n",
    "fig.add_trace(\n",
    "    go.Scatter(\n",
    "        x=df_[df_.country == country2].year,\n",
    "        y=df_[df_.country == country2].lifeExp,\n",
    "        text=df_[df_.country == country2].lifeExp,\n",
    "        name=country2,\n",
    "        mode='lines+text',\n",
    "        textposition='bottom right',\n",
    "        line= dict(\n",
    "            color='sienna',\n",
    "            width=5\n",
    "        )\n",
    "    )\n",
    ")\n",
    "\n",
    "fig.update_layout(margin=dict(l=5, r=5, t=10, b=5),\n",
    "                  showlegend=False,\n",
    "                  plot_bgcolor='darkgray',\n",
    "                  xaxis=dict(showticklabels=False,showgrid=False),\n",
    "                  yaxis=dict(showticklabels=False,showgrid=False)                  \n",
    "                 )\n",
    "fig.update_traces(textposition='top left', texttemplate='%{text:.3s}')\n",
    "fig.show()"
   ]
  },
  {
   "cell_type": "code",
   "execution_count": null,
   "id": "fc6ae539",
   "metadata": {},
   "outputs": [],
   "source": []
  },
  {
   "cell_type": "code",
   "execution_count": null,
   "id": "85b5023e",
   "metadata": {},
   "outputs": [],
   "source": [
    "# https://plotly.com/python/heatmaps/#heatmap-with-datetime-axis"
   ]
  },
  {
   "cell_type": "code",
   "execution_count": 133,
   "id": "d45e40b5",
   "metadata": {},
   "outputs": [
    {
     "data": {
      "application/vnd.plotly.v1+json": {
       "config": {
        "plotlyServerURL": "https://plot.ly"
       },
       "data": [
        {
         "hoverongaps": false,
         "type": "heatmap",
         "x": [
          "Monday",
          "Tuesday",
          "Wednesday",
          "Thursday",
          "Friday"
         ],
         "y": [
          "Morning",
          "Afternoon",
          "Evening"
         ],
         "z": [
          [
           1,
           null,
           30,
           50,
           1
          ],
          [
           20,
           1,
           60,
           80,
           30
          ],
          [
           30,
           60,
           1,
           -10,
           20
          ]
         ]
        }
       ],
       "layout": {
        "template": {
         "data": {
          "bar": [
           {
            "error_x": {
             "color": "#2a3f5f"
            },
            "error_y": {
             "color": "#2a3f5f"
            },
            "marker": {
             "line": {
              "color": "#E5ECF6",
              "width": 0.5
             },
             "pattern": {
              "fillmode": "overlay",
              "size": 10,
              "solidity": 0.2
             }
            },
            "type": "bar"
           }
          ],
          "barpolar": [
           {
            "marker": {
             "line": {
              "color": "#E5ECF6",
              "width": 0.5
             },
             "pattern": {
              "fillmode": "overlay",
              "size": 10,
              "solidity": 0.2
             }
            },
            "type": "barpolar"
           }
          ],
          "carpet": [
           {
            "aaxis": {
             "endlinecolor": "#2a3f5f",
             "gridcolor": "white",
             "linecolor": "white",
             "minorgridcolor": "white",
             "startlinecolor": "#2a3f5f"
            },
            "baxis": {
             "endlinecolor": "#2a3f5f",
             "gridcolor": "white",
             "linecolor": "white",
             "minorgridcolor": "white",
             "startlinecolor": "#2a3f5f"
            },
            "type": "carpet"
           }
          ],
          "choropleth": [
           {
            "colorbar": {
             "outlinewidth": 0,
             "ticks": ""
            },
            "type": "choropleth"
           }
          ],
          "contour": [
           {
            "colorbar": {
             "outlinewidth": 0,
             "ticks": ""
            },
            "colorscale": [
             [
              0,
              "#0d0887"
             ],
             [
              0.1111111111111111,
              "#46039f"
             ],
             [
              0.2222222222222222,
              "#7201a8"
             ],
             [
              0.3333333333333333,
              "#9c179e"
             ],
             [
              0.4444444444444444,
              "#bd3786"
             ],
             [
              0.5555555555555556,
              "#d8576b"
             ],
             [
              0.6666666666666666,
              "#ed7953"
             ],
             [
              0.7777777777777778,
              "#fb9f3a"
             ],
             [
              0.8888888888888888,
              "#fdca26"
             ],
             [
              1,
              "#f0f921"
             ]
            ],
            "type": "contour"
           }
          ],
          "contourcarpet": [
           {
            "colorbar": {
             "outlinewidth": 0,
             "ticks": ""
            },
            "type": "contourcarpet"
           }
          ],
          "heatmap": [
           {
            "colorbar": {
             "outlinewidth": 0,
             "ticks": ""
            },
            "colorscale": [
             [
              0,
              "#0d0887"
             ],
             [
              0.1111111111111111,
              "#46039f"
             ],
             [
              0.2222222222222222,
              "#7201a8"
             ],
             [
              0.3333333333333333,
              "#9c179e"
             ],
             [
              0.4444444444444444,
              "#bd3786"
             ],
             [
              0.5555555555555556,
              "#d8576b"
             ],
             [
              0.6666666666666666,
              "#ed7953"
             ],
             [
              0.7777777777777778,
              "#fb9f3a"
             ],
             [
              0.8888888888888888,
              "#fdca26"
             ],
             [
              1,
              "#f0f921"
             ]
            ],
            "type": "heatmap"
           }
          ],
          "heatmapgl": [
           {
            "colorbar": {
             "outlinewidth": 0,
             "ticks": ""
            },
            "colorscale": [
             [
              0,
              "#0d0887"
             ],
             [
              0.1111111111111111,
              "#46039f"
             ],
             [
              0.2222222222222222,
              "#7201a8"
             ],
             [
              0.3333333333333333,
              "#9c179e"
             ],
             [
              0.4444444444444444,
              "#bd3786"
             ],
             [
              0.5555555555555556,
              "#d8576b"
             ],
             [
              0.6666666666666666,
              "#ed7953"
             ],
             [
              0.7777777777777778,
              "#fb9f3a"
             ],
             [
              0.8888888888888888,
              "#fdca26"
             ],
             [
              1,
              "#f0f921"
             ]
            ],
            "type": "heatmapgl"
           }
          ],
          "histogram": [
           {
            "marker": {
             "pattern": {
              "fillmode": "overlay",
              "size": 10,
              "solidity": 0.2
             }
            },
            "type": "histogram"
           }
          ],
          "histogram2d": [
           {
            "colorbar": {
             "outlinewidth": 0,
             "ticks": ""
            },
            "colorscale": [
             [
              0,
              "#0d0887"
             ],
             [
              0.1111111111111111,
              "#46039f"
             ],
             [
              0.2222222222222222,
              "#7201a8"
             ],
             [
              0.3333333333333333,
              "#9c179e"
             ],
             [
              0.4444444444444444,
              "#bd3786"
             ],
             [
              0.5555555555555556,
              "#d8576b"
             ],
             [
              0.6666666666666666,
              "#ed7953"
             ],
             [
              0.7777777777777778,
              "#fb9f3a"
             ],
             [
              0.8888888888888888,
              "#fdca26"
             ],
             [
              1,
              "#f0f921"
             ]
            ],
            "type": "histogram2d"
           }
          ],
          "histogram2dcontour": [
           {
            "colorbar": {
             "outlinewidth": 0,
             "ticks": ""
            },
            "colorscale": [
             [
              0,
              "#0d0887"
             ],
             [
              0.1111111111111111,
              "#46039f"
             ],
             [
              0.2222222222222222,
              "#7201a8"
             ],
             [
              0.3333333333333333,
              "#9c179e"
             ],
             [
              0.4444444444444444,
              "#bd3786"
             ],
             [
              0.5555555555555556,
              "#d8576b"
             ],
             [
              0.6666666666666666,
              "#ed7953"
             ],
             [
              0.7777777777777778,
              "#fb9f3a"
             ],
             [
              0.8888888888888888,
              "#fdca26"
             ],
             [
              1,
              "#f0f921"
             ]
            ],
            "type": "histogram2dcontour"
           }
          ],
          "mesh3d": [
           {
            "colorbar": {
             "outlinewidth": 0,
             "ticks": ""
            },
            "type": "mesh3d"
           }
          ],
          "parcoords": [
           {
            "line": {
             "colorbar": {
              "outlinewidth": 0,
              "ticks": ""
             }
            },
            "type": "parcoords"
           }
          ],
          "pie": [
           {
            "automargin": true,
            "type": "pie"
           }
          ],
          "scatter": [
           {
            "marker": {
             "colorbar": {
              "outlinewidth": 0,
              "ticks": ""
             }
            },
            "type": "scatter"
           }
          ],
          "scatter3d": [
           {
            "line": {
             "colorbar": {
              "outlinewidth": 0,
              "ticks": ""
             }
            },
            "marker": {
             "colorbar": {
              "outlinewidth": 0,
              "ticks": ""
             }
            },
            "type": "scatter3d"
           }
          ],
          "scattercarpet": [
           {
            "marker": {
             "colorbar": {
              "outlinewidth": 0,
              "ticks": ""
             }
            },
            "type": "scattercarpet"
           }
          ],
          "scattergeo": [
           {
            "marker": {
             "colorbar": {
              "outlinewidth": 0,
              "ticks": ""
             }
            },
            "type": "scattergeo"
           }
          ],
          "scattergl": [
           {
            "marker": {
             "colorbar": {
              "outlinewidth": 0,
              "ticks": ""
             }
            },
            "type": "scattergl"
           }
          ],
          "scattermapbox": [
           {
            "marker": {
             "colorbar": {
              "outlinewidth": 0,
              "ticks": ""
             }
            },
            "type": "scattermapbox"
           }
          ],
          "scatterpolar": [
           {
            "marker": {
             "colorbar": {
              "outlinewidth": 0,
              "ticks": ""
             }
            },
            "type": "scatterpolar"
           }
          ],
          "scatterpolargl": [
           {
            "marker": {
             "colorbar": {
              "outlinewidth": 0,
              "ticks": ""
             }
            },
            "type": "scatterpolargl"
           }
          ],
          "scatterternary": [
           {
            "marker": {
             "colorbar": {
              "outlinewidth": 0,
              "ticks": ""
             }
            },
            "type": "scatterternary"
           }
          ],
          "surface": [
           {
            "colorbar": {
             "outlinewidth": 0,
             "ticks": ""
            },
            "colorscale": [
             [
              0,
              "#0d0887"
             ],
             [
              0.1111111111111111,
              "#46039f"
             ],
             [
              0.2222222222222222,
              "#7201a8"
             ],
             [
              0.3333333333333333,
              "#9c179e"
             ],
             [
              0.4444444444444444,
              "#bd3786"
             ],
             [
              0.5555555555555556,
              "#d8576b"
             ],
             [
              0.6666666666666666,
              "#ed7953"
             ],
             [
              0.7777777777777778,
              "#fb9f3a"
             ],
             [
              0.8888888888888888,
              "#fdca26"
             ],
             [
              1,
              "#f0f921"
             ]
            ],
            "type": "surface"
           }
          ],
          "table": [
           {
            "cells": {
             "fill": {
              "color": "#EBF0F8"
             },
             "line": {
              "color": "white"
             }
            },
            "header": {
             "fill": {
              "color": "#C8D4E3"
             },
             "line": {
              "color": "white"
             }
            },
            "type": "table"
           }
          ]
         },
         "layout": {
          "annotationdefaults": {
           "arrowcolor": "#2a3f5f",
           "arrowhead": 0,
           "arrowwidth": 1
          },
          "autotypenumbers": "strict",
          "coloraxis": {
           "colorbar": {
            "outlinewidth": 0,
            "ticks": ""
           }
          },
          "colorscale": {
           "diverging": [
            [
             0,
             "#8e0152"
            ],
            [
             0.1,
             "#c51b7d"
            ],
            [
             0.2,
             "#de77ae"
            ],
            [
             0.3,
             "#f1b6da"
            ],
            [
             0.4,
             "#fde0ef"
            ],
            [
             0.5,
             "#f7f7f7"
            ],
            [
             0.6,
             "#e6f5d0"
            ],
            [
             0.7,
             "#b8e186"
            ],
            [
             0.8,
             "#7fbc41"
            ],
            [
             0.9,
             "#4d9221"
            ],
            [
             1,
             "#276419"
            ]
           ],
           "sequential": [
            [
             0,
             "#0d0887"
            ],
            [
             0.1111111111111111,
             "#46039f"
            ],
            [
             0.2222222222222222,
             "#7201a8"
            ],
            [
             0.3333333333333333,
             "#9c179e"
            ],
            [
             0.4444444444444444,
             "#bd3786"
            ],
            [
             0.5555555555555556,
             "#d8576b"
            ],
            [
             0.6666666666666666,
             "#ed7953"
            ],
            [
             0.7777777777777778,
             "#fb9f3a"
            ],
            [
             0.8888888888888888,
             "#fdca26"
            ],
            [
             1,
             "#f0f921"
            ]
           ],
           "sequentialminus": [
            [
             0,
             "#0d0887"
            ],
            [
             0.1111111111111111,
             "#46039f"
            ],
            [
             0.2222222222222222,
             "#7201a8"
            ],
            [
             0.3333333333333333,
             "#9c179e"
            ],
            [
             0.4444444444444444,
             "#bd3786"
            ],
            [
             0.5555555555555556,
             "#d8576b"
            ],
            [
             0.6666666666666666,
             "#ed7953"
            ],
            [
             0.7777777777777778,
             "#fb9f3a"
            ],
            [
             0.8888888888888888,
             "#fdca26"
            ],
            [
             1,
             "#f0f921"
            ]
           ]
          },
          "colorway": [
           "#636efa",
           "#EF553B",
           "#00cc96",
           "#ab63fa",
           "#FFA15A",
           "#19d3f3",
           "#FF6692",
           "#B6E880",
           "#FF97FF",
           "#FECB52"
          ],
          "font": {
           "color": "#2a3f5f"
          },
          "geo": {
           "bgcolor": "white",
           "lakecolor": "white",
           "landcolor": "#E5ECF6",
           "showlakes": true,
           "showland": true,
           "subunitcolor": "white"
          },
          "hoverlabel": {
           "align": "left"
          },
          "hovermode": "closest",
          "mapbox": {
           "style": "light"
          },
          "paper_bgcolor": "white",
          "plot_bgcolor": "#E5ECF6",
          "polar": {
           "angularaxis": {
            "gridcolor": "white",
            "linecolor": "white",
            "ticks": ""
           },
           "bgcolor": "#E5ECF6",
           "radialaxis": {
            "gridcolor": "white",
            "linecolor": "white",
            "ticks": ""
           }
          },
          "scene": {
           "xaxis": {
            "backgroundcolor": "#E5ECF6",
            "gridcolor": "white",
            "gridwidth": 2,
            "linecolor": "white",
            "showbackground": true,
            "ticks": "",
            "zerolinecolor": "white"
           },
           "yaxis": {
            "backgroundcolor": "#E5ECF6",
            "gridcolor": "white",
            "gridwidth": 2,
            "linecolor": "white",
            "showbackground": true,
            "ticks": "",
            "zerolinecolor": "white"
           },
           "zaxis": {
            "backgroundcolor": "#E5ECF6",
            "gridcolor": "white",
            "gridwidth": 2,
            "linecolor": "white",
            "showbackground": true,
            "ticks": "",
            "zerolinecolor": "white"
           }
          },
          "shapedefaults": {
           "line": {
            "color": "#2a3f5f"
           }
          },
          "ternary": {
           "aaxis": {
            "gridcolor": "white",
            "linecolor": "white",
            "ticks": ""
           },
           "baxis": {
            "gridcolor": "white",
            "linecolor": "white",
            "ticks": ""
           },
           "bgcolor": "#E5ECF6",
           "caxis": {
            "gridcolor": "white",
            "linecolor": "white",
            "ticks": ""
           }
          },
          "title": {
           "x": 0.05
          },
          "xaxis": {
           "automargin": true,
           "gridcolor": "white",
           "linecolor": "white",
           "ticks": "",
           "title": {
            "standoff": 15
           },
           "zerolinecolor": "white",
           "zerolinewidth": 2
          },
          "yaxis": {
           "automargin": true,
           "gridcolor": "white",
           "linecolor": "white",
           "ticks": "",
           "title": {
            "standoff": 15
           },
           "zerolinecolor": "white",
           "zerolinewidth": 2
          }
         }
        }
       }
      },
      "text/html": [
       "<div>                            <div id=\"59fa08f0-5c09-4fbb-9563-c6a599d28136\" class=\"plotly-graph-div\" style=\"height:525px; width:100%;\"></div>            <script type=\"text/javascript\">                require([\"plotly\"], function(Plotly) {                    window.PLOTLYENV=window.PLOTLYENV || {};                                    if (document.getElementById(\"59fa08f0-5c09-4fbb-9563-c6a599d28136\")) {                    Plotly.newPlot(                        \"59fa08f0-5c09-4fbb-9563-c6a599d28136\",                        [{\"hoverongaps\":false,\"type\":\"heatmap\",\"x\":[\"Monday\",\"Tuesday\",\"Wednesday\",\"Thursday\",\"Friday\"],\"y\":[\"Morning\",\"Afternoon\",\"Evening\"],\"z\":[[1,null,30,50,1],[20,1,60,80,30],[30,60,1,-10,20]]}],                        {\"template\":{\"data\":{\"bar\":[{\"error_x\":{\"color\":\"#2a3f5f\"},\"error_y\":{\"color\":\"#2a3f5f\"},\"marker\":{\"line\":{\"color\":\"#E5ECF6\",\"width\":0.5},\"pattern\":{\"fillmode\":\"overlay\",\"size\":10,\"solidity\":0.2}},\"type\":\"bar\"}],\"barpolar\":[{\"marker\":{\"line\":{\"color\":\"#E5ECF6\",\"width\":0.5},\"pattern\":{\"fillmode\":\"overlay\",\"size\":10,\"solidity\":0.2}},\"type\":\"barpolar\"}],\"carpet\":[{\"aaxis\":{\"endlinecolor\":\"#2a3f5f\",\"gridcolor\":\"white\",\"linecolor\":\"white\",\"minorgridcolor\":\"white\",\"startlinecolor\":\"#2a3f5f\"},\"baxis\":{\"endlinecolor\":\"#2a3f5f\",\"gridcolor\":\"white\",\"linecolor\":\"white\",\"minorgridcolor\":\"white\",\"startlinecolor\":\"#2a3f5f\"},\"type\":\"carpet\"}],\"choropleth\":[{\"colorbar\":{\"outlinewidth\":0,\"ticks\":\"\"},\"type\":\"choropleth\"}],\"contour\":[{\"colorbar\":{\"outlinewidth\":0,\"ticks\":\"\"},\"colorscale\":[[0.0,\"#0d0887\"],[0.1111111111111111,\"#46039f\"],[0.2222222222222222,\"#7201a8\"],[0.3333333333333333,\"#9c179e\"],[0.4444444444444444,\"#bd3786\"],[0.5555555555555556,\"#d8576b\"],[0.6666666666666666,\"#ed7953\"],[0.7777777777777778,\"#fb9f3a\"],[0.8888888888888888,\"#fdca26\"],[1.0,\"#f0f921\"]],\"type\":\"contour\"}],\"contourcarpet\":[{\"colorbar\":{\"outlinewidth\":0,\"ticks\":\"\"},\"type\":\"contourcarpet\"}],\"heatmap\":[{\"colorbar\":{\"outlinewidth\":0,\"ticks\":\"\"},\"colorscale\":[[0.0,\"#0d0887\"],[0.1111111111111111,\"#46039f\"],[0.2222222222222222,\"#7201a8\"],[0.3333333333333333,\"#9c179e\"],[0.4444444444444444,\"#bd3786\"],[0.5555555555555556,\"#d8576b\"],[0.6666666666666666,\"#ed7953\"],[0.7777777777777778,\"#fb9f3a\"],[0.8888888888888888,\"#fdca26\"],[1.0,\"#f0f921\"]],\"type\":\"heatmap\"}],\"heatmapgl\":[{\"colorbar\":{\"outlinewidth\":0,\"ticks\":\"\"},\"colorscale\":[[0.0,\"#0d0887\"],[0.1111111111111111,\"#46039f\"],[0.2222222222222222,\"#7201a8\"],[0.3333333333333333,\"#9c179e\"],[0.4444444444444444,\"#bd3786\"],[0.5555555555555556,\"#d8576b\"],[0.6666666666666666,\"#ed7953\"],[0.7777777777777778,\"#fb9f3a\"],[0.8888888888888888,\"#fdca26\"],[1.0,\"#f0f921\"]],\"type\":\"heatmapgl\"}],\"histogram\":[{\"marker\":{\"pattern\":{\"fillmode\":\"overlay\",\"size\":10,\"solidity\":0.2}},\"type\":\"histogram\"}],\"histogram2d\":[{\"colorbar\":{\"outlinewidth\":0,\"ticks\":\"\"},\"colorscale\":[[0.0,\"#0d0887\"],[0.1111111111111111,\"#46039f\"],[0.2222222222222222,\"#7201a8\"],[0.3333333333333333,\"#9c179e\"],[0.4444444444444444,\"#bd3786\"],[0.5555555555555556,\"#d8576b\"],[0.6666666666666666,\"#ed7953\"],[0.7777777777777778,\"#fb9f3a\"],[0.8888888888888888,\"#fdca26\"],[1.0,\"#f0f921\"]],\"type\":\"histogram2d\"}],\"histogram2dcontour\":[{\"colorbar\":{\"outlinewidth\":0,\"ticks\":\"\"},\"colorscale\":[[0.0,\"#0d0887\"],[0.1111111111111111,\"#46039f\"],[0.2222222222222222,\"#7201a8\"],[0.3333333333333333,\"#9c179e\"],[0.4444444444444444,\"#bd3786\"],[0.5555555555555556,\"#d8576b\"],[0.6666666666666666,\"#ed7953\"],[0.7777777777777778,\"#fb9f3a\"],[0.8888888888888888,\"#fdca26\"],[1.0,\"#f0f921\"]],\"type\":\"histogram2dcontour\"}],\"mesh3d\":[{\"colorbar\":{\"outlinewidth\":0,\"ticks\":\"\"},\"type\":\"mesh3d\"}],\"parcoords\":[{\"line\":{\"colorbar\":{\"outlinewidth\":0,\"ticks\":\"\"}},\"type\":\"parcoords\"}],\"pie\":[{\"automargin\":true,\"type\":\"pie\"}],\"scatter\":[{\"marker\":{\"colorbar\":{\"outlinewidth\":0,\"ticks\":\"\"}},\"type\":\"scatter\"}],\"scatter3d\":[{\"line\":{\"colorbar\":{\"outlinewidth\":0,\"ticks\":\"\"}},\"marker\":{\"colorbar\":{\"outlinewidth\":0,\"ticks\":\"\"}},\"type\":\"scatter3d\"}],\"scattercarpet\":[{\"marker\":{\"colorbar\":{\"outlinewidth\":0,\"ticks\":\"\"}},\"type\":\"scattercarpet\"}],\"scattergeo\":[{\"marker\":{\"colorbar\":{\"outlinewidth\":0,\"ticks\":\"\"}},\"type\":\"scattergeo\"}],\"scattergl\":[{\"marker\":{\"colorbar\":{\"outlinewidth\":0,\"ticks\":\"\"}},\"type\":\"scattergl\"}],\"scattermapbox\":[{\"marker\":{\"colorbar\":{\"outlinewidth\":0,\"ticks\":\"\"}},\"type\":\"scattermapbox\"}],\"scatterpolar\":[{\"marker\":{\"colorbar\":{\"outlinewidth\":0,\"ticks\":\"\"}},\"type\":\"scatterpolar\"}],\"scatterpolargl\":[{\"marker\":{\"colorbar\":{\"outlinewidth\":0,\"ticks\":\"\"}},\"type\":\"scatterpolargl\"}],\"scatterternary\":[{\"marker\":{\"colorbar\":{\"outlinewidth\":0,\"ticks\":\"\"}},\"type\":\"scatterternary\"}],\"surface\":[{\"colorbar\":{\"outlinewidth\":0,\"ticks\":\"\"},\"colorscale\":[[0.0,\"#0d0887\"],[0.1111111111111111,\"#46039f\"],[0.2222222222222222,\"#7201a8\"],[0.3333333333333333,\"#9c179e\"],[0.4444444444444444,\"#bd3786\"],[0.5555555555555556,\"#d8576b\"],[0.6666666666666666,\"#ed7953\"],[0.7777777777777778,\"#fb9f3a\"],[0.8888888888888888,\"#fdca26\"],[1.0,\"#f0f921\"]],\"type\":\"surface\"}],\"table\":[{\"cells\":{\"fill\":{\"color\":\"#EBF0F8\"},\"line\":{\"color\":\"white\"}},\"header\":{\"fill\":{\"color\":\"#C8D4E3\"},\"line\":{\"color\":\"white\"}},\"type\":\"table\"}]},\"layout\":{\"annotationdefaults\":{\"arrowcolor\":\"#2a3f5f\",\"arrowhead\":0,\"arrowwidth\":1},\"autotypenumbers\":\"strict\",\"coloraxis\":{\"colorbar\":{\"outlinewidth\":0,\"ticks\":\"\"}},\"colorscale\":{\"diverging\":[[0,\"#8e0152\"],[0.1,\"#c51b7d\"],[0.2,\"#de77ae\"],[0.3,\"#f1b6da\"],[0.4,\"#fde0ef\"],[0.5,\"#f7f7f7\"],[0.6,\"#e6f5d0\"],[0.7,\"#b8e186\"],[0.8,\"#7fbc41\"],[0.9,\"#4d9221\"],[1,\"#276419\"]],\"sequential\":[[0.0,\"#0d0887\"],[0.1111111111111111,\"#46039f\"],[0.2222222222222222,\"#7201a8\"],[0.3333333333333333,\"#9c179e\"],[0.4444444444444444,\"#bd3786\"],[0.5555555555555556,\"#d8576b\"],[0.6666666666666666,\"#ed7953\"],[0.7777777777777778,\"#fb9f3a\"],[0.8888888888888888,\"#fdca26\"],[1.0,\"#f0f921\"]],\"sequentialminus\":[[0.0,\"#0d0887\"],[0.1111111111111111,\"#46039f\"],[0.2222222222222222,\"#7201a8\"],[0.3333333333333333,\"#9c179e\"],[0.4444444444444444,\"#bd3786\"],[0.5555555555555556,\"#d8576b\"],[0.6666666666666666,\"#ed7953\"],[0.7777777777777778,\"#fb9f3a\"],[0.8888888888888888,\"#fdca26\"],[1.0,\"#f0f921\"]]},\"colorway\":[\"#636efa\",\"#EF553B\",\"#00cc96\",\"#ab63fa\",\"#FFA15A\",\"#19d3f3\",\"#FF6692\",\"#B6E880\",\"#FF97FF\",\"#FECB52\"],\"font\":{\"color\":\"#2a3f5f\"},\"geo\":{\"bgcolor\":\"white\",\"lakecolor\":\"white\",\"landcolor\":\"#E5ECF6\",\"showlakes\":true,\"showland\":true,\"subunitcolor\":\"white\"},\"hoverlabel\":{\"align\":\"left\"},\"hovermode\":\"closest\",\"mapbox\":{\"style\":\"light\"},\"paper_bgcolor\":\"white\",\"plot_bgcolor\":\"#E5ECF6\",\"polar\":{\"angularaxis\":{\"gridcolor\":\"white\",\"linecolor\":\"white\",\"ticks\":\"\"},\"bgcolor\":\"#E5ECF6\",\"radialaxis\":{\"gridcolor\":\"white\",\"linecolor\":\"white\",\"ticks\":\"\"}},\"scene\":{\"xaxis\":{\"backgroundcolor\":\"#E5ECF6\",\"gridcolor\":\"white\",\"gridwidth\":2,\"linecolor\":\"white\",\"showbackground\":true,\"ticks\":\"\",\"zerolinecolor\":\"white\"},\"yaxis\":{\"backgroundcolor\":\"#E5ECF6\",\"gridcolor\":\"white\",\"gridwidth\":2,\"linecolor\":\"white\",\"showbackground\":true,\"ticks\":\"\",\"zerolinecolor\":\"white\"},\"zaxis\":{\"backgroundcolor\":\"#E5ECF6\",\"gridcolor\":\"white\",\"gridwidth\":2,\"linecolor\":\"white\",\"showbackground\":true,\"ticks\":\"\",\"zerolinecolor\":\"white\"}},\"shapedefaults\":{\"line\":{\"color\":\"#2a3f5f\"}},\"ternary\":{\"aaxis\":{\"gridcolor\":\"white\",\"linecolor\":\"white\",\"ticks\":\"\"},\"baxis\":{\"gridcolor\":\"white\",\"linecolor\":\"white\",\"ticks\":\"\"},\"bgcolor\":\"#E5ECF6\",\"caxis\":{\"gridcolor\":\"white\",\"linecolor\":\"white\",\"ticks\":\"\"}},\"title\":{\"x\":0.05},\"xaxis\":{\"automargin\":true,\"gridcolor\":\"white\",\"linecolor\":\"white\",\"ticks\":\"\",\"title\":{\"standoff\":15},\"zerolinecolor\":\"white\",\"zerolinewidth\":2},\"yaxis\":{\"automargin\":true,\"gridcolor\":\"white\",\"linecolor\":\"white\",\"ticks\":\"\",\"title\":{\"standoff\":15},\"zerolinecolor\":\"white\",\"zerolinewidth\":2}}}},                        {\"responsive\": true}                    ).then(function(){\n",
       "                            \n",
       "var gd = document.getElementById('59fa08f0-5c09-4fbb-9563-c6a599d28136');\n",
       "var x = new MutationObserver(function (mutations, observer) {{\n",
       "        var display = window.getComputedStyle(gd).display;\n",
       "        if (!display || display === 'none') {{\n",
       "            console.log([gd, 'removed!']);\n",
       "            Plotly.purge(gd);\n",
       "            observer.disconnect();\n",
       "        }}\n",
       "}});\n",
       "\n",
       "// Listen for the removal of the full notebook cells\n",
       "var notebookContainer = gd.closest('#notebook-container');\n",
       "if (notebookContainer) {{\n",
       "    x.observe(notebookContainer, {childList: true});\n",
       "}}\n",
       "\n",
       "// Listen for the clearing of the current output cell\n",
       "var outputEl = gd.closest('.output');\n",
       "if (outputEl) {{\n",
       "    x.observe(outputEl, {childList: true});\n",
       "}}\n",
       "\n",
       "                        })                };                });            </script>        </div>"
      ]
     },
     "metadata": {},
     "output_type": "display_data"
    }
   ],
   "source": [
    "fig = go.Figure(data=go.Heatmap(\n",
    "                   z=[[1, None, 30, 50, 1], [20, 1, 60, 80, 30], [30, 60, 1, -10, 20]],\n",
    "                   x=['Monday', 'Tuesday', 'Wednesday', 'Thursday', 'Friday'],\n",
    "                   y=['Morning', 'Afternoon', 'Evening'],\n",
    "                   hoverongaps = False))\n",
    "fig.show()"
   ]
  },
  {
   "cell_type": "code",
   "execution_count": null,
   "id": "1c24f1be",
   "metadata": {},
   "outputs": [],
   "source": []
  },
  {
   "cell_type": "code",
   "execution_count": null,
   "id": "5aadb28a",
   "metadata": {},
   "outputs": [],
   "source": []
  },
  {
   "cell_type": "code",
   "execution_count": null,
   "id": "b06bf25e",
   "metadata": {},
   "outputs": [],
   "source": []
  },
  {
   "cell_type": "code",
   "execution_count": null,
   "id": "8ac0f02d",
   "metadata": {},
   "outputs": [],
   "source": []
  }
 ],
 "metadata": {
  "kernelspec": {
   "display_name": "base",
   "language": "python",
   "name": "python3"
  },
  "language_info": {
   "codemirror_mode": {
    "name": "ipython",
    "version": 3
   },
   "file_extension": ".py",
   "mimetype": "text/x-python",
   "name": "python",
   "nbconvert_exporter": "python",
   "pygments_lexer": "ipython3",
   "version": "3.12.7"
  }
 },
 "nbformat": 4,
 "nbformat_minor": 5
}
