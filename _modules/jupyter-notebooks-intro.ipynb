{
 "cells": [
  {
   "cell_type": "markdown",
   "metadata": {},
   "source": [
    "### Getting Started With Jupyter Notebooks"
   ]
  },
  {
   "cell_type": "markdown",
   "metadata": {},
   "source": [
    "We're going to be using Jupyter Notebooks to write and run Python code. Jupyter notebooks are made up of cells - a chunk of text or code, kind of like a paragraph. There are a few different types of cells: Markdown vs. Code. This particular cell is an example of a **Markdown** cell. It's like writing normal text, but I can tweak things a little bit like writing in bold or italics or inserting hyperlinks.\n",
    "\n",
    "In Python, you run/execute a **code** cell using Shift-Enter or by pressing the Run button in the toolbar. Make sure your cursor is inside the following code cell by clicking inside it, and then try running the code cell:"
   ]
  },
  {
   "cell_type": "code",
   "execution_count": null,
   "metadata": {},
   "outputs": [],
   "source": [
    "print(\"Welcome to HIST 4261/5261!\")"
   ]
  },
  {
   "cell_type": "markdown",
   "metadata": {},
   "source": [
    "The above code uses the ```print``` function to print out whatever is inside the parentheses. With a lot of programming languages, print doesn’t mean “print something on paper”; it means “show me this on the screen.”\n",
    "Try writing code in the next empty cell that, when you run it, **will print your full name.**"
   ]
  },
  {
   "cell_type": "code",
   "execution_count": null,
   "metadata": {},
   "outputs": [],
   "source": [
    "#This is a \"comment\" - when you start a line inside a code cell with a #, it tells Python to ignore it.\n",
    "#This is way to annotate or explain your code to a reader. It's kind of like a footnote. Kind of.\n",
    "#Write your code to print your name on the line below this one, then run the cell to see the output.\n"
   ]
  },
  {
   "cell_type": "markdown",
   "metadata": {},
   "source": [
    "Compared to the above cell, this is a markdown cell. Insert a new **Markdown cell** below this one and then try to write the following using Markdown syntax. Run the cell as you go to see if it is rendering properly.\n",
    "\n",
    "- Write your name and make it bold.\n",
    "- Write the title of this class and turn it into a hyperlink to the course website.\n"
   ]
  },
  {
   "cell_type": "markdown",
   "metadata": {},
   "source": [
    "----"
   ]
  },
  {
   "cell_type": "markdown",
   "metadata": {},
   "source": [
    "### Adapting Existing Code"
   ]
  },
  {
   "cell_type": "markdown",
   "metadata": {},
   "source": [
    "One of the secrets of coding is that a lot of it involves taking code that other people have already written and adapting it for your own use. Might as well start early! Go to this page: <https://python.omics.wiki/www/download-webpage>. This is giving you example snippets of Python code that help you work with websites. For today, don't worry about understanding what each word means. Instead, copy the first four lines of code under # Python3 and paste it into a **new code cell** that you insert below this one. Try running the code and see if it works"
   ]
  },
  {
   "cell_type": "markdown",
   "metadata": {},
   "source": [
    "These lines of code are accessing and reading a website: `http://www.example.org/`. Try to change the code in the above cell to point it towards a different website: <https://cblevins.github.io/f21-data/in-class/command-line/>."
   ]
  },
  {
   "cell_type": "markdown",
   "metadata": {},
   "source": [
    "----"
   ]
  },
  {
   "cell_type": "markdown",
   "metadata": {},
   "source": [
    "Another chunk of code on <https://python.omics.wiki/www/download-webpage> allows you to download a webpage directly to your computer (similar to the `curl` command on the command line). Copy and paste the two lines of code under # save as local file 'webpage.html' into a new code cell below this one and try runnning it - once again changing the code to point towards <https://cblevins.github.io/f21-data/in-class/command-line/>. "
   ]
  },
  {
   "cell_type": "markdown",
   "metadata": {},
   "source": [
    "-----"
   ]
  },
  {
   "cell_type": "markdown",
   "metadata": {},
   "source": [
    "If you did so successfully, you should have a new file in this folder called `webpage.html`. In the left panel in Jupyter Lab, right click on the file -> Open With -> Editor. You can now see what a \"raw\" HTML file looks like for a webpage. Compare this to what the \"rendered\" page looks like: https://cblevins.github.io/f21-data/in-class/command-line/. As a class we will go through the HTML file together to understand the basic tag system used by webpages."
   ]
  },
  {
   "cell_type": "markdown",
   "metadata": {},
   "source": [
    "----"
   ]
  },
  {
   "cell_type": "markdown",
   "metadata": {},
   "source": [
    "One more example. Go back to <https://python.omics.wiki/www/download-webpage> and copy and paste the four lines of code under # extract webpage title into a new code cell and run the cell. "
   ]
  },
  {
   "cell_type": "markdown",
   "metadata": {},
   "source": [
    "----"
   ]
  },
  {
   "cell_type": "markdown",
   "metadata": {},
   "source": [
    "Go back and look at the \"raw\" file you downloaded (webpage.html) in Jupyter Lab. Then use Edit -> Find to look for the `<title>` tag. Can you try and figure out how to alter the code so that instead of printing the page title - `The Command Line – Data: A User Manual – University of Colorado Denver, Fall 2021` - it prints out anything that is part of a bulleted list? You might need to compare the HTML file to the [rendered webpage](https://cblevins.github.io/f21-data/in-class/command-line/)."
   ]
  },
  {
   "cell_type": "markdown",
   "metadata": {},
   "source": [
    "----"
   ]
  },
  {
   "cell_type": "markdown",
   "metadata": {},
   "source": [
    "----"
   ]
  },
  {
   "cell_type": "markdown",
   "metadata": {},
   "source": [
    "Answers below if you get stuck..."
   ]
  },
  {
   "cell_type": "code",
   "execution_count": null,
   "metadata": {
    "tags": []
   },
   "outputs": [],
   "source": [
    "import urllib.request\n",
    "fid=urllib.request.urlopen('https://cblevins.github.io/f21-data/in-class/command-line/')\n",
    "webpage=fid.read().decode('utf-8')\n",
    "print(webpage)"
   ]
  },
  {
   "cell_type": "code",
   "execution_count": null,
   "metadata": {},
   "outputs": [],
   "source": [
    "import urllib.request\n",
    "urllib.request.urlretrieve('https://cblevins.github.io/f21-data/in-class/command-line/', 'webpage.html')"
   ]
  },
  {
   "cell_type": "code",
   "execution_count": null,
   "metadata": {},
   "outputs": [],
   "source": [
    "for line in webpage.split('\\n'):\n",
    "    if '<li>' in line:\n",
    "        pagetitle=line.split('<li>')[1].split('</li>')[0]\n",
    "        print(pagetitle)"
   ]
  },
  {
   "cell_type": "markdown",
   "metadata": {},
   "source": [
    "-----"
   ]
  },
  {
   "cell_type": "markdown",
   "metadata": {},
   "source": [
    "### Submitting Jupyter Notebooks as Coding Homeworks"
   ]
  },
  {
   "cell_type": "markdown",
   "metadata": {},
   "source": [
    "Once you've finished, we're going to pretend this is one of your coding homeworks and go through the process of submitting it to Canvas. Follow [the instructions](https://cblevins.github.io/f21-data/assignments/coding-homework/) I've made for submitting homework and then submit your files to: <https://ucdenver.instructure.com/courses/474404/assignments/1177300>. Note: use the naming convention `sample-hw-yourlastname.ipynb` & `sample-hw-yourlastname.html`. This will help us troubleshoot the pipeline for submitting to Canvas and make sure that this pipeline also works on my end."
   ]
  },
  {
   "cell_type": "code",
   "execution_count": null,
   "metadata": {},
   "outputs": [],
   "source": []
  }
 ],
 "metadata": {
  "kernelspec": {
   "display_name": "Python 3",
   "language": "python",
   "name": "python3"
  },
  "language_info": {
   "codemirror_mode": {
    "name": "ipython",
    "version": 3
   },
   "file_extension": ".py",
   "mimetype": "text/x-python",
   "name": "python",
   "nbconvert_exporter": "python",
   "pygments_lexer": "ipython3",
   "version": "3.8.8"
  }
 },
 "nbformat": 4,
 "nbformat_minor": 4
}
